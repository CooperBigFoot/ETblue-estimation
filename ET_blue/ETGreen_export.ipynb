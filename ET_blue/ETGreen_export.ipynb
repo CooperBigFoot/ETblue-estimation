{
 "cells": [
  {
   "cell_type": "code",
   "execution_count": 1,
   "metadata": {},
   "outputs": [],
   "source": [
    "import sys\n",
    "import os\n",
    "\n",
    "sys.path.append(os.path.abspath(os.path.join(\"..\")))"
   ]
  },
  {
   "cell_type": "code",
   "execution_count": 2,
   "metadata": {},
   "outputs": [],
   "source": [
    "sys.setrecursionlimit(5000)"
   ]
  },
  {
   "cell_type": "code",
   "execution_count": 3,
   "metadata": {},
   "outputs": [],
   "source": [
    "from filter_nutzungsflaechen import (\n",
    "    get_crops_to_exclude,\n",
    "    get_rainfed_reference_crops,\n",
    "    create_crop_filters,\n",
    "    filter_crops,\n",
    "    add_double_cropping_info,\n",
    "    get_unique_nutzung,\n",
    ")\n",
    "\n",
    "from compute_ET_green import compute_et_green, calculate_band_std_dev\n",
    "\n",
    "from utils.ee_utils import (\n",
    "    back_to_float,\n",
    "    back_to_int,\n",
    "    export_image_to_asset,\n",
    "    print_value_ranges,\n",
    ")\n",
    "from utils import date_utils, ee_utils\n",
    "\n",
    "from typing import List, Tuple\n",
    "\n",
    "import ee\n",
    "import geemap"
   ]
  },
  {
   "cell_type": "code",
   "execution_count": 4,
   "metadata": {},
   "outputs": [
    {
     "data": {
      "text/html": [
       "\n",
       "            <style>\n",
       "                .geemap-dark {\n",
       "                    --jp-widgets-color: white;\n",
       "                    --jp-widgets-label-color: white;\n",
       "                    --jp-ui-font-color1: white;\n",
       "                    --jp-layout-color2: #454545;\n",
       "                    background-color: #383838;\n",
       "                }\n",
       "\n",
       "                .geemap-dark .jupyter-button {\n",
       "                    --jp-layout-color3: #383838;\n",
       "                }\n",
       "\n",
       "                .geemap-colab {\n",
       "                    background-color: var(--colab-primary-surface-color, white);\n",
       "                }\n",
       "\n",
       "                .geemap-colab .jupyter-button {\n",
       "                    --jp-layout-color3: var(--colab-primary-surface-color, white);\n",
       "                }\n",
       "            </style>\n",
       "            "
      ],
      "text/plain": [
       "<IPython.core.display.HTML object>"
      ]
     },
     "metadata": {},
     "output_type": "display_data"
    }
   ],
   "source": [
    "ee.Initialize(project=\"thurgau-irrigation\")"
   ]
  },
  {
   "cell_type": "markdown",
   "metadata": {},
   "source": [
    "## Compute and export ET Green\n"
   ]
  },
  {
   "cell_type": "code",
   "execution_count": 5,
   "metadata": {},
   "outputs": [
    {
     "data": {
      "text/html": [
       "\n",
       "            <style>\n",
       "                .geemap-dark {\n",
       "                    --jp-widgets-color: white;\n",
       "                    --jp-widgets-label-color: white;\n",
       "                    --jp-ui-font-color1: white;\n",
       "                    --jp-layout-color2: #454545;\n",
       "                    background-color: #383838;\n",
       "                }\n",
       "\n",
       "                .geemap-dark .jupyter-button {\n",
       "                    --jp-layout-color3: #383838;\n",
       "                }\n",
       "\n",
       "                .geemap-colab {\n",
       "                    background-color: var(--colab-primary-surface-color, white);\n",
       "                }\n",
       "\n",
       "                .geemap-colab .jupyter-button {\n",
       "                    --jp-layout-color3: var(--colab-primary-surface-color, white);\n",
       "                }\n",
       "            </style>\n",
       "            "
      ],
      "text/plain": [
       "<IPython.core.display.HTML object>"
      ]
     },
     "metadata": {},
     "output_type": "display_data"
    }
   ],
   "source": [
    "TIME_STEPS = 12\n",
    "TIME_STEP_TYPE = \"monthly\"\n",
    "YEARS = range(2022, 2023)"
   ]
  },
  {
   "cell_type": "code",
   "execution_count": 6,
   "metadata": {},
   "outputs": [
    {
     "data": {
      "text/html": [
       "\n",
       "            <style>\n",
       "                .geemap-dark {\n",
       "                    --jp-widgets-color: white;\n",
       "                    --jp-widgets-label-color: white;\n",
       "                    --jp-ui-font-color1: white;\n",
       "                    --jp-layout-color2: #454545;\n",
       "                    background-color: #383838;\n",
       "                }\n",
       "\n",
       "                .geemap-dark .jupyter-button {\n",
       "                    --jp-layout-color3: #383838;\n",
       "                }\n",
       "\n",
       "                .geemap-colab {\n",
       "                    background-color: var(--colab-primary-surface-color, white);\n",
       "                }\n",
       "\n",
       "                .geemap-colab .jupyter-button {\n",
       "                    --jp-layout-color3: var(--colab-primary-surface-color, white);\n",
       "                }\n",
       "            </style>\n",
       "            "
      ],
      "text/plain": [
       "<IPython.core.display.HTML object>"
      ]
     },
     "metadata": {},
     "output_type": "display_data"
    }
   ],
   "source": [
    "DOUBLE_CROPPING_IMAGE = ee.Image(\n",
    "    \"projects/thurgau-irrigation/assets/Zuerich/crop_vegetation_period_zh_2022\"\n",
    ")"
   ]
  },
  {
   "cell_type": "code",
   "execution_count": 7,
   "metadata": {},
   "outputs": [
    {
     "data": {
      "text/html": [
       "\n",
       "            <style>\n",
       "                .geemap-dark {\n",
       "                    --jp-widgets-color: white;\n",
       "                    --jp-widgets-label-color: white;\n",
       "                    --jp-ui-font-color1: white;\n",
       "                    --jp-layout-color2: #454545;\n",
       "                    background-color: #383838;\n",
       "                }\n",
       "\n",
       "                .geemap-dark .jupyter-button {\n",
       "                    --jp-layout-color3: #383838;\n",
       "                }\n",
       "\n",
       "                .geemap-colab {\n",
       "                    background-color: var(--colab-primary-surface-color, white);\n",
       "                }\n",
       "\n",
       "                .geemap-colab .jupyter-button {\n",
       "                    --jp-layout-color3: var(--colab-primary-surface-color, white);\n",
       "                }\n",
       "            </style>\n",
       "            "
      ],
      "text/plain": [
       "<IPython.core.display.HTML object>"
      ]
     },
     "metadata": {},
     "output_type": "display_data"
    },
    {
     "name": "stdout",
     "output_type": "stream",
     "text": [
      "Dates of images in the collection:\n",
      "2022-01-01\n",
      "2022-02-01\n",
      "2022-03-01\n",
      "2022-04-01\n",
      "2022-05-01\n",
      "2022-06-01\n",
      "2022-07-01\n",
      "2022-08-01\n",
      "2022-09-01\n",
      "2022-10-01\n",
      "2022-11-01\n",
      "2022-12-01\n",
      "Image 1: Min = -8849.86, Max = 44657.47\n",
      "Image 2: Min = -182.27, Max = 230.55\n",
      "Image 3: Min = -539.40, Max = 430.08\n",
      "Image 4: Min = -228.12, Max = 336.65\n",
      "Image 5: Min = -316.47, Max = 710.06\n",
      "Image 6: Min = -2295.27, Max = 944.03\n",
      "Image 7: Min = -2996.71, Max = 614.55\n",
      "Image 8: Min = -1812.83, Max = 743.15\n",
      "Image 9: Min = -327.99, Max = 518.09\n",
      "Image 10: Min = -27.86, Max = 2990.37\n",
      "Image 11: Min = 0.00, Max = 0.00\n",
      "Image 12: Min = 0.00, Max = 0.00\n"
     ]
    }
   ],
   "source": [
    "# path_to_WaPOR_ET_asset = \"projects/thurgau-irrigation/assets/Thurgau/ET_WaPOR_10m_dekadal_test_refactor\"\n",
    "\n",
    "\n",
    "# ET_COLLECTIONs = ee_utils.merge_collections(\n",
    "#     years=YEARS, asset_name=path_to_WaPOR_ET_asset\n",
    "# )\n",
    "\n",
    "# ET_COLLECTION = ee.ImageCollection(\n",
    "#     \"projects/thurgau-irrigation/assets/Zuerich/ET_WaPOR_10m_dekadal_2022\"\n",
    "# ).map(lambda img: back_to_float(img, 100))\n",
    "\n",
    "# ET_COLLECTION = ee.ImageCollection(\n",
    "#     \"projects/thurgau-irrigation/assets/ETlandsatmonthly\"\n",
    "# ).filterDate(\"2022-01-01\", \"2022-12-31\")\n",
    "\n",
    "\n",
    "# # Replace negative pixel values with 0 while retaining image properties\n",
    "# def set_negative_to_zero(img):\n",
    "#     return img.max(0).copyProperties(img, img.propertyNames())\n",
    "\n",
    "# ET_COLLECTION = ET_COLLECTION.map(set_negative_to_zero)\n",
    "# ET_COLLECTION = date_utils.set_to_first_of_month(ET_COLLECTION)\n",
    "\n",
    "# ee_utils.print_value_ranges(ET_COLLECTION, \"ET\")\n",
    "# date_utils.print_collection_dates(ET_COLLECTION)\n",
    "\n",
    "ET_COLLECTION = ee.ImageCollection(\"projects/thurgau-irrigation/assets/Zuerich/Landsat_ET_monthly_downscaled_10m_ZH_2022\").map(lambda img: back_to_float(img, 100))\n",
    "\n",
    "date_utils.print_collection_dates(ET_COLLECTION)\n",
    "ee_utils.print_value_ranges(ET_COLLECTION, \"downscaled\")"
   ]
  },
  {
   "cell_type": "code",
   "execution_count": 8,
   "metadata": {},
   "outputs": [
    {
     "data": {
      "text/html": [
       "\n",
       "            <style>\n",
       "                .geemap-dark {\n",
       "                    --jp-widgets-color: white;\n",
       "                    --jp-widgets-label-color: white;\n",
       "                    --jp-ui-font-color1: white;\n",
       "                    --jp-layout-color2: #454545;\n",
       "                    background-color: #383838;\n",
       "                }\n",
       "\n",
       "                .geemap-dark .jupyter-button {\n",
       "                    --jp-layout-color3: #383838;\n",
       "                }\n",
       "\n",
       "                .geemap-colab {\n",
       "                    background-color: var(--colab-primary-surface-color, white);\n",
       "                }\n",
       "\n",
       "                .geemap-colab .jupyter-button {\n",
       "                    --jp-layout-color3: var(--colab-primary-surface-color, white);\n",
       "                }\n",
       "            </style>\n",
       "            "
      ],
      "text/plain": [
       "<IPython.core.display.HTML object>"
      ]
     },
     "metadata": {},
     "output_type": "display_data"
    },
    {
     "data": {
      "text/plain": [
       "['downscaled']"
      ]
     },
     "execution_count": 8,
     "metadata": {},
     "output_type": "execute_result"
    }
   ],
   "source": [
    "ET_COLLECTION.first().bandNames().getInfo()"
   ]
  },
  {
   "cell_type": "code",
   "execution_count": 9,
   "metadata": {},
   "outputs": [
    {
     "data": {
      "text/html": [
       "\n",
       "            <style>\n",
       "                .geemap-dark {\n",
       "                    --jp-widgets-color: white;\n",
       "                    --jp-widgets-label-color: white;\n",
       "                    --jp-ui-font-color1: white;\n",
       "                    --jp-layout-color2: #454545;\n",
       "                    background-color: #383838;\n",
       "                }\n",
       "\n",
       "                .geemap-dark .jupyter-button {\n",
       "                    --jp-layout-color3: #383838;\n",
       "                }\n",
       "\n",
       "                .geemap-colab {\n",
       "                    background-color: var(--colab-primary-surface-color, white);\n",
       "                }\n",
       "\n",
       "                .geemap-colab .jupyter-button {\n",
       "                    --jp-layout-color3: var(--colab-primary-surface-color, white);\n",
       "                }\n",
       "            </style>\n",
       "            "
      ],
      "text/plain": [
       "<IPython.core.display.HTML object>"
      ]
     },
     "metadata": {},
     "output_type": "display_data"
    }
   ],
   "source": [
    "PATH_TO_AOI = \"projects/thurgau-irrigation/assets/Zuerich/Zuerich_bound\"\n",
    "\n",
    "aoi_feature_collection = ee.FeatureCollection(PATH_TO_AOI)\n",
    "aoi_geometry = aoi_feature_collection.geometry().simplify(500)\n",
    "\n",
    "AOI = aoi_geometry.buffer(100)"
   ]
  },
  {
   "cell_type": "code",
   "execution_count": 10,
   "metadata": {},
   "outputs": [
    {
     "data": {
      "text/html": [
       "\n",
       "            <style>\n",
       "                .geemap-dark {\n",
       "                    --jp-widgets-color: white;\n",
       "                    --jp-widgets-label-color: white;\n",
       "                    --jp-ui-font-color1: white;\n",
       "                    --jp-layout-color2: #454545;\n",
       "                    background-color: #383838;\n",
       "                }\n",
       "\n",
       "                .geemap-dark .jupyter-button {\n",
       "                    --jp-layout-color3: #383838;\n",
       "                }\n",
       "\n",
       "                .geemap-colab {\n",
       "                    background-color: var(--colab-primary-surface-color, white);\n",
       "                }\n",
       "\n",
       "                .geemap-colab .jupyter-button {\n",
       "                    --jp-layout-color3: var(--colab-primary-surface-color, white);\n",
       "                }\n",
       "            </style>\n",
       "            "
      ],
      "text/plain": [
       "<IPython.core.display.HTML object>"
      ]
     },
     "metadata": {},
     "output_type": "display_data"
    }
   ],
   "source": [
    "def process_and_export_et_green(\n",
    "    et_collection_list: ee.List,\n",
    "    year: int,\n",
    "    aoi: ee.Geometry,\n",
    "    time_steps: int = 36,\n",
    "    time_step_type: str = \"dekadal\",\n",
    "    double_cropping_image: ee.Image = None,\n",
    ") -> List[ee.batch.Task]:\n",
    "    \"\"\"\n",
    "    Process and export ET green images for a given year.\n",
    "\n",
    "    Args:\n",
    "        et_collection (ee.List): List of ET images\n",
    "        year (int): Year to process\n",
    "        aoi (ee.Geometry): Area of interest\n",
    "        time_steps (int): Number of time steps (36 for dekadal, 12 for monthly)\n",
    "        time_step_type (str): Type of time step (\"dekadal\" or \"monthly\")\n",
    "        double_cropping_image (ee.Image): Double cropping image\n",
    "\n",
    "    Returns:\n",
    "        List[ee.batch.Task]: List of export tasks\n",
    "    \"\"\"\n",
    "    nutzung_collection = ee.FeatureCollection(\n",
    "        f\"projects/thurgau-irrigation/assets/ZH_Nutzungsflaechen_2/ZH_Nutzungsflaechen_{year}\"\n",
    "    )\n",
    "\n",
    "    # Uncomment this if not working with Zuerich!\n",
    "    nutzung_collection = nutzung_collection.map(\n",
    "        lambda feature: feature.set(\"nutzung\", feature.get(\"NUTZUNG\"))\n",
    "    )\n",
    "\n",
    "    jurisdictions = ee.FeatureCollection(\n",
    "        f\"projects/thurgau-irrigation/assets/Zuerich/zurich_jurisdictions_{year}_wgs84\"\n",
    "    )\n",
    "\n",
    "    double_cropping = ee.Image(double_cropping_image)\n",
    "\n",
    "    # Prepare crop filters\n",
    "    not_irrigated_crops = get_crops_to_exclude()\n",
    "    rainfed_crops = get_rainfed_reference_crops()\n",
    "    exclude_filter, rainfed_filter = create_crop_filters(\n",
    "        not_irrigated_crops, rainfed_crops\n",
    "    )\n",
    "\n",
    "    # Process nutzung collection\n",
    "    nutzung_with_double_crop = add_double_cropping_info(\n",
    "        nutzung_collection, double_cropping\n",
    "    )\n",
    "    _, rainfed_fields = filter_crops(\n",
    "        nutzung_with_double_crop, exclude_filter, rainfed_filter\n",
    "    )\n",
    "\n",
    "    tasks = []\n",
    "    for i in range(time_steps):\n",
    "        # Get time step info\n",
    "        if time_step_type == \"dekadal\":\n",
    "            dekadal = i % 3 + 1\n",
    "            month = i // 3 + 1\n",
    "            time_step_name = f\"{month:02d}_D{dekadal}\"\n",
    "        elif time_step_type == \"monthly\":\n",
    "            month = i + 1\n",
    "            time_step_name = f\"{month:02d}\"\n",
    "        else:\n",
    "            raise ValueError(\"time_step_type must be either 'dekadal' or 'monthly'\")\n",
    "\n",
    "        # Get ET image and compute ET green\n",
    "        et_image = ee.Image(et_collection_list.get(i))\n",
    "        et_green = compute_et_green(\n",
    "            et_image, rainfed_fields, jurisdictions, et_band_name=\"downscaled\"\n",
    "        )\n",
    "\n",
    "        et_green = back_to_int(et_green, 100)\n",
    "\n",
    "        # Export result\n",
    "        task_name = (\n",
    "            f\"ET_green_landsat_10m_jurisdiction_{time_step_type}_ZH_{year}-{time_step_name}\"\n",
    "        )\n",
    "        asset_id = f\"projects/thurgau-irrigation/assets/Zuerich/ET_green_landsat_10m_jurisdiction_{time_step_type}_ZH_2022/{task_name}\"\n",
    "\n",
    "        task = export_image_to_asset(et_green, asset_id, task_name, year, aoi, scale=10)\n",
    "        tasks.append(task)\n",
    "\n",
    "    return tasks"
   ]
  },
  {
   "cell_type": "code",
   "execution_count": 11,
   "metadata": {},
   "outputs": [
    {
     "data": {
      "text/html": [
       "\n",
       "            <style>\n",
       "                .geemap-dark {\n",
       "                    --jp-widgets-color: white;\n",
       "                    --jp-widgets-label-color: white;\n",
       "                    --jp-ui-font-color1: white;\n",
       "                    --jp-layout-color2: #454545;\n",
       "                    background-color: #383838;\n",
       "                }\n",
       "\n",
       "                .geemap-dark .jupyter-button {\n",
       "                    --jp-layout-color3: #383838;\n",
       "                }\n",
       "\n",
       "                .geemap-colab {\n",
       "                    background-color: var(--colab-primary-surface-color, white);\n",
       "                }\n",
       "\n",
       "                .geemap-colab .jupyter-button {\n",
       "                    --jp-layout-color3: var(--colab-primary-surface-color, white);\n",
       "                }\n",
       "            </style>\n",
       "            "
      ],
      "text/plain": [
       "<IPython.core.display.HTML object>"
      ]
     },
     "metadata": {},
     "output_type": "display_data"
    },
    {
     "name": "stdout",
     "output_type": "stream",
     "text": [
      "Exporting ET_green_landsat_10m_jurisdiction_monthly_ZH_2022-01 for 2022 to projects/thurgau-irrigation/assets/Zuerich/ET_green_landsat_10m_jurisdiction_monthly_ZH_2022/ET_green_landsat_10m_jurisdiction_monthly_ZH_2022-01\n",
      "Using projection EPSG:4326 at 10m resolution\n",
      "Exporting ET_green_landsat_10m_jurisdiction_monthly_ZH_2022-02 for 2022 to projects/thurgau-irrigation/assets/Zuerich/ET_green_landsat_10m_jurisdiction_monthly_ZH_2022/ET_green_landsat_10m_jurisdiction_monthly_ZH_2022-02\n",
      "Using projection EPSG:4326 at 10m resolution\n",
      "Exporting ET_green_landsat_10m_jurisdiction_monthly_ZH_2022-03 for 2022 to projects/thurgau-irrigation/assets/Zuerich/ET_green_landsat_10m_jurisdiction_monthly_ZH_2022/ET_green_landsat_10m_jurisdiction_monthly_ZH_2022-03\n",
      "Using projection EPSG:4326 at 10m resolution\n",
      "Exporting ET_green_landsat_10m_jurisdiction_monthly_ZH_2022-04 for 2022 to projects/thurgau-irrigation/assets/Zuerich/ET_green_landsat_10m_jurisdiction_monthly_ZH_2022/ET_green_landsat_10m_jurisdiction_monthly_ZH_2022-04\n",
      "Using projection EPSG:4326 at 10m resolution\n",
      "Exporting ET_green_landsat_10m_jurisdiction_monthly_ZH_2022-05 for 2022 to projects/thurgau-irrigation/assets/Zuerich/ET_green_landsat_10m_jurisdiction_monthly_ZH_2022/ET_green_landsat_10m_jurisdiction_monthly_ZH_2022-05\n",
      "Using projection EPSG:4326 at 10m resolution\n",
      "Exporting ET_green_landsat_10m_jurisdiction_monthly_ZH_2022-06 for 2022 to projects/thurgau-irrigation/assets/Zuerich/ET_green_landsat_10m_jurisdiction_monthly_ZH_2022/ET_green_landsat_10m_jurisdiction_monthly_ZH_2022-06\n",
      "Using projection EPSG:4326 at 10m resolution\n",
      "Exporting ET_green_landsat_10m_jurisdiction_monthly_ZH_2022-07 for 2022 to projects/thurgau-irrigation/assets/Zuerich/ET_green_landsat_10m_jurisdiction_monthly_ZH_2022/ET_green_landsat_10m_jurisdiction_monthly_ZH_2022-07\n",
      "Using projection EPSG:4326 at 10m resolution\n",
      "Exporting ET_green_landsat_10m_jurisdiction_monthly_ZH_2022-08 for 2022 to projects/thurgau-irrigation/assets/Zuerich/ET_green_landsat_10m_jurisdiction_monthly_ZH_2022/ET_green_landsat_10m_jurisdiction_monthly_ZH_2022-08\n",
      "Using projection EPSG:4326 at 10m resolution\n",
      "Exporting ET_green_landsat_10m_jurisdiction_monthly_ZH_2022-09 for 2022 to projects/thurgau-irrigation/assets/Zuerich/ET_green_landsat_10m_jurisdiction_monthly_ZH_2022/ET_green_landsat_10m_jurisdiction_monthly_ZH_2022-09\n",
      "Using projection EPSG:4326 at 10m resolution\n",
      "Exporting ET_green_landsat_10m_jurisdiction_monthly_ZH_2022-10 for 2022 to projects/thurgau-irrigation/assets/Zuerich/ET_green_landsat_10m_jurisdiction_monthly_ZH_2022/ET_green_landsat_10m_jurisdiction_monthly_ZH_2022-10\n",
      "Using projection EPSG:4326 at 10m resolution\n",
      "Exporting ET_green_landsat_10m_jurisdiction_monthly_ZH_2022-11 for 2022 to projects/thurgau-irrigation/assets/Zuerich/ET_green_landsat_10m_jurisdiction_monthly_ZH_2022/ET_green_landsat_10m_jurisdiction_monthly_ZH_2022-11\n",
      "Using projection EPSG:4326 at 10m resolution\n",
      "Exporting ET_green_landsat_10m_jurisdiction_monthly_ZH_2022-12 for 2022 to projects/thurgau-irrigation/assets/Zuerich/ET_green_landsat_10m_jurisdiction_monthly_ZH_2022/ET_green_landsat_10m_jurisdiction_monthly_ZH_2022-12\n",
      "Using projection EPSG:4326 at 10m resolution\n",
      "Started 12 export tasks.\n"
     ]
    }
   ],
   "source": [
    "for year in YEARS:\n",
    "\n",
    "    et_collection_list = ET_COLLECTION.filterDate(\n",
    "        f\"{year}-01-01\", f\"{year}-12-31\"\n",
    "    ).toList(TIME_STEPS)\n",
    "\n",
    "    # DOUBLE_CROPPING_IMAGE = ee.Image(f\"projects/thurgau-irrigation/assets/Thurgau/VegetationPeriod/crop_veg_period_{year}\")\n",
    "\n",
    "    tasks = process_and_export_et_green(\n",
    "        et_collection_list, year, AOI, TIME_STEPS, TIME_STEP_TYPE, DOUBLE_CROPPING_IMAGE\n",
    "    )\n",
    "\n",
    "    print(f\"Started {len(tasks)} export tasks.\")"
   ]
  },
  {
   "cell_type": "code",
   "execution_count": 12,
   "metadata": {},
   "outputs": [
    {
     "data": {
      "text/html": [
       "\n",
       "            <style>\n",
       "                .geemap-dark {\n",
       "                    --jp-widgets-color: white;\n",
       "                    --jp-widgets-label-color: white;\n",
       "                    --jp-ui-font-color1: white;\n",
       "                    --jp-layout-color2: #454545;\n",
       "                    background-color: #383838;\n",
       "                }\n",
       "\n",
       "                .geemap-dark .jupyter-button {\n",
       "                    --jp-layout-color3: #383838;\n",
       "                }\n",
       "\n",
       "                .geemap-colab {\n",
       "                    background-color: var(--colab-primary-surface-color, white);\n",
       "                }\n",
       "\n",
       "                .geemap-colab .jupyter-button {\n",
       "                    --jp-layout-color3: var(--colab-primary-surface-color, white);\n",
       "                }\n",
       "            </style>\n",
       "            "
      ],
      "text/plain": [
       "<IPython.core.display.HTML object>"
      ]
     },
     "metadata": {},
     "output_type": "display_data"
    }
   ],
   "source": [
    "# collection.size().getInfo()\n",
    "\n",
    "# date_utils.print_collection_dates(collection)"
   ]
  },
  {
   "cell_type": "markdown",
   "metadata": {},
   "source": [
    "### Sanity check\n"
   ]
  },
  {
   "cell_type": "markdown",
   "metadata": {},
   "source": [
    "## ET Green"
   ]
  },
  {
   "cell_type": "code",
   "execution_count": 13,
   "metadata": {},
   "outputs": [
    {
     "data": {
      "text/html": [
       "\n",
       "            <style>\n",
       "                .geemap-dark {\n",
       "                    --jp-widgets-color: white;\n",
       "                    --jp-widgets-label-color: white;\n",
       "                    --jp-ui-font-color1: white;\n",
       "                    --jp-layout-color2: #454545;\n",
       "                    background-color: #383838;\n",
       "                }\n",
       "\n",
       "                .geemap-dark .jupyter-button {\n",
       "                    --jp-layout-color3: #383838;\n",
       "                }\n",
       "\n",
       "                .geemap-colab {\n",
       "                    background-color: var(--colab-primary-surface-color, white);\n",
       "                }\n",
       "\n",
       "                .geemap-colab .jupyter-button {\n",
       "                    --jp-layout-color3: var(--colab-primary-surface-color, white);\n",
       "                }\n",
       "            </style>\n",
       "            "
      ],
      "text/plain": [
       "<IPython.core.display.HTML object>"
      ]
     },
     "metadata": {},
     "output_type": "display_data"
    },
    {
     "ename": "EEException",
     "evalue": "Image.bandNames: Parameter 'image' is required.",
     "output_type": "error",
     "traceback": [
      "\u001b[0;31m---------------------------------------------------------------------------\u001b[0m",
      "\u001b[0;31mHttpError\u001b[0m                                 Traceback (most recent call last)",
      "File \u001b[0;32m/opt/anaconda3/envs/geemap_env/lib/python3.11/site-packages/ee/data.py:406\u001b[0m, in \u001b[0;36m_execute_cloud_call\u001b[0;34m(call, num_retries)\u001b[0m\n\u001b[1;32m    405\u001b[0m \u001b[38;5;28;01mtry\u001b[39;00m:\n\u001b[0;32m--> 406\u001b[0m   \u001b[38;5;28;01mreturn\u001b[39;00m \u001b[43mcall\u001b[49m\u001b[38;5;241;43m.\u001b[39;49m\u001b[43mexecute\u001b[49m\u001b[43m(\u001b[49m\u001b[43mnum_retries\u001b[49m\u001b[38;5;241;43m=\u001b[39;49m\u001b[43mnum_retries\u001b[49m\u001b[43m)\u001b[49m\n\u001b[1;32m    407\u001b[0m \u001b[38;5;28;01mexcept\u001b[39;00m googleapiclient\u001b[38;5;241m.\u001b[39merrors\u001b[38;5;241m.\u001b[39mHttpError \u001b[38;5;28;01mas\u001b[39;00m e:\n",
      "File \u001b[0;32m/opt/anaconda3/envs/geemap_env/lib/python3.11/site-packages/googleapiclient/_helpers.py:130\u001b[0m, in \u001b[0;36mpositional.<locals>.positional_decorator.<locals>.positional_wrapper\u001b[0;34m(*args, **kwargs)\u001b[0m\n\u001b[1;32m    129\u001b[0m         logger\u001b[38;5;241m.\u001b[39mwarning(message)\n\u001b[0;32m--> 130\u001b[0m \u001b[38;5;28;01mreturn\u001b[39;00m \u001b[43mwrapped\u001b[49m\u001b[43m(\u001b[49m\u001b[38;5;241;43m*\u001b[39;49m\u001b[43margs\u001b[49m\u001b[43m,\u001b[49m\u001b[43m \u001b[49m\u001b[38;5;241;43m*\u001b[39;49m\u001b[38;5;241;43m*\u001b[39;49m\u001b[43mkwargs\u001b[49m\u001b[43m)\u001b[49m\n",
      "File \u001b[0;32m/opt/anaconda3/envs/geemap_env/lib/python3.11/site-packages/googleapiclient/http.py:938\u001b[0m, in \u001b[0;36mHttpRequest.execute\u001b[0;34m(self, http, num_retries)\u001b[0m\n\u001b[1;32m    937\u001b[0m \u001b[38;5;28;01mif\u001b[39;00m resp\u001b[38;5;241m.\u001b[39mstatus \u001b[38;5;241m>\u001b[39m\u001b[38;5;241m=\u001b[39m \u001b[38;5;241m300\u001b[39m:\n\u001b[0;32m--> 938\u001b[0m     \u001b[38;5;28;01mraise\u001b[39;00m HttpError(resp, content, uri\u001b[38;5;241m=\u001b[39m\u001b[38;5;28mself\u001b[39m\u001b[38;5;241m.\u001b[39muri)\n\u001b[1;32m    939\u001b[0m \u001b[38;5;28;01mreturn\u001b[39;00m \u001b[38;5;28mself\u001b[39m\u001b[38;5;241m.\u001b[39mpostproc(resp, content)\n",
      "\u001b[0;31mHttpError\u001b[0m: <HttpError 400 when requesting https://earthengine.googleapis.com/v1/projects/thurgau-irrigation/value:compute?prettyPrint=false&alt=json returned \"Image.bandNames: Parameter 'image' is required.\". Details: \"Image.bandNames: Parameter 'image' is required.\">",
      "\nDuring handling of the above exception, another exception occurred:\n",
      "\u001b[0;31mEEException\u001b[0m                               Traceback (most recent call last)",
      "Cell \u001b[0;32mIn[13], line 7\u001b[0m\n\u001b[1;32m      1\u001b[0m check_collection \u001b[38;5;241m=\u001b[39m ee\u001b[38;5;241m.\u001b[39mImageCollection(\n\u001b[1;32m      2\u001b[0m     \u001b[38;5;124m\"\u001b[39m\u001b[38;5;124mprojects/thurgau-irrigation/assets/Zuerich/ET_green_landsat_10m_jurisdiction_monthly_ZH_2022\u001b[39m\u001b[38;5;124m\"\u001b[39m\n\u001b[1;32m      3\u001b[0m )\u001b[38;5;241m.\u001b[39mmap(\u001b[38;5;28;01mlambda\u001b[39;00m img: back_to_float(img, \u001b[38;5;241m100\u001b[39m))\n\u001b[1;32m      5\u001b[0m field_for_validation \u001b[38;5;241m=\u001b[39m ee\u001b[38;5;241m.\u001b[39mFeatureCollection(\u001b[38;5;124m\"\u001b[39m\u001b[38;5;124mprojects/thurgau-irrigation/assets/ZH_Nutzungsflaechen_2/2022_with_irrigation_estimates\u001b[39m\u001b[38;5;124m\"\u001b[39m)\n\u001b[0;32m----> 7\u001b[0m \u001b[43mcheck_collection\u001b[49m\u001b[38;5;241;43m.\u001b[39;49m\u001b[43mfirst\u001b[49m\u001b[43m(\u001b[49m\u001b[43m)\u001b[49m\u001b[38;5;241;43m.\u001b[39;49m\u001b[43mbandNames\u001b[49m\u001b[43m(\u001b[49m\u001b[43m)\u001b[49m\u001b[38;5;241;43m.\u001b[39;49m\u001b[43mgetInfo\u001b[49m\u001b[43m(\u001b[49m\u001b[43m)\u001b[49m\n",
      "File \u001b[0;32m/opt/anaconda3/envs/geemap_env/lib/python3.11/site-packages/ee/computedobject.py:107\u001b[0m, in \u001b[0;36mComputedObject.getInfo\u001b[0;34m(self)\u001b[0m\n\u001b[1;32m    101\u001b[0m \u001b[38;5;28;01mdef\u001b[39;00m \u001b[38;5;21mgetInfo\u001b[39m(\u001b[38;5;28mself\u001b[39m) \u001b[38;5;241m-\u001b[39m\u001b[38;5;241m>\u001b[39m Optional[Any]:\n\u001b[1;32m    102\u001b[0m \u001b[38;5;250m  \u001b[39m\u001b[38;5;124;03m\"\"\"Fetch and return information about this object.\u001b[39;00m\n\u001b[1;32m    103\u001b[0m \n\u001b[1;32m    104\u001b[0m \u001b[38;5;124;03m  Returns:\u001b[39;00m\n\u001b[1;32m    105\u001b[0m \u001b[38;5;124;03m    The object can evaluate to anything.\u001b[39;00m\n\u001b[1;32m    106\u001b[0m \u001b[38;5;124;03m  \"\"\"\u001b[39;00m\n\u001b[0;32m--> 107\u001b[0m   \u001b[38;5;28;01mreturn\u001b[39;00m \u001b[43mdata\u001b[49m\u001b[38;5;241;43m.\u001b[39;49m\u001b[43mcomputeValue\u001b[49m\u001b[43m(\u001b[49m\u001b[38;5;28;43mself\u001b[39;49m\u001b[43m)\u001b[49m\n",
      "File \u001b[0;32m/opt/anaconda3/envs/geemap_env/lib/python3.11/site-packages/ee/data.py:1126\u001b[0m, in \u001b[0;36mcomputeValue\u001b[0;34m(obj)\u001b[0m\n\u001b[1;32m   1123\u001b[0m body \u001b[38;5;241m=\u001b[39m {\u001b[38;5;124m'\u001b[39m\u001b[38;5;124mexpression\u001b[39m\u001b[38;5;124m'\u001b[39m: serializer\u001b[38;5;241m.\u001b[39mencode(obj, for_cloud_api\u001b[38;5;241m=\u001b[39m\u001b[38;5;28;01mTrue\u001b[39;00m)}\n\u001b[1;32m   1124\u001b[0m _maybe_populate_workload_tag(body)\n\u001b[0;32m-> 1126\u001b[0m \u001b[38;5;28;01mreturn\u001b[39;00m \u001b[43m_execute_cloud_call\u001b[49m\u001b[43m(\u001b[49m\n\u001b[1;32m   1127\u001b[0m \u001b[43m    \u001b[49m\u001b[43m_get_cloud_projects\u001b[49m\u001b[43m(\u001b[49m\u001b[43m)\u001b[49m\n\u001b[1;32m   1128\u001b[0m \u001b[43m    \u001b[49m\u001b[38;5;241;43m.\u001b[39;49m\u001b[43mvalue\u001b[49m\u001b[43m(\u001b[49m\u001b[43m)\u001b[49m\n\u001b[1;32m   1129\u001b[0m \u001b[43m    \u001b[49m\u001b[38;5;241;43m.\u001b[39;49m\u001b[43mcompute\u001b[49m\u001b[43m(\u001b[49m\u001b[43mbody\u001b[49m\u001b[38;5;241;43m=\u001b[39;49m\u001b[43mbody\u001b[49m\u001b[43m,\u001b[49m\u001b[43m \u001b[49m\u001b[43mproject\u001b[49m\u001b[38;5;241;43m=\u001b[39;49m\u001b[43m_get_projects_path\u001b[49m\u001b[43m(\u001b[49m\u001b[43m)\u001b[49m\u001b[43m,\u001b[49m\u001b[43m \u001b[49m\u001b[43mprettyPrint\u001b[49m\u001b[38;5;241;43m=\u001b[39;49m\u001b[38;5;28;43;01mFalse\u001b[39;49;00m\u001b[43m)\u001b[49m\n\u001b[1;32m   1130\u001b[0m \u001b[43m\u001b[49m\u001b[43m)\u001b[49m[\u001b[38;5;124m'\u001b[39m\u001b[38;5;124mresult\u001b[39m\u001b[38;5;124m'\u001b[39m]\n",
      "File \u001b[0;32m/opt/anaconda3/envs/geemap_env/lib/python3.11/site-packages/ee/data.py:408\u001b[0m, in \u001b[0;36m_execute_cloud_call\u001b[0;34m(call, num_retries)\u001b[0m\n\u001b[1;32m    406\u001b[0m   \u001b[38;5;28;01mreturn\u001b[39;00m call\u001b[38;5;241m.\u001b[39mexecute(num_retries\u001b[38;5;241m=\u001b[39mnum_retries)\n\u001b[1;32m    407\u001b[0m \u001b[38;5;28;01mexcept\u001b[39;00m googleapiclient\u001b[38;5;241m.\u001b[39merrors\u001b[38;5;241m.\u001b[39mHttpError \u001b[38;5;28;01mas\u001b[39;00m e:\n\u001b[0;32m--> 408\u001b[0m   \u001b[38;5;28;01mraise\u001b[39;00m _translate_cloud_exception(e)\n",
      "\u001b[0;31mEEException\u001b[0m: Image.bandNames: Parameter 'image' is required."
     ]
    }
   ],
   "source": [
    "check_collection = ee.ImageCollection(\n",
    "    \"projects/thurgau-irrigation/assets/Zuerich/ET_green_landsat_10m_jurisdiction_monthly_ZH_2022\"\n",
    ").map(lambda img: back_to_float(img, 100))\n",
    "\n",
    "field_for_validation = ee.FeatureCollection(\"projects/thurgau-irrigation/assets/ZH_Nutzungsflaechen_2/2022_with_irrigation_estimates\")\n",
    "\n",
    "check_collection.first().bandNames().getInfo()"
   ]
  },
  {
   "cell_type": "code",
   "execution_count": null,
   "metadata": {},
   "outputs": [],
   "source": [
    "check_collection_list = check_collection.toList(12)\n",
    "\n",
    "for i in range(12):\n",
    "    img = ee.Image(check_collection_list.get(i))\n",
    "    print(calculate_band_std_dev(img, \"ET_green\").getInfo())"
   ]
  },
  {
   "cell_type": "code",
   "execution_count": null,
   "metadata": {},
   "outputs": [],
   "source": [
    "date_utils.print_collection_dates(check_collection)\n",
    "print_value_ranges(check_collection, \"ET_green\")"
   ]
  },
  {
   "cell_type": "code",
   "execution_count": null,
   "metadata": {},
   "outputs": [],
   "source": [
    "Map = geemap.Map()\n",
    "\n",
    "vis_params = {\n",
    "    \"bands\": [\"ET_green\"],\n",
    "    \"min\": 0,\n",
    "    \"max\": 100,\n",
    "    \"palette\": [\"blue\", \"lightblue\", \"green\", \"yellow\", \"orange\", \"red\"],\n",
    "}\n",
    "\n",
    "Map.center_object(AOI, 12)\n",
    "for i in range(3, 12):\n",
    "    image = ee.Image(check_collection_list.get(i))\n",
    "    Map.addLayer(image, vis_params, \"ET_green_\" + str(i + 1))\n",
    "Map.add_colorbar(vis_params, label=\"ET green [mm/month]\")\n",
    "\n",
    "Map"
   ]
  },
  {
   "cell_type": "markdown",
   "metadata": {},
   "source": [
    "## ET Blue Post Processed"
   ]
  },
  {
   "cell_type": "code",
   "execution_count": null,
   "metadata": {},
   "outputs": [],
   "source": [
    "et_blue_postprocessed = ee.ImageCollection(\"projects/thurgau-irrigation/assets/Zuerich/ET_blue_postprocessed_landsat_30m_monthly_ZH_2022\").map(lambda img: back_to_float(img, 100))"
   ]
  },
  {
   "cell_type": "code",
   "execution_count": null,
   "metadata": {},
   "outputs": [],
   "source": [
    "et_blue_postprocessed.first().bandNames().getInfo()\n"
   ]
  },
  {
   "cell_type": "code",
   "execution_count": null,
   "metadata": {},
   "outputs": [],
   "source": [
    "et_blue_postprocessed_list = et_blue_postprocessed.toList(12)"
   ]
  },
  {
   "cell_type": "code",
   "execution_count": null,
   "metadata": {},
   "outputs": [],
   "source": [
    "Map = geemap.Map()\n",
    "\n",
    "vis_params = {\n",
    "    \"bands\": [\"ET_blue\"],\n",
    "    \"min\": 0,\n",
    "    \"max\": 90,\n",
    "    \"palette\": [\"red\", \"orange\", \"yellow\", \"green\"],\n",
    "}\n",
    "\n",
    "Map.center_object(AOI, 12)\n",
    "\n",
    "for i in range(3, 10):\n",
    "    image = ee.Image(et_blue_postprocessed_list.get(i))\n",
    "    Map.addLayer(image, vis_params, \"ET_blue_\" + str(i + 1))\n",
    "\n",
    "Map.addLayer(field_for_validation, {\"color\": \"black\"}, \"Walter Koch fields\")\n",
    "\n",
    "\n",
    "Map.add_colorbar(vis_params, label=\"ET blue [mm/month]\")\n",
    "\n",
    "Map"
   ]
  },
  {
   "cell_type": "markdown",
   "metadata": {},
   "source": [
    "## ET Landsat Gap Filled"
   ]
  },
  {
   "cell_type": "code",
   "execution_count": null,
   "metadata": {},
   "outputs": [],
   "source": [
    "et_gap_filled = ee.ImageCollection(\"projects/thurgau-irrigation/assets/Zuerich/Landsat_ET_gap_filled_monthly_10m_ZH_2018-2022\").filterDate(\"2022-01-01\", \"2022-12-31\")\n",
    "\n",
    "landsat_with_gaps = ee.ImageCollection(\n",
    "    \"projects/thurgau-irrigation/assets/ETlandsatmonthly\"\n",
    ").filterDate(\"2022-01-01\", \"2022-12-31\")\n",
    "landsat_with_gaps_list = landsat_with_gaps.toList(12)"
   ]
  },
  {
   "cell_type": "code",
   "execution_count": null,
   "metadata": {},
   "outputs": [],
   "source": [
    "et_gap_filled_list = et_gap_filled.toList(12)"
   ]
  },
  {
   "cell_type": "code",
   "execution_count": null,
   "metadata": {},
   "outputs": [],
   "source": [
    "Map = geemap.Map()\n",
    "\n",
    "vis_params = {\n",
    "    \"bands\": [\"ET\"],\n",
    "    \"min\": 0,\n",
    "    \"max\": 90,\n",
    "    \"palette\": [\"red\", \"orange\", \"yellow\", \"green\"],\n",
    "}\n",
    "\n",
    "Map.center_object(AOI, 12)\n",
    "\n",
    "for i in range(3, 10):\n",
    "    image = ee.Image(landsat_with_gaps_list.get(i))\n",
    "    Map.addLayer(image, vis_params, \"ET_gap\" + str(i + 1))\n",
    "\n",
    "Map.addLayer(field_for_validation, {\"color\": \"black\"}, \"Walter Koch fields\")\n",
    "\n",
    "Map.add_colorbar(vis_params, label=\"ET gap filled [mm/month]\")\n",
    "\n",
    "Map"
   ]
  },
  {
   "cell_type": "markdown",
   "metadata": {},
   "source": [
    "## Field level estimates"
   ]
  },
  {
   "cell_type": "code",
   "execution_count": null,
   "metadata": {},
   "outputs": [],
   "source": [
    "field_level_estimates = ee.FeatureCollection(\"projects/thurgau-irrigation/assets/Zuerich/ET_blue_m3_ha_yr_per_field_from_monthly_landsat_30m_ZH_2022/ET_blue_m3_ha_yr_per_field_from_monthly_landsat_30m_ZH_2022\")"
   ]
  },
  {
   "cell_type": "code",
   "execution_count": null,
   "metadata": {},
   "outputs": [],
   "source": [
    "palette = [\"white\", \"blue\", \"green\", \"yellow\", \"red\"]\n",
    "\n",
    "# Define visualization parameters\n",
    "visualization = {\n",
    "    \"min\": 0,\n",
    "    \"max\": 1000,  \n",
    "    \"palette\": palette,\n",
    "}\n",
    "\n",
    "irrigation = field_level_estimates.reduceToImage(\n",
    "    properties=[\"ET_blue_m3_ha_yr\"], reducer=ee.Reducer.first()\n",
    ")\n",
    "\n",
    "# Create a map centered on the area of interest\n",
    "Map = geemap.Map(center=[47.63915833792603, 8.77542613019931], zoom=12)\n",
    "\n",
    "# Add the gradient visualization layer to the map\n",
    "Map.addLayer(irrigation, visualization, \"ET_blue_m3_ha_yr\")\n",
    "Map.addLayer(field_for_validation, {\"color\": \"black\"}, \"Walter Koch fields\")\n",
    "\n",
    "\n",
    "\n",
    "Map.add_colorbar(visualization, label=\"ET blue [m³/ha/yr]\")\n",
    "\n",
    "Map"
   ]
  },
  {
   "cell_type": "code",
   "execution_count": null,
   "metadata": {},
   "outputs": [],
   "source": []
  }
 ],
 "metadata": {
  "kernelspec": {
   "display_name": "geemap_env",
   "language": "python",
   "name": "python3"
  },
  "language_info": {
   "codemirror_mode": {
    "name": "ipython",
    "version": 3
   },
   "file_extension": ".py",
   "mimetype": "text/x-python",
   "name": "python",
   "nbconvert_exporter": "python",
   "pygments_lexer": "ipython3",
   "version": "3.11.10"
  }
 },
 "nbformat": 4,
 "nbformat_minor": 2
}
