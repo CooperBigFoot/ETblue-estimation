{
 "cells": [
  {
   "cell_type": "code",
   "execution_count": 2,
   "metadata": {},
   "outputs": [],
   "source": [
    "import sys\n",
    "import os\n",
    "\n",
    "sys.path.append(os.path.abspath(os.path.join(\"..\")))"
   ]
  },
  {
   "cell_type": "code",
   "execution_count": 3,
   "metadata": {},
   "outputs": [],
   "source": [
    "sys.setrecursionlimit(5000)"
   ]
  },
  {
   "cell_type": "code",
   "execution_count": null,
   "metadata": {},
   "outputs": [],
   "source": [
    "from filter_nutzungsflaechen import (\n",
    "    get_crops_to_exclude,\n",
    "    get_rainfed_reference_crops,\n",
    "    create_crop_filters,\n",
    "    filter_crops,\n",
    "    add_double_cropping_info,\n",
    "    get_unique_nutzung,\n",
    ")\n",
    "\n",
    "from compute_ET_green import compute_et_green, calculate_band_std_dev\n",
    "\n",
    "from utils.ee_utils import (\n",
    "    back_to_float,\n",
    "    back_to_int,\n",
    "    export_image_to_asset,\n",
    "    print_value_ranges,\n",
    ")\n",
    "from utils import date_utils, ee_utils\n",
    "\n",
    "from typing import List, Tuple\n",
    "\n",
    "import ee\n",
    "import geemap"
   ]
  },
  {
   "cell_type": "code",
   "execution_count": 5,
   "metadata": {},
   "outputs": [
    {
     "data": {
      "text/html": [
       "\n",
       "            <style>\n",
       "                .geemap-dark {\n",
       "                    --jp-widgets-color: white;\n",
       "                    --jp-widgets-label-color: white;\n",
       "                    --jp-ui-font-color1: white;\n",
       "                    --jp-layout-color2: #454545;\n",
       "                    background-color: #383838;\n",
       "                }\n",
       "\n",
       "                .geemap-dark .jupyter-button {\n",
       "                    --jp-layout-color3: #383838;\n",
       "                }\n",
       "\n",
       "                .geemap-colab {\n",
       "                    background-color: var(--colab-primary-surface-color, white);\n",
       "                }\n",
       "\n",
       "                .geemap-colab .jupyter-button {\n",
       "                    --jp-layout-color3: var(--colab-primary-surface-color, white);\n",
       "                }\n",
       "            </style>\n",
       "            "
      ],
      "text/plain": [
       "<IPython.core.display.HTML object>"
      ]
     },
     "metadata": {},
     "output_type": "display_data"
    }
   ],
   "source": [
    "ee.Initialize(project=\"thurgau-irrigation\")"
   ]
  },
  {
   "cell_type": "markdown",
   "metadata": {},
   "source": [
    "## Compute and export ET Green\n"
   ]
  },
  {
   "cell_type": "code",
   "execution_count": 6,
   "metadata": {},
   "outputs": [
    {
     "data": {
      "text/html": [
       "\n",
       "            <style>\n",
       "                .geemap-dark {\n",
       "                    --jp-widgets-color: white;\n",
       "                    --jp-widgets-label-color: white;\n",
       "                    --jp-ui-font-color1: white;\n",
       "                    --jp-layout-color2: #454545;\n",
       "                    background-color: #383838;\n",
       "                }\n",
       "\n",
       "                .geemap-dark .jupyter-button {\n",
       "                    --jp-layout-color3: #383838;\n",
       "                }\n",
       "\n",
       "                .geemap-colab {\n",
       "                    background-color: var(--colab-primary-surface-color, white);\n",
       "                }\n",
       "\n",
       "                .geemap-colab .jupyter-button {\n",
       "                    --jp-layout-color3: var(--colab-primary-surface-color, white);\n",
       "                }\n",
       "            </style>\n",
       "            "
      ],
      "text/plain": [
       "<IPython.core.display.HTML object>"
      ]
     },
     "metadata": {},
     "output_type": "display_data"
    }
   ],
   "source": [
    "TIME_STEPS = 12\n",
    "TIME_STEP_TYPE = \"monthly\"\n",
    "YEARS = range(2018, 2023)"
   ]
  },
  {
   "cell_type": "code",
   "execution_count": 7,
   "metadata": {},
   "outputs": [
    {
     "data": {
      "text/html": [
       "\n",
       "            <style>\n",
       "                .geemap-dark {\n",
       "                    --jp-widgets-color: white;\n",
       "                    --jp-widgets-label-color: white;\n",
       "                    --jp-ui-font-color1: white;\n",
       "                    --jp-layout-color2: #454545;\n",
       "                    background-color: #383838;\n",
       "                }\n",
       "\n",
       "                .geemap-dark .jupyter-button {\n",
       "                    --jp-layout-color3: #383838;\n",
       "                }\n",
       "\n",
       "                .geemap-colab {\n",
       "                    background-color: var(--colab-primary-surface-color, white);\n",
       "                }\n",
       "\n",
       "                .geemap-colab .jupyter-button {\n",
       "                    --jp-layout-color3: var(--colab-primary-surface-color, white);\n",
       "                }\n",
       "            </style>\n",
       "            "
      ],
      "text/plain": [
       "<IPython.core.display.HTML object>"
      ]
     },
     "metadata": {},
     "output_type": "display_data"
    }
   ],
   "source": [
    "# DOUBLE_CROPPING_IMAGE = ee.Image(\n",
    "#     \"projects/thurgau-irrigation/assets/Zuerich/crop_vegetation_period_zh_2022\"\n",
    "# )"
   ]
  },
  {
   "cell_type": "code",
   "execution_count": 8,
   "metadata": {},
   "outputs": [
    {
     "data": {
      "text/html": [
       "\n",
       "            <style>\n",
       "                .geemap-dark {\n",
       "                    --jp-widgets-color: white;\n",
       "                    --jp-widgets-label-color: white;\n",
       "                    --jp-ui-font-color1: white;\n",
       "                    --jp-layout-color2: #454545;\n",
       "                    background-color: #383838;\n",
       "                }\n",
       "\n",
       "                .geemap-dark .jupyter-button {\n",
       "                    --jp-layout-color3: #383838;\n",
       "                }\n",
       "\n",
       "                .geemap-colab {\n",
       "                    background-color: var(--colab-primary-surface-color, white);\n",
       "                }\n",
       "\n",
       "                .geemap-colab .jupyter-button {\n",
       "                    --jp-layout-color3: var(--colab-primary-surface-color, white);\n",
       "                }\n",
       "            </style>\n",
       "            "
      ],
      "text/plain": [
       "<IPython.core.display.HTML object>"
      ]
     },
     "metadata": {},
     "output_type": "display_data"
    },
    {
     "name": "stdout",
     "output_type": "stream",
     "text": [
      "Image 1: Min = -20.19, Max = 30.75\n",
      "Image 2: Min = -12.52, Max = 35.92\n",
      "Image 3: Min = -8.88, Max = 56.41\n",
      "Image 4: Min = -14.70, Max = 87.69\n",
      "Image 5: Min = -17.92, Max = 119.38\n",
      "Image 6: Min = -17.54, Max = 138.54\n",
      "Image 7: Min = -13.65, Max = 141.17\n",
      "Image 8: Min = -8.89, Max = 127.93\n",
      "Image 9: Min = -7.76, Max = 102.25\n",
      "Image 10: Min = -5.09, Max = 68.56\n",
      "Image 11: Min = -9.93, Max = 43.62\n",
      "Image 12: Min = -18.18, Max = 29.27\n",
      "Image 13: Min = -17.11, Max = 24.05\n",
      "Image 14: Min = -8.64, Max = 29.30\n",
      "Image 15: Min = -10.06, Max = 53.06\n",
      "Image 16: Min = -15.76, Max = 86.02\n",
      "Image 17: Min = -19.01, Max = 116.93\n",
      "Image 18: Min = -18.66, Max = 136.21\n",
      "Image 19: Min = -14.79, Max = 138.66\n",
      "Image 20: Min = -8.57, Max = 125.07\n",
      "Image 21: Min = -6.14, Max = 100.65\n",
      "Image 22: Min = -6.44, Max = 66.92\n",
      "Image 23: Min = -8.47, Max = 37.06\n",
      "Image 24: Min = -14.05, Max = 22.65\n",
      "Image 25: Min = -16.43, Max = 17.35\n",
      "Image 26: Min = -6.41, Max = 24.92\n",
      "Image 27: Min = -11.90, Max = 54.88\n",
      "Image 28: Min = -16.97, Max = 87.81\n",
      "Image 29: Min = -20.14, Max = 115.85\n",
      "Image 30: Min = -19.70, Max = 134.25\n",
      "Image 31: Min = -15.76, Max = 135.99\n",
      "Image 32: Min = -9.40, Max = 122.36\n",
      "Image 33: Min = -4.60, Max = 98.06\n",
      "Image 34: Min = -4.62, Max = 64.18\n",
      "Image 35: Min = -8.06, Max = 33.41\n",
      "Image 36: Min = -14.50, Max = 16.58\n",
      "Image 37: Min = -15.77, Max = 13.76\n",
      "Image 38: Min = -9.54, Max = 26.81\n",
      "Image 39: Min = -13.53, Max = 55.73\n",
      "Image 40: Min = -18.56, Max = 88.67\n",
      "Image 41: Min = -21.23, Max = 116.79\n",
      "Image 42: Min = -20.81, Max = 133.00\n",
      "Image 43: Min = -16.90, Max = 135.04\n",
      "Image 44: Min = -10.55, Max = 121.15\n",
      "Image 45: Min = -3.78, Max = 96.47\n",
      "Image 46: Min = -2.83, Max = 62.62\n",
      "Image 47: Min = -8.06, Max = 33.78\n",
      "Image 48: Min = -15.14, Max = 18.12\n",
      "Image 49: Min = -18.33, Max = 19.39\n",
      "Image 50: Min = -13.83, Max = 32.14\n",
      "Image 51: Min = -15.16, Max = 56.58\n",
      "Image 52: Min = -20.21, Max = 89.54\n",
      "Image 53: Min = -22.48, Max = 117.73\n",
      "Image 54: Min = -21.93, Max = 133.04\n",
      "Image 55: Min = -18.04, Max = 134.57\n",
      "Image 56: Min = -11.71, Max = 120.09\n",
      "Image 57: Min = -4.93, Max = 95.12\n",
      "Image 58: Min = -1.30, Max = 62.89\n",
      "Image 59: Min = -8.05, Max = 36.89\n",
      "Image 60: Min = -16.97, Max = 23.48\n"
     ]
    }
   ],
   "source": [
    "# path_to_WaPOR_ET_asset = \"projects/thurgau-irrigation/assets/Thurgau/ET_WaPOR_10m_dekadal_test_refactor\"\n",
    "\n",
    "\n",
    "# ET_COLLECTIONs = ee_utils.merge_collections(\n",
    "#     years=YEARS, asset_name=path_to_WaPOR_ET_asset\n",
    "# )\n",
    "\n",
    "# ET_COLLECTION = ee.ImageCollection(\n",
    "#     \"projects/thurgau-irrigation/assets/Zuerich/ET_WaPOR_10m_dekadal_2022\"\n",
    "# ).map(lambda img: back_to_float(img, 100))\n",
    "\n",
    "ET_COLLECTION = ee.ImageCollection(\n",
    "    \"projects/thurgau-irrigation/assets/Thurgau/Landsat_ET_gap_filled_2018-2022\"\n",
    ").map(lambda img: back_to_float(img, 100))\n",
    "\n",
    "ee_utils.print_value_ranges(ET_COLLECTION, \"fitted_ET\")"
   ]
  },
  {
   "cell_type": "code",
   "execution_count": 9,
   "metadata": {},
   "outputs": [
    {
     "data": {
      "text/html": [
       "\n",
       "            <style>\n",
       "                .geemap-dark {\n",
       "                    --jp-widgets-color: white;\n",
       "                    --jp-widgets-label-color: white;\n",
       "                    --jp-ui-font-color1: white;\n",
       "                    --jp-layout-color2: #454545;\n",
       "                    background-color: #383838;\n",
       "                }\n",
       "\n",
       "                .geemap-dark .jupyter-button {\n",
       "                    --jp-layout-color3: #383838;\n",
       "                }\n",
       "\n",
       "                .geemap-colab {\n",
       "                    background-color: var(--colab-primary-surface-color, white);\n",
       "                }\n",
       "\n",
       "                .geemap-colab .jupyter-button {\n",
       "                    --jp-layout-color3: var(--colab-primary-surface-color, white);\n",
       "                }\n",
       "            </style>\n",
       "            "
      ],
      "text/plain": [
       "<IPython.core.display.HTML object>"
      ]
     },
     "metadata": {},
     "output_type": "display_data"
    },
    {
     "data": {
      "text/plain": [
       "['fitted_ET']"
      ]
     },
     "execution_count": 9,
     "metadata": {},
     "output_type": "execute_result"
    }
   ],
   "source": [
    "ET_COLLECTION.first().bandNames().getInfo()"
   ]
  },
  {
   "cell_type": "code",
   "execution_count": 10,
   "metadata": {},
   "outputs": [
    {
     "data": {
      "text/html": [
       "\n",
       "            <style>\n",
       "                .geemap-dark {\n",
       "                    --jp-widgets-color: white;\n",
       "                    --jp-widgets-label-color: white;\n",
       "                    --jp-ui-font-color1: white;\n",
       "                    --jp-layout-color2: #454545;\n",
       "                    background-color: #383838;\n",
       "                }\n",
       "\n",
       "                .geemap-dark .jupyter-button {\n",
       "                    --jp-layout-color3: #383838;\n",
       "                }\n",
       "\n",
       "                .geemap-colab {\n",
       "                    background-color: var(--colab-primary-surface-color, white);\n",
       "                }\n",
       "\n",
       "                .geemap-colab .jupyter-button {\n",
       "                    --jp-layout-color3: var(--colab-primary-surface-color, white);\n",
       "                }\n",
       "            </style>\n",
       "            "
      ],
      "text/plain": [
       "<IPython.core.display.HTML object>"
      ]
     },
     "metadata": {},
     "output_type": "display_data"
    }
   ],
   "source": [
    "PATH_TO_AOI = \"projects/thurgau-irrigation/assets/Thurgau/thrugau_borders_2024\"\n",
    "\n",
    "aoi_feature_collection = ee.FeatureCollection(PATH_TO_AOI)\n",
    "aoi_geometry = aoi_feature_collection.geometry().simplify(500)\n",
    "\n",
    "AOI = aoi_geometry.buffer(100)"
   ]
  },
  {
   "cell_type": "code",
   "execution_count": null,
   "metadata": {},
   "outputs": [
    {
     "data": {
      "text/html": [
       "\n",
       "            <style>\n",
       "                .geemap-dark {\n",
       "                    --jp-widgets-color: white;\n",
       "                    --jp-widgets-label-color: white;\n",
       "                    --jp-ui-font-color1: white;\n",
       "                    --jp-layout-color2: #454545;\n",
       "                    background-color: #383838;\n",
       "                }\n",
       "\n",
       "                .geemap-dark .jupyter-button {\n",
       "                    --jp-layout-color3: #383838;\n",
       "                }\n",
       "\n",
       "                .geemap-colab {\n",
       "                    background-color: var(--colab-primary-surface-color, white);\n",
       "                }\n",
       "\n",
       "                .geemap-colab .jupyter-button {\n",
       "                    --jp-layout-color3: var(--colab-primary-surface-color, white);\n",
       "                }\n",
       "            </style>\n",
       "            "
      ],
      "text/plain": [
       "<IPython.core.display.HTML object>"
      ]
     },
     "metadata": {},
     "output_type": "display_data"
    }
   ],
   "source": [
    "def process_and_export_et_green(\n",
    "    et_collection_list: ee.List,\n",
    "    year: int,\n",
    "    aoi: ee.Geometry,\n",
    "    time_steps: int = 36,\n",
    "    time_step_type: str = \"dekadal\",\n",
    "    double_cropping_image: ee.Image = None,\n",
    ") -> List[ee.batch.Task]:\n",
    "    \"\"\"\n",
    "    Process and export ET green images for a given year.\n",
    "\n",
    "    Args:\n",
    "        et_collection (ee.List): List of ET images\n",
    "        year (int): Year to process\n",
    "        aoi (ee.Geometry): Area of interest\n",
    "        time_steps (int): Number of time steps (36 for dekadal, 12 for monthly)\n",
    "        time_step_type (str): Type of time step (\"dekadal\" or \"monthly\")\n",
    "        double_cropping_image (ee.Image): Double cropping image\n",
    "\n",
    "    Returns:\n",
    "        List[ee.batch.Task]: List of export tasks\n",
    "    \"\"\"\n",
    "    nutzung_collection = ee.FeatureCollection(\n",
    "        f\"projects/thurgau-irrigation/assets/Thurgau/Nutzungsflaechen/TG_{year}_area\"\n",
    "    )\n",
    "\n",
    "    # nutzung_collection = nutzung_collection.map(\n",
    "    #     lambda feature: feature.set(\"nutzung\", feature.get(\"NUTZUNG\"))\n",
    "    # )\n",
    "\n",
    "    jurisdictions = ee.FeatureCollection(\n",
    "        f\"projects/thurgau-irrigation/assets/Thurgau/thurgau_jurisdictions_{year}_wgs84\"\n",
    "    )\n",
    "\n",
    "    double_cropping = ee.Image(double_cropping_image)\n",
    "\n",
    "    # Prepare crop filters\n",
    "    not_irrigated_crops = get_crops_to_exclude()\n",
    "    rainfed_crops = get_rainfed_reference_crops()\n",
    "    exclude_filter, rainfed_filter = create_crop_filters(\n",
    "        not_irrigated_crops, rainfed_crops\n",
    "    )\n",
    "\n",
    "    # Process nutzung collection\n",
    "    nutzung_with_double_crop = add_double_cropping_info(\n",
    "        nutzung_collection, double_cropping\n",
    "    )\n",
    "    _, rainfed_fields = filter_crops(\n",
    "        nutzung_with_double_crop, exclude_filter, rainfed_filter\n",
    "    )\n",
    "\n",
    "    tasks = []\n",
    "    for i in range(time_steps):\n",
    "        # Get time step info\n",
    "        if time_step_type == \"dekadal\":\n",
    "            dekadal = i % 3 + 1\n",
    "            month = i // 3 + 1\n",
    "            time_step_name = f\"{month:02d}_D{dekadal}\"\n",
    "        elif time_step_type == \"monthly\":\n",
    "            month = i + 1\n",
    "            time_step_name = f\"{month:02d}\"\n",
    "        else:\n",
    "            raise ValueError(\"time_step_type must be either 'dekadal' or 'monthly'\")\n",
    "\n",
    "        # Get ET image and compute ET green\n",
    "        et_image = ee.Image(et_collection_list.get(i))\n",
    "        et_green = compute_et_green(\n",
    "            et_image, rainfed_fields, jurisdictions, et_band_name=\"fitted_ET\"\n",
    "        )\n",
    "\n",
    "        et_green = back_to_int(et_green, 100)\n",
    "\n",
    "        # Export result\n",
    "        task_name = (\n",
    "            f\"ET_green_landsat_jurisdiction_TG_{time_step_type}_{year}-{time_step_name}\"\n",
    "        )\n",
    "        asset_id = f\"projects/thurgau-irrigation/assets/Thurgau/ET_green_landsat_30m_jurisdiction_TG_{time_step_type}_2018-2022/{task_name}\"\n",
    "\n",
    "        task = export_image_to_asset(et_green, asset_id, task_name, year, aoi, scale=30)\n",
    "        tasks.append(task)\n",
    "\n",
    "    return tasks"
   ]
  },
  {
   "cell_type": "code",
   "execution_count": null,
   "metadata": {},
   "outputs": [
    {
     "data": {
      "text/html": [
       "\n",
       "            <style>\n",
       "                .geemap-dark {\n",
       "                    --jp-widgets-color: white;\n",
       "                    --jp-widgets-label-color: white;\n",
       "                    --jp-ui-font-color1: white;\n",
       "                    --jp-layout-color2: #454545;\n",
       "                    background-color: #383838;\n",
       "                }\n",
       "\n",
       "                .geemap-dark .jupyter-button {\n",
       "                    --jp-layout-color3: #383838;\n",
       "                }\n",
       "\n",
       "                .geemap-colab {\n",
       "                    background-color: var(--colab-primary-surface-color, white);\n",
       "                }\n",
       "\n",
       "                .geemap-colab .jupyter-button {\n",
       "                    --jp-layout-color3: var(--colab-primary-surface-color, white);\n",
       "                }\n",
       "            </style>\n",
       "            "
      ],
      "text/plain": [
       "<IPython.core.display.HTML object>"
      ]
     },
     "metadata": {},
     "output_type": "display_data"
    }
   ],
   "source": [
    "# for year in YEARS:\n",
    "\n",
    "#     et_collection_list = ET_COLLECTION.filterDate(\n",
    "#         f\"{year}-01-01\", f\"{year}-12-31\"\n",
    "#     ).toList(TIME_STEPS)\n",
    "\n",
    "#     DOUBLE_CROPPING_IMAGE = ee.Image(f\"projects/thurgau-irrigation/assets/Thurgau/VegetationPeriod/crop_veg_period_{year}\")\n",
    "\n",
    "\n",
    "#     tasks = process_and_export_et_green(\n",
    "#         et_collection_list, year, AOI, TIME_STEPS, TIME_STEP_TYPE, DOUBLE_CROPPING_IMAGE\n",
    "#     )\n",
    "\n",
    "#     print(f\"Started {len(tasks)} export tasks.\")"
   ]
  },
  {
   "cell_type": "code",
   "execution_count": 13,
   "metadata": {},
   "outputs": [
    {
     "data": {
      "text/html": [
       "\n",
       "            <style>\n",
       "                .geemap-dark {\n",
       "                    --jp-widgets-color: white;\n",
       "                    --jp-widgets-label-color: white;\n",
       "                    --jp-ui-font-color1: white;\n",
       "                    --jp-layout-color2: #454545;\n",
       "                    background-color: #383838;\n",
       "                }\n",
       "\n",
       "                .geemap-dark .jupyter-button {\n",
       "                    --jp-layout-color3: #383838;\n",
       "                }\n",
       "\n",
       "                .geemap-colab {\n",
       "                    background-color: var(--colab-primary-surface-color, white);\n",
       "                }\n",
       "\n",
       "                .geemap-colab .jupyter-button {\n",
       "                    --jp-layout-color3: var(--colab-primary-surface-color, white);\n",
       "                }\n",
       "            </style>\n",
       "            "
      ],
      "text/plain": [
       "<IPython.core.display.HTML object>"
      ]
     },
     "metadata": {},
     "output_type": "display_data"
    }
   ],
   "source": [
    "# collection.size().getInfo()\n",
    "\n",
    "# date_utils.print_collection_dates(collection)"
   ]
  },
  {
   "cell_type": "markdown",
   "metadata": {},
   "source": [
    "### Sanity check\n"
   ]
  },
  {
   "cell_type": "code",
   "execution_count": null,
   "metadata": {},
   "outputs": [
    {
     "data": {
      "text/html": [
       "\n",
       "            <style>\n",
       "                .geemap-dark {\n",
       "                    --jp-widgets-color: white;\n",
       "                    --jp-widgets-label-color: white;\n",
       "                    --jp-ui-font-color1: white;\n",
       "                    --jp-layout-color2: #454545;\n",
       "                    background-color: #383838;\n",
       "                }\n",
       "\n",
       "                .geemap-dark .jupyter-button {\n",
       "                    --jp-layout-color3: #383838;\n",
       "                }\n",
       "\n",
       "                .geemap-colab {\n",
       "                    background-color: var(--colab-primary-surface-color, white);\n",
       "                }\n",
       "\n",
       "                .geemap-colab .jupyter-button {\n",
       "                    --jp-layout-color3: var(--colab-primary-surface-color, white);\n",
       "                }\n",
       "            </style>\n",
       "            "
      ],
      "text/plain": [
       "<IPython.core.display.HTML object>"
      ]
     },
     "metadata": {},
     "output_type": "display_data"
    },
    {
     "data": {
      "text/plain": [
       "['ET_green']"
      ]
     },
     "execution_count": 14,
     "metadata": {},
     "output_type": "execute_result"
    }
   ],
   "source": [
    "check_collection = ee.ImageCollection(\n",
    "    \"projects/thurgau-irrigation/assets/Thurgau/ET_green_landsat_30m_jurisdiction_TG_monthly_2018-2022\"\n",
    ").map(lambda img: back_to_float(img, 100))\n",
    "\n",
    "check_collection.first().bandNames().getInfo()"
   ]
  },
  {
   "cell_type": "code",
   "execution_count": 15,
   "metadata": {},
   "outputs": [
    {
     "data": {
      "text/html": [
       "\n",
       "            <style>\n",
       "                .geemap-dark {\n",
       "                    --jp-widgets-color: white;\n",
       "                    --jp-widgets-label-color: white;\n",
       "                    --jp-ui-font-color1: white;\n",
       "                    --jp-layout-color2: #454545;\n",
       "                    background-color: #383838;\n",
       "                }\n",
       "\n",
       "                .geemap-dark .jupyter-button {\n",
       "                    --jp-layout-color3: #383838;\n",
       "                }\n",
       "\n",
       "                .geemap-colab {\n",
       "                    background-color: var(--colab-primary-surface-color, white);\n",
       "                }\n",
       "\n",
       "                .geemap-colab .jupyter-button {\n",
       "                    --jp-layout-color3: var(--colab-primary-surface-color, white);\n",
       "                }\n",
       "            </style>\n",
       "            "
      ],
      "text/plain": [
       "<IPython.core.display.HTML object>"
      ]
     },
     "metadata": {},
     "output_type": "display_data"
    },
    {
     "name": "stdout",
     "output_type": "stream",
     "text": [
      "Dates of images in the collection:\n",
      "2018-01-01\n",
      "2018-02-01\n",
      "2018-03-01\n",
      "2018-04-01\n",
      "2018-05-01\n",
      "2018-06-01\n",
      "2018-07-01\n",
      "2018-08-01\n",
      "2018-09-01\n",
      "2018-10-01\n",
      "2018-11-01\n",
      "2018-12-01\n",
      "2019-01-01\n",
      "2019-02-01\n",
      "2019-03-01\n",
      "2019-04-01\n",
      "2019-05-01\n",
      "2019-06-01\n",
      "2019-07-01\n",
      "2019-08-01\n",
      "2019-09-01\n",
      "2019-10-01\n",
      "2019-11-01\n",
      "2019-12-01\n",
      "2020-01-01\n",
      "2020-02-01\n",
      "2020-03-01\n",
      "2020-04-01\n",
      "2020-05-01\n",
      "2020-06-01\n",
      "2020-07-01\n",
      "2020-08-01\n",
      "2020-09-01\n",
      "2020-10-01\n",
      "2020-11-01\n",
      "2020-12-01\n",
      "2021-01-01\n",
      "2021-02-01\n",
      "2021-03-01\n",
      "2021-04-01\n",
      "2021-05-01\n",
      "2021-06-01\n",
      "2021-07-01\n",
      "2021-08-01\n",
      "2021-09-01\n",
      "2021-10-01\n",
      "2021-11-01\n",
      "2021-12-01\n",
      "2022-01-01\n",
      "2022-02-01\n",
      "2022-03-01\n",
      "2022-04-01\n",
      "Image 1: Min = -3.32, Max = 5.68\n",
      "Image 2: Min = 5.89, Max = 16.87\n",
      "Image 3: Min = 24.36, Max = 39.67\n",
      "Image 4: Min = 47.38, Max = 69.71\n",
      "Image 5: Min = 67.50, Max = 97.84\n",
      "Image 6: Min = 79.50, Max = 114.97\n",
      "Image 7: Min = 81.44, Max = 117.45\n",
      "Image 8: Min = 72.26, Max = 105.88\n",
      "Image 9: Min = 55.16, Max = 82.42\n",
      "Image 10: Min = 33.59, Max = 47.80\n",
      "Image 11: Min = 12.88, Max = 24.60\n",
      "Image 12: Min = -0.79, Max = 6.51\n",
      "Image 13: Min = -2.66, Max = 4.27\n",
      "Image 14: Min = 6.03, Max = 15.38\n",
      "Image 15: Min = 24.44, Max = 39.19\n",
      "Image 16: Min = 46.15, Max = 69.22\n",
      "Image 17: Min = 66.66, Max = 97.41\n",
      "Image 18: Min = 78.79, Max = 114.63\n",
      "Image 19: Min = 81.03, Max = 117.22\n",
      "Image 20: Min = 72.42, Max = 103.80\n",
      "Image 21: Min = 55.99, Max = 80.57\n",
      "Image 22: Min = 34.70, Max = 50.57\n",
      "Image 23: Min = 13.90, Max = 23.89\n",
      "Image 24: Min = 0.26, Max = 6.82\n",
      "Image 25: Min = -2.42, Max = 4.12\n",
      "Image 26: Min = 6.68, Max = 14.85\n",
      "Image 27: Min = 25.29, Max = 39.61\n",
      "Image 28: Min = 46.40, Max = 69.65\n",
      "Image 29: Min = 66.36, Max = 97.63\n",
      "Image 30: Min = 78.85, Max = 114.48\n",
      "Image 31: Min = 81.16, Max = 116.62\n",
      "Image 32: Min = 72.23, Max = 103.54\n",
      "Image 33: Min = 55.09, Max = 80.01\n",
      "Image 34: Min = 33.41, Max = 49.87\n",
      "Image 35: Min = 14.21, Max = 23.42\n",
      "Image 36: Min = 0.49, Max = 6.87\n",
      "Image 37: Min = -1.48, Max = 5.07\n",
      "Image 38: Min = 7.14, Max = 15.54\n",
      "Image 39: Min = 24.48, Max = 39.58\n",
      "Image 40: Min = 45.48, Max = 69.88\n",
      "Image 41: Min = 65.72, Max = 98.14\n",
      "Image 42: Min = 77.69, Max = 115.23\n",
      "Image 43: Min = 79.75, Max = 117.49\n",
      "Image 44: Min = 70.98, Max = 103.53\n",
      "Image 45: Min = 54.43, Max = 78.63\n",
      "Image 46: Min = 33.61, Max = 49.31\n",
      "Image 47: Min = 14.76, Max = 24.50\n",
      "Image 48: Min = 0.75, Max = 7.64\n",
      "Image 49: Min = -1.96, Max = 6.14\n",
      "Image 50: Min = 6.44, Max = 16.48\n",
      "Image 51: Min = 24.30, Max = 39.52\n",
      "Image 52: Min = 46.11, Max = 70.30\n"
     ]
    }
   ],
   "source": [
    "date_utils.print_collection_dates(check_collection)\n",
    "print_value_ranges(check_collection, \"ET_green\")"
   ]
  },
  {
   "cell_type": "code",
   "execution_count": null,
   "metadata": {},
   "outputs": [
    {
     "data": {
      "text/html": [
       "\n",
       "            <style>\n",
       "                .geemap-dark {\n",
       "                    --jp-widgets-color: white;\n",
       "                    --jp-widgets-label-color: white;\n",
       "                    --jp-ui-font-color1: white;\n",
       "                    --jp-layout-color2: #454545;\n",
       "                    background-color: #383838;\n",
       "                }\n",
       "\n",
       "                .geemap-dark .jupyter-button {\n",
       "                    --jp-layout-color3: #383838;\n",
       "                }\n",
       "\n",
       "                .geemap-colab {\n",
       "                    background-color: var(--colab-primary-surface-color, white);\n",
       "                }\n",
       "\n",
       "                .geemap-colab .jupyter-button {\n",
       "                    --jp-layout-color3: var(--colab-primary-surface-color, white);\n",
       "                }\n",
       "            </style>\n",
       "            "
      ],
      "text/plain": [
       "<IPython.core.display.HTML object>"
      ]
     },
     "metadata": {},
     "output_type": "display_data"
    },
    {
     "data": {
      "application/vnd.jupyter.widget-view+json": {
       "model_id": "c246ebbc4b204c55be8d52f070868651",
       "version_major": 2,
       "version_minor": 0
      },
      "text/plain": [
       "Map(center=[47.56858787382066, 9.092720596553875], controls=(WidgetControl(options=['position', 'transparent_b…"
      ]
     },
     "execution_count": 19,
     "metadata": {},
     "output_type": "execute_result"
    }
   ],
   "source": [
    "Map = geemap.Map()\n",
    "\n",
    "image = ee.Image(check_collection.toList(check_collection.size()).get(-1))\n",
    "\n",
    "vis_params = {\n",
    "    \"bands\": [\"ET_green\"],\n",
    "    \"min\": 0,\n",
    "    \"max\": 100,\n",
    "    \"palette\": [\"blue\", \"lightblue\", \"green\", \"yellow\", \"orange\", \"red\"],\n",
    "}\n",
    "\n",
    "Map.center_object(AOI, 12)\n",
    "Map.addLayer(image, vis_params, \"ET_green\")\n",
    "\n",
    "Map"
   ]
  },
  {
   "cell_type": "code",
   "execution_count": null,
   "metadata": {},
   "outputs": [],
   "source": []
  }
 ],
 "metadata": {
  "kernelspec": {
   "display_name": "geemap_env",
   "language": "python",
   "name": "python3"
  },
  "language_info": {
   "codemirror_mode": {
    "name": "ipython",
    "version": 3
   },
   "file_extension": ".py",
   "mimetype": "text/x-python",
   "name": "python",
   "nbconvert_exporter": "python",
   "pygments_lexer": "ipython3",
   "version": "3.11.10"
  }
 },
 "nbformat": 4,
 "nbformat_minor": 2
}
