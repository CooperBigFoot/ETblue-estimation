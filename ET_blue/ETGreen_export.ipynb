{
 "cells": [
  {
   "cell_type": "code",
   "execution_count": 19,
   "metadata": {},
   "outputs": [
    {
     "data": {
      "text/html": [
       "\n",
       "            <style>\n",
       "                .geemap-dark {\n",
       "                    --jp-widgets-color: white;\n",
       "                    --jp-widgets-label-color: white;\n",
       "                    --jp-ui-font-color1: white;\n",
       "                    --jp-layout-color2: #454545;\n",
       "                    background-color: #383838;\n",
       "                }\n",
       "\n",
       "                .geemap-dark .jupyter-button {\n",
       "                    --jp-layout-color3: #383838;\n",
       "                }\n",
       "\n",
       "                .geemap-colab {\n",
       "                    background-color: var(--colab-primary-surface-color, white);\n",
       "                }\n",
       "\n",
       "                .geemap-colab .jupyter-button {\n",
       "                    --jp-layout-color3: var(--colab-primary-surface-color, white);\n",
       "                }\n",
       "            </style>\n",
       "            "
      ],
      "text/plain": [
       "<IPython.core.display.HTML object>"
      ]
     },
     "metadata": {},
     "output_type": "display_data"
    }
   ],
   "source": [
    "import sys\n",
    "import os\n",
    "\n",
    "sys.path.append(os.path.abspath(os.path.join(\"..\")))"
   ]
  },
  {
   "cell_type": "code",
   "execution_count": 20,
   "metadata": {},
   "outputs": [
    {
     "data": {
      "text/html": [
       "\n",
       "            <style>\n",
       "                .geemap-dark {\n",
       "                    --jp-widgets-color: white;\n",
       "                    --jp-widgets-label-color: white;\n",
       "                    --jp-ui-font-color1: white;\n",
       "                    --jp-layout-color2: #454545;\n",
       "                    background-color: #383838;\n",
       "                }\n",
       "\n",
       "                .geemap-dark .jupyter-button {\n",
       "                    --jp-layout-color3: #383838;\n",
       "                }\n",
       "\n",
       "                .geemap-colab {\n",
       "                    background-color: var(--colab-primary-surface-color, white);\n",
       "                }\n",
       "\n",
       "                .geemap-colab .jupyter-button {\n",
       "                    --jp-layout-color3: var(--colab-primary-surface-color, white);\n",
       "                }\n",
       "            </style>\n",
       "            "
      ],
      "text/plain": [
       "<IPython.core.display.HTML object>"
      ]
     },
     "metadata": {},
     "output_type": "display_data"
    }
   ],
   "source": [
    "sys.setrecursionlimit(5000)"
   ]
  },
  {
   "cell_type": "code",
   "execution_count": 21,
   "metadata": {},
   "outputs": [
    {
     "data": {
      "text/html": [
       "\n",
       "            <style>\n",
       "                .geemap-dark {\n",
       "                    --jp-widgets-color: white;\n",
       "                    --jp-widgets-label-color: white;\n",
       "                    --jp-ui-font-color1: white;\n",
       "                    --jp-layout-color2: #454545;\n",
       "                    background-color: #383838;\n",
       "                }\n",
       "\n",
       "                .geemap-dark .jupyter-button {\n",
       "                    --jp-layout-color3: #383838;\n",
       "                }\n",
       "\n",
       "                .geemap-colab {\n",
       "                    background-color: var(--colab-primary-surface-color, white);\n",
       "                }\n",
       "\n",
       "                .geemap-colab .jupyter-button {\n",
       "                    --jp-layout-color3: var(--colab-primary-surface-color, white);\n",
       "                }\n",
       "            </style>\n",
       "            "
      ],
      "text/plain": [
       "<IPython.core.display.HTML object>"
      ]
     },
     "metadata": {},
     "output_type": "display_data"
    }
   ],
   "source": [
    "from filter_nutzungsflaechen import (\n",
    "    get_crops_to_exclude,\n",
    "    get_rainfed_reference_crops,\n",
    "    create_crop_filters,\n",
    "    filter_crops,\n",
    "    add_double_cropping_info,\n",
    "    get_unique_nutzung,\n",
    ")\n",
    "\n",
    "from compute_ET_green import compute_et_green, calculate_band_std_dev\n",
    "\n",
    "from utils.ee_utils import (\n",
    "    back_to_float,\n",
    "    back_to_int,\n",
    "    export_image_to_asset,\n",
    "    print_value_ranges,\n",
    ")\n",
    "from utils import date_utils, ee_utils\n",
    "\n",
    "from typing import List, Tuple\n",
    "\n",
    "import ee\n",
    "import geemap"
   ]
  },
  {
   "cell_type": "code",
   "execution_count": 22,
   "metadata": {},
   "outputs": [
    {
     "data": {
      "text/html": [
       "\n",
       "            <style>\n",
       "                .geemap-dark {\n",
       "                    --jp-widgets-color: white;\n",
       "                    --jp-widgets-label-color: white;\n",
       "                    --jp-ui-font-color1: white;\n",
       "                    --jp-layout-color2: #454545;\n",
       "                    background-color: #383838;\n",
       "                }\n",
       "\n",
       "                .geemap-dark .jupyter-button {\n",
       "                    --jp-layout-color3: #383838;\n",
       "                }\n",
       "\n",
       "                .geemap-colab {\n",
       "                    background-color: var(--colab-primary-surface-color, white);\n",
       "                }\n",
       "\n",
       "                .geemap-colab .jupyter-button {\n",
       "                    --jp-layout-color3: var(--colab-primary-surface-color, white);\n",
       "                }\n",
       "            </style>\n",
       "            "
      ],
      "text/plain": [
       "<IPython.core.display.HTML object>"
      ]
     },
     "metadata": {},
     "output_type": "display_data"
    }
   ],
   "source": [
    "ee.Initialize(project=\"thurgau-irrigation\")"
   ]
  },
  {
   "cell_type": "markdown",
   "metadata": {},
   "source": [
    "## Compute and export ET Green\n"
   ]
  },
  {
   "cell_type": "code",
   "execution_count": 23,
   "metadata": {},
   "outputs": [
    {
     "data": {
      "text/html": [
       "\n",
       "            <style>\n",
       "                .geemap-dark {\n",
       "                    --jp-widgets-color: white;\n",
       "                    --jp-widgets-label-color: white;\n",
       "                    --jp-ui-font-color1: white;\n",
       "                    --jp-layout-color2: #454545;\n",
       "                    background-color: #383838;\n",
       "                }\n",
       "\n",
       "                .geemap-dark .jupyter-button {\n",
       "                    --jp-layout-color3: #383838;\n",
       "                }\n",
       "\n",
       "                .geemap-colab {\n",
       "                    background-color: var(--colab-primary-surface-color, white);\n",
       "                }\n",
       "\n",
       "                .geemap-colab .jupyter-button {\n",
       "                    --jp-layout-color3: var(--colab-primary-surface-color, white);\n",
       "                }\n",
       "            </style>\n",
       "            "
      ],
      "text/plain": [
       "<IPython.core.display.HTML object>"
      ]
     },
     "metadata": {},
     "output_type": "display_data"
    }
   ],
   "source": [
    "TIME_STEPS = 12\n",
    "TIME_STEP_TYPE = \"monthly\"\n",
    "YEARS = range(2022, 2023)"
   ]
  },
  {
   "cell_type": "code",
   "execution_count": 24,
   "metadata": {},
   "outputs": [
    {
     "data": {
      "text/html": [
       "\n",
       "            <style>\n",
       "                .geemap-dark {\n",
       "                    --jp-widgets-color: white;\n",
       "                    --jp-widgets-label-color: white;\n",
       "                    --jp-ui-font-color1: white;\n",
       "                    --jp-layout-color2: #454545;\n",
       "                    background-color: #383838;\n",
       "                }\n",
       "\n",
       "                .geemap-dark .jupyter-button {\n",
       "                    --jp-layout-color3: #383838;\n",
       "                }\n",
       "\n",
       "                .geemap-colab {\n",
       "                    background-color: var(--colab-primary-surface-color, white);\n",
       "                }\n",
       "\n",
       "                .geemap-colab .jupyter-button {\n",
       "                    --jp-layout-color3: var(--colab-primary-surface-color, white);\n",
       "                }\n",
       "            </style>\n",
       "            "
      ],
      "text/plain": [
       "<IPython.core.display.HTML object>"
      ]
     },
     "metadata": {},
     "output_type": "display_data"
    }
   ],
   "source": [
    "DOUBLE_CROPPING_IMAGE = ee.Image(\n",
    "    \"projects/thurgau-irrigation/assets/Thurgau/VegetationPeriod/crop_veg_period_2022\"\n",
    ")"
   ]
  },
  {
   "cell_type": "code",
   "execution_count": 25,
   "metadata": {},
   "outputs": [
    {
     "data": {
      "text/html": [
       "\n",
       "            <style>\n",
       "                .geemap-dark {\n",
       "                    --jp-widgets-color: white;\n",
       "                    --jp-widgets-label-color: white;\n",
       "                    --jp-ui-font-color1: white;\n",
       "                    --jp-layout-color2: #454545;\n",
       "                    background-color: #383838;\n",
       "                }\n",
       "\n",
       "                .geemap-dark .jupyter-button {\n",
       "                    --jp-layout-color3: #383838;\n",
       "                }\n",
       "\n",
       "                .geemap-colab {\n",
       "                    background-color: var(--colab-primary-surface-color, white);\n",
       "                }\n",
       "\n",
       "                .geemap-colab .jupyter-button {\n",
       "                    --jp-layout-color3: var(--colab-primary-surface-color, white);\n",
       "                }\n",
       "            </style>\n",
       "            "
      ],
      "text/plain": [
       "<IPython.core.display.HTML object>"
      ]
     },
     "metadata": {},
     "output_type": "display_data"
    },
    {
     "name": "stdout",
     "output_type": "stream",
     "text": [
      "Dates of images in the collection:\n",
      "2022-01-01\n",
      "2022-02-01\n",
      "2022-03-01\n",
      "2022-04-01\n",
      "2022-05-01\n",
      "2022-06-01\n",
      "2022-07-01\n",
      "2022-08-01\n",
      "2022-09-01\n",
      "2022-10-01\n",
      "2022-11-01\n",
      "2022-12-01\n",
      "Image 1: Min = -2379.82, Max = 545.58\n",
      "Image 2: Min = -77.94, Max = 293.34\n",
      "Image 3: Min = -403.11, Max = 398.20\n",
      "Image 4: Min = -7.59, Max = 214.69\n",
      "Image 5: Min = -12.20, Max = 238.84\n",
      "Image 6: Min = -1081.66, Max = 166.51\n",
      "Image 7: Min = -2711.84, Max = 463.52\n",
      "Image 8: Min = -1976.59, Max = 446.13\n",
      "Image 9: Min = -13.85, Max = 632.41\n",
      "Image 10: Min = -84.33, Max = 903.82\n",
      "Image 11: Min = 0.00, Max = 0.00\n",
      "Image 12: Min = 0.00, Max = 0.00\n"
     ]
    }
   ],
   "source": [
    "# path_to_WaPOR_ET_asset = \"projects/thurgau-irrigation/assets/Thurgau/ET_WaPOR_10m_dekadal_test_refactor\"\n",
    "\n",
    "\n",
    "# ET_COLLECTIONs = ee_utils.merge_collections(\n",
    "#     years=YEARS, asset_name=path_to_WaPOR_ET_asset\n",
    "# )\n",
    "\n",
    "# ET_COLLECTION = ee.ImageCollection(\n",
    "#     \"projects/thurgau-irrigation/assets/Zuerich/ET_WaPOR_10m_dekadal_2022\"\n",
    "# ).map(lambda img: back_to_float(img, 100))\n",
    "\n",
    "# ET_COLLECTION = ee.ImageCollection(\n",
    "#     \"projects/thurgau-irrigation/assets/ETlandsatmonthly\"\n",
    "# ).filterDate(\"2022-01-01\", \"2022-12-31\")\n",
    "\n",
    "\n",
    "# # Replace negative pixel values with 0 while retaining image properties\n",
    "# def set_negative_to_zero(img):\n",
    "#     return img.max(0).copyProperties(img, img.propertyNames())\n",
    "\n",
    "# ET_COLLECTION = ET_COLLECTION.map(set_negative_to_zero)\n",
    "# ET_COLLECTION = date_utils.set_to_first_of_month(ET_COLLECTION)\n",
    "\n",
    "# ee_utils.print_value_ranges(ET_COLLECTION, \"ET\")\n",
    "# date_utils.print_collection_dates(ET_COLLECTION)\n",
    "\n",
    "ET_COLLECTION = ee.ImageCollection(\"projects/thurgau-irrigation/assets/Thurgau/Landsat_ET_monthly_downscaled_10m_TG_2022\").map(lambda img: back_to_float(img, 100))\n",
    "\n",
    "date_utils.print_collection_dates(ET_COLLECTION)\n",
    "ee_utils.print_value_ranges(ET_COLLECTION, \"downscaled\")"
   ]
  },
  {
   "cell_type": "code",
   "execution_count": 26,
   "metadata": {},
   "outputs": [
    {
     "data": {
      "text/html": [
       "\n",
       "            <style>\n",
       "                .geemap-dark {\n",
       "                    --jp-widgets-color: white;\n",
       "                    --jp-widgets-label-color: white;\n",
       "                    --jp-ui-font-color1: white;\n",
       "                    --jp-layout-color2: #454545;\n",
       "                    background-color: #383838;\n",
       "                }\n",
       "\n",
       "                .geemap-dark .jupyter-button {\n",
       "                    --jp-layout-color3: #383838;\n",
       "                }\n",
       "\n",
       "                .geemap-colab {\n",
       "                    background-color: var(--colab-primary-surface-color, white);\n",
       "                }\n",
       "\n",
       "                .geemap-colab .jupyter-button {\n",
       "                    --jp-layout-color3: var(--colab-primary-surface-color, white);\n",
       "                }\n",
       "            </style>\n",
       "            "
      ],
      "text/plain": [
       "<IPython.core.display.HTML object>"
      ]
     },
     "metadata": {},
     "output_type": "display_data"
    },
    {
     "data": {
      "text/plain": [
       "['downscaled']"
      ]
     },
     "execution_count": 26,
     "metadata": {},
     "output_type": "execute_result"
    }
   ],
   "source": [
    "ET_COLLECTION.first().bandNames().getInfo()"
   ]
  },
  {
   "cell_type": "code",
   "execution_count": 27,
   "metadata": {},
   "outputs": [
    {
     "data": {
      "text/html": [
       "\n",
       "            <style>\n",
       "                .geemap-dark {\n",
       "                    --jp-widgets-color: white;\n",
       "                    --jp-widgets-label-color: white;\n",
       "                    --jp-ui-font-color1: white;\n",
       "                    --jp-layout-color2: #454545;\n",
       "                    background-color: #383838;\n",
       "                }\n",
       "\n",
       "                .geemap-dark .jupyter-button {\n",
       "                    --jp-layout-color3: #383838;\n",
       "                }\n",
       "\n",
       "                .geemap-colab {\n",
       "                    background-color: var(--colab-primary-surface-color, white);\n",
       "                }\n",
       "\n",
       "                .geemap-colab .jupyter-button {\n",
       "                    --jp-layout-color3: var(--colab-primary-surface-color, white);\n",
       "                }\n",
       "            </style>\n",
       "            "
      ],
      "text/plain": [
       "<IPython.core.display.HTML object>"
      ]
     },
     "metadata": {},
     "output_type": "display_data"
    }
   ],
   "source": [
    "PATH_TO_AOI = \"projects/thurgau-irrigation/assets/Thurgau/thrugau_borders_2024\"\n",
    "\n",
    "aoi_feature_collection = ee.FeatureCollection(PATH_TO_AOI)\n",
    "aoi_geometry = aoi_feature_collection.geometry().simplify(500)\n",
    "\n",
    "AOI = aoi_geometry.buffer(100)"
   ]
  },
  {
   "cell_type": "code",
   "execution_count": 28,
   "metadata": {},
   "outputs": [
    {
     "data": {
      "text/html": [
       "\n",
       "            <style>\n",
       "                .geemap-dark {\n",
       "                    --jp-widgets-color: white;\n",
       "                    --jp-widgets-label-color: white;\n",
       "                    --jp-ui-font-color1: white;\n",
       "                    --jp-layout-color2: #454545;\n",
       "                    background-color: #383838;\n",
       "                }\n",
       "\n",
       "                .geemap-dark .jupyter-button {\n",
       "                    --jp-layout-color3: #383838;\n",
       "                }\n",
       "\n",
       "                .geemap-colab {\n",
       "                    background-color: var(--colab-primary-surface-color, white);\n",
       "                }\n",
       "\n",
       "                .geemap-colab .jupyter-button {\n",
       "                    --jp-layout-color3: var(--colab-primary-surface-color, white);\n",
       "                }\n",
       "            </style>\n",
       "            "
      ],
      "text/plain": [
       "<IPython.core.display.HTML object>"
      ]
     },
     "metadata": {},
     "output_type": "display_data"
    }
   ],
   "source": [
    "def process_and_export_et_green(\n",
    "    et_collection_list: ee.List,\n",
    "    year: int,\n",
    "    aoi: ee.Geometry,\n",
    "    time_steps: int = 36,\n",
    "    time_step_type: str = \"dekadal\",\n",
    "    double_cropping_image: ee.Image = None,\n",
    ") -> List[ee.batch.Task]:\n",
    "    \"\"\"\n",
    "    Process and export ET green images for a given year.\n",
    "\n",
    "    Args:\n",
    "        et_collection (ee.List): List of ET images\n",
    "        year (int): Year to process\n",
    "        aoi (ee.Geometry): Area of interest\n",
    "        time_steps (int): Number of time steps (36 for dekadal, 12 for monthly)\n",
    "        time_step_type (str): Type of time step (\"dekadal\" or \"monthly\")\n",
    "        double_cropping_image (ee.Image): Double cropping image\n",
    "\n",
    "    Returns:\n",
    "        List[ee.batch.Task]: List of export tasks\n",
    "    \"\"\"\n",
    "    nutzung_collection = ee.FeatureCollection(\n",
    "        f\"projects/thurgau-irrigation/assets/Thurgau/Nutzungsflaechen/TG_2022_area\"\n",
    "    )\n",
    "\n",
    "    # # Uncomment this if not working with Zuerich!\n",
    "    # nutzung_collection = nutzung_collection.map(\n",
    "    #     lambda feature: feature.set(\"nutzung\", feature.get(\"NUTZUNG\"))\n",
    "    # )\n",
    "\n",
    "    jurisdictions = ee.FeatureCollection(\n",
    "        f\"projects/thurgau-irrigation/assets/Thurgau/thurgau_jurisdictions_2022_wgs84\"\n",
    "    )\n",
    "\n",
    "    double_cropping = ee.Image(double_cropping_image)\n",
    "\n",
    "    # Prepare crop filters\n",
    "    not_irrigated_crops = get_crops_to_exclude()\n",
    "    rainfed_crops = get_rainfed_reference_crops()\n",
    "    exclude_filter, rainfed_filter = create_crop_filters(\n",
    "        not_irrigated_crops, rainfed_crops\n",
    "    )\n",
    "\n",
    "    # Process nutzung collection\n",
    "    nutzung_with_double_crop = add_double_cropping_info(\n",
    "        nutzung_collection, double_cropping\n",
    "    )\n",
    "    _, rainfed_fields = filter_crops(\n",
    "        nutzung_with_double_crop, exclude_filter, rainfed_filter\n",
    "    )\n",
    "\n",
    "    tasks = []\n",
    "    for i in range(time_steps):\n",
    "        # Get time step info\n",
    "        if time_step_type == \"dekadal\":\n",
    "            dekadal = i % 3 + 1\n",
    "            month = i // 3 + 1\n",
    "            time_step_name = f\"{month:02d}_D{dekadal}\"\n",
    "        elif time_step_type == \"monthly\":\n",
    "            month = i + 1\n",
    "            time_step_name = f\"{month:02d}\"\n",
    "        else:\n",
    "            raise ValueError(\"time_step_type must be either 'dekadal' or 'monthly'\")\n",
    "\n",
    "        # Get ET image and compute ET green\n",
    "        et_image = ee.Image(et_collection_list.get(i))\n",
    "        et_green = compute_et_green(\n",
    "            et_image, rainfed_fields, jurisdictions, et_band_name=\"downscaled\"\n",
    "        )\n",
    "\n",
    "        et_green = back_to_int(et_green, 100)\n",
    "\n",
    "        # Export result\n",
    "        task_name = (\n",
    "            f\"ET_green_landsat_10m_jurisdiction_{time_step_type}_TG_{year}-{time_step_name}\"\n",
    "        )\n",
    "        asset_id = f\"projects/thurgau-irrigation/assets/Thurgau/ET_green_landsat_10m_jurisdiction_{time_step_type}_TG_2022/{task_name}\"\n",
    "\n",
    "        task = export_image_to_asset(et_green, asset_id, task_name, year, aoi, scale=10)\n",
    "        tasks.append(task)\n",
    "\n",
    "    return tasks"
   ]
  },
  {
   "cell_type": "code",
   "execution_count": 29,
   "metadata": {},
   "outputs": [
    {
     "data": {
      "text/html": [
       "\n",
       "            <style>\n",
       "                .geemap-dark {\n",
       "                    --jp-widgets-color: white;\n",
       "                    --jp-widgets-label-color: white;\n",
       "                    --jp-ui-font-color1: white;\n",
       "                    --jp-layout-color2: #454545;\n",
       "                    background-color: #383838;\n",
       "                }\n",
       "\n",
       "                .geemap-dark .jupyter-button {\n",
       "                    --jp-layout-color3: #383838;\n",
       "                }\n",
       "\n",
       "                .geemap-colab {\n",
       "                    background-color: var(--colab-primary-surface-color, white);\n",
       "                }\n",
       "\n",
       "                .geemap-colab .jupyter-button {\n",
       "                    --jp-layout-color3: var(--colab-primary-surface-color, white);\n",
       "                }\n",
       "            </style>\n",
       "            "
      ],
      "text/plain": [
       "<IPython.core.display.HTML object>"
      ]
     },
     "metadata": {},
     "output_type": "display_data"
    }
   ],
   "source": [
    "# for year in YEARS:\n",
    "\n",
    "#     et_collection_list = ET_COLLECTION.filterDate(\n",
    "#         f\"{year}-01-01\", f\"{year}-12-31\"\n",
    "#     ).toList(TIME_STEPS)\n",
    "\n",
    "#     # DOUBLE_CROPPING_IMAGE = ee.Image(f\"projects/thurgau-irrigation/assets/Thurgau/VegetationPeriod/crop_veg_period_{year}\")\n",
    "\n",
    "#     tasks = process_and_export_et_green(\n",
    "#         et_collection_list, year, AOI, TIME_STEPS, TIME_STEP_TYPE, DOUBLE_CROPPING_IMAGE\n",
    "#     )\n",
    "\n",
    "#     print(f\"Started {len(tasks)} export tasks.\")"
   ]
  },
  {
   "cell_type": "code",
   "execution_count": 30,
   "metadata": {},
   "outputs": [
    {
     "data": {
      "text/html": [
       "\n",
       "            <style>\n",
       "                .geemap-dark {\n",
       "                    --jp-widgets-color: white;\n",
       "                    --jp-widgets-label-color: white;\n",
       "                    --jp-ui-font-color1: white;\n",
       "                    --jp-layout-color2: #454545;\n",
       "                    background-color: #383838;\n",
       "                }\n",
       "\n",
       "                .geemap-dark .jupyter-button {\n",
       "                    --jp-layout-color3: #383838;\n",
       "                }\n",
       "\n",
       "                .geemap-colab {\n",
       "                    background-color: var(--colab-primary-surface-color, white);\n",
       "                }\n",
       "\n",
       "                .geemap-colab .jupyter-button {\n",
       "                    --jp-layout-color3: var(--colab-primary-surface-color, white);\n",
       "                }\n",
       "            </style>\n",
       "            "
      ],
      "text/plain": [
       "<IPython.core.display.HTML object>"
      ]
     },
     "metadata": {},
     "output_type": "display_data"
    }
   ],
   "source": [
    "# collection.size().getInfo()\n",
    "\n",
    "# date_utils.print_collection_dates(collection)"
   ]
  },
  {
   "cell_type": "markdown",
   "metadata": {},
   "source": [
    "### Sanity check\n"
   ]
  },
  {
   "cell_type": "markdown",
   "metadata": {},
   "source": [
    "## ET Green"
   ]
  },
  {
   "cell_type": "code",
   "execution_count": 31,
   "metadata": {},
   "outputs": [
    {
     "data": {
      "text/html": [
       "\n",
       "            <style>\n",
       "                .geemap-dark {\n",
       "                    --jp-widgets-color: white;\n",
       "                    --jp-widgets-label-color: white;\n",
       "                    --jp-ui-font-color1: white;\n",
       "                    --jp-layout-color2: #454545;\n",
       "                    background-color: #383838;\n",
       "                }\n",
       "\n",
       "                .geemap-dark .jupyter-button {\n",
       "                    --jp-layout-color3: #383838;\n",
       "                }\n",
       "\n",
       "                .geemap-colab {\n",
       "                    background-color: var(--colab-primary-surface-color, white);\n",
       "                }\n",
       "\n",
       "                .geemap-colab .jupyter-button {\n",
       "                    --jp-layout-color3: var(--colab-primary-surface-color, white);\n",
       "                }\n",
       "            </style>\n",
       "            "
      ],
      "text/plain": [
       "<IPython.core.display.HTML object>"
      ]
     },
     "metadata": {},
     "output_type": "display_data"
    },
    {
     "name": "stdout",
     "output_type": "stream",
     "text": [
      "Dates of images in the collection:\n",
      "2022-01-01\n",
      "2022-02-01\n",
      "2022-03-01\n",
      "2022-04-01\n",
      "2022-05-01\n",
      "2022-06-01\n",
      "2022-07-01\n",
      "2022-08-01\n",
      "2022-09-01\n",
      "2022-10-01\n",
      "2022-11-01\n",
      "2022-12-01\n"
     ]
    }
   ],
   "source": [
    "check_collection = ee.ImageCollection(\n",
    "    \"projects/thurgau-irrigation/assets/Thurgau/ET_green_landsat_10m_jurisdiction_monthly_TG_2022\"\n",
    ").map(lambda img: back_to_float(img, 100))\n",
    "\n",
    "# check_collection_2 = ee.ImageCollection(\n",
    "#     \"projects/thurgau-irrigation/assets/Zuerich/ET_green_landsat_30m_jurisdiction_monthly_ZH_2022\"\n",
    "# ).map(lambda img: back_to_float(img, 100))\n",
    "\n",
    "# field_for_validation = ee.FeatureCollection(\"projects/thurgau-irrigation/assets/ZH_Nutzungsflaechen_2/2022_with_irrigation_estimates\")\n",
    "\n",
    "# check_collection.first().bandNames().getInfo()\n",
    "\n",
    "date_utils.print_collection_dates(check_collection)"
   ]
  },
  {
   "cell_type": "code",
   "execution_count": 32,
   "metadata": {},
   "outputs": [
    {
     "data": {
      "text/html": [
       "\n",
       "            <style>\n",
       "                .geemap-dark {\n",
       "                    --jp-widgets-color: white;\n",
       "                    --jp-widgets-label-color: white;\n",
       "                    --jp-ui-font-color1: white;\n",
       "                    --jp-layout-color2: #454545;\n",
       "                    background-color: #383838;\n",
       "                }\n",
       "\n",
       "                .geemap-dark .jupyter-button {\n",
       "                    --jp-layout-color3: #383838;\n",
       "                }\n",
       "\n",
       "                .geemap-colab {\n",
       "                    background-color: var(--colab-primary-surface-color, white);\n",
       "                }\n",
       "\n",
       "                .geemap-colab .jupyter-button {\n",
       "                    --jp-layout-color3: var(--colab-primary-surface-color, white);\n",
       "                }\n",
       "            </style>\n",
       "            "
      ],
      "text/plain": [
       "<IPython.core.display.HTML object>"
      ]
     },
     "metadata": {},
     "output_type": "display_data"
    },
    {
     "name": "stdout",
     "output_type": "stream",
     "text": [
      "ET Green Image 1, std value:  2.1124714266711107\n",
      "ET Green Image 2, std value:  5.446267329181345\n",
      "ET Green Image 3, std value:  5.491798605197101\n",
      "ET Green Image 4, std value:  5.373282666091725\n",
      "ET Green Image 5, std value:  5.154916910045797\n",
      "ET Green Image 6, std value:  8.98446496053527\n",
      "ET Green Image 7, std value:  11.557760167491505\n",
      "ET Green Image 8, std value:  11.048691038991146\n",
      "ET Green Image 9, std value:  5.646525970613019\n",
      "ET Green Image 10, std value:  10.70351702245545\n",
      "ET Green Image 11, std value:  0\n",
      "ET Green Image 12, std value:  0\n"
     ]
    }
   ],
   "source": [
    "check_collection_list = check_collection.toList(12)\n",
    "\n",
    "for i in range(12):\n",
    "    img = ee.Image(check_collection_list.get(i))\n",
    "    print(\n",
    "        f\"ET Green Image {i + 1}, std value: \",\n",
    "        calculate_band_std_dev(img, \"ET_green\").getInfo(),\n",
    "    )"
   ]
  },
  {
   "cell_type": "code",
   "execution_count": 33,
   "metadata": {},
   "outputs": [
    {
     "data": {
      "text/html": [
       "\n",
       "            <style>\n",
       "                .geemap-dark {\n",
       "                    --jp-widgets-color: white;\n",
       "                    --jp-widgets-label-color: white;\n",
       "                    --jp-ui-font-color1: white;\n",
       "                    --jp-layout-color2: #454545;\n",
       "                    background-color: #383838;\n",
       "                }\n",
       "\n",
       "                .geemap-dark .jupyter-button {\n",
       "                    --jp-layout-color3: #383838;\n",
       "                }\n",
       "\n",
       "                .geemap-colab {\n",
       "                    background-color: var(--colab-primary-surface-color, white);\n",
       "                }\n",
       "\n",
       "                .geemap-colab .jupyter-button {\n",
       "                    --jp-layout-color3: var(--colab-primary-surface-color, white);\n",
       "                }\n",
       "            </style>\n",
       "            "
      ],
      "text/plain": [
       "<IPython.core.display.HTML object>"
      ]
     },
     "metadata": {},
     "output_type": "display_data"
    }
   ],
   "source": [
    "# date_utils.print_collection_dates(check_collection)\n",
    "# print_value_ranges(check_collection, \"ET_green\")"
   ]
  },
  {
   "cell_type": "code",
   "execution_count": 34,
   "metadata": {},
   "outputs": [
    {
     "data": {
      "text/html": [
       "\n",
       "            <style>\n",
       "                .geemap-dark {\n",
       "                    --jp-widgets-color: white;\n",
       "                    --jp-widgets-label-color: white;\n",
       "                    --jp-ui-font-color1: white;\n",
       "                    --jp-layout-color2: #454545;\n",
       "                    background-color: #383838;\n",
       "                }\n",
       "\n",
       "                .geemap-dark .jupyter-button {\n",
       "                    --jp-layout-color3: #383838;\n",
       "                }\n",
       "\n",
       "                .geemap-colab {\n",
       "                    background-color: var(--colab-primary-surface-color, white);\n",
       "                }\n",
       "\n",
       "                .geemap-colab .jupyter-button {\n",
       "                    --jp-layout-color3: var(--colab-primary-surface-color, white);\n",
       "                }\n",
       "            </style>\n",
       "            "
      ],
      "text/plain": [
       "<IPython.core.display.HTML object>"
      ]
     },
     "metadata": {},
     "output_type": "display_data"
    },
    {
     "data": {
      "application/vnd.jupyter.widget-view+json": {
       "model_id": "6354b7eba4674718b21b3dac080bd456",
       "version_major": 2,
       "version_minor": 0
      },
      "text/plain": [
       "Map(center=[47.56858787382066, 9.092720596553875], controls=(WidgetControl(options=['position', 'transparent_b…"
      ]
     },
     "execution_count": 34,
     "metadata": {},
     "output_type": "execute_result"
    }
   ],
   "source": [
    "Map = geemap.Map()\n",
    "\n",
    "image = ee.Image(check_collection.toList(12).get(9))\n",
    "# image2 = ee.Image(check_collection_2.toList(12).get(7))\n",
    "\n",
    "\n",
    "vis_params = {\n",
    "    \"bands\": [\"ET_green\"],\n",
    "    \"min\": 0,\n",
    "    \"max\": 100,\n",
    "    \"palette\": [\"blue\", \"lightblue\", \"green\", \"yellow\", \"orange\", \"red\"],\n",
    "}\n",
    "\n",
    "Map.center_object(AOI, 12)\n",
    "Map.addLayer(image, vis_params, \"ET green 10m\")\n",
    "# Map.addLayer(image2, vis_params, \"ET green 30m\")\n",
    "Map.add_colorbar(vis_params, label=\"ET green [mm/month]\")\n",
    "\n",
    "Map"
   ]
  },
  {
   "cell_type": "markdown",
   "metadata": {},
   "source": [
    "## ET Blue Post Processed"
   ]
  },
  {
   "cell_type": "code",
   "execution_count": null,
   "metadata": {},
   "outputs": [],
   "source": [
    "et_blue_postprocessed = ee.ImageCollection(\"projects/thurgau-irrigation/assets/Zuerich/ET_blue_postprocessed_landsat_30m_monthly_ZH_2022\").map(lambda img: back_to_float(img, 100))"
   ]
  },
  {
   "cell_type": "code",
   "execution_count": null,
   "metadata": {},
   "outputs": [],
   "source": [
    "et_blue_postprocessed.first().bandNames().getInfo()\n"
   ]
  },
  {
   "cell_type": "code",
   "execution_count": null,
   "metadata": {},
   "outputs": [],
   "source": [
    "et_blue_postprocessed_list = et_blue_postprocessed.toList(12)"
   ]
  },
  {
   "cell_type": "code",
   "execution_count": null,
   "metadata": {},
   "outputs": [],
   "source": [
    "Map = geemap.Map()\n",
    "\n",
    "vis_params = {\n",
    "    \"bands\": [\"ET_blue\"],\n",
    "    \"min\": 0,\n",
    "    \"max\": 90,\n",
    "    \"palette\": [\"red\", \"orange\", \"yellow\", \"green\"],\n",
    "}\n",
    "\n",
    "Map.center_object(AOI, 12)\n",
    "\n",
    "for i in range(3, 10):\n",
    "    image = ee.Image(et_blue_postprocessed_list.get(i))\n",
    "    Map.addLayer(image, vis_params, \"ET_blue_\" + str(i + 1))\n",
    "\n",
    "Map.addLayer(field_for_validation, {\"color\": \"black\"}, \"Walter Koch fields\")\n",
    "\n",
    "\n",
    "Map.add_colorbar(vis_params, label=\"ET blue [mm/month]\")\n",
    "\n",
    "Map"
   ]
  },
  {
   "cell_type": "markdown",
   "metadata": {},
   "source": [
    "## ET Landsat Gap Filled"
   ]
  },
  {
   "cell_type": "code",
   "execution_count": null,
   "metadata": {},
   "outputs": [],
   "source": [
    "et_gap_filled = ee.ImageCollection(\"projects/thurgau-irrigation/assets/Zuerich/Landsat_ET_gap_filled_monthly_10m_ZH_2018-2022\").filterDate(\"2022-01-01\", \"2022-12-31\")\n",
    "\n",
    "landsat_with_gaps = ee.ImageCollection(\n",
    "    \"projects/thurgau-irrigation/assets/ETlandsatmonthly\"\n",
    ").filterDate(\"2022-01-01\", \"2022-12-31\")\n",
    "landsat_with_gaps_list = landsat_with_gaps.toList(12)"
   ]
  },
  {
   "cell_type": "code",
   "execution_count": null,
   "metadata": {},
   "outputs": [],
   "source": [
    "et_gap_filled_list = et_gap_filled.toList(12)"
   ]
  },
  {
   "cell_type": "code",
   "execution_count": null,
   "metadata": {},
   "outputs": [],
   "source": [
    "Map = geemap.Map()\n",
    "\n",
    "vis_params = {\n",
    "    \"bands\": [\"ET\"],\n",
    "    \"min\": 0,\n",
    "    \"max\": 90,\n",
    "    \"palette\": [\"red\", \"orange\", \"yellow\", \"green\"],\n",
    "}\n",
    "\n",
    "Map.center_object(AOI, 12)\n",
    "\n",
    "for i in range(3, 10):\n",
    "    image = ee.Image(landsat_with_gaps_list.get(i))\n",
    "    Map.addLayer(image, vis_params, \"ET_gap\" + str(i + 1))\n",
    "\n",
    "Map.addLayer(field_for_validation, {\"color\": \"black\"}, \"Walter Koch fields\")\n",
    "\n",
    "Map.add_colorbar(vis_params, label=\"ET gap filled [mm/month]\")\n",
    "\n",
    "Map"
   ]
  },
  {
   "cell_type": "markdown",
   "metadata": {},
   "source": [
    "## Field level estimates"
   ]
  },
  {
   "cell_type": "code",
   "execution_count": null,
   "metadata": {},
   "outputs": [],
   "source": [
    "field_level_estimates = ee.FeatureCollection(\"projects/thurgau-irrigation/assets/Zuerich/ET_blue_m3_ha_yr_per_field_from_dekadal_wapor_10m_ZH_2022/ET_blue_m3_ha_yr_per_field_from_dekadal_wapor_10m_ZH_2022\")"
   ]
  },
  {
   "cell_type": "code",
   "execution_count": null,
   "metadata": {},
   "outputs": [],
   "source": [
    "palette = [\"white\", \"blue\", \"green\", \"yellow\", \"red\"]\n",
    "\n",
    "# Define visualization parameters\n",
    "visualization = {\n",
    "    \"min\": 0,\n",
    "    \"max\": 1000,  \n",
    "    \"palette\": palette,\n",
    "}\n",
    "\n",
    "irrigation = field_level_estimates.reduceToImage(\n",
    "    properties=[\"ET_blue_m3_ha_yr\"], reducer=ee.Reducer.first()\n",
    ")\n",
    "\n",
    "# Create a map centered on the area of interest\n",
    "Map = geemap.Map(center=[47.63915833792603, 8.77542613019931], zoom=12)\n",
    "\n",
    "# Add the gradient visualization layer to the map\n",
    "Map.addLayer(irrigation, visualization, \"ET_blue_m3_ha_yr\")\n",
    "Map.addLayer(field_for_validation, {\"color\": \"black\"}, \"Walter Koch fields\")\n",
    "\n",
    "\n",
    "\n",
    "Map.add_colorbar(visualization, label=\"ET blue [m³/ha/yr]\")\n",
    "\n",
    "Map"
   ]
  },
  {
   "cell_type": "code",
   "execution_count": null,
   "metadata": {},
   "outputs": [],
   "source": []
  }
 ],
 "metadata": {
  "kernelspec": {
   "display_name": "geemap_env",
   "language": "python",
   "name": "python3"
  },
  "language_info": {
   "codemirror_mode": {
    "name": "ipython",
    "version": 3
   },
   "file_extension": ".py",
   "mimetype": "text/x-python",
   "name": "python",
   "nbconvert_exporter": "python",
   "pygments_lexer": "ipython3",
   "version": "3.11.10"
  }
 },
 "nbformat": 4,
 "nbformat_minor": 2
}
