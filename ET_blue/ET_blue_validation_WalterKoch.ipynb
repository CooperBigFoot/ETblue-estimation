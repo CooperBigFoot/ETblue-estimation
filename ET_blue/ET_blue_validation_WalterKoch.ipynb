{
 "cells": [
  {
   "cell_type": "code",
   "execution_count": 1,
   "metadata": {},
   "outputs": [],
   "source": [
    "import sys\n",
    "import os\n",
    "\n",
    "sys.path.append(os.path.abspath(os.path.join(\"..\")))"
   ]
  },
  {
   "cell_type": "code",
   "execution_count": 2,
   "metadata": {},
   "outputs": [],
   "source": [
    "import ee\n",
    "import geemap\n",
    "from utils import ee_utils, date_utils, plot_config\n",
    "from utils.ee_utils import back_to_float\n",
    "\n",
    "import pandas as pd\n",
    "import matplotlib.pyplot as plt\n",
    "import seaborn as sns\n",
    "import numpy as np\n",
    "from typing import Dict, List, Tuple, Union\n",
    "\n",
    "import warnings\n",
    "\n",
    "warnings.filterwarnings(\"ignore\")"
   ]
  },
  {
   "cell_type": "code",
   "execution_count": 3,
   "metadata": {},
   "outputs": [
    {
     "data": {
      "text/html": [
       "\n",
       "            <style>\n",
       "                .geemap-dark {\n",
       "                    --jp-widgets-color: white;\n",
       "                    --jp-widgets-label-color: white;\n",
       "                    --jp-ui-font-color1: white;\n",
       "                    --jp-layout-color2: #454545;\n",
       "                    background-color: #383838;\n",
       "                }\n",
       "\n",
       "                .geemap-dark .jupyter-button {\n",
       "                    --jp-layout-color3: #383838;\n",
       "                }\n",
       "\n",
       "                .geemap-colab {\n",
       "                    background-color: var(--colab-primary-surface-color, white);\n",
       "                }\n",
       "\n",
       "                .geemap-colab .jupyter-button {\n",
       "                    --jp-layout-color3: var(--colab-primary-surface-color, white);\n",
       "                }\n",
       "            </style>\n",
       "            "
      ],
      "text/plain": [
       "<IPython.core.display.HTML object>"
      ]
     },
     "metadata": {},
     "output_type": "display_data"
    }
   ],
   "source": [
    "from filter_nutzungsflaechen import (\n",
    "    get_crops_to_exclude,\n",
    "    get_rainfed_reference_crops,\n",
    "    create_crop_filters,\n",
    "    filter_crops,\n",
    "    add_double_cropping_info,\n",
    ")"
   ]
  },
  {
   "cell_type": "markdown",
   "metadata": {},
   "source": [
    "## Validating ET Blue Maps with Walter Koch's Estimates\n",
    "\n",
    "This notebook follows a three-step process:\n",
    "\n",
    "1. **Create Yearly ET Blue Maps (2018-2022):**  \n",
    "   - Aggregate dekadal ET Blue maps into monthly maps.\n",
    "   - Filter the maps to include only the growing season months (April through October).\n",
    "   - Sum the monthly ET Blue maps to produce yearly ET Blue maps.\n",
    "\n",
    "2. **Calculate Yearly ET Blue Values for Potentially Irrigated Fields:**  \n",
    "   - Compute ET blue in m3/ha/yr for each crop field for each year.\n",
    "\n",
    "3. **Compare ET Blue Values with Walter Koch's Estimates:**\n",
    "   - Make pretty plots"
   ]
  },
  {
   "cell_type": "markdown",
   "metadata": {},
   "source": [
    "## Aggregate dekadal ET Blue maps into monthly maps"
   ]
  },
  {
   "cell_type": "code",
   "execution_count": 4,
   "metadata": {},
   "outputs": [
    {
     "data": {
      "text/html": [
       "\n",
       "            <style>\n",
       "                .geemap-dark {\n",
       "                    --jp-widgets-color: white;\n",
       "                    --jp-widgets-label-color: white;\n",
       "                    --jp-ui-font-color1: white;\n",
       "                    --jp-layout-color2: #454545;\n",
       "                    background-color: #383838;\n",
       "                }\n",
       "\n",
       "                .geemap-dark .jupyter-button {\n",
       "                    --jp-layout-color3: #383838;\n",
       "                }\n",
       "\n",
       "                .geemap-colab {\n",
       "                    background-color: var(--colab-primary-surface-color, white);\n",
       "                }\n",
       "\n",
       "                .geemap-colab .jupyter-button {\n",
       "                    --jp-layout-color3: var(--colab-primary-surface-color, white);\n",
       "                }\n",
       "            </style>\n",
       "            "
      ],
      "text/plain": [
       "<IPython.core.display.HTML object>"
      ]
     },
     "metadata": {},
     "output_type": "display_data"
    }
   ],
   "source": [
    "ET_blue_collection = ee.ImageCollection(\n",
    "    \"projects/thurgau-irrigation/assets/Thurgau/ET_blue_postprocessed_2018-2022\"\n",
    ")\n",
    "\n",
    "\n",
    "ET_blue_collection = ET_blue_collection.map(lambda img: back_to_float(img, 100))"
   ]
  },
  {
   "cell_type": "code",
   "execution_count": 5,
   "metadata": {},
   "outputs": [
    {
     "data": {
      "text/html": [
       "\n",
       "            <style>\n",
       "                .geemap-dark {\n",
       "                    --jp-widgets-color: white;\n",
       "                    --jp-widgets-label-color: white;\n",
       "                    --jp-ui-font-color1: white;\n",
       "                    --jp-layout-color2: #454545;\n",
       "                    background-color: #383838;\n",
       "                }\n",
       "\n",
       "                .geemap-dark .jupyter-button {\n",
       "                    --jp-layout-color3: #383838;\n",
       "                }\n",
       "\n",
       "                .geemap-colab {\n",
       "                    background-color: var(--colab-primary-surface-color, white);\n",
       "                }\n",
       "\n",
       "                .geemap-colab .jupyter-button {\n",
       "                    --jp-layout-color3: var(--colab-primary-surface-color, white);\n",
       "                }\n",
       "            </style>\n",
       "            "
      ],
      "text/plain": [
       "<IPython.core.display.HTML object>"
      ]
     },
     "metadata": {},
     "output_type": "display_data"
    }
   ],
   "source": [
    "# date_utils.print_collection_dates(ET_blue_collection)"
   ]
  },
  {
   "cell_type": "code",
   "execution_count": 6,
   "metadata": {},
   "outputs": [
    {
     "data": {
      "text/html": [
       "\n",
       "            <style>\n",
       "                .geemap-dark {\n",
       "                    --jp-widgets-color: white;\n",
       "                    --jp-widgets-label-color: white;\n",
       "                    --jp-ui-font-color1: white;\n",
       "                    --jp-layout-color2: #454545;\n",
       "                    background-color: #383838;\n",
       "                }\n",
       "\n",
       "                .geemap-dark .jupyter-button {\n",
       "                    --jp-layout-color3: #383838;\n",
       "                }\n",
       "\n",
       "                .geemap-colab {\n",
       "                    background-color: var(--colab-primary-surface-color, white);\n",
       "                }\n",
       "\n",
       "                .geemap-colab .jupyter-button {\n",
       "                    --jp-layout-color3: var(--colab-primary-surface-color, white);\n",
       "                }\n",
       "            </style>\n",
       "            "
      ],
      "text/plain": [
       "<IPython.core.display.HTML object>"
      ]
     },
     "metadata": {},
     "output_type": "display_data"
    }
   ],
   "source": [
    "# ee_utils.print_value_ranges(ET_blue_collection)"
   ]
  },
  {
   "cell_type": "code",
   "execution_count": 7,
   "metadata": {},
   "outputs": [
    {
     "data": {
      "text/html": [
       "\n",
       "            <style>\n",
       "                .geemap-dark {\n",
       "                    --jp-widgets-color: white;\n",
       "                    --jp-widgets-label-color: white;\n",
       "                    --jp-ui-font-color1: white;\n",
       "                    --jp-layout-color2: #454545;\n",
       "                    background-color: #383838;\n",
       "                }\n",
       "\n",
       "                .geemap-dark .jupyter-button {\n",
       "                    --jp-layout-color3: #383838;\n",
       "                }\n",
       "\n",
       "                .geemap-colab {\n",
       "                    background-color: var(--colab-primary-surface-color, white);\n",
       "                }\n",
       "\n",
       "                .geemap-colab .jupyter-button {\n",
       "                    --jp-layout-color3: var(--colab-primary-surface-color, white);\n",
       "                }\n",
       "            </style>\n",
       "            "
      ],
      "text/plain": [
       "<IPython.core.display.HTML object>"
      ]
     },
     "metadata": {},
     "output_type": "display_data"
    }
   ],
   "source": [
    "# ET_blue_collection_list = ET_blue_collection.toList(ET_blue_collection.size())\n",
    "\n",
    "# Map = geemap.Map()\n",
    "\n",
    "# image = ee.Image(ET_blue_collection_list.get(96))\n",
    "\n",
    "# vis_params = {\n",
    "#     \"bands\": [\"ET_blue\"],\n",
    "#     \"min\": 0,\n",
    "#     \"max\": 1,\n",
    "#     \"palette\": [\"white\", \"blue\", \"green\", \"yellow\", \"red\"],\n",
    "# }\n",
    "\n",
    "# Map.addLayer(image, vis_params, \"ET_blue\")\n",
    "# Map.add_colorbar(vis_params, label=\"ET_blue\", orientation=\"horizontal\")\n",
    "# Map"
   ]
  },
  {
   "cell_type": "code",
   "execution_count": 8,
   "metadata": {},
   "outputs": [
    {
     "data": {
      "text/html": [
       "\n",
       "            <style>\n",
       "                .geemap-dark {\n",
       "                    --jp-widgets-color: white;\n",
       "                    --jp-widgets-label-color: white;\n",
       "                    --jp-ui-font-color1: white;\n",
       "                    --jp-layout-color2: #454545;\n",
       "                    background-color: #383838;\n",
       "                }\n",
       "\n",
       "                .geemap-dark .jupyter-button {\n",
       "                    --jp-layout-color3: #383838;\n",
       "                }\n",
       "\n",
       "                .geemap-colab {\n",
       "                    background-color: var(--colab-primary-surface-color, white);\n",
       "                }\n",
       "\n",
       "                .geemap-colab .jupyter-button {\n",
       "                    --jp-layout-color3: var(--colab-primary-surface-color, white);\n",
       "                }\n",
       "            </style>\n",
       "            "
      ],
      "text/plain": [
       "<IPython.core.display.HTML object>"
      ]
     },
     "metadata": {},
     "output_type": "display_data"
    }
   ],
   "source": [
    "ET_blue_collection_monthly = ee_utils.aggregate_to_monthly(\n",
    "    ET_blue_collection, bands=[\"ET_blue\", \"ET_blue_m3\"]\n",
    ")"
   ]
  },
  {
   "cell_type": "markdown",
   "metadata": {},
   "source": [
    "## Filter the maps to include only the growing season months (April through October)."
   ]
  },
  {
   "cell_type": "code",
   "execution_count": 9,
   "metadata": {},
   "outputs": [
    {
     "data": {
      "text/html": [
       "\n",
       "            <style>\n",
       "                .geemap-dark {\n",
       "                    --jp-widgets-color: white;\n",
       "                    --jp-widgets-label-color: white;\n",
       "                    --jp-ui-font-color1: white;\n",
       "                    --jp-layout-color2: #454545;\n",
       "                    background-color: #383838;\n",
       "                }\n",
       "\n",
       "                .geemap-dark .jupyter-button {\n",
       "                    --jp-layout-color3: #383838;\n",
       "                }\n",
       "\n",
       "                .geemap-colab {\n",
       "                    background-color: var(--colab-primary-surface-color, white);\n",
       "                }\n",
       "\n",
       "                .geemap-colab .jupyter-button {\n",
       "                    --jp-layout-color3: var(--colab-primary-surface-color, white);\n",
       "                }\n",
       "            </style>\n",
       "            "
      ],
      "text/plain": [
       "<IPython.core.display.HTML object>"
      ]
     },
     "metadata": {},
     "output_type": "display_data"
    },
    {
     "name": "stdout",
     "output_type": "stream",
     "text": [
      "Dates of images in the collection:\n",
      "2018-04-01\n",
      "2018-05-01\n",
      "2018-06-01\n",
      "2018-07-01\n",
      "2018-08-01\n",
      "2018-09-01\n",
      "2018-10-01\n",
      "2019-04-01\n",
      "2019-05-01\n",
      "2019-06-01\n",
      "2019-07-01\n",
      "2019-08-01\n",
      "2019-09-01\n",
      "2019-10-01\n",
      "2020-04-01\n",
      "2020-05-01\n",
      "2020-06-01\n",
      "2020-07-01\n",
      "2020-08-01\n",
      "2020-09-01\n",
      "2020-10-01\n",
      "2021-04-01\n",
      "2021-05-01\n",
      "2021-06-01\n",
      "2021-07-01\n",
      "2021-08-01\n",
      "2021-09-01\n",
      "2021-10-01\n",
      "2022-04-01\n",
      "2022-05-01\n",
      "2022-06-01\n",
      "2022-07-01\n",
      "2022-08-01\n",
      "2022-09-01\n",
      "2022-10-01\n"
     ]
    }
   ],
   "source": [
    "ET_blue_collection_monthly_growing_season = ET_blue_collection_monthly.filter(ee.Filter.calendarRange(4, 10, \"month\"))\n",
    "\n",
    "date_utils.print_collection_dates(ET_blue_collection_monthly_growing_season)"
   ]
  },
  {
   "cell_type": "markdown",
   "metadata": {},
   "source": [
    "## Sum the monthly ET Blue maps to produce yearly ET Blue maps."
   ]
  },
  {
   "cell_type": "code",
   "execution_count": 10,
   "metadata": {},
   "outputs": [
    {
     "data": {
      "text/html": [
       "\n",
       "            <style>\n",
       "                .geemap-dark {\n",
       "                    --jp-widgets-color: white;\n",
       "                    --jp-widgets-label-color: white;\n",
       "                    --jp-ui-font-color1: white;\n",
       "                    --jp-layout-color2: #454545;\n",
       "                    background-color: #383838;\n",
       "                }\n",
       "\n",
       "                .geemap-dark .jupyter-button {\n",
       "                    --jp-layout-color3: #383838;\n",
       "                }\n",
       "\n",
       "                .geemap-colab {\n",
       "                    background-color: var(--colab-primary-surface-color, white);\n",
       "                }\n",
       "\n",
       "                .geemap-colab .jupyter-button {\n",
       "                    --jp-layout-color3: var(--colab-primary-surface-color, white);\n",
       "                }\n",
       "            </style>\n",
       "            "
      ],
      "text/plain": [
       "<IPython.core.display.HTML object>"
      ]
     },
     "metadata": {},
     "output_type": "display_data"
    }
   ],
   "source": [
    "def create_growing_season_yearly_sums(\n",
    "    collection: ee.ImageCollection,\n",
    ") -> ee.ImageCollection:\n",
    "    \"\"\"\n",
    "    Create yearly sums from a collection of monthly images for the growing season (April to October).\n",
    "\n",
    "    Args:\n",
    "        collection (ee.ImageCollection): Input collection with monthly images for the growing season.\n",
    "\n",
    "    Returns:\n",
    "        ee.ImageCollection: Collection with yearly sum images for the growing season.\n",
    "    \"\"\"\n",
    "\n",
    "    def sum_growing_season(year):\n",
    "        start_date = ee.Date.fromYMD(year, 4, 1)  # April 1st\n",
    "        end_date = ee.Date.fromYMD(year, 11, 1)  # November 1st (exclusive)\n",
    "        yearly_sum = collection.filterDate(start_date, end_date).sum()\n",
    "        return yearly_sum.set(\"year\", year).set(\n",
    "            \"system:time_start\", start_date.millis()\n",
    "        )\n",
    "\n",
    "    # Get the range of years in the collection\n",
    "    start_year = ee.Date(collection.first().get(\"system:time_start\")).get(\"year\")\n",
    "    end_year = ee.Date(\n",
    "        collection.sort(\"system:time_start\", False).first().get(\"system:time_start\")\n",
    "    ).get(\"year\")\n",
    "\n",
    "    # Create a list of years\n",
    "    years = ee.List.sequence(start_year, end_year)\n",
    "\n",
    "    # Map over the years to create yearly sums\n",
    "    yearly_sums = ee.ImageCollection.fromImages(years.map(sum_growing_season))\n",
    "\n",
    "    return yearly_sums\n",
    "\n",
    "\n",
    "ET_blue_collection_yearly = create_growing_season_yearly_sums(\n",
    "    ET_blue_collection_monthly_growing_season\n",
    ")"
   ]
  },
  {
   "cell_type": "code",
   "execution_count": 11,
   "metadata": {},
   "outputs": [
    {
     "data": {
      "text/html": [
       "\n",
       "            <style>\n",
       "                .geemap-dark {\n",
       "                    --jp-widgets-color: white;\n",
       "                    --jp-widgets-label-color: white;\n",
       "                    --jp-ui-font-color1: white;\n",
       "                    --jp-layout-color2: #454545;\n",
       "                    background-color: #383838;\n",
       "                }\n",
       "\n",
       "                .geemap-dark .jupyter-button {\n",
       "                    --jp-layout-color3: #383838;\n",
       "                }\n",
       "\n",
       "                .geemap-colab {\n",
       "                    background-color: var(--colab-primary-surface-color, white);\n",
       "                }\n",
       "\n",
       "                .geemap-colab .jupyter-button {\n",
       "                    --jp-layout-color3: var(--colab-primary-surface-color, white);\n",
       "                }\n",
       "            </style>\n",
       "            "
      ],
      "text/plain": [
       "<IPython.core.display.HTML object>"
      ]
     },
     "metadata": {},
     "output_type": "display_data"
    },
    {
     "data": {
      "text/plain": [
       "['ET_blue', 'ET_blue_m3']"
      ]
     },
     "execution_count": 11,
     "metadata": {},
     "output_type": "execute_result"
    }
   ],
   "source": [
    "ET_blue_collection_yearly.first().bandNames().getInfo()"
   ]
  },
  {
   "cell_type": "markdown",
   "metadata": {},
   "source": [
    "## Compute ET blue in m3/ha/yr for each crop field for each year and export"
   ]
  },
  {
   "cell_type": "code",
   "execution_count": 12,
   "metadata": {},
   "outputs": [
    {
     "data": {
      "text/html": [
       "\n",
       "            <style>\n",
       "                .geemap-dark {\n",
       "                    --jp-widgets-color: white;\n",
       "                    --jp-widgets-label-color: white;\n",
       "                    --jp-ui-font-color1: white;\n",
       "                    --jp-layout-color2: #454545;\n",
       "                    background-color: #383838;\n",
       "                }\n",
       "\n",
       "                .geemap-dark .jupyter-button {\n",
       "                    --jp-layout-color3: #383838;\n",
       "                }\n",
       "\n",
       "                .geemap-colab {\n",
       "                    background-color: var(--colab-primary-surface-color, white);\n",
       "                }\n",
       "\n",
       "                .geemap-colab .jupyter-button {\n",
       "                    --jp-layout-color3: var(--colab-primary-surface-color, white);\n",
       "                }\n",
       "            </style>\n",
       "            "
      ],
      "text/plain": [
       "<IPython.core.display.HTML object>"
      ]
     },
     "metadata": {},
     "output_type": "display_data"
    }
   ],
   "source": [
    "def calculate_et_blue_per_field(\n",
    "    et_blue_image: ee.Image,\n",
    "    crop_fields: ee.FeatureCollection,\n",
    "    scale: Union[int, float] = 10,\n",
    ") -> ee.FeatureCollection:\n",
    "    \"\"\"\n",
    "    Calculate ET_blue in m3/ha/yr for each crop field, setting value to 0 if mode of pixels is 0.\n",
    "\n",
    "    Args:\n",
    "        et_blue_image (ee.Image): Image containing ET_blue estimates in m3/yr.\n",
    "        crop_fields (ee.FeatureCollection): Collection of crop field features.\n",
    "        scale (Union[int, float], optional): Scale in meters for computations. Defaults to 10.\n",
    "\n",
    "    Returns:\n",
    "        ee.FeatureCollection: Updated crop fields with ET_blue_m3_ha_yr property.\n",
    "    \"\"\"\n",
    "\n",
    "    def calculate_et_blue(feature: ee.Feature) -> ee.Feature:\n",
    "        geometry = feature.geometry()\n",
    "\n",
    "        # Calculate mode of ET blue pixels within the field\n",
    "        mode_stats = et_blue_image.reduceRegion(\n",
    "            reducer=ee.Reducer.mode(), geometry=geometry, scale=scale, maxPixels=1e9\n",
    "        ).get(\"ET_blue_m3\")\n",
    "\n",
    "        # Only calculate ET blue per ha if mode is not 0\n",
    "        def compute_when_irrigated():\n",
    "            # Calculate area in hectares\n",
    "            area_ha = ee.Number(geometry.area()).divide(10000)\n",
    "\n",
    "            # Calculate total ET blue volume\n",
    "            et_blue_sum = et_blue_image.reduceRegion(\n",
    "                reducer=ee.Reducer.sum(), geometry=geometry, scale=scale, maxPixels=1e9\n",
    "            ).get(\"ET_blue_m3\")\n",
    "\n",
    "            # Convert to m3/ha/yr and round to integers\n",
    "            return ee.Number(et_blue_sum).divide(area_ha).round()\n",
    "\n",
    "        # Use ee.Algorithms.If to set value based on mode\n",
    "        et_blue_m3_ha_yr = ee.Algorithms.If(\n",
    "            ee.Number(mode_stats).eq(0),\n",
    "            0,  # If mode is 0, set result to 0\n",
    "            compute_when_irrigated(),  # Otherwise calculate the value\n",
    "        )\n",
    "\n",
    "        return feature.set(\"ET_blue_m3_ha_yr\", et_blue_m3_ha_yr)\n",
    "\n",
    "    return crop_fields.map(calculate_et_blue)"
   ]
  },
  {
   "cell_type": "code",
   "execution_count": 13,
   "metadata": {},
   "outputs": [
    {
     "data": {
      "text/html": [
       "\n",
       "            <style>\n",
       "                .geemap-dark {\n",
       "                    --jp-widgets-color: white;\n",
       "                    --jp-widgets-label-color: white;\n",
       "                    --jp-ui-font-color1: white;\n",
       "                    --jp-layout-color2: #454545;\n",
       "                    background-color: #383838;\n",
       "                }\n",
       "\n",
       "                .geemap-dark .jupyter-button {\n",
       "                    --jp-layout-color3: #383838;\n",
       "                }\n",
       "\n",
       "                .geemap-colab {\n",
       "                    background-color: var(--colab-primary-surface-color, white);\n",
       "                }\n",
       "\n",
       "                .geemap-colab .jupyter-button {\n",
       "                    --jp-layout-color3: var(--colab-primary-surface-color, white);\n",
       "                }\n",
       "            </style>\n",
       "            "
      ],
      "text/plain": [
       "<IPython.core.display.HTML object>"
      ]
     },
     "metadata": {},
     "output_type": "display_data"
    }
   ],
   "source": [
    "def export_feature_collection(collection: ee.FeatureCollection, task_name: str, asset_id: str): \n",
    "    \"\"\"\n",
    "    Export the feature collection to an Earth Engine asset.\n",
    "\n",
    "    Args:\n",
    "        collection: The feature collection to export.\n",
    "        year: The year of the feature collection.\n",
    "        task_name: The name of the export task.\n",
    "        asset_id: The asset ID to export to.\n",
    "    \"\"\"\n",
    "    task = ee.batch.Export.table.toAsset(\n",
    "        collection=collection,\n",
    "        description=task_name,\n",
    "        assetId=asset_id,\n",
    "    )\n",
    "    task.start()"
   ]
  },
  {
   "cell_type": "code",
   "execution_count": 14,
   "metadata": {},
   "outputs": [
    {
     "data": {
      "text/html": [
       "\n",
       "            <style>\n",
       "                .geemap-dark {\n",
       "                    --jp-widgets-color: white;\n",
       "                    --jp-widgets-label-color: white;\n",
       "                    --jp-ui-font-color1: white;\n",
       "                    --jp-layout-color2: #454545;\n",
       "                    background-color: #383838;\n",
       "                }\n",
       "\n",
       "                .geemap-dark .jupyter-button {\n",
       "                    --jp-layout-color3: #383838;\n",
       "                }\n",
       "\n",
       "                .geemap-colab {\n",
       "                    background-color: var(--colab-primary-surface-color, white);\n",
       "                }\n",
       "\n",
       "                .geemap-colab .jupyter-button {\n",
       "                    --jp-layout-color3: var(--colab-primary-surface-color, white);\n",
       "                }\n",
       "            </style>\n",
       "            "
      ],
      "text/plain": [
       "<IPython.core.display.HTML object>"
      ]
     },
     "metadata": {},
     "output_type": "display_data"
    },
    {
     "name": "stdout",
     "output_type": "stream",
     "text": [
      "Exporting ET_blue_m3_ha_yr_per_field_2018 to projects/thurgau-irrigation/assets/Thurgau/ET_blue_m3_ha_yr_per_field_2018-2022/ET_blue_m3_ha_yr_per_field_2018\n",
      "Exporting ET_blue_m3_ha_yr_per_field_2019 to projects/thurgau-irrigation/assets/Thurgau/ET_blue_m3_ha_yr_per_field_2018-2022/ET_blue_m3_ha_yr_per_field_2019\n"
     ]
    }
   ],
   "source": [
    "years = range(2018, 2020)\n",
    "\n",
    "not_irrigated_crops = get_crops_to_exclude()\n",
    "exclude_filter, _ = create_crop_filters(not_irrigated_crops, not_irrigated_crops)\n",
    "\n",
    "ET_blue_collection_yearly_list = ET_blue_collection_yearly.toList(\n",
    "    ET_blue_collection_yearly.size()\n",
    ")\n",
    "\n",
    "for year in years:\n",
    "    index = 2018 - year\n",
    "    nutzung_collection_year = ee.FeatureCollection(\n",
    "        f\"projects/thurgau-irrigation/assets/Thurgau/Nutzungsflaechen/TG_{year}_area\"\n",
    "    )\n",
    "\n",
    "    potentially_rainfed, _ = filter_crops(nutzung_collection_year, exclude_filter, _)\n",
    "\n",
    "    et_blue_image = ee.Image(ET_blue_collection_yearly_list.get(index))\n",
    "\n",
    "    crop_with_et_blue = calculate_et_blue_per_field(et_blue_image, potentially_rainfed)\n",
    "\n",
    "    task_name = f\"ET_blue_m3_ha_yr_per_field_{year}\"\n",
    "    asset_id = f\"projects/thurgau-irrigation/assets/Thurgau/ET_blue_m3_ha_yr_per_field_2018-2022/{task_name}\"\n",
    "\n",
    "    export_feature_collection(crop_with_et_blue, task_name, asset_id)\n",
    "    print(f\"Exporting {task_name} to {asset_id}\")"
   ]
  },
  {
   "cell_type": "code",
   "execution_count": 15,
   "metadata": {},
   "outputs": [
    {
     "data": {
      "text/html": [
       "\n",
       "            <style>\n",
       "                .geemap-dark {\n",
       "                    --jp-widgets-color: white;\n",
       "                    --jp-widgets-label-color: white;\n",
       "                    --jp-ui-font-color1: white;\n",
       "                    --jp-layout-color2: #454545;\n",
       "                    background-color: #383838;\n",
       "                }\n",
       "\n",
       "                .geemap-dark .jupyter-button {\n",
       "                    --jp-layout-color3: #383838;\n",
       "                }\n",
       "\n",
       "                .geemap-colab {\n",
       "                    background-color: var(--colab-primary-surface-color, white);\n",
       "                }\n",
       "\n",
       "                .geemap-colab .jupyter-button {\n",
       "                    --jp-layout-color3: var(--colab-primary-surface-color, white);\n",
       "                }\n",
       "            </style>\n",
       "            "
      ],
      "text/plain": [
       "<IPython.core.display.HTML object>"
      ]
     },
     "metadata": {},
     "output_type": "display_data"
    },
    {
     "data": {
      "text/plain": [
       "{'type': 'Feature',\n",
       " 'geometry': {'type': 'Polygon',\n",
       "  'coordinates': [[[8.856193837605653, 47.53943058799486],\n",
       "    [8.856229492363767, 47.53939935348141],\n",
       "    [8.856742273930458, 47.53898910400309],\n",
       "    [8.856760172913868, 47.53900251501355],\n",
       "    [8.857134718845488, 47.539345867036374],\n",
       "    [8.85739782790883, 47.53956882005368],\n",
       "    [8.857607349224356, 47.53979177958197],\n",
       "    [8.85779018995742, 47.54001915151854],\n",
       "    [8.856706634465006, 47.53957775944887],\n",
       "    [8.856519373748782, 47.539510814923105],\n",
       "    [8.856323183691233, 47.53945732453666],\n",
       "    [8.856193837605653, 47.53943058799486]],\n",
       "   [[8.857616323715591, 47.53983185944533],\n",
       "    [8.85753600313208, 47.539858632573],\n",
       "    [8.857460200322512, 47.53977835675905],\n",
       "    [8.857384458274296, 47.53981406235898],\n",
       "    [8.857241689136305, 47.539649049439284],\n",
       "    [8.85739336513149, 47.53958215438968],\n",
       "    [8.857616323715591, 47.53983185944533]],\n",
       "   [[8.85669324610935, 47.53910058697049],\n",
       "    [8.856800315404074, 47.53904712242895],\n",
       "    [8.856809200769149, 47.53905602272401],\n",
       "    [8.856813691356802, 47.53905597627002],\n",
       "    [8.857112393252917, 47.53934140778597],\n",
       "    [8.857121370449818, 47.53935030098921],\n",
       "    [8.85700098836209, 47.53940381764562],\n",
       "    [8.856991997601485, 47.53939938063661],\n",
       "    [8.856679893640038, 47.539114006944416],\n",
       "    [8.856697746124258, 47.539105070432285],\n",
       "    [8.85669324610935, 47.53910058697049]]]},\n",
       " 'id': '00000000000000000e2d',\n",
       " 'properties': {'Area': 3457.212,\n",
       "  'ET_blue_m3_ha_yr': 350,\n",
       "  'anzahl_bae': None,\n",
       "  'beitragsbe': 1,\n",
       "  'bewirtsc_1': '818565b8-9080-4a21-be53-c298057dcbe5',\n",
       "  'bewirtscha': 100,\n",
       "  'datum_bis': '2020/12/15 15:38:18.879',\n",
       "  'datum_von': '2019/12/12 00:00:00.000',\n",
       "  'einzelkult': 0,\n",
       "  'hid': 193364,\n",
       "  'ist_aggreg': 0,\n",
       "  'ist_defini': 1,\n",
       "  'ist_geomet': 0,\n",
       "  'ist_ueberl': 0,\n",
       "  'lnf_code': '721',\n",
       "  'lq_bemerku': '',\n",
       "  'nhg': 0,\n",
       "  'nutzung': 'Mehrjährige gärtnerische Freilandkulturen (nicht im Gewächshaus)',\n",
       "  'nutzung_im': 1,\n",
       "  'nutzungsar': '16a302f0-6ff5-11e4-8bd7-2c4138b9e4d5',\n",
       "  'nutzungsid': 'TG.KUL.680858',\n",
       "  'objectid': 237698,\n",
       "  'schnittzei': None,\n",
       "  'status_tid': '259d27a8-2431-102f-bec9-597a5b569e17',\n",
       "  'tid': 'a002895d-a775-4adb-b09e-60161e6efdfd',\n",
       "  'verpflic_1': None,\n",
       "  'verpflicht': None}}"
      ]
     },
     "execution_count": 15,
     "metadata": {},
     "output_type": "execute_result"
    }
   ],
   "source": [
    "crop_with_et_blue.first().getInfo()"
   ]
  },
  {
   "cell_type": "code",
   "execution_count": 23,
   "metadata": {},
   "outputs": [
    {
     "data": {
      "text/html": [
       "\n",
       "            <style>\n",
       "                .geemap-dark {\n",
       "                    --jp-widgets-color: white;\n",
       "                    --jp-widgets-label-color: white;\n",
       "                    --jp-ui-font-color1: white;\n",
       "                    --jp-layout-color2: #454545;\n",
       "                    background-color: #383838;\n",
       "                }\n",
       "\n",
       "                .geemap-dark .jupyter-button {\n",
       "                    --jp-layout-color3: #383838;\n",
       "                }\n",
       "\n",
       "                .geemap-colab {\n",
       "                    background-color: var(--colab-primary-surface-color, white);\n",
       "                }\n",
       "\n",
       "                .geemap-colab .jupyter-button {\n",
       "                    --jp-layout-color3: var(--colab-primary-surface-color, white);\n",
       "                }\n",
       "            </style>\n",
       "            "
      ],
      "text/plain": [
       "<IPython.core.display.HTML object>"
      ]
     },
     "metadata": {},
     "output_type": "display_data"
    },
    {
     "name": "stdout",
     "output_type": "stream",
     "text": [
      "7011.928019176733\n"
     ]
    }
   ],
   "source": [
    "nutzung_collection_year = ee.FeatureCollection(\n",
    "    f\"projects/thurgau-irrigation/assets/Thurgau/Nutzungsflaechen/TG_{2023}_area\"\n",
    ")\n",
    "\n",
    "\n",
    "feature = ee.Feature(nutzung_collection_year.first()) \n",
    "\n",
    "print(ee.Number(feature.geometry().area()).getInfo())\n",
    "\n",
    "# feature.getInfo()"
   ]
  },
  {
   "cell_type": "code",
   "execution_count": 17,
   "metadata": {},
   "outputs": [
    {
     "data": {
      "text/html": [
       "\n",
       "            <style>\n",
       "                .geemap-dark {\n",
       "                    --jp-widgets-color: white;\n",
       "                    --jp-widgets-label-color: white;\n",
       "                    --jp-ui-font-color1: white;\n",
       "                    --jp-layout-color2: #454545;\n",
       "                    background-color: #383838;\n",
       "                }\n",
       "\n",
       "                .geemap-dark .jupyter-button {\n",
       "                    --jp-layout-color3: #383838;\n",
       "                }\n",
       "\n",
       "                .geemap-colab {\n",
       "                    background-color: var(--colab-primary-surface-color, white);\n",
       "                }\n",
       "\n",
       "                .geemap-colab .jupyter-button {\n",
       "                    --jp-layout-color3: var(--colab-primary-surface-color, white);\n",
       "                }\n",
       "            </style>\n",
       "            "
      ],
      "text/plain": [
       "<IPython.core.display.HTML object>"
      ]
     },
     "metadata": {},
     "output_type": "display_data"
    }
   ],
   "source": [
    "# nutzung_collection_year = ee.FeatureCollection(\n",
    "#     f\"projects/thurgau-irrigation/assets/Thurgau/Nutzungsflaechen/TG_{2020}_area\"\n",
    "# )\n",
    "\n",
    "\n",
    "# potentially_rainfed, _ = filter_crops(nutzung_collection_year, exclude_filter, _)\n",
    "\n",
    "# et_blue_image = ee.Image(ET_blue_collection_yearly_list.get(2))\n",
    "\n",
    "# crop_with_et_blue = calculate_et_blue_per_field(et_blue_image, potentially_rainfed)"
   ]
  },
  {
   "cell_type": "markdown",
   "metadata": {},
   "source": [
    "## Comparing to Walter Koch's estimates"
   ]
  },
  {
   "cell_type": "code",
   "execution_count": null,
   "metadata": {},
   "outputs": [],
   "source": [
    "irrigation_estimate = {\n",
    "    \"Einjährige Freilandgemüse, ohne Konservengemüse\": [200, 1000],\n",
    "    \"Kartoffeln\": [200, 1000],\n",
    "    \"Freiland-Konservengemüse\": [200, 600],\n",
    "}\n",
    "\n",
    "IRRIGATION_EFFICIENCY = 0.5"
   ]
  },
  {
   "cell_type": "code",
   "execution_count": null,
   "metadata": {},
   "outputs": [],
   "source": [
    "def filter_dataframe(df: pd.DataFrame, crop_types: List[str]) -> pd.DataFrame:\n",
    "    \"\"\"\n",
    "    Filter the DataFrame to include only the specified crop types.\n",
    "\n",
    "    Args:\n",
    "        df (pd.DataFrame): Input DataFrame with 'ET_blue_m3_ha_yr' and 'nutzung' columns.\n",
    "        crop_types (List[str]): List of crop types to include.\n",
    "\n",
    "    Returns:\n",
    "        pd.DataFrame: Filtered DataFrame.\n",
    "    \"\"\"\n",
    "    return df[df[\"nutzung\"].isin(crop_types)]\n",
    "\n",
    "\n",
    "def plot_histogram_comparison(\n",
    "    calculated_et_blue: pd.DataFrame,\n",
    "    farmer_estimates: Dict[str, Tuple[int, int]],\n",
    "    output_destination: str,\n",
    ") -> None:\n",
    "    \"\"\"\n",
    "    Create a histogram comparison of calculated ET blue vs farmer estimates.\n",
    "\n",
    "    Args:\n",
    "        calculated_et_blue (pd.DataFrame): DataFrame with 'ET_blue_m3_ha_yr' and 'nutzung' columns.\n",
    "        farmer_estimates (Dict[str, Tuple[int, int]]): Dictionary of farmer estimates for each crop type.\n",
    "        output_destination (str): Output destination for the plot.\n",
    "    \"\"\"\n",
    "    plot_config.set_plot_style()\n",
    "\n",
    "    crop_types = list(farmer_estimates.keys())\n",
    "    num_crops = len(crop_types)\n",
    "\n",
    "    fig, axs = plt.subplots(1, num_crops, figsize=(6 * num_crops, 6))\n",
    "\n",
    "    for i, crop in enumerate(crop_types):\n",
    "        crop_data = calculated_et_blue[calculated_et_blue[\"nutzung\"] == crop][\n",
    "            \"ET_blue_m3_ha_yr\"\n",
    "        ]\n",
    "\n",
    "        sns.histplot(crop_data, kde=False, ax=axs[i])\n",
    "        axs[i].axvline(\n",
    "            farmer_estimates[crop][0],\n",
    "            color=\"r\",\n",
    "            linestyle=\"--\",\n",
    "            label=\"Farmer's estimate range\",\n",
    "        )\n",
    "        axs[i].axvline(farmer_estimates[crop][1], color=\"r\", linestyle=\"--\")\n",
    "\n",
    "        axs[i].set_xlabel(\"ET Blue (m³/ha/yr)\")\n",
    "        axs[i].set_ylabel(\"Frequency\")\n",
    "        axs[i].set_title(f\"{crop}\")\n",
    "\n",
    "        # Add summary statistics\n",
    "        mean_value = crop_data.mean()\n",
    "        median_value = crop_data.median()\n",
    "        axs[i].axvline(\n",
    "            mean_value, color=\"g\", linestyle=\"-\", label=f\"Average: {mean_value:.0f}\"\n",
    "        )\n",
    "\n",
    "        axs[i].legend(loc=\"upper center\", bbox_to_anchor=(0.5, -0.15), ncol=2)\n",
    "\n",
    "    plt.tight_layout()\n",
    "\n",
    "    # plt.savefig(output_destination, bbox_inches=\"tight\", dpi=300)\n",
    "    plt.subplots_adjust(bottom=0.2)"
   ]
  },
  {
   "cell_type": "code",
   "execution_count": null,
   "metadata": {},
   "outputs": [],
   "source": [
    "for year in range(2018, 2023):\n",
    "    ET_blue_per_field = ee.FeatureCollection(\n",
    "        f\"projects/thurgau-irrigation/assets/Thurgau/ET_blue_m3_ha_yr_per_field_2018-2022/ET_blue_m3_ha_yr_per_field_{year}\"\n",
    "    )\n",
    "\n",
    "    ET_blue_per_field_year_df = geemap.ee_to_df(ET_blue_per_field)\n",
    "    ET_blue_per_field_year_df = ET_blue_per_field_year_df[[\"ET_blue_m3_ha_yr\", \"nutzung\"]]\n",
    "\n",
    "    ET_blue_per_field_year_df[\"ET_blue_m3_ha_yr\"] = ET_blue_per_field_year_df[\"ET_blue_m3_ha_yr\"] / IRRIGATION_EFFICIENCY\n",
    "\n",
    "    # Filter the DataFrame\n",
    "    filtered_df = filter_dataframe(ET_blue_per_field_year_df, list(irrigation_estimate.keys()))\n",
    "    filtered_df = filtered_df[filtered_df[\"ET_blue_m3_ha_yr\"] >= 50]\n",
    "\n",
    "    # Create the plot\n",
    "    plot_histogram_comparison(filtered_df, irrigation_estimate, output_destination=f\"/Users/cooper/Desktop/Hydrosolutions/ETblue-estimation /images/ET_blue_validation/ET_blue_histogram_comparison_{year}.png\")"
   ]
  },
  {
   "cell_type": "code",
   "execution_count": null,
   "metadata": {},
   "outputs": [],
   "source": [
    "Map = geemap.Map()\n",
    "\n",
    "irrigation_image = ET_blue_per_field.reduceToImage(\n",
    "    properties=[\"ET_blue_m3_ha_yr\"], reducer=ee.Reducer.first()\n",
    ")\n",
    "\n",
    "et_blue_postprocessed = ee.Image(ET_blue_collection_yearly.first())\n",
    "\n",
    "vis_params = {\n",
    "    \"min\": 0,\n",
    "    \"max\": 300,\n",
    "    \"palette\": [\"white\", \"blue\", \"green\", \"yellow\", \"red\"],\n",
    "}\n",
    "\n",
    "# vis_params_et_blue = {\n",
    "#     \"bands\": [\"ET_blue_m3\"],\n",
    "#     \"min\": 0,\n",
    "#     \"max\": 10,\n",
    "#     \"palette\": [\"white\", \"blue\", \"green\", \"yellow\", \"red\"],\n",
    "# }\n",
    "\n",
    "Map.addLayer(irrigation_image, vis_params, \"ET_blue_m3_ha_yr\")\n",
    "# Map.addLayer(et_blue_postprocessed, vis_params_et_blue, \"ET_blue_m3\")\n",
    "\n",
    "Map.add_colorbar(vis_params, label=\"ET_blue_m3_ha_yr\", orientation=\"horizontal\")\n",
    "# Map.add_colorbar(vis_params_et_blue, label=\"ET_blue_m3\", orientation=\"horizontal\")\n",
    "\n",
    "Map"
   ]
  },
  {
   "cell_type": "markdown",
   "metadata": {},
   "source": [
    "## Field level estimates for 2022"
   ]
  },
  {
   "cell_type": "code",
   "execution_count": null,
   "metadata": {},
   "outputs": [],
   "source": [
    "# fields_w_estimates = ee.FeatureCollection(\"projects/thurgau-irrigation/assets/ZH_Nutzungsflaechen_2/2022_with_irrigation_estimates\")"
   ]
  },
  {
   "cell_type": "code",
   "execution_count": null,
   "metadata": {},
   "outputs": [],
   "source": [
    "palette = [\"blue\", \"green\", \"yellow\", \"red\"]\n",
    "\n",
    "# Define visualization parameters\n",
    "visualization = {\n",
    "    \"min\": 0,\n",
    "    \"max\": 1000,  # Adjust based on your maximum irrigation volume\n",
    "    \"palette\": palette,\n",
    "}\n",
    "\n",
    "# Convert fields_w_estimates to an image for gradient visualization\n",
    "irrigation_image = fields_w_estimates.reduceToImage(\n",
    "    properties=[\"estimated_irrigated_volume\"], reducer=ee.Reducer.first()\n",
    ")\n",
    "\n",
    "# Create a map centered on the area of interest\n",
    "Map = geemap.Map(center=[47.63915833792603, 8.77542613019931], zoom=12)\n",
    "\n",
    "# Add the gradient visualization layer to the map\n",
    "Map.addLayer(irrigation_image, visualization, \"Irrigation Volume (Gradient)\")\n",
    "Map.addLayer(fields_w_estimates, {\"color\": \"black\"}, \"Fields\")\n",
    "\n",
    "Map"
   ]
  },
  {
   "cell_type": "code",
   "execution_count": null,
   "metadata": {},
   "outputs": [],
   "source": []
  },
  {
   "cell_type": "code",
   "execution_count": null,
   "metadata": {},
   "outputs": [],
   "source": []
  },
  {
   "cell_type": "code",
   "execution_count": null,
   "metadata": {},
   "outputs": [],
   "source": []
  }
 ],
 "metadata": {
  "kernelspec": {
   "display_name": "geemap_env",
   "language": "python",
   "name": "python3"
  },
  "language_info": {
   "codemirror_mode": {
    "name": "ipython",
    "version": 3
   },
   "file_extension": ".py",
   "mimetype": "text/x-python",
   "name": "python",
   "nbconvert_exporter": "python",
   "pygments_lexer": "ipython3",
   "version": "3.11.10"
  }
 },
 "nbformat": 4,
 "nbformat_minor": 2
}
