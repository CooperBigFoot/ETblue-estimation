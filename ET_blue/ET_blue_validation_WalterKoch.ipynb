{
 "cells": [
  {
   "cell_type": "code",
   "execution_count": 1,
   "metadata": {},
   "outputs": [],
   "source": [
    "import sys\n",
    "import os\n",
    "\n",
    "sys.path.append(os.path.abspath(os.path.join(\"..\")))"
   ]
  },
  {
   "cell_type": "code",
   "execution_count": 2,
   "metadata": {},
   "outputs": [],
   "source": [
    "import ee\n",
    "import geemap\n",
    "from utils import ee_utils, date_utils, plot_config\n",
    "from utils.ee_utils import back_to_float\n",
    "\n",
    "import pandas as pd\n",
    "import matplotlib.pyplot as plt\n",
    "import seaborn as sns\n",
    "import numpy as np\n",
    "from typing import Dict, List, Tuple, Union\n",
    "\n",
    "import warnings\n",
    "\n",
    "warnings.filterwarnings(\"ignore\")"
   ]
  },
  {
   "cell_type": "code",
   "execution_count": 3,
   "metadata": {},
   "outputs": [
    {
     "data": {
      "text/html": [
       "\n",
       "            <style>\n",
       "                .geemap-dark {\n",
       "                    --jp-widgets-color: white;\n",
       "                    --jp-widgets-label-color: white;\n",
       "                    --jp-ui-font-color1: white;\n",
       "                    --jp-layout-color2: #454545;\n",
       "                    background-color: #383838;\n",
       "                }\n",
       "\n",
       "                .geemap-dark .jupyter-button {\n",
       "                    --jp-layout-color3: #383838;\n",
       "                }\n",
       "\n",
       "                .geemap-colab {\n",
       "                    background-color: var(--colab-primary-surface-color, white);\n",
       "                }\n",
       "\n",
       "                .geemap-colab .jupyter-button {\n",
       "                    --jp-layout-color3: var(--colab-primary-surface-color, white);\n",
       "                }\n",
       "            </style>\n",
       "            "
      ],
      "text/plain": [
       "<IPython.core.display.HTML object>"
      ]
     },
     "metadata": {},
     "output_type": "display_data"
    }
   ],
   "source": [
    "from filter_nutzungsflaechen import (\n",
    "    get_crops_to_exclude,\n",
    "    get_rainfed_reference_crops,\n",
    "    create_crop_filters,\n",
    "    filter_crops,\n",
    "    add_double_cropping_info,\n",
    ")"
   ]
  },
  {
   "cell_type": "markdown",
   "metadata": {},
   "source": [
    "## Validating ET Blue Maps with Walter Koch's Estimates\n",
    "\n",
    "This notebook follows a three-step process:\n",
    "\n",
    "1. **Create Yearly ET Blue Maps (2018-2022):**  \n",
    "   - Aggregate dekadal ET Blue maps into monthly maps.\n",
    "   - Filter the maps to include only the growing season months (April through October).\n",
    "   - Sum the monthly ET Blue maps to produce yearly ET Blue maps.\n",
    "\n",
    "2. **Calculate Yearly ET Blue Values for Potentially Irrigated Fields:**  \n",
    "   - Compute ET blue in m3/ha/yr for each crop field for each year.\n",
    "\n",
    "3. **Compare ET Blue Values with Walter Koch's Estimates:**\n",
    "   - Make pretty plots"
   ]
  },
  {
   "cell_type": "markdown",
   "metadata": {},
   "source": [
    "## Aggregate dekadal ET Blue maps into monthly maps"
   ]
  },
  {
   "cell_type": "code",
   "execution_count": 4,
   "metadata": {},
   "outputs": [
    {
     "data": {
      "text/html": [
       "\n",
       "            <style>\n",
       "                .geemap-dark {\n",
       "                    --jp-widgets-color: white;\n",
       "                    --jp-widgets-label-color: white;\n",
       "                    --jp-ui-font-color1: white;\n",
       "                    --jp-layout-color2: #454545;\n",
       "                    background-color: #383838;\n",
       "                }\n",
       "\n",
       "                .geemap-dark .jupyter-button {\n",
       "                    --jp-layout-color3: #383838;\n",
       "                }\n",
       "\n",
       "                .geemap-colab {\n",
       "                    background-color: var(--colab-primary-surface-color, white);\n",
       "                }\n",
       "\n",
       "                .geemap-colab .jupyter-button {\n",
       "                    --jp-layout-color3: var(--colab-primary-surface-color, white);\n",
       "                }\n",
       "            </style>\n",
       "            "
      ],
      "text/plain": [
       "<IPython.core.display.HTML object>"
      ]
     },
     "metadata": {},
     "output_type": "display_data"
    },
    {
     "data": {
      "text/plain": [
       "36"
      ]
     },
     "execution_count": 4,
     "metadata": {},
     "output_type": "execute_result"
    }
   ],
   "source": [
    "ET_blue_collection = ee.ImageCollection(\n",
    "    \"projects/thurgau-irrigation/assets/Zuerich/ET_blue_postprocessed_wapor_10m_ZH_dekadal_2022\"\n",
    ")\n",
    "\n",
    "\n",
    "ET_blue_collection = ET_blue_collection.map(lambda img: back_to_float(img, 100))\n",
    "\n",
    "ET_blue_collection.size().getInfo()"
   ]
  },
  {
   "cell_type": "code",
   "execution_count": 5,
   "metadata": {},
   "outputs": [
    {
     "data": {
      "text/html": [
       "\n",
       "            <style>\n",
       "                .geemap-dark {\n",
       "                    --jp-widgets-color: white;\n",
       "                    --jp-widgets-label-color: white;\n",
       "                    --jp-ui-font-color1: white;\n",
       "                    --jp-layout-color2: #454545;\n",
       "                    background-color: #383838;\n",
       "                }\n",
       "\n",
       "                .geemap-dark .jupyter-button {\n",
       "                    --jp-layout-color3: #383838;\n",
       "                }\n",
       "\n",
       "                .geemap-colab {\n",
       "                    background-color: var(--colab-primary-surface-color, white);\n",
       "                }\n",
       "\n",
       "                .geemap-colab .jupyter-button {\n",
       "                    --jp-layout-color3: var(--colab-primary-surface-color, white);\n",
       "                }\n",
       "            </style>\n",
       "            "
      ],
      "text/plain": [
       "<IPython.core.display.HTML object>"
      ]
     },
     "metadata": {},
     "output_type": "display_data"
    },
    {
     "name": "stdout",
     "output_type": "stream",
     "text": [
      "Image 1: Min = 0.00, Max = 12.14\n",
      "Image 2: Min = 0.00, Max = 1.11\n",
      "Image 3: Min = 0.00, Max = 1.40\n",
      "Image 4: Min = 0.00, Max = 0.00\n",
      "Image 5: Min = 0.00, Max = 1.24\n",
      "Image 6: Min = 0.00, Max = 1.34\n",
      "Image 7: Min = 0.00, Max = 1.49\n",
      "Image 8: Min = 0.00, Max = 1.61\n",
      "Image 9: Min = 0.00, Max = 1.45\n",
      "Image 10: Min = 0.00, Max = 1.70\n",
      "Image 11: Min = 0.00, Max = 2.47\n",
      "Image 12: Min = 0.00, Max = 1.88\n",
      "Image 13: Min = 0.00, Max = 1.77\n",
      "Image 14: Min = 0.00, Max = 2.80\n",
      "Image 15: Min = 0.00, Max = 2.22\n",
      "Image 16: Min = 0.00, Max = 2.38\n",
      "Image 17: Min = 0.00, Max = 3.46\n",
      "Image 18: Min = 0.00, Max = 2.78\n",
      "Image 19: Min = 0.00, Max = 2.93\n",
      "Image 20: Min = 0.00, Max = 3.82\n",
      "Image 21: Min = 0.00, Max = 3.50\n",
      "Image 22: Min = 0.00, Max = 3.55\n",
      "Image 23: Min = 0.00, Max = 2.68\n",
      "Image 24: Min = 0.00, Max = 2.47\n",
      "Image 25: Min = 0.00, Max = 1.92\n",
      "Image 26: Min = 0.00, Max = 1.68\n",
      "Image 27: Min = 0.00, Max = 1.28\n",
      "Image 28: Min = 0.00, Max = 1.34\n",
      "Image 29: Min = 0.00, Max = 1.29\n",
      "Image 30: Min = 0.00, Max = 1.19\n",
      "Image 31: Min = 0.00, Max = 0.00\n",
      "Image 32: Min = 0.00, Max = 0.00\n",
      "Image 33: Min = 0.00, Max = 1.11\n",
      "Image 34: Min = 0.00, Max = 0.00\n",
      "Image 35: Min = 0.00, Max = 1.80\n",
      "Image 36: Min = 0.00, Max = 0.00\n"
     ]
    }
   ],
   "source": [
    "ee_utils.print_value_ranges(ET_blue_collection, \"ET_blue\")"
   ]
  },
  {
   "cell_type": "code",
   "execution_count": 6,
   "metadata": {},
   "outputs": [
    {
     "data": {
      "text/html": [
       "\n",
       "            <style>\n",
       "                .geemap-dark {\n",
       "                    --jp-widgets-color: white;\n",
       "                    --jp-widgets-label-color: white;\n",
       "                    --jp-ui-font-color1: white;\n",
       "                    --jp-layout-color2: #454545;\n",
       "                    background-color: #383838;\n",
       "                }\n",
       "\n",
       "                .geemap-dark .jupyter-button {\n",
       "                    --jp-layout-color3: #383838;\n",
       "                }\n",
       "\n",
       "                .geemap-colab {\n",
       "                    background-color: var(--colab-primary-surface-color, white);\n",
       "                }\n",
       "\n",
       "                .geemap-colab .jupyter-button {\n",
       "                    --jp-layout-color3: var(--colab-primary-surface-color, white);\n",
       "                }\n",
       "            </style>\n",
       "            "
      ],
      "text/plain": [
       "<IPython.core.display.HTML object>"
      ]
     },
     "metadata": {},
     "output_type": "display_data"
    },
    {
     "data": {
      "text/plain": [
       "12"
      ]
     },
     "execution_count": 6,
     "metadata": {},
     "output_type": "execute_result"
    }
   ],
   "source": [
    "ET_blue_collection_monthly = ee_utils.aggregate_to_monthly(\n",
    "    ET_blue_collection, bands=[\"ET_blue\", \"ET_blue_m3\"]\n",
    ")\n",
    "\n",
    "ET_blue_collection_monthly.size().getInfo()\n",
    "\n",
    "# ET_blue_collection_monthly = ET_blue_collection\n"
   ]
  },
  {
   "cell_type": "markdown",
   "metadata": {},
   "source": [
    "## Filter the maps to include only the growing season months (April through October)."
   ]
  },
  {
   "cell_type": "code",
   "execution_count": 7,
   "metadata": {},
   "outputs": [
    {
     "data": {
      "text/html": [
       "\n",
       "            <style>\n",
       "                .geemap-dark {\n",
       "                    --jp-widgets-color: white;\n",
       "                    --jp-widgets-label-color: white;\n",
       "                    --jp-ui-font-color1: white;\n",
       "                    --jp-layout-color2: #454545;\n",
       "                    background-color: #383838;\n",
       "                }\n",
       "\n",
       "                .geemap-dark .jupyter-button {\n",
       "                    --jp-layout-color3: #383838;\n",
       "                }\n",
       "\n",
       "                .geemap-colab {\n",
       "                    background-color: var(--colab-primary-surface-color, white);\n",
       "                }\n",
       "\n",
       "                .geemap-colab .jupyter-button {\n",
       "                    --jp-layout-color3: var(--colab-primary-surface-color, white);\n",
       "                }\n",
       "            </style>\n",
       "            "
      ],
      "text/plain": [
       "<IPython.core.display.HTML object>"
      ]
     },
     "metadata": {},
     "output_type": "display_data"
    },
    {
     "name": "stdout",
     "output_type": "stream",
     "text": [
      "Dates of images in the collection:\n",
      "2022-04-01\n",
      "2022-05-01\n",
      "2022-06-01\n",
      "2022-07-01\n",
      "2022-08-01\n",
      "2022-09-01\n",
      "2022-10-01\n"
     ]
    }
   ],
   "source": [
    "ET_blue_collection_monthly_growing_season = ET_blue_collection_monthly.filter(ee.Filter.calendarRange(4, 10, \"month\"))\n",
    "\n",
    "date_utils.print_collection_dates(ET_blue_collection_monthly_growing_season)"
   ]
  },
  {
   "cell_type": "markdown",
   "metadata": {},
   "source": [
    "## Sum the monthly ET Blue maps to produce yearly ET Blue maps."
   ]
  },
  {
   "cell_type": "code",
   "execution_count": 8,
   "metadata": {},
   "outputs": [
    {
     "data": {
      "text/html": [
       "\n",
       "            <style>\n",
       "                .geemap-dark {\n",
       "                    --jp-widgets-color: white;\n",
       "                    --jp-widgets-label-color: white;\n",
       "                    --jp-ui-font-color1: white;\n",
       "                    --jp-layout-color2: #454545;\n",
       "                    background-color: #383838;\n",
       "                }\n",
       "\n",
       "                .geemap-dark .jupyter-button {\n",
       "                    --jp-layout-color3: #383838;\n",
       "                }\n",
       "\n",
       "                .geemap-colab {\n",
       "                    background-color: var(--colab-primary-surface-color, white);\n",
       "                }\n",
       "\n",
       "                .geemap-colab .jupyter-button {\n",
       "                    --jp-layout-color3: var(--colab-primary-surface-color, white);\n",
       "                }\n",
       "            </style>\n",
       "            "
      ],
      "text/plain": [
       "<IPython.core.display.HTML object>"
      ]
     },
     "metadata": {},
     "output_type": "display_data"
    }
   ],
   "source": [
    "def create_growing_season_yearly_sums(\n",
    "    collection: ee.ImageCollection,\n",
    ") -> ee.ImageCollection:\n",
    "    \"\"\"\n",
    "    Create yearly sums from a collection of monthly images for the growing season (April to October).\n",
    "\n",
    "    Args:\n",
    "        collection (ee.ImageCollection): Input collection with monthly images for the growing season.\n",
    "\n",
    "    Returns:\n",
    "        ee.ImageCollection: Collection with yearly sum images for the growing season.\n",
    "    \"\"\"\n",
    "\n",
    "    def sum_growing_season(year):\n",
    "        start_date = ee.Date.fromYMD(year, 4, 1)  # April 1st\n",
    "        end_date = ee.Date.fromYMD(year, 11, 1)  # November 1st (exclusive)\n",
    "        yearly_sum = collection.filterDate(start_date, end_date).sum()\n",
    "        return yearly_sum.set(\"year\", year).set(\n",
    "            \"system:time_start\", start_date.millis()\n",
    "        )\n",
    "\n",
    "    # Get the range of years in the collection\n",
    "    start_year = ee.Date(collection.first().get(\"system:time_start\")).get(\"year\")\n",
    "    end_year = ee.Date(\n",
    "        collection.sort(\"system:time_start\", False).first().get(\"system:time_start\")\n",
    "    ).get(\"year\")\n",
    "\n",
    "    # Create a list of years\n",
    "    years = ee.List.sequence(start_year, end_year)\n",
    "\n",
    "    # Map over the years to create yearly sums\n",
    "    yearly_sums = ee.ImageCollection.fromImages(years.map(sum_growing_season))\n",
    "\n",
    "    return yearly_sums\n",
    "\n",
    "\n",
    "ET_blue_collection_yearly = create_growing_season_yearly_sums(\n",
    "    ET_blue_collection_monthly_growing_season\n",
    ")"
   ]
  },
  {
   "cell_type": "code",
   "execution_count": 9,
   "metadata": {},
   "outputs": [
    {
     "data": {
      "text/html": [
       "\n",
       "            <style>\n",
       "                .geemap-dark {\n",
       "                    --jp-widgets-color: white;\n",
       "                    --jp-widgets-label-color: white;\n",
       "                    --jp-ui-font-color1: white;\n",
       "                    --jp-layout-color2: #454545;\n",
       "                    background-color: #383838;\n",
       "                }\n",
       "\n",
       "                .geemap-dark .jupyter-button {\n",
       "                    --jp-layout-color3: #383838;\n",
       "                }\n",
       "\n",
       "                .geemap-colab {\n",
       "                    background-color: var(--colab-primary-surface-color, white);\n",
       "                }\n",
       "\n",
       "                .geemap-colab .jupyter-button {\n",
       "                    --jp-layout-color3: var(--colab-primary-surface-color, white);\n",
       "                }\n",
       "            </style>\n",
       "            "
      ],
      "text/plain": [
       "<IPython.core.display.HTML object>"
      ]
     },
     "metadata": {},
     "output_type": "display_data"
    },
    {
     "data": {
      "text/plain": [
       "['ET_blue', 'ET_blue_m3']"
      ]
     },
     "execution_count": 9,
     "metadata": {},
     "output_type": "execute_result"
    }
   ],
   "source": [
    "ET_blue_collection_yearly.first().bandNames().getInfo()"
   ]
  },
  {
   "cell_type": "markdown",
   "metadata": {},
   "source": [
    "## Compute ET blue in m3/ha/yr for each crop field for each year and export"
   ]
  },
  {
   "cell_type": "code",
   "execution_count": 10,
   "metadata": {},
   "outputs": [
    {
     "data": {
      "text/html": [
       "\n",
       "            <style>\n",
       "                .geemap-dark {\n",
       "                    --jp-widgets-color: white;\n",
       "                    --jp-widgets-label-color: white;\n",
       "                    --jp-ui-font-color1: white;\n",
       "                    --jp-layout-color2: #454545;\n",
       "                    background-color: #383838;\n",
       "                }\n",
       "\n",
       "                .geemap-dark .jupyter-button {\n",
       "                    --jp-layout-color3: #383838;\n",
       "                }\n",
       "\n",
       "                .geemap-colab {\n",
       "                    background-color: var(--colab-primary-surface-color, white);\n",
       "                }\n",
       "\n",
       "                .geemap-colab .jupyter-button {\n",
       "                    --jp-layout-color3: var(--colab-primary-surface-color, white);\n",
       "                }\n",
       "            </style>\n",
       "            "
      ],
      "text/plain": [
       "<IPython.core.display.HTML object>"
      ]
     },
     "metadata": {},
     "output_type": "display_data"
    }
   ],
   "source": [
    "def compute_et_blue_value(\n",
    "    feature: ee.Feature, et_blue_image: ee.Image, scale: int = 10\n",
    ") -> ee.Feature:\n",
    "    \"\"\"\n",
    "    Compute ET blue value for a single feature in m3/ha/yr.\n",
    "    Only computes value if median ET blue within field is > 0.\n",
    "\n",
    "    Args:\n",
    "        feature: Input field feature\n",
    "        et_blue_image: Image with ET blue values in m3\n",
    "        scale: Scale in meters for computation\n",
    "    Returns:\n",
    "        Feature with added ET_blue_m3_ha_yr property\n",
    "    \"\"\"\n",
    "    geometry = feature.geometry()\n",
    "    area_ha = ee.Number(geometry.area()).divide(10000)\n",
    "\n",
    "    # First check median ET blue value\n",
    "    median_et_blue = et_blue_image.reduceRegion(\n",
    "        reducer=ee.Reducer.median(), geometry=geometry, scale=scale, maxPixels=1e9\n",
    "    ).get(\"ET_blue_m3\")\n",
    "\n",
    "    def compute_total_et_blue():\n",
    "        # If median > 0, calculate total ET blue per hectare\n",
    "        et_blue_sum = et_blue_image.reduceRegion(\n",
    "            reducer=ee.Reducer.sum(), geometry=geometry, scale=scale, maxPixels=1e9\n",
    "        ).get(\"ET_blue_m3\")\n",
    "\n",
    "        return ee.Number(\n",
    "            ee.Algorithms.If(\n",
    "                ee.Algorithms.IsEqual(et_blue_sum, None),\n",
    "                0,\n",
    "                ee.Number(et_blue_sum).divide(area_ha).round(),\n",
    "            )\n",
    "        )\n",
    "\n",
    "    # Only compute ET blue if median is > 0\n",
    "    et_blue_m3_ha_yr = ee.Number(\n",
    "        ee.Algorithms.If(\n",
    "            ee.Algorithms.IsEqual(median_et_blue, None),\n",
    "            0,  # No data case\n",
    "            ee.Algorithms.If(\n",
    "                ee.Number(median_et_blue).gt(0),\n",
    "                compute_total_et_blue(),  # Field is irrigated\n",
    "                0,  # Field is not irrigated\n",
    "            ),\n",
    "        )\n",
    "    )\n",
    "\n",
    "    return feature.set(\"ET_blue_m3_ha_yr\", et_blue_m3_ha_yr)\n",
    "\n",
    "\n",
    "def calculate_et_blue_per_field(\n",
    "    et_blue_image: ee.Image,\n",
    "    crop_fields: ee.FeatureCollection,\n",
    "    scale: Union[int, float] = 10,\n",
    ") -> Tuple[ee.FeatureCollection, ee.FeatureCollection]:\n",
    "    \"\"\"\n",
    "    Calculate ET_blue in m3/ha/yr for each crop field, setting 0 for excluded and rainfed crops.\n",
    "\n",
    "    Args:\n",
    "        et_blue_image: Image containing ET_blue estimates in m3/yr\n",
    "        crop_fields: Collection of crop field features\n",
    "        scale: Scale in meters for computations\n",
    "    Returns:\n",
    "        Tuple of (all_fields, irrigated_fields) with ET_blue_m3_ha_yr property\n",
    "    \"\"\"\n",
    "    # Get crop type sets\n",
    "    excluded_crops = get_crops_to_exclude()\n",
    "    rainfed_crops = get_rainfed_reference_crops()\n",
    "\n",
    "    # Filter fields based on crop types\n",
    "    exclude_filter, rainfed_filter = create_crop_filters(excluded_crops, rainfed_crops)\n",
    "    potentially_irrigated, non_irrigated = filter_crops(\n",
    "        crop_fields, exclude_filter, rainfed_filter\n",
    "    )\n",
    "\n",
    "    # Calculate ET blue for potentially irrigated fields\n",
    "    irrigated_with_et = potentially_irrigated.map(\n",
    "        lambda f: compute_et_blue_value(f, et_blue_image, scale)\n",
    "    )\n",
    "\n",
    "    # Set ET blue to 0 for non-irrigated fields\n",
    "    non_irrigated_with_et = non_irrigated.map(lambda f: f.set(\"ET_blue_m3_ha_yr\", 0))\n",
    "\n",
    "    # Merge collections and filter for actually irrigated fields\n",
    "    all_fields = irrigated_with_et.merge(non_irrigated_with_et)\n",
    "    actually_irrigated = all_fields.filter(ee.Filter.gt(\"ET_blue_m3_ha_yr\", 0))\n",
    "\n",
    "    return all_fields, actually_irrigated"
   ]
  },
  {
   "cell_type": "code",
   "execution_count": 11,
   "metadata": {},
   "outputs": [
    {
     "data": {
      "text/html": [
       "\n",
       "            <style>\n",
       "                .geemap-dark {\n",
       "                    --jp-widgets-color: white;\n",
       "                    --jp-widgets-label-color: white;\n",
       "                    --jp-ui-font-color1: white;\n",
       "                    --jp-layout-color2: #454545;\n",
       "                    background-color: #383838;\n",
       "                }\n",
       "\n",
       "                .geemap-dark .jupyter-button {\n",
       "                    --jp-layout-color3: #383838;\n",
       "                }\n",
       "\n",
       "                .geemap-colab {\n",
       "                    background-color: var(--colab-primary-surface-color, white);\n",
       "                }\n",
       "\n",
       "                .geemap-colab .jupyter-button {\n",
       "                    --jp-layout-color3: var(--colab-primary-surface-color, white);\n",
       "                }\n",
       "            </style>\n",
       "            "
      ],
      "text/plain": [
       "<IPython.core.display.HTML object>"
      ]
     },
     "metadata": {},
     "output_type": "display_data"
    }
   ],
   "source": [
    "def export_feature_collection(collection: ee.FeatureCollection, task_name: str, asset_id: str): \n",
    "    \"\"\"\n",
    "    Export the feature collection to an Earth Engine asset.\n",
    "\n",
    "    Args:\n",
    "        collection: The feature collection to export.\n",
    "        year: The year of the feature collection.\n",
    "        task_name: The name of the export task.\n",
    "        asset_id: The asset ID to export to.\n",
    "    \"\"\"\n",
    "    task = ee.batch.Export.table.toAsset(\n",
    "        collection=collection,\n",
    "        description=task_name,\n",
    "        assetId=asset_id,\n",
    "    )\n",
    "    task.start()"
   ]
  },
  {
   "cell_type": "code",
   "execution_count": 12,
   "metadata": {},
   "outputs": [
    {
     "data": {
      "text/html": [
       "\n",
       "            <style>\n",
       "                .geemap-dark {\n",
       "                    --jp-widgets-color: white;\n",
       "                    --jp-widgets-label-color: white;\n",
       "                    --jp-ui-font-color1: white;\n",
       "                    --jp-layout-color2: #454545;\n",
       "                    background-color: #383838;\n",
       "                }\n",
       "\n",
       "                .geemap-dark .jupyter-button {\n",
       "                    --jp-layout-color3: #383838;\n",
       "                }\n",
       "\n",
       "                .geemap-colab {\n",
       "                    background-color: var(--colab-primary-surface-color, white);\n",
       "                }\n",
       "\n",
       "                .geemap-colab .jupyter-button {\n",
       "                    --jp-layout-color3: var(--colab-primary-surface-color, white);\n",
       "                }\n",
       "            </style>\n",
       "            "
      ],
      "text/plain": [
       "<IPython.core.display.HTML object>"
      ]
     },
     "metadata": {},
     "output_type": "display_data"
    },
    {
     "name": "stdout",
     "output_type": "stream",
     "text": [
      "Exporting ET_blue_m3_ha_yr_per_field_from_dekadal_wapor_10m_ZH_2022 to projects/thurgau-irrigation/assets/Zuerich/ET_blue_m3_ha_yr_per_field_from_dekadal_wapor_10m_ZH_2022/ET_blue_m3_ha_yr_per_field_from_dekadal_wapor_10m_ZH_2022\n"
     ]
    }
   ],
   "source": [
    "years = range(2022, 2023)\n",
    "\n",
    "not_irrigated_crops = get_crops_to_exclude()\n",
    "exclude_filter, _ = create_crop_filters(not_irrigated_crops, not_irrigated_crops)\n",
    "\n",
    "ET_blue_collection_yearly_list = ET_blue_collection_yearly.toList(\n",
    "    ET_blue_collection_yearly.size()\n",
    ")\n",
    "\n",
    "for year in years:\n",
    "    index = year - 2022\n",
    "    nutzung_collection_year = ee.FeatureCollection(\n",
    "        f\"projects/thurgau-irrigation/assets/ZH_Nutzungsflaechen_2/ZH_Nutzungsflaechen_2022\"\n",
    "    )\n",
    "\n",
    "    # Create a new property nutzung same as current NUTZUNG\n",
    "    nutzung_collection_year = nutzung_collection_year.map(\n",
    "        lambda feature: feature.set(\"nutzung\", feature.get(\"NUTZUNG\"))\n",
    "    )\n",
    "\n",
    "    potentially_rainfed, _ = filter_crops(nutzung_collection_year, exclude_filter, _)\n",
    "\n",
    "    et_blue_image = ee.Image(ET_blue_collection_yearly_list.get(index))\n",
    "\n",
    "    all_fields, irrigated_fields = calculate_et_blue_per_field(et_blue_image, potentially_rainfed)\n",
    "\n",
    "    task_name = f\"ET_blue_m3_ha_yr_per_field_from_dekadal_wapor_10m_ZH_{year}\"\n",
    "    asset_id = f\"projects/thurgau-irrigation/assets/Zuerich/ET_blue_m3_ha_yr_per_field_from_dekadal_wapor_10m_ZH_2022/{task_name}\"\n",
    "\n",
    "    # export_feature_collection(crop_with_et_blue, task_name, asset_id)\n",
    "    print(f\"Exporting {task_name} to {asset_id}\")"
   ]
  },
  {
   "cell_type": "code",
   "execution_count": 14,
   "metadata": {},
   "outputs": [
    {
     "data": {
      "text/html": [
       "\n",
       "            <style>\n",
       "                .geemap-dark {\n",
       "                    --jp-widgets-color: white;\n",
       "                    --jp-widgets-label-color: white;\n",
       "                    --jp-ui-font-color1: white;\n",
       "                    --jp-layout-color2: #454545;\n",
       "                    background-color: #383838;\n",
       "                }\n",
       "\n",
       "                .geemap-dark .jupyter-button {\n",
       "                    --jp-layout-color3: #383838;\n",
       "                }\n",
       "\n",
       "                .geemap-colab {\n",
       "                    background-color: var(--colab-primary-surface-color, white);\n",
       "                }\n",
       "\n",
       "                .geemap-colab .jupyter-button {\n",
       "                    --jp-layout-color3: var(--colab-primary-surface-color, white);\n",
       "                }\n",
       "            </style>\n",
       "            "
      ],
      "text/plain": [
       "<IPython.core.display.HTML object>"
      ]
     },
     "metadata": {},
     "output_type": "display_data"
    },
    {
     "data": {
      "application/vnd.jupyter.widget-view+json": {
       "model_id": "ae7244aac23b462a9d7a3d9293359eb7",
       "version_major": 2,
       "version_minor": 0
      },
      "text/plain": [
       "Map(center=[47.63915833792603, 8.77542613019931], controls=(WidgetControl(options=['position', 'transparent_bg…"
      ]
     },
     "execution_count": 14,
     "metadata": {},
     "output_type": "execute_result"
    }
   ],
   "source": [
    "palette = [\"white\", \"blue\", \"green\", \"yellow\", \"red\"]\n",
    "\n",
    "# Define visualization parameters\n",
    "visualization = {\n",
    "    \"min\": 0,\n",
    "    \"max\": 1000,  # Adjust based on your maximum irrigation volume\n",
    "    \"palette\": palette,\n",
    "}\n",
    "\n",
    "# Convert irrigate_fields_w_estimates to an image for gradient visualization\n",
    "irrigate_fields = irrigated_fields.reduceToImage(\n",
    "    properties=[\"ET_blue_m3_ha_yr\"], reducer=ee.Reducer.first()\n",
    ")\n",
    "\n",
    "all_fields = all_fields.reduceToImage(\n",
    "    properties=[\"ET_blue_m3_ha_yr\"], reducer=ee.Reducer.first()\n",
    ")\n",
    "\n",
    "# Create a map centered on the area of interest\n",
    "Map = geemap.Map(center=[47.63915833792603, 8.77542613019931], zoom=12)\n",
    "\n",
    "# Add the gradient visualization layer to the map\n",
    "Map.addLayer(irrigate_fields, visualization, \"ET_blue_m3_ha_yr\")\n",
    "Map.addLayer(all_fields, visualization, \"ET_blue_m3_ha_yr_all_fields\")\n",
    "\n",
    "Map"
   ]
  },
  {
   "cell_type": "code",
   "execution_count": null,
   "metadata": {},
   "outputs": [],
   "source": [
    "# # Print feature with id =000000000000000048c7 in the nutzung_collection_year\n",
    "# feature = crop_with_et_blue.filter(ee.Filter.eq(\"system:index\", \"000000000000000048c7\")).first()\n",
    "# feature.getInfo()"
   ]
  },
  {
   "cell_type": "code",
   "execution_count": null,
   "metadata": {},
   "outputs": [],
   "source": [
    "# nutzung_collection_year = ee.FeatureCollection(\n",
    "#     f\"projects/thurgau-irrigation/assets/Thurgau/Nutzungsflaechen/TG_{2020}_area\"\n",
    "# )\n",
    "\n",
    "\n",
    "# potentially_rainfed, _ = filter_crops(nutzung_collection_year, exclude_filter, _)\n",
    "\n",
    "# et_blue_image = ee.Image(ET_blue_collection_yearly_list.get(2))\n",
    "\n",
    "# crop_with_et_blue = calculate_et_blue_per_field(et_blue_image, potentially_rainfed)"
   ]
  },
  {
   "cell_type": "markdown",
   "metadata": {},
   "source": [
    "## Comparing to Walter Koch's estimates"
   ]
  },
  {
   "cell_type": "code",
   "execution_count": null,
   "metadata": {},
   "outputs": [],
   "source": [
    "irrigation_estimate = {\n",
    "    \"Einjährige Freilandgemüse, ohne Konservengemüse\": [200, 1000],\n",
    "    \"Kartoffeln\": [200, 1000],\n",
    "    \"Freiland-Konservengemüse\": [200, 600],\n",
    "}\n",
    "\n",
    "IRRIGATION_EFFICIENCY = 0.5"
   ]
  },
  {
   "cell_type": "code",
   "execution_count": null,
   "metadata": {},
   "outputs": [],
   "source": [
    "def filter_dataframe(df: pd.DataFrame, crop_types: List[str]) -> pd.DataFrame:\n",
    "    \"\"\"\n",
    "    Filter the DataFrame to include only the specified crop types.\n",
    "\n",
    "    Args:\n",
    "        df (pd.DataFrame): Input DataFrame with 'ET_blue_m3_ha_yr' and 'nutzung' columns.\n",
    "        crop_types (List[str]): List of crop types to include.\n",
    "\n",
    "    Returns:\n",
    "        pd.DataFrame: Filtered DataFrame.\n",
    "    \"\"\"\n",
    "    return df[df[\"nutzung\"].isin(crop_types)]\n",
    "\n",
    "\n",
    "def plot_histogram_comparison(\n",
    "    calculated_et_blue: pd.DataFrame,\n",
    "    farmer_estimates: Dict[str, Tuple[int, int]],\n",
    "    output_destination: str,\n",
    ") -> None:\n",
    "    \"\"\"\n",
    "    Create a histogram comparison of calculated ET blue vs farmer estimates.\n",
    "\n",
    "    Args:\n",
    "        calculated_et_blue (pd.DataFrame): DataFrame with 'ET_blue_m3_ha_yr' and 'nutzung' columns.\n",
    "        farmer_estimates (Dict[str, Tuple[int, int]]): Dictionary of farmer estimates for each crop type.\n",
    "        output_destination (str): Output destination for the plot.\n",
    "    \"\"\"\n",
    "    plot_config.set_plot_style()\n",
    "\n",
    "    crop_types = list(farmer_estimates.keys())\n",
    "    num_crops = len(crop_types)\n",
    "\n",
    "    fig, axs = plt.subplots(1, num_crops, figsize=(6 * num_crops, 6))\n",
    "\n",
    "    for i, crop in enumerate(crop_types):\n",
    "        crop_data = calculated_et_blue[calculated_et_blue[\"nutzung\"] == crop][\n",
    "            \"ET_blue_m3_ha_yr\"\n",
    "        ]\n",
    "\n",
    "        sns.histplot(crop_data, kde=True, ax=axs[i])\n",
    "        axs[i].axvline(\n",
    "            farmer_estimates[crop][0],\n",
    "            color=\"r\",\n",
    "            linestyle=\"--\",\n",
    "            label=\"Farmer's estimate range\",\n",
    "        )\n",
    "        axs[i].axvline(farmer_estimates[crop][1], color=\"r\", linestyle=\"--\")\n",
    "\n",
    "        axs[i].set_xlabel(\"ET Blue (m³/ha/yr)\")\n",
    "        axs[i].set_ylabel(\"Frequency\")\n",
    "        axs[i].set_title(f\"{crop}\")\n",
    "\n",
    "        # Add summary statistics\n",
    "        mean_value = crop_data.mean()\n",
    "        median_value = crop_data.median()\n",
    "        axs[i].axvline(\n",
    "            mean_value, color=\"g\", linestyle=\"-\", label=f\"Average: {mean_value:.0f}\"\n",
    "        )\n",
    "\n",
    "        axs[i].legend(loc=\"upper center\", bbox_to_anchor=(0.5, -0.15), ncol=2)\n",
    "\n",
    "    plt.tight_layout()\n",
    "\n",
    "    # plt.savefig(output_destination, bbox_inches=\"tight\", dpi=300)\n",
    "    plt.subplots_adjust(bottom=0.2)"
   ]
  },
  {
   "cell_type": "code",
   "execution_count": null,
   "metadata": {},
   "outputs": [],
   "source": [
    "for year in range(2018, 2019):\n",
    "    ET_blue_per_field = ee.FeatureCollection(\n",
    "        f\"projects/thurgau-irrigation/assets/Thurgau/ET_blue_m3_ha_yr_per_field_from_dekadal_landsat_30m_2018-2022/ET_blue_m3_ha_yr_per_field_from_dekadal_landsat_30m_{year}\"\n",
    "    )\n",
    "\n",
    "    double_cropping_image = ee.Image(\n",
    "        f\"projects/thurgau-irrigation/assets/Thurgau/VegetationPeriod/crop_veg_period_{year}\"\n",
    "    )\n",
    "\n",
    "    ET_blue_per_field = add_double_cropping_info(ET_blue_per_field, double_cropping_image)\n",
    "\n",
    "    # Filter for single cropping fields\n",
    "    ET_blue_per_field = ET_blue_per_field.filter(ee.Filter.eq(\"isDoubleCropped\", 0))\n",
    "\n",
    "    ET_blue_per_field_year_df = geemap.ee_to_df(ET_blue_per_field)\n",
    "    ET_blue_per_field_year_df = ET_blue_per_field_year_df[\n",
    "        [\"ET_blue_m3_ha_yr\", \"nutzung\"]\n",
    "    ]\n",
    "\n",
    "    ET_blue_per_field_year_df[\"ET_blue_m3_ha_yr\"] = (\n",
    "        ET_blue_per_field_year_df[\"ET_blue_m3_ha_yr\"] / IRRIGATION_EFFICIENCY\n",
    "    )\n",
    "\n",
    "    # Filter the DataFrame\n",
    "    filtered_df = filter_dataframe(\n",
    "        ET_blue_per_field_year_df, list(irrigation_estimate.keys())\n",
    "    )\n",
    "\n",
    "    filtered_df = filtered_df[filtered_df[\"ET_blue_m3_ha_yr\"] > 0]\n",
    "\n",
    "    # Create the plot\n",
    "    plot_histogram_comparison(\n",
    "        filtered_df,\n",
    "        irrigation_estimate,\n",
    "        output_destination=f\"/Users/cooper/Desktop/Hydrosolutions/ETblue-estimation /images/ET_blue_validation/ET_blue_histogram_comparison_{year}.png\",\n",
    "    )"
   ]
  },
  {
   "cell_type": "markdown",
   "metadata": {},
   "source": [
    "## Field level estimates for 2022"
   ]
  },
  {
   "cell_type": "code",
   "execution_count": null,
   "metadata": {},
   "outputs": [],
   "source": [
    "PATH_TO_AOI = \"projects/thurgau-irrigation/assets/Zuerich/Zuerich_bound\"\n",
    "\n",
    "aoi_feature_collection = ee.FeatureCollection(PATH_TO_AOI)\n",
    "aoi_geometry = aoi_feature_collection.geometry().simplify(500)\n",
    "\n",
    "AOI = aoi_geometry.buffer(100)"
   ]
  },
  {
   "cell_type": "code",
   "execution_count": null,
   "metadata": {},
   "outputs": [],
   "source": [
    "fields_w_estimates = ee.FeatureCollection(\"projects/thurgau-irrigation/assets/ZH_Nutzungsflaechen_2/2022_with_irrigation_estimates\")\n",
    "\n",
    "print(f\"Size of fields_w_estimates: {fields_w_estimates.size().getInfo()}\")\n",
    "\n",
    "# Drop fields with PARZNR in this set: UH3685, UH3703, UH3673, UH3674, UH3679, UH3688 and UH3669\n",
    "fields_w_estimates = fields_w_estimates.filter(\n",
    "    ee.Filter.inList('PARZNR', ['UH3685', 'UH3703', 'UH3673', 'UH3674', 'UH3679', 'UH3688', 'UH3669']).Not()\n",
    ")\n",
    "\n",
    "print(f\"Size of fields_w_estimates after dropping: {fields_w_estimates.size().getInfo()}\")\n",
    "\n",
    "modelled_fields = ee.FeatureCollection(\n",
    "    \"projects/thurgau-irrigation/assets/Zuerich/ET_blue_m3_ha_yr_per_field_from_dekadal_wapor_10m_ZH_2022/ET_blue_m3_ha_yr_per_field_from_dekadal_wapor_10m_ZH_2022\"\n",
    ")\n",
    "\n",
    "parznr_list = fields_w_estimates.aggregate_array('PARZNR').distinct()\n",
    "\n",
    "# Filter modelled_fields to only keep features with matching PARZNR\n",
    "filtered_modelled_fields = modelled_fields.filter(\n",
    "    ee.Filter.inList('PARZNR', parznr_list)\n",
    ")\n",
    "\n",
    "print(f\"Size of filtered_modelled_fields: {filtered_modelled_fields.size().getInfo()}\")"
   ]
  },
  {
   "cell_type": "code",
   "execution_count": null,
   "metadata": {},
   "outputs": [],
   "source": [
    "distinct_use = filtered_modelled_fields.aggregate_array('NUTZUNG').distinct()\n",
    "\n",
    "distinct_use.getInfo()"
   ]
  },
  {
   "cell_type": "code",
   "execution_count": null,
   "metadata": {},
   "outputs": [],
   "source": [
    "fields_to_check = ee.FeatureCollection(\n",
    "    filtered_modelled_fields.filter(\n",
    "        ee.Filter.eq(\n",
    "            \"NUTZUNG\", \"Landwirtschaftliche Produktion in Gebäuden (z.B. Pilze, Brüsseler)\"\n",
    "        )\n",
    "    )\n",
    ")\n",
    "\n",
    "fields_to_check.size().getInfo()"
   ]
  },
  {
   "cell_type": "code",
   "execution_count": null,
   "metadata": {},
   "outputs": [],
   "source": [
    "IRRIGATION_EFFICIENCY = 0.5\n",
    "\n",
    "palette = [\"white\", \"blue\", \"green\", \"yellow\", \"red\"]\n",
    "\n",
    "# Define visualization parameters for the images\n",
    "visualization = {\n",
    "    \"min\": 0,\n",
    "    \"max\": 1000,\n",
    "    \"palette\": palette,\n",
    "}\n",
    "\n",
    "# Define visualization parameters for the feature collections - borders only\n",
    "fields_style = {\n",
    "    \"color\": \"black\",  \n",
    "    \"width\": 1,  \n",
    "    \"fillcolor\": None,  \n",
    "}\n",
    "\n",
    "\n",
    "# Convert fields_w_estimates to an image for gradient visualization\n",
    "fields_w_estimates_image = fields_w_estimates.reduceToImage(\n",
    "    properties=[\"estimated_irrigated_volume\"], reducer=ee.Reducer.first()\n",
    ")\n",
    "\n",
    "filtered_modelled_fields_image = filtered_modelled_fields.reduceToImage(\n",
    "    properties=[\"ET_blue_m3_ha_yr\"], reducer=ee.Reducer.first()\n",
    ")\n",
    "\n",
    "feature_to_check = ee.FeatureCollection(filtered_modelled_fields.filter(ee.Filter.eq('PARZNR', 'UH3669')))\n",
    "\n",
    "# Divide by irrigation efficiency to get the actual irrigation volume\n",
    "filtered_modelled_fields_image = filtered_modelled_fields_image.divide(IRRIGATION_EFFICIENCY)\n",
    "\n",
    "# Create a map centered on the area of interest\n",
    "Map = geemap.Map()\n",
    "Map.center_object(AOI, zoom=12)\n",
    "\n",
    "# Add the gradient visualization layers to the map\n",
    "Map.addLayer(fields_w_estimates_image, visualization, \"Irrigation Volume (Gradient)\")\n",
    "Map.addLayer(filtered_modelled_fields_image, visualization, \"Modelled ET_blue_m3_ha_yr\")\n",
    "Map.addLayer(fields_w_estimates, fields_style, \"Fields Borders\")\n",
    "\n",
    "Map.add_colorbar(\n",
    "    visualization, label=\"Irrigation Volume (m³/ha)\", orientation=\"horizontal\"\n",
    ")\n",
    "\n",
    "\n",
    "\n",
    "Map"
   ]
  },
  {
   "cell_type": "code",
   "execution_count": null,
   "metadata": {},
   "outputs": [],
   "source": [
    "# Compute the area of all fields in filtered_modelled_fields where the ET_blue_m3_ha_yr is greater than 0\n",
    "total_irrigated_area = (\n",
    "    filtered_modelled_fields.filter(ee.Filter.gt(\"ET_blue_m3_ha_yr\", 0))\n",
    "    .geometry()\n",
    "    .area()\n",
    "    .divide(10000)\n",
    "    .getInfo()\n",
    ")\n",
    "print(f\"Total irrigated area: {total_irrigated_area:.2f} ha\")\n",
    "\n",
    "# Print how many hectares are not irrigated\n",
    "total_non_irrigated_area = (\n",
    "    filtered_modelled_fields.filter(ee.Filter.eq(\"ET_blue_m3_ha_yr\", 0))\n",
    "    .geometry()\n",
    "    .area()\n",
    "    .divide(10000)\n",
    "    .getInfo()\n",
    ")\n",
    "print(f\"Total non-irrigated area: {total_non_irrigated_area:.2f} ha\")\n",
    "\n",
    "# Print area of fields with estimated irrigation volume\n",
    "total_estimated_irrigated_area = (\n",
    "    fields_w_estimates.filter(ee.Filter.gt(\"estimated_irrigated_volume\", 0))\n",
    "    .geometry()\n",
    "    .area()\n",
    "    .divide(10000)\n",
    "    .getInfo()\n",
    ")\n",
    "print(f\"Total estimated irrigated area: {total_estimated_irrigated_area:.2f} ha\")"
   ]
  },
  {
   "cell_type": "markdown",
   "metadata": {},
   "source": [
    "### Validating field level results for Zuerich"
   ]
  },
  {
   "cell_type": "code",
   "execution_count": null,
   "metadata": {},
   "outputs": [],
   "source": [
    "estimate = ee.FeatureCollection(\"projects/thurgau-irrigation/assets/ZH_Nutzungsflaechen_2/2022_with_irrigation_estimates\")\n",
    "\n",
    "modelled = ee.FeatureCollection(\n",
    "    \"projects/thurgau-irrigation/assets/Zuerich/ET_blue_m3_ha_yr_per_field_from_dekadal_wapor_10m_ZH_2022/ET_blue_m3_ha_yr_per_field_from_dekadal_2022\"\n",
    ")"
   ]
  },
  {
   "cell_type": "code",
   "execution_count": null,
   "metadata": {},
   "outputs": [],
   "source": []
  }
 ],
 "metadata": {
  "kernelspec": {
   "display_name": "geemap_env",
   "language": "python",
   "name": "python3"
  },
  "language_info": {
   "codemirror_mode": {
    "name": "ipython",
    "version": 3
   },
   "file_extension": ".py",
   "mimetype": "text/x-python",
   "name": "python",
   "nbconvert_exporter": "python",
   "pygments_lexer": "ipython3",
   "version": "3.11.10"
  }
 },
 "nbformat": 4,
 "nbformat_minor": 2
}
