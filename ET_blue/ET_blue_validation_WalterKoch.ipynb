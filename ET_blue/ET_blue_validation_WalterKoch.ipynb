{
 "cells": [
  {
   "cell_type": "code",
   "execution_count": 1,
   "metadata": {},
   "outputs": [],
   "source": [
    "import sys\n",
    "import os\n",
    "\n",
    "sys.path.append(os.path.abspath(os.path.join(\"..\")))"
   ]
  },
  {
   "cell_type": "code",
   "execution_count": 2,
   "metadata": {},
   "outputs": [],
   "source": [
    "import ee\n",
    "import geemap\n",
    "from utils import ee_utils, date_utils, plot_config\n",
    "\n",
    "import pandas as pd\n",
    "import matplotlib.pyplot as plt\n",
    "import seaborn as sns\n",
    "import numpy as np\n",
    "from typing import Dict, List, Tuple\n",
    "\n",
    "import warnings\n",
    "warnings.filterwarnings(\"ignore\")"
   ]
  },
  {
   "cell_type": "code",
   "execution_count": 3,
   "metadata": {},
   "outputs": [
    {
     "data": {
      "text/html": [
       "\n",
       "            <style>\n",
       "                .geemap-dark {\n",
       "                    --jp-widgets-color: white;\n",
       "                    --jp-widgets-label-color: white;\n",
       "                    --jp-ui-font-color1: white;\n",
       "                    --jp-layout-color2: #454545;\n",
       "                    background-color: #383838;\n",
       "                }\n",
       "\n",
       "                .geemap-dark .jupyter-button {\n",
       "                    --jp-layout-color3: #383838;\n",
       "                }\n",
       "\n",
       "                .geemap-colab {\n",
       "                    background-color: var(--colab-primary-surface-color, white);\n",
       "                }\n",
       "\n",
       "                .geemap-colab .jupyter-button {\n",
       "                    --jp-layout-color3: var(--colab-primary-surface-color, white);\n",
       "                }\n",
       "            </style>\n",
       "            "
      ],
      "text/plain": [
       "<IPython.core.display.HTML object>"
      ]
     },
     "metadata": {},
     "output_type": "display_data"
    }
   ],
   "source": [
    "from filter_nutzungsflaechen import (\n",
    "    get_crops_to_exclude,\n",
    "    get_rainfed_reference_crops,\n",
    "    create_crop_filters,\n",
    "    filter_crops,\n",
    "    add_double_cropping_info,\n",
    ")"
   ]
  },
  {
   "cell_type": "markdown",
   "metadata": {},
   "source": [
    "## Validating ET Blue Maps with Walter Koch's Estimates\n",
    "\n",
    "This notebook follows a three-step process:\n",
    "\n",
    "1. **Create Yearly ET Blue Maps (2018-2022):**  \n",
    "   - Aggregate dekadal ET Blue maps into monthly maps.\n",
    "   - Filter the maps to include only the growing season months (April through October).\n",
    "   - Sum the monthly ET Blue maps to produce yearly ET Blue maps.\n",
    "\n",
    "2. **Calculate Yearly ET Blue Values for Potentially Irrigated Fields:**  \n",
    "   - Compute ET blue in m3/ha/yr for each crop field for each year.\n",
    "\n",
    "3. **Compare ET Blue Values with Walter Koch's Estimates:**\n",
    "   - Make pretty plots"
   ]
  },
  {
   "cell_type": "markdown",
   "metadata": {},
   "source": [
    "## Aggregate dekadal ET Blue maps into monthly maps"
   ]
  },
  {
   "cell_type": "code",
   "execution_count": null,
   "metadata": {},
   "outputs": [],
   "source": [
    "ET_blue_collection = ee.ImageCollection(\n",
    "    \"projects/thurgau-irrigation/assets/Thurgau/ET_blue_postprocessed_2018-2022\"\n",
    ")\n",
    "\n",
    "\n",
    "def back_to_float(image: ee.Image):\n",
    "    date = image.get(\"system:time_start\")\n",
    "    return image.toFloat().divide(100).set(\"system:time_start\", date)\n",
    "\n",
    "\n",
    "ET_blue_collection = ET_blue_collection.map(back_to_float)"
   ]
  },
  {
   "cell_type": "code",
   "execution_count": null,
   "metadata": {},
   "outputs": [],
   "source": [
    "date_utils.print_collection_dates(ET_blue_collection)"
   ]
  },
  {
   "cell_type": "code",
   "execution_count": null,
   "metadata": {},
   "outputs": [],
   "source": [
    "ET_blue_collection_list = ET_blue_collection.toList(ET_blue_collection.size())\n",
    "\n",
    "Map = geemap.Map()\n",
    "\n",
    "image = ee.Image(ET_blue_collection_list.get(96))\n",
    "\n",
    "vis_params = {\n",
    "    \"bands\": [\"ET_blue\"],\n",
    "    \"min\": 0,\n",
    "    \"max\": 0.3,\n",
    "    \"palette\": [\"blue\", \"green\", \"yellow\", \"red\"],\n",
    "}\n",
    "\n",
    "Map.addLayer(image, vis_params, \"ET_blue\")\n",
    "Map.add_colorbar(vis_params, label=\"ET_blue\", orientation=\"horizontal\")\n",
    "Map"
   ]
  },
  {
   "cell_type": "code",
   "execution_count": null,
   "metadata": {},
   "outputs": [],
   "source": [
    "ET_blue_collection_monthly = ee_utils.aggregate_to_monthly(\n",
    "    ET_blue_collection, bands=[\"ET_blue\", \"ET_blue_m3\"]\n",
    ")"
   ]
  },
  {
   "cell_type": "markdown",
   "metadata": {},
   "source": [
    "## Filter the maps to include only the growing season months (April through October)."
   ]
  },
  {
   "cell_type": "code",
   "execution_count": null,
   "metadata": {},
   "outputs": [],
   "source": [
    "ET_blue_collection_monthly_growing_season = ET_blue_collection_monthly.filter(ee.Filter.calendarRange(4, 10, \"month\"))\n",
    "\n",
    "date_utils.print_collection_dates(ET_blue_collection_monthly_growing_season)"
   ]
  },
  {
   "cell_type": "markdown",
   "metadata": {},
   "source": [
    "## Sum the monthly ET Blue maps to produce yearly ET Blue maps."
   ]
  },
  {
   "cell_type": "code",
   "execution_count": null,
   "metadata": {},
   "outputs": [],
   "source": [
    "def create_growing_season_yearly_sums(\n",
    "    collection: ee.ImageCollection,\n",
    ") -> ee.ImageCollection:\n",
    "    \"\"\"\n",
    "    Create yearly sums from a collection of monthly images for the growing season (April to October).\n",
    "\n",
    "    Args:\n",
    "        collection (ee.ImageCollection): Input collection with monthly images for the growing season.\n",
    "\n",
    "    Returns:\n",
    "        ee.ImageCollection: Collection with yearly sum images for the growing season.\n",
    "    \"\"\"\n",
    "\n",
    "    def sum_growing_season(year):\n",
    "        start_date = ee.Date.fromYMD(year, 4, 1)  # April 1st\n",
    "        end_date = ee.Date.fromYMD(year, 11, 1)  # November 1st (exclusive)\n",
    "        yearly_sum = collection.filterDate(start_date, end_date).sum()\n",
    "        return yearly_sum.set(\"year\", year).set(\n",
    "            \"system:time_start\", start_date.millis()\n",
    "        )\n",
    "\n",
    "    # Get the range of years in the collection\n",
    "    start_year = ee.Date(collection.first().get(\"system:time_start\")).get(\"year\")\n",
    "    end_year = ee.Date(\n",
    "        collection.sort(\"system:time_start\", False).first().get(\"system:time_start\")\n",
    "    ).get(\"year\")\n",
    "\n",
    "    # Create a list of years\n",
    "    years = ee.List.sequence(start_year, end_year)\n",
    "\n",
    "    # Map over the years to create yearly sums\n",
    "    yearly_sums = ee.ImageCollection.fromImages(years.map(sum_growing_season))\n",
    "\n",
    "    return yearly_sums\n",
    "\n",
    "\n",
    "ET_blue_collection_yearly = create_growing_season_yearly_sums(\n",
    "    ET_blue_collection_monthly_growing_season\n",
    ")"
   ]
  },
  {
   "cell_type": "code",
   "execution_count": null,
   "metadata": {},
   "outputs": [],
   "source": [
    "ET_blue_collection_yearly.first().bandNames().getInfo()"
   ]
  },
  {
   "cell_type": "markdown",
   "metadata": {},
   "source": [
    "## Compute ET blue in m3/ha/yr for each crop field for each year and export"
   ]
  },
  {
   "cell_type": "code",
   "execution_count": null,
   "metadata": {},
   "outputs": [],
   "source": [
    "def calculate_et_blue_per_field(\n",
    "    et_blue_image: ee.Image, crop_fields: ee.FeatureCollection\n",
    ") -> ee.FeatureCollection:\n",
    "    \"\"\"\n",
    "    Calculate ET_blue in m3/ha/yr for each crop field and add it as a property.\n",
    "\n",
    "    Args:\n",
    "        et_blue_image (ee.Image): Image containing ET_blue estimates in m3/yr.\n",
    "        crop_fields (ee.FeatureCollection): Collection of crop field features.\n",
    "\n",
    "    Returns:\n",
    "        ee.FeatureCollection: Updated crop fields with ET_blue_m3_ha_yr property.\n",
    "    \"\"\"\n",
    "\n",
    "    def calculate_et_blue(feature: ee.Feature) -> ee.Feature:\n",
    "        # Get the area of the feature in hectares\n",
    "        area_ha = ee.Number(feature.get(\"Area (m^2)\")).divide(10000)  # Convert m² to ha\n",
    "\n",
    "        # Calculate the sum of ET_blue within the feature\n",
    "        et_blue_sum = et_blue_image.reduceRegion(\n",
    "            reducer=ee.Reducer.sum(),\n",
    "            geometry=feature.geometry(),\n",
    "            scale=10,  # Use the resolution of the ET_blue image\n",
    "            maxPixels=1e9,\n",
    "        ).get(\"ET_blue_m3\")\n",
    "\n",
    "        # Calculate ET_blue in m3/ha/yr\n",
    "        et_blue_m3_ha_yr = ee.Number(et_blue_sum).divide(area_ha).toInt()\n",
    "\n",
    "        # Add the result as a new property\n",
    "        return feature.set(\"ET_blue_m3_ha_yr\", et_blue_m3_ha_yr)\n",
    "\n",
    "    # Map the calculation over all features\n",
    "    return crop_fields.map(calculate_et_blue)"
   ]
  },
  {
   "cell_type": "code",
   "execution_count": null,
   "metadata": {},
   "outputs": [],
   "source": [
    "def export_feature_collection(collection: ee.FeatureCollection, task_name: str, asset_id: str): \n",
    "    \"\"\"\n",
    "    Export the feature collection to an Earth Engine asset.\n",
    "\n",
    "    Args:\n",
    "        collection: The feature collection to export.\n",
    "        year: The year of the feature collection.\n",
    "        task_name: The name of the export task.\n",
    "        asset_id: The asset ID to export to.\n",
    "    \"\"\"\n",
    "    task = ee.batch.Export.table.toAsset(\n",
    "        collection=collection,\n",
    "        description=task_name,\n",
    "        assetId=asset_id,\n",
    "    )\n",
    "    task.start()"
   ]
  },
  {
   "cell_type": "code",
   "execution_count": null,
   "metadata": {},
   "outputs": [],
   "source": [
    "years = range(2018, 2023)\n",
    "\n",
    "not_irrigated_crops = get_crops_to_exclude()\n",
    "exclude_filter, _ = create_crop_filters(not_irrigated_crops, not_irrigated_crops)\n",
    "\n",
    "ET_blue_collection_yearly_list = ET_blue_collection_yearly.toList(\n",
    "    ET_blue_collection_yearly.size()\n",
    ")\n",
    "\n",
    "for year in years:\n",
    "    index = 2018 - year\n",
    "    nutzung_collection_year = ee.FeatureCollection(\n",
    "        f\"projects/thurgau-irrigation/assets/Thurgau/Nutzungsflaechen/TG_{year}_area\"\n",
    "    )\n",
    "\n",
    "    potentially_rainfed, _ = filter_crops(nutzung_collection_year, exclude_filter, _)\n",
    "\n",
    "    et_blue_image = ee.Image(ET_blue_collection_yearly_list.get(index))\n",
    "\n",
    "    crop_with_et_blue = calculate_et_blue_per_field(et_blue_image, potentially_rainfed)\n",
    "\n",
    "    task_name = f\"ET_blue_m3_ha_yr_per_field_{year}\"\n",
    "    asset_id = f\"projects/thurgau-irrigation/assets/Thurgau/ET_blue_m3_ha_yr_per_field_2018-2022/{task_name}\"\n",
    "\n",
    "    export_feature_collection(crop_with_et_blue, task_name, asset_id)\n",
    "    print(f\"Exporting {task_name} to {asset_id}\")"
   ]
  },
  {
   "cell_type": "code",
   "execution_count": null,
   "metadata": {},
   "outputs": [],
   "source": [
    "# nutzung_collection_year = ee.FeatureCollection(\n",
    "#     f\"projects/thurgau-irrigation/assets/Thurgau/Nutzungsflaechen/TG_{2020}_area\"\n",
    "# )\n",
    "\n",
    "\n",
    "# potentially_rainfed, _ = filter_crops(nutzung_collection_year, exclude_filter, _)\n",
    "\n",
    "# et_blue_image = ee.Image(ET_blue_collection_yearly_list.get(2))\n",
    "\n",
    "# crop_with_et_blue = calculate_et_blue_per_field(et_blue_image, potentially_rainfed)"
   ]
  },
  {
   "cell_type": "markdown",
   "metadata": {},
   "source": [
    "## Comparing to Walter Koch's estimates"
   ]
  },
  {
   "cell_type": "code",
   "execution_count": null,
   "metadata": {},
   "outputs": [],
   "source": [
    "irrigation_estimate = {\n",
    "    \"Einjährige Freilandgemüse, ohne Konservengemüse\": [200, 1000],\n",
    "    \"Kartoffeln\": [200, 1000],\n",
    "    \"Freiland-Konservengemüse\": [200, 600],\n",
    "}\n",
    "\n",
    "IRRIGATION_EFFICIENCY = 0.5"
   ]
  },
  {
   "cell_type": "code",
   "execution_count": null,
   "metadata": {},
   "outputs": [],
   "source": [
    "def filter_dataframe(df: pd.DataFrame, crop_types: List[str]) -> pd.DataFrame:\n",
    "    \"\"\"\n",
    "    Filter the DataFrame to include only the specified crop types.\n",
    "\n",
    "    Args:\n",
    "        df (pd.DataFrame): Input DataFrame with 'ET_blue_m3_ha_yr' and 'nutzung' columns.\n",
    "        crop_types (List[str]): List of crop types to include.\n",
    "\n",
    "    Returns:\n",
    "        pd.DataFrame: Filtered DataFrame.\n",
    "    \"\"\"\n",
    "    return df[df[\"nutzung\"].isin(crop_types)]\n",
    "\n",
    "\n",
    "def plot_histogram_comparison(\n",
    "    calculated_et_blue: pd.DataFrame,\n",
    "    farmer_estimates: Dict[str, Tuple[int, int]],\n",
    "    output_destination: str,\n",
    ") -> None:\n",
    "    \"\"\"\n",
    "    Create a histogram comparison of calculated ET blue vs farmer estimates.\n",
    "\n",
    "    Args:\n",
    "        calculated_et_blue (pd.DataFrame): DataFrame with 'ET_blue_m3_ha_yr' and 'nutzung' columns.\n",
    "        farmer_estimates (Dict[str, Tuple[int, int]]): Dictionary of farmer estimates for each crop type.\n",
    "        output_destination (str): Output destination for the plot.\n",
    "    \"\"\"\n",
    "    plot_config.set_plot_style()\n",
    "\n",
    "    crop_types = list(farmer_estimates.keys())\n",
    "    num_crops = len(crop_types)\n",
    "\n",
    "    fig, axs = plt.subplots(1, num_crops, figsize=(6 * num_crops, 6))\n",
    "\n",
    "    for i, crop in enumerate(crop_types):\n",
    "        crop_data = calculated_et_blue[calculated_et_blue[\"nutzung\"] == crop][\n",
    "            \"ET_blue_m3_ha_yr\"\n",
    "        ]\n",
    "\n",
    "        sns.histplot(crop_data, kde=False, ax=axs[i])\n",
    "        axs[i].axvline(\n",
    "            farmer_estimates[crop][0],\n",
    "            color=\"r\",\n",
    "            linestyle=\"--\",\n",
    "            label=\"Farmer's estimate range\",\n",
    "        )\n",
    "        axs[i].axvline(farmer_estimates[crop][1], color=\"r\", linestyle=\"--\")\n",
    "\n",
    "        axs[i].set_xlabel(\"ET Blue (m³/ha/yr)\")\n",
    "        axs[i].set_ylabel(\"Frequency\")\n",
    "        axs[i].set_title(f\"{crop}\")\n",
    "\n",
    "        # Add summary statistics\n",
    "        mean_value = crop_data.mean()\n",
    "        median_value = crop_data.median()\n",
    "        axs[i].axvline(\n",
    "            mean_value, color=\"g\", linestyle=\"-\", label=f\"Average: {mean_value:.0f}\"\n",
    "        )\n",
    "\n",
    "        axs[i].legend(loc=\"upper center\", bbox_to_anchor=(0.5, -0.15), ncol=2)\n",
    "\n",
    "    plt.tight_layout()\n",
    "\n",
    "    plt.savefig(output_destination, bbox_inches=\"tight\", dpi=300)\n",
    "    plt.subplots_adjust(bottom=0.2)"
   ]
  },
  {
   "cell_type": "code",
   "execution_count": null,
   "metadata": {},
   "outputs": [],
   "source": [
    "for year in range(2018, 2023):\n",
    "    ET_blue_per_field = ee.FeatureCollection(\n",
    "        f\"projects/thurgau-irrigation/assets/Thurgau/ET_blue_m3_ha_yr_per_field_2018-2022/ET_blue_m3_ha_yr_per_field_{year}\"\n",
    "    )\n",
    "\n",
    "    ET_blue_per_field_2018_df = geemap.ee_to_df(ET_blue_per_field)\n",
    "    ET_blue_per_field_2018_df = ET_blue_per_field_2018_df[[\"ET_blue_m3_ha_yr\", \"nutzung\"]]\n",
    "\n",
    "    ET_blue_per_field_2018_df[\"ET_blue_m3_ha_yr\"] = ET_blue_per_field_2018_df[\"ET_blue_m3_ha_yr\"] / IRRIGATION_EFFICIENCY\n",
    "\n",
    "    # Filter the DataFrame\n",
    "    filtered_df = filter_dataframe(ET_blue_per_field_2018_df, list(irrigation_estimate.keys()))\n",
    "\n",
    "    # Create the plot\n",
    "    plot_histogram_comparison(filtered_df, irrigation_estimate, output_destination=f\"/Users/cooper/Desktop/Hydrosolutions/ETblue-estimation /images/ET_blue_validation/ET_blue_histogram_comparison_{year}.png\")"
   ]
  },
  {
   "cell_type": "code",
   "execution_count": null,
   "metadata": {},
   "outputs": [],
   "source": [
    "ET_blue_per_field = ee.FeatureCollection(\n",
    "    \"projects/thurgau-irrigation/assets/Thurgau/ET_blue_m3_ha_yr_per_field_2018-2022/ET_blue_m3_ha_yr_per_field_2018\"\n",
    ")\n",
    "\n",
    "ET_blue_per_field.first().getInfo()"
   ]
  },
  {
   "cell_type": "code",
   "execution_count": null,
   "metadata": {},
   "outputs": [],
   "source": [
    "Map = geemap.Map()\n",
    "\n",
    "Map.addLayer(ET_blue_per_field.get(\"ET_blue_m3_ha_yr\"), {}, \"ET_blue_m3_ha_yr_per_field_2018\")\n",
    "Map"
   ]
  },
  {
   "cell_type": "markdown",
   "metadata": {},
   "source": [
    "## Field level estimates for 2022"
   ]
  },
  {
   "cell_type": "code",
   "execution_count": null,
   "metadata": {},
   "outputs": [],
   "source": [
    "# fields_w_estimates = ee.FeatureCollection(\"projects/thurgau-irrigation/assets/ZH_Nutzungsflaechen_2/2022_with_irrigation_estimates\")"
   ]
  },
  {
   "cell_type": "code",
   "execution_count": null,
   "metadata": {},
   "outputs": [],
   "source": [
    "# palette = [\"blue\", \"green\", \"yellow\", \"red\"]\n",
    "\n",
    "# # Define visualization parameters\n",
    "# visualization = {\n",
    "#     \"min\": 0,\n",
    "#     \"max\": 1000,  # Adjust based on your maximum irrigation volume\n",
    "#     \"palette\": palette,\n",
    "# }\n",
    "\n",
    "# # Convert fields_w_estimates to an image for gradient visualization\n",
    "# irrigation_image = fields_w_estimates.reduceToImage(\n",
    "#     properties=[\"estimated_irrigated_volume\"], reducer=ee.Reducer.first()\n",
    "# )\n",
    "\n",
    "# # Create a map centered on the area of interest\n",
    "# Map = geemap.Map(center=[47.63915833792603, 8.77542613019931], zoom=12)\n",
    "\n",
    "# # Add the gradient visualization layer to the map\n",
    "# Map.addLayer(irrigation_image, visualization, \"Irrigation Volume (Gradient)\")\n",
    "# Map.addLayer(fields_w_estimates, {\"color\": \"black\"}, \"Fields\")\n",
    "\n",
    "# Map"
   ]
  },
  {
   "cell_type": "code",
   "execution_count": null,
   "metadata": {},
   "outputs": [],
   "source": []
  },
  {
   "cell_type": "code",
   "execution_count": null,
   "metadata": {},
   "outputs": [],
   "source": []
  },
  {
   "cell_type": "code",
   "execution_count": null,
   "metadata": {},
   "outputs": [],
   "source": []
  }
 ],
 "metadata": {
  "kernelspec": {
   "display_name": "base",
   "language": "python",
   "name": "python3"
  },
  "language_info": {
   "codemirror_mode": {
    "name": "ipython",
    "version": 3
   },
   "file_extension": ".py",
   "mimetype": "text/x-python",
   "name": "python",
   "nbconvert_exporter": "python",
   "pygments_lexer": "ipython3",
   "version": "3.11.8"
  }
 },
 "nbformat": 4,
 "nbformat_minor": 2
}
