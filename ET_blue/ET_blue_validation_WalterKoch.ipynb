{
 "cells": [
  {
   "cell_type": "code",
   "execution_count": 1,
   "metadata": {},
   "outputs": [],
   "source": [
    "import sys\n",
    "import os\n",
    "\n",
    "sys.path.append(os.path.abspath(os.path.join(\"..\")))"
   ]
  },
  {
   "cell_type": "code",
   "execution_count": 2,
   "metadata": {},
   "outputs": [],
   "source": [
    "import ee\n",
    "import geemap\n",
    "from utils import ee_utils, date_utils, plot_config\n",
    "from utils.ee_utils import back_to_float\n",
    "\n",
    "import pandas as pd\n",
    "import matplotlib.pyplot as plt\n",
    "import seaborn as sns\n",
    "import numpy as np\n",
    "from typing import Dict, List, Tuple, Union\n",
    "\n",
    "import warnings\n",
    "\n",
    "warnings.filterwarnings(\"ignore\")"
   ]
  },
  {
   "cell_type": "code",
   "execution_count": 3,
   "metadata": {},
   "outputs": [
    {
     "data": {
      "text/html": [
       "\n",
       "            <style>\n",
       "                .geemap-dark {\n",
       "                    --jp-widgets-color: white;\n",
       "                    --jp-widgets-label-color: white;\n",
       "                    --jp-ui-font-color1: white;\n",
       "                    --jp-layout-color2: #454545;\n",
       "                    background-color: #383838;\n",
       "                }\n",
       "\n",
       "                .geemap-dark .jupyter-button {\n",
       "                    --jp-layout-color3: #383838;\n",
       "                }\n",
       "\n",
       "                .geemap-colab {\n",
       "                    background-color: var(--colab-primary-surface-color, white);\n",
       "                }\n",
       "\n",
       "                .geemap-colab .jupyter-button {\n",
       "                    --jp-layout-color3: var(--colab-primary-surface-color, white);\n",
       "                }\n",
       "            </style>\n",
       "            "
      ],
      "text/plain": [
       "<IPython.core.display.HTML object>"
      ]
     },
     "metadata": {},
     "output_type": "display_data"
    }
   ],
   "source": [
    "from filter_nutzungsflaechen import (\n",
    "    get_crops_to_exclude,\n",
    "    get_rainfed_reference_crops,\n",
    "    create_crop_filters,\n",
    "    filter_crops,\n",
    "    add_double_cropping_info,\n",
    ")"
   ]
  },
  {
   "cell_type": "markdown",
   "metadata": {},
   "source": [
    "## Validating ET Blue Maps with Walter Koch's Estimates\n",
    "\n",
    "This notebook follows a three-step process:\n",
    "\n",
    "1. **Create Yearly ET Blue Maps (2018-2022):**  \n",
    "   - Aggregate dekadal ET Blue maps into monthly maps.\n",
    "   - Filter the maps to include only the growing season months (April through October).\n",
    "   - Sum the monthly ET Blue maps to produce yearly ET Blue maps.\n",
    "\n",
    "2. **Calculate Yearly ET Blue Values for Potentially Irrigated Fields:**  \n",
    "   - Compute ET blue in m3/ha/yr for each crop field for each year.\n",
    "\n",
    "3. **Compare ET Blue Values with Walter Koch's Estimates:**\n",
    "   - Make pretty plots"
   ]
  },
  {
   "cell_type": "markdown",
   "metadata": {},
   "source": [
    "## Aggregate dekadal ET Blue maps into monthly maps"
   ]
  },
  {
   "cell_type": "code",
   "execution_count": 4,
   "metadata": {},
   "outputs": [
    {
     "data": {
      "text/html": [
       "\n",
       "            <style>\n",
       "                .geemap-dark {\n",
       "                    --jp-widgets-color: white;\n",
       "                    --jp-widgets-label-color: white;\n",
       "                    --jp-ui-font-color1: white;\n",
       "                    --jp-layout-color2: #454545;\n",
       "                    background-color: #383838;\n",
       "                }\n",
       "\n",
       "                .geemap-dark .jupyter-button {\n",
       "                    --jp-layout-color3: #383838;\n",
       "                }\n",
       "\n",
       "                .geemap-colab {\n",
       "                    background-color: var(--colab-primary-surface-color, white);\n",
       "                }\n",
       "\n",
       "                .geemap-colab .jupyter-button {\n",
       "                    --jp-layout-color3: var(--colab-primary-surface-color, white);\n",
       "                }\n",
       "            </style>\n",
       "            "
      ],
      "text/plain": [
       "<IPython.core.display.HTML object>"
      ]
     },
     "metadata": {},
     "output_type": "display_data"
    },
    {
     "data": {
      "text/plain": [
       "72"
      ]
     },
     "execution_count": 4,
     "metadata": {},
     "output_type": "execute_result"
    }
   ],
   "source": [
    "ET_blue_collection = ee.ImageCollection(\n",
    "    \"projects/thurgau-irrigation/assets/Thurgau/ET_blue_postprocessed_wapor_monthly_2018-2023\"\n",
    ")\n",
    "\n",
    "\n",
    "ET_blue_collection = ET_blue_collection.map(lambda img: back_to_float(img, 100))\n",
    "\n",
    "ET_blue_collection.size().getInfo()"
   ]
  },
  {
   "cell_type": "code",
   "execution_count": 5,
   "metadata": {},
   "outputs": [
    {
     "data": {
      "text/html": [
       "\n",
       "            <style>\n",
       "                .geemap-dark {\n",
       "                    --jp-widgets-color: white;\n",
       "                    --jp-widgets-label-color: white;\n",
       "                    --jp-ui-font-color1: white;\n",
       "                    --jp-layout-color2: #454545;\n",
       "                    background-color: #383838;\n",
       "                }\n",
       "\n",
       "                .geemap-dark .jupyter-button {\n",
       "                    --jp-layout-color3: #383838;\n",
       "                }\n",
       "\n",
       "                .geemap-colab {\n",
       "                    background-color: var(--colab-primary-surface-color, white);\n",
       "                }\n",
       "\n",
       "                .geemap-colab .jupyter-button {\n",
       "                    --jp-layout-color3: var(--colab-primary-surface-color, white);\n",
       "                }\n",
       "            </style>\n",
       "            "
      ],
      "text/plain": [
       "<IPython.core.display.HTML object>"
      ]
     },
     "metadata": {},
     "output_type": "display_data"
    }
   ],
   "source": [
    "# ET_blue_collection_monthly = ee_utils.aggregate_to_monthly(\n",
    "#     ET_blue_collection, bands=[\"ET_blue\", \"ET_blue_m3\"]\n",
    "# )\n",
    "\n",
    "# ET_blue_collection_monthly.size().getInfo()\n",
    "\n",
    "ET_blue_collection_monthly = ET_blue_collection"
   ]
  },
  {
   "cell_type": "markdown",
   "metadata": {},
   "source": [
    "## Filter the maps to include only the growing season months (April through October)."
   ]
  },
  {
   "cell_type": "code",
   "execution_count": 6,
   "metadata": {},
   "outputs": [
    {
     "data": {
      "text/html": [
       "\n",
       "            <style>\n",
       "                .geemap-dark {\n",
       "                    --jp-widgets-color: white;\n",
       "                    --jp-widgets-label-color: white;\n",
       "                    --jp-ui-font-color1: white;\n",
       "                    --jp-layout-color2: #454545;\n",
       "                    background-color: #383838;\n",
       "                }\n",
       "\n",
       "                .geemap-dark .jupyter-button {\n",
       "                    --jp-layout-color3: #383838;\n",
       "                }\n",
       "\n",
       "                .geemap-colab {\n",
       "                    background-color: var(--colab-primary-surface-color, white);\n",
       "                }\n",
       "\n",
       "                .geemap-colab .jupyter-button {\n",
       "                    --jp-layout-color3: var(--colab-primary-surface-color, white);\n",
       "                }\n",
       "            </style>\n",
       "            "
      ],
      "text/plain": [
       "<IPython.core.display.HTML object>"
      ]
     },
     "metadata": {},
     "output_type": "display_data"
    },
    {
     "name": "stdout",
     "output_type": "stream",
     "text": [
      "Dates of images in the collection:\n",
      "2018-04-01\n",
      "2018-05-01\n",
      "2018-06-01\n",
      "2018-07-01\n",
      "2018-08-01\n",
      "2018-09-01\n",
      "2018-10-01\n",
      "2019-04-01\n",
      "2019-05-01\n",
      "2019-06-01\n",
      "2019-07-01\n",
      "2019-08-01\n",
      "2019-09-01\n",
      "2019-10-01\n",
      "2020-04-01\n",
      "2020-05-01\n",
      "2020-06-01\n",
      "2020-07-01\n",
      "2020-08-01\n",
      "2020-09-01\n",
      "2020-10-01\n",
      "2021-04-01\n",
      "2021-05-01\n",
      "2021-06-01\n",
      "2021-07-01\n",
      "2021-08-01\n",
      "2021-09-01\n",
      "2021-10-01\n",
      "2022-04-01\n",
      "2022-05-01\n",
      "2022-06-01\n",
      "2022-07-01\n",
      "2022-08-01\n",
      "2022-09-01\n",
      "2022-10-01\n",
      "2023-04-01\n",
      "2023-05-01\n",
      "2023-06-01\n",
      "2023-07-01\n",
      "2023-08-01\n",
      "2023-09-01\n",
      "2023-10-01\n"
     ]
    }
   ],
   "source": [
    "ET_blue_collection_monthly_growing_season = ET_blue_collection_monthly.filter(ee.Filter.calendarRange(4, 10, \"month\"))\n",
    "\n",
    "date_utils.print_collection_dates(ET_blue_collection_monthly_growing_season)"
   ]
  },
  {
   "cell_type": "markdown",
   "metadata": {},
   "source": [
    "## Sum the monthly ET Blue maps to produce yearly ET Blue maps."
   ]
  },
  {
   "cell_type": "code",
   "execution_count": 7,
   "metadata": {},
   "outputs": [
    {
     "data": {
      "text/html": [
       "\n",
       "            <style>\n",
       "                .geemap-dark {\n",
       "                    --jp-widgets-color: white;\n",
       "                    --jp-widgets-label-color: white;\n",
       "                    --jp-ui-font-color1: white;\n",
       "                    --jp-layout-color2: #454545;\n",
       "                    background-color: #383838;\n",
       "                }\n",
       "\n",
       "                .geemap-dark .jupyter-button {\n",
       "                    --jp-layout-color3: #383838;\n",
       "                }\n",
       "\n",
       "                .geemap-colab {\n",
       "                    background-color: var(--colab-primary-surface-color, white);\n",
       "                }\n",
       "\n",
       "                .geemap-colab .jupyter-button {\n",
       "                    --jp-layout-color3: var(--colab-primary-surface-color, white);\n",
       "                }\n",
       "            </style>\n",
       "            "
      ],
      "text/plain": [
       "<IPython.core.display.HTML object>"
      ]
     },
     "metadata": {},
     "output_type": "display_data"
    }
   ],
   "source": [
    "def create_growing_season_yearly_sums(\n",
    "    collection: ee.ImageCollection,\n",
    ") -> ee.ImageCollection:\n",
    "    \"\"\"\n",
    "    Create yearly sums from a collection of monthly images for the growing season (April to October).\n",
    "\n",
    "    Args:\n",
    "        collection (ee.ImageCollection): Input collection with monthly images for the growing season.\n",
    "\n",
    "    Returns:\n",
    "        ee.ImageCollection: Collection with yearly sum images for the growing season.\n",
    "    \"\"\"\n",
    "\n",
    "    def sum_growing_season(year):\n",
    "        start_date = ee.Date.fromYMD(year, 4, 1)  # April 1st\n",
    "        end_date = ee.Date.fromYMD(year, 11, 1)  # November 1st (exclusive)\n",
    "        yearly_sum = collection.filterDate(start_date, end_date).sum()\n",
    "        return yearly_sum.set(\"year\", year).set(\n",
    "            \"system:time_start\", start_date.millis()\n",
    "        )\n",
    "\n",
    "    # Get the range of years in the collection\n",
    "    start_year = ee.Date(collection.first().get(\"system:time_start\")).get(\"year\")\n",
    "    end_year = ee.Date(\n",
    "        collection.sort(\"system:time_start\", False).first().get(\"system:time_start\")\n",
    "    ).get(\"year\")\n",
    "\n",
    "    # Create a list of years\n",
    "    years = ee.List.sequence(start_year, end_year)\n",
    "\n",
    "    # Map over the years to create yearly sums\n",
    "    yearly_sums = ee.ImageCollection.fromImages(years.map(sum_growing_season))\n",
    "\n",
    "    return yearly_sums\n",
    "\n",
    "\n",
    "ET_blue_collection_yearly = create_growing_season_yearly_sums(\n",
    "    ET_blue_collection_monthly_growing_season\n",
    ")"
   ]
  },
  {
   "cell_type": "code",
   "execution_count": 8,
   "metadata": {},
   "outputs": [
    {
     "data": {
      "text/html": [
       "\n",
       "            <style>\n",
       "                .geemap-dark {\n",
       "                    --jp-widgets-color: white;\n",
       "                    --jp-widgets-label-color: white;\n",
       "                    --jp-ui-font-color1: white;\n",
       "                    --jp-layout-color2: #454545;\n",
       "                    background-color: #383838;\n",
       "                }\n",
       "\n",
       "                .geemap-dark .jupyter-button {\n",
       "                    --jp-layout-color3: #383838;\n",
       "                }\n",
       "\n",
       "                .geemap-colab {\n",
       "                    background-color: var(--colab-primary-surface-color, white);\n",
       "                }\n",
       "\n",
       "                .geemap-colab .jupyter-button {\n",
       "                    --jp-layout-color3: var(--colab-primary-surface-color, white);\n",
       "                }\n",
       "            </style>\n",
       "            "
      ],
      "text/plain": [
       "<IPython.core.display.HTML object>"
      ]
     },
     "metadata": {},
     "output_type": "display_data"
    },
    {
     "data": {
      "text/plain": [
       "['ET_blue', 'ET_blue_m3']"
      ]
     },
     "execution_count": 8,
     "metadata": {},
     "output_type": "execute_result"
    }
   ],
   "source": [
    "ET_blue_collection_yearly.first().bandNames().getInfo()"
   ]
  },
  {
   "cell_type": "markdown",
   "metadata": {},
   "source": [
    "## Compute ET blue in m3/ha/yr for each crop field for each year and export"
   ]
  },
  {
   "cell_type": "code",
   "execution_count": 9,
   "metadata": {},
   "outputs": [
    {
     "data": {
      "text/html": [
       "\n",
       "            <style>\n",
       "                .geemap-dark {\n",
       "                    --jp-widgets-color: white;\n",
       "                    --jp-widgets-label-color: white;\n",
       "                    --jp-ui-font-color1: white;\n",
       "                    --jp-layout-color2: #454545;\n",
       "                    background-color: #383838;\n",
       "                }\n",
       "\n",
       "                .geemap-dark .jupyter-button {\n",
       "                    --jp-layout-color3: #383838;\n",
       "                }\n",
       "\n",
       "                .geemap-colab {\n",
       "                    background-color: var(--colab-primary-surface-color, white);\n",
       "                }\n",
       "\n",
       "                .geemap-colab .jupyter-button {\n",
       "                    --jp-layout-color3: var(--colab-primary-surface-color, white);\n",
       "                }\n",
       "            </style>\n",
       "            "
      ],
      "text/plain": [
       "<IPython.core.display.HTML object>"
      ]
     },
     "metadata": {},
     "output_type": "display_data"
    }
   ],
   "source": [
    "def calculate_et_blue_per_field(\n",
    "    et_blue_image: ee.Image,\n",
    "    crop_fields: ee.FeatureCollection,\n",
    "    scale: Union[int, float] = 10,\n",
    ") -> ee.FeatureCollection:\n",
    "    \"\"\"\n",
    "    Calculate ET_blue in m3/ha/yr for each crop field, using median to determine irrigation status.\n",
    "\n",
    "    Args:\n",
    "        et_blue_image (ee.Image): Image containing ET_blue estimates in m3/yr.\n",
    "        crop_fields (ee.FeatureCollection): Collection of crop field features.\n",
    "        scale (Union[int, float], optional): Scale in meters for computations. Defaults to 10.\n",
    "\n",
    "    Returns:\n",
    "        ee.FeatureCollection: Updated crop fields with ET_blue_m3_ha_yr property.\n",
    "    \"\"\"\n",
    "\n",
    "    def calculate_et_blue(feature: ee.Feature) -> ee.Feature:\n",
    "        geometry = feature.geometry()\n",
    "\n",
    "        # Calculate median of ET blue pixels within the field\n",
    "        median_stats = et_blue_image.reduceRegion(\n",
    "            reducer=ee.Reducer.median(), geometry=geometry, scale=scale, maxPixels=1e9\n",
    "        ).get(\"ET_blue_m3\")\n",
    "\n",
    "        # Calculate area in hectares\n",
    "        area_ha = ee.Number(geometry.area()).divide(10000)\n",
    "\n",
    "        def compute_when_irrigated():\n",
    "            # Calculate total ET blue volume\n",
    "            et_blue_sum = et_blue_image.reduceRegion(\n",
    "                reducer=ee.Reducer.sum(), geometry=geometry, scale=scale, maxPixels=1e9\n",
    "            ).get(\"ET_blue_m3\")\n",
    "\n",
    "            # Handle potential null values in sum calculation\n",
    "            return ee.Number(\n",
    "                ee.Algorithms.If(\n",
    "                    ee.Algorithms.IsEqual(et_blue_sum, None),\n",
    "                    0,\n",
    "                    ee.Number(et_blue_sum).divide(area_ha).round(),\n",
    "                )\n",
    "            )\n",
    "\n",
    "        # Use nested If statements to handle null values\n",
    "        et_blue_m3_ha_yr = ee.Number(\n",
    "            ee.Algorithms.If(\n",
    "                ee.Algorithms.IsEqual(median_stats, None),\n",
    "                0,  # If median_stats is null, return 0\n",
    "                ee.Algorithms.If(\n",
    "                    ee.Number(median_stats).eq(0),\n",
    "                    0,  # If median is 0, return 0\n",
    "                    compute_when_irrigated(),  # Otherwise calculate the value\n",
    "                ),\n",
    "            )\n",
    "        )\n",
    "\n",
    "        return feature.set(\"ET_blue_m3_ha_yr\", et_blue_m3_ha_yr)\n",
    "\n",
    "    return crop_fields.map(calculate_et_blue)"
   ]
  },
  {
   "cell_type": "code",
   "execution_count": 10,
   "metadata": {},
   "outputs": [
    {
     "data": {
      "text/html": [
       "\n",
       "            <style>\n",
       "                .geemap-dark {\n",
       "                    --jp-widgets-color: white;\n",
       "                    --jp-widgets-label-color: white;\n",
       "                    --jp-ui-font-color1: white;\n",
       "                    --jp-layout-color2: #454545;\n",
       "                    background-color: #383838;\n",
       "                }\n",
       "\n",
       "                .geemap-dark .jupyter-button {\n",
       "                    --jp-layout-color3: #383838;\n",
       "                }\n",
       "\n",
       "                .geemap-colab {\n",
       "                    background-color: var(--colab-primary-surface-color, white);\n",
       "                }\n",
       "\n",
       "                .geemap-colab .jupyter-button {\n",
       "                    --jp-layout-color3: var(--colab-primary-surface-color, white);\n",
       "                }\n",
       "            </style>\n",
       "            "
      ],
      "text/plain": [
       "<IPython.core.display.HTML object>"
      ]
     },
     "metadata": {},
     "output_type": "display_data"
    }
   ],
   "source": [
    "def export_feature_collection(collection: ee.FeatureCollection, task_name: str, asset_id: str): \n",
    "    \"\"\"\n",
    "    Export the feature collection to an Earth Engine asset.\n",
    "\n",
    "    Args:\n",
    "        collection: The feature collection to export.\n",
    "        year: The year of the feature collection.\n",
    "        task_name: The name of the export task.\n",
    "        asset_id: The asset ID to export to.\n",
    "    \"\"\"\n",
    "    task = ee.batch.Export.table.toAsset(\n",
    "        collection=collection,\n",
    "        description=task_name,\n",
    "        assetId=asset_id,\n",
    "    )\n",
    "    task.start()"
   ]
  },
  {
   "cell_type": "code",
   "execution_count": 11,
   "metadata": {},
   "outputs": [
    {
     "data": {
      "text/html": [
       "\n",
       "            <style>\n",
       "                .geemap-dark {\n",
       "                    --jp-widgets-color: white;\n",
       "                    --jp-widgets-label-color: white;\n",
       "                    --jp-ui-font-color1: white;\n",
       "                    --jp-layout-color2: #454545;\n",
       "                    background-color: #383838;\n",
       "                }\n",
       "\n",
       "                .geemap-dark .jupyter-button {\n",
       "                    --jp-layout-color3: #383838;\n",
       "                }\n",
       "\n",
       "                .geemap-colab {\n",
       "                    background-color: var(--colab-primary-surface-color, white);\n",
       "                }\n",
       "\n",
       "                .geemap-colab .jupyter-button {\n",
       "                    --jp-layout-color3: var(--colab-primary-surface-color, white);\n",
       "                }\n",
       "            </style>\n",
       "            "
      ],
      "text/plain": [
       "<IPython.core.display.HTML object>"
      ]
     },
     "metadata": {},
     "output_type": "display_data"
    },
    {
     "name": "stdout",
     "output_type": "stream",
     "text": [
      "Exporting ET_blue_m3_ha_yr_per_field_from_monthly_2018 to projects/thurgau-irrigation/assets/Thurgau/ET_blue_m3_ha_yr_per_field_from_monthly_2018-2023/ET_blue_m3_ha_yr_per_field_from_monthly_2018\n",
      "Exporting ET_blue_m3_ha_yr_per_field_from_monthly_2019 to projects/thurgau-irrigation/assets/Thurgau/ET_blue_m3_ha_yr_per_field_from_monthly_2018-2023/ET_blue_m3_ha_yr_per_field_from_monthly_2019\n",
      "Exporting ET_blue_m3_ha_yr_per_field_from_monthly_2020 to projects/thurgau-irrigation/assets/Thurgau/ET_blue_m3_ha_yr_per_field_from_monthly_2018-2023/ET_blue_m3_ha_yr_per_field_from_monthly_2020\n",
      "Exporting ET_blue_m3_ha_yr_per_field_from_monthly_2021 to projects/thurgau-irrigation/assets/Thurgau/ET_blue_m3_ha_yr_per_field_from_monthly_2018-2023/ET_blue_m3_ha_yr_per_field_from_monthly_2021\n",
      "Exporting ET_blue_m3_ha_yr_per_field_from_monthly_2022 to projects/thurgau-irrigation/assets/Thurgau/ET_blue_m3_ha_yr_per_field_from_monthly_2018-2023/ET_blue_m3_ha_yr_per_field_from_monthly_2022\n",
      "Exporting ET_blue_m3_ha_yr_per_field_from_monthly_2023 to projects/thurgau-irrigation/assets/Thurgau/ET_blue_m3_ha_yr_per_field_from_monthly_2018-2023/ET_blue_m3_ha_yr_per_field_from_monthly_2023\n"
     ]
    }
   ],
   "source": [
    "years = range(2018, 2024)\n",
    "\n",
    "not_irrigated_crops = get_crops_to_exclude()\n",
    "exclude_filter, _ = create_crop_filters(not_irrigated_crops, not_irrigated_crops)\n",
    "\n",
    "ET_blue_collection_yearly_list = ET_blue_collection_yearly.toList(\n",
    "    ET_blue_collection_yearly.size()\n",
    ")\n",
    "\n",
    "for year in years:\n",
    "    index = year - 2018\n",
    "    nutzung_collection_year = ee.FeatureCollection(\n",
    "        f\"projects/thurgau-irrigation/assets/Thurgau/Nutzungsflaechen/TG_{year}_area\"\n",
    "    )\n",
    "\n",
    "    potentially_rainfed, _ = filter_crops(nutzung_collection_year, exclude_filter, _)\n",
    "\n",
    "    et_blue_image = ee.Image(ET_blue_collection_yearly_list.get(index))\n",
    "\n",
    "    crop_with_et_blue = calculate_et_blue_per_field(et_blue_image, potentially_rainfed)\n",
    "\n",
    "    task_name = f\"ET_blue_m3_ha_yr_per_field_from_monthly_{year}\"\n",
    "    asset_id = f\"projects/thurgau-irrigation/assets/Thurgau/ET_blue_m3_ha_yr_per_field_from_monthly_2018-2023/{task_name}\"\n",
    "\n",
    "    export_feature_collection(crop_with_et_blue, task_name, asset_id)\n",
    "    print(f\"Exporting {task_name} to {asset_id}\")"
   ]
  },
  {
   "cell_type": "code",
   "execution_count": 12,
   "metadata": {},
   "outputs": [
    {
     "data": {
      "text/html": [
       "\n",
       "            <style>\n",
       "                .geemap-dark {\n",
       "                    --jp-widgets-color: white;\n",
       "                    --jp-widgets-label-color: white;\n",
       "                    --jp-ui-font-color1: white;\n",
       "                    --jp-layout-color2: #454545;\n",
       "                    background-color: #383838;\n",
       "                }\n",
       "\n",
       "                .geemap-dark .jupyter-button {\n",
       "                    --jp-layout-color3: #383838;\n",
       "                }\n",
       "\n",
       "                .geemap-colab {\n",
       "                    background-color: var(--colab-primary-surface-color, white);\n",
       "                }\n",
       "\n",
       "                .geemap-colab .jupyter-button {\n",
       "                    --jp-layout-color3: var(--colab-primary-surface-color, white);\n",
       "                }\n",
       "            </style>\n",
       "            "
      ],
      "text/plain": [
       "<IPython.core.display.HTML object>"
      ]
     },
     "metadata": {},
     "output_type": "display_data"
    },
    {
     "data": {
      "text/plain": [
       "{'type': 'Feature',\n",
       " 'geometry': {'type': 'Polygon',\n",
       "  'coordinates': [[[8.988330423164426, 47.58974258111628],\n",
       "    [8.98949418645239, 47.58946168200139],\n",
       "    [8.99047523796989, 47.58922087053027],\n",
       "    [8.991607819663184, 47.58893552749917],\n",
       "    [8.99216966657038, 47.589033611544586],\n",
       "    [8.991322485072219, 47.589243175380766],\n",
       "    [8.991228844995797, 47.58926998281367],\n",
       "    [8.99036819599458, 47.589488463428914],\n",
       "    [8.989654738039453, 47.589671301478454],\n",
       "    [8.98904387254699, 47.58980507802219],\n",
       "    [8.988789635630694, 47.5898674410479],\n",
       "    [8.988432902484814, 47.58995216543963],\n",
       "    [8.988330423164426, 47.58974258111628]]]},\n",
       " 'id': '000000000000000005dd',\n",
       " 'properties': {'ET_blue_m3_ha_yr': 301,\n",
       "  'anzahl_bae': None,\n",
       "  'beitragsbe': 't',\n",
       "  'bewirtsc00': '27B27605-D3ED-4F39-A566-E9F3B2AE8C40',\n",
       "  'bewirtscha': 100,\n",
       "  'bezugsjahr': '2023',\n",
       "  'einzelkult': '',\n",
       "  'identifika': 'TG.KUL.900100',\n",
       "  'ist_defini': 't',\n",
       "  'lq_bemerku': '',\n",
       "  'nhg': 'f',\n",
       "  'nutzung': 'Sommergerste',\n",
       "  'nutzung_im': 't',\n",
       "  'nutzungsar': '501',\n",
       "  'objectid': 451507,\n",
       "  'schnittzei': '0000/00/00',\n",
       "  'tid': '380D4717-1D1C-45E4-8112-5B257C0EB559',\n",
       "  'verpflic00': None,\n",
       "  'verpflicht': None}}"
      ]
     },
     "execution_count": 12,
     "metadata": {},
     "output_type": "execute_result"
    }
   ],
   "source": [
    "crop_with_et_blue.first().getInfo()"
   ]
  },
  {
   "cell_type": "code",
   "execution_count": 14,
   "metadata": {},
   "outputs": [
    {
     "data": {
      "text/html": [
       "\n",
       "            <style>\n",
       "                .geemap-dark {\n",
       "                    --jp-widgets-color: white;\n",
       "                    --jp-widgets-label-color: white;\n",
       "                    --jp-ui-font-color1: white;\n",
       "                    --jp-layout-color2: #454545;\n",
       "                    background-color: #383838;\n",
       "                }\n",
       "\n",
       "                .geemap-dark .jupyter-button {\n",
       "                    --jp-layout-color3: #383838;\n",
       "                }\n",
       "\n",
       "                .geemap-colab {\n",
       "                    background-color: var(--colab-primary-surface-color, white);\n",
       "                }\n",
       "\n",
       "                .geemap-colab .jupyter-button {\n",
       "                    --jp-layout-color3: var(--colab-primary-surface-color, white);\n",
       "                }\n",
       "            </style>\n",
       "            "
      ],
      "text/plain": [
       "<IPython.core.display.HTML object>"
      ]
     },
     "metadata": {},
     "output_type": "display_data"
    },
    {
     "data": {
      "application/vnd.jupyter.widget-view+json": {
       "model_id": "502899a82ae549a3bff8475a1cab7697",
       "version_major": 2,
       "version_minor": 0
      },
      "text/plain": [
       "Map(center=[47.63915833792603, 8.77542613019931], controls=(WidgetControl(options=['position', 'transparent_bg…"
      ]
     },
     "execution_count": 14,
     "metadata": {},
     "output_type": "execute_result"
    }
   ],
   "source": [
    "palette = [\"blue\", \"green\", \"yellow\", \"red\"]\n",
    "\n",
    "# Define visualization parameters\n",
    "visualization = {\n",
    "    \"min\": 0,\n",
    "    \"max\": 0.1,  # Adjust based on your maximum irrigation volume\n",
    "    \"palette\": palette,\n",
    "}\n",
    "\n",
    "# Convert fields_w_estimates to an image for gradient visualization\n",
    "fields = crop_with_et_blue.reduceToImage(\n",
    "    properties=[\"ET_blue_m3_ha_yr\"], reducer=ee.Reducer.first()\n",
    ")\n",
    "\n",
    "# Create a map centered on the area of interest\n",
    "Map = geemap.Map(center=[47.63915833792603, 8.77542613019931], zoom=12)\n",
    "\n",
    "# Add the gradient visualization layer to the map\n",
    "Map.addLayer(fields, visualization, \"ET_blue_m3_ha_yr\")\n",
    "\n",
    "Map"
   ]
  },
  {
   "cell_type": "code",
   "execution_count": null,
   "metadata": {},
   "outputs": [],
   "source": [
    "# # Print feature with id =000000000000000048c7 in the nutzung_collection_year\n",
    "# feature = crop_with_et_blue.filter(ee.Filter.eq(\"system:index\", \"000000000000000048c7\")).first()\n",
    "# feature.getInfo()"
   ]
  },
  {
   "cell_type": "code",
   "execution_count": null,
   "metadata": {},
   "outputs": [],
   "source": [
    "# nutzung_collection_year = ee.FeatureCollection(\n",
    "#     f\"projects/thurgau-irrigation/assets/Thurgau/Nutzungsflaechen/TG_{2020}_area\"\n",
    "# )\n",
    "\n",
    "\n",
    "# potentially_rainfed, _ = filter_crops(nutzung_collection_year, exclude_filter, _)\n",
    "\n",
    "# et_blue_image = ee.Image(ET_blue_collection_yearly_list.get(2))\n",
    "\n",
    "# crop_with_et_blue = calculate_et_blue_per_field(et_blue_image, potentially_rainfed)"
   ]
  },
  {
   "cell_type": "markdown",
   "metadata": {},
   "source": [
    "## Comparing to Walter Koch's estimates"
   ]
  },
  {
   "cell_type": "code",
   "execution_count": null,
   "metadata": {},
   "outputs": [],
   "source": [
    "irrigation_estimate = {\n",
    "    \"Einjährige Freilandgemüse, ohne Konservengemüse\": [200, 1000],\n",
    "    \"Kartoffeln\": [200, 1000],\n",
    "    \"Freiland-Konservengemüse\": [200, 600],\n",
    "}\n",
    "\n",
    "IRRIGATION_EFFICIENCY = 0.5"
   ]
  },
  {
   "cell_type": "code",
   "execution_count": null,
   "metadata": {},
   "outputs": [],
   "source": [
    "def filter_dataframe(df: pd.DataFrame, crop_types: List[str]) -> pd.DataFrame:\n",
    "    \"\"\"\n",
    "    Filter the DataFrame to include only the specified crop types.\n",
    "\n",
    "    Args:\n",
    "        df (pd.DataFrame): Input DataFrame with 'ET_blue_m3_ha_yr' and 'nutzung' columns.\n",
    "        crop_types (List[str]): List of crop types to include.\n",
    "\n",
    "    Returns:\n",
    "        pd.DataFrame: Filtered DataFrame.\n",
    "    \"\"\"\n",
    "    return df[df[\"nutzung\"].isin(crop_types)]\n",
    "\n",
    "\n",
    "def plot_histogram_comparison(\n",
    "    calculated_et_blue: pd.DataFrame,\n",
    "    farmer_estimates: Dict[str, Tuple[int, int]],\n",
    "    output_destination: str,\n",
    ") -> None:\n",
    "    \"\"\"\n",
    "    Create a histogram comparison of calculated ET blue vs farmer estimates.\n",
    "\n",
    "    Args:\n",
    "        calculated_et_blue (pd.DataFrame): DataFrame with 'ET_blue_m3_ha_yr' and 'nutzung' columns.\n",
    "        farmer_estimates (Dict[str, Tuple[int, int]]): Dictionary of farmer estimates for each crop type.\n",
    "        output_destination (str): Output destination for the plot.\n",
    "    \"\"\"\n",
    "    plot_config.set_plot_style()\n",
    "\n",
    "    crop_types = list(farmer_estimates.keys())\n",
    "    num_crops = len(crop_types)\n",
    "\n",
    "    fig, axs = plt.subplots(1, num_crops, figsize=(6 * num_crops, 6))\n",
    "\n",
    "    for i, crop in enumerate(crop_types):\n",
    "        crop_data = calculated_et_blue[calculated_et_blue[\"nutzung\"] == crop][\n",
    "            \"ET_blue_m3_ha_yr\"\n",
    "        ]\n",
    "\n",
    "        sns.histplot(crop_data, kde=True, ax=axs[i])\n",
    "        axs[i].axvline(\n",
    "            farmer_estimates[crop][0],\n",
    "            color=\"r\",\n",
    "            linestyle=\"--\",\n",
    "            label=\"Farmer's estimate range\",\n",
    "        )\n",
    "        axs[i].axvline(farmer_estimates[crop][1], color=\"r\", linestyle=\"--\")\n",
    "\n",
    "        axs[i].set_xlabel(\"ET Blue (m³/ha/yr)\")\n",
    "        axs[i].set_ylabel(\"Frequency\")\n",
    "        axs[i].set_title(f\"{crop}\")\n",
    "\n",
    "        # Add summary statistics\n",
    "        mean_value = crop_data.mean()\n",
    "        median_value = crop_data.median()\n",
    "        axs[i].axvline(\n",
    "            mean_value, color=\"g\", linestyle=\"-\", label=f\"Average: {mean_value:.0f}\"\n",
    "        )\n",
    "\n",
    "        axs[i].legend(loc=\"upper center\", bbox_to_anchor=(0.5, -0.15), ncol=2)\n",
    "\n",
    "    plt.tight_layout()\n",
    "\n",
    "    # plt.savefig(output_destination, bbox_inches=\"tight\", dpi=300)\n",
    "    plt.subplots_adjust(bottom=0.2)"
   ]
  },
  {
   "cell_type": "code",
   "execution_count": null,
   "metadata": {},
   "outputs": [],
   "source": [
    "for year in range(2018, 2023):\n",
    "    ET_blue_per_field = ee.FeatureCollection(\n",
    "        f\"projects/thurgau-irrigation/assets/Thurgau/ET_blue_m3_ha_yr_per_field_2018-2022/ET_blue_m3_ha_yr_per_field_{year}\"\n",
    "    )\n",
    "\n",
    "    ET_blue_per_field_year_df = geemap.ee_to_df(ET_blue_per_field)\n",
    "    ET_blue_per_field_year_df = ET_blue_per_field_year_df[\n",
    "        [\"ET_blue_m3_ha_yr\", \"nutzung\"]\n",
    "    ]\n",
    "\n",
    "    ET_blue_per_field_year_df[\"ET_blue_m3_ha_yr\"] = (\n",
    "        ET_blue_per_field_year_df[\"ET_blue_m3_ha_yr\"] / IRRIGATION_EFFICIENCY\n",
    "    )\n",
    "\n",
    "    # Filter the DataFrame\n",
    "    filtered_df = filter_dataframe(\n",
    "        ET_blue_per_field_year_df, list(irrigation_estimate.keys())\n",
    "    )\n",
    "    filtered_df = filtered_df[filtered_df[\"ET_blue_m3_ha_yr\"] > 0]\n",
    "\n",
    "    # Create the plot\n",
    "    plot_histogram_comparison(\n",
    "        filtered_df,\n",
    "        irrigation_estimate,\n",
    "        output_destination=f\"/Users/cooper/Desktop/Hydrosolutions/ETblue-estimation /images/ET_blue_validation/ET_blue_histogram_comparison_{year}.png\",\n",
    "    )"
   ]
  },
  {
   "cell_type": "code",
   "execution_count": null,
   "metadata": {},
   "outputs": [],
   "source": [
    "Map = geemap.Map()\n",
    "\n",
    "irrigation_image = ET_blue_per_field.reduceToImage(\n",
    "    properties=[\"ET_blue_m3_ha_yr\"], reducer=ee.Reducer.first()\n",
    ")\n",
    "\n",
    "et_blue_postprocessed = ee.Image(ET_blue_collection_yearly.first())\n",
    "\n",
    "vis_params = {\n",
    "    \"min\": 0,\n",
    "    \"max\": 300,\n",
    "    \"palette\": [\"white\", \"blue\", \"green\", \"yellow\", \"red\"],\n",
    "}\n",
    "\n",
    "# vis_params_et_blue = {\n",
    "#     \"bands\": [\"ET_blue_m3\"],\n",
    "#     \"min\": 0,\n",
    "#     \"max\": 10,\n",
    "#     \"palette\": [\"white\", \"blue\", \"green\", \"yellow\", \"red\"],\n",
    "# }\n",
    "\n",
    "Map.addLayer(irrigation_image, vis_params, \"ET_blue_m3_ha_yr\")\n",
    "# Map.addLayer(et_blue_postprocessed, vis_params_et_blue, \"ET_blue_m3\")\n",
    "\n",
    "Map.add_colorbar(vis_params, label=\"ET_blue_m3_ha_yr\", orientation=\"horizontal\")\n",
    "# Map.add_colorbar(vis_params_et_blue, label=\"ET_blue_m3\", orientation=\"horizontal\")\n",
    "\n",
    "Map"
   ]
  },
  {
   "cell_type": "markdown",
   "metadata": {},
   "source": [
    "## Field level estimates for 2022"
   ]
  },
  {
   "cell_type": "code",
   "execution_count": null,
   "metadata": {},
   "outputs": [],
   "source": [
    "# fields_w_estimates = ee.FeatureCollection(\"projects/thurgau-irrigation/assets/ZH_Nutzungsflaechen_2/2022_with_irrigation_estimates\")"
   ]
  },
  {
   "cell_type": "code",
   "execution_count": null,
   "metadata": {},
   "outputs": [],
   "source": [
    "palette = [\"blue\", \"green\", \"yellow\", \"red\"]\n",
    "\n",
    "# Define visualization parameters\n",
    "visualization = {\n",
    "    \"min\": 0,\n",
    "    \"max\": 1000,  # Adjust based on your maximum irrigation volume\n",
    "    \"palette\": palette,\n",
    "}\n",
    "\n",
    "# Convert fields_w_estimates to an image for gradient visualization\n",
    "irrigation_image = fields_w_estimates.reduceToImage(\n",
    "    properties=[\"estimated_irrigated_volume\"], reducer=ee.Reducer.first()\n",
    ")\n",
    "\n",
    "# Create a map centered on the area of interest\n",
    "Map = geemap.Map(center=[47.63915833792603, 8.77542613019931], zoom=12)\n",
    "\n",
    "# Add the gradient visualization layer to the map\n",
    "Map.addLayer(irrigation_image, visualization, \"Irrigation Volume (Gradient)\")\n",
    "Map.addLayer(fields_w_estimates, {\"color\": \"black\"}, \"Fields\")\n",
    "\n",
    "Map"
   ]
  },
  {
   "cell_type": "code",
   "execution_count": null,
   "metadata": {},
   "outputs": [],
   "source": []
  },
  {
   "cell_type": "code",
   "execution_count": null,
   "metadata": {},
   "outputs": [],
   "source": []
  },
  {
   "cell_type": "code",
   "execution_count": null,
   "metadata": {},
   "outputs": [],
   "source": []
  }
 ],
 "metadata": {
  "kernelspec": {
   "display_name": "geemap_env",
   "language": "python",
   "name": "python3"
  },
  "language_info": {
   "codemirror_mode": {
    "name": "ipython",
    "version": 3
   },
   "file_extension": ".py",
   "mimetype": "text/x-python",
   "name": "python",
   "nbconvert_exporter": "python",
   "pygments_lexer": "ipython3",
   "version": "3.11.10"
  }
 },
 "nbformat": 4,
 "nbformat_minor": 2
}
