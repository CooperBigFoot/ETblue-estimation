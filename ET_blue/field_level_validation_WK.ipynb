{
 "cells": [
  {
   "cell_type": "code",
   "execution_count": 1,
   "metadata": {},
   "outputs": [],
   "source": [
    "import sys\n",
    "import os\n",
    "\n",
    "sys.path.append(os.path.abspath(os.path.join(\"..\")))"
   ]
  },
  {
   "cell_type": "code",
   "execution_count": 2,
   "metadata": {},
   "outputs": [],
   "source": [
    "import ee\n",
    "import geemap\n",
    "from utils import ee_utils, date_utils, plot_config\n",
    "from utils.ee_utils import back_to_float\n",
    "\n",
    "import pandas as pd\n",
    "import matplotlib.pyplot as plt\n",
    "import seaborn as sns\n",
    "import numpy as np\n",
    "from typing import Dict, List, Tuple, Union\n",
    "\n",
    "import warnings\n",
    "from validation.irrigation_validation import IrrigationValidator\n",
    "from validation.plotting import ValidationPlotter\n",
    "\n",
    "from pathlib import Path \n",
    "\n",
    "warnings.filterwarnings(\"ignore\")"
   ]
  },
  {
   "cell_type": "code",
   "execution_count": 3,
   "metadata": {},
   "outputs": [
    {
     "data": {
      "text/html": [
       "\n",
       "            <style>\n",
       "                .geemap-dark {\n",
       "                    --jp-widgets-color: white;\n",
       "                    --jp-widgets-label-color: white;\n",
       "                    --jp-ui-font-color1: white;\n",
       "                    --jp-layout-color2: #454545;\n",
       "                    background-color: #383838;\n",
       "                }\n",
       "\n",
       "                .geemap-dark .jupyter-button {\n",
       "                    --jp-layout-color3: #383838;\n",
       "                }\n",
       "\n",
       "                .geemap-colab {\n",
       "                    background-color: var(--colab-primary-surface-color, white);\n",
       "                }\n",
       "\n",
       "                .geemap-colab .jupyter-button {\n",
       "                    --jp-layout-color3: var(--colab-primary-surface-color, white);\n",
       "                }\n",
       "            </style>\n",
       "            "
      ],
      "text/plain": [
       "<IPython.core.display.HTML object>"
      ]
     },
     "metadata": {},
     "output_type": "display_data"
    }
   ],
   "source": [
    "from filter_nutzungsflaechen import (\n",
    "    get_crops_to_exclude,\n",
    "    get_rainfed_reference_crops,\n",
    "    create_crop_filters,\n",
    "    filter_crops,\n",
    "    add_double_cropping_info,\n",
    ")"
   ]
  },
  {
   "cell_type": "markdown",
   "metadata": {},
   "source": [
    "---"
   ]
  },
  {
   "cell_type": "code",
   "execution_count": 4,
   "metadata": {},
   "outputs": [
    {
     "data": {
      "text/html": [
       "\n",
       "            <style>\n",
       "                .geemap-dark {\n",
       "                    --jp-widgets-color: white;\n",
       "                    --jp-widgets-label-color: white;\n",
       "                    --jp-ui-font-color1: white;\n",
       "                    --jp-layout-color2: #454545;\n",
       "                    background-color: #383838;\n",
       "                }\n",
       "\n",
       "                .geemap-dark .jupyter-button {\n",
       "                    --jp-layout-color3: #383838;\n",
       "                }\n",
       "\n",
       "                .geemap-colab {\n",
       "                    background-color: var(--colab-primary-surface-color, white);\n",
       "                }\n",
       "\n",
       "                .geemap-colab .jupyter-button {\n",
       "                    --jp-layout-color3: var(--colab-primary-surface-color, white);\n",
       "                }\n",
       "            </style>\n",
       "            "
      ],
      "text/plain": [
       "<IPython.core.display.HTML object>"
      ]
     },
     "metadata": {},
     "output_type": "display_data"
    }
   ],
   "source": [
    "PATH_TO_AOI = \"projects/thurgau-irrigation/assets/Thurgau/thrugau_borders_2024\"\n",
    "\n",
    "aoi_feature_collection = ee.FeatureCollection(PATH_TO_AOI)\n",
    "aoi_geometry = aoi_feature_collection.geometry().simplify(500)\n",
    "\n",
    "AOI = aoi_geometry.buffer(100)"
   ]
  },
  {
   "cell_type": "code",
   "execution_count": 5,
   "metadata": {},
   "outputs": [
    {
     "data": {
      "text/html": [
       "\n",
       "            <style>\n",
       "                .geemap-dark {\n",
       "                    --jp-widgets-color: white;\n",
       "                    --jp-widgets-label-color: white;\n",
       "                    --jp-ui-font-color1: white;\n",
       "                    --jp-layout-color2: #454545;\n",
       "                    background-color: #383838;\n",
       "                }\n",
       "\n",
       "                .geemap-dark .jupyter-button {\n",
       "                    --jp-layout-color3: #383838;\n",
       "                }\n",
       "\n",
       "                .geemap-colab {\n",
       "                    background-color: var(--colab-primary-surface-color, white);\n",
       "                }\n",
       "\n",
       "                .geemap-colab .jupyter-button {\n",
       "                    --jp-layout-color3: var(--colab-primary-surface-color, white);\n",
       "                }\n",
       "            </style>\n",
       "            "
      ],
      "text/plain": [
       "<IPython.core.display.HTML object>"
      ]
     },
     "metadata": {},
     "output_type": "display_data"
    },
    {
     "name": "stdout",
     "output_type": "stream",
     "text": [
      "Total modelled fields: 58299\n"
     ]
    }
   ],
   "source": [
    "# # Load field collections\n",
    "# fields_w_estimates = ee.FeatureCollection(\n",
    "#     \"projects/thurgau-irrigation/assets/ZH_Nutzungsflaechen_2/2022_with_irrigation_estimates\"\n",
    "# )\n",
    "modelled_fields = ee.FeatureCollection(\n",
    "    \"projects/thurgau-irrigation/assets/Thurgau/ET_blue_m3_ha_yr_per_field_from_monthly_Landsat_10m_2018-2022/ET_blue_m3_ha_yr_per_field_from_monthly_landsat_10m_TG_2022\"\n",
    ")\n",
    "\n",
    "# Print initial count\n",
    "# print(f\"Initial fields count: {fields_w_estimates.size().getInfo()}\")\n",
    "\n",
    "# Get crops to exclude\n",
    "crops_to_exclude = get_crops_to_exclude().union(get_rainfed_reference_crops())\n",
    "\n",
    "\n",
    "# Function to set estimated_irrigated_volume to 0 for excluded crop types\n",
    "def set_volume_for_excluded_crops(feature):\n",
    "    is_excluded = ee.List(list(crops_to_exclude)).contains(feature.get(\"NUTZUNG\"))\n",
    "    return feature.set(\n",
    "        \"estimated_irrigated_volume\",\n",
    "        ee.Number(\n",
    "            ee.Algorithms.If(\n",
    "                is_excluded,\n",
    "                0,  # Set to 0 if crop type is excluded\n",
    "                feature.get(\"estimated_irrigated_volume\"),  # Keep original value\n",
    "            )\n",
    "        ),\n",
    "    )\n",
    "\n",
    "\n",
    "# Apply the function to all fields\n",
    "# fields_w_estimates = fields_w_estimates.map(set_volume_for_excluded_crops)\n",
    "\n",
    "# print(f\"Total fields with estimates: {fields_w_estimates.size().getInfo()}\")\n",
    "\n",
    "# # Get all parcels and join with modelled fields\n",
    "# valid_parcels = fields_w_estimates.aggregate_array(\"PARZNR\").distinct()\n",
    "# filtered_modelled_fields = modelled_fields.filter(\n",
    "#     ee.Filter.inList(\"PARZNR\", valid_parcels)\n",
    "# )\n",
    "\n",
    "print(f\"Total modelled fields: {modelled_fields.size().getInfo()}\")"
   ]
  },
  {
   "cell_type": "code",
   "execution_count": 8,
   "metadata": {},
   "outputs": [
    {
     "data": {
      "text/html": [
       "\n",
       "            <style>\n",
       "                .geemap-dark {\n",
       "                    --jp-widgets-color: white;\n",
       "                    --jp-widgets-label-color: white;\n",
       "                    --jp-ui-font-color1: white;\n",
       "                    --jp-layout-color2: #454545;\n",
       "                    background-color: #383838;\n",
       "                }\n",
       "\n",
       "                .geemap-dark .jupyter-button {\n",
       "                    --jp-layout-color3: #383838;\n",
       "                }\n",
       "\n",
       "                .geemap-colab {\n",
       "                    background-color: var(--colab-primary-surface-color, white);\n",
       "                }\n",
       "\n",
       "                .geemap-colab .jupyter-button {\n",
       "                    --jp-layout-color3: var(--colab-primary-surface-color, white);\n",
       "                }\n",
       "            </style>\n",
       "            "
      ],
      "text/plain": [
       "<IPython.core.display.HTML object>"
      ]
     },
     "metadata": {},
     "output_type": "display_data"
    },
    {
     "data": {
      "application/vnd.jupyter.widget-view+json": {
       "model_id": "c07a1309d22147998ffcac194ec8880e",
       "version_major": 2,
       "version_minor": 0
      },
      "text/plain": [
       "Map(center=[47.56858787382066, 9.092720596553875], controls=(WidgetControl(options=['position', 'transparent_b…"
      ]
     },
     "execution_count": 8,
     "metadata": {},
     "output_type": "execute_result"
    }
   ],
   "source": [
    "IRRIGATION_EFFICIENCY = 0.5\n",
    "\n",
    "palette = [\"white\", \"red\", \"orange\", \"yellow\", \"green\"]\n",
    "\n",
    "# Define visualization parameters for the images\n",
    "visualization = {\n",
    "    \"min\": 100,\n",
    "    \"max\": 1000,\n",
    "    \"palette\": palette,\n",
    "}\n",
    "\n",
    "# Define visualization parameters for the feature collections - borders only\n",
    "fields_style = {\n",
    "    \"color\": \"black\",\n",
    "    \"width\": 1,\n",
    "    \"fillcolor\": None,\n",
    "}\n",
    "\n",
    "\n",
    "# # Convert fields_w_estimates to an image for gradient visualization\n",
    "# fields_w_estimates_image = fields_w_estimates.reduceToImage(\n",
    "#     properties=[\"estimated_irrigated_volume\"], reducer=ee.Reducer.first()\n",
    "# )\n",
    "\n",
    "filtered_modelled_fields_image = modelled_fields.reduceToImage(\n",
    "    properties=[\"ET_blue_m3_ha_yr\"], reducer=ee.Reducer.first()\n",
    ")\n",
    "\n",
    "# feature_to_check = ee.FeatureCollection(\n",
    "#     filtered_modelled_fields.filter(ee.Filter.eq(\"PARZNR\", \"UH3669\"))\n",
    "# )\n",
    "\n",
    "# Divide by irrigation efficiency to get the actual irrigation volume\n",
    "filtered_modelled_fields_image = filtered_modelled_fields_image.divide(\n",
    "    IRRIGATION_EFFICIENCY\n",
    ")\n",
    "\n",
    "# Create a map centered on the area of interest\n",
    "Map = geemap.Map()\n",
    "Map.center_object(AOI, zoom=12)\n",
    "\n",
    "# Add the gradient visualization layers to the map\n",
    "# Map.addLayer(fields_w_estimates_image, visualization, \"Irrigation Volume (Gradient)\")\n",
    "Map.addLayer(filtered_modelled_fields_image, visualization, \"Modelled ET_blue_m3_ha_yr\")\n",
    "# Map.addLayer(fields_w_estimates, fields_style, \"Fields Borders\")\n",
    "\n",
    "Map.addLayer(AOI, {}, \"AOI\")\n",
    "\n",
    "Map.add_colorbar(\n",
    "    visualization, label=\"Irrigation Volume (m³/ha)\", orientation=\"horizontal\"\n",
    ")\n",
    "\n",
    "\n",
    "Map"
   ]
  },
  {
   "cell_type": "code",
   "execution_count": 9,
   "metadata": {},
   "outputs": [
    {
     "data": {
      "text/html": [
       "\n",
       "            <style>\n",
       "                .geemap-dark {\n",
       "                    --jp-widgets-color: white;\n",
       "                    --jp-widgets-label-color: white;\n",
       "                    --jp-ui-font-color1: white;\n",
       "                    --jp-layout-color2: #454545;\n",
       "                    background-color: #383838;\n",
       "                }\n",
       "\n",
       "                .geemap-dark .jupyter-button {\n",
       "                    --jp-layout-color3: #383838;\n",
       "                }\n",
       "\n",
       "                .geemap-colab {\n",
       "                    background-color: var(--colab-primary-surface-color, white);\n",
       "                }\n",
       "\n",
       "                .geemap-colab .jupyter-button {\n",
       "                    --jp-layout-color3: var(--colab-primary-surface-color, white);\n",
       "                }\n",
       "            </style>\n",
       "            "
      ],
      "text/plain": [
       "<IPython.core.display.HTML object>"
      ]
     },
     "metadata": {},
     "output_type": "display_data"
    },
    {
     "name": "stdout",
     "output_type": "stream",
     "text": [
      "Total irrigated area: 11655.08 ha\n",
      "Total non-irrigated area: 40674.03 ha\n"
     ]
    }
   ],
   "source": [
    "# Compute the area of all fields in filtered_modelled_fields where the ET_blue_m3_ha_yr is greater than 0\n",
    "total_irrigated_area = (\n",
    "    modelled_fields.filter(ee.Filter.gt(\"ET_blue_m3_ha_yr\", 100))\n",
    "    .geometry()\n",
    "    .area()\n",
    "    .divide(10000)\n",
    "    .getInfo()\n",
    ")\n",
    "print(f\"Total irrigated area: {total_irrigated_area:.2f} ha\")\n",
    "\n",
    "# Print how many hectares are not irrigated\n",
    "total_non_irrigated_area = (\n",
    "    modelled_fields.filter(ee.Filter.lte(\"ET_blue_m3_ha_yr\", 100))\n",
    "    .geometry()\n",
    "    .area()\n",
    "    .divide(10000)\n",
    "    .getInfo()\n",
    ")\n",
    "print(f\"Total non-irrigated area: {total_non_irrigated_area:.2f} ha\")\n",
    "\n",
    "# # Print area of fields with estimated irrigation volume\n",
    "# total_estimated_irrigated_area = (\n",
    "#     fields_w_estimates.filter(ee.Filter.gt(\"estimated_irrigated_volume\", 0))\n",
    "#     .geometry()\n",
    "#     .area()\n",
    "#     .divide(10000)\n",
    "#     .getInfo()\n",
    "# )\n",
    "# print(f\"Total estimated irrigated area: {total_estimated_irrigated_area:.2f} ha\")\n",
    "\n",
    "# # Print area of estimated non-irrigated fields\n",
    "# total_estimated_non_irrigated_area = (\n",
    "#     fields_w_estimates.filter(ee.Filter.eq(\"estimated_irrigated_volume\", 0))\n",
    "#     .geometry()\n",
    "#     .area()\n",
    "#     .divide(10000)\n",
    "#     .getInfo()\n",
    "# )\n",
    "# print(f\"Total estimated non-irrigated area: {total_estimated_non_irrigated_area:.2f} ha\")"
   ]
  },
  {
   "cell_type": "code",
   "execution_count": null,
   "metadata": {},
   "outputs": [],
   "source": []
  },
  {
   "cell_type": "code",
   "execution_count": null,
   "metadata": {},
   "outputs": [],
   "source": []
  },
  {
   "cell_type": "code",
   "execution_count": null,
   "metadata": {},
   "outputs": [],
   "source": []
  }
 ],
 "metadata": {
  "kernelspec": {
   "display_name": "geemap_env",
   "language": "python",
   "name": "python3"
  },
  "language_info": {
   "codemirror_mode": {
    "name": "ipython",
    "version": 3
   },
   "file_extension": ".py",
   "mimetype": "text/x-python",
   "name": "python",
   "nbconvert_exporter": "python",
   "pygments_lexer": "ipython3",
   "version": "3.11.10"
  }
 },
 "nbformat": 4,
 "nbformat_minor": 2
}
