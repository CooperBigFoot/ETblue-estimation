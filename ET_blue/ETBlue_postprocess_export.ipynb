{
 "cells": [
  {
   "cell_type": "code",
   "execution_count": 1,
   "metadata": {},
   "outputs": [],
   "source": [
    "import sys\n",
    "import os\n",
    "from pathlib import Path\n",
    "\n",
    "sys.path.append(os.path.abspath(os.path.join(\"..\")))"
   ]
  },
  {
   "cell_type": "code",
   "execution_count": 2,
   "metadata": {},
   "outputs": [],
   "source": [
    "sys.setrecursionlimit(5000)"
   ]
  },
  {
   "cell_type": "code",
   "execution_count": 3,
   "metadata": {},
   "outputs": [],
   "source": [
    "from compute_ET_blue import (\n",
    "    compute_et_blue,\n",
    "    compute_volumetric_et_blue,\n",
    "    postprocess_et_blue,\n",
    ")\n",
    "\n",
    "from compute_ET_green import calculate_band_std_dev\n",
    "\n",
    "from utils import ee_utils, date_utils\n",
    "from utils.ee_utils import back_to_float, back_to_int, export_image_to_asset\n",
    "\n",
    "from typing import List, Tuple, Union, Optional\n",
    "\n",
    "import ee\n",
    "import geemap"
   ]
  },
  {
   "cell_type": "code",
   "execution_count": 4,
   "metadata": {},
   "outputs": [
    {
     "data": {
      "text/html": [
       "\n",
       "            <style>\n",
       "                .geemap-dark {\n",
       "                    --jp-widgets-color: white;\n",
       "                    --jp-widgets-label-color: white;\n",
       "                    --jp-ui-font-color1: white;\n",
       "                    --jp-layout-color2: #454545;\n",
       "                    background-color: #383838;\n",
       "                }\n",
       "\n",
       "                .geemap-dark .jupyter-button {\n",
       "                    --jp-layout-color3: #383838;\n",
       "                }\n",
       "\n",
       "                .geemap-colab {\n",
       "                    background-color: var(--colab-primary-surface-color, white);\n",
       "                }\n",
       "\n",
       "                .geemap-colab .jupyter-button {\n",
       "                    --jp-layout-color3: var(--colab-primary-surface-color, white);\n",
       "                }\n",
       "            </style>\n",
       "            "
      ],
      "text/plain": [
       "<IPython.core.display.HTML object>"
      ]
     },
     "metadata": {},
     "output_type": "display_data"
    }
   ],
   "source": [
    "ee.Initialize(project=\"thurgau-irrigation\")"
   ]
  },
  {
   "cell_type": "markdown",
   "metadata": {},
   "source": [
    "### Postprocess and export ET Blue"
   ]
  },
  {
   "cell_type": "code",
   "execution_count": 5,
   "metadata": {},
   "outputs": [
    {
     "data": {
      "text/html": [
       "\n",
       "            <style>\n",
       "                .geemap-dark {\n",
       "                    --jp-widgets-color: white;\n",
       "                    --jp-widgets-label-color: white;\n",
       "                    --jp-ui-font-color1: white;\n",
       "                    --jp-layout-color2: #454545;\n",
       "                    background-color: #383838;\n",
       "                }\n",
       "\n",
       "                .geemap-dark .jupyter-button {\n",
       "                    --jp-layout-color3: #383838;\n",
       "                }\n",
       "\n",
       "                .geemap-colab {\n",
       "                    background-color: var(--colab-primary-surface-color, white);\n",
       "                }\n",
       "\n",
       "                .geemap-colab .jupyter-button {\n",
       "                    --jp-layout-color3: var(--colab-primary-surface-color, white);\n",
       "                }\n",
       "            </style>\n",
       "            "
      ],
      "text/plain": [
       "<IPython.core.display.HTML object>"
      ]
     },
     "metadata": {},
     "output_type": "display_data"
    }
   ],
   "source": [
    "TIME_STEPS = 36\n",
    "TIME_STEP_TYPE = \"dekadal\"\n",
    "YEARS = range(2022, 2023)"
   ]
  },
  {
   "cell_type": "code",
   "execution_count": 6,
   "metadata": {},
   "outputs": [
    {
     "data": {
      "text/html": [
       "\n",
       "            <style>\n",
       "                .geemap-dark {\n",
       "                    --jp-widgets-color: white;\n",
       "                    --jp-widgets-label-color: white;\n",
       "                    --jp-ui-font-color1: white;\n",
       "                    --jp-layout-color2: #454545;\n",
       "                    background-color: #383838;\n",
       "                }\n",
       "\n",
       "                .geemap-dark .jupyter-button {\n",
       "                    --jp-layout-color3: #383838;\n",
       "                }\n",
       "\n",
       "                .geemap-colab {\n",
       "                    background-color: var(--colab-primary-surface-color, white);\n",
       "                }\n",
       "\n",
       "                .geemap-colab .jupyter-button {\n",
       "                    --jp-layout-color3: var(--colab-primary-surface-color, white);\n",
       "                }\n",
       "            </style>\n",
       "            "
      ],
      "text/plain": [
       "<IPython.core.display.HTML object>"
      ]
     },
     "metadata": {},
     "output_type": "display_data"
    }
   ],
   "source": [
    "PATH_TO_AOI = \"projects/thurgau-irrigation/assets/Zuerich/Zuerich_bound\"\n",
    "\n",
    "aoi_feature_collection = ee.FeatureCollection(PATH_TO_AOI)\n",
    "aoi_geometry = aoi_feature_collection.geometry().simplify(500)\n",
    "\n",
    "AOI = aoi_geometry.buffer(100)"
   ]
  },
  {
   "cell_type": "code",
   "execution_count": 7,
   "metadata": {},
   "outputs": [
    {
     "data": {
      "text/html": [
       "\n",
       "            <style>\n",
       "                .geemap-dark {\n",
       "                    --jp-widgets-color: white;\n",
       "                    --jp-widgets-label-color: white;\n",
       "                    --jp-ui-font-color1: white;\n",
       "                    --jp-layout-color2: #454545;\n",
       "                    background-color: #383838;\n",
       "                }\n",
       "\n",
       "                .geemap-dark .jupyter-button {\n",
       "                    --jp-layout-color3: #383838;\n",
       "                }\n",
       "\n",
       "                .geemap-colab {\n",
       "                    background-color: var(--colab-primary-surface-color, white);\n",
       "                }\n",
       "\n",
       "                .geemap-colab .jupyter-button {\n",
       "                    --jp-layout-color3: var(--colab-primary-surface-color, white);\n",
       "                }\n",
       "            </style>\n",
       "            "
      ],
      "text/plain": [
       "<IPython.core.display.HTML object>"
      ]
     },
     "metadata": {},
     "output_type": "display_data"
    }
   ],
   "source": [
    "ET_BLUE_RAW_COLLECTION = ee.ImageCollection(\"projects/thurgau-irrigation/assets/Zuerich/ET_blue_raw_wapor_10m_zh_dekadal_2022\").map(lambda img: back_to_float(img, 100))"
   ]
  },
  {
   "cell_type": "code",
   "execution_count": 8,
   "metadata": {},
   "outputs": [
    {
     "data": {
      "text/html": [
       "\n",
       "            <style>\n",
       "                .geemap-dark {\n",
       "                    --jp-widgets-color: white;\n",
       "                    --jp-widgets-label-color: white;\n",
       "                    --jp-ui-font-color1: white;\n",
       "                    --jp-layout-color2: #454545;\n",
       "                    background-color: #383838;\n",
       "                }\n",
       "\n",
       "                .geemap-dark .jupyter-button {\n",
       "                    --jp-layout-color3: #383838;\n",
       "                }\n",
       "\n",
       "                .geemap-colab {\n",
       "                    background-color: var(--colab-primary-surface-color, white);\n",
       "                }\n",
       "\n",
       "                .geemap-colab .jupyter-button {\n",
       "                    --jp-layout-color3: var(--colab-primary-surface-color, white);\n",
       "                }\n",
       "            </style>\n",
       "            "
      ],
      "text/plain": [
       "<IPython.core.display.HTML object>"
      ]
     },
     "metadata": {},
     "output_type": "display_data"
    }
   ],
   "source": [
    "ET_GREEN_COLLECTION = ee.ImageCollection(\"projects/thurgau-irrigation/assets/Zuerich/ET_green_wapor_jurisdiction_zh_dekadal_2022\").map(lambda img: back_to_float(img, 100))"
   ]
  },
  {
   "cell_type": "code",
   "execution_count": 9,
   "metadata": {},
   "outputs": [
    {
     "data": {
      "text/html": [
       "\n",
       "            <style>\n",
       "                .geemap-dark {\n",
       "                    --jp-widgets-color: white;\n",
       "                    --jp-widgets-label-color: white;\n",
       "                    --jp-ui-font-color1: white;\n",
       "                    --jp-layout-color2: #454545;\n",
       "                    background-color: #383838;\n",
       "                }\n",
       "\n",
       "                .geemap-dark .jupyter-button {\n",
       "                    --jp-layout-color3: #383838;\n",
       "                }\n",
       "\n",
       "                .geemap-colab {\n",
       "                    background-color: var(--colab-primary-surface-color, white);\n",
       "                }\n",
       "\n",
       "                .geemap-colab .jupyter-button {\n",
       "                    --jp-layout-color3: var(--colab-primary-surface-color, white);\n",
       "                }\n",
       "            </style>\n",
       "            "
      ],
      "text/plain": [
       "<IPython.core.display.HTML object>"
      ]
     },
     "metadata": {},
     "output_type": "display_data"
    }
   ],
   "source": [
    "def process_and_export_et_blue_postprocessed(\n",
    "    et_blue_raw_list: ee.List,\n",
    "    et_green_list: ee.List,\n",
    "    year: int,\n",
    "    aoi: ee.Geometry,\n",
    "    time_steps: int = 36,\n",
    "    time_step_type: str = \"dekadal\",\n",
    ") -> List[ee.batch.Task]:\n",
    "    \"\"\"\n",
    "    Process and export post-processed ET blue images for a given year.\n",
    "\n",
    "    Args:\n",
    "        et_blue_raw_list (ee.List): List of raw ET blue images\n",
    "        et_green_list (ee.List): List of ET green images\n",
    "        year (int): Year to process\n",
    "        year_index (int): Index of the year (e.g., 2022 would be 4 if starting from 2018)\n",
    "        aoi (ee.Geometry): Area of interest to process\n",
    "        time_steps (int): Number of time steps (default 36 for dekadal)\n",
    "        time_step_type (str): Type of time step (\"monthly\" or \"dekadal\")\n",
    "\n",
    "    Returns:\n",
    "        List[ee.batch.Task]: List of export tasks\n",
    "\n",
    "    Raises:\n",
    "        ValueError: If time_steps is not 12 or 36, or if time_step_type is invalid\n",
    "    \"\"\"\n",
    "    if time_steps not in [12, 36]:\n",
    "        raise ValueError(\"time_steps must be either 12 or 36\")\n",
    "\n",
    "    if time_step_type not in [\"monthly\", \"dekadal\"]:\n",
    "        raise ValueError(\"time_step_type must be either 'monthly' or 'dekadal'\")\n",
    "\n",
    "    tasks = []\n",
    "    et_blue_previous = None\n",
    "\n",
    "    for i in range(time_steps):\n",
    "        # Get current images\n",
    "        et_green = ee.Image(et_green_list.get(i))\n",
    "        et_blue_present = ee.Image(et_blue_raw_list.get(i))\n",
    "\n",
    "        # Initialize previous for first iteration\n",
    "        if et_blue_previous is None:\n",
    "            et_blue_previous = et_blue_present\n",
    "\n",
    "        # Process ET blue\n",
    "        et_blue = _process_et_blue_image(\n",
    "            et_blue_present=et_blue_present,\n",
    "            et_blue_previous=et_blue_previous,\n",
    "            et_green=et_green,\n",
    "        )\n",
    "\n",
    "        # Store current processed image for next iteration\n",
    "        et_blue_previous = et_blue.select(\"ET_blue\")\n",
    "\n",
    "        # Generate time step name based on type\n",
    "        time_step_name = _get_time_step_name(i, time_step_type)\n",
    "\n",
    "        # Generate export task\n",
    "        task = _create_export_task(\n",
    "            et_blue=et_blue,\n",
    "            year=year,\n",
    "            time_step_name=time_step_name,\n",
    "            time_step_type=time_step_type,\n",
    "            aoi=aoi,\n",
    "        )\n",
    "\n",
    "        tasks.append(task)\n",
    "\n",
    "    return tasks\n",
    "\n",
    "\n",
    "def _process_et_blue_image(\n",
    "    et_blue_present: ee.Image,\n",
    "    et_blue_previous: ee.Image,\n",
    "    et_green: ee.Image,\n",
    ") -> ee.Image:\n",
    "    \"\"\"\n",
    "    Process a single ET blue image with temporal post-processing.\n",
    "\n",
    "    Args:\n",
    "        et_blue_present (ee.Image): Current ET blue image\n",
    "        et_blue_previous (ee.Image): Previous ET blue image\n",
    "        et_green (ee.Image): Current ET green image\n",
    "\n",
    "    Returns:\n",
    "        ee.Image: Processed ET blue image with volumetric band\n",
    "    \"\"\"\n",
    "    # Calculate threshold from ET green\n",
    "    threshold = calculate_band_std_dev(et_green, \"ET_green\")\n",
    "\n",
    "    # Post process using the previous processed image\n",
    "    et_blue = postprocess_et_blue(et_blue_present, et_blue_previous, threshold)\n",
    "\n",
    "    # Compute and add volumetric band\n",
    "    et_blue_m3 = compute_volumetric_et_blue(et_blue)\n",
    "    et_blue = et_blue.addBands(et_blue_m3)\n",
    "\n",
    "    # Convert to int for storage\n",
    "    return back_to_int(et_blue, 100)\n",
    "\n",
    "\n",
    "def _get_time_step_name(index: int, time_step_type: str) -> str:\n",
    "    \"\"\"\n",
    "    Generate the time step name based on index and type.\n",
    "\n",
    "    Args:\n",
    "        index (int): Current time step index\n",
    "        time_step_type (str): Type of time step (\"monthly\" or \"dekadal\")\n",
    "\n",
    "    Returns:\n",
    "        str: Formatted time step name\n",
    "    \"\"\"\n",
    "    if time_step_type == \"dekadal\":\n",
    "        month = index // 3 + 1\n",
    "        dekad = index % 3 + 1\n",
    "        return f\"{month:02d}_D{dekad}\"\n",
    "    else:  # monthly\n",
    "        month = index + 1\n",
    "        return f\"{month:02d}\"\n",
    "\n",
    "\n",
    "def _create_export_task(\n",
    "    et_blue: ee.Image,\n",
    "    year: int,\n",
    "    time_step_name: str,\n",
    "    time_step_type: str,\n",
    "    aoi: ee.Geometry,\n",
    ") -> ee.batch.Task:\n",
    "    \"\"\"\n",
    "    Create an export task for a post-processed ET blue image.\n",
    "\n",
    "    Args:\n",
    "        et_blue (ee.Image): ET blue image to export\n",
    "        year (int): Processing year\n",
    "        time_step_name (str): Formatted time step name\n",
    "        time_step_type (str): Type of time step\n",
    "        aoi (ee.Geometry): Area of interest\n",
    "\n",
    "    Returns:\n",
    "        ee.batch.Task: Export task\n",
    "    \"\"\"\n",
    "    task_name = (\n",
    "        f\"ET_blue_postprocessed_refactored_{time_step_type}_{year}-{time_step_name}\"\n",
    "    )\n",
    "\n",
    "    asset_id = (\n",
    "        f\"projects/thurgau-irrigation/assets/Thurgau/\"\n",
    "        f\"ET_blue_postprocessed_wapor_{time_step_type}_refactored_2018-2023/{task_name}\"\n",
    "    )\n",
    "\n",
    "    return export_image_to_asset(\n",
    "        image=et_blue, asset_id=asset_id, task_name=task_name, year=year, aoi=aoi\n",
    "    )"
   ]
  },
  {
   "cell_type": "code",
   "execution_count": 10,
   "metadata": {},
   "outputs": [
    {
     "data": {
      "text/html": [
       "\n",
       "            <style>\n",
       "                .geemap-dark {\n",
       "                    --jp-widgets-color: white;\n",
       "                    --jp-widgets-label-color: white;\n",
       "                    --jp-ui-font-color1: white;\n",
       "                    --jp-layout-color2: #454545;\n",
       "                    background-color: #383838;\n",
       "                }\n",
       "\n",
       "                .geemap-dark .jupyter-button {\n",
       "                    --jp-layout-color3: #383838;\n",
       "                }\n",
       "\n",
       "                .geemap-colab {\n",
       "                    background-color: var(--colab-primary-surface-color, white);\n",
       "                }\n",
       "\n",
       "                .geemap-colab .jupyter-button {\n",
       "                    --jp-layout-color3: var(--colab-primary-surface-color, white);\n",
       "                }\n",
       "            </style>\n",
       "            "
      ],
      "text/plain": [
       "<IPython.core.display.HTML object>"
      ]
     },
     "metadata": {},
     "output_type": "display_data"
    }
   ],
   "source": [
    "# all_tasks = []\n",
    "\n",
    "# for year in YEARS:\n",
    "\n",
    "#     et_blue_raw_collection_list = ET_BLUE_RAW_COLLECTION.filterDate(\n",
    "#         f\"{year}-01-01\", f\"{year}-12-31\"\n",
    "#     ).toList(TIME_STEPS)\n",
    "\n",
    "#     et_green_collection_list = ET_GREEN_COLLECTION.filterDate(\n",
    "#         f\"{year}-01-01\", f\"{year}-12-31\"\n",
    "#     ).toList(TIME_STEPS)\n",
    "\n",
    "#     tasks = process_and_export_et_blue_postprocessed(\n",
    "#         et_blue_raw_list=et_blue_raw_collection_list,\n",
    "#         et_green_list=et_green_collection_list,\n",
    "#         year=year,\n",
    "#         aoi=AOI,\n",
    "#         time_steps=TIME_STEPS,\n",
    "#         time_step_type=TIME_STEP_TYPE,\n",
    "#     )\n",
    "\n",
    "#     print(f\"Year {year} processing complete. Started {len(tasks)} tasks.\")\n",
    "\n",
    "#     all_tasks.extend(tasks)\n",
    "\n",
    "# print(f\"Total tasks: {len(all_tasks)}\")"
   ]
  },
  {
   "cell_type": "markdown",
   "metadata": {},
   "source": [
    "### Sanity check"
   ]
  },
  {
   "cell_type": "code",
   "execution_count": 17,
   "metadata": {},
   "outputs": [
    {
     "data": {
      "text/html": [
       "\n",
       "            <style>\n",
       "                .geemap-dark {\n",
       "                    --jp-widgets-color: white;\n",
       "                    --jp-widgets-label-color: white;\n",
       "                    --jp-ui-font-color1: white;\n",
       "                    --jp-layout-color2: #454545;\n",
       "                    background-color: #383838;\n",
       "                }\n",
       "\n",
       "                .geemap-dark .jupyter-button {\n",
       "                    --jp-layout-color3: #383838;\n",
       "                }\n",
       "\n",
       "                .geemap-colab {\n",
       "                    background-color: var(--colab-primary-surface-color, white);\n",
       "                }\n",
       "\n",
       "                .geemap-colab .jupyter-button {\n",
       "                    --jp-layout-color3: var(--colab-primary-surface-color, white);\n",
       "                }\n",
       "            </style>\n",
       "            "
      ],
      "text/plain": [
       "<IPython.core.display.HTML object>"
      ]
     },
     "metadata": {},
     "output_type": "display_data"
    },
    {
     "name": "stdout",
     "output_type": "stream",
     "text": [
      "Dates of images in the collection:\n",
      "2018-01-01\n",
      "2018-02-01\n",
      "2018-03-01\n",
      "2018-04-01\n",
      "2018-05-01\n",
      "2018-06-01\n",
      "2018-07-01\n",
      "2018-08-01\n",
      "2018-09-01\n",
      "2018-10-01\n",
      "2018-11-01\n",
      "2018-12-01\n",
      "2019-01-01\n",
      "2019-02-01\n",
      "2019-03-01\n",
      "2019-04-01\n",
      "2019-05-01\n",
      "2019-06-01\n",
      "2019-07-01\n",
      "2019-08-01\n",
      "2019-09-01\n",
      "2019-10-01\n",
      "2019-11-01\n",
      "2019-12-01\n",
      "2020-01-01\n",
      "2020-02-01\n",
      "2020-03-01\n",
      "2020-04-01\n",
      "2020-05-01\n",
      "2020-06-01\n",
      "2020-07-01\n",
      "2020-08-01\n",
      "2020-09-01\n",
      "2020-10-01\n",
      "2020-11-01\n",
      "2020-12-01\n",
      "2021-01-01\n",
      "2021-02-01\n",
      "2021-03-01\n",
      "2021-04-01\n",
      "2021-05-01\n",
      "2021-06-01\n",
      "2021-07-01\n",
      "2021-08-01\n",
      "2021-09-01\n",
      "2021-10-01\n",
      "2021-11-01\n",
      "2021-12-01\n",
      "2022-01-01\n",
      "2022-02-01\n",
      "2022-03-01\n",
      "2022-04-01\n",
      "2022-05-01\n",
      "2022-06-01\n",
      "2022-07-01\n",
      "2022-08-01\n",
      "2022-09-01\n",
      "2022-10-01\n",
      "2022-11-01\n",
      "2022-12-01\n",
      "2023-01-01\n",
      "2023-02-01\n",
      "2023-03-01\n",
      "2023-04-01\n",
      "2023-05-01\n",
      "2023-06-01\n",
      "2023-07-01\n",
      "2023-08-01\n",
      "2023-09-01\n",
      "2023-10-01\n",
      "2023-11-01\n",
      "2023-12-01\n",
      "Image 1: Min = 0.00, Max = 45.75\n",
      "Image 2: Min = 0.00, Max = 19.91\n",
      "Image 3: Min = 0.00, Max = 34.89\n",
      "Image 4: Min = 0.00, Max = 50.68\n",
      "Image 5: Min = 0.00, Max = 57.31\n",
      "Image 6: Min = 0.00, Max = 72.44\n",
      "Image 7: Min = 0.00, Max = 66.79\n",
      "Image 8: Min = 0.00, Max = 62.74\n",
      "Image 9: Min = 0.00, Max = 39.29\n",
      "Image 10: Min = 0.00, Max = 15.30\n",
      "Image 11: Min = 0.00, Max = 42.06\n",
      "Image 12: Min = 0.00, Max = 188.76\n",
      "Image 13: Min = -3.73, Max = 54.81\n",
      "Image 14: Min = 0.00, Max = 22.41\n",
      "Image 15: Min = 0.00, Max = 47.90\n",
      "Image 16: Min = 0.00, Max = 39.84\n",
      "Image 17: Min = 0.00, Max = 55.97\n",
      "Image 18: Min = 0.00, Max = 76.72\n",
      "Image 19: Min = 0.00, Max = 83.67\n",
      "Image 20: Min = 0.00, Max = 55.97\n",
      "Image 21: Min = 0.00, Max = 35.02\n",
      "Image 22: Min = 0.00, Max = 14.52\n",
      "Image 23: Min = 0.00, Max = 91.04\n",
      "Image 24: Min = 0.00, Max = 149.68\n",
      "Image 25: Min = 0.00, Max = 71.80\n",
      "Image 26: Min = 0.00, Max = 32.23\n",
      "Image 27: Min = 0.00, Max = 41.23\n",
      "Image 28: Min = 0.00, Max = 50.63\n",
      "Image 29: Min = 0.00, Max = 55.35\n",
      "Image 30: Min = 0.00, Max = 55.58\n",
      "Image 31: Min = 0.00, Max = 65.79\n",
      "Image 32: Min = 0.00, Max = 47.25\n",
      "Image 33: Min = 0.00, Max = 29.86\n",
      "Image 34: Min = 0.00, Max = 14.50\n",
      "Image 35: Min = 0.00, Max = 58.29\n",
      "Image 36: Min = 0.00, Max = 167.71\n",
      "Image 37: Min = 0.00, Max = 79.89\n",
      "Image 38: Min = 0.00, Max = 54.11\n",
      "Image 39: Min = 0.00, Max = 40.57\n",
      "Image 40: Min = 0.00, Max = 54.87\n",
      "Image 41: Min = 0.00, Max = 63.99\n",
      "Image 42: Min = 0.00, Max = 61.66\n",
      "Image 43: Min = 0.00, Max = 54.55\n",
      "Image 44: Min = 0.00, Max = 39.19\n",
      "Image 45: Min = 0.00, Max = 25.97\n",
      "Image 46: Min = 0.00, Max = 21.13\n",
      "Image 47: Min = 0.00, Max = 15.80\n",
      "Image 48: Min = 0.00, Max = 134.92\n",
      "Image 49: Min = 0.00, Max = 139.92\n",
      "Image 50: Min = 0.00, Max = 53.67\n",
      "Image 51: Min = 0.00, Max = 41.18\n",
      "Image 52: Min = 0.00, Max = 48.50\n",
      "Image 53: Min = 0.00, Max = 51.04\n",
      "Image 54: Min = 0.00, Max = 68.62\n",
      "Image 55: Min = 0.00, Max = 73.85\n",
      "Image 56: Min = 0.00, Max = 55.80\n",
      "Image 57: Min = 0.00, Max = 28.98\n",
      "Image 58: Min = 0.00, Max = 11.81\n",
      "Image 59: Min = 0.00, Max = 86.05\n",
      "Image 60: Min = 0.00, Max = 138.34\n",
      "Image 61: Min = 0.00, Max = 145.81\n",
      "Image 62: Min = 0.00, Max = 45.57\n",
      "Image 63: Min = 0.00, Max = 33.81\n",
      "Image 64: Min = 0.00, Max = 49.69\n",
      "Image 65: Min = 0.00, Max = 76.17\n",
      "Image 66: Min = 0.00, Max = 93.91\n",
      "Image 67: Min = 0.00, Max = 78.68\n",
      "Image 68: Min = 0.00, Max = 43.93\n",
      "Image 69: Min = 0.00, Max = 27.66\n",
      "Image 70: Min = 0.00, Max = 18.27\n",
      "Image 71: Min = 0.00, Max = 28.65\n",
      "Image 72: Min = 0.00, Max = 162.06\n"
     ]
    }
   ],
   "source": [
    "et_blue_postprocessed = ee.ImageCollection(\"projects/thurgau-irrigation/assets/Thurgau/ET_blue_postprocessed_wapor_monthly_2018-2023\").map(lambda img: back_to_float(img, 100))\n",
    "\n",
    "date_utils.print_collection_dates(et_blue_postprocessed)\n",
    "ee_utils.print_value_ranges(et_blue_postprocessed)"
   ]
  },
  {
   "cell_type": "code",
   "execution_count": 12,
   "metadata": {},
   "outputs": [
    {
     "data": {
      "text/html": [
       "\n",
       "            <style>\n",
       "                .geemap-dark {\n",
       "                    --jp-widgets-color: white;\n",
       "                    --jp-widgets-label-color: white;\n",
       "                    --jp-ui-font-color1: white;\n",
       "                    --jp-layout-color2: #454545;\n",
       "                    background-color: #383838;\n",
       "                }\n",
       "\n",
       "                .geemap-dark .jupyter-button {\n",
       "                    --jp-layout-color3: #383838;\n",
       "                }\n",
       "\n",
       "                .geemap-colab {\n",
       "                    background-color: var(--colab-primary-surface-color, white);\n",
       "                }\n",
       "\n",
       "                .geemap-colab .jupyter-button {\n",
       "                    --jp-layout-color3: var(--colab-primary-surface-color, white);\n",
       "                }\n",
       "            </style>\n",
       "            "
      ],
      "text/plain": [
       "<IPython.core.display.HTML object>"
      ]
     },
     "metadata": {},
     "output_type": "display_data"
    },
    {
     "data": {
      "text/plain": [
       "['ET_blue', 'ET_blue_m3']"
      ]
     },
     "execution_count": 12,
     "metadata": {},
     "output_type": "execute_result"
    }
   ],
   "source": [
    "et_blue_postprocessed.first().bandNames().getInfo()"
   ]
  },
  {
   "cell_type": "code",
   "execution_count": 22,
   "metadata": {},
   "outputs": [
    {
     "data": {
      "text/html": [
       "\n",
       "            <style>\n",
       "                .geemap-dark {\n",
       "                    --jp-widgets-color: white;\n",
       "                    --jp-widgets-label-color: white;\n",
       "                    --jp-ui-font-color1: white;\n",
       "                    --jp-layout-color2: #454545;\n",
       "                    background-color: #383838;\n",
       "                }\n",
       "\n",
       "                .geemap-dark .jupyter-button {\n",
       "                    --jp-layout-color3: #383838;\n",
       "                }\n",
       "\n",
       "                .geemap-colab {\n",
       "                    background-color: var(--colab-primary-surface-color, white);\n",
       "                }\n",
       "\n",
       "                .geemap-colab .jupyter-button {\n",
       "                    --jp-layout-color3: var(--colab-primary-surface-color, white);\n",
       "                }\n",
       "            </style>\n",
       "            "
      ],
      "text/plain": [
       "<IPython.core.display.HTML object>"
      ]
     },
     "metadata": {},
     "output_type": "display_data"
    },
    {
     "data": {
      "application/vnd.jupyter.widget-view+json": {
       "model_id": "7c37b5a7d36240e6bc4287a71180109b",
       "version_major": 2,
       "version_minor": 0
      },
      "text/plain": [
       "Map(center=[47.41511720684401, 8.655992127451274], controls=(WidgetControl(options=['position', 'transparent_b…"
      ]
     },
     "execution_count": 22,
     "metadata": {},
     "output_type": "execute_result"
    }
   ],
   "source": [
    "Map = geemap.Map()\n",
    "\n",
    "et_blue_postprocessed_list = et_blue_postprocessed.toList(72)\n",
    "\n",
    "image = ee.Image(et_blue_postprocessed_list.get(19))\n",
    "\n",
    "vis_params = {\n",
    "    \"bands\" : [\"ET_blue\"], \n",
    "    \"min\" : 0,\n",
    "    \"max\" : 30,\n",
    "    \"palette\" : [\"blue\", \"lightblue\", \"green\", \"yellow\", \"orange\", \"red\"]\n",
    "}\n",
    "\n",
    "Map.center_object(AOI, 12)\n",
    "Map.addLayer(image, vis_params, \"ET blue raw\")\n",
    "\n",
    "Map"
   ]
  },
  {
   "cell_type": "code",
   "execution_count": null,
   "metadata": {},
   "outputs": [],
   "source": []
  }
 ],
 "metadata": {
  "kernelspec": {
   "display_name": "geemap_env",
   "language": "python",
   "name": "python3"
  },
  "language_info": {
   "codemirror_mode": {
    "name": "ipython",
    "version": 3
   },
   "file_extension": ".py",
   "mimetype": "text/x-python",
   "name": "python",
   "nbconvert_exporter": "python",
   "pygments_lexer": "ipython3",
   "version": "3.11.10"
  }
 },
 "nbformat": 4,
 "nbformat_minor": 2
}
