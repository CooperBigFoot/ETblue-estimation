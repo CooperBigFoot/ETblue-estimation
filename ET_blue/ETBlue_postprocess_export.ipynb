{
 "cells": [
  {
   "cell_type": "code",
   "execution_count": 1,
   "metadata": {},
   "outputs": [],
   "source": [
    "import sys\n",
    "import os\n",
    "from pathlib import Path\n",
    "\n",
    "sys.path.append(os.path.abspath(os.path.join(\"..\")))"
   ]
  },
  {
   "cell_type": "code",
   "execution_count": 2,
   "metadata": {},
   "outputs": [],
   "source": [
    "sys.setrecursionlimit(5000)"
   ]
  },
  {
   "cell_type": "code",
   "execution_count": 3,
   "metadata": {},
   "outputs": [],
   "source": [
    "from compute_ET_blue import (\n",
    "    compute_et_blue,\n",
    "    compute_volumetric_et_blue,\n",
    "    postprocess_et_blue,\n",
    ")\n",
    "\n",
    "from compute_ET_green import calculate_band_std_dev\n",
    "\n",
    "from utils import ee_utils, date_utils\n",
    "from utils.ee_utils import back_to_float, back_to_int, export_image_to_asset\n",
    "\n",
    "from typing import List, Tuple, Union, Optional\n",
    "\n",
    "import ee\n",
    "import geemap"
   ]
  },
  {
   "cell_type": "code",
   "execution_count": 4,
   "metadata": {},
   "outputs": [
    {
     "data": {
      "text/html": [
       "\n",
       "            <style>\n",
       "                .geemap-dark {\n",
       "                    --jp-widgets-color: white;\n",
       "                    --jp-widgets-label-color: white;\n",
       "                    --jp-ui-font-color1: white;\n",
       "                    --jp-layout-color2: #454545;\n",
       "                    background-color: #383838;\n",
       "                }\n",
       "\n",
       "                .geemap-dark .jupyter-button {\n",
       "                    --jp-layout-color3: #383838;\n",
       "                }\n",
       "\n",
       "                .geemap-colab {\n",
       "                    background-color: var(--colab-primary-surface-color, white);\n",
       "                }\n",
       "\n",
       "                .geemap-colab .jupyter-button {\n",
       "                    --jp-layout-color3: var(--colab-primary-surface-color, white);\n",
       "                }\n",
       "            </style>\n",
       "            "
      ],
      "text/plain": [
       "<IPython.core.display.HTML object>"
      ]
     },
     "metadata": {},
     "output_type": "display_data"
    }
   ],
   "source": [
    "ee.Initialize(project=\"thurgau-irrigation\")"
   ]
  },
  {
   "cell_type": "markdown",
   "metadata": {},
   "source": [
    "### Postprocess and export ET Blue"
   ]
  },
  {
   "cell_type": "code",
   "execution_count": 5,
   "metadata": {},
   "outputs": [
    {
     "data": {
      "text/html": [
       "\n",
       "            <style>\n",
       "                .geemap-dark {\n",
       "                    --jp-widgets-color: white;\n",
       "                    --jp-widgets-label-color: white;\n",
       "                    --jp-ui-font-color1: white;\n",
       "                    --jp-layout-color2: #454545;\n",
       "                    background-color: #383838;\n",
       "                }\n",
       "\n",
       "                .geemap-dark .jupyter-button {\n",
       "                    --jp-layout-color3: #383838;\n",
       "                }\n",
       "\n",
       "                .geemap-colab {\n",
       "                    background-color: var(--colab-primary-surface-color, white);\n",
       "                }\n",
       "\n",
       "                .geemap-colab .jupyter-button {\n",
       "                    --jp-layout-color3: var(--colab-primary-surface-color, white);\n",
       "                }\n",
       "            </style>\n",
       "            "
      ],
      "text/plain": [
       "<IPython.core.display.HTML object>"
      ]
     },
     "metadata": {},
     "output_type": "display_data"
    }
   ],
   "source": [
    "TIME_STEPS = 12\n",
    "TIME_STEP_TYPE = \"monthly\"\n",
    "YEARS = range(2022, 2023)"
   ]
  },
  {
   "cell_type": "code",
   "execution_count": 6,
   "metadata": {},
   "outputs": [
    {
     "data": {
      "text/html": [
       "\n",
       "            <style>\n",
       "                .geemap-dark {\n",
       "                    --jp-widgets-color: white;\n",
       "                    --jp-widgets-label-color: white;\n",
       "                    --jp-ui-font-color1: white;\n",
       "                    --jp-layout-color2: #454545;\n",
       "                    background-color: #383838;\n",
       "                }\n",
       "\n",
       "                .geemap-dark .jupyter-button {\n",
       "                    --jp-layout-color3: #383838;\n",
       "                }\n",
       "\n",
       "                .geemap-colab {\n",
       "                    background-color: var(--colab-primary-surface-color, white);\n",
       "                }\n",
       "\n",
       "                .geemap-colab .jupyter-button {\n",
       "                    --jp-layout-color3: var(--colab-primary-surface-color, white);\n",
       "                }\n",
       "            </style>\n",
       "            "
      ],
      "text/plain": [
       "<IPython.core.display.HTML object>"
      ]
     },
     "metadata": {},
     "output_type": "display_data"
    }
   ],
   "source": [
    "PATH_TO_AOI = \"projects/thurgau-irrigation/assets/Zuerich/Zuerich_bound\"\n",
    "\n",
    "aoi_feature_collection = ee.FeatureCollection(PATH_TO_AOI)\n",
    "aoi_geometry = aoi_feature_collection.geometry().simplify(500)\n",
    "\n",
    "AOI = aoi_geometry.buffer(100)"
   ]
  },
  {
   "cell_type": "code",
   "execution_count": 7,
   "metadata": {},
   "outputs": [
    {
     "data": {
      "text/html": [
       "\n",
       "            <style>\n",
       "                .geemap-dark {\n",
       "                    --jp-widgets-color: white;\n",
       "                    --jp-widgets-label-color: white;\n",
       "                    --jp-ui-font-color1: white;\n",
       "                    --jp-layout-color2: #454545;\n",
       "                    background-color: #383838;\n",
       "                }\n",
       "\n",
       "                .geemap-dark .jupyter-button {\n",
       "                    --jp-layout-color3: #383838;\n",
       "                }\n",
       "\n",
       "                .geemap-colab {\n",
       "                    background-color: var(--colab-primary-surface-color, white);\n",
       "                }\n",
       "\n",
       "                .geemap-colab .jupyter-button {\n",
       "                    --jp-layout-color3: var(--colab-primary-surface-color, white);\n",
       "                }\n",
       "            </style>\n",
       "            "
      ],
      "text/plain": [
       "<IPython.core.display.HTML object>"
      ]
     },
     "metadata": {},
     "output_type": "display_data"
    },
    {
     "name": "stdout",
     "output_type": "stream",
     "text": [
      "Dates of images in the collection:\n",
      "2022-01-01\n",
      "2022-02-01\n",
      "2022-03-01\n",
      "2022-04-01\n",
      "2022-05-01\n",
      "2022-06-01\n",
      "2022-07-01\n",
      "2022-08-01\n",
      "2022-09-01\n",
      "2022-10-01\n",
      "2022-11-01\n",
      "2022-12-01\n",
      "Image 1: Min = -10.00, Max = 5.43\n",
      "Image 2: Min = -19.28, Max = 36.15\n",
      "Image 3: Min = -22.09, Max = 63.08\n",
      "Image 4: Min = -46.35, Max = 39.22\n",
      "Image 5: Min = -69.63, Max = 48.17\n",
      "Image 6: Min = -90.35, Max = 54.70\n",
      "Image 7: Min = -106.04, Max = 69.31\n",
      "Image 8: Min = -85.13, Max = 68.08\n",
      "Image 9: Min = -67.56, Max = 61.58\n",
      "Image 10: Min = -38.22, Max = 24.74\n",
      "Image 11: Min = 0.00, Max = 0.00\n",
      "Image 12: Min = 0.00, Max = 0.00\n"
     ]
    }
   ],
   "source": [
    "ET_BLUE_RAW_COLLECTION = ee.ImageCollection(\"projects/thurgau-irrigation/assets/Zuerich/ET_blue_raw_landsat_30m_monthly_ZH_2022\").map(lambda img: back_to_float(img, 100))\n",
    "\n",
    "date_utils.print_collection_dates(ET_BLUE_RAW_COLLECTION)\n",
    "ee_utils.print_value_ranges(ET_BLUE_RAW_COLLECTION, \"ET_blue\")"
   ]
  },
  {
   "cell_type": "code",
   "execution_count": 8,
   "metadata": {},
   "outputs": [
    {
     "data": {
      "text/html": [
       "\n",
       "            <style>\n",
       "                .geemap-dark {\n",
       "                    --jp-widgets-color: white;\n",
       "                    --jp-widgets-label-color: white;\n",
       "                    --jp-ui-font-color1: white;\n",
       "                    --jp-layout-color2: #454545;\n",
       "                    background-color: #383838;\n",
       "                }\n",
       "\n",
       "                .geemap-dark .jupyter-button {\n",
       "                    --jp-layout-color3: #383838;\n",
       "                }\n",
       "\n",
       "                .geemap-colab {\n",
       "                    background-color: var(--colab-primary-surface-color, white);\n",
       "                }\n",
       "\n",
       "                .geemap-colab .jupyter-button {\n",
       "                    --jp-layout-color3: var(--colab-primary-surface-color, white);\n",
       "                }\n",
       "            </style>\n",
       "            "
      ],
      "text/plain": [
       "<IPython.core.display.HTML object>"
      ]
     },
     "metadata": {},
     "output_type": "display_data"
    },
    {
     "name": "stdout",
     "output_type": "stream",
     "text": [
      "Dates of images in the collection:\n",
      "2022-01-01\n",
      "2022-02-01\n",
      "2022-03-01\n",
      "2022-04-01\n",
      "2022-05-01\n",
      "2022-06-01\n",
      "2022-07-01\n",
      "2022-08-01\n",
      "2022-09-01\n",
      "2022-10-01\n",
      "2022-11-01\n",
      "2022-12-01\n",
      "Image 1: Min = 2.58, Max = 10.21\n",
      "Image 2: Min = 7.64, Max = 23.28\n",
      "Image 3: Min = 12.12, Max = 32.70\n",
      "Image 4: Min = 28.66, Max = 62.77\n",
      "Image 5: Min = 53.68, Max = 91.26\n",
      "Image 6: Min = 68.94, Max = 113.63\n",
      "Image 7: Min = 64.68, Max = 120.31\n",
      "Image 8: Min = 53.95, Max = 105.05\n",
      "Image 9: Min = 31.96, Max = 75.59\n",
      "Image 10: Min = 16.26, Max = 38.23\n",
      "Image 11: Min = 0.00, Max = 0.00\n",
      "Image 12: Min = 0.00, Max = 0.00\n"
     ]
    }
   ],
   "source": [
    "ET_GREEN_COLLECTION = ee.ImageCollection(\n",
    "    \"projects/thurgau-irrigation/assets/Zuerich/ET_green_landsat_30m_jurisdiction_monthly_ZH_2022\"\n",
    ").map(lambda img: back_to_float(img, 100))\n",
    "\n",
    "date_utils.print_collection_dates(ET_GREEN_COLLECTION)\n",
    "ee_utils.print_value_ranges(ET_GREEN_COLLECTION, \"ET_green\")"
   ]
  },
  {
   "cell_type": "code",
   "execution_count": 9,
   "metadata": {},
   "outputs": [
    {
     "data": {
      "text/html": [
       "\n",
       "            <style>\n",
       "                .geemap-dark {\n",
       "                    --jp-widgets-color: white;\n",
       "                    --jp-widgets-label-color: white;\n",
       "                    --jp-ui-font-color1: white;\n",
       "                    --jp-layout-color2: #454545;\n",
       "                    background-color: #383838;\n",
       "                }\n",
       "\n",
       "                .geemap-dark .jupyter-button {\n",
       "                    --jp-layout-color3: #383838;\n",
       "                }\n",
       "\n",
       "                .geemap-colab {\n",
       "                    background-color: var(--colab-primary-surface-color, white);\n",
       "                }\n",
       "\n",
       "                .geemap-colab .jupyter-button {\n",
       "                    --jp-layout-color3: var(--colab-primary-surface-color, white);\n",
       "                }\n",
       "            </style>\n",
       "            "
      ],
      "text/plain": [
       "<IPython.core.display.HTML object>"
      ]
     },
     "metadata": {},
     "output_type": "display_data"
    }
   ],
   "source": [
    "def process_and_export_et_blue_postprocessed(\n",
    "    et_blue_raw_list: ee.List,\n",
    "    et_green_list: ee.List,\n",
    "    year: int,\n",
    "    aoi: ee.Geometry,\n",
    "    time_steps: int = 36,\n",
    "    time_step_type: str = \"dekadal\",\n",
    ") -> List[ee.batch.Task]:\n",
    "    \"\"\"\n",
    "    Process and export post-processed ET blue images for a given year.\n",
    "\n",
    "    Args:\n",
    "        et_blue_raw_list (ee.List): List of raw ET blue images\n",
    "        et_green_list (ee.List): List of ET green images\n",
    "        year (int): Year to process\n",
    "        year_index (int): Index of the year (e.g., 2022 would be 4 if starting from 2018)\n",
    "        aoi (ee.Geometry): Area of interest to process\n",
    "        time_steps (int): Number of time steps (default 36 for dekadal)\n",
    "        time_step_type (str): Type of time step (\"monthly\" or \"dekadal\")\n",
    "\n",
    "    Returns:\n",
    "        List[ee.batch.Task]: List of export tasks\n",
    "\n",
    "    Raises:\n",
    "        ValueError: If time_steps is not 12 or 36, or if time_step_type is invalid\n",
    "    \"\"\"\n",
    "    if time_steps not in [12, 36]:\n",
    "        raise ValueError(\"time_steps must be either 12 or 36\")\n",
    "\n",
    "    if time_step_type not in [\"monthly\", \"dekadal\"]:\n",
    "        raise ValueError(\"time_step_type must be either 'monthly' or 'dekadal'\")\n",
    "\n",
    "    tasks = []\n",
    "    et_blue_previous = None\n",
    "\n",
    "    for i in range(time_steps):\n",
    "        # Get current images\n",
    "        et_green = ee.Image(et_green_list.get(i))\n",
    "        et_blue_present = ee.Image(et_blue_raw_list.get(i))\n",
    "\n",
    "        # Initialize previous for first iteration\n",
    "        if et_blue_previous is None:\n",
    "            et_blue_previous = et_blue_present\n",
    "\n",
    "        # Process ET blue\n",
    "        et_blue = _process_et_blue_image(\n",
    "            et_blue_present=et_blue_present,\n",
    "            et_blue_previous=et_blue_previous,\n",
    "            et_green=et_green,\n",
    "        )\n",
    "\n",
    "        # Store current processed image for next iteration\n",
    "        et_blue_previous = et_blue.select(\"ET_blue\")\n",
    "\n",
    "        # Generate time step name based on type\n",
    "        time_step_name = _get_time_step_name(i, time_step_type)\n",
    "\n",
    "        # Generate export task\n",
    "        task = _create_export_task(\n",
    "            et_blue=et_blue,\n",
    "            year=year,\n",
    "            time_step_name=time_step_name,\n",
    "            time_step_type=time_step_type,\n",
    "            aoi=aoi,\n",
    "        )\n",
    "\n",
    "        tasks.append(task)\n",
    "\n",
    "    return tasks\n",
    "\n",
    "\n",
    "def _process_et_blue_image(\n",
    "    et_blue_present: ee.Image,\n",
    "    et_blue_previous: ee.Image,\n",
    "    et_green: ee.Image,\n",
    ") -> ee.Image:\n",
    "    \"\"\"\n",
    "    Process a single ET blue image with temporal post-processing.\n",
    "\n",
    "    Args:\n",
    "        et_blue_present (ee.Image): Current ET blue image\n",
    "        et_blue_previous (ee.Image): Previous ET blue image\n",
    "        et_green (ee.Image): Current ET green image\n",
    "\n",
    "    Returns:\n",
    "        ee.Image: Processed ET blue image with volumetric band\n",
    "    \"\"\"\n",
    "    # Calculate threshold from ET green\n",
    "    threshold = calculate_band_std_dev(et_green, \"ET_green\")\n",
    "\n",
    "    # Post process using the previous processed image\n",
    "    et_blue = postprocess_et_blue(et_blue_present, et_blue_previous, threshold)\n",
    "\n",
    "    # Compute and add volumetric band\n",
    "    et_blue_m3 = compute_volumetric_et_blue(et_blue)\n",
    "    et_blue = et_blue.addBands(et_blue_m3)\n",
    "\n",
    "    # Convert to int for storage\n",
    "    return back_to_int(et_blue, 100)\n",
    "\n",
    "\n",
    "def _get_time_step_name(index: int, time_step_type: str) -> str:\n",
    "    \"\"\"\n",
    "    Generate the time step name based on index and type.\n",
    "\n",
    "    Args:\n",
    "        index (int): Current time step index\n",
    "        time_step_type (str): Type of time step (\"monthly\" or \"dekadal\")\n",
    "\n",
    "    Returns:\n",
    "        str: Formatted time step name\n",
    "    \"\"\"\n",
    "    if time_step_type == \"dekadal\":\n",
    "        month = index // 3 + 1\n",
    "        dekad = index % 3 + 1\n",
    "        return f\"{month:02d}_D{dekad}\"\n",
    "    else:  # monthly\n",
    "        month = index + 1\n",
    "        return f\"{month:02d}\"\n",
    "\n",
    "\n",
    "def _create_export_task(\n",
    "    et_blue: ee.Image,\n",
    "    year: int,\n",
    "    time_step_name: str,\n",
    "    time_step_type: str,\n",
    "    aoi: ee.Geometry,\n",
    ") -> ee.batch.Task:\n",
    "    \"\"\"\n",
    "    Create an export task for a post-processed ET blue image.\n",
    "\n",
    "    Args:\n",
    "        et_blue (ee.Image): ET blue image to export\n",
    "        year (int): Processing year\n",
    "        time_step_name (str): Formatted time step name\n",
    "        time_step_type (str): Type of time step\n",
    "        aoi (ee.Geometry): Area of interest\n",
    "\n",
    "    Returns:\n",
    "        ee.batch.Task: Export task\n",
    "    \"\"\"\n",
    "    task_name = f\"ET_blue_postprocessed_landsat_30m_ZH_{year}-{time_step_name}\"\n",
    "\n",
    "    asset_id = f\"projects/thurgau-irrigation/assets/Zuerich/ET_blue_postprocessed_landsat_30m_{time_step_type}_ZH_2022/{task_name}\"\n",
    "\n",
    "    return export_image_to_asset(\n",
    "        image=et_blue,\n",
    "        asset_id=asset_id,\n",
    "        task_name=task_name,\n",
    "        year=year,\n",
    "        aoi=aoi,\n",
    "        scale=30,\n",
    "    )"
   ]
  },
  {
   "cell_type": "code",
   "execution_count": 13,
   "metadata": {},
   "outputs": [
    {
     "data": {
      "text/html": [
       "\n",
       "            <style>\n",
       "                .geemap-dark {\n",
       "                    --jp-widgets-color: white;\n",
       "                    --jp-widgets-label-color: white;\n",
       "                    --jp-ui-font-color1: white;\n",
       "                    --jp-layout-color2: #454545;\n",
       "                    background-color: #383838;\n",
       "                }\n",
       "\n",
       "                .geemap-dark .jupyter-button {\n",
       "                    --jp-layout-color3: #383838;\n",
       "                }\n",
       "\n",
       "                .geemap-colab {\n",
       "                    background-color: var(--colab-primary-surface-color, white);\n",
       "                }\n",
       "\n",
       "                .geemap-colab .jupyter-button {\n",
       "                    --jp-layout-color3: var(--colab-primary-surface-color, white);\n",
       "                }\n",
       "            </style>\n",
       "            "
      ],
      "text/plain": [
       "<IPython.core.display.HTML object>"
      ]
     },
     "metadata": {},
     "output_type": "display_data"
    }
   ],
   "source": [
    "# all_tasks = []\n",
    "\n",
    "# for year in YEARS:\n",
    "\n",
    "#     et_blue_raw_collection_list = ET_BLUE_RAW_COLLECTION.filterDate(\n",
    "#         f\"{year}-01-01\", f\"{year}-12-31\"\n",
    "#     ).toList(TIME_STEPS)\n",
    "\n",
    "#     et_green_collection_list = ET_GREEN_COLLECTION.filterDate(\n",
    "#         f\"{year}-01-01\", f\"{year}-12-31\"\n",
    "#     ).toList(TIME_STEPS)\n",
    "\n",
    "#     tasks = process_and_export_et_blue_postprocessed(\n",
    "#         et_blue_raw_list=et_blue_raw_collection_list,\n",
    "#         et_green_list=et_green_collection_list,\n",
    "#         year=year,\n",
    "#         aoi=AOI,\n",
    "#         time_steps=TIME_STEPS,\n",
    "#         time_step_type=TIME_STEP_TYPE,\n",
    "#     )\n",
    "\n",
    "#     print(f\"Year {year} processing complete. Started {len(tasks)} tasks.\")\n",
    "\n",
    "#     all_tasks.extend(tasks)\n",
    "\n",
    "# print(f\"Total tasks: {len(all_tasks)}\")"
   ]
  },
  {
   "cell_type": "markdown",
   "metadata": {},
   "source": [
    "### Sanity check"
   ]
  },
  {
   "cell_type": "code",
   "execution_count": 14,
   "metadata": {},
   "outputs": [
    {
     "data": {
      "text/html": [
       "\n",
       "            <style>\n",
       "                .geemap-dark {\n",
       "                    --jp-widgets-color: white;\n",
       "                    --jp-widgets-label-color: white;\n",
       "                    --jp-ui-font-color1: white;\n",
       "                    --jp-layout-color2: #454545;\n",
       "                    background-color: #383838;\n",
       "                }\n",
       "\n",
       "                .geemap-dark .jupyter-button {\n",
       "                    --jp-layout-color3: #383838;\n",
       "                }\n",
       "\n",
       "                .geemap-colab {\n",
       "                    background-color: var(--colab-primary-surface-color, white);\n",
       "                }\n",
       "\n",
       "                .geemap-colab .jupyter-button {\n",
       "                    --jp-layout-color3: var(--colab-primary-surface-color, white);\n",
       "                }\n",
       "            </style>\n",
       "            "
      ],
      "text/plain": [
       "<IPython.core.display.HTML object>"
      ]
     },
     "metadata": {},
     "output_type": "display_data"
    },
    {
     "name": "stdout",
     "output_type": "stream",
     "text": [
      "Dates of images in the collection:\n",
      "2022-01-01\n",
      "2022-02-01\n",
      "2022-03-01\n",
      "2022-04-01\n",
      "2022-05-01\n",
      "2022-06-01\n",
      "2022-07-01\n",
      "2022-08-01\n",
      "2022-09-01\n",
      "2022-10-01\n",
      "2022-11-01\n",
      "2022-12-01\n",
      "Image 1: Min = 0.00, Max = 5.42\n",
      "Image 2: Min = -19.28, Max = 36.15\n",
      "Image 3: Min = -16.92, Max = 63.08\n",
      "Image 4: Min = 0.00, Max = 39.22\n",
      "Image 5: Min = -8.39, Max = 48.16\n",
      "Image 6: Min = 0.00, Max = 54.70\n",
      "Image 7: Min = 0.00, Max = 69.30\n",
      "Image 8: Min = 0.00, Max = 68.08\n",
      "Image 9: Min = 0.00, Max = 61.58\n",
      "Image 10: Min = -34.66, Max = 24.73\n",
      "Image 11: Min = 0.00, Max = 0.00\n",
      "Image 12: Min = 0.00, Max = 0.00\n"
     ]
    }
   ],
   "source": [
    "et_blue_postprocessed = ee.ImageCollection(\n",
    "    \"projects/thurgau-irrigation/assets/Zuerich/ET_blue_postprocessed_landsat_30m_monthly_ZH_2022\"\n",
    ").map(lambda img: back_to_float(img, 100))\n",
    "\n",
    "date_utils.print_collection_dates(et_blue_postprocessed)\n",
    "ee_utils.print_value_ranges(et_blue_postprocessed)"
   ]
  },
  {
   "cell_type": "code",
   "execution_count": 15,
   "metadata": {},
   "outputs": [
    {
     "data": {
      "text/html": [
       "\n",
       "            <style>\n",
       "                .geemap-dark {\n",
       "                    --jp-widgets-color: white;\n",
       "                    --jp-widgets-label-color: white;\n",
       "                    --jp-ui-font-color1: white;\n",
       "                    --jp-layout-color2: #454545;\n",
       "                    background-color: #383838;\n",
       "                }\n",
       "\n",
       "                .geemap-dark .jupyter-button {\n",
       "                    --jp-layout-color3: #383838;\n",
       "                }\n",
       "\n",
       "                .geemap-colab {\n",
       "                    background-color: var(--colab-primary-surface-color, white);\n",
       "                }\n",
       "\n",
       "                .geemap-colab .jupyter-button {\n",
       "                    --jp-layout-color3: var(--colab-primary-surface-color, white);\n",
       "                }\n",
       "            </style>\n",
       "            "
      ],
      "text/plain": [
       "<IPython.core.display.HTML object>"
      ]
     },
     "metadata": {},
     "output_type": "display_data"
    },
    {
     "data": {
      "text/plain": [
       "['ET_blue', 'ET_blue_m3']"
      ]
     },
     "execution_count": 15,
     "metadata": {},
     "output_type": "execute_result"
    }
   ],
   "source": [
    "et_blue_postprocessed.first().bandNames().getInfo()"
   ]
  },
  {
   "cell_type": "code",
   "execution_count": 16,
   "metadata": {},
   "outputs": [
    {
     "data": {
      "text/html": [
       "\n",
       "            <style>\n",
       "                .geemap-dark {\n",
       "                    --jp-widgets-color: white;\n",
       "                    --jp-widgets-label-color: white;\n",
       "                    --jp-ui-font-color1: white;\n",
       "                    --jp-layout-color2: #454545;\n",
       "                    background-color: #383838;\n",
       "                }\n",
       "\n",
       "                .geemap-dark .jupyter-button {\n",
       "                    --jp-layout-color3: #383838;\n",
       "                }\n",
       "\n",
       "                .geemap-colab {\n",
       "                    background-color: var(--colab-primary-surface-color, white);\n",
       "                }\n",
       "\n",
       "                .geemap-colab .jupyter-button {\n",
       "                    --jp-layout-color3: var(--colab-primary-surface-color, white);\n",
       "                }\n",
       "            </style>\n",
       "            "
      ],
      "text/plain": [
       "<IPython.core.display.HTML object>"
      ]
     },
     "metadata": {},
     "output_type": "display_data"
    },
    {
     "data": {
      "application/vnd.jupyter.widget-view+json": {
       "model_id": "e5c8819831f04f0d8ca97c80fcefc931",
       "version_major": 2,
       "version_minor": 0
      },
      "text/plain": [
       "Map(center=[47.41511720684401, 8.655992127451274], controls=(WidgetControl(options=['position', 'transparent_b…"
      ]
     },
     "execution_count": 16,
     "metadata": {},
     "output_type": "execute_result"
    }
   ],
   "source": [
    "Map = geemap.Map()\n",
    "\n",
    "et_blue_postprocessed_list = et_blue_postprocessed.toList(7)\n",
    "\n",
    "image = ee.Image(et_blue_postprocessed_list.get(5))\n",
    "\n",
    "vis_params = {\n",
    "    \"bands\" : [\"ET_blue\"], \n",
    "    \"min\" : 0,\n",
    "    \"max\" : 10,\n",
    "    \"palette\" : [\"white\", \"blue\", \"lightblue\", \"green\", \"yellow\", \"orange\", \"red\"]\n",
    "}\n",
    "\n",
    "Map.center_object(AOI, 12)\n",
    "Map.addLayer(image, vis_params, \"ET blue raw\")\n",
    "\n",
    "Map"
   ]
  },
  {
   "cell_type": "code",
   "execution_count": null,
   "metadata": {},
   "outputs": [],
   "source": []
  }
 ],
 "metadata": {
  "kernelspec": {
   "display_name": "geemap_env",
   "language": "python",
   "name": "python3"
  },
  "language_info": {
   "codemirror_mode": {
    "name": "ipython",
    "version": 3
   },
   "file_extension": ".py",
   "mimetype": "text/x-python",
   "name": "python",
   "nbconvert_exporter": "python",
   "pygments_lexer": "ipython3",
   "version": "3.11.10"
  }
 },
 "nbformat": 4,
 "nbformat_minor": 2
}
