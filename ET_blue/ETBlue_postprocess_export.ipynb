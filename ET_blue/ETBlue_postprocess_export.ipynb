{
 "cells": [
  {
   "cell_type": "code",
   "execution_count": 1,
   "metadata": {},
   "outputs": [],
   "source": [
    "import sys\n",
    "import os\n",
    "from pathlib import Path\n",
    "\n",
    "sys.path.append(os.path.abspath(os.path.join(\"..\")))"
   ]
  },
  {
   "cell_type": "code",
   "execution_count": 2,
   "metadata": {},
   "outputs": [],
   "source": [
    "sys.setrecursionlimit(5000)"
   ]
  },
  {
   "cell_type": "code",
   "execution_count": 3,
   "metadata": {},
   "outputs": [],
   "source": [
    "from compute_ET_blue import (\n",
    "    compute_et_blue,\n",
    "    compute_volumetric_et_blue,\n",
    "    postprocess_et_blue,\n",
    ")\n",
    "\n",
    "from compute_ET_green import calculate_band_std_dev\n",
    "\n",
    "from utils import ee_utils, date_utils\n",
    "from utils.ee_utils import back_to_float, back_to_int, export_image_to_asset\n",
    "\n",
    "from typing import List, Tuple, Union, Optional\n",
    "\n",
    "import ee\n",
    "import geemap"
   ]
  },
  {
   "cell_type": "code",
   "execution_count": 4,
   "metadata": {},
   "outputs": [
    {
     "data": {
      "text/html": [
       "\n",
       "            <style>\n",
       "                .geemap-dark {\n",
       "                    --jp-widgets-color: white;\n",
       "                    --jp-widgets-label-color: white;\n",
       "                    --jp-ui-font-color1: white;\n",
       "                    --jp-layout-color2: #454545;\n",
       "                    background-color: #383838;\n",
       "                }\n",
       "\n",
       "                .geemap-dark .jupyter-button {\n",
       "                    --jp-layout-color3: #383838;\n",
       "                }\n",
       "\n",
       "                .geemap-colab {\n",
       "                    background-color: var(--colab-primary-surface-color, white);\n",
       "                }\n",
       "\n",
       "                .geemap-colab .jupyter-button {\n",
       "                    --jp-layout-color3: var(--colab-primary-surface-color, white);\n",
       "                }\n",
       "            </style>\n",
       "            "
      ],
      "text/plain": [
       "<IPython.core.display.HTML object>"
      ]
     },
     "metadata": {},
     "output_type": "display_data"
    }
   ],
   "source": [
    "ee.Initialize(project=\"thurgau-irrigation\")"
   ]
  },
  {
   "cell_type": "markdown",
   "metadata": {},
   "source": [
    "### Postprocess and export ET Blue"
   ]
  },
  {
   "cell_type": "code",
   "execution_count": 5,
   "metadata": {},
   "outputs": [
    {
     "data": {
      "text/html": [
       "\n",
       "            <style>\n",
       "                .geemap-dark {\n",
       "                    --jp-widgets-color: white;\n",
       "                    --jp-widgets-label-color: white;\n",
       "                    --jp-ui-font-color1: white;\n",
       "                    --jp-layout-color2: #454545;\n",
       "                    background-color: #383838;\n",
       "                }\n",
       "\n",
       "                .geemap-dark .jupyter-button {\n",
       "                    --jp-layout-color3: #383838;\n",
       "                }\n",
       "\n",
       "                .geemap-colab {\n",
       "                    background-color: var(--colab-primary-surface-color, white);\n",
       "                }\n",
       "\n",
       "                .geemap-colab .jupyter-button {\n",
       "                    --jp-layout-color3: var(--colab-primary-surface-color, white);\n",
       "                }\n",
       "            </style>\n",
       "            "
      ],
      "text/plain": [
       "<IPython.core.display.HTML object>"
      ]
     },
     "metadata": {},
     "output_type": "display_data"
    }
   ],
   "source": [
    "TIME_STEPS = 12\n",
    "TIME_STEP_TYPE = \"monthly\"\n",
    "YEARS = range(2022, 2023)"
   ]
  },
  {
   "cell_type": "code",
   "execution_count": 6,
   "metadata": {},
   "outputs": [
    {
     "data": {
      "text/html": [
       "\n",
       "            <style>\n",
       "                .geemap-dark {\n",
       "                    --jp-widgets-color: white;\n",
       "                    --jp-widgets-label-color: white;\n",
       "                    --jp-ui-font-color1: white;\n",
       "                    --jp-layout-color2: #454545;\n",
       "                    background-color: #383838;\n",
       "                }\n",
       "\n",
       "                .geemap-dark .jupyter-button {\n",
       "                    --jp-layout-color3: #383838;\n",
       "                }\n",
       "\n",
       "                .geemap-colab {\n",
       "                    background-color: var(--colab-primary-surface-color, white);\n",
       "                }\n",
       "\n",
       "                .geemap-colab .jupyter-button {\n",
       "                    --jp-layout-color3: var(--colab-primary-surface-color, white);\n",
       "                }\n",
       "            </style>\n",
       "            "
      ],
      "text/plain": [
       "<IPython.core.display.HTML object>"
      ]
     },
     "metadata": {},
     "output_type": "display_data"
    }
   ],
   "source": [
    "PATH_TO_AOI = \"projects/thurgau-irrigation/assets/Thurgau/thrugau_borders_2024\"\n",
    "\n",
    "aoi_feature_collection = ee.FeatureCollection(PATH_TO_AOI)\n",
    "aoi_geometry = aoi_feature_collection.geometry().simplify(500)\n",
    "\n",
    "AOI = aoi_geometry.buffer(100)"
   ]
  },
  {
   "cell_type": "code",
   "execution_count": 7,
   "metadata": {},
   "outputs": [
    {
     "data": {
      "text/html": [
       "\n",
       "            <style>\n",
       "                .geemap-dark {\n",
       "                    --jp-widgets-color: white;\n",
       "                    --jp-widgets-label-color: white;\n",
       "                    --jp-ui-font-color1: white;\n",
       "                    --jp-layout-color2: #454545;\n",
       "                    background-color: #383838;\n",
       "                }\n",
       "\n",
       "                .geemap-dark .jupyter-button {\n",
       "                    --jp-layout-color3: #383838;\n",
       "                }\n",
       "\n",
       "                .geemap-colab {\n",
       "                    background-color: var(--colab-primary-surface-color, white);\n",
       "                }\n",
       "\n",
       "                .geemap-colab .jupyter-button {\n",
       "                    --jp-layout-color3: var(--colab-primary-surface-color, white);\n",
       "                }\n",
       "            </style>\n",
       "            "
      ],
      "text/plain": [
       "<IPython.core.display.HTML object>"
      ]
     },
     "metadata": {},
     "output_type": "display_data"
    },
    {
     "name": "stdout",
     "output_type": "stream",
     "text": [
      "Dates of images in the collection:\n",
      "2022-01-01\n",
      "2022-02-01\n",
      "2022-03-01\n",
      "2022-04-01\n",
      "2022-05-01\n",
      "2022-06-01\n",
      "2022-07-01\n",
      "2022-08-01\n",
      "2022-09-01\n",
      "2022-10-01\n",
      "2022-11-01\n",
      "2022-12-01\n",
      "Image 1: Min = -134.19, Max = 103.74\n",
      "Image 2: Min = -24.75, Max = 35.90\n",
      "Image 3: Min = -32.46, Max = 42.81\n",
      "Image 4: Min = -55.35, Max = 44.48\n",
      "Image 5: Min = -82.84, Max = 83.59\n",
      "Image 6: Min = -103.69, Max = 86.83\n",
      "Image 7: Min = -116.75, Max = 93.93\n",
      "Image 8: Min = -81.88, Max = 73.52\n",
      "Image 9: Min = -69.11, Max = 121.69\n",
      "Image 10: Min = -116.12, Max = 714.27\n",
      "Image 11: Min = 0.00, Max = 0.00\n",
      "Image 12: Min = 0.00, Max = 0.00\n"
     ]
    }
   ],
   "source": [
    "ET_BLUE_RAW_COLLECTION = ee.ImageCollection(\n",
    "    \"projects/thurgau-irrigation/assets/Thurgau/ET_blue_raw_landsat_10m_monthly_TG_2022\"\n",
    ").map(lambda img: back_to_float(img, 100))\n",
    "\n",
    "\n",
    "date_utils.print_collection_dates(ET_BLUE_RAW_COLLECTION)\n",
    "ee_utils.print_value_ranges(ET_BLUE_RAW_COLLECTION, \"ET_blue\")"
   ]
  },
  {
   "cell_type": "code",
   "execution_count": 8,
   "metadata": {},
   "outputs": [
    {
     "data": {
      "text/html": [
       "\n",
       "            <style>\n",
       "                .geemap-dark {\n",
       "                    --jp-widgets-color: white;\n",
       "                    --jp-widgets-label-color: white;\n",
       "                    --jp-ui-font-color1: white;\n",
       "                    --jp-layout-color2: #454545;\n",
       "                    background-color: #383838;\n",
       "                }\n",
       "\n",
       "                .geemap-dark .jupyter-button {\n",
       "                    --jp-layout-color3: #383838;\n",
       "                }\n",
       "\n",
       "                .geemap-colab {\n",
       "                    background-color: var(--colab-primary-surface-color, white);\n",
       "                }\n",
       "\n",
       "                .geemap-colab .jupyter-button {\n",
       "                    --jp-layout-color3: var(--colab-primary-surface-color, white);\n",
       "                }\n",
       "            </style>\n",
       "            "
      ],
      "text/plain": [
       "<IPython.core.display.HTML object>"
      ]
     },
     "metadata": {},
     "output_type": "display_data"
    },
    {
     "name": "stdout",
     "output_type": "stream",
     "text": [
      "Dates of images in the collection:\n",
      "2022-01-01\n",
      "2022-02-01\n",
      "2022-03-01\n",
      "2022-04-01\n",
      "2022-05-01\n",
      "2022-06-01\n",
      "2022-07-01\n",
      "2022-08-01\n",
      "2022-09-01\n",
      "2022-10-01\n",
      "2022-11-01\n",
      "2022-12-01\n",
      "Image 1: Min = 1.21, Max = 9.82\n",
      "Image 2: Min = 10.53, Max = 32.27\n",
      "Image 3: Min = 15.01, Max = 35.42\n",
      "Image 4: Min = 39.07, Max = 64.96\n",
      "Image 5: Min = 63.88, Max = 87.98\n",
      "Image 6: Min = 81.91, Max = 117.42\n",
      "Image 7: Min = 83.25, Max = 130.31\n",
      "Image 8: Min = 55.71, Max = 104.72\n",
      "Image 9: Min = 53.66, Max = 88.13\n",
      "Image 10: Min = -0.30, Max = 42.72\n",
      "Image 11: Min = 0.00, Max = 0.00\n",
      "Image 12: Min = 0.00, Max = 0.00\n"
     ]
    }
   ],
   "source": [
    "ET_GREEN_COLLECTION = ee.ImageCollection(\n",
    "    \"projects/thurgau-irrigation/assets/Thurgau/ET_green_landsat_10m_jurisdiction_monthly_TG_2022\"\n",
    ").map(lambda img: back_to_float(img, 100))\n",
    "\n",
    "date_utils.print_collection_dates(ET_GREEN_COLLECTION)\n",
    "ee_utils.print_value_ranges(ET_GREEN_COLLECTION, \"ET_green\")"
   ]
  },
  {
   "cell_type": "code",
   "execution_count": 9,
   "metadata": {},
   "outputs": [
    {
     "data": {
      "text/html": [
       "\n",
       "            <style>\n",
       "                .geemap-dark {\n",
       "                    --jp-widgets-color: white;\n",
       "                    --jp-widgets-label-color: white;\n",
       "                    --jp-ui-font-color1: white;\n",
       "                    --jp-layout-color2: #454545;\n",
       "                    background-color: #383838;\n",
       "                }\n",
       "\n",
       "                .geemap-dark .jupyter-button {\n",
       "                    --jp-layout-color3: #383838;\n",
       "                }\n",
       "\n",
       "                .geemap-colab {\n",
       "                    background-color: var(--colab-primary-surface-color, white);\n",
       "                }\n",
       "\n",
       "                .geemap-colab .jupyter-button {\n",
       "                    --jp-layout-color3: var(--colab-primary-surface-color, white);\n",
       "                }\n",
       "            </style>\n",
       "            "
      ],
      "text/plain": [
       "<IPython.core.display.HTML object>"
      ]
     },
     "metadata": {},
     "output_type": "display_data"
    }
   ],
   "source": [
    "def process_and_export_et_blue_postprocessed(\n",
    "    et_blue_raw_list: ee.List,\n",
    "    et_green_list: ee.List,\n",
    "    year: int,\n",
    "    aoi: ee.Geometry,\n",
    "    time_steps: int = 36,\n",
    "    time_step_type: str = \"dekadal\",\n",
    ") -> List[ee.batch.Task]:\n",
    "    \"\"\"\n",
    "    Process and export post-processed ET blue images for a given year.\n",
    "\n",
    "    Args:\n",
    "        et_blue_raw_list (ee.List): List of raw ET blue images\n",
    "        et_green_list (ee.List): List of ET green images\n",
    "        year (int): Year to process\n",
    "        year_index (int): Index of the year (e.g., 2022 would be 4 if starting from 2018)\n",
    "        aoi (ee.Geometry): Area of interest to process\n",
    "        time_steps (int): Number of time steps (default 36 for dekadal)\n",
    "        time_step_type (str): Type of time step (\"monthly\" or \"dekadal\")\n",
    "\n",
    "    Returns:\n",
    "        List[ee.batch.Task]: List of export tasks\n",
    "\n",
    "    Raises:\n",
    "        ValueError: If time_steps is not 12 or 36, or if time_step_type is invalid\n",
    "    \"\"\"\n",
    "    if time_steps not in [12, 36]:\n",
    "        raise ValueError(\"time_steps must be either 12 or 36\")\n",
    "\n",
    "    if time_step_type not in [\"monthly\", \"dekadal\"]:\n",
    "        raise ValueError(\"time_step_type must be either 'monthly' or 'dekadal'\")\n",
    "\n",
    "    tasks = []\n",
    "    et_blue_previous = None\n",
    "\n",
    "    for i in range(time_steps):\n",
    "        # Get current images\n",
    "        et_green = ee.Image(et_green_list.get(i))\n",
    "        et_blue_present = ee.Image(et_blue_raw_list.get(i))\n",
    "\n",
    "        # Initialize previous for first iteration\n",
    "        if et_blue_previous is None:\n",
    "            et_blue_previous = et_blue_present\n",
    "\n",
    "        # Process ET blue\n",
    "        et_blue = _process_et_blue_image(\n",
    "            et_blue_present=et_blue_present,\n",
    "            et_blue_previous=et_blue_previous,\n",
    "            et_green=et_green,\n",
    "        )\n",
    "\n",
    "        # Store current processed image for next iteration\n",
    "        et_blue_previous = et_blue.select(\"ET_blue\")\n",
    "\n",
    "        # Generate time step name based on type\n",
    "        time_step_name = _get_time_step_name(i, time_step_type)\n",
    "\n",
    "        # Generate export task\n",
    "        task = _create_export_task(\n",
    "            et_blue=et_blue,\n",
    "            year=year,\n",
    "            time_step_name=time_step_name,\n",
    "            time_step_type=time_step_type,\n",
    "            aoi=aoi,\n",
    "        )\n",
    "\n",
    "        tasks.append(task)\n",
    "\n",
    "    return tasks\n",
    "\n",
    "\n",
    "def _process_et_blue_image(\n",
    "    et_blue_present: ee.Image,\n",
    "    et_blue_previous: ee.Image,\n",
    "    et_green: ee.Image,\n",
    ") -> ee.Image:\n",
    "    \"\"\"\n",
    "    Process a single ET blue image with temporal post-processing.\n",
    "\n",
    "    Args:\n",
    "        et_blue_present (ee.Image): Current ET blue image\n",
    "        et_blue_previous (ee.Image): Previous ET blue image\n",
    "        et_green (ee.Image): Current ET green image\n",
    "\n",
    "    Returns:\n",
    "        ee.Image: Processed ET blue image with volumetric band\n",
    "    \"\"\"\n",
    "    # Calculate threshold from ET green\n",
    "    threshold = calculate_band_std_dev(et_green, \"ET_green\")\n",
    "\n",
    "    # Post process using the previous processed image\n",
    "    et_blue = postprocess_et_blue(et_blue_present, et_blue_previous, threshold)\n",
    "\n",
    "    # Compute and add volumetric band\n",
    "    et_blue_m3 = compute_volumetric_et_blue(et_blue)\n",
    "    et_blue = et_blue.addBands(et_blue_m3)\n",
    "\n",
    "    # Convert to int for storage\n",
    "    return back_to_int(et_blue, 100)\n",
    "\n",
    "\n",
    "def _get_time_step_name(index: int, time_step_type: str) -> str:\n",
    "    \"\"\"\n",
    "    Generate the time step name based on index and type.\n",
    "\n",
    "    Args:\n",
    "        index (int): Current time step index\n",
    "        time_step_type (str): Type of time step (\"monthly\" or \"dekadal\")\n",
    "\n",
    "    Returns:\n",
    "        str: Formatted time step name\n",
    "    \"\"\"\n",
    "    if time_step_type == \"dekadal\":\n",
    "        month = index // 3 + 1\n",
    "        dekad = index % 3 + 1\n",
    "        return f\"{month:02d}_D{dekad}\"\n",
    "    else:  # monthly\n",
    "        month = index + 1\n",
    "        return f\"{month:02d}\"\n",
    "\n",
    "\n",
    "def _create_export_task(\n",
    "    et_blue: ee.Image,\n",
    "    year: int,\n",
    "    time_step_name: str,\n",
    "    time_step_type: str,\n",
    "    aoi: ee.Geometry,\n",
    ") -> ee.batch.Task:\n",
    "    \"\"\"\n",
    "    Create an export task for a post-processed ET blue image.\n",
    "\n",
    "    Args:\n",
    "        et_blue (ee.Image): ET blue image to export\n",
    "        year (int): Processing year\n",
    "        time_step_name (str): Formatted time step name\n",
    "        time_step_type (str): Type of time step\n",
    "        aoi (ee.Geometry): Area of interest\n",
    "\n",
    "    Returns:\n",
    "        ee.batch.Task: Export task\n",
    "    \"\"\"\n",
    "    task_name = f\"ET_blue_postprocessed_landsat_10m_TG_{year}-{time_step_name}\"\n",
    "\n",
    "    asset_id = f\"projects/thurgau-irrigation/assets/Thurgau/ET_blue_postprocessed_landsat_10m_monthly_TG_2022/{task_name}\"\n",
    "\n",
    "    return export_image_to_asset(\n",
    "        image=et_blue,\n",
    "        asset_id=asset_id,\n",
    "        task_name=task_name,\n",
    "        year=year,\n",
    "        aoi=aoi,\n",
    "        scale=10,\n",
    "    )"
   ]
  },
  {
   "cell_type": "code",
   "execution_count": 10,
   "metadata": {},
   "outputs": [
    {
     "data": {
      "text/html": [
       "\n",
       "            <style>\n",
       "                .geemap-dark {\n",
       "                    --jp-widgets-color: white;\n",
       "                    --jp-widgets-label-color: white;\n",
       "                    --jp-ui-font-color1: white;\n",
       "                    --jp-layout-color2: #454545;\n",
       "                    background-color: #383838;\n",
       "                }\n",
       "\n",
       "                .geemap-dark .jupyter-button {\n",
       "                    --jp-layout-color3: #383838;\n",
       "                }\n",
       "\n",
       "                .geemap-colab {\n",
       "                    background-color: var(--colab-primary-surface-color, white);\n",
       "                }\n",
       "\n",
       "                .geemap-colab .jupyter-button {\n",
       "                    --jp-layout-color3: var(--colab-primary-surface-color, white);\n",
       "                }\n",
       "            </style>\n",
       "            "
      ],
      "text/plain": [
       "<IPython.core.display.HTML object>"
      ]
     },
     "metadata": {},
     "output_type": "display_data"
    },
    {
     "name": "stdout",
     "output_type": "stream",
     "text": [
      "Exporting ET_blue_postprocessed_landsat_10m_TG_2022-01 for 2022 to projects/thurgau-irrigation/assets/Thurgau/ET_blue_postprocessed_landsat_10m_monthly_TG_2022/ET_blue_postprocessed_landsat_10m_TG_2022-01\n",
      "Using projection EPSG:4326 at 10m resolution\n",
      "Exporting ET_blue_postprocessed_landsat_10m_TG_2022-02 for 2022 to projects/thurgau-irrigation/assets/Thurgau/ET_blue_postprocessed_landsat_10m_monthly_TG_2022/ET_blue_postprocessed_landsat_10m_TG_2022-02\n",
      "Using projection EPSG:4326 at 10m resolution\n",
      "Exporting ET_blue_postprocessed_landsat_10m_TG_2022-03 for 2022 to projects/thurgau-irrigation/assets/Thurgau/ET_blue_postprocessed_landsat_10m_monthly_TG_2022/ET_blue_postprocessed_landsat_10m_TG_2022-03\n",
      "Using projection EPSG:4326 at 10m resolution\n",
      "Exporting ET_blue_postprocessed_landsat_10m_TG_2022-04 for 2022 to projects/thurgau-irrigation/assets/Thurgau/ET_blue_postprocessed_landsat_10m_monthly_TG_2022/ET_blue_postprocessed_landsat_10m_TG_2022-04\n",
      "Using projection EPSG:4326 at 10m resolution\n",
      "Exporting ET_blue_postprocessed_landsat_10m_TG_2022-05 for 2022 to projects/thurgau-irrigation/assets/Thurgau/ET_blue_postprocessed_landsat_10m_monthly_TG_2022/ET_blue_postprocessed_landsat_10m_TG_2022-05\n",
      "Using projection EPSG:4326 at 10m resolution\n",
      "Exporting ET_blue_postprocessed_landsat_10m_TG_2022-06 for 2022 to projects/thurgau-irrigation/assets/Thurgau/ET_blue_postprocessed_landsat_10m_monthly_TG_2022/ET_blue_postprocessed_landsat_10m_TG_2022-06\n",
      "Using projection EPSG:4326 at 10m resolution\n",
      "Exporting ET_blue_postprocessed_landsat_10m_TG_2022-07 for 2022 to projects/thurgau-irrigation/assets/Thurgau/ET_blue_postprocessed_landsat_10m_monthly_TG_2022/ET_blue_postprocessed_landsat_10m_TG_2022-07\n",
      "Using projection EPSG:4326 at 10m resolution\n",
      "Exporting ET_blue_postprocessed_landsat_10m_TG_2022-08 for 2022 to projects/thurgau-irrigation/assets/Thurgau/ET_blue_postprocessed_landsat_10m_monthly_TG_2022/ET_blue_postprocessed_landsat_10m_TG_2022-08\n",
      "Using projection EPSG:4326 at 10m resolution\n",
      "Exporting ET_blue_postprocessed_landsat_10m_TG_2022-09 for 2022 to projects/thurgau-irrigation/assets/Thurgau/ET_blue_postprocessed_landsat_10m_monthly_TG_2022/ET_blue_postprocessed_landsat_10m_TG_2022-09\n",
      "Using projection EPSG:4326 at 10m resolution\n",
      "Exporting ET_blue_postprocessed_landsat_10m_TG_2022-10 for 2022 to projects/thurgau-irrigation/assets/Thurgau/ET_blue_postprocessed_landsat_10m_monthly_TG_2022/ET_blue_postprocessed_landsat_10m_TG_2022-10\n",
      "Using projection EPSG:4326 at 10m resolution\n",
      "Exporting ET_blue_postprocessed_landsat_10m_TG_2022-11 for 2022 to projects/thurgau-irrigation/assets/Thurgau/ET_blue_postprocessed_landsat_10m_monthly_TG_2022/ET_blue_postprocessed_landsat_10m_TG_2022-11\n",
      "Using projection EPSG:4326 at 10m resolution\n",
      "Exporting ET_blue_postprocessed_landsat_10m_TG_2022-12 for 2022 to projects/thurgau-irrigation/assets/Thurgau/ET_blue_postprocessed_landsat_10m_monthly_TG_2022/ET_blue_postprocessed_landsat_10m_TG_2022-12\n",
      "Using projection EPSG:4326 at 10m resolution\n",
      "Year 2022 processing complete. Started 12 tasks.\n",
      "Total tasks: 12\n"
     ]
    }
   ],
   "source": [
    "all_tasks = []\n",
    "\n",
    "for year in YEARS:\n",
    "\n",
    "    et_blue_raw_collection_list = ET_BLUE_RAW_COLLECTION.filterDate(\n",
    "        f\"{year}-01-01\", f\"{year}-12-31\"\n",
    "    ).toList(TIME_STEPS)\n",
    "\n",
    "    et_green_collection_list = ET_GREEN_COLLECTION.filterDate(\n",
    "        f\"{year}-01-01\", f\"{year}-12-31\"\n",
    "    ).toList(TIME_STEPS)\n",
    "\n",
    "    tasks = process_and_export_et_blue_postprocessed(\n",
    "        et_blue_raw_list=et_blue_raw_collection_list,\n",
    "        et_green_list=et_green_collection_list,\n",
    "        year=year,\n",
    "        aoi=AOI,\n",
    "        time_steps=TIME_STEPS,\n",
    "        time_step_type=TIME_STEP_TYPE,\n",
    "    )\n",
    "\n",
    "    print(f\"Year {year} processing complete. Started {len(tasks)} tasks.\")\n",
    "\n",
    "    all_tasks.extend(tasks)\n",
    "\n",
    "print(f\"Total tasks: {len(all_tasks)}\")"
   ]
  },
  {
   "cell_type": "markdown",
   "metadata": {},
   "source": [
    "### Sanity check"
   ]
  },
  {
   "cell_type": "code",
   "execution_count": 14,
   "metadata": {},
   "outputs": [
    {
     "data": {
      "text/html": [
       "\n",
       "            <style>\n",
       "                .geemap-dark {\n",
       "                    --jp-widgets-color: white;\n",
       "                    --jp-widgets-label-color: white;\n",
       "                    --jp-ui-font-color1: white;\n",
       "                    --jp-layout-color2: #454545;\n",
       "                    background-color: #383838;\n",
       "                }\n",
       "\n",
       "                .geemap-dark .jupyter-button {\n",
       "                    --jp-layout-color3: #383838;\n",
       "                }\n",
       "\n",
       "                .geemap-colab {\n",
       "                    background-color: var(--colab-primary-surface-color, white);\n",
       "                }\n",
       "\n",
       "                .geemap-colab .jupyter-button {\n",
       "                    --jp-layout-color3: var(--colab-primary-surface-color, white);\n",
       "                }\n",
       "            </style>\n",
       "            "
      ],
      "text/plain": [
       "<IPython.core.display.HTML object>"
      ]
     },
     "metadata": {},
     "output_type": "display_data"
    },
    {
     "name": "stdout",
     "output_type": "stream",
     "text": [
      "Dates of images in the collection:\n",
      "2022-01-01\n",
      "2022-02-01\n",
      "2022-03-01\n",
      "2022-04-01\n",
      "2022-05-01\n",
      "2022-06-01\n",
      "2022-07-01\n",
      "2022-08-01\n",
      "2022-09-01\n",
      "2022-10-01\n",
      "2022-11-01\n",
      "2022-12-01\n",
      "Image 1: Min = 0.00, Max = 103.73\n",
      "Image 2: Min = -24.71, Max = 35.90\n",
      "Image 3: Min = 0.00, Max = 42.81\n",
      "Image 4: Min = 0.00, Max = 44.47\n",
      "Image 5: Min = 0.00, Max = 83.58\n",
      "Image 6: Min = 0.00, Max = 86.83\n",
      "Image 7: Min = 0.00, Max = 93.92\n",
      "Image 8: Min = 0.00, Max = 73.51\n",
      "Image 9: Min = 0.00, Max = 121.69\n",
      "Image 10: Min = -41.49, Max = 714.27\n",
      "Image 11: Min = 0.00, Max = 0.00\n",
      "Image 12: Min = 0.00, Max = 0.00\n"
     ]
    }
   ],
   "source": [
    "et_blue_postprocessed = ee.ImageCollection(\n",
    "    \"projects/thurgau-irrigation/assets/Thurgau/ET_blue_postprocessed_landsat_10m_monthly_TG_2022\"\n",
    ").map(lambda img: back_to_float(img, 100))\n",
    "\n",
    "# et_blue_postprocessed2 = ee.ImageCollection(\n",
    "#     \"projects/thurgau-irrigation/assets/Zuerich/ET_blue_postprocessed_landsat_30m_monthly_ZH_2022\"\n",
    "# ).map(lambda img: back_to_float(img, 100))\n",
    "\n",
    "date_utils.print_collection_dates(et_blue_postprocessed)\n",
    "ee_utils.print_value_ranges(et_blue_postprocessed)"
   ]
  },
  {
   "cell_type": "code",
   "execution_count": 15,
   "metadata": {},
   "outputs": [
    {
     "data": {
      "text/html": [
       "\n",
       "            <style>\n",
       "                .geemap-dark {\n",
       "                    --jp-widgets-color: white;\n",
       "                    --jp-widgets-label-color: white;\n",
       "                    --jp-ui-font-color1: white;\n",
       "                    --jp-layout-color2: #454545;\n",
       "                    background-color: #383838;\n",
       "                }\n",
       "\n",
       "                .geemap-dark .jupyter-button {\n",
       "                    --jp-layout-color3: #383838;\n",
       "                }\n",
       "\n",
       "                .geemap-colab {\n",
       "                    background-color: var(--colab-primary-surface-color, white);\n",
       "                }\n",
       "\n",
       "                .geemap-colab .jupyter-button {\n",
       "                    --jp-layout-color3: var(--colab-primary-surface-color, white);\n",
       "                }\n",
       "            </style>\n",
       "            "
      ],
      "text/plain": [
       "<IPython.core.display.HTML object>"
      ]
     },
     "metadata": {},
     "output_type": "display_data"
    },
    {
     "data": {
      "text/plain": [
       "['ET_blue', 'ET_blue_m3']"
      ]
     },
     "execution_count": 15,
     "metadata": {},
     "output_type": "execute_result"
    }
   ],
   "source": [
    "et_blue_postprocessed.first().bandNames().getInfo()"
   ]
  },
  {
   "cell_type": "code",
   "execution_count": 16,
   "metadata": {},
   "outputs": [
    {
     "data": {
      "text/html": [
       "\n",
       "            <style>\n",
       "                .geemap-dark {\n",
       "                    --jp-widgets-color: white;\n",
       "                    --jp-widgets-label-color: white;\n",
       "                    --jp-ui-font-color1: white;\n",
       "                    --jp-layout-color2: #454545;\n",
       "                    background-color: #383838;\n",
       "                }\n",
       "\n",
       "                .geemap-dark .jupyter-button {\n",
       "                    --jp-layout-color3: #383838;\n",
       "                }\n",
       "\n",
       "                .geemap-colab {\n",
       "                    background-color: var(--colab-primary-surface-color, white);\n",
       "                }\n",
       "\n",
       "                .geemap-colab .jupyter-button {\n",
       "                    --jp-layout-color3: var(--colab-primary-surface-color, white);\n",
       "                }\n",
       "            </style>\n",
       "            "
      ],
      "text/plain": [
       "<IPython.core.display.HTML object>"
      ]
     },
     "metadata": {},
     "output_type": "display_data"
    },
    {
     "data": {
      "application/vnd.jupyter.widget-view+json": {
       "model_id": "91131dc4166e4c0eb925bcb602b3f14e",
       "version_major": 2,
       "version_minor": 0
      },
      "text/plain": [
       "Map(center=[47.56858787382066, 9.092720596553875], controls=(WidgetControl(options=['position', 'transparent_b…"
      ]
     },
     "execution_count": 16,
     "metadata": {},
     "output_type": "execute_result"
    }
   ],
   "source": [
    "Map = geemap.Map()\n",
    "\n",
    "et_blue_postprocessed_list = et_blue_postprocessed.toList(12)\n",
    "# et_blue_postprocessed2_list = et_blue_postprocessed2.toList(12)\n",
    "\n",
    "image = ee.Image(et_blue_postprocessed_list.get(7))\n",
    "# image2 = ee.Image(et_blue_postprocessed2_list.get(6))\n",
    "\n",
    "vis_params = {\n",
    "    \"bands\" : [\"ET_blue\"], \n",
    "    \"min\" : -10,\n",
    "    \"max\" : 50,\n",
    "    \"palette\" : [\"white\", \"blue\", \"lightblue\", \"green\", \"yellow\", \"orange\", \"red\"]\n",
    "}\n",
    "\n",
    "Map.center_object(AOI, 12)\n",
    "Map.addLayer(image, vis_params, \"ET blue postprocessed 10m\")\n",
    "# Map.addLayer(image2, vis_params, \"ET blue postprocessed 30m\")\n",
    "\n",
    "Map"
   ]
  },
  {
   "cell_type": "code",
   "execution_count": null,
   "metadata": {},
   "outputs": [],
   "source": []
  }
 ],
 "metadata": {
  "kernelspec": {
   "display_name": "geemap_env",
   "language": "python",
   "name": "python3"
  },
  "language_info": {
   "codemirror_mode": {
    "name": "ipython",
    "version": 3
   },
   "file_extension": ".py",
   "mimetype": "text/x-python",
   "name": "python",
   "nbconvert_exporter": "python",
   "pygments_lexer": "ipython3",
   "version": "3.11.10"
  }
 },
 "nbformat": 4,
 "nbformat_minor": 2
}
