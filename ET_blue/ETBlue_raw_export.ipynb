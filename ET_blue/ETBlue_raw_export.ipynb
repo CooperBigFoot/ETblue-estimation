{
 "cells": [
  {
   "cell_type": "code",
   "execution_count": 1,
   "metadata": {},
   "outputs": [],
   "source": [
    "import sys\n",
    "import os\n",
    "from pathlib import Path\n",
    "\n",
    "sys.path.append(os.path.abspath(os.path.join(\"..\")))"
   ]
  },
  {
   "cell_type": "code",
   "execution_count": 2,
   "metadata": {},
   "outputs": [],
   "source": [
    "sys.setrecursionlimit(5000)"
   ]
  },
  {
   "cell_type": "code",
   "execution_count": 3,
   "metadata": {},
   "outputs": [],
   "source": [
    "from compute_ET_blue import (\n",
    "    compute_et_blue,\n",
    "    compute_volumetric_et_blue,\n",
    "    postprocess_et_blue,\n",
    ")\n",
    "\n",
    "from utils import ee_utils, date_utils\n",
    "from utils.ee_utils import back_to_float, back_to_int, export_image_to_asset\n",
    "\n",
    "from typing import List, Tuple, Union\n",
    "\n",
    "import ee\n",
    "import geemap"
   ]
  },
  {
   "cell_type": "code",
   "execution_count": 4,
   "metadata": {},
   "outputs": [
    {
     "data": {
      "text/html": [
       "\n",
       "            <style>\n",
       "                .geemap-dark {\n",
       "                    --jp-widgets-color: white;\n",
       "                    --jp-widgets-label-color: white;\n",
       "                    --jp-ui-font-color1: white;\n",
       "                    --jp-layout-color2: #454545;\n",
       "                    background-color: #383838;\n",
       "                }\n",
       "\n",
       "                .geemap-dark .jupyter-button {\n",
       "                    --jp-layout-color3: #383838;\n",
       "                }\n",
       "\n",
       "                .geemap-colab {\n",
       "                    background-color: var(--colab-primary-surface-color, white);\n",
       "                }\n",
       "\n",
       "                .geemap-colab .jupyter-button {\n",
       "                    --jp-layout-color3: var(--colab-primary-surface-color, white);\n",
       "                }\n",
       "            </style>\n",
       "            "
      ],
      "text/plain": [
       "<IPython.core.display.HTML object>"
      ]
     },
     "metadata": {},
     "output_type": "display_data"
    }
   ],
   "source": [
    "ee.Initialize(project=\"thurgau-irrigation\")"
   ]
  },
  {
   "cell_type": "markdown",
   "metadata": {},
   "source": [
    "### Compute and export ET Blue raw (no postprocessing)"
   ]
  },
  {
   "cell_type": "code",
   "execution_count": 5,
   "metadata": {},
   "outputs": [
    {
     "data": {
      "text/html": [
       "\n",
       "            <style>\n",
       "                .geemap-dark {\n",
       "                    --jp-widgets-color: white;\n",
       "                    --jp-widgets-label-color: white;\n",
       "                    --jp-ui-font-color1: white;\n",
       "                    --jp-layout-color2: #454545;\n",
       "                    background-color: #383838;\n",
       "                }\n",
       "\n",
       "                .geemap-dark .jupyter-button {\n",
       "                    --jp-layout-color3: #383838;\n",
       "                }\n",
       "\n",
       "                .geemap-colab {\n",
       "                    background-color: var(--colab-primary-surface-color, white);\n",
       "                }\n",
       "\n",
       "                .geemap-colab .jupyter-button {\n",
       "                    --jp-layout-color3: var(--colab-primary-surface-color, white);\n",
       "                }\n",
       "            </style>\n",
       "            "
      ],
      "text/plain": [
       "<IPython.core.display.HTML object>"
      ]
     },
     "metadata": {},
     "output_type": "display_data"
    }
   ],
   "source": [
    "TIME_STEPS = 12\n",
    "TIME_STEP_TYPE = \"monthly\"\n",
    "YEARS = range(2018, 2023)"
   ]
  },
  {
   "cell_type": "code",
   "execution_count": 6,
   "metadata": {},
   "outputs": [
    {
     "data": {
      "text/html": [
       "\n",
       "            <style>\n",
       "                .geemap-dark {\n",
       "                    --jp-widgets-color: white;\n",
       "                    --jp-widgets-label-color: white;\n",
       "                    --jp-ui-font-color1: white;\n",
       "                    --jp-layout-color2: #454545;\n",
       "                    background-color: #383838;\n",
       "                }\n",
       "\n",
       "                .geemap-dark .jupyter-button {\n",
       "                    --jp-layout-color3: #383838;\n",
       "                }\n",
       "\n",
       "                .geemap-colab {\n",
       "                    background-color: var(--colab-primary-surface-color, white);\n",
       "                }\n",
       "\n",
       "                .geemap-colab .jupyter-button {\n",
       "                    --jp-layout-color3: var(--colab-primary-surface-color, white);\n",
       "                }\n",
       "            </style>\n",
       "            "
      ],
      "text/plain": [
       "<IPython.core.display.HTML object>"
      ]
     },
     "metadata": {},
     "output_type": "display_data"
    }
   ],
   "source": [
    "PATH_TO_AOI = \"projects/thurgau-irrigation/assets/Thurgau/thrugau_borders_2024\"\n",
    "\n",
    "aoi_feature_collection = ee.FeatureCollection(PATH_TO_AOI)\n",
    "aoi_geometry = aoi_feature_collection.geometry().simplify(500)\n",
    "\n",
    "AOI = aoi_geometry.buffer(100)"
   ]
  },
  {
   "cell_type": "code",
   "execution_count": 7,
   "metadata": {},
   "outputs": [
    {
     "data": {
      "text/html": [
       "\n",
       "            <style>\n",
       "                .geemap-dark {\n",
       "                    --jp-widgets-color: white;\n",
       "                    --jp-widgets-label-color: white;\n",
       "                    --jp-ui-font-color1: white;\n",
       "                    --jp-layout-color2: #454545;\n",
       "                    background-color: #383838;\n",
       "                }\n",
       "\n",
       "                .geemap-dark .jupyter-button {\n",
       "                    --jp-layout-color3: #383838;\n",
       "                }\n",
       "\n",
       "                .geemap-colab {\n",
       "                    background-color: var(--colab-primary-surface-color, white);\n",
       "                }\n",
       "\n",
       "                .geemap-colab .jupyter-button {\n",
       "                    --jp-layout-color3: var(--colab-primary-surface-color, white);\n",
       "                }\n",
       "            </style>\n",
       "            "
      ],
      "text/plain": [
       "<IPython.core.display.HTML object>"
      ]
     },
     "metadata": {},
     "output_type": "display_data"
    }
   ],
   "source": [
    "ET_GREEN_COLLECTION = ee.ImageCollection(\n",
    "    \"projects/thurgau-irrigation/assets/Thurgau/ET_green_landsat_30m_jurisdiction_TG_monthly_2018-2022\"\n",
    ").map(lambda img: back_to_float(img, 100))"
   ]
  },
  {
   "cell_type": "code",
   "execution_count": 8,
   "metadata": {},
   "outputs": [
    {
     "data": {
      "text/html": [
       "\n",
       "            <style>\n",
       "                .geemap-dark {\n",
       "                    --jp-widgets-color: white;\n",
       "                    --jp-widgets-label-color: white;\n",
       "                    --jp-ui-font-color1: white;\n",
       "                    --jp-layout-color2: #454545;\n",
       "                    background-color: #383838;\n",
       "                }\n",
       "\n",
       "                .geemap-dark .jupyter-button {\n",
       "                    --jp-layout-color3: #383838;\n",
       "                }\n",
       "\n",
       "                .geemap-colab {\n",
       "                    background-color: var(--colab-primary-surface-color, white);\n",
       "                }\n",
       "\n",
       "                .geemap-colab .jupyter-button {\n",
       "                    --jp-layout-color3: var(--colab-primary-surface-color, white);\n",
       "                }\n",
       "            </style>\n",
       "            "
      ],
      "text/plain": [
       "<IPython.core.display.HTML object>"
      ]
     },
     "metadata": {},
     "output_type": "display_data"
    }
   ],
   "source": [
    "# path_to_WaPOR_ET_asset = \"projects/thurgau-irrigation/assets/Thurgau/ET_WaPOR_10m_dekadal_test_refactor\"\n",
    "\n",
    "\n",
    "# WaPOR_ET_collections = ee_utils.merge_collections(\n",
    "#     years=YEARS, asset_name=path_to_WaPOR_ET_asset\n",
    "# )\n",
    "\n",
    "# ET_COLLECTION = ee.ImageCollection(\n",
    "#     \"projects/thurgau-irrigation/assets/Zuerich/ET_WaPOR_10m_dekadal_2022\"\n",
    "# ).map(lambda img: back_to_float(img, 100))\n",
    "\n",
    "ET_COLLECTION = ee.ImageCollection(\"projects/thurgau-irrigation/assets/Thurgau/Landsat_ET_gap_filled_2018-2022\").map(\n",
    "    lambda img: back_to_float(img, 100)\n",
    ")"
   ]
  },
  {
   "cell_type": "code",
   "execution_count": 9,
   "metadata": {},
   "outputs": [
    {
     "data": {
      "text/html": [
       "\n",
       "            <style>\n",
       "                .geemap-dark {\n",
       "                    --jp-widgets-color: white;\n",
       "                    --jp-widgets-label-color: white;\n",
       "                    --jp-ui-font-color1: white;\n",
       "                    --jp-layout-color2: #454545;\n",
       "                    background-color: #383838;\n",
       "                }\n",
       "\n",
       "                .geemap-dark .jupyter-button {\n",
       "                    --jp-layout-color3: #383838;\n",
       "                }\n",
       "\n",
       "                .geemap-colab {\n",
       "                    background-color: var(--colab-primary-surface-color, white);\n",
       "                }\n",
       "\n",
       "                .geemap-colab .jupyter-button {\n",
       "                    --jp-layout-color3: var(--colab-primary-surface-color, white);\n",
       "                }\n",
       "            </style>\n",
       "            "
      ],
      "text/plain": [
       "<IPython.core.display.HTML object>"
      ]
     },
     "metadata": {},
     "output_type": "display_data"
    }
   ],
   "source": [
    "def process_and_export_et_blue_raw(\n",
    "    wapor_et_list: ee.List,\n",
    "    et_green_list: ee.List,\n",
    "    year: int,\n",
    "    aoi: ee.Geometry,\n",
    "    time_steps: int = 12,\n",
    "    time_step_type: str = \"monthly\",\n",
    ") -> List[ee.batch.Task]:\n",
    "    \"\"\"\n",
    "    Process and export ET blue raw images for a given year.\n",
    "\n",
    "    Args:\n",
    "        wapor_et_list (ee.List): List of WaPOR ET images for the year\n",
    "        et_green_list (ee.List): List of ET green images for the year\n",
    "        year (int): Year to process\n",
    "        aoi (ee.Geometry): Area of interest to process\n",
    "        time_steps (int): Number of time steps (default 12 for monthly)\n",
    "        time_step_type (str): Type of time step (\"monthly\" or \"dekadal\")\n",
    "\n",
    "    Returns:\n",
    "        List[ee.batch.Task]: List of export tasks\n",
    "\n",
    "    Raises:\n",
    "        ValueError: If time_steps is not 12 or 36, or if time_step_type is invalid\n",
    "    \"\"\"\n",
    "    if time_steps not in [12, 36]:\n",
    "        raise ValueError(\"time_steps must be either 12 or 36\")\n",
    "\n",
    "    if time_step_type not in [\"monthly\", \"dekadal\"]:\n",
    "        raise ValueError(\"time_step_type must be either 'monthly' or 'dekadal'\")\n",
    "\n",
    "    tasks = []\n",
    "\n",
    "    for i in range(time_steps):\n",
    "        # Get the ET images for current time step\n",
    "        et_image = ee.Image(wapor_et_list.get(i))\n",
    "        et_green = ee.Image(et_green_list.get(i))\n",
    "\n",
    "        # Compute ET blue\n",
    "        et_blue = compute_et_blue(et_image, et_green)\n",
    "        et_blue = back_to_int(et_blue, 100)\n",
    "\n",
    "        # Generate time step name based on type\n",
    "        time_step_name = _get_time_step_name(i, time_step_type)\n",
    "\n",
    "        # Generate export task\n",
    "        task = _create_export_task(\n",
    "            et_blue=et_blue,\n",
    "            year=year,\n",
    "            time_step_name=time_step_name,\n",
    "            time_step_type=time_step_type,\n",
    "            aoi=aoi,\n",
    "        )\n",
    "\n",
    "        tasks.append(task)\n",
    "\n",
    "    return tasks\n",
    "\n",
    "\n",
    "def _get_time_step_name(index: int, time_step_type: str) -> str:\n",
    "    \"\"\"\n",
    "    Generate the time step name based on index and type.\n",
    "\n",
    "    Args:\n",
    "        index (int): Current time step index\n",
    "        time_step_type (str): Type of time step (\"monthly\" or \"dekadal\")\n",
    "\n",
    "    Returns:\n",
    "        str: Formatted time step name\n",
    "    \"\"\"\n",
    "    if time_step_type == \"dekadal\":\n",
    "        month = index // 3 + 1\n",
    "        dekad = index % 3 + 1\n",
    "        return f\"{month:02d}_D{dekad}\"\n",
    "    else:  # monthly\n",
    "        month = index + 1\n",
    "        return f\"{month:02d}\"\n",
    "\n",
    "\n",
    "def _create_export_task(\n",
    "    et_blue: ee.Image,\n",
    "    year: int,\n",
    "    time_step_name: str,\n",
    "    time_step_type: str,\n",
    "    aoi: ee.Geometry,\n",
    ") -> ee.batch.Task:\n",
    "    \"\"\"\n",
    "    Create an export task for an ET blue image.\n",
    "\n",
    "    Args:\n",
    "        et_blue (ee.Image): ET blue image to export\n",
    "        year (int): Processing year\n",
    "        time_step_name (str): Formatted time step name\n",
    "        time_step_type (str): Type of time step\n",
    "        aoi (ee.Geometry): Area of interest\n",
    "\n",
    "    Returns:\n",
    "        ee.batch.Task: Export task\n",
    "    \"\"\"\n",
    "    task_name = f\"ET_blue_raw_landsat_30m_TG_{year}-{time_step_name}\"\n",
    "\n",
    "    asset_id = f\"projects/thurgau-irrigation/assets/Thurgau/ET_blue_raw_landsat_30m_TG_{time_step_type}_2018-2022/{task_name}\"\n",
    "\n",
    "    return export_image_to_asset(\n",
    "        image=et_blue,\n",
    "        asset_id=asset_id,\n",
    "        task_name=task_name,\n",
    "        year=year,\n",
    "        aoi=aoi,\n",
    "        scale=30,\n",
    "    )"
   ]
  },
  {
   "cell_type": "code",
   "execution_count": 10,
   "metadata": {},
   "outputs": [
    {
     "data": {
      "text/html": [
       "\n",
       "            <style>\n",
       "                .geemap-dark {\n",
       "                    --jp-widgets-color: white;\n",
       "                    --jp-widgets-label-color: white;\n",
       "                    --jp-ui-font-color1: white;\n",
       "                    --jp-layout-color2: #454545;\n",
       "                    background-color: #383838;\n",
       "                }\n",
       "\n",
       "                .geemap-dark .jupyter-button {\n",
       "                    --jp-layout-color3: #383838;\n",
       "                }\n",
       "\n",
       "                .geemap-colab {\n",
       "                    background-color: var(--colab-primary-surface-color, white);\n",
       "                }\n",
       "\n",
       "                .geemap-colab .jupyter-button {\n",
       "                    --jp-layout-color3: var(--colab-primary-surface-color, white);\n",
       "                }\n",
       "            </style>\n",
       "            "
      ],
      "text/plain": [
       "<IPython.core.display.HTML object>"
      ]
     },
     "metadata": {},
     "output_type": "display_data"
    }
   ],
   "source": [
    "# all_tasks = []\n",
    "\n",
    "# for year in YEARS:\n",
    "\n",
    "#     et_list = ET_COLLECTION.filterDate(f\"{year}-01-01\", f\"{year}-12-31\").toList(\n",
    "#         TIME_STEPS\n",
    "#     )\n",
    "\n",
    "#     et_green_list = ET_GREEN_COLLECTION.filterDate(\n",
    "#         f\"{year}-01-01\", f\"{year}-12-31\"\n",
    "#     ).toList(TIME_STEPS)\n",
    "\n",
    "#     # Process and export\n",
    "#     tasks = process_and_export_et_blue_raw(\n",
    "#         wapor_et_list=et_list,\n",
    "#         et_green_list=et_green_list,\n",
    "#         year=year,\n",
    "#         aoi=AOI,\n",
    "#         time_steps=TIME_STEPS,\n",
    "#         time_step_type=TIME_STEP_TYPE,  # or \"dekadal\" as needed\n",
    "#     )\n",
    "\n",
    "#     print(f\"Year {year} processing complete. Started {len(tasks)} tasks.\")\n",
    "\n",
    "#     all_tasks.extend(tasks)\n",
    "\n",
    "# print(f\"Total tasks: {len(all_tasks)}\")"
   ]
  },
  {
   "cell_type": "markdown",
   "metadata": {},
   "source": [
    "### Sanity check"
   ]
  },
  {
   "cell_type": "code",
   "execution_count": 11,
   "metadata": {},
   "outputs": [
    {
     "data": {
      "text/html": [
       "\n",
       "            <style>\n",
       "                .geemap-dark {\n",
       "                    --jp-widgets-color: white;\n",
       "                    --jp-widgets-label-color: white;\n",
       "                    --jp-ui-font-color1: white;\n",
       "                    --jp-layout-color2: #454545;\n",
       "                    background-color: #383838;\n",
       "                }\n",
       "\n",
       "                .geemap-dark .jupyter-button {\n",
       "                    --jp-layout-color3: #383838;\n",
       "                }\n",
       "\n",
       "                .geemap-colab {\n",
       "                    background-color: var(--colab-primary-surface-color, white);\n",
       "                }\n",
       "\n",
       "                .geemap-colab .jupyter-button {\n",
       "                    --jp-layout-color3: var(--colab-primary-surface-color, white);\n",
       "                }\n",
       "            </style>\n",
       "            "
      ],
      "text/plain": [
       "<IPython.core.display.HTML object>"
      ]
     },
     "metadata": {},
     "output_type": "display_data"
    },
    {
     "name": "stdout",
     "output_type": "stream",
     "text": [
      "Dates of images in the collection:\n",
      "2018-01-01\n",
      "2018-02-01\n",
      "2018-03-01\n",
      "2018-04-01\n",
      "2018-05-01\n",
      "2018-06-01\n",
      "2018-07-01\n",
      "2018-08-01\n",
      "2018-09-01\n",
      "2018-10-01\n",
      "2018-11-01\n",
      "2018-12-01\n",
      "2019-01-01\n",
      "2019-02-01\n",
      "2019-03-01\n",
      "2019-04-01\n",
      "2019-05-01\n",
      "2019-06-01\n",
      "2019-07-01\n",
      "2019-08-01\n",
      "2019-09-01\n",
      "2019-10-01\n",
      "2019-11-01\n",
      "2019-12-01\n",
      "2020-01-01\n",
      "2020-02-01\n",
      "2020-03-01\n",
      "2020-04-01\n",
      "2020-05-01\n",
      "2020-06-01\n",
      "2020-07-01\n",
      "2020-08-01\n",
      "2020-09-01\n",
      "2020-10-01\n",
      "2020-11-01\n",
      "2020-12-01\n",
      "2021-01-01\n",
      "2021-02-01\n",
      "2021-03-01\n",
      "2021-04-01\n",
      "2021-05-01\n",
      "2021-06-01\n",
      "2021-07-01\n",
      "2021-08-01\n",
      "2021-09-01\n",
      "2021-10-01\n",
      "2021-11-01\n",
      "2021-12-01\n",
      "2022-01-01\n",
      "2022-02-01\n",
      "2022-03-01\n",
      "2022-04-01\n",
      "2022-05-01\n",
      "2022-06-01\n",
      "2022-07-01\n",
      "2022-08-01\n",
      "2022-09-01\n",
      "2022-10-01\n",
      "2022-11-01\n",
      "2022-12-01\n",
      "Image 1: Min = -19.44, Max = 22.25\n",
      "Image 2: Min = -22.13, Max = 22.70\n",
      "Image 3: Min = -39.49, Max = 31.20\n",
      "Image 4: Min = -69.39, Max = 39.36\n",
      "Image 5: Min = -97.40, Max = 48.14\n",
      "Image 6: Min = -114.46, Max = 53.99\n",
      "Image 7: Min = -116.93, Max = 54.28\n",
      "Image 8: Min = -103.35, Max = 49.57\n",
      "Image 9: Min = -78.44, Max = 40.92\n",
      "Image 10: Min = -41.40, Max = 31.74\n",
      "Image 11: Min = -27.70, Max = 22.20\n",
      "Image 12: Min = -20.81, Max = 16.56\n",
      "Image 13: Min = -14.70, Max = 16.97\n",
      "Image 14: Min = -18.61, Max = 17.00\n",
      "Image 15: Min = -39.01, Max = 25.11\n",
      "Image 16: Min = -68.91, Max = 36.82\n",
      "Image 17: Min = -96.97, Max = 48.56\n",
      "Image 18: Min = -114.11, Max = 54.54\n",
      "Image 19: Min = -116.70, Max = 54.55\n",
      "Image 20: Min = -103.22, Max = 47.66\n",
      "Image 21: Min = -78.37, Max = 38.80\n",
      "Image 22: Min = -47.42, Max = 29.80\n",
      "Image 23: Min = -22.90, Max = 19.99\n",
      "Image 24: Min = -17.43, Max = 13.34\n",
      "Image 25: Min = -13.71, Max = 12.86\n",
      "Image 26: Min = -16.64, Max = 12.38\n",
      "Image 27: Min = -39.43, Max = 22.15\n",
      "Image 28: Min = -69.34, Max = 36.08\n",
      "Image 29: Min = -97.19, Max = 48.45\n",
      "Image 30: Min = -113.97, Max = 54.71\n",
      "Image 31: Min = -116.11, Max = 54.89\n",
      "Image 32: Min = -102.23, Max = 48.08\n",
      "Image 33: Min = -77.15, Max = 37.58\n",
      "Image 34: Min = -46.21, Max = 27.44\n",
      "Image 35: Min = -21.73, Max = 17.54\n",
      "Image 36: Min = -18.86, Max = 10.72\n",
      "Image 37: Min = -15.27, Max = 12.05\n",
      "Image 38: Min = -17.01, Max = 15.39\n",
      "Image 39: Min = -39.40, Max = 21.99\n",
      "Image 40: Min = -69.56, Max = 35.71\n",
      "Image 41: Min = -97.71, Max = 47.79\n",
      "Image 42: Min = -114.73, Max = 53.81\n",
      "Image 43: Min = -116.97, Max = 53.63\n",
      "Image 44: Min = -103.09, Max = 46.55\n",
      "Image 45: Min = -77.85, Max = 35.59\n",
      "Image 46: Min = -46.64, Max = 25.89\n",
      "Image 47: Min = -23.38, Max = 15.91\n",
      "Image 48: Min = -20.69, Max = 14.80\n",
      "Image 49: Min = -17.07, Max = 18.88\n",
      "Image 50: Min = -20.80, Max = 21.98\n",
      "Image 51: Min = -39.35, Max = 25.37\n",
      "Image 52: Min = -70.00, Max = 33.59\n",
      "Image 53: Min = -98.78, Max = 45.21\n",
      "Image 54: Min = -116.37, Max = 51.73\n",
      "Image 55: Min = -119.02, Max = 51.59\n",
      "Image 56: Min = -105.20, Max = 44.37\n",
      "Image 57: Min = -79.71, Max = 33.63\n",
      "Image 58: Min = -47.99, Max = 24.30\n",
      "Image 59: Min = -25.25, Max = 17.96\n",
      "Image 60: Min = -22.53, Max = 21.58\n"
     ]
    }
   ],
   "source": [
    "et_blue_raw = ee.ImageCollection(\"projects/thurgau-irrigation/assets/Thurgau/ET_blue_raw_landsat_30m_TG_monthly_2018-2022\").map(lambda img: back_to_float(img, 100))\n",
    "\n",
    "date_utils.print_collection_dates(et_blue_raw)\n",
    "ee_utils.print_value_ranges(et_blue_raw)"
   ]
  },
  {
   "cell_type": "code",
   "execution_count": null,
   "metadata": {},
   "outputs": [],
   "source": []
  },
  {
   "cell_type": "code",
   "execution_count": 13,
   "metadata": {},
   "outputs": [
    {
     "data": {
      "text/html": [
       "\n",
       "            <style>\n",
       "                .geemap-dark {\n",
       "                    --jp-widgets-color: white;\n",
       "                    --jp-widgets-label-color: white;\n",
       "                    --jp-ui-font-color1: white;\n",
       "                    --jp-layout-color2: #454545;\n",
       "                    background-color: #383838;\n",
       "                }\n",
       "\n",
       "                .geemap-dark .jupyter-button {\n",
       "                    --jp-layout-color3: #383838;\n",
       "                }\n",
       "\n",
       "                .geemap-colab {\n",
       "                    background-color: var(--colab-primary-surface-color, white);\n",
       "                }\n",
       "\n",
       "                .geemap-colab .jupyter-button {\n",
       "                    --jp-layout-color3: var(--colab-primary-surface-color, white);\n",
       "                }\n",
       "            </style>\n",
       "            "
      ],
      "text/plain": [
       "<IPython.core.display.HTML object>"
      ]
     },
     "metadata": {},
     "output_type": "display_data"
    },
    {
     "data": {
      "application/vnd.jupyter.widget-view+json": {
       "model_id": "40093e88eca74a8b96d8eb2f64d16c33",
       "version_major": 2,
       "version_minor": 0
      },
      "text/plain": [
       "Map(center=[47.56858787382066, 9.092720596553875], controls=(WidgetControl(options=['position', 'transparent_b…"
      ]
     },
     "execution_count": 13,
     "metadata": {},
     "output_type": "execute_result"
    }
   ],
   "source": [
    "Map = geemap.Map()\n",
    "\n",
    "et_blue_raw_list = et_blue_raw.toList(36)\n",
    "\n",
    "image = ee.Image(et_blue_raw_list.get(20))\n",
    "\n",
    "vis_params = {\n",
    "    \"bands\" : [\"ET_blue\"], \n",
    "    \"min\" : 0,\n",
    "    \"max\" : 20,\n",
    "    \"palette\" : [\"blue\", \"lightblue\", \"green\", \"yellow\", \"orange\", \"red\"]\n",
    "}\n",
    "\n",
    "Map.center_object(AOI, 12)\n",
    "Map.addLayer(image, vis_params, \"ET blue raw\")\n",
    "\n",
    "Map"
   ]
  },
  {
   "cell_type": "code",
   "execution_count": null,
   "metadata": {},
   "outputs": [],
   "source": []
  }
 ],
 "metadata": {
  "kernelspec": {
   "display_name": "geemap_env",
   "language": "python",
   "name": "python3"
  },
  "language_info": {
   "codemirror_mode": {
    "name": "ipython",
    "version": 3
   },
   "file_extension": ".py",
   "mimetype": "text/x-python",
   "name": "python",
   "nbconvert_exporter": "python",
   "pygments_lexer": "ipython3",
   "version": "3.11.10"
  }
 },
 "nbformat": 4,
 "nbformat_minor": 2
}
