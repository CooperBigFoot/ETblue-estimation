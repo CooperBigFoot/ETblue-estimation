{
 "cells": [
  {
   "cell_type": "code",
   "execution_count": 1,
   "metadata": {},
   "outputs": [],
   "source": [
    "import sys\n",
    "import os\n",
    "from pathlib import Path\n",
    "\n",
    "sys.path.append(os.path.abspath(os.path.join(\"..\")))"
   ]
  },
  {
   "cell_type": "code",
   "execution_count": 2,
   "metadata": {},
   "outputs": [],
   "source": [
    "sys.setrecursionlimit(5000)"
   ]
  },
  {
   "cell_type": "code",
   "execution_count": 3,
   "metadata": {},
   "outputs": [],
   "source": [
    "from compute_ET_blue import (\n",
    "    compute_et_blue,\n",
    "    compute_volumetric_et_blue,\n",
    "    postprocess_et_blue,\n",
    ")\n",
    "\n",
    "from utils import ee_utils, date_utils\n",
    "from utils.ee_utils import back_to_float, back_to_int, export_image_to_asset\n",
    "\n",
    "from typing import List, Tuple, Union\n",
    "\n",
    "import ee\n",
    "import geemap"
   ]
  },
  {
   "cell_type": "code",
   "execution_count": 4,
   "metadata": {},
   "outputs": [
    {
     "data": {
      "text/html": [
       "\n",
       "            <style>\n",
       "                .geemap-dark {\n",
       "                    --jp-widgets-color: white;\n",
       "                    --jp-widgets-label-color: white;\n",
       "                    --jp-ui-font-color1: white;\n",
       "                    --jp-layout-color2: #454545;\n",
       "                    background-color: #383838;\n",
       "                }\n",
       "\n",
       "                .geemap-dark .jupyter-button {\n",
       "                    --jp-layout-color3: #383838;\n",
       "                }\n",
       "\n",
       "                .geemap-colab {\n",
       "                    background-color: var(--colab-primary-surface-color, white);\n",
       "                }\n",
       "\n",
       "                .geemap-colab .jupyter-button {\n",
       "                    --jp-layout-color3: var(--colab-primary-surface-color, white);\n",
       "                }\n",
       "            </style>\n",
       "            "
      ],
      "text/plain": [
       "<IPython.core.display.HTML object>"
      ]
     },
     "metadata": {},
     "output_type": "display_data"
    }
   ],
   "source": [
    "ee.Initialize(project=\"thurgau-irrigation\")"
   ]
  },
  {
   "cell_type": "markdown",
   "metadata": {},
   "source": [
    "### Compute and export ET Blue raw (no postprocessing)"
   ]
  },
  {
   "cell_type": "code",
   "execution_count": 5,
   "metadata": {},
   "outputs": [
    {
     "data": {
      "text/html": [
       "\n",
       "            <style>\n",
       "                .geemap-dark {\n",
       "                    --jp-widgets-color: white;\n",
       "                    --jp-widgets-label-color: white;\n",
       "                    --jp-ui-font-color1: white;\n",
       "                    --jp-layout-color2: #454545;\n",
       "                    background-color: #383838;\n",
       "                }\n",
       "\n",
       "                .geemap-dark .jupyter-button {\n",
       "                    --jp-layout-color3: #383838;\n",
       "                }\n",
       "\n",
       "                .geemap-colab {\n",
       "                    background-color: var(--colab-primary-surface-color, white);\n",
       "                }\n",
       "\n",
       "                .geemap-colab .jupyter-button {\n",
       "                    --jp-layout-color3: var(--colab-primary-surface-color, white);\n",
       "                }\n",
       "            </style>\n",
       "            "
      ],
      "text/plain": [
       "<IPython.core.display.HTML object>"
      ]
     },
     "metadata": {},
     "output_type": "display_data"
    }
   ],
   "source": [
    "TIME_STEPS = 12\n",
    "TIME_STEP_TYPE = \"monthly\"\n",
    "YEARS = range(2022, 2023)"
   ]
  },
  {
   "cell_type": "code",
   "execution_count": 6,
   "metadata": {},
   "outputs": [
    {
     "data": {
      "text/html": [
       "\n",
       "            <style>\n",
       "                .geemap-dark {\n",
       "                    --jp-widgets-color: white;\n",
       "                    --jp-widgets-label-color: white;\n",
       "                    --jp-ui-font-color1: white;\n",
       "                    --jp-layout-color2: #454545;\n",
       "                    background-color: #383838;\n",
       "                }\n",
       "\n",
       "                .geemap-dark .jupyter-button {\n",
       "                    --jp-layout-color3: #383838;\n",
       "                }\n",
       "\n",
       "                .geemap-colab {\n",
       "                    background-color: var(--colab-primary-surface-color, white);\n",
       "                }\n",
       "\n",
       "                .geemap-colab .jupyter-button {\n",
       "                    --jp-layout-color3: var(--colab-primary-surface-color, white);\n",
       "                }\n",
       "            </style>\n",
       "            "
      ],
      "text/plain": [
       "<IPython.core.display.HTML object>"
      ]
     },
     "metadata": {},
     "output_type": "display_data"
    }
   ],
   "source": [
    "PATH_TO_AOI = \"projects/thurgau-irrigation/assets/Zuerich/Zuerich_bound\"\n",
    "\n",
    "aoi_feature_collection = ee.FeatureCollection(PATH_TO_AOI)\n",
    "aoi_geometry = aoi_feature_collection.geometry().simplify(500)\n",
    "\n",
    "AOI = aoi_geometry.buffer(100)"
   ]
  },
  {
   "cell_type": "code",
   "execution_count": 7,
   "metadata": {},
   "outputs": [
    {
     "data": {
      "text/html": [
       "\n",
       "            <style>\n",
       "                .geemap-dark {\n",
       "                    --jp-widgets-color: white;\n",
       "                    --jp-widgets-label-color: white;\n",
       "                    --jp-ui-font-color1: white;\n",
       "                    --jp-layout-color2: #454545;\n",
       "                    background-color: #383838;\n",
       "                }\n",
       "\n",
       "                .geemap-dark .jupyter-button {\n",
       "                    --jp-layout-color3: #383838;\n",
       "                }\n",
       "\n",
       "                .geemap-colab {\n",
       "                    background-color: var(--colab-primary-surface-color, white);\n",
       "                }\n",
       "\n",
       "                .geemap-colab .jupyter-button {\n",
       "                    --jp-layout-color3: var(--colab-primary-surface-color, white);\n",
       "                }\n",
       "            </style>\n",
       "            "
      ],
      "text/plain": [
       "<IPython.core.display.HTML object>"
      ]
     },
     "metadata": {},
     "output_type": "display_data"
    },
    {
     "name": "stdout",
     "output_type": "stream",
     "text": [
      "Dates of images in the collection:\n",
      "2022-01-01\n",
      "2022-02-01\n",
      "2022-03-01\n",
      "2022-04-01\n",
      "2022-05-01\n",
      "2022-06-01\n",
      "2022-07-01\n",
      "2022-08-01\n",
      "2022-09-01\n",
      "2022-10-01\n",
      "2022-11-01\n",
      "2022-12-01\n",
      "Image 1: Min = 2.58, Max = 10.21\n",
      "Image 2: Min = 7.64, Max = 23.28\n",
      "Image 3: Min = 12.12, Max = 32.70\n",
      "Image 4: Min = 28.66, Max = 62.77\n",
      "Image 5: Min = 53.68, Max = 91.26\n",
      "Image 6: Min = 68.94, Max = 113.63\n",
      "Image 7: Min = 64.68, Max = 120.31\n",
      "Image 8: Min = 53.95, Max = 105.05\n",
      "Image 9: Min = 31.96, Max = 75.59\n",
      "Image 10: Min = 16.26, Max = 38.23\n",
      "Image 11: Min = 0.00, Max = 0.00\n",
      "Image 12: Min = 0.00, Max = 0.00\n"
     ]
    }
   ],
   "source": [
    "ET_GREEN_COLLECTION = ee.ImageCollection(\n",
    "    \"projects/thurgau-irrigation/assets/Zuerich/ET_green_landsat_30m_jurisdiction_monthly_ZH_2022\"\n",
    ").map(lambda img: back_to_float(img, 100))\n",
    "\n",
    "date_utils.print_collection_dates(ET_GREEN_COLLECTION)\n",
    "ee_utils.print_value_ranges(ET_GREEN_COLLECTION, \"ET_green\")"
   ]
  },
  {
   "cell_type": "code",
   "execution_count": 8,
   "metadata": {},
   "outputs": [
    {
     "data": {
      "text/html": [
       "\n",
       "            <style>\n",
       "                .geemap-dark {\n",
       "                    --jp-widgets-color: white;\n",
       "                    --jp-widgets-label-color: white;\n",
       "                    --jp-ui-font-color1: white;\n",
       "                    --jp-layout-color2: #454545;\n",
       "                    background-color: #383838;\n",
       "                }\n",
       "\n",
       "                .geemap-dark .jupyter-button {\n",
       "                    --jp-layout-color3: #383838;\n",
       "                }\n",
       "\n",
       "                .geemap-colab {\n",
       "                    background-color: var(--colab-primary-surface-color, white);\n",
       "                }\n",
       "\n",
       "                .geemap-colab .jupyter-button {\n",
       "                    --jp-layout-color3: var(--colab-primary-surface-color, white);\n",
       "                }\n",
       "            </style>\n",
       "            "
      ],
      "text/plain": [
       "<IPython.core.display.HTML object>"
      ]
     },
     "metadata": {},
     "output_type": "display_data"
    },
    {
     "name": "stdout",
     "output_type": "stream",
     "text": [
      "Dates of images in the collection:\n",
      "2022-01-01\n",
      "2022-02-01\n",
      "2022-03-01\n",
      "2022-04-01\n",
      "2022-05-01\n",
      "2022-06-01\n",
      "2022-07-01\n",
      "2022-08-01\n",
      "2022-09-01\n",
      "2022-10-01\n",
      "2022-11-01\n",
      "2022-12-01\n",
      "Image 1: Min = 0.00, Max = 21.00\n",
      "Image 2: Min = 0.00, Max = 55.00\n",
      "Image 3: Min = 0.00, Max = 101.00\n",
      "Image 4: Min = 0.00, Max = 111.00\n",
      "Image 5: Min = 0.00, Max = 139.00\n",
      "Image 6: Min = 0.00, Max = 174.00\n",
      "Image 7: Min = 0.00, Max = 180.00\n",
      "Image 8: Min = 0.00, Max = 180.00\n",
      "Image 9: Min = 0.00, Max = 158.00\n",
      "Image 10: Min = 0.00, Max = 53.00\n",
      "Image 11: Min = 0.00, Max = 0.00\n",
      "Image 12: Min = 0.00, Max = 9.00\n"
     ]
    }
   ],
   "source": [
    "# path_to_WaPOR_ET_asset = \"projects/thurgau-irrigation/assets/Thurgau/ET_WaPOR_10m_dekadal_test_refactor\"\n",
    "\n",
    "\n",
    "# WaPOR_ET_collections = ee_utils.merge_collections(\n",
    "#     years=YEARS, asset_name=path_to_WaPOR_ET_asset\n",
    "# )\n",
    "\n",
    "# ET_COLLECTION = ee.ImageCollection(\n",
    "#     \"projects/thurgau-irrigation/assets/Zuerich/ET_WaPOR_10m_dekadal_2022\"\n",
    "# ).map(lambda img: back_to_float(img, 100))\n",
    "\n",
    "ET_COLLECTION = ee.ImageCollection(\n",
    "    \"projects/thurgau-irrigation/assets/ETlandsatmonthly\"\n",
    ").filterDate(\"2022-01-01\", \"2022-12-31\")\n",
    "\n",
    "\n",
    "# Replace negative pixel values with 0 while retaining image properties\n",
    "def set_negative_to_zero(img):\n",
    "    return img.max(0).copyProperties(img, img.propertyNames())\n",
    "\n",
    "\n",
    "ET_COLLECTION = ET_COLLECTION.map(set_negative_to_zero)\n",
    "ET_COLLECTION = date_utils.set_to_first_of_month(ET_COLLECTION)\n",
    "\n",
    "\n",
    "date_utils.print_collection_dates(ET_COLLECTION)\n",
    "ee_utils.print_value_ranges(ET_COLLECTION, \"ET\")"
   ]
  },
  {
   "cell_type": "code",
   "execution_count": 9,
   "metadata": {},
   "outputs": [
    {
     "data": {
      "text/html": [
       "\n",
       "            <style>\n",
       "                .geemap-dark {\n",
       "                    --jp-widgets-color: white;\n",
       "                    --jp-widgets-label-color: white;\n",
       "                    --jp-ui-font-color1: white;\n",
       "                    --jp-layout-color2: #454545;\n",
       "                    background-color: #383838;\n",
       "                }\n",
       "\n",
       "                .geemap-dark .jupyter-button {\n",
       "                    --jp-layout-color3: #383838;\n",
       "                }\n",
       "\n",
       "                .geemap-colab {\n",
       "                    background-color: var(--colab-primary-surface-color, white);\n",
       "                }\n",
       "\n",
       "                .geemap-colab .jupyter-button {\n",
       "                    --jp-layout-color3: var(--colab-primary-surface-color, white);\n",
       "                }\n",
       "            </style>\n",
       "            "
      ],
      "text/plain": [
       "<IPython.core.display.HTML object>"
      ]
     },
     "metadata": {},
     "output_type": "display_data"
    }
   ],
   "source": [
    "def process_and_export_et_blue_raw(\n",
    "    wapor_et_list: ee.List,\n",
    "    et_green_list: ee.List,\n",
    "    year: int,\n",
    "    aoi: ee.Geometry,\n",
    "    time_steps: int = 12,\n",
    "    time_step_type: str = \"monthly\",\n",
    ") -> List[ee.batch.Task]:\n",
    "    \"\"\"\n",
    "    Process and export ET blue raw images for a given year.\n",
    "\n",
    "    Args:\n",
    "        wapor_et_list (ee.List): List of WaPOR ET images for the year\n",
    "        et_green_list (ee.List): List of ET green images for the year\n",
    "        year (int): Year to process\n",
    "        aoi (ee.Geometry): Area of interest to process\n",
    "        time_steps (int): Number of time steps (default 12 for monthly)\n",
    "        time_step_type (str): Type of time step (\"monthly\" or \"dekadal\")\n",
    "\n",
    "    Returns:\n",
    "        List[ee.batch.Task]: List of export tasks\n",
    "\n",
    "    Raises:\n",
    "        ValueError: If time_steps is not 12 or 36, or if time_step_type is invalid\n",
    "    \"\"\"\n",
    "    if time_steps not in [12, 36]:\n",
    "        raise ValueError(\"time_steps must be either 12 or 36\")\n",
    "\n",
    "    if time_step_type not in [\"monthly\", \"dekadal\"]:\n",
    "        raise ValueError(\"time_step_type must be either 'monthly' or 'dekadal'\")\n",
    "\n",
    "    tasks = []\n",
    "\n",
    "    for i in range(time_steps):\n",
    "        # Get the ET images for current time step\n",
    "        et_image = ee.Image(wapor_et_list.get(i))\n",
    "        et_green = ee.Image(et_green_list.get(i))\n",
    "\n",
    "        # Compute ET blue\n",
    "        et_blue = compute_et_blue(et_image, et_green)\n",
    "        et_blue = back_to_int(et_blue, 100)\n",
    "\n",
    "        # Generate time step name based on type\n",
    "        time_step_name = _get_time_step_name(i, time_step_type)\n",
    "\n",
    "        # Generate export task\n",
    "        task = _create_export_task(\n",
    "            et_blue=et_blue,\n",
    "            year=year,\n",
    "            time_step_name=time_step_name,\n",
    "            time_step_type=time_step_type,\n",
    "            aoi=aoi,\n",
    "        )\n",
    "\n",
    "        tasks.append(task)\n",
    "\n",
    "    return tasks\n",
    "\n",
    "\n",
    "def _get_time_step_name(index: int, time_step_type: str) -> str:\n",
    "    \"\"\"\n",
    "    Generate the time step name based on index and type.\n",
    "\n",
    "    Args:\n",
    "        index (int): Current time step index\n",
    "        time_step_type (str): Type of time step (\"monthly\" or \"dekadal\")\n",
    "\n",
    "    Returns:\n",
    "        str: Formatted time step name\n",
    "    \"\"\"\n",
    "    if time_step_type == \"dekadal\":\n",
    "        month = index // 3 + 1\n",
    "        dekad = index % 3 + 1\n",
    "        return f\"{month:02d}_D{dekad}\"\n",
    "    else:  # monthly\n",
    "        month = index + 1\n",
    "        return f\"{month:02d}\"\n",
    "\n",
    "\n",
    "def _create_export_task(\n",
    "    et_blue: ee.Image,\n",
    "    year: int,\n",
    "    time_step_name: str,\n",
    "    time_step_type: str,\n",
    "    aoi: ee.Geometry,\n",
    ") -> ee.batch.Task:\n",
    "    \"\"\"\n",
    "    Create an export task for an ET blue image.\n",
    "\n",
    "    Args:\n",
    "        et_blue (ee.Image): ET blue image to export\n",
    "        year (int): Processing year\n",
    "        time_step_name (str): Formatted time step name\n",
    "        time_step_type (str): Type of time step\n",
    "        aoi (ee.Geometry): Area of interest\n",
    "\n",
    "    Returns:\n",
    "        ee.batch.Task: Export task\n",
    "    \"\"\"\n",
    "    task_name = f\"ET_blue_raw_landsat_30m_ZH_{year}-{time_step_name}\"\n",
    "\n",
    "    asset_id = f\"projects/thurgau-irrigation/assets/Zuerich/ET_blue_raw_landsat_30m_{time_step_type}_ZH_2022/{task_name}\"\n",
    "\n",
    "    return export_image_to_asset(\n",
    "        image=et_blue,\n",
    "        asset_id=asset_id,\n",
    "        task_name=task_name,\n",
    "        year=year,\n",
    "        aoi=aoi,\n",
    "        scale=30,\n",
    "    )"
   ]
  },
  {
   "cell_type": "code",
   "execution_count": 10,
   "metadata": {},
   "outputs": [
    {
     "data": {
      "text/html": [
       "\n",
       "            <style>\n",
       "                .geemap-dark {\n",
       "                    --jp-widgets-color: white;\n",
       "                    --jp-widgets-label-color: white;\n",
       "                    --jp-ui-font-color1: white;\n",
       "                    --jp-layout-color2: #454545;\n",
       "                    background-color: #383838;\n",
       "                }\n",
       "\n",
       "                .geemap-dark .jupyter-button {\n",
       "                    --jp-layout-color3: #383838;\n",
       "                }\n",
       "\n",
       "                .geemap-colab {\n",
       "                    background-color: var(--colab-primary-surface-color, white);\n",
       "                }\n",
       "\n",
       "                .geemap-colab .jupyter-button {\n",
       "                    --jp-layout-color3: var(--colab-primary-surface-color, white);\n",
       "                }\n",
       "            </style>\n",
       "            "
      ],
      "text/plain": [
       "<IPython.core.display.HTML object>"
      ]
     },
     "metadata": {},
     "output_type": "display_data"
    },
    {
     "name": "stdout",
     "output_type": "stream",
     "text": [
      "Exporting ET_blue_raw_landsat_30m_ZH_2022-01 for 2022 to projects/thurgau-irrigation/assets/Zuerich/ET_blue_raw_landsat_30m_monthly_ZH_2022/ET_blue_raw_landsat_30m_ZH_2022-01\n",
      "Using projection EPSG:4326 at 30m resolution\n",
      "Exporting ET_blue_raw_landsat_30m_ZH_2022-02 for 2022 to projects/thurgau-irrigation/assets/Zuerich/ET_blue_raw_landsat_30m_monthly_ZH_2022/ET_blue_raw_landsat_30m_ZH_2022-02\n",
      "Using projection EPSG:4326 at 30m resolution\n",
      "Exporting ET_blue_raw_landsat_30m_ZH_2022-03 for 2022 to projects/thurgau-irrigation/assets/Zuerich/ET_blue_raw_landsat_30m_monthly_ZH_2022/ET_blue_raw_landsat_30m_ZH_2022-03\n",
      "Using projection EPSG:4326 at 30m resolution\n",
      "Exporting ET_blue_raw_landsat_30m_ZH_2022-04 for 2022 to projects/thurgau-irrigation/assets/Zuerich/ET_blue_raw_landsat_30m_monthly_ZH_2022/ET_blue_raw_landsat_30m_ZH_2022-04\n",
      "Using projection EPSG:4326 at 30m resolution\n",
      "Exporting ET_blue_raw_landsat_30m_ZH_2022-05 for 2022 to projects/thurgau-irrigation/assets/Zuerich/ET_blue_raw_landsat_30m_monthly_ZH_2022/ET_blue_raw_landsat_30m_ZH_2022-05\n",
      "Using projection EPSG:4326 at 30m resolution\n",
      "Exporting ET_blue_raw_landsat_30m_ZH_2022-06 for 2022 to projects/thurgau-irrigation/assets/Zuerich/ET_blue_raw_landsat_30m_monthly_ZH_2022/ET_blue_raw_landsat_30m_ZH_2022-06\n",
      "Using projection EPSG:4326 at 30m resolution\n",
      "Exporting ET_blue_raw_landsat_30m_ZH_2022-07 for 2022 to projects/thurgau-irrigation/assets/Zuerich/ET_blue_raw_landsat_30m_monthly_ZH_2022/ET_blue_raw_landsat_30m_ZH_2022-07\n",
      "Using projection EPSG:4326 at 30m resolution\n",
      "Exporting ET_blue_raw_landsat_30m_ZH_2022-08 for 2022 to projects/thurgau-irrigation/assets/Zuerich/ET_blue_raw_landsat_30m_monthly_ZH_2022/ET_blue_raw_landsat_30m_ZH_2022-08\n",
      "Using projection EPSG:4326 at 30m resolution\n",
      "Exporting ET_blue_raw_landsat_30m_ZH_2022-09 for 2022 to projects/thurgau-irrigation/assets/Zuerich/ET_blue_raw_landsat_30m_monthly_ZH_2022/ET_blue_raw_landsat_30m_ZH_2022-09\n",
      "Using projection EPSG:4326 at 30m resolution\n",
      "Exporting ET_blue_raw_landsat_30m_ZH_2022-10 for 2022 to projects/thurgau-irrigation/assets/Zuerich/ET_blue_raw_landsat_30m_monthly_ZH_2022/ET_blue_raw_landsat_30m_ZH_2022-10\n",
      "Using projection EPSG:4326 at 30m resolution\n",
      "Exporting ET_blue_raw_landsat_30m_ZH_2022-11 for 2022 to projects/thurgau-irrigation/assets/Zuerich/ET_blue_raw_landsat_30m_monthly_ZH_2022/ET_blue_raw_landsat_30m_ZH_2022-11\n",
      "Using projection EPSG:4326 at 30m resolution\n",
      "Exporting ET_blue_raw_landsat_30m_ZH_2022-12 for 2022 to projects/thurgau-irrigation/assets/Zuerich/ET_blue_raw_landsat_30m_monthly_ZH_2022/ET_blue_raw_landsat_30m_ZH_2022-12\n",
      "Using projection EPSG:4326 at 30m resolution\n",
      "Year 2022 processing complete. Started 12 tasks.\n",
      "Total tasks: 12\n"
     ]
    }
   ],
   "source": [
    "all_tasks = []\n",
    "\n",
    "for year in YEARS:\n",
    "\n",
    "    et_list = ET_COLLECTION.filterDate(f\"{year}-01-01\", f\"{year}-12-31\").toList(\n",
    "        TIME_STEPS\n",
    "    )\n",
    "\n",
    "    et_green_list = ET_GREEN_COLLECTION.filterDate(\n",
    "        f\"{year}-01-01\", f\"{year}-12-31\"\n",
    "    ).toList(TIME_STEPS)\n",
    "\n",
    "    # Process and export\n",
    "    tasks = process_and_export_et_blue_raw(\n",
    "        wapor_et_list=et_list,\n",
    "        et_green_list=et_green_list,\n",
    "        year=year,\n",
    "        aoi=AOI,\n",
    "        time_steps=TIME_STEPS,\n",
    "        time_step_type=TIME_STEP_TYPE,  # or \"dekadal\" as needed\n",
    "    )\n",
    "\n",
    "    print(f\"Year {year} processing complete. Started {len(tasks)} tasks.\")\n",
    "\n",
    "    all_tasks.extend(tasks)\n",
    "\n",
    "print(f\"Total tasks: {len(all_tasks)}\")"
   ]
  },
  {
   "cell_type": "markdown",
   "metadata": {},
   "source": [
    "### Sanity check"
   ]
  },
  {
   "cell_type": "code",
   "execution_count": 13,
   "metadata": {},
   "outputs": [
    {
     "data": {
      "text/html": [
       "\n",
       "            <style>\n",
       "                .geemap-dark {\n",
       "                    --jp-widgets-color: white;\n",
       "                    --jp-widgets-label-color: white;\n",
       "                    --jp-ui-font-color1: white;\n",
       "                    --jp-layout-color2: #454545;\n",
       "                    background-color: #383838;\n",
       "                }\n",
       "\n",
       "                .geemap-dark .jupyter-button {\n",
       "                    --jp-layout-color3: #383838;\n",
       "                }\n",
       "\n",
       "                .geemap-colab {\n",
       "                    background-color: var(--colab-primary-surface-color, white);\n",
       "                }\n",
       "\n",
       "                .geemap-colab .jupyter-button {\n",
       "                    --jp-layout-color3: var(--colab-primary-surface-color, white);\n",
       "                }\n",
       "            </style>\n",
       "            "
      ],
      "text/plain": [
       "<IPython.core.display.HTML object>"
      ]
     },
     "metadata": {},
     "output_type": "display_data"
    },
    {
     "name": "stdout",
     "output_type": "stream",
     "text": [
      "Dates of images in the collection:\n",
      "2022-01-01\n",
      "2022-02-01\n",
      "2022-03-01\n",
      "2022-04-01\n",
      "2022-05-01\n",
      "2022-06-01\n",
      "2022-07-01\n",
      "2022-08-01\n",
      "2022-09-01\n",
      "2022-10-01\n",
      "2022-11-01\n",
      "2022-12-01\n",
      "Image 1: Min = -10.00, Max = 5.43\n",
      "Image 2: Min = -19.28, Max = 36.15\n",
      "Image 3: Min = -22.09, Max = 63.08\n",
      "Image 4: Min = -46.35, Max = 39.22\n",
      "Image 5: Min = -69.63, Max = 48.17\n",
      "Image 6: Min = -90.35, Max = 54.70\n",
      "Image 7: Min = -106.04, Max = 69.31\n",
      "Image 8: Min = -85.13, Max = 68.08\n",
      "Image 9: Min = -67.56, Max = 61.58\n",
      "Image 10: Min = -38.22, Max = 24.74\n",
      "Image 11: Min = 0.00, Max = 0.00\n",
      "Image 12: Min = 0.00, Max = 0.00\n"
     ]
    }
   ],
   "source": [
    "et_blue_raw = ee.ImageCollection(\"projects/thurgau-irrigation/assets/Zuerich/ET_blue_raw_landsat_30m_monthly_ZH_2022\").map(lambda img: back_to_float(img, 100))\n",
    "\n",
    "date_utils.print_collection_dates(et_blue_raw)\n",
    "ee_utils.print_value_ranges(et_blue_raw)"
   ]
  },
  {
   "cell_type": "code",
   "execution_count": 14,
   "metadata": {},
   "outputs": [
    {
     "data": {
      "text/html": [
       "\n",
       "            <style>\n",
       "                .geemap-dark {\n",
       "                    --jp-widgets-color: white;\n",
       "                    --jp-widgets-label-color: white;\n",
       "                    --jp-ui-font-color1: white;\n",
       "                    --jp-layout-color2: #454545;\n",
       "                    background-color: #383838;\n",
       "                }\n",
       "\n",
       "                .geemap-dark .jupyter-button {\n",
       "                    --jp-layout-color3: #383838;\n",
       "                }\n",
       "\n",
       "                .geemap-colab {\n",
       "                    background-color: var(--colab-primary-surface-color, white);\n",
       "                }\n",
       "\n",
       "                .geemap-colab .jupyter-button {\n",
       "                    --jp-layout-color3: var(--colab-primary-surface-color, white);\n",
       "                }\n",
       "            </style>\n",
       "            "
      ],
      "text/plain": [
       "<IPython.core.display.HTML object>"
      ]
     },
     "metadata": {},
     "output_type": "display_data"
    },
    {
     "data": {
      "application/vnd.jupyter.widget-view+json": {
       "model_id": "1c1b7d557995430fb2c6a22adf57d98f",
       "version_major": 2,
       "version_minor": 0
      },
      "text/plain": [
       "Map(center=[47.41511720684401, 8.655992127451274], controls=(WidgetControl(options=['position', 'transparent_b…"
      ]
     },
     "execution_count": 14,
     "metadata": {},
     "output_type": "execute_result"
    }
   ],
   "source": [
    "Map = geemap.Map()\n",
    "\n",
    "et_blue_raw_list = et_blue_raw.toList(12)\n",
    "\n",
    "image = ee.Image(et_blue_raw_list.get(5))\n",
    "\n",
    "vis_params = {\n",
    "    \"bands\" : [\"ET_blue\"], \n",
    "    \"min\" : -50,\n",
    "    \"max\" : 50,\n",
    "    \"palette\" : [\"blue\", \"lightblue\", \"green\", \"yellow\", \"orange\", \"red\"]\n",
    "}\n",
    "\n",
    "Map.center_object(AOI, 12)\n",
    "Map.addLayer(image, vis_params, \"ET blue raw\")\n",
    "\n",
    "Map"
   ]
  },
  {
   "cell_type": "code",
   "execution_count": null,
   "metadata": {},
   "outputs": [],
   "source": []
  }
 ],
 "metadata": {
  "kernelspec": {
   "display_name": "geemap_env",
   "language": "python",
   "name": "python3"
  },
  "language_info": {
   "codemirror_mode": {
    "name": "ipython",
    "version": 3
   },
   "file_extension": ".py",
   "mimetype": "text/x-python",
   "name": "python",
   "nbconvert_exporter": "python",
   "pygments_lexer": "ipython3",
   "version": "3.11.10"
  }
 },
 "nbformat": 4,
 "nbformat_minor": 2
}
