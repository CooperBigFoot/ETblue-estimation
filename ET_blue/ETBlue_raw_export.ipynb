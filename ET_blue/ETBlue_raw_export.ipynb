{
 "cells": [
  {
   "cell_type": "code",
   "execution_count": 1,
   "metadata": {},
   "outputs": [],
   "source": [
    "import sys\n",
    "import os\n",
    "from pathlib import Path\n",
    "\n",
    "sys.path.append(os.path.abspath(os.path.join(\"..\")))"
   ]
  },
  {
   "cell_type": "code",
   "execution_count": 2,
   "metadata": {},
   "outputs": [],
   "source": [
    "sys.setrecursionlimit(5000)"
   ]
  },
  {
   "cell_type": "code",
   "execution_count": 3,
   "metadata": {},
   "outputs": [],
   "source": [
    "from compute_ET_blue import (\n",
    "    compute_et_blue,\n",
    "    compute_volumetric_et_blue,\n",
    "    postprocess_et_blue,\n",
    ")\n",
    "\n",
    "from utils import ee_utils, date_utils\n",
    "from utils.ee_utils import back_to_float, back_to_int, export_image_to_asset\n",
    "\n",
    "from typing import List, Tuple, Union\n",
    "\n",
    "import ee\n",
    "import geemap"
   ]
  },
  {
   "cell_type": "code",
   "execution_count": 4,
   "metadata": {},
   "outputs": [
    {
     "data": {
      "text/html": [
       "\n",
       "            <style>\n",
       "                .geemap-dark {\n",
       "                    --jp-widgets-color: white;\n",
       "                    --jp-widgets-label-color: white;\n",
       "                    --jp-ui-font-color1: white;\n",
       "                    --jp-layout-color2: #454545;\n",
       "                    background-color: #383838;\n",
       "                }\n",
       "\n",
       "                .geemap-dark .jupyter-button {\n",
       "                    --jp-layout-color3: #383838;\n",
       "                }\n",
       "\n",
       "                .geemap-colab {\n",
       "                    background-color: var(--colab-primary-surface-color, white);\n",
       "                }\n",
       "\n",
       "                .geemap-colab .jupyter-button {\n",
       "                    --jp-layout-color3: var(--colab-primary-surface-color, white);\n",
       "                }\n",
       "            </style>\n",
       "            "
      ],
      "text/plain": [
       "<IPython.core.display.HTML object>"
      ]
     },
     "metadata": {},
     "output_type": "display_data"
    }
   ],
   "source": [
    "ee.Initialize(project=\"thurgau-irrigation\")"
   ]
  },
  {
   "cell_type": "markdown",
   "metadata": {},
   "source": [
    "### Compute and export ET Blue raw (no postprocessing)"
   ]
  },
  {
   "cell_type": "code",
   "execution_count": 5,
   "metadata": {},
   "outputs": [
    {
     "data": {
      "text/html": [
       "\n",
       "            <style>\n",
       "                .geemap-dark {\n",
       "                    --jp-widgets-color: white;\n",
       "                    --jp-widgets-label-color: white;\n",
       "                    --jp-ui-font-color1: white;\n",
       "                    --jp-layout-color2: #454545;\n",
       "                    background-color: #383838;\n",
       "                }\n",
       "\n",
       "                .geemap-dark .jupyter-button {\n",
       "                    --jp-layout-color3: #383838;\n",
       "                }\n",
       "\n",
       "                .geemap-colab {\n",
       "                    background-color: var(--colab-primary-surface-color, white);\n",
       "                }\n",
       "\n",
       "                .geemap-colab .jupyter-button {\n",
       "                    --jp-layout-color3: var(--colab-primary-surface-color, white);\n",
       "                }\n",
       "            </style>\n",
       "            "
      ],
      "text/plain": [
       "<IPython.core.display.HTML object>"
      ]
     },
     "metadata": {},
     "output_type": "display_data"
    }
   ],
   "source": [
    "TIME_STEPS = 12\n",
    "TIME_STEP_TYPE = \"monthly\"\n",
    "YEARS = range(2022, 2023)"
   ]
  },
  {
   "cell_type": "code",
   "execution_count": 6,
   "metadata": {},
   "outputs": [
    {
     "data": {
      "text/html": [
       "\n",
       "            <style>\n",
       "                .geemap-dark {\n",
       "                    --jp-widgets-color: white;\n",
       "                    --jp-widgets-label-color: white;\n",
       "                    --jp-ui-font-color1: white;\n",
       "                    --jp-layout-color2: #454545;\n",
       "                    background-color: #383838;\n",
       "                }\n",
       "\n",
       "                .geemap-dark .jupyter-button {\n",
       "                    --jp-layout-color3: #383838;\n",
       "                }\n",
       "\n",
       "                .geemap-colab {\n",
       "                    background-color: var(--colab-primary-surface-color, white);\n",
       "                }\n",
       "\n",
       "                .geemap-colab .jupyter-button {\n",
       "                    --jp-layout-color3: var(--colab-primary-surface-color, white);\n",
       "                }\n",
       "            </style>\n",
       "            "
      ],
      "text/plain": [
       "<IPython.core.display.HTML object>"
      ]
     },
     "metadata": {},
     "output_type": "display_data"
    }
   ],
   "source": [
    "PATH_TO_AOI = \"projects/thurgau-irrigation/assets/Zuerich/Zuerich_bound\"\n",
    "\n",
    "aoi_feature_collection = ee.FeatureCollection(PATH_TO_AOI)\n",
    "aoi_geometry = aoi_feature_collection.geometry().simplify(500)\n",
    "\n",
    "AOI = aoi_geometry.buffer(100)"
   ]
  },
  {
   "cell_type": "code",
   "execution_count": 7,
   "metadata": {},
   "outputs": [
    {
     "data": {
      "text/html": [
       "\n",
       "            <style>\n",
       "                .geemap-dark {\n",
       "                    --jp-widgets-color: white;\n",
       "                    --jp-widgets-label-color: white;\n",
       "                    --jp-ui-font-color1: white;\n",
       "                    --jp-layout-color2: #454545;\n",
       "                    background-color: #383838;\n",
       "                }\n",
       "\n",
       "                .geemap-dark .jupyter-button {\n",
       "                    --jp-layout-color3: #383838;\n",
       "                }\n",
       "\n",
       "                .geemap-colab {\n",
       "                    background-color: var(--colab-primary-surface-color, white);\n",
       "                }\n",
       "\n",
       "                .geemap-colab .jupyter-button {\n",
       "                    --jp-layout-color3: var(--colab-primary-surface-color, white);\n",
       "                }\n",
       "            </style>\n",
       "            "
      ],
      "text/plain": [
       "<IPython.core.display.HTML object>"
      ]
     },
     "metadata": {},
     "output_type": "display_data"
    },
    {
     "name": "stdout",
     "output_type": "stream",
     "text": [
      "Dates of images in the collection:\n",
      "2022-01-01\n",
      "2022-02-01\n",
      "2022-03-01\n",
      "2022-04-01\n",
      "2022-05-01\n",
      "2022-06-01\n",
      "2022-07-01\n",
      "2022-08-01\n",
      "2022-09-01\n",
      "2022-10-01\n",
      "2022-11-01\n",
      "2022-12-01\n",
      "Image 1: Min = 0.12, Max = 6.36\n",
      "Image 2: Min = 5.25, Max = 17.26\n",
      "Image 3: Min = 19.77, Max = 41.51\n",
      "Image 4: Min = 38.16, Max = 71.45\n",
      "Image 5: Min = 56.09, Max = 99.88\n",
      "Image 6: Min = 67.75, Max = 116.75\n",
      "Image 7: Min = 70.63, Max = 118.48\n",
      "Image 8: Min = 63.42, Max = 103.79\n",
      "Image 9: Min = 46.55, Max = 77.76\n",
      "Image 10: Min = 25.74, Max = 45.91\n",
      "Image 11: Min = 8.36, Max = 21.10\n",
      "Image 12: Min = 0.15, Max = 8.22\n"
     ]
    }
   ],
   "source": [
    "ET_GREEN_COLLECTION = ee.ImageCollection(\n",
    "    \"projects/thurgau-irrigation/assets/Zuerich/ET_green_landsat_30m_jurisdiction_monthly_ZH_2022\"\n",
    ").map(lambda img: back_to_float(img, 100))\n",
    "\n",
    "date_utils.print_collection_dates(ET_GREEN_COLLECTION)\n",
    "ee_utils.print_value_ranges(ET_GREEN_COLLECTION, \"ET_green\")"
   ]
  },
  {
   "cell_type": "code",
   "execution_count": 10,
   "metadata": {},
   "outputs": [
    {
     "data": {
      "text/html": [
       "\n",
       "            <style>\n",
       "                .geemap-dark {\n",
       "                    --jp-widgets-color: white;\n",
       "                    --jp-widgets-label-color: white;\n",
       "                    --jp-ui-font-color1: white;\n",
       "                    --jp-layout-color2: #454545;\n",
       "                    background-color: #383838;\n",
       "                }\n",
       "\n",
       "                .geemap-dark .jupyter-button {\n",
       "                    --jp-layout-color3: #383838;\n",
       "                }\n",
       "\n",
       "                .geemap-colab {\n",
       "                    background-color: var(--colab-primary-surface-color, white);\n",
       "                }\n",
       "\n",
       "                .geemap-colab .jupyter-button {\n",
       "                    --jp-layout-color3: var(--colab-primary-surface-color, white);\n",
       "                }\n",
       "            </style>\n",
       "            "
      ],
      "text/plain": [
       "<IPython.core.display.HTML object>"
      ]
     },
     "metadata": {},
     "output_type": "display_data"
    },
    {
     "name": "stdout",
     "output_type": "stream",
     "text": [
      "Dates of images in the collection:\n",
      "2018-01-01\n",
      "2018-02-01\n",
      "2018-03-01\n",
      "2018-04-01\n",
      "2018-05-01\n",
      "2018-06-01\n",
      "2018-07-01\n",
      "2018-08-01\n",
      "2018-09-01\n",
      "2018-10-01\n",
      "2018-11-01\n",
      "2018-12-01\n",
      "2019-01-01\n",
      "2019-02-01\n",
      "2019-03-01\n",
      "2019-04-01\n",
      "2019-05-01\n",
      "2019-06-01\n",
      "2019-07-01\n",
      "2019-08-01\n",
      "2019-09-01\n",
      "2019-10-01\n",
      "2019-11-01\n",
      "2019-12-01\n",
      "2020-01-01\n",
      "2020-02-01\n",
      "2020-03-01\n",
      "2020-04-01\n",
      "2020-05-01\n",
      "2020-06-01\n",
      "2020-07-01\n",
      "2020-08-01\n",
      "2020-09-01\n",
      "2020-10-01\n",
      "2020-11-01\n",
      "2020-12-01\n",
      "2021-01-01\n",
      "2021-02-01\n",
      "2021-03-01\n",
      "2021-04-01\n",
      "2021-05-01\n",
      "2021-06-01\n",
      "2021-07-01\n",
      "2021-08-01\n",
      "2021-09-01\n",
      "2021-10-01\n",
      "2021-11-01\n",
      "2021-12-01\n",
      "2022-01-01\n",
      "2022-02-01\n",
      "2022-03-01\n",
      "2022-04-01\n",
      "2022-05-01\n",
      "2022-06-01\n",
      "2022-07-01\n",
      "2022-08-01\n",
      "2022-09-01\n",
      "2022-10-01\n",
      "2022-11-01\n",
      "2022-12-01\n",
      "Image 1: Min = 0.00, Max = 23.35\n",
      "Image 2: Min = 0.00, Max = 32.00\n",
      "Image 3: Min = 0.00, Max = 59.53\n",
      "Image 4: Min = 0.00, Max = 91.67\n",
      "Image 5: Min = 0.00, Max = 121.08\n",
      "Image 6: Min = 0.00, Max = 138.73\n",
      "Image 7: Min = 0.00, Max = 141.40\n",
      "Image 8: Min = 0.00, Max = 127.94\n",
      "Image 9: Min = 0.00, Max = 102.29\n",
      "Image 10: Min = 0.00, Max = 68.56\n",
      "Image 11: Min = 0.00, Max = 39.24\n",
      "Image 12: Min = 0.00, Max = 20.12\n",
      "Image 13: Min = 0.00, Max = 17.11\n",
      "Image 14: Min = 0.00, Max = 28.31\n",
      "Image 15: Min = 0.00, Max = 55.86\n",
      "Image 16: Min = 0.00, Max = 89.48\n",
      "Image 17: Min = 0.00, Max = 119.90\n",
      "Image 18: Min = 0.00, Max = 137.09\n",
      "Image 19: Min = 0.00, Max = 138.93\n",
      "Image 20: Min = 0.00, Max = 125.23\n",
      "Image 21: Min = 0.00, Max = 100.73\n",
      "Image 22: Min = 0.00, Max = 66.93\n",
      "Image 23: Min = 0.00, Max = 35.84\n",
      "Image 24: Min = 0.00, Max = 16.59\n",
      "Image 25: Min = 0.00, Max = 13.88\n",
      "Image 26: Min = 0.00, Max = 26.97\n",
      "Image 27: Min = 0.00, Max = 56.03\n",
      "Image 28: Min = 0.00, Max = 89.39\n",
      "Image 29: Min = 0.00, Max = 119.51\n",
      "Image 30: Min = 0.00, Max = 135.78\n",
      "Image 31: Min = 0.00, Max = 136.29\n",
      "Image 32: Min = 0.00, Max = 122.28\n",
      "Image 33: Min = 0.00, Max = 98.19\n",
      "Image 34: Min = 0.00, Max = 64.27\n",
      "Image 35: Min = 0.00, Max = 32.92\n",
      "Image 36: Min = 0.00, Max = 14.74\n",
      "Image 37: Min = 0.00, Max = 15.11\n",
      "Image 38: Min = 0.00, Max = 28.08\n",
      "Image 39: Min = 0.00, Max = 55.12\n",
      "Image 40: Min = 0.00, Max = 88.51\n",
      "Image 41: Min = 0.00, Max = 118.40\n",
      "Image 42: Min = 0.00, Max = 135.55\n",
      "Image 43: Min = 0.00, Max = 136.03\n",
      "Image 44: Min = 0.00, Max = 121.21\n",
      "Image 45: Min = 0.00, Max = 96.64\n",
      "Image 46: Min = 0.00, Max = 62.76\n",
      "Image 47: Min = 0.00, Max = 32.68\n",
      "Image 48: Min = 0.00, Max = 18.39\n",
      "Image 49: Min = 0.00, Max = 17.77\n",
      "Image 50: Min = 0.00, Max = 32.58\n",
      "Image 51: Min = 0.00, Max = 55.93\n",
      "Image 52: Min = 0.00, Max = 87.63\n",
      "Image 53: Min = 0.00, Max = 118.61\n",
      "Image 54: Min = 0.00, Max = 135.93\n",
      "Image 55: Min = 0.00, Max = 136.73\n",
      "Image 56: Min = 0.00, Max = 121.30\n",
      "Image 57: Min = 0.00, Max = 95.09\n",
      "Image 58: Min = 0.00, Max = 62.99\n",
      "Image 59: Min = 0.00, Max = 36.31\n",
      "Image 60: Min = 0.00, Max = 23.08\n"
     ]
    }
   ],
   "source": [
    "# path_to_WaPOR_ET_asset = \"projects/thurgau-irrigation/assets/Thurgau/ET_WaPOR_10m_dekadal_test_refactor\"\n",
    "\n",
    "\n",
    "# WaPOR_ET_collections = ee_utils.merge_collections(\n",
    "#     years=YEARS, asset_name=path_to_WaPOR_ET_asset\n",
    "# )\n",
    "\n",
    "# ET_COLLECTION = ee.ImageCollection(\n",
    "#     \"projects/thurgau-irrigation/assets/Zuerich/ET_WaPOR_10m_dekadal_2022\"\n",
    "# ).map(lambda img: back_to_float(img, 100))\n",
    "\n",
    "ET_COLLECTION = ee.ImageCollection(\n",
    "    \"projects/thurgau-irrigation/assets/Zuerich/Landsat_ET_gap_filled_monthly_30m_ZH_2018-2022\"\n",
    ").map(lambda img: back_to_float(img, 100))\n",
    "\n",
    "def set_negative_to_zero(img):\n",
    "    return img.max(0).copyProperties(img, img.propertyNames())\n",
    "\n",
    "\n",
    "ET_COLLECTION = ET_COLLECTION.map(set_negative_to_zero)\n",
    "\n",
    "date_utils.print_collection_dates(ET_COLLECTION)\n",
    "ee_utils.print_value_ranges(ET_COLLECTION, \"fitted_ET\")\n",
    "\n"
   ]
  },
  {
   "cell_type": "code",
   "execution_count": 11,
   "metadata": {},
   "outputs": [
    {
     "data": {
      "text/html": [
       "\n",
       "            <style>\n",
       "                .geemap-dark {\n",
       "                    --jp-widgets-color: white;\n",
       "                    --jp-widgets-label-color: white;\n",
       "                    --jp-ui-font-color1: white;\n",
       "                    --jp-layout-color2: #454545;\n",
       "                    background-color: #383838;\n",
       "                }\n",
       "\n",
       "                .geemap-dark .jupyter-button {\n",
       "                    --jp-layout-color3: #383838;\n",
       "                }\n",
       "\n",
       "                .geemap-colab {\n",
       "                    background-color: var(--colab-primary-surface-color, white);\n",
       "                }\n",
       "\n",
       "                .geemap-colab .jupyter-button {\n",
       "                    --jp-layout-color3: var(--colab-primary-surface-color, white);\n",
       "                }\n",
       "            </style>\n",
       "            "
      ],
      "text/plain": [
       "<IPython.core.display.HTML object>"
      ]
     },
     "metadata": {},
     "output_type": "display_data"
    }
   ],
   "source": [
    "def process_and_export_et_blue_raw(\n",
    "    wapor_et_list: ee.List,\n",
    "    et_green_list: ee.List,\n",
    "    year: int,\n",
    "    aoi: ee.Geometry,\n",
    "    time_steps: int = 12,\n",
    "    time_step_type: str = \"monthly\",\n",
    ") -> List[ee.batch.Task]:\n",
    "    \"\"\"\n",
    "    Process and export ET blue raw images for a given year.\n",
    "\n",
    "    Args:\n",
    "        wapor_et_list (ee.List): List of WaPOR ET images for the year\n",
    "        et_green_list (ee.List): List of ET green images for the year\n",
    "        year (int): Year to process\n",
    "        aoi (ee.Geometry): Area of interest to process\n",
    "        time_steps (int): Number of time steps (default 12 for monthly)\n",
    "        time_step_type (str): Type of time step (\"monthly\" or \"dekadal\")\n",
    "\n",
    "    Returns:\n",
    "        List[ee.batch.Task]: List of export tasks\n",
    "\n",
    "    Raises:\n",
    "        ValueError: If time_steps is not 12 or 36, or if time_step_type is invalid\n",
    "    \"\"\"\n",
    "    if time_steps not in [12, 36]:\n",
    "        raise ValueError(\"time_steps must be either 12 or 36\")\n",
    "\n",
    "    if time_step_type not in [\"monthly\", \"dekadal\"]:\n",
    "        raise ValueError(\"time_step_type must be either 'monthly' or 'dekadal'\")\n",
    "\n",
    "    tasks = []\n",
    "\n",
    "    for i in range(time_steps):\n",
    "        # Get the ET images for current time step\n",
    "        et_image = ee.Image(wapor_et_list.get(i))\n",
    "        et_green = ee.Image(et_green_list.get(i))\n",
    "\n",
    "        # Compute ET blue\n",
    "        et_blue = compute_et_blue(et_image, et_green)\n",
    "        et_blue = back_to_int(et_blue, 100)\n",
    "\n",
    "        # Generate time step name based on type\n",
    "        time_step_name = _get_time_step_name(i, time_step_type)\n",
    "\n",
    "        # Generate export task\n",
    "        task = _create_export_task(\n",
    "            et_blue=et_blue,\n",
    "            year=year,\n",
    "            time_step_name=time_step_name,\n",
    "            time_step_type=time_step_type,\n",
    "            aoi=aoi,\n",
    "        )\n",
    "\n",
    "        tasks.append(task)\n",
    "\n",
    "    return tasks\n",
    "\n",
    "\n",
    "def _get_time_step_name(index: int, time_step_type: str) -> str:\n",
    "    \"\"\"\n",
    "    Generate the time step name based on index and type.\n",
    "\n",
    "    Args:\n",
    "        index (int): Current time step index\n",
    "        time_step_type (str): Type of time step (\"monthly\" or \"dekadal\")\n",
    "\n",
    "    Returns:\n",
    "        str: Formatted time step name\n",
    "    \"\"\"\n",
    "    if time_step_type == \"dekadal\":\n",
    "        month = index // 3 + 1\n",
    "        dekad = index % 3 + 1\n",
    "        return f\"{month:02d}_D{dekad}\"\n",
    "    else:  # monthly\n",
    "        month = index + 1\n",
    "        return f\"{month:02d}\"\n",
    "\n",
    "\n",
    "def _create_export_task(\n",
    "    et_blue: ee.Image,\n",
    "    year: int,\n",
    "    time_step_name: str,\n",
    "    time_step_type: str,\n",
    "    aoi: ee.Geometry,\n",
    ") -> ee.batch.Task:\n",
    "    \"\"\"\n",
    "    Create an export task for an ET blue image.\n",
    "\n",
    "    Args:\n",
    "        et_blue (ee.Image): ET blue image to export\n",
    "        year (int): Processing year\n",
    "        time_step_name (str): Formatted time step name\n",
    "        time_step_type (str): Type of time step\n",
    "        aoi (ee.Geometry): Area of interest\n",
    "\n",
    "    Returns:\n",
    "        ee.batch.Task: Export task\n",
    "    \"\"\"\n",
    "    task_name = f\"ET_blue_raw_landsat_30m_ZH_{year}-{time_step_name}\"\n",
    "\n",
    "    asset_id = f\"projects/thurgau-irrigation/assets/Zuerich/ET_blue_raw_landsat_30m_{time_step_type}_ZH_2022/{task_name}\"\n",
    "\n",
    "    return export_image_to_asset(\n",
    "        image=et_blue,\n",
    "        asset_id=asset_id,\n",
    "        task_name=task_name,\n",
    "        year=year,\n",
    "        aoi=aoi,\n",
    "        scale=30,\n",
    "    )"
   ]
  },
  {
   "cell_type": "code",
   "execution_count": null,
   "metadata": {},
   "outputs": [
    {
     "data": {
      "text/html": [
       "\n",
       "            <style>\n",
       "                .geemap-dark {\n",
       "                    --jp-widgets-color: white;\n",
       "                    --jp-widgets-label-color: white;\n",
       "                    --jp-ui-font-color1: white;\n",
       "                    --jp-layout-color2: #454545;\n",
       "                    background-color: #383838;\n",
       "                }\n",
       "\n",
       "                .geemap-dark .jupyter-button {\n",
       "                    --jp-layout-color3: #383838;\n",
       "                }\n",
       "\n",
       "                .geemap-colab {\n",
       "                    background-color: var(--colab-primary-surface-color, white);\n",
       "                }\n",
       "\n",
       "                .geemap-colab .jupyter-button {\n",
       "                    --jp-layout-color3: var(--colab-primary-surface-color, white);\n",
       "                }\n",
       "            </style>\n",
       "            "
      ],
      "text/plain": [
       "<IPython.core.display.HTML object>"
      ]
     },
     "metadata": {},
     "output_type": "display_data"
    },
    {
     "name": "stdout",
     "output_type": "stream",
     "text": [
      "Exporting ET_blue_raw_landsat_30m_ZH_2022-01 for 2022 to projects/thurgau-irrigation/assets/Zuerich/ET_blue_raw_landsat_30m_monthly_ZH_2022/ET_blue_raw_landsat_30m_ZH_2022-01\n",
      "Using projection EPSG:4326 at 30m resolution\n",
      "Exporting ET_blue_raw_landsat_30m_ZH_2022-02 for 2022 to projects/thurgau-irrigation/assets/Zuerich/ET_blue_raw_landsat_30m_monthly_ZH_2022/ET_blue_raw_landsat_30m_ZH_2022-02\n",
      "Using projection EPSG:4326 at 30m resolution\n",
      "Exporting ET_blue_raw_landsat_30m_ZH_2022-03 for 2022 to projects/thurgau-irrigation/assets/Zuerich/ET_blue_raw_landsat_30m_monthly_ZH_2022/ET_blue_raw_landsat_30m_ZH_2022-03\n",
      "Using projection EPSG:4326 at 30m resolution\n",
      "Exporting ET_blue_raw_landsat_30m_ZH_2022-04 for 2022 to projects/thurgau-irrigation/assets/Zuerich/ET_blue_raw_landsat_30m_monthly_ZH_2022/ET_blue_raw_landsat_30m_ZH_2022-04\n",
      "Using projection EPSG:4326 at 30m resolution\n",
      "Exporting ET_blue_raw_landsat_30m_ZH_2022-05 for 2022 to projects/thurgau-irrigation/assets/Zuerich/ET_blue_raw_landsat_30m_monthly_ZH_2022/ET_blue_raw_landsat_30m_ZH_2022-05\n",
      "Using projection EPSG:4326 at 30m resolution\n",
      "Exporting ET_blue_raw_landsat_30m_ZH_2022-06 for 2022 to projects/thurgau-irrigation/assets/Zuerich/ET_blue_raw_landsat_30m_monthly_ZH_2022/ET_blue_raw_landsat_30m_ZH_2022-06\n",
      "Using projection EPSG:4326 at 30m resolution\n",
      "Exporting ET_blue_raw_landsat_30m_ZH_2022-07 for 2022 to projects/thurgau-irrigation/assets/Zuerich/ET_blue_raw_landsat_30m_monthly_ZH_2022/ET_blue_raw_landsat_30m_ZH_2022-07\n",
      "Using projection EPSG:4326 at 30m resolution\n",
      "Exporting ET_blue_raw_landsat_30m_ZH_2022-08 for 2022 to projects/thurgau-irrigation/assets/Zuerich/ET_blue_raw_landsat_30m_monthly_ZH_2022/ET_blue_raw_landsat_30m_ZH_2022-08\n",
      "Using projection EPSG:4326 at 30m resolution\n",
      "Exporting ET_blue_raw_landsat_30m_ZH_2022-09 for 2022 to projects/thurgau-irrigation/assets/Zuerich/ET_blue_raw_landsat_30m_monthly_ZH_2022/ET_blue_raw_landsat_30m_ZH_2022-09\n",
      "Using projection EPSG:4326 at 30m resolution\n",
      "Exporting ET_blue_raw_landsat_30m_ZH_2022-10 for 2022 to projects/thurgau-irrigation/assets/Zuerich/ET_blue_raw_landsat_30m_monthly_ZH_2022/ET_blue_raw_landsat_30m_ZH_2022-10\n",
      "Using projection EPSG:4326 at 30m resolution\n",
      "Exporting ET_blue_raw_landsat_30m_ZH_2022-11 for 2022 to projects/thurgau-irrigation/assets/Zuerich/ET_blue_raw_landsat_30m_monthly_ZH_2022/ET_blue_raw_landsat_30m_ZH_2022-11\n",
      "Using projection EPSG:4326 at 30m resolution\n",
      "Exporting ET_blue_raw_landsat_30m_ZH_2022-12 for 2022 to projects/thurgau-irrigation/assets/Zuerich/ET_blue_raw_landsat_30m_monthly_ZH_2022/ET_blue_raw_landsat_30m_ZH_2022-12\n",
      "Using projection EPSG:4326 at 30m resolution\n",
      "Year 2022 processing complete. Started 12 tasks.\n",
      "Total tasks: 12\n"
     ]
    }
   ],
   "source": [
    "# all_tasks = []\n",
    "\n",
    "# for year in YEARS:\n",
    "\n",
    "#     et_list = ET_COLLECTION.filterDate(f\"{year}-01-01\", f\"{year}-12-31\").toList(\n",
    "#         TIME_STEPS\n",
    "#     )\n",
    "\n",
    "#     et_green_list = ET_GREEN_COLLECTION.filterDate(\n",
    "#         f\"{year}-01-01\", f\"{year}-12-31\"\n",
    "#     ).toList(TIME_STEPS)\n",
    "\n",
    "#     # Process and export\n",
    "#     tasks = process_and_export_et_blue_raw(\n",
    "#         wapor_et_list=et_list,\n",
    "#         et_green_list=et_green_list,\n",
    "#         year=year,\n",
    "#         aoi=AOI,\n",
    "#         time_steps=TIME_STEPS,\n",
    "#         time_step_type=TIME_STEP_TYPE,  # or \"dekadal\" as needed\n",
    "#     )\n",
    "\n",
    "#     print(f\"Year {year} processing complete. Started {len(tasks)} tasks.\")\n",
    "\n",
    "#     all_tasks.extend(tasks)\n",
    "\n",
    "# print(f\"Total tasks: {len(all_tasks)}\")"
   ]
  },
  {
   "cell_type": "markdown",
   "metadata": {},
   "source": [
    "### Sanity check"
   ]
  },
  {
   "cell_type": "code",
   "execution_count": 13,
   "metadata": {},
   "outputs": [
    {
     "data": {
      "text/html": [
       "\n",
       "            <style>\n",
       "                .geemap-dark {\n",
       "                    --jp-widgets-color: white;\n",
       "                    --jp-widgets-label-color: white;\n",
       "                    --jp-ui-font-color1: white;\n",
       "                    --jp-layout-color2: #454545;\n",
       "                    background-color: #383838;\n",
       "                }\n",
       "\n",
       "                .geemap-dark .jupyter-button {\n",
       "                    --jp-layout-color3: #383838;\n",
       "                }\n",
       "\n",
       "                .geemap-colab {\n",
       "                    background-color: var(--colab-primary-surface-color, white);\n",
       "                }\n",
       "\n",
       "                .geemap-colab .jupyter-button {\n",
       "                    --jp-layout-color3: var(--colab-primary-surface-color, white);\n",
       "                }\n",
       "            </style>\n",
       "            "
      ],
      "text/plain": [
       "<IPython.core.display.HTML object>"
      ]
     },
     "metadata": {},
     "output_type": "display_data"
    },
    {
     "name": "stdout",
     "output_type": "stream",
     "text": [
      "Dates of images in the collection:\n",
      "2022-01-01\n",
      "2022-02-01\n",
      "2022-03-01\n",
      "2022-04-01\n",
      "2022-05-01\n",
      "2022-06-01\n",
      "2022-07-01\n",
      "2022-08-01\n",
      "2022-09-01\n",
      "2022-10-01\n",
      "2022-11-01\n",
      "2022-12-01\n",
      "Image 1: Min = -6.36, Max = 17.50\n",
      "Image 2: Min = -15.08, Max = 20.60\n",
      "Image 3: Min = -29.86, Max = 28.61\n",
      "Image 4: Min = -55.17, Max = 40.33\n",
      "Image 5: Min = -79.59, Max = 49.72\n",
      "Image 6: Min = -95.07, Max = 57.14\n",
      "Image 7: Min = -98.33, Max = 58.48\n",
      "Image 8: Min = -87.76, Max = 51.80\n",
      "Image 9: Min = -67.09, Max = 42.68\n",
      "Image 10: Min = -40.72, Max = 28.79\n",
      "Image 11: Min = -18.68, Max = 17.98\n",
      "Image 12: Min = -8.22, Max = 21.63\n"
     ]
    }
   ],
   "source": [
    "et_blue_raw = ee.ImageCollection(\"projects/thurgau-irrigation/assets/Zuerich/ET_blue_raw_landsat_30m_monthly_ZH_2022\").map(lambda img: back_to_float(img, 100))\n",
    "\n",
    "date_utils.print_collection_dates(et_blue_raw)\n",
    "ee_utils.print_value_ranges(et_blue_raw)"
   ]
  },
  {
   "cell_type": "code",
   "execution_count": 17,
   "metadata": {},
   "outputs": [
    {
     "data": {
      "text/html": [
       "\n",
       "            <style>\n",
       "                .geemap-dark {\n",
       "                    --jp-widgets-color: white;\n",
       "                    --jp-widgets-label-color: white;\n",
       "                    --jp-ui-font-color1: white;\n",
       "                    --jp-layout-color2: #454545;\n",
       "                    background-color: #383838;\n",
       "                }\n",
       "\n",
       "                .geemap-dark .jupyter-button {\n",
       "                    --jp-layout-color3: #383838;\n",
       "                }\n",
       "\n",
       "                .geemap-colab {\n",
       "                    background-color: var(--colab-primary-surface-color, white);\n",
       "                }\n",
       "\n",
       "                .geemap-colab .jupyter-button {\n",
       "                    --jp-layout-color3: var(--colab-primary-surface-color, white);\n",
       "                }\n",
       "            </style>\n",
       "            "
      ],
      "text/plain": [
       "<IPython.core.display.HTML object>"
      ]
     },
     "metadata": {},
     "output_type": "display_data"
    },
    {
     "data": {
      "application/vnd.jupyter.widget-view+json": {
       "model_id": "efed59c9b8294f7ba7aa59aa111227ce",
       "version_major": 2,
       "version_minor": 0
      },
      "text/plain": [
       "Map(center=[47.41511720684401, 8.655992127451274], controls=(WidgetControl(options=['position', 'transparent_b…"
      ]
     },
     "execution_count": 17,
     "metadata": {},
     "output_type": "execute_result"
    }
   ],
   "source": [
    "Map = geemap.Map()\n",
    "\n",
    "et_blue_raw_list = et_blue_raw.toList(12)\n",
    "\n",
    "image = ee.Image(et_blue_raw_list.get(5))\n",
    "\n",
    "vis_params = {\n",
    "    \"bands\" : [\"ET_blue\"], \n",
    "    \"min\" : -50,\n",
    "    \"max\" : 50,\n",
    "    \"palette\" : [\"blue\", \"lightblue\", \"green\", \"yellow\", \"orange\", \"red\"]\n",
    "}\n",
    "\n",
    "Map.center_object(AOI, 12)\n",
    "Map.addLayer(image, vis_params, \"ET blue raw\")\n",
    "\n",
    "Map"
   ]
  },
  {
   "cell_type": "code",
   "execution_count": null,
   "metadata": {},
   "outputs": [],
   "source": []
  }
 ],
 "metadata": {
  "kernelspec": {
   "display_name": "geemap_env",
   "language": "python",
   "name": "python3"
  },
  "language_info": {
   "codemirror_mode": {
    "name": "ipython",
    "version": 3
   },
   "file_extension": ".py",
   "mimetype": "text/x-python",
   "name": "python",
   "nbconvert_exporter": "python",
   "pygments_lexer": "ipython3",
   "version": "3.11.10"
  }
 },
 "nbformat": 4,
 "nbformat_minor": 2
}
