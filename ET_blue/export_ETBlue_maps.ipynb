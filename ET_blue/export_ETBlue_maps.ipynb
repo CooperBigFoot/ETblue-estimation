{
 "cells": [
  {
   "cell_type": "code",
   "execution_count": 1,
   "metadata": {},
   "outputs": [],
   "source": [
    "import sys\n",
    "import os\n",
    "\n",
    "sys.path.append(os.path.abspath(os.path.join(\"..\")))"
   ]
  },
  {
   "cell_type": "code",
   "execution_count": 2,
   "metadata": {},
   "outputs": [],
   "source": [
    "sys.setrecursionlimit(5000)"
   ]
  },
  {
   "cell_type": "code",
   "execution_count": 3,
   "metadata": {},
   "outputs": [],
   "source": [
    "from filter_nutzungsflaechen import (\n",
    "    get_crops_to_exclude,\n",
    "    get_rainfed_reference_crops,\n",
    "    create_crop_filters,\n",
    "    filter_crops,\n",
    "    add_double_cropping_info,\n",
    "    get_unique_nutzung\n",
    ")\n",
    "\n",
    "from compute_ET_green import compute_et_green, calculate_band_std_dev\n",
    "from compute_ET_blue import (\n",
    "    compute_et_blue,\n",
    "    compute_volumetric_et_blue,\n",
    "    postprocess_et_blue,\n",
    ")\n",
    "from add_walter_irrigation_estimates import filter_and_estimate_irrigation\n",
    "\n",
    "from utils import ee_utils, date_utils\n",
    "from utils.ee_utils import back_to_float, back_to_int, export_image_to_asset\n",
    "\n",
    "from typing import List, Tuple\n",
    "\n",
    "import ee\n",
    "import geemap"
   ]
  },
  {
   "cell_type": "code",
   "execution_count": null,
   "metadata": {},
   "outputs": [],
   "source": [
    "ee.Initialize(project=\"thurgau-irrigation\")"
   ]
  },
  {
   "cell_type": "markdown",
   "metadata": {},
   "source": [
    "## Define the region of interest\n"
   ]
  },
  {
   "cell_type": "code",
   "execution_count": null,
   "metadata": {},
   "outputs": [],
   "source": [
    "# For the canton of Thurgau\n",
    "cantonal_borders_asset = (\n",
    "    \"projects/thurgau-irrigation/assets/Zuerich/Zuerich_bound\"\n",
    ")\n",
    "\n",
    "aoi_feature_collection = ee.FeatureCollection(cantonal_borders_asset)\n",
    "aoi_geometry = aoi_feature_collection.geometry()\n",
    "aoi_geometry = aoi_geometry.simplify(500)\n",
    "aoi_buffered = aoi_geometry.buffer(100)"
   ]
  },
  {
   "cell_type": "markdown",
   "metadata": {},
   "source": [
    "## Importing all assets: land use maps, vegetation periods, WaPOR ET data.\n"
   ]
  },
  {
   "cell_type": "code",
   "execution_count": null,
   "metadata": {},
   "outputs": [],
   "source": [
    "years_to_process = [2022]\n",
    "double_cropping_image_collection = ee.ImageCollection(\n",
    "    \"crop_vegetation_period_zh_2022\"\n",
    ")\n",
    "\n",
    "double_cropping_list = double_cropping_image_collection.toList(\n",
    "    double_cropping_image_collection.size()\n",
    ")\n",
    "\n",
    "WaPOR_assets = \"projects/thurgau-irrigation/assets/Zuerich/ET_WaPOR_10m_dekadal_2022\"\n",
    "\n",
    "WaPOR_et_collections = ee_utils.merge_collections(\n",
    "    years=years_to_process, asset_name=WaPOR_assets\n",
    ")\n",
    "\n",
    "WaPOR_et_collections = WaPOR_et_collections.map(lambda image: back_to_float(image, 100))\n",
    "\n",
    "WaPOR_et_collections_list = WaPOR_et_collections.toList(WaPOR_et_collections.size())"
   ]
  },
  {
   "cell_type": "code",
   "execution_count": null,
   "metadata": {},
   "outputs": [],
   "source": [
    "date_utils.print_collection_dates(WaPOR_et_collections)"
   ]
  },
  {
   "cell_type": "markdown",
   "metadata": {},
   "source": [
    "## Sanity check, uncomment to verify things\n",
    "### Filtering out potentially irrigated crops and refeence rainfed fields\n"
   ]
  },
  {
   "cell_type": "code",
   "execution_count": 9,
   "metadata": {},
   "outputs": [
    {
     "data": {
      "text/html": [
       "\n",
       "            <style>\n",
       "                .geemap-dark {\n",
       "                    --jp-widgets-color: white;\n",
       "                    --jp-widgets-label-color: white;\n",
       "                    --jp-ui-font-color1: white;\n",
       "                    --jp-layout-color2: #454545;\n",
       "                    background-color: #383838;\n",
       "                }\n",
       "\n",
       "                .geemap-dark .jupyter-button {\n",
       "                    --jp-layout-color3: #383838;\n",
       "                }\n",
       "\n",
       "                .geemap-colab {\n",
       "                    background-color: var(--colab-primary-surface-color, white);\n",
       "                }\n",
       "\n",
       "                .geemap-colab .jupyter-button {\n",
       "                    --jp-layout-color3: var(--colab-primary-surface-color, white);\n",
       "                }\n",
       "            </style>\n",
       "            "
      ],
      "text/plain": [
       "<IPython.core.display.HTML object>"
      ]
     },
     "metadata": {},
     "output_type": "display_data"
    },
    {
     "data": {
      "text/html": [
       "<div><style>:root {\n",
       "  --font-color-primary: var(--jp-content-font-color0, rgba(0, 0, 0, 1));\n",
       "  --font-color-secondary: var(--jp-content-font-color2, rgba(0, 0, 0, 0.6));\n",
       "  --font-color-accent: rgba(123, 31, 162, 1);\n",
       "  --border-color: var(--jp-border-color2, #e0e0e0);\n",
       "  --background-color: var(--jp-layout-color0, white);\n",
       "  --background-color-row-even: var(--jp-layout-color1, white);\n",
       "  --background-color-row-odd: var(--jp-layout-color2, #eeeeee);\n",
       "}\n",
       "\n",
       "html[theme=\"dark\"],\n",
       "body[data-theme=\"dark\"],\n",
       "body.vscode-dark {\n",
       "  --font-color-primary: rgba(255, 255, 255, 1);\n",
       "  --font-color-secondary: rgba(255, 255, 255, 0.6);\n",
       "  --font-color-accent: rgb(173, 132, 190);\n",
       "  --border-color: #2e2e2e;\n",
       "  --background-color: #111111;\n",
       "  --background-color-row-even: #111111;\n",
       "  --background-color-row-odd: #313131;\n",
       "}\n",
       "\n",
       ".ee {\n",
       "  padding: 1em;\n",
       "  line-height: 1.5em;\n",
       "  min-width: 300px;\n",
       "  max-width: 1200px;\n",
       "  overflow-y: scroll;\n",
       "  max-height: 600px;\n",
       "  border: 1px solid var(--border-color);\n",
       "  font-family: monospace;\n",
       "}\n",
       "\n",
       ".ee li {\n",
       "  list-style-type: none;\n",
       "}\n",
       "\n",
       ".ee ul {\n",
       "  padding-left: 1.5em !important;\n",
       "  margin: 0;\n",
       "}\n",
       "\n",
       ".ee > ul {\n",
       "  padding-left: 0 !important;\n",
       "}\n",
       "\n",
       ".ee-open,\n",
       ".ee-shut {\n",
       "  color: var(--font-color-secondary);\n",
       "  cursor: pointer;\n",
       "  margin: 0;\n",
       "}\n",
       "\n",
       ".ee-open:hover,\n",
       ".ee-shut:hover {\n",
       "  color: var(--font-color-primary);\n",
       "}\n",
       "\n",
       ".ee-k {\n",
       "  color: var(--font-color-accent);\n",
       "  margin-right: 6px;\n",
       "}\n",
       "\n",
       ".ee-v {\n",
       "  color: var(--font-color-primary);\n",
       "}\n",
       "\n",
       ".ee-toggle {\n",
       "  display: none;\n",
       "}\n",
       "\n",
       ".ee-shut + ul {\n",
       "  display: none;\n",
       "}\n",
       "\n",
       ".ee-open + ul {\n",
       "  display: block;\n",
       "}\n",
       "\n",
       ".ee-shut::before {\n",
       "  display: inline-block;\n",
       "  content: \"▼\";\n",
       "  margin-right: 6px;\n",
       "  transform: rotate(-90deg);\n",
       "  transition: transform 0.2s;\n",
       "}\n",
       "\n",
       ".ee-open::before {\n",
       "  transform: rotate(0deg);\n",
       "  display: inline-block;\n",
       "  content: \"▼\";\n",
       "  margin-right: 6px;\n",
       "  transition: transform 0.2s;\n",
       "}\n",
       "</style><div class='ee'><ul><li><label class='ee-shut'>List (121 elements)<input type='checkbox' class='ee-toggle'></label><ul><li><span class='ee-k'>0:</span><span class='ee-v'>Wintergerste</span></li><li><span class='ee-k'>1:</span><span class='ee-v'>Triticale</span></li><li><span class='ee-k'>2:</span><span class='ee-v'>Körnermais</span></li><li><span class='ee-k'>3:</span><span class='ee-v'>Winterweizen (ohne Futterweizen der Sortenliste swiss granum)</span></li><li><span class='ee-k'>4:</span><span class='ee-v'>Dinkel</span></li><li><span class='ee-k'>5:</span><span class='ee-v'>Silo- und Grünmais</span></li><li><span class='ee-k'>6:</span><span class='ee-v'>Kartoffeln</span></li><li><span class='ee-k'>7:</span><span class='ee-v'>Winterraps zur Speiseölgewinnung</span></li><li><span class='ee-k'>8:</span><span class='ee-v'>Getreide siliert</span></li><li><span class='ee-k'>9:</span><span class='ee-v'>Buntbrache</span></li><li><span class='ee-k'>10:</span><span class='ee-v'>Rotationsbrache</span></li><li><span class='ee-k'>11:</span><span class='ee-v'>Blühstreifen für Bestäuber und andere Nützlinge</span></li><li><span class='ee-k'>12:</span><span class='ee-v'>Kunstwiesen (ohne Weiden)</span></li><li><span class='ee-k'>13:</span><span class='ee-v'>Extensiv genutzte Wiesen (ohne Weiden)</span></li><li><span class='ee-k'>14:</span><span class='ee-v'>Wenig intensiv gen. Wiesen (ohne Weiden)</span></li><li><span class='ee-k'>15:</span><span class='ee-v'>Übrige Dauerwiesen (ohne Weiden)</span></li><li><span class='ee-k'>16:</span><span class='ee-v'>Weiden (Heimweiden, übrige Weiden ohne Sömmerungsweiden)</span></li><li><span class='ee-k'>17:</span><span class='ee-v'>Extensiv genutzte Weiden</span></li><li><span class='ee-k'>18:</span><span class='ee-v'>Obstanlagen (Äpfel)</span></li><li><span class='ee-k'>19:</span><span class='ee-v'>Obstanlagen (Steinobst)</span></li><li><span class='ee-k'>20:</span><span class='ee-v'>Mehrjährige nachwachsende Rohstoffe (Chinaschilf, usw.)</span></li><li><span class='ee-k'>21:</span><span class='ee-v'>Christbäume</span></li><li><span class='ee-k'>22:</span><span class='ee-v'>Mehrjährige gärtnerische Freilandkulturen (nicht im Gewächshaus)</span></li><li><span class='ee-k'>23:</span><span class='ee-v'>Gärtnerische Kulturen in geschütztem Anbau ohne festes Fundament</span></li><li><span class='ee-k'>24:</span><span class='ee-v'>Streueflächen innerhalb der LN</span></li><li><span class='ee-k'>25:</span><span class='ee-v'>Hecken-, Feld und Ufergehölze (mit Krautsaum)</span></li><li><span class='ee-k'>26:</span><span class='ee-v'>Hecken-, Feld- und Ufergehölze (mit Pufferstreifen)</span></li><li><span class='ee-k'>27:</span><span class='ee-v'>übrige Flächen innerhalb der LN, nicht beitragsberechtigt</span></li><li><span class='ee-k'>28:</span><span class='ee-v'>Wald</span></li><li><span class='ee-k'>29:</span><span class='ee-v'>übrige Unproduktive Flächen (z.B. gemulchte Flächen, stark verunkraute Flächen, Hecke ohne Pufferstreifen</span></li><li><span class='ee-k'>30:</span><span class='ee-v'>Flächen ohne landwirtschaftliche Hauptzweckbestimmung (erschlossenes Bauland, Spiel-, Reit-, Camping-, Golf-, Flug- und Militärplätze oder ausgemarchte Bereiche von Eisenbahnen, öffentlichen Strassen und Gewässern)</span></li><li><span class='ee-k'>31:</span><span class='ee-v'>Wassergräben, Tümpel, Teiche</span></li><li><span class='ee-k'>32:</span><span class='ee-v'>Unbefestigte, natürliche Wege</span></li><li><span class='ee-k'>33:</span><span class='ee-v'>Hausgärten</span></li><li><span class='ee-k'>34:</span><span class='ee-v'>übrige Flächen ausserhalb der LN</span></li><li><span class='ee-k'>35:</span><span class='ee-v'>Nutzung bestimmen</span></li><li><span class='ee-k'>36:</span><span class='ee-v'>Futterweizen gemäss Sortenliste swiss granum</span></li><li><span class='ee-k'>37:</span><span class='ee-v'>Roggen</span></li><li><span class='ee-k'>38:</span><span class='ee-v'>Zuckerrüben</span></li><li><span class='ee-k'>39:</span><span class='ee-v'>Eiweisserbsen zu Futterzwecken</span></li><li><span class='ee-k'>40:</span><span class='ee-v'>Einjährige Freilandgemüse, ohne Konservengemüse</span></li><li><span class='ee-k'>41:</span><span class='ee-v'>Übrige Kunstwiese, beitragsberechtigt (z.B. Schweineweide, Geflügelweide)</span></li><li><span class='ee-k'>42:</span><span class='ee-v'>Übrige Grünfläche (Dauergrünfläche), beitragsberechtigt</span></li><li><span class='ee-k'>43:</span><span class='ee-v'>Übrige Grünfläche (Dauergrünfläche), nicht beitragsberechtigt</span></li><li><span class='ee-k'>44:</span><span class='ee-v'>Obstanlagen (Birnen)</span></li><li><span class='ee-k'>45:</span><span class='ee-v'>Ruderalflächen, Steinhaufen und -wälle</span></li><li><span class='ee-k'>46:</span><span class='ee-v'>Hafer</span></li><li><span class='ee-k'>47:</span><span class='ee-v'>Sommerweizen (ohne Futterweizen der Sortenliste swiss granum)</span></li><li><span class='ee-k'>48:</span><span class='ee-v'>Soja</span></li><li><span class='ee-k'>49:</span><span class='ee-v'>Oelkürbisse</span></li><li><span class='ee-k'>50:</span><span class='ee-v'>Einjährige gärtnerische Freilandkulturen (Blumen, Rollrasen, usw.)</span></li><li><span class='ee-k'>51:</span><span class='ee-v'>Waldweiden (ohne bewaldete Fläche)</span></li><li><span class='ee-k'>52:</span><span class='ee-v'>Mehrjährige Beeren</span></li><li><span class='ee-k'>53:</span><span class='ee-v'>Permakultur</span></li><li><span class='ee-k'>54:</span><span class='ee-v'>übrige Flächen mit Dauerkulturen, beitragsberechtigt</span></li><li><span class='ee-k'>55:</span><span class='ee-v'>Gemüsekulturen in geschütztem Anbau ohne festes Fundament</span></li><li><span class='ee-k'>56:</span><span class='ee-v'>Übrige Spezialkulturen in geschütztem Anbau ohne festes Fundament</span></li><li><span class='ee-k'>57:</span><span class='ee-v'>Mischungen von Ackerbohnen, Eiweisserbsen und Lupinen zu Futterzwecken mit Getreide, mindestens 30 % Anteil Leguminosen bei der Ernte (zur Körnergewinnung)</span></li><li><span class='ee-k'>58:</span><span class='ee-v'>übrige Flächen mit Dauerkulturen nicht beitragsberechtigt</span></li><li><span class='ee-k'>59:</span><span class='ee-v'>Saum auf Ackerfläche</span></li><li><span class='ee-k'>60:</span><span class='ee-v'>Reben</span></li><li><span class='ee-k'>61:</span><span class='ee-v'>Spargel</span></li><li><span class='ee-k'>62:</span><span class='ee-v'>Andere Obstanlagen (Kiwi, Holunder, usw.)</span></li><li><span class='ee-k'>63:</span><span class='ee-v'>Trockenmauern</span></li><li><span class='ee-k'>64:</span><span class='ee-v'>Sommergerste</span></li><li><span class='ee-k'>65:</span><span class='ee-v'>Winterraps als nachwachsender Rohstoff</span></li><li><span class='ee-k'>66:</span><span class='ee-v'>Uferwiese (ohne Weiden) entlang von Fliessgewässern</span></li><li><span class='ee-k'>67:</span><span class='ee-v'>Rhabarber</span></li><li><span class='ee-k'>68:</span><span class='ee-v'>Ackerbohnen zu Futterzwecken</span></li><li><span class='ee-k'>69:</span><span class='ee-v'>Wurzeln der Treibzichorie</span></li><li><span class='ee-k'>70:</span><span class='ee-v'>Einjährige Beeren (z.B. Erdbeeren)</span></li><li><span class='ee-k'>71:</span><span class='ee-v'>Ziersträucher, Ziergehölze, und Zierstauden</span></li><li><span class='ee-k'>72:</span><span class='ee-v'>Gemüsekulturen in Gewächshäusern mit festem Fundament</span></li><li><span class='ee-k'>73:</span><span class='ee-v'>übrige Flächen innerhalb der LN, beitragsberechtigt</span></li><li><span class='ee-k'>74:</span><span class='ee-v'>Futterrüben</span></li><li><span class='ee-k'>75:</span><span class='ee-v'>Landwirtschaftliche Produktion in Gebäuden (z.B. Pilze, Brüsseler)</span></li><li><span class='ee-k'>76:</span><span class='ee-v'>Freiland-Konservengemüse</span></li><li><span class='ee-k'>77:</span><span class='ee-v'>Lupinen zu Futterzwecken</span></li><li><span class='ee-k'>78:</span><span class='ee-v'>Mischel Futtergetreide</span></li><li><span class='ee-k'>79:</span><span class='ee-v'>Sonnenblumen zur Speiseölgewinnung</span></li><li><span class='ee-k'>80:</span><span class='ee-v'>Emmer, Einkorn</span></li><li><span class='ee-k'>81:</span><span class='ee-v'>Einjährige Gewürz- und Medizinalpflanzen</span></li><li><span class='ee-k'>82:</span><span class='ee-v'>übrige offene Ackerfläche, beitragsberechtigt</span></li><li><span class='ee-k'>83:</span><span class='ee-v'>Rebflächen mit natürlicher Artenvielfalt</span></li><li><span class='ee-k'>84:</span><span class='ee-v'>Sorghum</span></li><li><span class='ee-k'>85:</span><span class='ee-v'>Ackerschonstreifen</span></li><li><span class='ee-k'>86:</span><span class='ee-v'>Tabak</span></li><li><span class='ee-k'>87:</span><span class='ee-v'>Übrige Baumschulen (Rosen, Früchte, usw.)</span></li><li><span class='ee-k'>88:</span><span class='ee-v'>Gärtnerische Kulturen in Gewächshäusern mit festem Fundament</span></li><li><span class='ee-k'>89:</span><span class='ee-v'>Sommerraps zur Speiseölgewinnung</span></li><li><span class='ee-k'>90:</span><span class='ee-v'>Baumschule von Reben</span></li><li><span class='ee-k'>91:</span><span class='ee-v'>Pflanzkartoffeln (Vertragsanbau)</span></li><li><span class='ee-k'>92:</span><span class='ee-v'>Lein</span></li><li><span class='ee-k'>93:</span><span class='ee-v'>Hirse</span></li><li><span class='ee-k'>94:</span><span class='ee-v'>Buchweizen</span></li><li><span class='ee-k'>95:</span><span class='ee-v'>Hanf zur Nutzung der Samen</span></li><li><span class='ee-k'>96:</span><span class='ee-v'>Futterleguminosen für die Samenproduktion (Vertragsanbau)</span></li><li><span class='ee-k'>97:</span><span class='ee-v'>Mehrjährige Gewürz- und Medizinalpflanzen</span></li><li><span class='ee-k'>98:</span><span class='ee-v'>Heuwiesen für Zufütterung während der Sömmerung</span></li><li><span class='ee-k'>99:</span><span class='ee-v'>übrige Kulturen in geschütztem Anbau ohne festes Fundament, nicht beitragsberechtigt</span></li><li><span class='ee-k'>100:</span><span class='ee-v'>Linsen</span></li><li><span class='ee-k'>101:</span><span class='ee-v'>Futtergräser für die Samenproduktion (Vertragsanbau)</span></li><li><span class='ee-k'>102:</span><span class='ee-v'>Sonnenblumen als nachwachsender Rohstoff</span></li><li><span class='ee-k'>103:</span><span class='ee-v'>übrige offene Ackerfläche, nicht beitragsberechtigt</span></li><li><span class='ee-k'>104:</span><span class='ee-v'>regionsspezifische Biodiversitätsförderfläche</span></li><li><span class='ee-k'>105:</span><span class='ee-v'>Baumschule von Forstpflanzen ausserhalb der Forstzone</span></li><li><span class='ee-k'>106:</span><span class='ee-v'>Übrige Spezialkulturen in Gewächshäusern mit festem Fundament</span></li><li><span class='ee-k'>107:</span><span class='ee-v'>übrige Kulturen in geschütztem Anbau mit festem Fundament</span></li><li><span class='ee-k'>108:</span><span class='ee-v'>Hopfen</span></li><li><span class='ee-k'>109:</span><span class='ee-v'>Leindotter</span></li><li><span class='ee-k'>110:</span><span class='ee-v'>übrige Kulturen in geschütztem Anbau ohne festes Fundament, beitragsberechtigt</span></li><li><span class='ee-k'>111:</span><span class='ee-v'>Sömmerungsweiden</span></li><li><span class='ee-k'>112:</span><span class='ee-v'>Trüffelanlagen (in Produktion)</span></li><li><span class='ee-k'>113:</span><span class='ee-v'>Artenreiche Grün- und Streueflächen im Sömmerungsgebiet</span></li><li><span class='ee-k'>114:</span><span class='ee-v'>Senf</span></li><li><span class='ee-k'>115:</span><span class='ee-v'>Anderer Hanf</span></li><li><span class='ee-k'>116:</span><span class='ee-v'>Gepflegte Selven (Edelkastanienbäume)</span></li><li><span class='ee-k'>117:</span><span class='ee-v'>Mohn</span></li><li><span class='ee-k'>118:</span><span class='ee-v'>Einjährige nachwachsende Rohstoffe (Kenaf, usw.)</span></li><li><span class='ee-k'>119:</span><span class='ee-v'>Heuwiesen im Sömmerungsgebiet , Übrige Wiesen (keine BFF)</span></li><li><span class='ee-k'>120:</span><span class='ee-v'>Pilze (Freiland)</span></li></ul></li></ul></div><script>function toggleHeader() {\n",
       "    const parent = this.parentElement;\n",
       "    parent.className = parent.className === \"ee-open\" ? \"ee-shut\" : \"ee-open\";\n",
       "}\n",
       "\n",
       "for (let c of document.getElementsByClassName(\"ee-toggle\")) {\n",
       "    c.onclick = toggleHeader;\n",
       "}</script></div>"
      ],
      "text/plain": [
       "<ee.ee_list.List at 0x30bba8b10>"
      ]
     },
     "execution_count": 9,
     "metadata": {},
     "output_type": "execute_result"
    }
   ],
   "source": [
    "# nutzung_collection = ee.FeatureCollection(\n",
    "#     \"projects/thurgau-irrigation/assets/ZH_Nutzungsflaechen_2/ZH_Nutzungsflaechen_2022\"\n",
    "# )\n",
    "\n",
    "# # Rename the NUTZUNG field to nutzung\n",
    "# nutzung_collection = nutzung_collection.map(\n",
    "#     lambda feature: feature.set(\"nutzung\", feature.get(\"NUTZUNG\"))\n",
    "# )\n",
    "\n",
    "# get_unique_nutzung(nutzung_collection)"
   ]
  },
  {
   "cell_type": "code",
   "execution_count": 8,
   "metadata": {},
   "outputs": [
    {
     "data": {
      "text/html": [
       "\n",
       "            <style>\n",
       "                .geemap-dark {\n",
       "                    --jp-widgets-color: white;\n",
       "                    --jp-widgets-label-color: white;\n",
       "                    --jp-ui-font-color1: white;\n",
       "                    --jp-layout-color2: #454545;\n",
       "                    background-color: #383838;\n",
       "                }\n",
       "\n",
       "                .geemap-dark .jupyter-button {\n",
       "                    --jp-layout-color3: #383838;\n",
       "                }\n",
       "\n",
       "                .geemap-colab {\n",
       "                    background-color: var(--colab-primary-surface-color, white);\n",
       "                }\n",
       "\n",
       "                .geemap-colab .jupyter-button {\n",
       "                    --jp-layout-color3: var(--colab-primary-surface-color, white);\n",
       "                }\n",
       "            </style>\n",
       "            "
      ],
      "text/plain": [
       "<IPython.core.display.HTML object>"
      ]
     },
     "metadata": {},
     "output_type": "display_data"
    },
    {
     "name": "stdout",
     "output_type": "stream",
     "text": [
      "Filtered fields count: 36332\n",
      "Rainfed reference fields count: 9262\n"
     ]
    }
   ],
   "source": [
    "# double_cropping_image_2018 = double_cropping_image_collection.first()\n",
    "\n",
    "# # Add double cropping information to the feature collection\n",
    "# nutzung_collection_with_double_crop = add_double_cropping_info(\n",
    "#     nutzung_collection, double_cropping_image_2018\n",
    "# )\n",
    "\n",
    "# not_irrigated_crops = get_crops_to_exclude()\n",
    "# rainfed_crops = get_rainfed_reference_crops()\n",
    "\n",
    "# exclude_filter, rainfed_filter = create_crop_filters(not_irrigated_crops, rainfed_crops)\n",
    "\n",
    "# potentially_rainfed, rainfed_fields = filter_crops(\n",
    "#     nutzung_collection_with_double_crop, exclude_filter, rainfed_filter\n",
    "# )\n",
    "\n",
    "# print(\"Filtered fields count:\", potentially_rainfed.size().getInfo())\n",
    "# print(\"Rainfed reference fields count:\", rainfed_fields.size().getInfo())"
   ]
  },
  {
   "cell_type": "markdown",
   "metadata": {},
   "source": [
    "### Computing ET green and exporting the results\n"
   ]
  },
  {
   "cell_type": "code",
   "execution_count": null,
   "metadata": {},
   "outputs": [],
   "source": [
    "# et_image = ee.Image(WaPOR_et_collections.toList(WaPOR_et_collections.size()).get(20))\n",
    "# jurisdiction_polygons = ee.FeatureCollection(\n",
    "#     \"projects/thurgau-irrigation/assets/Thurgau/thurgau_jurisdictions_2018_wgs84\"\n",
    "# )\n",
    "\n",
    "# et_green_result = compute_et_green(et_image, rainfed_fields, jurisdiction_polygons)"
   ]
  },
  {
   "cell_type": "code",
   "execution_count": null,
   "metadata": {},
   "outputs": [],
   "source": [
    "# Map = geemap.Map()\n",
    "\n",
    "# Map.centerObject(aoi_geometry, 12)\n",
    "# options = {\n",
    "#     \"bands\": [\"ET_green\"],\n",
    "#     \"min\": 0,\n",
    "#     \"max\": 10000,\n",
    "#     \"palette\": [\"blue\", \"green\", \"yellow\", \"red\"],\n",
    "# }\n",
    "# Map.addLayer(et_green_result, options, \"ET_green\")\n",
    "# Map.addLayer(jurisdiction_polygons, {\"color\": \"white\"}, \"Jurisdictions\")\n",
    "# options_et = {\n",
    "#     \"bands\": [\"downscaled\"],\n",
    "#     \"min\": 0,\n",
    "#     \"max\": 100,\n",
    "#     \"palette\": [\"blue\", \"green\", \"yellow\", \"red\"],\n",
    "# }\n",
    "# Map.addLayer(et_image, options_et, \"ET\")\n",
    "\n",
    "# Map"
   ]
  },
  {
   "cell_type": "markdown",
   "metadata": {},
   "source": [
    "### Computing ET green and exporting to asset\n"
   ]
  },
  {
   "cell_type": "code",
   "execution_count": null,
   "metadata": {},
   "outputs": [],
   "source": [
    "TIME_STEPS = 12  # Monthly\n",
    "\n",
    "not_irrigated_crops = get_crops_to_exclude()\n",
    "rainfed_crops = get_rainfed_reference_crops()\n",
    "\n",
    "exclude_filter, rainfed_filter = create_crop_filters(not_irrigated_crops, rainfed_crops)\n",
    "\n",
    "tasks = []\n",
    "\n",
    "total_tasks = 0\n",
    "\n",
    "for year in years_to_process:\n",
    "    j = year - 2022\n",
    "\n",
    "    nutzung_collection_year = ee.FeatureCollection(\n",
    "        f\"projects/thurgau-irrigation/assets/ZH_Nutzungsflaechen_2/ZH_Nutzungsflaechen_{year}\"\n",
    "    )\n",
    "\n",
    "    jurisdiction_polygons = ee.FeatureCollection(\n",
    "        f\"projects/thurgau-irrigation/assets/Zuerich/zurich_jurisdictions_{year}_wgs84\"\n",
    "    )\n",
    "    double_cropping_image_year = ee.Image(double_cropping_list.get(j))\n",
    "\n",
    "    nutzung_collection_with_double_crop_year = add_double_cropping_info(\n",
    "        nutzung_collection_year, double_cropping_image_year\n",
    "    )\n",
    "\n",
    "    potentially_rainfed_year, rainfed_fields_year = filter_crops(\n",
    "        nutzung_collection_with_double_crop_year, exclude_filter, rainfed_filter\n",
    "    )\n",
    "\n",
    "    year_tasks = 0\n",
    "\n",
    "    for i in range(TIME_STEPS):\n",
    "        et_image_year = ee.Image(WaPOR_et_collections_list.get(j * TIME_STEPS + i))\n",
    "        et_green_result_year = compute_et_green(\n",
    "            et_image_year, rainfed_fields_year, jurisdiction_polygons\n",
    "        )\n",
    "\n",
    "        if TIME_STEPS == 36:\n",
    "            dekadal = i % 3 + 1\n",
    "            month = i // 3 + 1\n",
    "            time_step_name = f\"{month:02d}_D{dekadal}\"\n",
    "            time_step_type = \"dekadal\"\n",
    "\n",
    "        elif TIME_STEPS == 12:\n",
    "            month = i + 1\n",
    "            time_step_name = f\"{month:02d}\"\n",
    "            time_step_type = \"monthly\"\n",
    "\n",
    "        else:\n",
    "            raise ValueError(\"Invalid number of time steps. Should be 12 or 36.\")\n",
    "\n",
    "        task_name = f\"ET_green_wapor_jurisdiction_zh_{time_step_type}_{year}-{time_step_name}\"\n",
    "        asset_id = f\"projects/thurgau-irrigation/assets/Zuerich/ET_green_wapor_jurisdiction_zh_{time_step_type}_2022/{task_name}\"\n",
    "\n",
    "        task = export_image_to_asset(\n",
    "            et_green_result_year, asset_id, task_name, year, aoi_buffered\n",
    "        )\n",
    "        tasks.append(task)\n",
    "        year_tasks += 1\n",
    "        total_tasks += 1\n",
    "\n",
    "    print(f\"Year {year} processing complete. Started {year_tasks} tasks.\")\n",
    "\n",
    "print(f\"All processing complete. Total tasks started: {total_tasks}\")"
   ]
  },
  {
   "cell_type": "markdown",
   "metadata": {},
   "source": [
    "### Verifying that the ET green export worked correctly"
   ]
  },
  {
   "cell_type": "code",
   "execution_count": null,
   "metadata": {},
   "outputs": [],
   "source": [
    "# et_green_wapor_monthly = ee.ImageCollection(\"projects/thurgau-irrigation/assets/Thurgau/ET_green_jurisdiction_monthly_2018-2023\").map(lambda image: back_to_float(image, 100))\n",
    "\n",
    "# et_green_wapor_monthly_list = et_green_wapor_monthly.toList(et_green_wapor_monthly.size())\n",
    "\n",
    "# date_utils.print_collection_dates(et_green_wapor_monthly)"
   ]
  },
  {
   "cell_type": "code",
   "execution_count": null,
   "metadata": {},
   "outputs": [],
   "source": [
    "# Map = geemap.Map()\n",
    "\n",
    "# image = ee.Image(et_green_wapor_monthly_list.get(7))\n",
    "# image_2 = ee.Image(et_green_wapor_monthly_list.get(19))\n",
    "# image_3 = ee.Image(et_green_wapor_monthly_list.get(31))\n",
    "\n",
    "# Map.centerObject(aoi_geometry, 12)\n",
    "\n",
    "# options = {\n",
    "#     \"bands\": [\"ET_green\"],\n",
    "#     \"min\": 0,\n",
    "#     \"max\": 150,\n",
    "#     \"palette\": [\"blue\", \"green\", \"yellow\", \"red\"],\n",
    "# }\n",
    "\n",
    "# Map.addLayer(image, options, \"ET_green\")\n",
    "# Map.addLayer(image_2, options, \"ET_green_2\")\n",
    "# Map.addLayer(image_3, options, \"ET_green_3\")\n",
    "\n",
    "# Map\n",
    "\n"
   ]
  },
  {
   "cell_type": "markdown",
   "metadata": {},
   "source": [
    "## Exporting ET Blue maps\n"
   ]
  },
  {
   "cell_type": "code",
   "execution_count": null,
   "metadata": {},
   "outputs": [],
   "source": [
    "# et_green_collection = ee.ImageCollection(\n",
    "#     \"projects/thurgau-irrigation/assets/Thurgau/ET_green_jurisdiction_monthly_2018-2023\"\n",
    "# ).map(lambda image: back_to_float(image, 100))\n",
    "\n",
    "# et_green_collection_list = et_green_collection.toList(et_green_collection.size())\n",
    "\n",
    "# # Sanity check\n",
    "# print(et_green_collection_list.size().getInfo())\n",
    "# date_utils.print_collection_dates(et_green_collection)"
   ]
  },
  {
   "cell_type": "code",
   "execution_count": null,
   "metadata": {},
   "outputs": [],
   "source": [
    "TIME_STEPS = 12\n",
    "\n",
    "tasks = []\n",
    "\n",
    "total_tasks = 0\n",
    "\n",
    "previous_ET_image = None\n",
    "\n",
    "for year in years_to_process:\n",
    "    j = year - 2018\n",
    "\n",
    "    year_tasks = 0\n",
    "\n",
    "    for i in range(TIME_STEPS):\n",
    "        et_image_year = ee.Image(WaPOR_et_collections_list.get(j * TIME_STEPS + i))\n",
    "        et_green_year = ee.Image(et_green_collection_list.get(j * TIME_STEPS + i))\n",
    "\n",
    "        et_blue = compute_et_blue(et_image_year, et_green_year)\n",
    "\n",
    "        # Multiply by 100 and cast to int to save space\n",
    "        et_blue = back_to_int(et_blue, 100)\n",
    "\n",
    "        if TIME_STEPS == 36:\n",
    "            dekadal = i % 3 + 1\n",
    "            month = i // 3 + 1\n",
    "            time_step_name = f\"{month:02d}_D{dekadal}\"\n",
    "            time_step_type = \"dekadal\"\n",
    "\n",
    "        elif TIME_STEPS == 12:\n",
    "            month = i + 1\n",
    "            time_step_name = f\"{month:02d}\"\n",
    "            time_step_type = \"monthly\"\n",
    "\n",
    "        else:\n",
    "            raise ValueError(\"Invalid number of time steps. Should be 12 or 36.\")\n",
    "\n",
    "        task_name = f\"thurgau_ET_raw_refactored_{year}-{time_step_name}\"\n",
    "\n",
    "        asset_id = f\"projects/thurgau-irrigation/assets/Thurgau/ET_blue_raw_wapor_{time_step_type}_2018-2023/{task_name}\"\n",
    "\n",
    "        task = export_image_to_asset(et_blue, asset_id, task_name, year, aoi_buffered)\n",
    "        tasks.append(task)\n",
    "        year_tasks += 1\n",
    "        total_tasks += 1\n",
    "\n",
    "    print(f\"Year {year} processing complete. Started {year_tasks} tasks.\")\n",
    "\n",
    "print(f\"All processing complete. Total tasks started: {total_tasks}\")"
   ]
  },
  {
   "cell_type": "markdown",
   "metadata": {},
   "source": [
    "## Postprocess ET_blue"
   ]
  },
  {
   "cell_type": "code",
   "execution_count": null,
   "metadata": {},
   "outputs": [],
   "source": [
    "# tasks = []\n",
    "\n",
    "# total_tasks = 0\n",
    "\n",
    "# et_blue_raw = ee.ImageCollection(\n",
    "#     \"projects/thurgau-irrigation/assets/Thurgau/ET_blue_raw_2018-2022\"\n",
    "# ).map(lambda image: back_to_float(image, 100))\n",
    "\n",
    "# et_blue_raw_list = et_blue_raw.toList(et_blue_raw.size())\n",
    "\n",
    "# et_blue_previous = None\n",
    "\n",
    "# for year in years_to_process:\n",
    "#     j = year - 2018\n",
    "\n",
    "#     year_tasks = 0\n",
    "\n",
    "#     for i in range(36):\n",
    "#         et_green_year = ee.Image(et_green_collection_list.get(j * 36 + i))\n",
    "#         et_blue_present = ee.Image(et_blue_raw_list.get(j * 36 + i))\n",
    "\n",
    "#         if not et_blue_previous:\n",
    "#             et_blue_previous = et_blue_present\n",
    "\n",
    "#         threshold = calculate_band_std_dev(et_green_year, \"ET_green\")\n",
    "\n",
    "#         et_blue = postprocess_et_blue(et_blue_present, et_blue_previous, threshold)\n",
    "\n",
    "#         et_blue_m3 = compute_volumetric_et_blue(et_blue)\n",
    "\n",
    "#         et_blue = et_blue.addBands(et_blue_m3)\n",
    "\n",
    "#         previous_ET_image = et_blue.select(\"ET_blue\")\n",
    "\n",
    "#         # Multiply by 100 and cast to int to save space\n",
    "#         et_blue = back_to_int(et_blue, 100)\n",
    "\n",
    "#         dekadal = i % 3 + 1\n",
    "#         month = i // 3 + 1\n",
    "\n",
    "#         task_name = f\"ET_postprocessed_{year}-{month:02d}_D{dekadal}\"\n",
    "\n",
    "#         asset_id = f\"projects/thurgau-irrigation/assets/Thurgau/ET_blue_postprocessed_2018-2022/{task_name}\"\n",
    "\n",
    "#         task = export_image_to_asset(et_blue, asset_id, task_name, year, aoi_buffered)\n",
    "#         tasks.append(task)\n",
    "#         year_tasks += 1\n",
    "#         total_tasks += 1\n",
    "\n",
    "#     print(f\"Year {year} processing complete. Started {year_tasks} tasks.\")\n",
    "\n",
    "# print(f\"All processing complete. Total tasks started: {total_tasks}\")"
   ]
  },
  {
   "cell_type": "markdown",
   "metadata": {},
   "source": [
    "## Exploring Nutzungsflaechen\n"
   ]
  },
  {
   "cell_type": "code",
   "execution_count": null,
   "metadata": {},
   "outputs": [],
   "source": [
    "# nutzung_collection = ee.FeatureCollection(\n",
    "#     \"projects/thurgau-irrigation/assets/Thurgau/Nutzungsflaechen/TG_2018_area\"\n",
    "# )"
   ]
  },
  {
   "cell_type": "code",
   "execution_count": null,
   "metadata": {},
   "outputs": [],
   "source": [
    "# def get_unique_nutzung_values(feature_collection: ee.FeatureCollection) -> list:\n",
    "#     \"\"\"\n",
    "#     Get all unique values of the 'nutzung' property from a feature collection.\n",
    "\n",
    "#     Args:\n",
    "#         feature_collection (ee.FeatureCollection): The input feature collection.\n",
    "\n",
    "#     Returns:\n",
    "#         list: A list of unique 'nutzung' values.\n",
    "#     \"\"\"\n",
    "#     # Get distinct values of 'nutzung'\n",
    "#     distinct_values = feature_collection.distinct('nutzung')\n",
    "\n",
    "#     # Aggregate the distinct values into a list\n",
    "#     unique_values = distinct_values.aggregate_array('nutzung')\n",
    "\n",
    "#     # Get the result as a Python list\n",
    "#     return unique_values.getInfo()\n",
    "\n",
    "# unique_nutzung_values = get_unique_nutzung_values(nutzung_collection)\n",
    "\n",
    "# print(\"Unique 'nutzung' values:\")\n",
    "# for value in unique_nutzung_values:\n",
    "#     print(value)"
   ]
  },
  {
   "cell_type": "code",
   "execution_count": null,
   "metadata": {},
   "outputs": [],
   "source": [
    "# def export_feature_collection(collection: ee.FeatureCollection, task_name: str, asset_id: str):\n",
    "#     \"\"\"\n",
    "#     Export the feature collection to an Earth Engine asset.\n",
    "\n",
    "#     Args:\n",
    "#         collection: The feature collection to export.\n",
    "#         year: The year of the feature collection.\n",
    "#         task_name: The name of the export task.\n",
    "#         asset_id: The asset ID to export to.\n",
    "#     \"\"\"\n",
    "#     task = ee.batch.Export.table.toAsset(\n",
    "#         collection=collection,\n",
    "#         description=task_name,\n",
    "#         assetId=asset_id,\n",
    "#     )\n",
    "#     task.start()\n",
    "\n",
    "# for year in years_to_process:\n",
    "#     nutzung_collection_year = ee.FeatureCollection(\n",
    "#         f\"projects/thurgau-irrigation/assets/Thurgau/Nutzungsflaechen/TG_{year}_area\"\n",
    "#     )\n",
    "\n",
    "#     # Apply the filter and estimation function\n",
    "#     validation_nutzung_collection_year = filter_and_estimate_irrigation(nutzung_collection_year)\n",
    "\n",
    "#     task_name = f\"irrigation_estimates_{year}\"\n",
    "#     asset_id = f\"projects/thurgau-irrigation/assets/Thurgau/Walter_Koch_irrigation_estimates_2018-2022/{task_name}\"\n",
    "\n",
    "#     export_feature_collection(validation_nutzung_collection_year, task_name, asset_id)\n",
    "\n",
    "# print(\"All processing complete.\")"
   ]
  },
  {
   "cell_type": "code",
   "execution_count": null,
   "metadata": {},
   "outputs": [],
   "source": [
    "# image_collection = ee.ImageCollection(\"projects/thurgau-irrigation/assets/Thurgau/ET_blue_raw_2018-2022\").map(lambda image: back_to_float(image, 100))\n",
    "\n",
    "# image_list = image_collection.toList(image_collection.size())\n",
    "\n",
    "# image = ee.Image(image_list.get(15))\n",
    "\n",
    "# # image = ee.Image(WaPOR_et_collections_list.get(15)).subtract(ee.Image(et_green_collection_list.get(15)))\n",
    "\n",
    "# Map = geemap.Map()\n",
    "\n",
    "# Map.centerObject(aoi_geometry, 12)\n",
    "\n",
    "# vis_params = {\n",
    "#     \"bands\": [\"ET_blue\"],\n",
    "#     \"min\": -1,\n",
    "#     \"max\": 2,\n",
    "#     \"palette\": [\"white\", \"blue\", \"green\", \"yellow\", \"red\"],\n",
    "# }\n",
    "\n",
    "# Map.addLayer(image, vis_params, \"ET_blue_postprocessed\")\n",
    "\n",
    "# Map"
   ]
  },
  {
   "cell_type": "code",
   "execution_count": null,
   "metadata": {},
   "outputs": [],
   "source": [
    "# et_blue_raw = ee.ImageCollection(\n",
    "#     \"projects/thurgau-irrigation/assets/Thurgau/ET_blue_raw_2018-2022\"\n",
    "# ).map(lambda image: back_to_float(image, 100))\n",
    "\n",
    "# et_blue_raw_list = et_blue_raw.toList(et_blue_raw.size())"
   ]
  },
  {
   "cell_type": "code",
   "execution_count": null,
   "metadata": {},
   "outputs": [],
   "source": [
    "# et_blue_present = ee.Image(et_blue_raw_list.get(20))\n",
    "# et_blue_previous = ee.Image(et_blue_raw_list.get(19))\n",
    "\n",
    "# et_green_year = ee.Image(et_green_collection_list.get(20))\n",
    "\n",
    "# threshold = calculate_band_std_dev(et_green_year, \"ET_green\")\n",
    "\n",
    "# et_blue = postprocess_et_blue(et_blue_present, et_blue_previous, threshold)\n",
    "\n",
    "# et_blue_m3 = compute_volumetric_et_blue(et_blue)"
   ]
  },
  {
   "cell_type": "code",
   "execution_count": null,
   "metadata": {},
   "outputs": [],
   "source": [
    "# image_postprocessed = ee.ImageCollection(\"projects/thurgau-irrigation/assets/Thurgau/ET_blue_postprocessed_2018-2022\")\n",
    "\n",
    "# image_postprocessed.first().date().format(\"YYYY-MM-dd\").getInfo()"
   ]
  },
  {
   "cell_type": "code",
   "execution_count": null,
   "metadata": {},
   "outputs": [],
   "source": []
  }
 ],
 "metadata": {
  "kernelspec": {
   "display_name": "base",
   "language": "python",
   "name": "python3"
  },
  "language_info": {
   "codemirror_mode": {
    "name": "ipython",
    "version": 3
   },
   "file_extension": ".py",
   "mimetype": "text/x-python",
   "name": "python",
   "nbconvert_exporter": "python",
   "pygments_lexer": "ipython3",
   "version": "3.11.8"
  }
 },
 "nbformat": 4,
 "nbformat_minor": 2
}
