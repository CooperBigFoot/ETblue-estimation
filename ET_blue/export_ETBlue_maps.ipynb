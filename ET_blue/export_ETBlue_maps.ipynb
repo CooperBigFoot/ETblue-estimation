{
 "cells": [
  {
   "cell_type": "code",
   "execution_count": 1,
   "metadata": {},
   "outputs": [],
   "source": [
    "import sys\n",
    "import os\n",
    "\n",
    "sys.path.append(os.path.abspath(os.path.join(\"..\")))"
   ]
  },
  {
   "cell_type": "code",
   "execution_count": 2,
   "metadata": {},
   "outputs": [],
   "source": [
    "from filter_nutzungsflaechen import (\n",
    "    get_crops_to_exclude,\n",
    "    get_rainfed_reference_crops,\n",
    "    create_crop_filters,\n",
    "    filter_crops,\n",
    "    add_double_cropping_info,\n",
    ")\n",
    "\n",
    "from compute_ET_green import compute_et_green\n",
    "from compute_ET_blue import compute_et_blue, compute_volumetric_et_blue\n",
    "\n",
    "from utils import ee_utils\n",
    "\n",
    "import ee\n",
    "import geemap"
   ]
  },
  {
   "cell_type": "code",
   "execution_count": null,
   "metadata": {},
   "outputs": [],
   "source": [
    "ee.Initialize(project=\"thurgau-irrigation\")"
   ]
  },
  {
   "cell_type": "markdown",
   "metadata": {},
   "source": [
    "## Define the region of interest"
   ]
  },
  {
   "cell_type": "code",
   "execution_count": null,
   "metadata": {},
   "outputs": [],
   "source": [
    "# For the canton of Thurgau\n",
    "cantonal_borders_asset = (\n",
    "    \"projects/thurgau-irrigation/assets/Thurgau/thrugau_borders_2024\"\n",
    ")\n",
    "\n",
    "aoi_feature_collection = ee.FeatureCollection(cantonal_borders_asset)\n",
    "aoi_geometry = aoi_feature_collection.geometry()\n",
    "aoi_geometry = aoi_geometry.simplify(500)\n",
    "aoi_buffered = aoi_geometry.buffer(100)"
   ]
  },
  {
   "cell_type": "markdown",
   "metadata": {},
   "source": [
    "## Importing all assets: land use maps, vegetation periods, WaPOR ET data."
   ]
  },
  {
   "cell_type": "code",
   "execution_count": null,
   "metadata": {},
   "outputs": [],
   "source": [
    "years_to_process = range(2018, 2023)\n",
    "\n",
    "double_cropping_image_collection = ee.ImageCollection(\n",
    "    \"projects/thurgau-irrigation/assets/Thurgau/vegetation_periods_2018-2023\"\n",
    ")\n",
    "\n",
    "\n",
    "WaPOR_assets = \"projects/thurgau-irrigation/assets/Thurgau/ET_WaPOR_10m_dekadal\"\n",
    "WaPOR_et_collections = ee_utils.merge_collections(\n",
    "    years=years_to_process, asset_name=WaPOR_assets\n",
    ")\n",
    "\n",
    "\n",
    "def back_to_float(image: ee.Image, scale: int) -> ee.Image:\n",
    "    \"\"\"\n",
    "    Convert an image to float and divide by the scale\n",
    "\n",
    "    Args:\n",
    "        image: The image to convert\n",
    "        scale: The scale to divide by\n",
    "\n",
    "    Returns:\n",
    "        The image converted to float and divided by the scale\n",
    "    \"\"\"\n",
    "    date = image.get(\"system:time_start\")\n",
    "    return image.toFloat().divide(scale).set(\"system:time_start\", date)\n",
    "\n",
    "\n",
    "WaPOR_et_collections = WaPOR_et_collections.map(lambda image: back_to_float(image, 100))"
   ]
  },
  {
   "cell_type": "markdown",
   "metadata": {},
   "source": [
    "## Filtering out potentially irrigated crops and refeence rainfed fields"
   ]
  },
  {
   "cell_type": "code",
   "execution_count": null,
   "metadata": {},
   "outputs": [],
   "source": [
    "# # Add double cropping information to the feature collection\n",
    "# nutzung_collection_with_double_crop = add_double_cropping_info(\n",
    "#     nutzung_collection, double_cropping_image_2018\n",
    "# )\n",
    "\n",
    "# not_irrigated_crops = get_crops_to_exclude()\n",
    "# rainfed_crops = get_rainfed_reference_crops()\n",
    "\n",
    "# exclude_filter, rainfed_filter = create_crop_filters(not_irrigated_crops, rainfed_crops)\n",
    "\n",
    "# potentially_rainfed, rainfed_fields = filter_crops(\n",
    "#     nutzung_collection_with_double_crop, exclude_filter, rainfed_filter\n",
    "# )\n",
    "\n",
    "# print(\"Filtered fields count:\", potentially_rainfed.size().getInfo())\n",
    "# print(\"Rainfed reference fields count:\", rainfed_fields.size().getInfo())"
   ]
  },
  {
   "cell_type": "markdown",
   "metadata": {},
   "source": [
    "## Computing ET green and exporting the results"
   ]
  },
  {
   "cell_type": "code",
   "execution_count": null,
   "metadata": {},
   "outputs": [],
   "source": [
    "# et_image = WaPOR_et_collections.first()\n",
    "\n",
    "# et_green_result = compute_et_green(et_image, rainfed_fields)"
   ]
  },
  {
   "cell_type": "code",
   "execution_count": null,
   "metadata": {},
   "outputs": [],
   "source": [
    "def export_image_to_asset(\n",
    "    image: ee.Image,\n",
    "    asset_id: str,\n",
    "    task_name: str,\n",
    "    year: int,\n",
    "    aoi: ee.Geometry,\n",
    "    max_pixels: int = 1e13,\n",
    ") -> ee.batch.Task:\n",
    "    \"\"\"\n",
    "    Export an image to an Earth Engine asset.\n",
    "    \"\"\"\n",
    "    task = ee.batch.Export.image.toAsset(\n",
    "        image=image,\n",
    "        description=task_name,\n",
    "        assetId=asset_id,\n",
    "        region=aoi,\n",
    "        scale=10,\n",
    "        maxPixels=max_pixels,\n",
    "    )\n",
    "    print(f\"Exporting {task_name} for {year} to {asset_id}\")\n",
    "    task.start()\n",
    "    return task\n",
    "\n",
    "\n",
    "double_cropping_list = double_cropping_image_collection.toList(\n",
    "    double_cropping_image_collection.size()\n",
    ")\n",
    "WaPOR_et_collections_list = WaPOR_et_collections.toList(WaPOR_et_collections.size())\n",
    "\n",
    "not_irrigated_crops = get_crops_to_exclude()\n",
    "rainfed_crops = get_rainfed_reference_crops()\n",
    "\n",
    "exclude_filter, rainfed_filter = create_crop_filters(not_irrigated_crops, rainfed_crops)\n",
    "\n",
    "# tasks = []\n",
    "\n",
    "# total_tasks = 0\n",
    "\n",
    "# for year in years_to_process:\n",
    "#     j = year - 2018\n",
    "#     nutzung_collection_year = ee.FeatureCollection(\n",
    "#         f\"projects/thurgau-irrigation/assets/Thurgau/Nutzungsflaechen/TG_{year}_area\"\n",
    "#     )\n",
    "#     double_cropping_image_year = ee.Image(double_cropping_list.get(j))\n",
    "\n",
    "#     nutzung_collection_with_double_crop_year = add_double_cropping_info(\n",
    "#         nutzung_collection_year, double_cropping_image_year\n",
    "#     )\n",
    "\n",
    "#     potentially_rainfed_year, rainfed_fields_year = filter_crops(\n",
    "#         nutzung_collection_with_double_crop_year, exclude_filter, rainfed_filter\n",
    "#     )\n",
    "\n",
    "#     year_tasks = 0\n",
    "\n",
    "#     for i in range(36):\n",
    "#         et_image_year = ee.Image(WaPOR_et_collections_list.get(j * 36 + i))\n",
    "#         et_green_result_year = compute_et_green(et_image_year, rainfed_fields_year)\n",
    "\n",
    "#         dekadal = i % 3 + 1\n",
    "#         month = i // 3 + 1\n",
    "\n",
    "#         task_name = f\"ET_green_{year}-{month:02d}_D{dekadal}\"\n",
    "#         asset_id = (\n",
    "#             f\"projects/thurgau-irrigation/assets/Thurgau/ET_green_2018-2022/{task_name}\"\n",
    "#         )\n",
    "\n",
    "#         task = export_image_to_asset(\n",
    "#             et_green_result_year, asset_id, task_name, year, aoi_buffered\n",
    "#         )\n",
    "#         tasks.append(task)\n",
    "#         year_tasks += 1\n",
    "#         total_tasks += 1\n",
    "\n",
    "#     print(f\"Year {year} processing complete. Started {year_tasks} tasks.\")\n",
    "\n",
    "# print(f\"All processing complete. Total tasks started: {total_tasks}\")"
   ]
  },
  {
   "cell_type": "markdown",
   "metadata": {},
   "source": [
    "## Testing that it all went fine"
   ]
  },
  {
   "cell_type": "code",
   "execution_count": null,
   "metadata": {},
   "outputs": [],
   "source": [
    "# tasks = []\n",
    "\n",
    "# total_tasks = 0\n",
    "\n",
    "# et_green_collection = ee.ImageCollection(\n",
    "#     \"projects/thurgau-irrigation/assets/Thurgau/ET_green_2018-2022\"\n",
    "# ).map(lambda image: back_to_float(image, 10000))\n",
    "\n",
    "# et_green_collection_list = et_green_collection.toList(et_green_collection.size())\n",
    "\n",
    "# for year in years_to_process:\n",
    "#     j = year - 2018\n",
    "\n",
    "#     year_tasks = 0\n",
    "\n",
    "#     for i in range(36):\n",
    "#         et_image_year = ee.Image(WaPOR_et_collections_list.get(j * 36 + i))\n",
    "#         et_green_year = ee.Image(et_green_collection_list.get(j * 36 + i))\n",
    "\n",
    "#         et_blue_mm = compute_et_blue(et_image_year, et_green_year)\n",
    "#         et_blue_m3 = compute_volumetric_et_blue(et_blue_mm)\n",
    "\n",
    "#         et_blue = et_blue_mm.addBands(et_blue_m3)\n",
    "\n",
    "#         date = et_image_year.get(\"system:time_start\")\n",
    "\n",
    "#         # Multiply by 100 and cast to int to save space\n",
    "#         et_blue = et_blue.multiply(100).int().set(\"system:time_start\", date)\n",
    "\n",
    "#         dekadal = i % 3 + 1\n",
    "#         month = i // 3 + 1\n",
    "\n",
    "#         task_name = f\"ET_blue_{year}-{month:02d}_D{dekadal}\"\n",
    "#         asset_id = (\n",
    "#             f\"projects/thurgau-irrigation/assets/Thurgau/ET_blue_2018-2022/{task_name}\"\n",
    "#         )\n",
    "\n",
    "#         task = export_image_to_asset(et_blue, asset_id, task_name, year, aoi_buffered)\n",
    "#         tasks.append(task)\n",
    "#         year_tasks += 1\n",
    "#         total_tasks += 1\n",
    "\n",
    "#     print(f\"Year {year} processing complete. Started {year_tasks} tasks.\")\n",
    "\n",
    "# print(f\"All processing complete. Total tasks started: {total_tasks}\")"
   ]
  },
  {
   "cell_type": "markdown",
   "metadata": {},
   "source": [
    "## Exploring Nutzungsflaechen"
   ]
  },
  {
   "cell_type": "code",
   "execution_count": 10,
   "metadata": {},
   "outputs": [
    {
     "data": {
      "text/html": [
       "\n",
       "            <style>\n",
       "                .geemap-dark {\n",
       "                    --jp-widgets-color: white;\n",
       "                    --jp-widgets-label-color: white;\n",
       "                    --jp-ui-font-color1: white;\n",
       "                    --jp-layout-color2: #454545;\n",
       "                    background-color: #383838;\n",
       "                }\n",
       "\n",
       "                .geemap-dark .jupyter-button {\n",
       "                    --jp-layout-color3: #383838;\n",
       "                }\n",
       "\n",
       "                .geemap-colab {\n",
       "                    background-color: var(--colab-primary-surface-color, white);\n",
       "                }\n",
       "\n",
       "                .geemap-colab .jupyter-button {\n",
       "                    --jp-layout-color3: var(--colab-primary-surface-color, white);\n",
       "                }\n",
       "            </style>\n",
       "            "
      ],
      "text/plain": [
       "<IPython.core.display.HTML object>"
      ]
     },
     "metadata": {},
     "output_type": "display_data"
    }
   ],
   "source": [
    "nutzung_collection = ee.FeatureCollection(\n",
    "    \"projects/thurgau-irrigation/assets/Thurgau/Nutzungsflaechen/TG_2018_area\"\n",
    ")"
   ]
  },
  {
   "cell_type": "code",
   "execution_count": 11,
   "metadata": {},
   "outputs": [
    {
     "data": {
      "text/html": [
       "\n",
       "            <style>\n",
       "                .geemap-dark {\n",
       "                    --jp-widgets-color: white;\n",
       "                    --jp-widgets-label-color: white;\n",
       "                    --jp-ui-font-color1: white;\n",
       "                    --jp-layout-color2: #454545;\n",
       "                    background-color: #383838;\n",
       "                }\n",
       "\n",
       "                .geemap-dark .jupyter-button {\n",
       "                    --jp-layout-color3: #383838;\n",
       "                }\n",
       "\n",
       "                .geemap-colab {\n",
       "                    background-color: var(--colab-primary-surface-color, white);\n",
       "                }\n",
       "\n",
       "                .geemap-colab .jupyter-button {\n",
       "                    --jp-layout-color3: var(--colab-primary-surface-color, white);\n",
       "                }\n",
       "            </style>\n",
       "            "
      ],
      "text/plain": [
       "<IPython.core.display.HTML object>"
      ]
     },
     "metadata": {},
     "output_type": "display_data"
    },
    {
     "data": {
      "text/plain": [
       "{'type': 'Feature',\n",
       " 'geometry': {'type': 'Polygon',\n",
       "  'coordinates': [[[8.727682593683012, 47.65023476440003],\n",
       "    [8.727972354263729, 47.65023924800176],\n",
       "    [8.728810690294116, 47.65025710257947],\n",
       "    [8.730014695233493, 47.65027937624826],\n",
       "    [8.730522948424099, 47.65029718424333],\n",
       "    [8.731726922055417, 47.650355151535706],\n",
       "    [8.731735901804308, 47.65038639129922],\n",
       "    [8.73138356470141, 47.65036854473621],\n",
       "    [8.730638920984049, 47.6503284145219],\n",
       "    [8.729805108044017, 47.65030614205983],\n",
       "    [8.72835137714512, 47.65028827741762],\n",
       "    [8.727731571346789, 47.65027936414204],\n",
       "    [8.727682593683012, 47.65023476440003]]]},\n",
       " 'id': '000000000000000001a9',\n",
       " 'properties': {'Area': 1060.028,\n",
       "  'anzahl_bae': None,\n",
       "  'beitragsbe': 1,\n",
       "  'bewirtsc_1': 'f37d74c4-3eff-49b8-ac91-08ed6aaa0902',\n",
       "  'bewirtscha': 100,\n",
       "  'datum_bis': '2019/12/12 00:00:00.000',\n",
       "  'datum_von': '2018/12/12 00:00:00.000',\n",
       "  'einzelkult': 0,\n",
       "  'hid': 116244,\n",
       "  'ist_aggreg': 0,\n",
       "  'ist_defini': 1,\n",
       "  'ist_geomet': 1,\n",
       "  'ist_ueberl': 0,\n",
       "  'lnf_code': '556',\n",
       "  'lq_bemerku': '',\n",
       "  'nhg': 1,\n",
       "  'nutzung': 'Buntbrache',\n",
       "  'nutzung_im': 1,\n",
       "  'nutzungsar': '89d6f095-2425-102f-bec9-597a5b569e17',\n",
       "  'nutzungsid': 'TG.KUL.902340',\n",
       "  'objectid': 160578,\n",
       "  'schnittzei': None,\n",
       "  'status_tid': '259d27a8-2431-102f-bec9-597a5b569e17',\n",
       "  'tid': '138e9be8-270b-4413-ae7c-c1fef1a3b588',\n",
       "  'verpflic_1': 2019,\n",
       "  'verpflicht': 2012}}"
      ]
     },
     "execution_count": 11,
     "metadata": {},
     "output_type": "execute_result"
    }
   ],
   "source": [
    "def get_unique_nutzung_values(feature_collection: ee.FeatureCollection) -> list:\n",
    "    \"\"\"\n",
    "    Get all unique values of the 'nutzung' property from a feature collection.\n",
    "\n",
    "    Args:\n",
    "        feature_collection (ee.FeatureCollection): The input feature collection.\n",
    "\n",
    "    Returns:\n",
    "        list: A list of unique 'nutzung' values.\n",
    "    \"\"\"\n",
    "    # Get distinct values of 'nutzung'\n",
    "    distinct_values = feature_collection.distinct('nutzung')\n",
    "\n",
    "    # Aggregate the distinct values into a list\n",
    "    unique_values = distinct_values.aggregate_array('nutzung')\n",
    "\n",
    "    # Get the result as a Python list\n",
    "    return unique_values.getInfo()"
   ]
  },
  {
   "cell_type": "code",
   "execution_count": null,
   "metadata": {},
   "outputs": [],
   "source": []
  }
 ],
 "metadata": {
  "kernelspec": {
   "display_name": "base",
   "language": "python",
   "name": "python3"
  },
  "language_info": {
   "codemirror_mode": {
    "name": "ipython",
    "version": 3
   },
   "file_extension": ".py",
   "mimetype": "text/x-python",
   "name": "python",
   "nbconvert_exporter": "python",
   "pygments_lexer": "ipython3",
   "version": "3.11.8"
  }
 },
 "nbformat": 4,
 "nbformat_minor": 2
}
