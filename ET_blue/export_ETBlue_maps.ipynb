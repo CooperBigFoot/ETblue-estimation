{
 "cells": [
  {
   "cell_type": "code",
   "execution_count": 1,
   "metadata": {},
   "outputs": [],
   "source": [
    "from filter_nutzungsflaechen import (\n",
    "    get_crops_to_exclude,\n",
    "    get_rainfed_reference_crops,\n",
    "    create_crop_filters,\n",
    "    filter_crops,\n",
    "    add_double_cropping_info,\n",
    ")\n",
    "\n",
    "import ee\n",
    "import geemap"
   ]
  },
  {
   "cell_type": "code",
   "execution_count": 2,
   "metadata": {},
   "outputs": [
    {
     "data": {
      "text/html": [
       "\n",
       "            <style>\n",
       "                .geemap-dark {\n",
       "                    --jp-widgets-color: white;\n",
       "                    --jp-widgets-label-color: white;\n",
       "                    --jp-ui-font-color1: white;\n",
       "                    --jp-layout-color2: #454545;\n",
       "                    background-color: #383838;\n",
       "                }\n",
       "\n",
       "                .geemap-dark .jupyter-button {\n",
       "                    --jp-layout-color3: #383838;\n",
       "                }\n",
       "\n",
       "                .geemap-colab {\n",
       "                    background-color: var(--colab-primary-surface-color, white);\n",
       "                }\n",
       "\n",
       "                .geemap-colab .jupyter-button {\n",
       "                    --jp-layout-color3: var(--colab-primary-surface-color, white);\n",
       "                }\n",
       "            </style>\n",
       "            "
      ],
      "text/plain": [
       "<IPython.core.display.HTML object>"
      ]
     },
     "metadata": {},
     "output_type": "display_data"
    }
   ],
   "source": [
    "ee.Initialize(project=\"thurgau-irrigation\")"
   ]
  },
  {
   "cell_type": "code",
   "execution_count": 3,
   "metadata": {},
   "outputs": [
    {
     "data": {
      "text/html": [
       "\n",
       "            <style>\n",
       "                .geemap-dark {\n",
       "                    --jp-widgets-color: white;\n",
       "                    --jp-widgets-label-color: white;\n",
       "                    --jp-ui-font-color1: white;\n",
       "                    --jp-layout-color2: #454545;\n",
       "                    background-color: #383838;\n",
       "                }\n",
       "\n",
       "                .geemap-dark .jupyter-button {\n",
       "                    --jp-layout-color3: #383838;\n",
       "                }\n",
       "\n",
       "                .geemap-colab {\n",
       "                    background-color: var(--colab-primary-surface-color, white);\n",
       "                }\n",
       "\n",
       "                .geemap-colab .jupyter-button {\n",
       "                    --jp-layout-color3: var(--colab-primary-surface-color, white);\n",
       "                }\n",
       "            </style>\n",
       "            "
      ],
      "text/plain": [
       "<IPython.core.display.HTML object>"
      ]
     },
     "metadata": {},
     "output_type": "display_data"
    }
   ],
   "source": [
    "nutzung_collection = ee.FeatureCollection(\"projects/thurgau-irrigation/assets/Thurgau/Nutzungsflaechen/TG_2018_area\")\n",
    "\n",
    "double_cropping_image_collection = ee.ImageCollection(\"projects/thurgau-irrigation/assets/Thurgau/vegetation_periods_2018-2023\")"
   ]
  },
  {
   "cell_type": "code",
   "execution_count": 4,
   "metadata": {},
   "outputs": [
    {
     "data": {
      "text/html": [
       "\n",
       "            <style>\n",
       "                .geemap-dark {\n",
       "                    --jp-widgets-color: white;\n",
       "                    --jp-widgets-label-color: white;\n",
       "                    --jp-ui-font-color1: white;\n",
       "                    --jp-layout-color2: #454545;\n",
       "                    background-color: #383838;\n",
       "                }\n",
       "\n",
       "                .geemap-dark .jupyter-button {\n",
       "                    --jp-layout-color3: #383838;\n",
       "                }\n",
       "\n",
       "                .geemap-colab {\n",
       "                    background-color: var(--colab-primary-surface-color, white);\n",
       "                }\n",
       "\n",
       "                .geemap-colab .jupyter-button {\n",
       "                    --jp-layout-color3: var(--colab-primary-surface-color, white);\n",
       "                }\n",
       "            </style>\n",
       "            "
      ],
      "text/plain": [
       "<IPython.core.display.HTML object>"
      ]
     },
     "metadata": {},
     "output_type": "display_data"
    }
   ],
   "source": [
    "double_cropping_image_2018 = double_cropping_image_collection.first()"
   ]
  },
  {
   "cell_type": "code",
   "execution_count": 5,
   "metadata": {},
   "outputs": [
    {
     "data": {
      "text/html": [
       "\n",
       "            <style>\n",
       "                .geemap-dark {\n",
       "                    --jp-widgets-color: white;\n",
       "                    --jp-widgets-label-color: white;\n",
       "                    --jp-ui-font-color1: white;\n",
       "                    --jp-layout-color2: #454545;\n",
       "                    background-color: #383838;\n",
       "                }\n",
       "\n",
       "                .geemap-dark .jupyter-button {\n",
       "                    --jp-layout-color3: #383838;\n",
       "                }\n",
       "\n",
       "                .geemap-colab {\n",
       "                    background-color: var(--colab-primary-surface-color, white);\n",
       "                }\n",
       "\n",
       "                .geemap-colab .jupyter-button {\n",
       "                    --jp-layout-color3: var(--colab-primary-surface-color, white);\n",
       "                }\n",
       "            </style>\n",
       "            "
      ],
      "text/plain": [
       "<IPython.core.display.HTML object>"
      ]
     },
     "metadata": {},
     "output_type": "display_data"
    },
    {
     "name": "stdout",
     "output_type": "stream",
     "text": [
      "Filtered fields count: 12931\n",
      "Rainfed reference fields count: 21958\n"
     ]
    }
   ],
   "source": [
    "# Add double cropping information to the feature collection\n",
    "nutzung_collection_with_double_crop = add_double_cropping_info(\n",
    "    nutzung_collection, double_cropping_image_2018\n",
    ")\n",
    "\n",
    "crops_to_exclude = get_crops_to_exclude()\n",
    "rainfed_crops = get_rainfed_reference_crops()\n",
    "\n",
    "exclude_filter, rainfed_filter = create_crop_filters(crops_to_exclude, rainfed_crops)\n",
    "\n",
    "filtered_fields, rainfed_fields = filter_crops(\n",
    "    nutzung_collection_with_double_crop, exclude_filter, rainfed_filter\n",
    ")\n",
    "\n",
    "print(\"Filtered fields count:\", filtered_fields.size().getInfo())\n",
    "print(\"Rainfed reference fields count:\", rainfed_fields.size().getInfo())"
   ]
  },
  {
   "cell_type": "code",
   "execution_count": 6,
   "metadata": {},
   "outputs": [
    {
     "data": {
      "text/html": [
       "\n",
       "            <style>\n",
       "                .geemap-dark {\n",
       "                    --jp-widgets-color: white;\n",
       "                    --jp-widgets-label-color: white;\n",
       "                    --jp-ui-font-color1: white;\n",
       "                    --jp-layout-color2: #454545;\n",
       "                    background-color: #383838;\n",
       "                }\n",
       "\n",
       "                .geemap-dark .jupyter-button {\n",
       "                    --jp-layout-color3: #383838;\n",
       "                }\n",
       "\n",
       "                .geemap-colab {\n",
       "                    background-color: var(--colab-primary-surface-color, white);\n",
       "                }\n",
       "\n",
       "                .geemap-colab .jupyter-button {\n",
       "                    --jp-layout-color3: var(--colab-primary-surface-color, white);\n",
       "                }\n",
       "            </style>\n",
       "            "
      ],
      "text/plain": [
       "<IPython.core.display.HTML object>"
      ]
     },
     "metadata": {},
     "output_type": "display_data"
    },
    {
     "data": {
      "text/plain": [
       "{'type': 'Feature',\n",
       " 'geometry': {'type': 'Polygon',\n",
       "  'coordinates': [[[8.883572713325766, 47.53157365281426],\n",
       "    [8.883889338521014, 47.53044991379352],\n",
       "    [8.884014207656723, 47.53001738466322],\n",
       "    [8.884138981767558, 47.52958486618947],\n",
       "    [8.884482352135029, 47.529758814537374],\n",
       "    [8.884642905374339, 47.52983902971018],\n",
       "    [8.884821301543788, 47.529923744704355],\n",
       "    [8.884995197908484, 47.53001296252951],\n",
       "    [8.885048661292293, 47.53004421000787],\n",
       "    [8.885088856117491, 47.530075358055456],\n",
       "    [8.885115543867109, 47.53011103084136],\n",
       "    [8.885124475075207, 47.53015563632715],\n",
       "    [8.885106664781924, 47.530387529583344],\n",
       "    [8.88508435846711, 47.53051686458056],\n",
       "    [8.884977369877946, 47.53087801668306],\n",
       "    [8.88482574999814, 47.53130606850528],\n",
       "    [8.88466517545936, 47.531760944871856],\n",
       "    [8.884647335358515, 47.531859054213975],\n",
       "    [8.88465182612289, 47.53195263150149],\n",
       "    [8.884665251976843, 47.53200617565901],\n",
       "    [8.884620645186184, 47.53201063009765],\n",
       "    [8.884558133675334, 47.53199722494543],\n",
       "    [8.884518081274893, 47.531983883323576],\n",
       "    [8.884428855504908, 47.53195715511441],\n",
       "    [8.884246028027626, 47.53187240310416],\n",
       "    [8.883572713325766, 47.53157365281426]]]},\n",
       " 'id': '00000000000000000000',\n",
       " 'properties': {'Area': 19406.194,\n",
       "  'anzahl_bae': None,\n",
       "  'beitragsbe': 1,\n",
       "  'bewirtsc_1': '6e0a0b51-81a3-4776-83f3-b34b54493c90',\n",
       "  'bewirtscha': 100,\n",
       "  'datum_bis': '2019/12/12 00:00:00.000',\n",
       "  'datum_von': '2018/12/12 00:00:00.000',\n",
       "  'einzelkult': 0,\n",
       "  'hid': 115839,\n",
       "  'isDoubleCropped': 0,\n",
       "  'ist_aggreg': 0,\n",
       "  'ist_defini': 1,\n",
       "  'ist_geomet': 0,\n",
       "  'ist_ueberl': 0,\n",
       "  'lnf_code': '601',\n",
       "  'lq_bemerku': '',\n",
       "  'nhg': 0,\n",
       "  'nutzung': 'Kunstwiesen (ohne Weiden)',\n",
       "  'nutzung_im': 1,\n",
       "  'nutzungsar': '89d7163b-2425-102f-bec9-597a5b569e17',\n",
       "  'nutzungsid': 'TG.KUL.895715',\n",
       "  'objectid': 160173,\n",
       "  'schnittzei': None,\n",
       "  'status_tid': '259d27a8-2431-102f-bec9-597a5b569e17',\n",
       "  'tid': '00227a42-ad5c-481b-b00d-2615c64c7c5d',\n",
       "  'verpflic_1': None,\n",
       "  'verpflicht': None}}"
      ]
     },
     "execution_count": 6,
     "metadata": {},
     "output_type": "execute_result"
    }
   ],
   "source": [
    "rainfed_fields.first().getInfo()"
   ]
  }
 ],
 "metadata": {
  "kernelspec": {
   "display_name": "base",
   "language": "python",
   "name": "python3"
  },
  "language_info": {
   "codemirror_mode": {
    "name": "ipython",
    "version": 3
   },
   "file_extension": ".py",
   "mimetype": "text/x-python",
   "name": "python",
   "nbconvert_exporter": "python",
   "pygments_lexer": "ipython3",
   "version": "3.11.8"
  }
 },
 "nbformat": 4,
 "nbformat_minor": 2
}
