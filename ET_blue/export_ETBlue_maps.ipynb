{
 "cells": [
  {
   "cell_type": "code",
   "execution_count": 1,
   "metadata": {},
   "outputs": [],
   "source": [
    "import sys\n",
    "import os\n",
    "\n",
    "sys.path.append(os.path.abspath(os.path.join(\"..\")))"
   ]
  },
  {
   "cell_type": "code",
   "execution_count": 2,
   "metadata": {},
   "outputs": [],
   "source": [
    "sys.setrecursionlimit(5000)"
   ]
  },
  {
   "cell_type": "code",
   "execution_count": 3,
   "metadata": {},
   "outputs": [],
   "source": [
    "from filter_nutzungsflaechen import (\n",
    "    get_crops_to_exclude,\n",
    "    get_rainfed_reference_crops,\n",
    "    create_crop_filters,\n",
    "    filter_crops,\n",
    "    add_double_cropping_info,\n",
    "    get_unique_nutzung\n",
    ")\n",
    "\n",
    "from compute_ET_green import compute_et_green, calculate_band_std_dev\n",
    "from compute_ET_blue import (\n",
    "    compute_et_blue,\n",
    "    compute_volumetric_et_blue,\n",
    "    postprocess_et_blue,\n",
    ")\n",
    "from add_walter_irrigation_estimates import filter_and_estimate_irrigation\n",
    "\n",
    "from utils import ee_utils, date_utils\n",
    "from utils.ee_utils import back_to_float, back_to_int, export_image_to_asset\n",
    "\n",
    "from typing import List, Tuple\n",
    "\n",
    "import ee\n",
    "import geemap"
   ]
  },
  {
   "cell_type": "code",
   "execution_count": 4,
   "metadata": {},
   "outputs": [
    {
     "data": {
      "text/html": [
       "\n",
       "            <style>\n",
       "                .geemap-dark {\n",
       "                    --jp-widgets-color: white;\n",
       "                    --jp-widgets-label-color: white;\n",
       "                    --jp-ui-font-color1: white;\n",
       "                    --jp-layout-color2: #454545;\n",
       "                    background-color: #383838;\n",
       "                }\n",
       "\n",
       "                .geemap-dark .jupyter-button {\n",
       "                    --jp-layout-color3: #383838;\n",
       "                }\n",
       "\n",
       "                .geemap-colab {\n",
       "                    background-color: var(--colab-primary-surface-color, white);\n",
       "                }\n",
       "\n",
       "                .geemap-colab .jupyter-button {\n",
       "                    --jp-layout-color3: var(--colab-primary-surface-color, white);\n",
       "                }\n",
       "            </style>\n",
       "            "
      ],
      "text/plain": [
       "<IPython.core.display.HTML object>"
      ]
     },
     "metadata": {},
     "output_type": "display_data"
    }
   ],
   "source": [
    "ee.Initialize(project=\"thurgau-irrigation\")"
   ]
  },
  {
   "cell_type": "markdown",
   "metadata": {},
   "source": [
    "## Define the region of interest\n"
   ]
  },
  {
   "cell_type": "code",
   "execution_count": 5,
   "metadata": {},
   "outputs": [
    {
     "data": {
      "text/html": [
       "\n",
       "            <style>\n",
       "                .geemap-dark {\n",
       "                    --jp-widgets-color: white;\n",
       "                    --jp-widgets-label-color: white;\n",
       "                    --jp-ui-font-color1: white;\n",
       "                    --jp-layout-color2: #454545;\n",
       "                    background-color: #383838;\n",
       "                }\n",
       "\n",
       "                .geemap-dark .jupyter-button {\n",
       "                    --jp-layout-color3: #383838;\n",
       "                }\n",
       "\n",
       "                .geemap-colab {\n",
       "                    background-color: var(--colab-primary-surface-color, white);\n",
       "                }\n",
       "\n",
       "                .geemap-colab .jupyter-button {\n",
       "                    --jp-layout-color3: var(--colab-primary-surface-color, white);\n",
       "                }\n",
       "            </style>\n",
       "            "
      ],
      "text/plain": [
       "<IPython.core.display.HTML object>"
      ]
     },
     "metadata": {},
     "output_type": "display_data"
    }
   ],
   "source": [
    "# For the canton of Thurgau\n",
    "cantonal_borders_asset = (\n",
    "    \"projects/thurgau-irrigation/assets/Zuerich/Zuerich_bound\"\n",
    ")\n",
    "\n",
    "aoi_feature_collection = ee.FeatureCollection(cantonal_borders_asset)\n",
    "aoi_geometry = aoi_feature_collection.geometry()\n",
    "aoi_geometry = aoi_geometry.simplify(500)\n",
    "aoi_buffered = aoi_geometry.buffer(100)"
   ]
  },
  {
   "cell_type": "markdown",
   "metadata": {},
   "source": [
    "## Importing all assets: land use maps, vegetation periods, WaPOR ET data.\n"
   ]
  },
  {
   "cell_type": "code",
   "execution_count": 6,
   "metadata": {},
   "outputs": [
    {
     "data": {
      "text/html": [
       "\n",
       "            <style>\n",
       "                .geemap-dark {\n",
       "                    --jp-widgets-color: white;\n",
       "                    --jp-widgets-label-color: white;\n",
       "                    --jp-ui-font-color1: white;\n",
       "                    --jp-layout-color2: #454545;\n",
       "                    background-color: #383838;\n",
       "                }\n",
       "\n",
       "                .geemap-dark .jupyter-button {\n",
       "                    --jp-layout-color3: #383838;\n",
       "                }\n",
       "\n",
       "                .geemap-colab {\n",
       "                    background-color: var(--colab-primary-surface-color, white);\n",
       "                }\n",
       "\n",
       "                .geemap-colab .jupyter-button {\n",
       "                    --jp-layout-color3: var(--colab-primary-surface-color, white);\n",
       "                }\n",
       "            </style>\n",
       "            "
      ],
      "text/plain": [
       "<IPython.core.display.HTML object>"
      ]
     },
     "metadata": {},
     "output_type": "display_data"
    }
   ],
   "source": [
    "years_to_process = range(2022, 2023)\n",
    "# double_cropping_image_collection = ee.ImageCollection(\n",
    "#     \"projects/thurgau-irrigation/assets/Thurgau/vegetation_periods_2018-2023\"\n",
    "# )\n",
    "\n",
    "# double_cropping_list = double_cropping_image_collection.toList(\n",
    "#     double_cropping_image_collection.size()\n",
    "# )\n",
    "\n",
    "double_cropping_image = ee.Image(\n",
    "    \"projects/thurgau-irrigation/assets/Zuerich/crop_vegetation_period_zh_2022\"\n",
    ")"
   ]
  },
  {
   "cell_type": "code",
   "execution_count": 7,
   "metadata": {},
   "outputs": [
    {
     "data": {
      "text/html": [
       "\n",
       "            <style>\n",
       "                .geemap-dark {\n",
       "                    --jp-widgets-color: white;\n",
       "                    --jp-widgets-label-color: white;\n",
       "                    --jp-ui-font-color1: white;\n",
       "                    --jp-layout-color2: #454545;\n",
       "                    background-color: #383838;\n",
       "                }\n",
       "\n",
       "                .geemap-dark .jupyter-button {\n",
       "                    --jp-layout-color3: #383838;\n",
       "                }\n",
       "\n",
       "                .geemap-colab {\n",
       "                    background-color: var(--colab-primary-surface-color, white);\n",
       "                }\n",
       "\n",
       "                .geemap-colab .jupyter-button {\n",
       "                    --jp-layout-color3: var(--colab-primary-surface-color, white);\n",
       "                }\n",
       "            </style>\n",
       "            "
      ],
      "text/plain": [
       "<IPython.core.display.HTML object>"
      ]
     },
     "metadata": {},
     "output_type": "display_data"
    }
   ],
   "source": [
    "# landsat_gap_filled = ee.ImageCollection(\"projects/thurgau-irrigation/assets/Thurgau/Landsat_ET_gap_filled_2018-2022\")\n",
    "\n",
    "# date_utils.print_collection_dates(landsat_gap_filled)"
   ]
  },
  {
   "cell_type": "code",
   "execution_count": 8,
   "metadata": {},
   "outputs": [
    {
     "data": {
      "text/html": [
       "\n",
       "            <style>\n",
       "                .geemap-dark {\n",
       "                    --jp-widgets-color: white;\n",
       "                    --jp-widgets-label-color: white;\n",
       "                    --jp-ui-font-color1: white;\n",
       "                    --jp-layout-color2: #454545;\n",
       "                    background-color: #383838;\n",
       "                }\n",
       "\n",
       "                .geemap-dark .jupyter-button {\n",
       "                    --jp-layout-color3: #383838;\n",
       "                }\n",
       "\n",
       "                .geemap-colab {\n",
       "                    background-color: var(--colab-primary-surface-color, white);\n",
       "                }\n",
       "\n",
       "                .geemap-colab .jupyter-button {\n",
       "                    --jp-layout-color3: var(--colab-primary-surface-color, white);\n",
       "                }\n",
       "            </style>\n",
       "            "
      ],
      "text/plain": [
       "<IPython.core.display.HTML object>"
      ]
     },
     "metadata": {},
     "output_type": "display_data"
    }
   ],
   "source": [
    "WaPOR_assets = \"projects/thurgau-irrigation/assets/Thurgau/ET_WaPOR_10m_dekadal_test_refactor\"\n",
    "\n",
    "WaPOR_et_collections = ee_utils.merge_collections(\n",
    "    years=years_to_process, asset_name=WaPOR_assets\n",
    ")\n",
    "\n",
    "WaPOR_et_collections = WaPOR_et_collections.map(lambda image: back_to_float(image, 100))\n",
    "\n",
    "WaPOR_et_collections_list = WaPOR_et_collections.toList(WaPOR_et_collections.size())"
   ]
  },
  {
   "cell_type": "code",
   "execution_count": 11,
   "metadata": {},
   "outputs": [
    {
     "data": {
      "text/html": [
       "\n",
       "            <style>\n",
       "                .geemap-dark {\n",
       "                    --jp-widgets-color: white;\n",
       "                    --jp-widgets-label-color: white;\n",
       "                    --jp-ui-font-color1: white;\n",
       "                    --jp-layout-color2: #454545;\n",
       "                    background-color: #383838;\n",
       "                }\n",
       "\n",
       "                .geemap-dark .jupyter-button {\n",
       "                    --jp-layout-color3: #383838;\n",
       "                }\n",
       "\n",
       "                .geemap-colab {\n",
       "                    background-color: var(--colab-primary-surface-color, white);\n",
       "                }\n",
       "\n",
       "                .geemap-colab .jupyter-button {\n",
       "                    --jp-layout-color3: var(--colab-primary-surface-color, white);\n",
       "                }\n",
       "            </style>\n",
       "            "
      ],
      "text/plain": [
       "<IPython.core.display.HTML object>"
      ]
     },
     "metadata": {},
     "output_type": "display_data"
    },
    {
     "name": "stdout",
     "output_type": "stream",
     "text": [
      "Dates of images in the collection:\n",
      "2022-01-01\n",
      "2022-01-11\n",
      "2022-01-21\n",
      "2022-02-01\n",
      "2022-02-11\n",
      "2022-02-21\n",
      "2022-03-01\n",
      "2022-03-11\n",
      "2022-03-21\n",
      "2022-04-01\n",
      "2022-04-11\n",
      "2022-04-21\n",
      "2022-05-01\n",
      "2022-05-11\n",
      "2022-05-21\n",
      "2022-06-01\n",
      "2022-06-11\n",
      "2022-06-21\n",
      "2022-07-01\n",
      "2022-07-11\n",
      "2022-07-21\n",
      "2022-08-01\n",
      "2022-08-11\n",
      "2022-08-21\n",
      "2022-09-01\n",
      "2022-09-11\n",
      "2022-09-21\n",
      "2022-10-01\n",
      "2022-10-11\n",
      "2022-10-21\n",
      "2022-11-01\n",
      "2022-11-11\n",
      "2022-11-21\n",
      "2022-12-01\n",
      "2022-12-11\n",
      "2022-12-21\n"
     ]
    }
   ],
   "source": [
    "date_utils.print_collection_dates(WaPOR_et_collections)"
   ]
  },
  {
   "cell_type": "code",
   "execution_count": null,
   "metadata": {},
   "outputs": [],
   "source": [
    "image_collection = ee.ImageCollection(\"projects/thurgau-irrigation/assets/Thurgau/ET_WaPOR_10m_dekadal_test_refactor_2022\").map(lambda image: back_to_float(image, 100))\n",
    "\n",
    "image = image_collection.first()\n",
    "\n",
    "print(image.projection().getInfo())"
   ]
  },
  {
   "cell_type": "code",
   "execution_count": null,
   "metadata": {},
   "outputs": [],
   "source": [
    "date_utils.print_collection_dates(WaPOR_et_collections)"
   ]
  },
  {
   "cell_type": "markdown",
   "metadata": {},
   "source": [
    "## Sanity check, uncomment to verify things\n",
    "### Filtering out potentially irrigated crops and refeence rainfed fields\n"
   ]
  },
  {
   "cell_type": "code",
   "execution_count": null,
   "metadata": {},
   "outputs": [],
   "source": [
    "nutzung_collection = ee.FeatureCollection(\n",
    "    \"projects/thurgau-irrigation/assets/ZH_Nutzungsflaechen_2/ZH_Nutzungsflaechen_2022\"\n",
    ")\n",
    "\n",
    "# Rename the NUTZUNG field to nutzung\n",
    "nutzung_collection = nutzung_collection.map(\n",
    "    lambda feature: feature.set(\"nutzung\", feature.get(\"NUTZUNG\"))\n",
    ")\n",
    "\n",
    "# Print crs of the nutzung collection geometry\n",
    "print(nutzung_collection.first().geometry().projection().getInfo()) "
   ]
  },
  {
   "cell_type": "code",
   "execution_count": null,
   "metadata": {},
   "outputs": [],
   "source": [
    "double_cropping_image_2018 = double_cropping_image\n",
    "\n",
    "# Add double cropping information to the feature collection\n",
    "nutzung_collection_with_double_crop = add_double_cropping_info(\n",
    "    nutzung_collection, double_cropping_image_2018\n",
    ")\n",
    "\n",
    "not_irrigated_crops = get_crops_to_exclude()\n",
    "rainfed_crops = get_rainfed_reference_crops()\n",
    "\n",
    "exclude_filter, rainfed_filter = create_crop_filters(not_irrigated_crops, rainfed_crops)\n",
    "\n",
    "potentially_rainfed, rainfed_fields = filter_crops(\n",
    "    nutzung_collection_with_double_crop, exclude_filter, rainfed_filter\n",
    ")\n",
    "\n",
    "print(\"Filtered fields count:\", potentially_rainfed.size().getInfo())\n",
    "print(\"Rainfed reference fields count:\", rainfed_fields.size().getInfo())"
   ]
  },
  {
   "cell_type": "markdown",
   "metadata": {},
   "source": [
    "### Computing ET green for sanity check\n"
   ]
  },
  {
   "cell_type": "code",
   "execution_count": null,
   "metadata": {},
   "outputs": [],
   "source": [
    "et_image = ee.Image(WaPOR_et_collections.toList(WaPOR_et_collections.size()).get(20))\n",
    "\n",
    "jurisdiction_polygons = ee.FeatureCollection(\n",
    "    \"projects/thurgau-irrigation/assets/Zuerich/zurich_jurisdictions_2022_wgs84\"\n",
    ")\n",
    "\n",
    "et_green_result = compute_et_green(et_image, rainfed_fields, jurisdiction_polygons)"
   ]
  },
  {
   "cell_type": "code",
   "execution_count": null,
   "metadata": {},
   "outputs": [],
   "source": [
    "print(et_image.projection().getInfo())"
   ]
  },
  {
   "cell_type": "code",
   "execution_count": null,
   "metadata": {},
   "outputs": [],
   "source": [
    "et_green_result.getInfo()"
   ]
  },
  {
   "cell_type": "code",
   "execution_count": null,
   "metadata": {},
   "outputs": [],
   "source": [
    "Map = geemap.Map()\n",
    "\n",
    "Map.centerObject(aoi_geometry, 12)\n",
    "options = {\n",
    "    \"bands\": [\"ET_green\"],\n",
    "    \"min\": 0,\n",
    "    \"max\": 100000,\n",
    "    \"palette\": [\"blue\", \"green\", \"yellow\", \"red\"],\n",
    "}\n",
    "Map.addLayer(et_green_result, options, \"ET_green\")\n",
    "Map.addLayer(jurisdiction_polygons, {\"color\": \"white\"}, \"Jurisdictions\")\n",
    "options_et = {\n",
    "    \"bands\": [\"downscaled\"],\n",
    "    \"min\": 0,\n",
    "    \"max\": 10,\n",
    "    \"palette\": [\"blue\", \"green\", \"yellow\", \"red\"],\n",
    "}\n",
    "Map.addLayer(et_image, options_et, \"ET\")\n",
    "Map.addLayer(rainfed_fields, {\"color\": \"green\"}, \"Rainfed fields\")\n",
    "Map"
   ]
  },
  {
   "cell_type": "markdown",
   "metadata": {},
   "source": [
    "### Computing ET green and exporting to asset\n"
   ]
  },
  {
   "cell_type": "code",
   "execution_count": null,
   "metadata": {},
   "outputs": [],
   "source": [
    "TIME_STEPS = 36\n",
    "\n",
    "not_irrigated_crops = get_crops_to_exclude()\n",
    "rainfed_crops = get_rainfed_reference_crops()\n",
    "\n",
    "exclude_filter, rainfed_filter = create_crop_filters(not_irrigated_crops, rainfed_crops)\n",
    "\n",
    "tasks = []\n",
    "\n",
    "total_tasks = 0\n",
    "\n",
    "for year in range(2022, 2023):\n",
    "    j = year - 2018\n",
    "\n",
    "    nutzung_collection_year = ee.FeatureCollection(\n",
    "        f\"projects/thurgau-irrigation/assets/ZH_Nutzungsflaechen_2/ZH_Nutzungsflaechen_{year}\"\n",
    "    )\n",
    "\n",
    "    jurisdiction_polygons = ee.FeatureCollection(\n",
    "        f\"projects/thurgau-irrigation/assets/Zuerich/zurich_jurisdictions_{year}_wgs84\"\n",
    "    )\n",
    "    # double_cropping_image_year = ee.Image(double_cropping_list.get(j))\n",
    "    double_cropping_image_year = ee.Image(double_cropping_image_collection)\n",
    "\n",
    "    nutzung_collection_with_double_crop_year = add_double_cropping_info(\n",
    "        nutzung_collection_year, double_cropping_image_year\n",
    "    )\n",
    "\n",
    "    potentially_rainfed_year, rainfed_fields_year = filter_crops(\n",
    "        nutzung_collection_with_double_crop_year, exclude_filter, rainfed_filter\n",
    "    )\n",
    "\n",
    "    year_tasks = 0\n",
    "\n",
    "    for i in range(TIME_STEPS):\n",
    "        et_image_year = ee.Image(WaPOR_et_collections_list.get(j * TIME_STEPS + i))\n",
    "        et_green_result_year = compute_et_green(\n",
    "            et_image_year, rainfed_fields_year, jurisdiction_polygons\n",
    "        )\n",
    "\n",
    "        if TIME_STEPS == 36:\n",
    "            dekadal = i % 3 + 1\n",
    "            month = i // 3 + 1\n",
    "            time_step_name = f\"{month:02d}_D{dekadal}\"\n",
    "            time_step_type = \"dekadal\"\n",
    "\n",
    "        elif TIME_STEPS == 12:\n",
    "            month = i + 1\n",
    "            time_step_name = f\"{month:02d}\"\n",
    "            time_step_type = \"monthly\"\n",
    "\n",
    "        else:\n",
    "            raise ValueError(\"Invalid number of time steps. Should be 12 or 36.\")\n",
    "\n",
    "        task_name = (\n",
    "            f\"ET_green_wapor_jurisdiction_zh_{time_step_type}_{year}-{time_step_name}\"\n",
    "        )\n",
    "        asset_id = f\"projects/thurgau-irrigation/assets/Zuerich/ET_green_wapor_jurisdiction_zh_{time_step_type}_2022/{task_name}\"\n",
    "\n",
    "        task = export_image_to_asset(\n",
    "            et_green_result_year, asset_id, task_name, year, aoi_buffered\n",
    "        )\n",
    "        tasks.append(task)\n",
    "        year_tasks += 1\n",
    "        total_tasks += 1\n",
    "\n",
    "    print(f\"Year {year} processing complete. Started {year_tasks} tasks.\")\n",
    "\n",
    "print(f\"All processing complete. Total tasks started: {total_tasks}\")"
   ]
  },
  {
   "cell_type": "markdown",
   "metadata": {},
   "source": [
    "### Verifying that the ET green export worked correctly"
   ]
  },
  {
   "cell_type": "code",
   "execution_count": null,
   "metadata": {},
   "outputs": [],
   "source": [
    "# et_green_wapor_monthly = ee.ImageCollection(\"projects/thurgau-irrigation/assets/Zuerich/ET_green_wapor_jurisdiction_zh_dekadal_2022\").map(lambda image: back_to_float(image, 100))\n",
    "\n",
    "# et_green_wapor_monthly_list = et_green_wapor_monthly.toList(et_green_wapor_monthly.size())\n",
    "\n",
    "# date_utils.print_collection_dates(et_green_wapor_monthly)"
   ]
  },
  {
   "cell_type": "code",
   "execution_count": null,
   "metadata": {},
   "outputs": [],
   "source": [
    "# Map = geemap.Map()\n",
    "\n",
    "# image = ee.Image(et_green_wapor_monthly_list.get(20))\n",
    "\n",
    "# Map.centerObject(aoi_geometry, 12)\n",
    "\n",
    "# options = {\n",
    "#     \"bands\": [\"ET_green\"],\n",
    "#     \"min\": 0,\n",
    "#     \"max\": 150,\n",
    "#     \"palette\": [\"blue\", \"green\", \"yellow\", \"red\"],\n",
    "# }\n",
    "\n",
    "# Map.addLayer(image, options, \"ET_green\")\n",
    "\n",
    "# Map\n",
    "\n"
   ]
  },
  {
   "cell_type": "markdown",
   "metadata": {},
   "source": [
    "## Exporting ET Blue maps\n"
   ]
  },
  {
   "cell_type": "code",
   "execution_count": null,
   "metadata": {},
   "outputs": [],
   "source": [
    "et_green_collection = ee.ImageCollection(\n",
    "    \"projects/thurgau-irrigation/assets/Thurgau/ET_green_jurisdiction_refactored_2018-2023\"\n",
    ").map(lambda image: back_to_float(image, 100))\n",
    "\n",
    "et_green_collection_list = et_green_collection.toList(et_green_collection.size())\n",
    "\n",
    "# Sanity check\n",
    "# print(et_green_collection_list.size().getInfo())\n",
    "# date_utils.print_collection_dates(et_green_collection)"
   ]
  },
  {
   "cell_type": "code",
   "execution_count": null,
   "metadata": {},
   "outputs": [],
   "source": [
    "# TIME_STEPS = 12\n",
    "\n",
    "# tasks = []\n",
    "\n",
    "# total_tasks = 0\n",
    "\n",
    "# previous_ET_image = None\n",
    "\n",
    "# for year in years_to_process:\n",
    "#     j = year - 2018\n",
    "\n",
    "#     year_tasks = 0\n",
    "\n",
    "#     for i in range(TIME_STEPS):\n",
    "#         et_image_year = ee.Image(WaPOR_et_collections_list.get(j * TIME_STEPS + i))\n",
    "#         et_green_year = ee.Image(et_green_collection_list.get(j * TIME_STEPS + i))\n",
    "\n",
    "#         et_blue = compute_et_blue(et_image_year, et_green_year)\n",
    "\n",
    "#         # Multiply by 100 and cast to int to save space\n",
    "#         et_blue = back_to_int(et_blue, 100)\n",
    "\n",
    "#         if TIME_STEPS == 36:\n",
    "#             dekadal = i % 3 + 1\n",
    "#             month = i // 3 + 1\n",
    "#             time_step_name = f\"{month:02d}_D{dekadal}\"\n",
    "#             time_step_type = \"dekadal\"\n",
    "\n",
    "#         elif TIME_STEPS == 12:\n",
    "#             month = i + 1\n",
    "#             time_step_name = f\"{month:02d}\"\n",
    "#             time_step_type = \"monthly\"\n",
    "\n",
    "#         else:\n",
    "#             raise ValueError(\"Invalid number of time steps. Should be 12 or 36.\")\n",
    "\n",
    "#         task_name = f\"thurgau_ET_raw_refactored_{year}-{time_step_name}\"\n",
    "\n",
    "#         asset_id = f\"projects/thurgau-irrigation/assets/Thurgau/ET_blue_raw_wapor_{time_step_type}_2018-2023/{task_name}\"\n",
    "\n",
    "#         task = export_image_to_asset(et_blue, asset_id, task_name, year, aoi_buffered)\n",
    "#         tasks.append(task)\n",
    "#         year_tasks += 1\n",
    "#         total_tasks += 1\n",
    "\n",
    "#     print(f\"Year {year} processing complete. Started {year_tasks} tasks.\")\n",
    "\n",
    "# print(f\"All processing complete. Total tasks started: {total_tasks}\")"
   ]
  },
  {
   "cell_type": "markdown",
   "metadata": {},
   "source": [
    "## Postprocess ET_blue"
   ]
  },
  {
   "cell_type": "code",
   "execution_count": null,
   "metadata": {},
   "outputs": [],
   "source": [
    "# TIME_STEPS = 36\n",
    "# tasks = []\n",
    "# total_tasks = 0\n",
    "\n",
    "# et_blue_raw = ee.ImageCollection(\n",
    "#     \"projects/thurgau-irrigation/assets/Thurgau/ET_blue_raw_refactored_2018-2023\"\n",
    "# ).map(lambda image: back_to_float(image, 100))\n",
    "\n",
    "# et_blue_raw_list = et_blue_raw.toList(et_blue_raw.size())\n",
    "\n",
    "# # Initialize as None at the start\n",
    "# et_blue_previous = None\n",
    "\n",
    "# for year in range(2022, 2024):\n",
    "#     j = year - 2018\n",
    "#     year_tasks = 0\n",
    "\n",
    "#     for i in range(TIME_STEPS):\n",
    "#         current_index = j * TIME_STEPS + i\n",
    "#         et_green_year = ee.Image(et_green_collection_list.get(current_index))\n",
    "#         et_blue_present = ee.Image(et_blue_raw_list.get(current_index))\n",
    "\n",
    "#         # For the very first image of the series\n",
    "#         if et_blue_previous is None:\n",
    "#             et_blue_previous = et_blue_present\n",
    "\n",
    "#         threshold = calculate_band_std_dev(et_green_year, \"ET_green\")\n",
    "\n",
    "#         # Post process using the previous processed image\n",
    "#         et_blue = postprocess_et_blue(et_blue_present, et_blue_previous, threshold)\n",
    "\n",
    "#         # Compute volumetric\n",
    "#         et_blue_m3 = compute_volumetric_et_blue(et_blue)\n",
    "\n",
    "#         # Add volumetric band\n",
    "#         et_blue = et_blue.addBands(et_blue_m3)\n",
    "\n",
    "#         # Store the current processed ET blue for next iteration\n",
    "#         et_blue_previous = et_blue.select(\"ET_blue\")\n",
    "\n",
    "#         # Convert to int for storage\n",
    "#         et_blue = back_to_int(et_blue, 100)\n",
    "\n",
    "#         # Determine time step format\n",
    "#         if TIME_STEPS == 36:\n",
    "#             dekadal = i % 3 + 1\n",
    "#             month = i // 3 + 1\n",
    "#             time_step_name = f\"{month:02d}_D{dekadal}\"\n",
    "#             time_step_type = \"dekadal\"\n",
    "#         elif TIME_STEPS == 12:\n",
    "#             month = i + 1\n",
    "#             time_step_name = f\"{month:02d}\"\n",
    "#             time_step_type = \"monthly\"\n",
    "#         else:\n",
    "#             raise ValueError(\"Invalid number of time steps. Should be 12 or 36.\")\n",
    "\n",
    "#         # Create task name and asset ID\n",
    "#         task_name = (\n",
    "#             f\"ET_blue_postprocessed_refactored_{time_step_type}_{year}-{time_step_name}\"\n",
    "#         )\n",
    "#         asset_id = f\"projects/thurgau-irrigation/assets/Thurgau/ET_blue_postprocessed_wapor_{time_step_type}_refactored_2018-2023/{task_name}\"\n",
    "\n",
    "#         # Export\n",
    "#         task = export_image_to_asset(et_blue, asset_id, task_name, year, aoi_buffered)\n",
    "#         tasks.append(task)\n",
    "#         year_tasks += 1\n",
    "#         total_tasks += 1\n",
    "\n",
    "#     print(f\"Year {year} processing complete. Started {year_tasks} tasks.\")\n",
    "\n",
    "# print(f\"All processing complete. Total tasks started: {total_tasks}\")"
   ]
  },
  {
   "cell_type": "code",
   "execution_count": null,
   "metadata": {},
   "outputs": [],
   "source": [
    "# et_green = ee.ImageCollection(\"projects/thurgau-irrigation/assets/Thurgau/ET_green_jurisdiction_refactored_2018-2023\").map(lambda image: back_to_float(image, 100))\n",
    "\n",
    "# et_green_list = et_green.toList(et_green.size())\n",
    "\n",
    "# for i in range(et_green.size().getInfo()):\n",
    "#     image = ee.Image(et_green_list.get(i))\n",
    "#     print(calculate_band_std_dev(image, \"ET_green\").getInfo())\n"
   ]
  },
  {
   "cell_type": "markdown",
   "metadata": {},
   "source": [
    "## Exploring Nutzungsflaechen\n"
   ]
  },
  {
   "cell_type": "code",
   "execution_count": null,
   "metadata": {},
   "outputs": [],
   "source": [
    "# nutzung_collection = ee.FeatureCollection(\n",
    "#     \"projects/thurgau-irrigation/assets/Thurgau/Nutzungsflaechen/TG_2018_area\"\n",
    "# )"
   ]
  },
  {
   "cell_type": "code",
   "execution_count": null,
   "metadata": {},
   "outputs": [],
   "source": [
    "# def get_unique_nutzung_values(feature_collection: ee.FeatureCollection) -> list:\n",
    "#     \"\"\"\n",
    "#     Get all unique values of the 'nutzung' property from a feature collection.\n",
    "\n",
    "#     Args:\n",
    "#         feature_collection (ee.FeatureCollection): The input feature collection.\n",
    "\n",
    "#     Returns:\n",
    "#         list: A list of unique 'nutzung' values.\n",
    "#     \"\"\"\n",
    "#     # Get distinct values of 'nutzung'\n",
    "#     distinct_values = feature_collection.distinct('nutzung')\n",
    "\n",
    "#     # Aggregate the distinct values into a list\n",
    "#     unique_values = distinct_values.aggregate_array('nutzung')\n",
    "\n",
    "#     # Get the result as a Python list\n",
    "#     return unique_values.getInfo()\n",
    "\n",
    "# unique_nutzung_values = get_unique_nutzung_values(nutzung_collection)\n",
    "\n",
    "# print(\"Unique 'nutzung' values:\")\n",
    "# for value in unique_nutzung_values:\n",
    "#     print(value)"
   ]
  },
  {
   "cell_type": "code",
   "execution_count": null,
   "metadata": {},
   "outputs": [],
   "source": [
    "# def export_feature_collection(collection: ee.FeatureCollection, task_name: str, asset_id: str):\n",
    "#     \"\"\"\n",
    "#     Export the feature collection to an Earth Engine asset.\n",
    "\n",
    "#     Args:\n",
    "#         collection: The feature collection to export.\n",
    "#         year: The year of the feature collection.\n",
    "#         task_name: The name of the export task.\n",
    "#         asset_id: The asset ID to export to.\n",
    "#     \"\"\"\n",
    "#     task = ee.batch.Export.table.toAsset(\n",
    "#         collection=collection,\n",
    "#         description=task_name,\n",
    "#         assetId=asset_id,\n",
    "#     )\n",
    "#     task.start()\n",
    "\n",
    "# for year in years_to_process:\n",
    "#     nutzung_collection_year = ee.FeatureCollection(\n",
    "#         f\"projects/thurgau-irrigation/assets/Thurgau/Nutzungsflaechen/TG_{year}_area\"\n",
    "#     )\n",
    "\n",
    "#     # Apply the filter and estimation function\n",
    "#     validation_nutzung_collection_year = filter_and_estimate_irrigation(nutzung_collection_year)\n",
    "\n",
    "#     task_name = f\"irrigation_estimates_{year}\"\n",
    "#     asset_id = f\"projects/thurgau-irrigation/assets/Thurgau/Walter_Koch_irrigation_estimates_2018-2022/{task_name}\"\n",
    "\n",
    "#     export_feature_collection(validation_nutzung_collection_year, task_name, asset_id)\n",
    "\n",
    "# print(\"All processing complete.\")"
   ]
  },
  {
   "cell_type": "code",
   "execution_count": null,
   "metadata": {},
   "outputs": [],
   "source": [
    "# image_collection = ee.ImageCollection(\"projects/thurgau-irrigation/assets/Thurgau/ET_blue_raw_wapor_monthly_2018-2023\").map(lambda image: back_to_float(image, 100))\n",
    "\n",
    "# image_list = image_collection.toList(image_collection.size())\n",
    "\n",
    "# image = ee.Image(image_list.get(56))\n",
    "\n",
    "# # image = ee.Image(WaPOR_et_collections_list.get(15)).subtract(ee.Image(et_green_collection_list.get(15)))\n",
    "\n",
    "# Map = geemap.Map()\n",
    "\n",
    "# Map.centerObject(aoi_geometry, 12)\n",
    "\n",
    "# vis_params = {\n",
    "#     \"bands\": [\"ET_blue\"],\n",
    "#     \"min\": -10,\n",
    "#     \"max\": 20,\n",
    "#     \"palette\": [\"white\", \"blue\", \"green\", \"yellow\", \"red\"],\n",
    "# }\n",
    "\n",
    "# Map.addLayer(image, vis_params, \"ET_blue_raw\")\n",
    "\n",
    "# Map"
   ]
  },
  {
   "cell_type": "code",
   "execution_count": null,
   "metadata": {},
   "outputs": [],
   "source": [
    "# et_blue_raw = ee.ImageCollection(\n",
    "#     \"projects/thurgau-irrigation/assets/Thurgau/ET_blue_raw_2018-2022\"\n",
    "# ).map(lambda image: back_to_float(image, 100))\n",
    "\n",
    "# et_blue_raw_list = et_blue_raw.toList(et_blue_raw.size())"
   ]
  },
  {
   "cell_type": "code",
   "execution_count": null,
   "metadata": {},
   "outputs": [],
   "source": [
    "# et_blue_present = ee.Image(et_blue_raw_list.get(20))\n",
    "# et_blue_previous = ee.Image(et_blue_raw_list.get(19))\n",
    "\n",
    "# et_green_year = ee.Image(et_green_collection_list.get(20))\n",
    "\n",
    "# threshold = calculate_band_std_dev(et_green_year, \"ET_green\")\n",
    "\n",
    "# et_blue = postprocess_et_blue(et_blue_present, et_blue_previous, threshold)\n",
    "\n",
    "# et_blue_m3 = compute_volumetric_et_blue(et_blue)"
   ]
  },
  {
   "cell_type": "code",
   "execution_count": null,
   "metadata": {},
   "outputs": [],
   "source": [
    "# image_postprocessed = ee.ImageCollection(\"projects/thurgau-irrigation/assets/Thurgau/ET_blue_postprocessed_2018-2022\")\n",
    "\n",
    "# image_postprocessed.first().date().format(\"YYYY-MM-dd\").getInfo()"
   ]
  },
  {
   "cell_type": "code",
   "execution_count": null,
   "metadata": {},
   "outputs": [],
   "source": []
  }
 ],
 "metadata": {
  "kernelspec": {
   "display_name": "geemap_env",
   "language": "python",
   "name": "python3"
  },
  "language_info": {
   "codemirror_mode": {
    "name": "ipython",
    "version": 3
   },
   "file_extension": ".py",
   "mimetype": "text/x-python",
   "name": "python",
   "nbconvert_exporter": "python",
   "pygments_lexer": "ipython3",
   "version": "3.11.10"
  }
 },
 "nbformat": 4,
 "nbformat_minor": 2
}
