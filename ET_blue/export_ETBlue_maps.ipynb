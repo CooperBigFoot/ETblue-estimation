{
 "cells": [
  {
   "cell_type": "code",
   "execution_count": 1,
   "metadata": {},
   "outputs": [],
   "source": [
    "import sys\n",
    "import os\n",
    "\n",
    "sys.path.append(os.path.abspath(os.path.join(\"..\")))"
   ]
  },
  {
   "cell_type": "code",
   "execution_count": 2,
   "metadata": {},
   "outputs": [],
   "source": [
    "from filter_nutzungsflaechen import (\n",
    "    get_crops_to_exclude,\n",
    "    get_rainfed_reference_crops,\n",
    "    create_crop_filters,\n",
    "    filter_crops,\n",
    "    add_double_cropping_info,\n",
    ")\n",
    "\n",
    "from compute_ET_green import compute_et_green\n",
    "from compute_ET_blue import compute_et_blue, compute_volumetric_et_blue\n",
    "from add_walter_irrigation_estimates import filter_and_estimate_irrigation\n",
    "\n",
    "from utils import ee_utils\n",
    "\n",
    "import ee\n",
    "import geemap"
   ]
  },
  {
   "cell_type": "code",
   "execution_count": null,
   "metadata": {},
   "outputs": [],
   "source": [
    "ee.Initialize(project=\"thurgau-irrigation\")"
   ]
  },
  {
   "cell_type": "markdown",
   "metadata": {},
   "source": [
    "## Define the region of interest"
   ]
  },
  {
   "cell_type": "code",
   "execution_count": null,
   "metadata": {},
   "outputs": [],
   "source": [
    "# For the canton of Thurgau\n",
    "cantonal_borders_asset = (\n",
    "    \"projects/thurgau-irrigation/assets/Thurgau/thrugau_borders_2024\"\n",
    ")\n",
    "\n",
    "aoi_feature_collection = ee.FeatureCollection(cantonal_borders_asset)\n",
    "aoi_geometry = aoi_feature_collection.geometry()\n",
    "aoi_geometry = aoi_geometry.simplify(500)\n",
    "aoi_buffered = aoi_geometry.buffer(100)"
   ]
  },
  {
   "cell_type": "code",
   "execution_count": null,
   "metadata": {},
   "outputs": [],
   "source": []
  },
  {
   "cell_type": "markdown",
   "metadata": {},
   "source": [
    "## Importing all assets: land use maps, vegetation periods, WaPOR ET data."
   ]
  },
  {
   "cell_type": "code",
   "execution_count": null,
   "metadata": {},
   "outputs": [],
   "source": [
    "years_to_process = range(2018, 2023)\n",
    "\n",
    "double_cropping_image_collection = ee.ImageCollection(\n",
    "    \"projects/thurgau-irrigation/assets/Thurgau/vegetation_periods_2018-2023\"\n",
    ")\n",
    "\n",
    "\n",
    "WaPOR_assets = \"projects/thurgau-irrigation/assets/Thurgau/ET_WaPOR_10m_dekadal\"\n",
    "WaPOR_et_collections = ee_utils.merge_collections(\n",
    "    years=years_to_process, asset_name=WaPOR_assets\n",
    ")\n",
    "\n",
    "\n",
    "def back_to_float(image: ee.Image, scale: int) -> ee.Image:\n",
    "    \"\"\"\n",
    "    Convert an image to float and divide by the scale\n",
    "\n",
    "    Args:\n",
    "        image: The image to convert\n",
    "        scale: The scale to divide by\n",
    "\n",
    "    Returns:\n",
    "        The image converted to float and divided by the scale\n",
    "    \"\"\"\n",
    "    date = image.get(\"system:time_start\")\n",
    "    return image.toFloat().divide(scale).set(\"system:time_start\", date)\n",
    "\n",
    "\n",
    "WaPOR_et_collections = WaPOR_et_collections.map(lambda image: back_to_float(image, 100))"
   ]
  },
  {
   "cell_type": "markdown",
   "metadata": {},
   "source": []
  },
  {
   "cell_type": "markdown",
   "metadata": {},
   "source": [
    "## Filtering out potentially irrigated crops and refeence rainfed fields"
   ]
  },
  {
   "cell_type": "code",
   "execution_count": null,
   "metadata": {},
   "outputs": [],
   "source": [
    "# # Add double cropping information to the feature collection\n",
    "# nutzung_collection_with_double_crop = add_double_cropping_info(\n",
    "#     nutzung_collection, double_cropping_image_2018\n",
    "# )\n",
    "\n",
    "# not_irrigated_crops = get_crops_to_exclude()\n",
    "# rainfed_crops = get_rainfed_reference_crops()\n",
    "\n",
    "# exclude_filter, rainfed_filter = create_crop_filters(not_irrigated_crops, rainfed_crops)\n",
    "\n",
    "# potentially_rainfed, rainfed_fields = filter_crops(\n",
    "#     nutzung_collection_with_double_crop, exclude_filter, rainfed_filter\n",
    "# )\n",
    "\n",
    "# print(\"Filtered fields count:\", potentially_rainfed.size().getInfo())\n",
    "# print(\"Rainfed reference fields count:\", rainfed_fields.size().getInfo())"
   ]
  },
  {
   "cell_type": "markdown",
   "metadata": {},
   "source": [
    "## Computing ET green and exporting the results"
   ]
  },
  {
   "cell_type": "code",
   "execution_count": null,
   "metadata": {},
   "outputs": [],
   "source": [
    "# et_image = WaPOR_et_collections.first()\n",
    "\n",
    "# et_green_result = compute_et_green(et_image, rainfed_fields)"
   ]
  },
  {
   "cell_type": "code",
   "execution_count": null,
   "metadata": {},
   "outputs": [],
   "source": [
    "def export_image_to_asset(\n",
    "    image: ee.Image,\n",
    "    asset_id: str,\n",
    "    task_name: str,\n",
    "    year: int,\n",
    "    aoi: ee.Geometry,\n",
    "    max_pixels: int = 1e13,\n",
    ") -> ee.batch.Task:\n",
    "    \"\"\"\n",
    "    Export an image to an Earth Engine asset.\n",
    "    \"\"\"\n",
    "    task = ee.batch.Export.image.toAsset(\n",
    "        image=image,\n",
    "        description=task_name,\n",
    "        assetId=asset_id,\n",
    "        region=aoi,\n",
    "        scale=10,\n",
    "        maxPixels=max_pixels,\n",
    "    )\n",
    "    print(f\"Exporting {task_name} for {year} to {asset_id}\")\n",
    "    task.start()\n",
    "    return task\n",
    "\n",
    "\n",
    "double_cropping_list = double_cropping_image_collection.toList(\n",
    "    double_cropping_image_collection.size()\n",
    ")\n",
    "WaPOR_et_collections_list = WaPOR_et_collections.toList(WaPOR_et_collections.size())\n",
    "\n",
    "not_irrigated_crops = get_crops_to_exclude()\n",
    "rainfed_crops = get_rainfed_reference_crops()\n",
    "\n",
    "exclude_filter, rainfed_filter = create_crop_filters(not_irrigated_crops, rainfed_crops)\n",
    "\n",
    "# tasks = []\n",
    "\n",
    "# total_tasks = 0\n",
    "\n",
    "# for year in years_to_process:\n",
    "#     j = year - 2018\n",
    "#     nutzung_collection_year = ee.FeatureCollection(\n",
    "#         f\"projects/thurgau-irrigation/assets/Thurgau/Nutzungsflaechen/TG_{year}_area\"\n",
    "#     )\n",
    "#     double_cropping_image_year = ee.Image(double_cropping_list.get(j))\n",
    "\n",
    "#     nutzung_collection_with_double_crop_year = add_double_cropping_info(\n",
    "#         nutzung_collection_year, double_cropping_image_year\n",
    "#     )\n",
    "\n",
    "#     potentially_rainfed_year, rainfed_fields_year = filter_crops(\n",
    "#         nutzung_collection_with_double_crop_year, exclude_filter, rainfed_filter\n",
    "#     )\n",
    "\n",
    "#     year_tasks = 0\n",
    "\n",
    "#     for i in range(36):\n",
    "#         et_image_year = ee.Image(WaPOR_et_collections_list.get(j * 36 + i))\n",
    "#         et_green_result_year = compute_et_green(et_image_year, rainfed_fields_year)\n",
    "\n",
    "#         dekadal = i % 3 + 1\n",
    "#         month = i // 3 + 1\n",
    "\n",
    "#         task_name = f\"ET_green_{year}-{month:02d}_D{dekadal}\"\n",
    "#         asset_id = (\n",
    "#             f\"projects/thurgau-irrigation/assets/Thurgau/ET_green_2018-2022/{task_name}\"\n",
    "#         )\n",
    "\n",
    "#         task = export_image_to_asset(\n",
    "#             et_green_result_year, asset_id, task_name, year, aoi_buffered\n",
    "#         )\n",
    "#         tasks.append(task)\n",
    "#         year_tasks += 1\n",
    "#         total_tasks += 1\n",
    "\n",
    "#     print(f\"Year {year} processing complete. Started {year_tasks} tasks.\")\n",
    "\n",
    "# print(f\"All processing complete. Total tasks started: {total_tasks}\")"
   ]
  },
  {
   "cell_type": "markdown",
   "metadata": {},
   "source": [
    "## Testing that it all went fine"
   ]
  },
  {
   "cell_type": "code",
   "execution_count": null,
   "metadata": {},
   "outputs": [],
   "source": [
    "# tasks = []\n",
    "\n",
    "# total_tasks = 0\n",
    "\n",
    "# et_green_collection = ee.ImageCollection(\n",
    "#     \"projects/thurgau-irrigation/assets/Thurgau/ET_green_2018-2022\"\n",
    "# ).map(lambda image: back_to_float(image, 10000))\n",
    "\n",
    "# et_green_collection_list = et_green_collection.toList(et_green_collection.size())\n",
    "\n",
    "# for year in years_to_process:\n",
    "#     j = year - 2018\n",
    "\n",
    "#     year_tasks = 0\n",
    "\n",
    "#     for i in range(36):\n",
    "#         et_image_year = ee.Image(WaPOR_et_collections_list.get(j * 36 + i))\n",
    "#         et_green_year = ee.Image(et_green_collection_list.get(j * 36 + i))\n",
    "\n",
    "#         et_blue_mm = compute_et_blue(et_image_year, et_green_year)\n",
    "#         et_blue_m3 = compute_volumetric_et_blue(et_blue_mm)\n",
    "\n",
    "#         et_blue = et_blue_mm.addBands(et_blue_m3)\n",
    "\n",
    "#         date = et_image_year.get(\"system:time_start\")\n",
    "\n",
    "#         # Multiply by 100 and cast to int to save space\n",
    "#         et_blue = et_blue.multiply(100).int().set(\"system:time_start\", date)\n",
    "\n",
    "#         dekadal = i % 3 + 1\n",
    "#         month = i // 3 + 1\n",
    "\n",
    "#         task_name = f\"ET_blue_{year}-{month:02d}_D{dekadal}\"\n",
    "#         asset_id = (\n",
    "#             f\"projects/thurgau-irrigation/assets/Thurgau/ET_blue_2018-2022/{task_name}\"\n",
    "#         )\n",
    "\n",
    "#         task = export_image_to_asset(et_blue, asset_id, task_name, year, aoi_buffered)\n",
    "#         tasks.append(task)\n",
    "#         year_tasks += 1\n",
    "#         total_tasks += 1\n",
    "\n",
    "#     print(f\"Year {year} processing complete. Started {year_tasks} tasks.\")\n",
    "\n",
    "# print(f\"All processing complete. Total tasks started: {total_tasks}\")"
   ]
  },
  {
   "cell_type": "markdown",
   "metadata": {},
   "source": [
    "## Exploring Nutzungsflaechen"
   ]
  },
  {
   "cell_type": "code",
   "execution_count": null,
   "metadata": {},
   "outputs": [],
   "source": [
    "nutzung_collection = ee.FeatureCollection(\n",
    "    \"projects/thurgau-irrigation/assets/Thurgau/Nutzungsflaechen/TG_2018_area\"\n",
    ")"
   ]
  },
  {
   "cell_type": "code",
   "execution_count": null,
   "metadata": {},
   "outputs": [],
   "source": [
    "def get_unique_nutzung_values(feature_collection: ee.FeatureCollection) -> list:\n",
    "    \"\"\"\n",
    "    Get all unique values of the 'nutzung' property from a feature collection.\n",
    "\n",
    "    Args:\n",
    "        feature_collection (ee.FeatureCollection): The input feature collection.\n",
    "\n",
    "    Returns:\n",
    "        list: A list of unique 'nutzung' values.\n",
    "    \"\"\"\n",
    "    # Get distinct values of 'nutzung'\n",
    "    distinct_values = feature_collection.distinct('nutzung')\n",
    "\n",
    "    # Aggregate the distinct values into a list\n",
    "    unique_values = distinct_values.aggregate_array('nutzung')\n",
    "\n",
    "    # Get the result as a Python list\n",
    "    return unique_values.getInfo()\n",
    "\n",
    "unique_nutzung_values = get_unique_nutzung_values(nutzung_collection)\n",
    "\n",
    "print(\"Unique 'nutzung' values:\")\n",
    "for value in unique_nutzung_values:\n",
    "    print(value)"
   ]
  },
  {
   "cell_type": "code",
   "execution_count": null,
   "metadata": {},
   "outputs": [],
   "source": [
    "def export_feature_collection(collection: ee.FeatureCollection, task_name: str, asset_id: str): \n",
    "    \"\"\"\n",
    "    Export the feature collection to an Earth Engine asset.\n",
    "\n",
    "    Args:\n",
    "        collection: The feature collection to export.\n",
    "        year: The year of the feature collection.\n",
    "        task_name: The name of the export task.\n",
    "        asset_id: The asset ID to export to.\n",
    "    \"\"\"\n",
    "    task = ee.batch.Export.table.toAsset(\n",
    "        collection=collection,\n",
    "        description=task_name,\n",
    "        assetId=asset_id,\n",
    "    )\n",
    "    task.start()\n",
    "\n",
    "for year in years_to_process:\n",
    "    nutzung_collection_year = ee.FeatureCollection(\n",
    "        f\"projects/thurgau-irrigation/assets/Thurgau/Nutzungsflaechen/TG_{year}_area\"\n",
    "    )\n",
    "\n",
    "    # Apply the filter and estimation function\n",
    "    validation_nutzung_collection_year = filter_and_estimate_irrigation(nutzung_collection_year)\n",
    "\n",
    "    task_name = f\"irrigation_estimates_{year}\"\n",
    "    asset_id = f\"projects/thurgau-irrigation/assets/Thurgau/Walter_Koch_irrigation_estimates_2018-2022/{task_name}\"\n",
    "\n",
    "    export_feature_collection(validation_nutzung_collection_year, task_name, asset_id)\n",
    "\n",
    "print(\"All processing complete.\")\n"
   ]
  },
  {
   "cell_type": "code",
   "execution_count": null,
   "metadata": {},
   "outputs": [],
   "source": []
  }
 ],
 "metadata": {
  "kernelspec": {
   "display_name": "base",
   "language": "python",
   "name": "python3"
  },
  "language_info": {
   "codemirror_mode": {
    "name": "ipython",
    "version": 3
   },
   "file_extension": ".py",
   "mimetype": "text/x-python",
   "name": "python",
   "nbconvert_exporter": "python",
   "pygments_lexer": "ipython3",
   "version": "3.11.8"
  }
 },
 "nbformat": 4,
 "nbformat_minor": 2
}
