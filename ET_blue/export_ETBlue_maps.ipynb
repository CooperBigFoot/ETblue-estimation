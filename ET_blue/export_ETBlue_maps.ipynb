{
 "cells": [
  {
   "cell_type": "code",
   "execution_count": 1,
   "metadata": {},
   "outputs": [],
   "source": [
    "import sys\n",
    "import os\n",
    "\n",
    "sys.path.append(os.path.abspath(os.path.join(\"..\")))"
   ]
  },
  {
   "cell_type": "code",
   "execution_count": 2,
   "metadata": {},
   "outputs": [],
   "source": [
    "from filter_nutzungsflaechen import (\n",
    "    get_crops_to_exclude,\n",
    "    get_rainfed_reference_crops,\n",
    "    create_crop_filters,\n",
    "    filter_crops,\n",
    "    add_double_cropping_info,\n",
    ")\n",
    "\n",
    "from compute_ET_green import compute_et_green\n",
    "\n",
    "from utils import ee_utils\n",
    "\n",
    "import ee\n",
    "import geemap"
   ]
  },
  {
   "cell_type": "code",
   "execution_count": 3,
   "metadata": {},
   "outputs": [
    {
     "data": {
      "text/html": [
       "\n",
       "            <style>\n",
       "                .geemap-dark {\n",
       "                    --jp-widgets-color: white;\n",
       "                    --jp-widgets-label-color: white;\n",
       "                    --jp-ui-font-color1: white;\n",
       "                    --jp-layout-color2: #454545;\n",
       "                    background-color: #383838;\n",
       "                }\n",
       "\n",
       "                .geemap-dark .jupyter-button {\n",
       "                    --jp-layout-color3: #383838;\n",
       "                }\n",
       "\n",
       "                .geemap-colab {\n",
       "                    background-color: var(--colab-primary-surface-color, white);\n",
       "                }\n",
       "\n",
       "                .geemap-colab .jupyter-button {\n",
       "                    --jp-layout-color3: var(--colab-primary-surface-color, white);\n",
       "                }\n",
       "            </style>\n",
       "            "
      ],
      "text/plain": [
       "<IPython.core.display.HTML object>"
      ]
     },
     "metadata": {},
     "output_type": "display_data"
    }
   ],
   "source": [
    "ee.Initialize(project=\"thurgau-irrigation\")"
   ]
  },
  {
   "cell_type": "markdown",
   "metadata": {},
   "source": [
    "## Define the region of interest"
   ]
  },
  {
   "cell_type": "code",
   "execution_count": 4,
   "metadata": {},
   "outputs": [
    {
     "data": {
      "text/html": [
       "\n",
       "            <style>\n",
       "                .geemap-dark {\n",
       "                    --jp-widgets-color: white;\n",
       "                    --jp-widgets-label-color: white;\n",
       "                    --jp-ui-font-color1: white;\n",
       "                    --jp-layout-color2: #454545;\n",
       "                    background-color: #383838;\n",
       "                }\n",
       "\n",
       "                .geemap-dark .jupyter-button {\n",
       "                    --jp-layout-color3: #383838;\n",
       "                }\n",
       "\n",
       "                .geemap-colab {\n",
       "                    background-color: var(--colab-primary-surface-color, white);\n",
       "                }\n",
       "\n",
       "                .geemap-colab .jupyter-button {\n",
       "                    --jp-layout-color3: var(--colab-primary-surface-color, white);\n",
       "                }\n",
       "            </style>\n",
       "            "
      ],
      "text/plain": [
       "<IPython.core.display.HTML object>"
      ]
     },
     "metadata": {},
     "output_type": "display_data"
    }
   ],
   "source": [
    "# For the canton of Thurgau\n",
    "cantonal_borders_asset = (\n",
    "    \"projects/thurgau-irrigation/assets/Thurgau/thrugau_borders_2024\"\n",
    ")\n",
    "\n",
    "aoi_feature_collection = ee.FeatureCollection(cantonal_borders_asset)\n",
    "aoi_geometry = aoi_feature_collection.geometry()\n",
    "aoi_geometry = aoi_geometry.simplify(500)\n",
    "aoi_buffered = aoi_geometry.buffer(100)"
   ]
  },
  {
   "cell_type": "markdown",
   "metadata": {},
   "source": [
    "## Importing all assets: land use maps, vegetation periods, WaPOR ET data."
   ]
  },
  {
   "cell_type": "code",
   "execution_count": 5,
   "metadata": {},
   "outputs": [
    {
     "data": {
      "text/html": [
       "\n",
       "            <style>\n",
       "                .geemap-dark {\n",
       "                    --jp-widgets-color: white;\n",
       "                    --jp-widgets-label-color: white;\n",
       "                    --jp-ui-font-color1: white;\n",
       "                    --jp-layout-color2: #454545;\n",
       "                    background-color: #383838;\n",
       "                }\n",
       "\n",
       "                .geemap-dark .jupyter-button {\n",
       "                    --jp-layout-color3: #383838;\n",
       "                }\n",
       "\n",
       "                .geemap-colab {\n",
       "                    background-color: var(--colab-primary-surface-color, white);\n",
       "                }\n",
       "\n",
       "                .geemap-colab .jupyter-button {\n",
       "                    --jp-layout-color3: var(--colab-primary-surface-color, white);\n",
       "                }\n",
       "            </style>\n",
       "            "
      ],
      "text/plain": [
       "<IPython.core.display.HTML object>"
      ]
     },
     "metadata": {},
     "output_type": "display_data"
    }
   ],
   "source": [
    "years_to_process = range(2018, 2023) \n",
    "\n",
    "nutzung_collection = ee.FeatureCollection(\"projects/thurgau-irrigation/assets/Thurgau/Nutzungsflaechen/TG_2018_area\")\n",
    "\n",
    "double_cropping_image_collection = ee.ImageCollection(\"projects/thurgau-irrigation/assets/Thurgau/vegetation_periods_2018-2023\")\n",
    "\n",
    "\n",
    "WaPOR_assets = \"projects/thurgau-irrigation/assets/Thurgau/ET_WaPOR_10m_dekadal\"\n",
    "WaPOR_et_collections = ee_utils.merge_collections(years=years_to_process, asset_name=WaPOR_assets)"
   ]
  },
  {
   "cell_type": "markdown",
   "metadata": {},
   "source": [
    "## Filtering out potentially irrigated crops and refeence rainfed fields"
   ]
  },
  {
   "cell_type": "code",
   "execution_count": 6,
   "metadata": {},
   "outputs": [
    {
     "data": {
      "text/html": [
       "\n",
       "            <style>\n",
       "                .geemap-dark {\n",
       "                    --jp-widgets-color: white;\n",
       "                    --jp-widgets-label-color: white;\n",
       "                    --jp-ui-font-color1: white;\n",
       "                    --jp-layout-color2: #454545;\n",
       "                    background-color: #383838;\n",
       "                }\n",
       "\n",
       "                .geemap-dark .jupyter-button {\n",
       "                    --jp-layout-color3: #383838;\n",
       "                }\n",
       "\n",
       "                .geemap-colab {\n",
       "                    background-color: var(--colab-primary-surface-color, white);\n",
       "                }\n",
       "\n",
       "                .geemap-colab .jupyter-button {\n",
       "                    --jp-layout-color3: var(--colab-primary-surface-color, white);\n",
       "                }\n",
       "            </style>\n",
       "            "
      ],
      "text/plain": [
       "<IPython.core.display.HTML object>"
      ]
     },
     "metadata": {},
     "output_type": "display_data"
    },
    {
     "name": "stdout",
     "output_type": "stream",
     "text": [
      "Filtered fields count: 12931\n",
      "Rainfed reference fields count: 21958\n"
     ]
    }
   ],
   "source": [
    "# # Add double cropping information to the feature collection\n",
    "# nutzung_collection_with_double_crop = add_double_cropping_info(\n",
    "#     nutzung_collection, double_cropping_image_2018\n",
    "# )\n",
    "\n",
    "# not_irrigated_crops = get_crops_to_exclude()\n",
    "# rainfed_crops = get_rainfed_reference_crops()\n",
    "\n",
    "# exclude_filter, rainfed_filter = create_crop_filters(not_irrigated_crops, rainfed_crops)\n",
    "\n",
    "# potentially_rainfed, rainfed_fields = filter_crops(\n",
    "#     nutzung_collection_with_double_crop, exclude_filter, rainfed_filter\n",
    "# )\n",
    "\n",
    "# print(\"Filtered fields count:\", potentially_rainfed.size().getInfo())\n",
    "# print(\"Rainfed reference fields count:\", rainfed_fields.size().getInfo())"
   ]
  },
  {
   "cell_type": "markdown",
   "metadata": {},
   "source": [
    "## Computing ET green and exporting the results"
   ]
  },
  {
   "cell_type": "code",
   "execution_count": 7,
   "metadata": {},
   "outputs": [
    {
     "data": {
      "text/html": [
       "\n",
       "            <style>\n",
       "                .geemap-dark {\n",
       "                    --jp-widgets-color: white;\n",
       "                    --jp-widgets-label-color: white;\n",
       "                    --jp-ui-font-color1: white;\n",
       "                    --jp-layout-color2: #454545;\n",
       "                    background-color: #383838;\n",
       "                }\n",
       "\n",
       "                .geemap-dark .jupyter-button {\n",
       "                    --jp-layout-color3: #383838;\n",
       "                }\n",
       "\n",
       "                .geemap-colab {\n",
       "                    background-color: var(--colab-primary-surface-color, white);\n",
       "                }\n",
       "\n",
       "                .geemap-colab .jupyter-button {\n",
       "                    --jp-layout-color3: var(--colab-primary-surface-color, white);\n",
       "                }\n",
       "            </style>\n",
       "            "
      ],
      "text/plain": [
       "<IPython.core.display.HTML object>"
      ]
     },
     "metadata": {},
     "output_type": "display_data"
    }
   ],
   "source": [
    "# et_image = WaPOR_et_collections.first()\n",
    "\n",
    "# et_green_result = compute_et_green(et_image, rainfed_fields)"
   ]
  },
  {
   "cell_type": "code",
   "execution_count": 6,
   "metadata": {},
   "outputs": [
    {
     "data": {
      "text/html": [
       "\n",
       "            <style>\n",
       "                .geemap-dark {\n",
       "                    --jp-widgets-color: white;\n",
       "                    --jp-widgets-label-color: white;\n",
       "                    --jp-ui-font-color1: white;\n",
       "                    --jp-layout-color2: #454545;\n",
       "                    background-color: #383838;\n",
       "                }\n",
       "\n",
       "                .geemap-dark .jupyter-button {\n",
       "                    --jp-layout-color3: #383838;\n",
       "                }\n",
       "\n",
       "                .geemap-colab {\n",
       "                    background-color: var(--colab-primary-surface-color, white);\n",
       "                }\n",
       "\n",
       "                .geemap-colab .jupyter-button {\n",
       "                    --jp-layout-color3: var(--colab-primary-surface-color, white);\n",
       "                }\n",
       "            </style>\n",
       "            "
      ],
      "text/plain": [
       "<IPython.core.display.HTML object>"
      ]
     },
     "metadata": {},
     "output_type": "display_data"
    },
    {
     "name": "stdout",
     "output_type": "stream",
     "text": [
      "Exporting ET_green_2018-01_D1 for 2018 to projects/thurgau-irrigation/assets/Thurgau/ET_green_2018-2022/ET_green_2018-01_D1\n",
      "Exporting ET_green_2018-01_D2 for 2018 to projects/thurgau-irrigation/assets/Thurgau/ET_green_2018-2022/ET_green_2018-01_D2\n",
      "Exporting ET_green_2018-01_D3 for 2018 to projects/thurgau-irrigation/assets/Thurgau/ET_green_2018-2022/ET_green_2018-01_D3\n",
      "Exporting ET_green_2018-02_D1 for 2018 to projects/thurgau-irrigation/assets/Thurgau/ET_green_2018-2022/ET_green_2018-02_D1\n",
      "Exporting ET_green_2018-02_D2 for 2018 to projects/thurgau-irrigation/assets/Thurgau/ET_green_2018-2022/ET_green_2018-02_D2\n",
      "Exporting ET_green_2018-02_D3 for 2018 to projects/thurgau-irrigation/assets/Thurgau/ET_green_2018-2022/ET_green_2018-02_D3\n",
      "Exporting ET_green_2018-03_D1 for 2018 to projects/thurgau-irrigation/assets/Thurgau/ET_green_2018-2022/ET_green_2018-03_D1\n",
      "Exporting ET_green_2018-03_D2 for 2018 to projects/thurgau-irrigation/assets/Thurgau/ET_green_2018-2022/ET_green_2018-03_D2\n",
      "Exporting ET_green_2018-03_D3 for 2018 to projects/thurgau-irrigation/assets/Thurgau/ET_green_2018-2022/ET_green_2018-03_D3\n",
      "Exporting ET_green_2018-04_D1 for 2018 to projects/thurgau-irrigation/assets/Thurgau/ET_green_2018-2022/ET_green_2018-04_D1\n",
      "Exporting ET_green_2018-04_D2 for 2018 to projects/thurgau-irrigation/assets/Thurgau/ET_green_2018-2022/ET_green_2018-04_D2\n",
      "Exporting ET_green_2018-04_D3 for 2018 to projects/thurgau-irrigation/assets/Thurgau/ET_green_2018-2022/ET_green_2018-04_D3\n",
      "Exporting ET_green_2018-05_D1 for 2018 to projects/thurgau-irrigation/assets/Thurgau/ET_green_2018-2022/ET_green_2018-05_D1\n",
      "Exporting ET_green_2018-05_D2 for 2018 to projects/thurgau-irrigation/assets/Thurgau/ET_green_2018-2022/ET_green_2018-05_D2\n",
      "Exporting ET_green_2018-05_D3 for 2018 to projects/thurgau-irrigation/assets/Thurgau/ET_green_2018-2022/ET_green_2018-05_D3\n",
      "Exporting ET_green_2018-06_D1 for 2018 to projects/thurgau-irrigation/assets/Thurgau/ET_green_2018-2022/ET_green_2018-06_D1\n",
      "Exporting ET_green_2018-06_D2 for 2018 to projects/thurgau-irrigation/assets/Thurgau/ET_green_2018-2022/ET_green_2018-06_D2\n",
      "Exporting ET_green_2018-06_D3 for 2018 to projects/thurgau-irrigation/assets/Thurgau/ET_green_2018-2022/ET_green_2018-06_D3\n",
      "Exporting ET_green_2018-07_D1 for 2018 to projects/thurgau-irrigation/assets/Thurgau/ET_green_2018-2022/ET_green_2018-07_D1\n",
      "Exporting ET_green_2018-07_D2 for 2018 to projects/thurgau-irrigation/assets/Thurgau/ET_green_2018-2022/ET_green_2018-07_D2\n",
      "Exporting ET_green_2018-07_D3 for 2018 to projects/thurgau-irrigation/assets/Thurgau/ET_green_2018-2022/ET_green_2018-07_D3\n",
      "Exporting ET_green_2018-08_D1 for 2018 to projects/thurgau-irrigation/assets/Thurgau/ET_green_2018-2022/ET_green_2018-08_D1\n",
      "Exporting ET_green_2018-08_D2 for 2018 to projects/thurgau-irrigation/assets/Thurgau/ET_green_2018-2022/ET_green_2018-08_D2\n",
      "Exporting ET_green_2018-08_D3 for 2018 to projects/thurgau-irrigation/assets/Thurgau/ET_green_2018-2022/ET_green_2018-08_D3\n",
      "Exporting ET_green_2018-09_D1 for 2018 to projects/thurgau-irrigation/assets/Thurgau/ET_green_2018-2022/ET_green_2018-09_D1\n",
      "Exporting ET_green_2018-09_D2 for 2018 to projects/thurgau-irrigation/assets/Thurgau/ET_green_2018-2022/ET_green_2018-09_D2\n",
      "Exporting ET_green_2018-09_D3 for 2018 to projects/thurgau-irrigation/assets/Thurgau/ET_green_2018-2022/ET_green_2018-09_D3\n",
      "Exporting ET_green_2018-10_D1 for 2018 to projects/thurgau-irrigation/assets/Thurgau/ET_green_2018-2022/ET_green_2018-10_D1\n",
      "Exporting ET_green_2018-10_D2 for 2018 to projects/thurgau-irrigation/assets/Thurgau/ET_green_2018-2022/ET_green_2018-10_D2\n",
      "Exporting ET_green_2018-10_D3 for 2018 to projects/thurgau-irrigation/assets/Thurgau/ET_green_2018-2022/ET_green_2018-10_D3\n",
      "Exporting ET_green_2018-11_D1 for 2018 to projects/thurgau-irrigation/assets/Thurgau/ET_green_2018-2022/ET_green_2018-11_D1\n",
      "Exporting ET_green_2018-11_D2 for 2018 to projects/thurgau-irrigation/assets/Thurgau/ET_green_2018-2022/ET_green_2018-11_D2\n",
      "Exporting ET_green_2018-11_D3 for 2018 to projects/thurgau-irrigation/assets/Thurgau/ET_green_2018-2022/ET_green_2018-11_D3\n",
      "Exporting ET_green_2018-12_D1 for 2018 to projects/thurgau-irrigation/assets/Thurgau/ET_green_2018-2022/ET_green_2018-12_D1\n",
      "Exporting ET_green_2018-12_D2 for 2018 to projects/thurgau-irrigation/assets/Thurgau/ET_green_2018-2022/ET_green_2018-12_D2\n",
      "Exporting ET_green_2018-12_D3 for 2018 to projects/thurgau-irrigation/assets/Thurgau/ET_green_2018-2022/ET_green_2018-12_D3\n",
      "Year 2018 processing complete. Started 36 tasks.\n",
      "Exporting ET_green_2019-01_D1 for 2019 to projects/thurgau-irrigation/assets/Thurgau/ET_green_2018-2022/ET_green_2019-01_D1\n",
      "Exporting ET_green_2019-01_D2 for 2019 to projects/thurgau-irrigation/assets/Thurgau/ET_green_2018-2022/ET_green_2019-01_D2\n",
      "Exporting ET_green_2019-01_D3 for 2019 to projects/thurgau-irrigation/assets/Thurgau/ET_green_2018-2022/ET_green_2019-01_D3\n",
      "Exporting ET_green_2019-02_D1 for 2019 to projects/thurgau-irrigation/assets/Thurgau/ET_green_2018-2022/ET_green_2019-02_D1\n",
      "Exporting ET_green_2019-02_D2 for 2019 to projects/thurgau-irrigation/assets/Thurgau/ET_green_2018-2022/ET_green_2019-02_D2\n",
      "Exporting ET_green_2019-02_D3 for 2019 to projects/thurgau-irrigation/assets/Thurgau/ET_green_2018-2022/ET_green_2019-02_D3\n",
      "Exporting ET_green_2019-03_D1 for 2019 to projects/thurgau-irrigation/assets/Thurgau/ET_green_2018-2022/ET_green_2019-03_D1\n",
      "Exporting ET_green_2019-03_D2 for 2019 to projects/thurgau-irrigation/assets/Thurgau/ET_green_2018-2022/ET_green_2019-03_D2\n",
      "Exporting ET_green_2019-03_D3 for 2019 to projects/thurgau-irrigation/assets/Thurgau/ET_green_2018-2022/ET_green_2019-03_D3\n",
      "Exporting ET_green_2019-04_D1 for 2019 to projects/thurgau-irrigation/assets/Thurgau/ET_green_2018-2022/ET_green_2019-04_D1\n",
      "Exporting ET_green_2019-04_D2 for 2019 to projects/thurgau-irrigation/assets/Thurgau/ET_green_2018-2022/ET_green_2019-04_D2\n",
      "Exporting ET_green_2019-04_D3 for 2019 to projects/thurgau-irrigation/assets/Thurgau/ET_green_2018-2022/ET_green_2019-04_D3\n",
      "Exporting ET_green_2019-05_D1 for 2019 to projects/thurgau-irrigation/assets/Thurgau/ET_green_2018-2022/ET_green_2019-05_D1\n",
      "Exporting ET_green_2019-05_D2 for 2019 to projects/thurgau-irrigation/assets/Thurgau/ET_green_2018-2022/ET_green_2019-05_D2\n",
      "Exporting ET_green_2019-05_D3 for 2019 to projects/thurgau-irrigation/assets/Thurgau/ET_green_2018-2022/ET_green_2019-05_D3\n",
      "Exporting ET_green_2019-06_D1 for 2019 to projects/thurgau-irrigation/assets/Thurgau/ET_green_2018-2022/ET_green_2019-06_D1\n",
      "Exporting ET_green_2019-06_D2 for 2019 to projects/thurgau-irrigation/assets/Thurgau/ET_green_2018-2022/ET_green_2019-06_D2\n",
      "Exporting ET_green_2019-06_D3 for 2019 to projects/thurgau-irrigation/assets/Thurgau/ET_green_2018-2022/ET_green_2019-06_D3\n",
      "Exporting ET_green_2019-07_D1 for 2019 to projects/thurgau-irrigation/assets/Thurgau/ET_green_2018-2022/ET_green_2019-07_D1\n",
      "Exporting ET_green_2019-07_D2 for 2019 to projects/thurgau-irrigation/assets/Thurgau/ET_green_2018-2022/ET_green_2019-07_D2\n",
      "Exporting ET_green_2019-07_D3 for 2019 to projects/thurgau-irrigation/assets/Thurgau/ET_green_2018-2022/ET_green_2019-07_D3\n",
      "Exporting ET_green_2019-08_D1 for 2019 to projects/thurgau-irrigation/assets/Thurgau/ET_green_2018-2022/ET_green_2019-08_D1\n",
      "Exporting ET_green_2019-08_D2 for 2019 to projects/thurgau-irrigation/assets/Thurgau/ET_green_2018-2022/ET_green_2019-08_D2\n",
      "Exporting ET_green_2019-08_D3 for 2019 to projects/thurgau-irrigation/assets/Thurgau/ET_green_2018-2022/ET_green_2019-08_D3\n",
      "Exporting ET_green_2019-09_D1 for 2019 to projects/thurgau-irrigation/assets/Thurgau/ET_green_2018-2022/ET_green_2019-09_D1\n",
      "Exporting ET_green_2019-09_D2 for 2019 to projects/thurgau-irrigation/assets/Thurgau/ET_green_2018-2022/ET_green_2019-09_D2\n",
      "Exporting ET_green_2019-09_D3 for 2019 to projects/thurgau-irrigation/assets/Thurgau/ET_green_2018-2022/ET_green_2019-09_D3\n",
      "Exporting ET_green_2019-10_D1 for 2019 to projects/thurgau-irrigation/assets/Thurgau/ET_green_2018-2022/ET_green_2019-10_D1\n",
      "Exporting ET_green_2019-10_D2 for 2019 to projects/thurgau-irrigation/assets/Thurgau/ET_green_2018-2022/ET_green_2019-10_D2\n",
      "Exporting ET_green_2019-10_D3 for 2019 to projects/thurgau-irrigation/assets/Thurgau/ET_green_2018-2022/ET_green_2019-10_D3\n",
      "Exporting ET_green_2019-11_D1 for 2019 to projects/thurgau-irrigation/assets/Thurgau/ET_green_2018-2022/ET_green_2019-11_D1\n",
      "Exporting ET_green_2019-11_D2 for 2019 to projects/thurgau-irrigation/assets/Thurgau/ET_green_2018-2022/ET_green_2019-11_D2\n",
      "Exporting ET_green_2019-11_D3 for 2019 to projects/thurgau-irrigation/assets/Thurgau/ET_green_2018-2022/ET_green_2019-11_D3\n",
      "Exporting ET_green_2019-12_D1 for 2019 to projects/thurgau-irrigation/assets/Thurgau/ET_green_2018-2022/ET_green_2019-12_D1\n",
      "Exporting ET_green_2019-12_D2 for 2019 to projects/thurgau-irrigation/assets/Thurgau/ET_green_2018-2022/ET_green_2019-12_D2\n",
      "Exporting ET_green_2019-12_D3 for 2019 to projects/thurgau-irrigation/assets/Thurgau/ET_green_2018-2022/ET_green_2019-12_D3\n",
      "Year 2019 processing complete. Started 36 tasks.\n",
      "Exporting ET_green_2020-01_D1 for 2020 to projects/thurgau-irrigation/assets/Thurgau/ET_green_2018-2022/ET_green_2020-01_D1\n",
      "Exporting ET_green_2020-01_D2 for 2020 to projects/thurgau-irrigation/assets/Thurgau/ET_green_2018-2022/ET_green_2020-01_D2\n",
      "Exporting ET_green_2020-01_D3 for 2020 to projects/thurgau-irrigation/assets/Thurgau/ET_green_2018-2022/ET_green_2020-01_D3\n",
      "Exporting ET_green_2020-02_D1 for 2020 to projects/thurgau-irrigation/assets/Thurgau/ET_green_2018-2022/ET_green_2020-02_D1\n",
      "Exporting ET_green_2020-02_D2 for 2020 to projects/thurgau-irrigation/assets/Thurgau/ET_green_2018-2022/ET_green_2020-02_D2\n",
      "Exporting ET_green_2020-02_D3 for 2020 to projects/thurgau-irrigation/assets/Thurgau/ET_green_2018-2022/ET_green_2020-02_D3\n",
      "Exporting ET_green_2020-03_D1 for 2020 to projects/thurgau-irrigation/assets/Thurgau/ET_green_2018-2022/ET_green_2020-03_D1\n",
      "Exporting ET_green_2020-03_D2 for 2020 to projects/thurgau-irrigation/assets/Thurgau/ET_green_2018-2022/ET_green_2020-03_D2\n",
      "Exporting ET_green_2020-03_D3 for 2020 to projects/thurgau-irrigation/assets/Thurgau/ET_green_2018-2022/ET_green_2020-03_D3\n",
      "Exporting ET_green_2020-04_D1 for 2020 to projects/thurgau-irrigation/assets/Thurgau/ET_green_2018-2022/ET_green_2020-04_D1\n",
      "Exporting ET_green_2020-04_D2 for 2020 to projects/thurgau-irrigation/assets/Thurgau/ET_green_2018-2022/ET_green_2020-04_D2\n",
      "Exporting ET_green_2020-04_D3 for 2020 to projects/thurgau-irrigation/assets/Thurgau/ET_green_2018-2022/ET_green_2020-04_D3\n",
      "Exporting ET_green_2020-05_D1 for 2020 to projects/thurgau-irrigation/assets/Thurgau/ET_green_2018-2022/ET_green_2020-05_D1\n",
      "Exporting ET_green_2020-05_D2 for 2020 to projects/thurgau-irrigation/assets/Thurgau/ET_green_2018-2022/ET_green_2020-05_D2\n",
      "Exporting ET_green_2020-05_D3 for 2020 to projects/thurgau-irrigation/assets/Thurgau/ET_green_2018-2022/ET_green_2020-05_D3\n",
      "Exporting ET_green_2020-06_D1 for 2020 to projects/thurgau-irrigation/assets/Thurgau/ET_green_2018-2022/ET_green_2020-06_D1\n",
      "Exporting ET_green_2020-06_D2 for 2020 to projects/thurgau-irrigation/assets/Thurgau/ET_green_2018-2022/ET_green_2020-06_D2\n",
      "Exporting ET_green_2020-06_D3 for 2020 to projects/thurgau-irrigation/assets/Thurgau/ET_green_2018-2022/ET_green_2020-06_D3\n",
      "Exporting ET_green_2020-07_D1 for 2020 to projects/thurgau-irrigation/assets/Thurgau/ET_green_2018-2022/ET_green_2020-07_D1\n",
      "Exporting ET_green_2020-07_D2 for 2020 to projects/thurgau-irrigation/assets/Thurgau/ET_green_2018-2022/ET_green_2020-07_D2\n",
      "Exporting ET_green_2020-07_D3 for 2020 to projects/thurgau-irrigation/assets/Thurgau/ET_green_2018-2022/ET_green_2020-07_D3\n",
      "Exporting ET_green_2020-08_D1 for 2020 to projects/thurgau-irrigation/assets/Thurgau/ET_green_2018-2022/ET_green_2020-08_D1\n",
      "Exporting ET_green_2020-08_D2 for 2020 to projects/thurgau-irrigation/assets/Thurgau/ET_green_2018-2022/ET_green_2020-08_D2\n",
      "Exporting ET_green_2020-08_D3 for 2020 to projects/thurgau-irrigation/assets/Thurgau/ET_green_2018-2022/ET_green_2020-08_D3\n",
      "Exporting ET_green_2020-09_D1 for 2020 to projects/thurgau-irrigation/assets/Thurgau/ET_green_2018-2022/ET_green_2020-09_D1\n",
      "Exporting ET_green_2020-09_D2 for 2020 to projects/thurgau-irrigation/assets/Thurgau/ET_green_2018-2022/ET_green_2020-09_D2\n",
      "Exporting ET_green_2020-09_D3 for 2020 to projects/thurgau-irrigation/assets/Thurgau/ET_green_2018-2022/ET_green_2020-09_D3\n",
      "Exporting ET_green_2020-10_D1 for 2020 to projects/thurgau-irrigation/assets/Thurgau/ET_green_2018-2022/ET_green_2020-10_D1\n",
      "Exporting ET_green_2020-10_D2 for 2020 to projects/thurgau-irrigation/assets/Thurgau/ET_green_2018-2022/ET_green_2020-10_D2\n",
      "Exporting ET_green_2020-10_D3 for 2020 to projects/thurgau-irrigation/assets/Thurgau/ET_green_2018-2022/ET_green_2020-10_D3\n",
      "Exporting ET_green_2020-11_D1 for 2020 to projects/thurgau-irrigation/assets/Thurgau/ET_green_2018-2022/ET_green_2020-11_D1\n",
      "Exporting ET_green_2020-11_D2 for 2020 to projects/thurgau-irrigation/assets/Thurgau/ET_green_2018-2022/ET_green_2020-11_D2\n",
      "Exporting ET_green_2020-11_D3 for 2020 to projects/thurgau-irrigation/assets/Thurgau/ET_green_2018-2022/ET_green_2020-11_D3\n",
      "Exporting ET_green_2020-12_D1 for 2020 to projects/thurgau-irrigation/assets/Thurgau/ET_green_2018-2022/ET_green_2020-12_D1\n",
      "Exporting ET_green_2020-12_D2 for 2020 to projects/thurgau-irrigation/assets/Thurgau/ET_green_2018-2022/ET_green_2020-12_D2\n",
      "Exporting ET_green_2020-12_D3 for 2020 to projects/thurgau-irrigation/assets/Thurgau/ET_green_2018-2022/ET_green_2020-12_D3\n",
      "Year 2020 processing complete. Started 36 tasks.\n",
      "Exporting ET_green_2021-01_D1 for 2021 to projects/thurgau-irrigation/assets/Thurgau/ET_green_2018-2022/ET_green_2021-01_D1\n",
      "Exporting ET_green_2021-01_D2 for 2021 to projects/thurgau-irrigation/assets/Thurgau/ET_green_2018-2022/ET_green_2021-01_D2\n",
      "Exporting ET_green_2021-01_D3 for 2021 to projects/thurgau-irrigation/assets/Thurgau/ET_green_2018-2022/ET_green_2021-01_D3\n",
      "Exporting ET_green_2021-02_D1 for 2021 to projects/thurgau-irrigation/assets/Thurgau/ET_green_2018-2022/ET_green_2021-02_D1\n",
      "Exporting ET_green_2021-02_D2 for 2021 to projects/thurgau-irrigation/assets/Thurgau/ET_green_2018-2022/ET_green_2021-02_D2\n",
      "Exporting ET_green_2021-02_D3 for 2021 to projects/thurgau-irrigation/assets/Thurgau/ET_green_2018-2022/ET_green_2021-02_D3\n",
      "Exporting ET_green_2021-03_D1 for 2021 to projects/thurgau-irrigation/assets/Thurgau/ET_green_2018-2022/ET_green_2021-03_D1\n",
      "Exporting ET_green_2021-03_D2 for 2021 to projects/thurgau-irrigation/assets/Thurgau/ET_green_2018-2022/ET_green_2021-03_D2\n",
      "Exporting ET_green_2021-03_D3 for 2021 to projects/thurgau-irrigation/assets/Thurgau/ET_green_2018-2022/ET_green_2021-03_D3\n",
      "Exporting ET_green_2021-04_D1 for 2021 to projects/thurgau-irrigation/assets/Thurgau/ET_green_2018-2022/ET_green_2021-04_D1\n",
      "Exporting ET_green_2021-04_D2 for 2021 to projects/thurgau-irrigation/assets/Thurgau/ET_green_2018-2022/ET_green_2021-04_D2\n",
      "Exporting ET_green_2021-04_D3 for 2021 to projects/thurgau-irrigation/assets/Thurgau/ET_green_2018-2022/ET_green_2021-04_D3\n",
      "Exporting ET_green_2021-05_D1 for 2021 to projects/thurgau-irrigation/assets/Thurgau/ET_green_2018-2022/ET_green_2021-05_D1\n",
      "Exporting ET_green_2021-05_D2 for 2021 to projects/thurgau-irrigation/assets/Thurgau/ET_green_2018-2022/ET_green_2021-05_D2\n",
      "Exporting ET_green_2021-05_D3 for 2021 to projects/thurgau-irrigation/assets/Thurgau/ET_green_2018-2022/ET_green_2021-05_D3\n",
      "Exporting ET_green_2021-06_D1 for 2021 to projects/thurgau-irrigation/assets/Thurgau/ET_green_2018-2022/ET_green_2021-06_D1\n",
      "Exporting ET_green_2021-06_D2 for 2021 to projects/thurgau-irrigation/assets/Thurgau/ET_green_2018-2022/ET_green_2021-06_D2\n",
      "Exporting ET_green_2021-06_D3 for 2021 to projects/thurgau-irrigation/assets/Thurgau/ET_green_2018-2022/ET_green_2021-06_D3\n",
      "Exporting ET_green_2021-07_D1 for 2021 to projects/thurgau-irrigation/assets/Thurgau/ET_green_2018-2022/ET_green_2021-07_D1\n",
      "Exporting ET_green_2021-07_D2 for 2021 to projects/thurgau-irrigation/assets/Thurgau/ET_green_2018-2022/ET_green_2021-07_D2\n",
      "Exporting ET_green_2021-07_D3 for 2021 to projects/thurgau-irrigation/assets/Thurgau/ET_green_2018-2022/ET_green_2021-07_D3\n",
      "Exporting ET_green_2021-08_D1 for 2021 to projects/thurgau-irrigation/assets/Thurgau/ET_green_2018-2022/ET_green_2021-08_D1\n",
      "Exporting ET_green_2021-08_D2 for 2021 to projects/thurgau-irrigation/assets/Thurgau/ET_green_2018-2022/ET_green_2021-08_D2\n",
      "Exporting ET_green_2021-08_D3 for 2021 to projects/thurgau-irrigation/assets/Thurgau/ET_green_2018-2022/ET_green_2021-08_D3\n",
      "Exporting ET_green_2021-09_D1 for 2021 to projects/thurgau-irrigation/assets/Thurgau/ET_green_2018-2022/ET_green_2021-09_D1\n",
      "Exporting ET_green_2021-09_D2 for 2021 to projects/thurgau-irrigation/assets/Thurgau/ET_green_2018-2022/ET_green_2021-09_D2\n",
      "Exporting ET_green_2021-09_D3 for 2021 to projects/thurgau-irrigation/assets/Thurgau/ET_green_2018-2022/ET_green_2021-09_D3\n",
      "Exporting ET_green_2021-10_D1 for 2021 to projects/thurgau-irrigation/assets/Thurgau/ET_green_2018-2022/ET_green_2021-10_D1\n",
      "Exporting ET_green_2021-10_D2 for 2021 to projects/thurgau-irrigation/assets/Thurgau/ET_green_2018-2022/ET_green_2021-10_D2\n",
      "Exporting ET_green_2021-10_D3 for 2021 to projects/thurgau-irrigation/assets/Thurgau/ET_green_2018-2022/ET_green_2021-10_D3\n",
      "Exporting ET_green_2021-11_D1 for 2021 to projects/thurgau-irrigation/assets/Thurgau/ET_green_2018-2022/ET_green_2021-11_D1\n",
      "Exporting ET_green_2021-11_D2 for 2021 to projects/thurgau-irrigation/assets/Thurgau/ET_green_2018-2022/ET_green_2021-11_D2\n",
      "Exporting ET_green_2021-11_D3 for 2021 to projects/thurgau-irrigation/assets/Thurgau/ET_green_2018-2022/ET_green_2021-11_D3\n",
      "Exporting ET_green_2021-12_D1 for 2021 to projects/thurgau-irrigation/assets/Thurgau/ET_green_2018-2022/ET_green_2021-12_D1\n",
      "Exporting ET_green_2021-12_D2 for 2021 to projects/thurgau-irrigation/assets/Thurgau/ET_green_2018-2022/ET_green_2021-12_D2\n",
      "Exporting ET_green_2021-12_D3 for 2021 to projects/thurgau-irrigation/assets/Thurgau/ET_green_2018-2022/ET_green_2021-12_D3\n",
      "Year 2021 processing complete. Started 36 tasks.\n",
      "Exporting ET_green_2022-01_D1 for 2022 to projects/thurgau-irrigation/assets/Thurgau/ET_green_2018-2022/ET_green_2022-01_D1\n",
      "Exporting ET_green_2022-01_D2 for 2022 to projects/thurgau-irrigation/assets/Thurgau/ET_green_2018-2022/ET_green_2022-01_D2\n",
      "Exporting ET_green_2022-01_D3 for 2022 to projects/thurgau-irrigation/assets/Thurgau/ET_green_2018-2022/ET_green_2022-01_D3\n",
      "Exporting ET_green_2022-02_D1 for 2022 to projects/thurgau-irrigation/assets/Thurgau/ET_green_2018-2022/ET_green_2022-02_D1\n",
      "Exporting ET_green_2022-02_D2 for 2022 to projects/thurgau-irrigation/assets/Thurgau/ET_green_2018-2022/ET_green_2022-02_D2\n",
      "Exporting ET_green_2022-02_D3 for 2022 to projects/thurgau-irrigation/assets/Thurgau/ET_green_2018-2022/ET_green_2022-02_D3\n",
      "Exporting ET_green_2022-03_D1 for 2022 to projects/thurgau-irrigation/assets/Thurgau/ET_green_2018-2022/ET_green_2022-03_D1\n",
      "Exporting ET_green_2022-03_D2 for 2022 to projects/thurgau-irrigation/assets/Thurgau/ET_green_2018-2022/ET_green_2022-03_D2\n",
      "Exporting ET_green_2022-03_D3 for 2022 to projects/thurgau-irrigation/assets/Thurgau/ET_green_2018-2022/ET_green_2022-03_D3\n",
      "Exporting ET_green_2022-04_D1 for 2022 to projects/thurgau-irrigation/assets/Thurgau/ET_green_2018-2022/ET_green_2022-04_D1\n",
      "Exporting ET_green_2022-04_D2 for 2022 to projects/thurgau-irrigation/assets/Thurgau/ET_green_2018-2022/ET_green_2022-04_D2\n",
      "Exporting ET_green_2022-04_D3 for 2022 to projects/thurgau-irrigation/assets/Thurgau/ET_green_2018-2022/ET_green_2022-04_D3\n",
      "Exporting ET_green_2022-05_D1 for 2022 to projects/thurgau-irrigation/assets/Thurgau/ET_green_2018-2022/ET_green_2022-05_D1\n",
      "Exporting ET_green_2022-05_D2 for 2022 to projects/thurgau-irrigation/assets/Thurgau/ET_green_2018-2022/ET_green_2022-05_D2\n",
      "Exporting ET_green_2022-05_D3 for 2022 to projects/thurgau-irrigation/assets/Thurgau/ET_green_2018-2022/ET_green_2022-05_D3\n",
      "Exporting ET_green_2022-06_D1 for 2022 to projects/thurgau-irrigation/assets/Thurgau/ET_green_2018-2022/ET_green_2022-06_D1\n",
      "Exporting ET_green_2022-06_D2 for 2022 to projects/thurgau-irrigation/assets/Thurgau/ET_green_2018-2022/ET_green_2022-06_D2\n",
      "Exporting ET_green_2022-06_D3 for 2022 to projects/thurgau-irrigation/assets/Thurgau/ET_green_2018-2022/ET_green_2022-06_D3\n",
      "Exporting ET_green_2022-07_D1 for 2022 to projects/thurgau-irrigation/assets/Thurgau/ET_green_2018-2022/ET_green_2022-07_D1\n",
      "Exporting ET_green_2022-07_D2 for 2022 to projects/thurgau-irrigation/assets/Thurgau/ET_green_2018-2022/ET_green_2022-07_D2\n",
      "Exporting ET_green_2022-07_D3 for 2022 to projects/thurgau-irrigation/assets/Thurgau/ET_green_2018-2022/ET_green_2022-07_D3\n",
      "Exporting ET_green_2022-08_D1 for 2022 to projects/thurgau-irrigation/assets/Thurgau/ET_green_2018-2022/ET_green_2022-08_D1\n",
      "Exporting ET_green_2022-08_D2 for 2022 to projects/thurgau-irrigation/assets/Thurgau/ET_green_2018-2022/ET_green_2022-08_D2\n",
      "Exporting ET_green_2022-08_D3 for 2022 to projects/thurgau-irrigation/assets/Thurgau/ET_green_2018-2022/ET_green_2022-08_D3\n",
      "Exporting ET_green_2022-09_D1 for 2022 to projects/thurgau-irrigation/assets/Thurgau/ET_green_2018-2022/ET_green_2022-09_D1\n",
      "Exporting ET_green_2022-09_D2 for 2022 to projects/thurgau-irrigation/assets/Thurgau/ET_green_2018-2022/ET_green_2022-09_D2\n",
      "Exporting ET_green_2022-09_D3 for 2022 to projects/thurgau-irrigation/assets/Thurgau/ET_green_2018-2022/ET_green_2022-09_D3\n",
      "Exporting ET_green_2022-10_D1 for 2022 to projects/thurgau-irrigation/assets/Thurgau/ET_green_2018-2022/ET_green_2022-10_D1\n",
      "Exporting ET_green_2022-10_D2 for 2022 to projects/thurgau-irrigation/assets/Thurgau/ET_green_2018-2022/ET_green_2022-10_D2\n",
      "Exporting ET_green_2022-10_D3 for 2022 to projects/thurgau-irrigation/assets/Thurgau/ET_green_2018-2022/ET_green_2022-10_D3\n",
      "Exporting ET_green_2022-11_D1 for 2022 to projects/thurgau-irrigation/assets/Thurgau/ET_green_2018-2022/ET_green_2022-11_D1\n",
      "Exporting ET_green_2022-11_D2 for 2022 to projects/thurgau-irrigation/assets/Thurgau/ET_green_2018-2022/ET_green_2022-11_D2\n",
      "Exporting ET_green_2022-11_D3 for 2022 to projects/thurgau-irrigation/assets/Thurgau/ET_green_2018-2022/ET_green_2022-11_D3\n",
      "Exporting ET_green_2022-12_D1 for 2022 to projects/thurgau-irrigation/assets/Thurgau/ET_green_2018-2022/ET_green_2022-12_D1\n",
      "Exporting ET_green_2022-12_D2 for 2022 to projects/thurgau-irrigation/assets/Thurgau/ET_green_2018-2022/ET_green_2022-12_D2\n",
      "Exporting ET_green_2022-12_D3 for 2022 to projects/thurgau-irrigation/assets/Thurgau/ET_green_2018-2022/ET_green_2022-12_D3\n",
      "Year 2022 processing complete. Started 36 tasks.\n",
      "All processing complete. Total tasks started: 180\n"
     ]
    }
   ],
   "source": [
    "def export_image_to_asset(\n",
    "    image: ee.Image,\n",
    "    asset_id: str,\n",
    "    task_name: str,\n",
    "    year: int,\n",
    "    aoi: ee.Geometry,\n",
    "    max_pixels: int = 1e13,\n",
    ") -> ee.batch.Task:\n",
    "    \"\"\"\n",
    "    Export an image to an Earth Engine asset.\n",
    "    \"\"\"\n",
    "    task = ee.batch.Export.image.toAsset(\n",
    "        image=image,\n",
    "        description=task_name,\n",
    "        assetId=asset_id,\n",
    "        region=aoi,\n",
    "        scale=10,\n",
    "        maxPixels=max_pixels,\n",
    "    )\n",
    "    print(f\"Exporting {task_name} for {year} to {asset_id}\")\n",
    "    task.start()\n",
    "    return task\n",
    "\n",
    "\n",
    "double_cropping_list = double_cropping_image_collection.toList(\n",
    "    double_cropping_image_collection.size()\n",
    ")\n",
    "WaPOR_et_collections_list = WaPOR_et_collections.toList(WaPOR_et_collections.size())\n",
    "\n",
    "not_irrigated_crops = get_crops_to_exclude()\n",
    "rainfed_crops = get_rainfed_reference_crops()\n",
    "\n",
    "exclude_filter, rainfed_filter = create_crop_filters(not_irrigated_crops, rainfed_crops)\n",
    "\n",
    "tasks = []\n",
    "\n",
    "total_tasks = 0\n",
    "\n",
    "for year in years_to_process:\n",
    "    j = year - 2018\n",
    "    nutzung_collection_year = ee.FeatureCollection(\n",
    "        f\"projects/thurgau-irrigation/assets/Thurgau/Nutzungsflaechen/TG_{year}_area\"\n",
    "    )\n",
    "    double_cropping_image_year = ee.Image(double_cropping_list.get(j))\n",
    "\n",
    "    nutzung_collection_with_double_crop_year = add_double_cropping_info(\n",
    "        nutzung_collection_year, double_cropping_image_year\n",
    "    )\n",
    "\n",
    "    potentially_rainfed_year, rainfed_fields_year = filter_crops(\n",
    "        nutzung_collection_with_double_crop_year, exclude_filter, rainfed_filter\n",
    "    )\n",
    "\n",
    "    year_tasks = 0\n",
    "\n",
    "    for i in range(36):\n",
    "        et_image_year = ee.Image(WaPOR_et_collections_list.get(j * 36 + i))\n",
    "        et_green_result_year = compute_et_green(et_image_year, rainfed_fields_year)\n",
    "\n",
    "        dekadal = i % 3 + 1\n",
    "        month = i // 3 + 1\n",
    "\n",
    "        task_name = f\"ET_green_{year}-{month:02d}_D{dekadal}\"\n",
    "        asset_id = (\n",
    "            f\"projects/thurgau-irrigation/assets/Thurgau/ET_green_2018-2022/{task_name}\"\n",
    "        )\n",
    "\n",
    "        task = export_image_to_asset(\n",
    "            et_green_result_year, asset_id, task_name, year, aoi_buffered\n",
    "        )\n",
    "        tasks.append(task)\n",
    "        year_tasks += 1\n",
    "        total_tasks += 1\n",
    "\n",
    "    print(f\"Year {year} processing complete. Started {year_tasks} tasks.\")\n",
    "\n",
    "print(f\"All processing complete. Total tasks started: {total_tasks}\")"
   ]
  },
  {
   "cell_type": "markdown",
   "metadata": {},
   "source": [
    "## Testing that it all went fine"
   ]
  },
  {
   "cell_type": "code",
   "execution_count": 7,
   "metadata": {},
   "outputs": [
    {
     "data": {
      "text/html": [
       "\n",
       "            <style>\n",
       "                .geemap-dark {\n",
       "                    --jp-widgets-color: white;\n",
       "                    --jp-widgets-label-color: white;\n",
       "                    --jp-ui-font-color1: white;\n",
       "                    --jp-layout-color2: #454545;\n",
       "                    background-color: #383838;\n",
       "                }\n",
       "\n",
       "                .geemap-dark .jupyter-button {\n",
       "                    --jp-layout-color3: #383838;\n",
       "                }\n",
       "\n",
       "                .geemap-colab {\n",
       "                    background-color: var(--colab-primary-surface-color, white);\n",
       "                }\n",
       "\n",
       "                .geemap-colab .jupyter-button {\n",
       "                    --jp-layout-color3: var(--colab-primary-surface-color, white);\n",
       "                }\n",
       "            </style>\n",
       "            "
      ],
      "text/plain": [
       "<IPython.core.display.HTML object>"
      ]
     },
     "metadata": {},
     "output_type": "display_data"
    }
   ],
   "source": [
    "et_green_collection = ee.ImageCollection(\"projects/thurgau-irrigation/assets/Thurgau/ET_green_2018-2022\")"
   ]
  }
 ],
 "metadata": {
  "kernelspec": {
   "display_name": "base",
   "language": "python",
   "name": "python3"
  },
  "language_info": {
   "codemirror_mode": {
    "name": "ipython",
    "version": 3
   },
   "file_extension": ".py",
   "mimetype": "text/x-python",
   "name": "python",
   "nbconvert_exporter": "python",
   "pygments_lexer": "ipython3",
   "version": "3.11.8"
  }
 },
 "nbformat": 4,
 "nbformat_minor": 2
}
