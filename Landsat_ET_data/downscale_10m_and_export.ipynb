{
 "cells": [
  {
   "cell_type": "markdown",
   "metadata": {
    "vscode": {
     "languageId": "plaintext"
    }
   },
   "source": [
    "## This notebook is for downscaling the Landsat ET data from 30m to 10m resolution. Subsequently the downscaled ImageCollection is exported to the Project Asset folder in Google Earth Engine.\n",
    "---"
   ]
  },
  {
   "cell_type": "code",
   "execution_count": 1,
   "metadata": {},
   "outputs": [],
   "source": [
    "import sys\n",
    "import os\n",
    "\n",
    "sys.path.append(os.path.abspath(os.path.join(\"..\")))"
   ]
  },
  {
   "cell_type": "code",
   "execution_count": 2,
   "metadata": {},
   "outputs": [],
   "source": [
    "import ee\n",
    "import geemap\n",
    "\n",
    "ee.Initialize(project=\"thurgau-irrigation\")"
   ]
  },
  {
   "cell_type": "code",
   "execution_count": 3,
   "metadata": {},
   "outputs": [
    {
     "data": {
      "text/html": [
       "\n",
       "            <style>\n",
       "                .geemap-dark {\n",
       "                    --jp-widgets-color: white;\n",
       "                    --jp-widgets-label-color: white;\n",
       "                    --jp-ui-font-color1: white;\n",
       "                    --jp-layout-color2: #454545;\n",
       "                    background-color: #383838;\n",
       "                }\n",
       "\n",
       "                .geemap-dark .jupyter-button {\n",
       "                    --jp-layout-color3: #383838;\n",
       "                }\n",
       "\n",
       "                .geemap-colab {\n",
       "                    background-color: var(--colab-primary-surface-color, white);\n",
       "                }\n",
       "\n",
       "                .geemap-colab .jupyter-button {\n",
       "                    --jp-layout-color3: var(--colab-primary-surface-color, white);\n",
       "                }\n",
       "            </style>\n",
       "            "
      ],
      "text/plain": [
       "<IPython.core.display.HTML object>"
      ]
     },
     "metadata": {},
     "output_type": "display_data"
    }
   ],
   "source": [
    "from vegetation_period_NDVI.data_loading import load_sentinel2_data, add_time_data\n",
    "from vegetation_period_NDVI.time_series import (\n",
    "    extract_time_ranges,\n",
    "    get_harmonic_ts,\n",
    "    add_time_data,\n",
    ")\n",
    "from utils.composites import harmonized_ts\n",
    "from utils.date_utils import print_collection_dates, create_centered_date_ranges\n",
    "from utils.harmonic_regressor import HarmonicRegressor\n",
    "from utils.ee_utils import back_to_float, back_to_int, export_image_to_asset, aggregate_to_monthly\n",
    "\n",
    "\n",
    "from typing import List"
   ]
  },
  {
   "cell_type": "markdown",
   "metadata": {},
   "source": [
    "### Constants"
   ]
  },
  {
   "cell_type": "code",
   "execution_count": 4,
   "metadata": {},
   "outputs": [
    {
     "data": {
      "text/html": [
       "\n",
       "            <style>\n",
       "                .geemap-dark {\n",
       "                    --jp-widgets-color: white;\n",
       "                    --jp-widgets-label-color: white;\n",
       "                    --jp-ui-font-color1: white;\n",
       "                    --jp-layout-color2: #454545;\n",
       "                    background-color: #383838;\n",
       "                }\n",
       "\n",
       "                .geemap-dark .jupyter-button {\n",
       "                    --jp-layout-color3: #383838;\n",
       "                }\n",
       "\n",
       "                .geemap-colab {\n",
       "                    background-color: var(--colab-primary-surface-color, white);\n",
       "                }\n",
       "\n",
       "                .geemap-colab .jupyter-button {\n",
       "                    --jp-layout-color3: var(--colab-primary-surface-color, white);\n",
       "                }\n",
       "            </style>\n",
       "            "
      ],
      "text/plain": [
       "<IPython.core.display.HTML object>"
      ]
     },
     "metadata": {},
     "output_type": "display_data"
    }
   ],
   "source": [
    "YEAR = 2022\n",
    "BUFFER_DAYS = 15\n",
    "TIME_STEPS = 12\n",
    "TIME_STEP_TYPE = \"monthly\""
   ]
  },
  {
   "cell_type": "markdown",
   "metadata": {},
   "source": [
    "### Step 1: Define the AOI"
   ]
  },
  {
   "cell_type": "code",
   "execution_count": 5,
   "metadata": {},
   "outputs": [
    {
     "data": {
      "text/html": [
       "\n",
       "            <style>\n",
       "                .geemap-dark {\n",
       "                    --jp-widgets-color: white;\n",
       "                    --jp-widgets-label-color: white;\n",
       "                    --jp-ui-font-color1: white;\n",
       "                    --jp-layout-color2: #454545;\n",
       "                    background-color: #383838;\n",
       "                }\n",
       "\n",
       "                .geemap-dark .jupyter-button {\n",
       "                    --jp-layout-color3: #383838;\n",
       "                }\n",
       "\n",
       "                .geemap-colab {\n",
       "                    background-color: var(--colab-primary-surface-color, white);\n",
       "                }\n",
       "\n",
       "                .geemap-colab .jupyter-button {\n",
       "                    --jp-layout-color3: var(--colab-primary-surface-color, white);\n",
       "                }\n",
       "            </style>\n",
       "            "
      ],
      "text/plain": [
       "<IPython.core.display.HTML object>"
      ]
     },
     "metadata": {},
     "output_type": "display_data"
    }
   ],
   "source": [
    "cantonal_borders_asset = (\n",
    "    \"projects/thurgau-irrigation/assets/Zuerich/Zuerich_bound\"\n",
    ")\n",
    "\n",
    "aoi_feature_collection = ee.FeatureCollection(cantonal_borders_asset)\n",
    "aoi_geometry = aoi_feature_collection.geometry()\n",
    "aoi_geometry = aoi_geometry.simplify(500)\n",
    "aoi_buffered = aoi_geometry.buffer(100)"
   ]
  },
  {
   "cell_type": "markdown",
   "metadata": {},
   "source": [
    "### Step 2: Load the gap filled Landsat ET product at 30m resolution\n",
    "#### I mistakenly exported the asset with 10m resolution, but the pixels are still 30m. So, I need to adjust the metadata to reflect the correct resolution."
   ]
  },
  {
   "cell_type": "code",
   "execution_count": 6,
   "metadata": {},
   "outputs": [
    {
     "data": {
      "text/html": [
       "\n",
       "            <style>\n",
       "                .geemap-dark {\n",
       "                    --jp-widgets-color: white;\n",
       "                    --jp-widgets-label-color: white;\n",
       "                    --jp-ui-font-color1: white;\n",
       "                    --jp-layout-color2: #454545;\n",
       "                    background-color: #383838;\n",
       "                }\n",
       "\n",
       "                .geemap-dark .jupyter-button {\n",
       "                    --jp-layout-color3: #383838;\n",
       "                }\n",
       "\n",
       "                .geemap-colab {\n",
       "                    background-color: var(--colab-primary-surface-color, white);\n",
       "                }\n",
       "\n",
       "                .geemap-colab .jupyter-button {\n",
       "                    --jp-layout-color3: var(--colab-primary-surface-color, white);\n",
       "                }\n",
       "            </style>\n",
       "            "
      ],
      "text/plain": [
       "<IPython.core.display.HTML object>"
      ]
     },
     "metadata": {},
     "output_type": "display_data"
    }
   ],
   "source": [
    "def update_projection_scale(image):\n",
    "    \"\"\"Update the image projection to 30m scale while preserving values.\"\"\"\n",
    "    return image.setDefaultProjection(image.projection().atScale(30))\n",
    "\n",
    "# Update all images in the collection to have correct 30m scale\n",
    "landsat_ET_30m = (ee.ImageCollection(\n",
    "    \"projects/thurgau-irrigation/assets/Zuerich/Landsat_ET_gap_filled_monthly_30m_ZH_2018-2022\"\n",
    "    )\n",
    "    .map(lambda img: back_to_float(img, 100))  # First convert values back to float\n",
    "    .map(update_projection_scale)  # Then update the projection scale\n",
    ")\n"
   ]
  },
  {
   "cell_type": "markdown",
   "metadata": {},
   "source": [
    "### Step 3: Get the sentinel 2 data, and compute the vegetation indices"
   ]
  },
  {
   "cell_type": "code",
   "execution_count": 7,
   "metadata": {},
   "outputs": [
    {
     "data": {
      "text/html": [
       "\n",
       "            <style>\n",
       "                .geemap-dark {\n",
       "                    --jp-widgets-color: white;\n",
       "                    --jp-widgets-label-color: white;\n",
       "                    --jp-ui-font-color1: white;\n",
       "                    --jp-layout-color2: #454545;\n",
       "                    background-color: #383838;\n",
       "                }\n",
       "\n",
       "                .geemap-dark .jupyter-button {\n",
       "                    --jp-layout-color3: #383838;\n",
       "                }\n",
       "\n",
       "                .geemap-colab {\n",
       "                    background-color: var(--colab-primary-surface-color, white);\n",
       "                }\n",
       "\n",
       "                .geemap-colab .jupyter-button {\n",
       "                    --jp-layout-color3: var(--colab-primary-surface-color, white);\n",
       "                }\n",
       "            </style>\n",
       "            "
      ],
      "text/plain": [
       "<IPython.core.display.HTML object>"
      ]
     },
     "metadata": {},
     "output_type": "display_data"
    }
   ],
   "source": [
    "s2collection = load_sentinel2_data(year=YEAR, aoi=aoi_buffered)"
   ]
  },
  {
   "cell_type": "code",
   "execution_count": 8,
   "metadata": {},
   "outputs": [
    {
     "data": {
      "text/html": [
       "\n",
       "            <style>\n",
       "                .geemap-dark {\n",
       "                    --jp-widgets-color: white;\n",
       "                    --jp-widgets-label-color: white;\n",
       "                    --jp-ui-font-color1: white;\n",
       "                    --jp-layout-color2: #454545;\n",
       "                    background-color: #383838;\n",
       "                }\n",
       "\n",
       "                .geemap-dark .jupyter-button {\n",
       "                    --jp-layout-color3: #383838;\n",
       "                }\n",
       "\n",
       "                .geemap-colab {\n",
       "                    background-color: var(--colab-primary-surface-color, white);\n",
       "                }\n",
       "\n",
       "                .geemap-colab .jupyter-button {\n",
       "                    --jp-layout-color3: var(--colab-primary-surface-color, white);\n",
       "                }\n",
       "            </style>\n",
       "            "
      ],
      "text/plain": [
       "<IPython.core.display.HTML object>"
      ]
     },
     "metadata": {},
     "output_type": "display_data"
    }
   ],
   "source": [
    "landsat_ET_30m_list = landsat_ET_30m.toList(landsat_ET_30m.size())\n",
    "\n",
    "time_intervals = create_centered_date_ranges(landsat_ET_30m_list, buffer_days=BUFFER_DAYS)\n",
    "\n",
    "bands = [\"B3\", \"B4\", \"B8\", \"B11\", \"B12\"]\n",
    "\n",
    "options = {\"agg_type\": \"mosaic\", \"mosaic_type\": \"least_cloudy\", \"band_name\": \"NDVI\"}\n",
    "\n",
    "s2_harmonized = harmonized_ts(\n",
    "    masked_collection=s2collection,\n",
    "    band_list=bands,\n",
    "    time_intervals=time_intervals,\n",
    "    options=options,\n",
    ")\n"
   ]
  },
  {
   "cell_type": "code",
   "execution_count": 9,
   "metadata": {},
   "outputs": [
    {
     "data": {
      "text/html": [
       "\n",
       "            <style>\n",
       "                .geemap-dark {\n",
       "                    --jp-widgets-color: white;\n",
       "                    --jp-widgets-label-color: white;\n",
       "                    --jp-ui-font-color1: white;\n",
       "                    --jp-layout-color2: #454545;\n",
       "                    background-color: #383838;\n",
       "                }\n",
       "\n",
       "                .geemap-dark .jupyter-button {\n",
       "                    --jp-layout-color3: #383838;\n",
       "                }\n",
       "\n",
       "                .geemap-colab {\n",
       "                    background-color: var(--colab-primary-surface-color, white);\n",
       "                }\n",
       "\n",
       "                .geemap-colab .jupyter-button {\n",
       "                    --jp-layout-color3: var(--colab-primary-surface-color, white);\n",
       "                }\n",
       "            </style>\n",
       "            "
      ],
      "text/plain": [
       "<IPython.core.display.HTML object>"
      ]
     },
     "metadata": {},
     "output_type": "display_data"
    }
   ],
   "source": [
    "def compute_vegetation_indexes(image: ee.Image) -> ee.Image:\n",
    "    \"\"\"\n",
    "    Compute vegetation indexes for a given image\n",
    "\n",
    "    Args:\n",
    "        image (ee.Image): The image to compute the vegetation indexes for\n",
    "\n",
    "    Returns:\n",
    "        ee.Image: The input image with the vegetation indexes\n",
    "\n",
    "    \"\"\"\n",
    "    ndvi = image.normalizedDifference([\"B8\", \"B4\"]).rename(\"NDVI\")\n",
    "    ndwi = image.normalizedDifference([\"B3\", \"B8\"]).rename(\"NDWI\")\n",
    "    ndbi = image.normalizedDifference([\"B11\", \"B8\"]).rename(\"NDBI\")\n",
    "    return image.addBands(ndvi).addBands(ndwi).addBands(ndbi)\n",
    "\n",
    "s2_harmonized_w_vegetation_indexes = s2_harmonized.map(compute_vegetation_indexes)"
   ]
  },
  {
   "cell_type": "markdown",
   "metadata": {},
   "source": [
    "### Step 4: Fill gaps in the harmonized time series using harmonic regression"
   ]
  },
  {
   "cell_type": "code",
   "execution_count": 10,
   "metadata": {},
   "outputs": [
    {
     "data": {
      "text/html": [
       "\n",
       "            <style>\n",
       "                .geemap-dark {\n",
       "                    --jp-widgets-color: white;\n",
       "                    --jp-widgets-label-color: white;\n",
       "                    --jp-ui-font-color1: white;\n",
       "                    --jp-layout-color2: #454545;\n",
       "                    background-color: #383838;\n",
       "                }\n",
       "\n",
       "                .geemap-dark .jupyter-button {\n",
       "                    --jp-layout-color3: #383838;\n",
       "                }\n",
       "\n",
       "                .geemap-colab {\n",
       "                    background-color: var(--colab-primary-surface-color, white);\n",
       "                }\n",
       "\n",
       "                .geemap-colab .jupyter-button {\n",
       "                    --jp-layout-color3: var(--colab-primary-surface-color, white);\n",
       "                }\n",
       "            </style>\n",
       "            "
      ],
      "text/plain": [
       "<IPython.core.display.HTML object>"
      ]
     },
     "metadata": {},
     "output_type": "display_data"
    }
   ],
   "source": [
    "indexes = [\"NDVI\", \"NDWI\", \"NDBI\"]\n",
    "\n",
    "s2_harmonized_w_vegetation_indexes = s2_harmonized_w_vegetation_indexes.map(\n",
    "    add_time_data\n",
    ")\n",
    "\n",
    "s2_harmonized_gaps_filled = s2_harmonized_w_vegetation_indexes\n",
    "\n",
    "for index in indexes:\n",
    "    regressor = HarmonicRegressor(\n",
    "        omega=1.5, max_harmonic_order=2, vegetation_index=index\n",
    "    )\n",
    "\n",
    "    regressor.fit(s2_harmonized_w_vegetation_indexes)\n",
    "    fitted_collection = regressor.predict(s2_harmonized_w_vegetation_indexes)\n",
    "\n",
    "    fitted_collection = fitted_collection.map(\n",
    "        lambda img: img.select([\"fitted\"]).rename(f\"fitted_{index}\")\n",
    "    )\n",
    "\n",
    "    s2_harmonized_gaps_filled = s2_harmonized_gaps_filled.map(\n",
    "        lambda img: img.addBands(\n",
    "            fitted_collection.filterDate(img.date()).first().select([f\"fitted_{index}\"])\n",
    "        )\n",
    "    )"
   ]
  },
  {
   "cell_type": "markdown",
   "metadata": {},
   "source": [
    "### Step 5: Downscale the Landsat ET data to 10m resolution"
   ]
  },
  {
   "cell_type": "code",
   "execution_count": 11,
   "metadata": {},
   "outputs": [
    {
     "data": {
      "text/html": [
       "\n",
       "            <style>\n",
       "                .geemap-dark {\n",
       "                    --jp-widgets-color: white;\n",
       "                    --jp-widgets-label-color: white;\n",
       "                    --jp-ui-font-color1: white;\n",
       "                    --jp-layout-color2: #454545;\n",
       "                    background-color: #383838;\n",
       "                }\n",
       "\n",
       "                .geemap-dark .jupyter-button {\n",
       "                    --jp-layout-color3: #383838;\n",
       "                }\n",
       "\n",
       "                .geemap-colab {\n",
       "                    background-color: var(--colab-primary-surface-color, white);\n",
       "                }\n",
       "\n",
       "                .geemap-colab .jupyter-button {\n",
       "                    --jp-layout-color3: var(--colab-primary-surface-color, white);\n",
       "                }\n",
       "            </style>\n",
       "            "
      ],
      "text/plain": [
       "<IPython.core.display.HTML object>"
      ]
     },
     "metadata": {},
     "output_type": "display_data"
    }
   ],
   "source": [
    "from utils.downscale_anything_10m import Downscaler, resample_collection"
   ]
  },
  {
   "cell_type": "code",
   "execution_count": 12,
   "metadata": {},
   "outputs": [
    {
     "data": {
      "text/html": [
       "\n",
       "            <style>\n",
       "                .geemap-dark {\n",
       "                    --jp-widgets-color: white;\n",
       "                    --jp-widgets-label-color: white;\n",
       "                    --jp-ui-font-color1: white;\n",
       "                    --jp-layout-color2: #454545;\n",
       "                    background-color: #383838;\n",
       "                }\n",
       "\n",
       "                .geemap-dark .jupyter-button {\n",
       "                    --jp-layout-color3: #383838;\n",
       "                }\n",
       "\n",
       "                .geemap-colab {\n",
       "                    background-color: var(--colab-primary-surface-color, white);\n",
       "                }\n",
       "\n",
       "                .geemap-colab .jupyter-button {\n",
       "                    --jp-layout-color3: var(--colab-primary-surface-color, white);\n",
       "                }\n",
       "            </style>\n",
       "            "
      ],
      "text/plain": [
       "<IPython.core.display.HTML object>"
      ]
     },
     "metadata": {},
     "output_type": "display_data"
    }
   ],
   "source": [
    "def process_and_export_downscaled_ET(\n",
    "    downscaler: Downscaler,\n",
    "    s2_indices: ee.ImageCollection,\n",
    "    independent_vars: ee.ImageCollection,\n",
    "    dependent_vars: ee.ImageCollection,\n",
    "    aoi: ee.Geometry,\n",
    "    year: str,\n",
    "    scale_coarse: float,\n",
    "    scale_fine: float = 10,\n",
    "    time_steps: int = 36,\n",
    "    time_step_type: str = \"dekadal\",\n",
    ") -> List[ee.batch.Task]:\n",
    "    \"\"\"\n",
    "    Process and export downscaled WaPOR ET images to Earth Engine assets.\n",
    "\n",
    "    Args:\n",
    "        downscaler (Downscaler): The Downscaler object used to downscale the images.\n",
    "        s2_indices (ee.ImageCollection): The Sentinel-2 indices image collection.\n",
    "        independent_vars (ee.ImageCollection): The resampled independent variables image collection.\n",
    "        dependent_vars (ee.ImageCollection): The dependent variables image collection.\n",
    "        aoi (ee.Geometry): The area of interest geometry.\n",
    "        year (str): The year for which the images are processed.\n",
    "        scale_coarse (float): The scale of the images before downscaling.\n",
    "        scale_fine (float): The scale of the images after downscaling.\n",
    "        time_steps (int): Number of time steps in the year (36 for dekadal, 12 for monthly).\n",
    "        time_step_type (str): Type of time step (\"dekadal\" or \"monthly\").\n",
    "\n",
    "    Returns:\n",
    "        List[ee.batch.Task]: A list of export tasks for the downscaled images.\n",
    "    \"\"\"\n",
    "    s2_indices_list = s2_indices.toList(s2_indices.size())\n",
    "    independent_vars_list = independent_vars.toList(independent_vars.size())\n",
    "    dependent_vars_list = dependent_vars.toList(dependent_vars.size())\n",
    "\n",
    "    tasks = []\n",
    "    for i in range(time_steps):\n",
    "        if time_step_type == \"dekadal\":\n",
    "            j = i % 3 + 1\n",
    "            m = i // 3 + 1\n",
    "            date = ee.Date.fromYMD(int(year), m, j * 10 - 9)\n",
    "            time_step_name = f\"{m:02d}_D{j}\"\n",
    "        elif time_step_type == \"monthly\":\n",
    "            m = i + 1\n",
    "            date = ee.Date.fromYMD(int(year), m, 1)\n",
    "            time_step_name = f\"{m:02d}\"\n",
    "        else:\n",
    "            raise ValueError(\"time_step_type must be either 'dekadal' or 'monthly'\")\n",
    "\n",
    "        s2_index = ee.Image(s2_indices_list.get(i))\n",
    "        ind_vars = ee.Image(independent_vars_list.get(i))\n",
    "        dep_vars = ee.Image(dependent_vars_list.get(i))\n",
    "\n",
    "        # Perform downscaling\n",
    "        et_image_downscaled = downscaler.downscale(\n",
    "            coarse_independent_vars=ind_vars,\n",
    "            coarse_dependent_var=dep_vars,\n",
    "            fine_independent_vars=s2_index,\n",
    "            geometry=aoi,\n",
    "            resolution=scale_coarse,\n",
    "        )\n",
    "\n",
    "        # Post-process the downscaled image\n",
    "        et_image_downscaled = back_to_int(et_image_downscaled, 100)\n",
    "\n",
    "        task_name = f\"Downscaled_Landsat_ET_gap_filled_{time_step_type}_10m_ZH_{year}_{time_step_name}\"\n",
    "        asset_id = f\"projects/thurgau-irrigation/assets/Zuerich/Landsat_ET_gap_filled_{time_step_type}_10m_ZH_{year}/{task_name}\"\n",
    "\n",
    "        task = export_image_to_asset(\n",
    "            et_image_downscaled,\n",
    "            asset_id,\n",
    "            task_name,\n",
    "            year,\n",
    "            aoi,\n",
    "            crs=\"EPSG:32632\",\n",
    "            scale=scale_fine,\n",
    "        )\n",
    "        tasks.append(task)\n",
    "\n",
    "    return tasks"
   ]
  },
  {
   "cell_type": "code",
   "execution_count": 13,
   "metadata": {},
   "outputs": [
    {
     "data": {
      "text/html": [
       "\n",
       "            <style>\n",
       "                .geemap-dark {\n",
       "                    --jp-widgets-color: white;\n",
       "                    --jp-widgets-label-color: white;\n",
       "                    --jp-ui-font-color1: white;\n",
       "                    --jp-layout-color2: #454545;\n",
       "                    background-color: #383838;\n",
       "                }\n",
       "\n",
       "                .geemap-dark .jupyter-button {\n",
       "                    --jp-layout-color3: #383838;\n",
       "                }\n",
       "\n",
       "                .geemap-colab {\n",
       "                    background-color: var(--colab-primary-surface-color, white);\n",
       "                }\n",
       "\n",
       "                .geemap-colab .jupyter-button {\n",
       "                    --jp-layout-color3: var(--colab-primary-surface-color, white);\n",
       "                }\n",
       "            </style>\n",
       "            "
      ],
      "text/plain": [
       "<IPython.core.display.HTML object>"
      ]
     },
     "metadata": {},
     "output_type": "display_data"
    },
    {
     "name": "stdout",
     "output_type": "stream",
     "text": [
      "Exporting Downscaled_Landsat_ET_gap_filled_monthly_10m_ZH_2022_01 for 2022 to projects/thurgau-irrigation/assets/Zuerich/Landsat_ET_gap_filled_monthly_10m_ZH_2022/Downscaled_Landsat_ET_gap_filled_monthly_10m_ZH_2022_01\n",
      "Using projection EPSG:32632 at 10m resolution\n",
      "Exporting Downscaled_Landsat_ET_gap_filled_monthly_10m_ZH_2022_02 for 2022 to projects/thurgau-irrigation/assets/Zuerich/Landsat_ET_gap_filled_monthly_10m_ZH_2022/Downscaled_Landsat_ET_gap_filled_monthly_10m_ZH_2022_02\n",
      "Using projection EPSG:32632 at 10m resolution\n",
      "Exporting Downscaled_Landsat_ET_gap_filled_monthly_10m_ZH_2022_03 for 2022 to projects/thurgau-irrigation/assets/Zuerich/Landsat_ET_gap_filled_monthly_10m_ZH_2022/Downscaled_Landsat_ET_gap_filled_monthly_10m_ZH_2022_03\n",
      "Using projection EPSG:32632 at 10m resolution\n",
      "Exporting Downscaled_Landsat_ET_gap_filled_monthly_10m_ZH_2022_04 for 2022 to projects/thurgau-irrigation/assets/Zuerich/Landsat_ET_gap_filled_monthly_10m_ZH_2022/Downscaled_Landsat_ET_gap_filled_monthly_10m_ZH_2022_04\n",
      "Using projection EPSG:32632 at 10m resolution\n",
      "Exporting Downscaled_Landsat_ET_gap_filled_monthly_10m_ZH_2022_05 for 2022 to projects/thurgau-irrigation/assets/Zuerich/Landsat_ET_gap_filled_monthly_10m_ZH_2022/Downscaled_Landsat_ET_gap_filled_monthly_10m_ZH_2022_05\n",
      "Using projection EPSG:32632 at 10m resolution\n",
      "Exporting Downscaled_Landsat_ET_gap_filled_monthly_10m_ZH_2022_06 for 2022 to projects/thurgau-irrigation/assets/Zuerich/Landsat_ET_gap_filled_monthly_10m_ZH_2022/Downscaled_Landsat_ET_gap_filled_monthly_10m_ZH_2022_06\n",
      "Using projection EPSG:32632 at 10m resolution\n",
      "Exporting Downscaled_Landsat_ET_gap_filled_monthly_10m_ZH_2022_07 for 2022 to projects/thurgau-irrigation/assets/Zuerich/Landsat_ET_gap_filled_monthly_10m_ZH_2022/Downscaled_Landsat_ET_gap_filled_monthly_10m_ZH_2022_07\n",
      "Using projection EPSG:32632 at 10m resolution\n",
      "Exporting Downscaled_Landsat_ET_gap_filled_monthly_10m_ZH_2022_08 for 2022 to projects/thurgau-irrigation/assets/Zuerich/Landsat_ET_gap_filled_monthly_10m_ZH_2022/Downscaled_Landsat_ET_gap_filled_monthly_10m_ZH_2022_08\n",
      "Using projection EPSG:32632 at 10m resolution\n",
      "Exporting Downscaled_Landsat_ET_gap_filled_monthly_10m_ZH_2022_09 for 2022 to projects/thurgau-irrigation/assets/Zuerich/Landsat_ET_gap_filled_monthly_10m_ZH_2022/Downscaled_Landsat_ET_gap_filled_monthly_10m_ZH_2022_09\n",
      "Using projection EPSG:32632 at 10m resolution\n",
      "Exporting Downscaled_Landsat_ET_gap_filled_monthly_10m_ZH_2022_10 for 2022 to projects/thurgau-irrigation/assets/Zuerich/Landsat_ET_gap_filled_monthly_10m_ZH_2022/Downscaled_Landsat_ET_gap_filled_monthly_10m_ZH_2022_10\n",
      "Using projection EPSG:32632 at 10m resolution\n",
      "Exporting Downscaled_Landsat_ET_gap_filled_monthly_10m_ZH_2022_11 for 2022 to projects/thurgau-irrigation/assets/Zuerich/Landsat_ET_gap_filled_monthly_10m_ZH_2022/Downscaled_Landsat_ET_gap_filled_monthly_10m_ZH_2022_11\n",
      "Using projection EPSG:32632 at 10m resolution\n",
      "Exporting Downscaled_Landsat_ET_gap_filled_monthly_10m_ZH_2022_12 for 2022 to projects/thurgau-irrigation/assets/Zuerich/Landsat_ET_gap_filled_monthly_10m_ZH_2022/Downscaled_Landsat_ET_gap_filled_monthly_10m_ZH_2022_12\n",
      "Using projection EPSG:32632 at 10m resolution\n",
      "Started 12 export tasks.\n"
     ]
    }
   ],
   "source": [
    "independent_bands = [\"fitted_NDVI\", \"fitted_NDBI\", \"fitted_NDWI\"]\n",
    "dependent_band = [\"fitted_ET\"]\n",
    "\n",
    "s2_indices = s2_harmonized_gaps_filled.select(independent_bands)\n",
    "independent_vars = resample_collection(s2_indices, landsat_ET_30m)\n",
    "dependent_vars = landsat_ET_30m.select(dependent_band)\n",
    "\n",
    "scale = landsat_ET_30m.first().projection().nominalScale().getInfo()\n",
    "\n",
    "\n",
    "# Initialize the Downscaler\n",
    "downscaler = Downscaler(\n",
    "    independent_vars=independent_bands, dependent_var=dependent_band[0]\n",
    ")\n",
    "\n",
    "tasks = process_and_export_downscaled_ET(\n",
    "    downscaler,\n",
    "    s2_indices,\n",
    "    independent_vars,\n",
    "    dependent_vars,\n",
    "    aoi_buffered,\n",
    "    YEAR,\n",
    "    scale_coarse=scale,\n",
    "    scale_fine=10,\n",
    "    time_steps=TIME_STEPS,\n",
    "    time_step_type=TIME_STEP_TYPE,\n",
    ")\n",
    "\n",
    "# You can add additional code here to monitor the tasks if needed\n",
    "print(f\"Started {len(tasks)} export tasks.\")"
   ]
  },
  {
   "cell_type": "markdown",
   "metadata": {},
   "source": [
    "### Sanity check"
   ]
  },
  {
   "cell_type": "code",
   "execution_count": 14,
   "metadata": {},
   "outputs": [
    {
     "data": {
      "text/html": [
       "\n",
       "            <style>\n",
       "                .geemap-dark {\n",
       "                    --jp-widgets-color: white;\n",
       "                    --jp-widgets-label-color: white;\n",
       "                    --jp-ui-font-color1: white;\n",
       "                    --jp-layout-color2: #454545;\n",
       "                    background-color: #383838;\n",
       "                }\n",
       "\n",
       "                .geemap-dark .jupyter-button {\n",
       "                    --jp-layout-color3: #383838;\n",
       "                }\n",
       "\n",
       "                .geemap-colab {\n",
       "                    background-color: var(--colab-primary-surface-color, white);\n",
       "                }\n",
       "\n",
       "                .geemap-colab .jupyter-button {\n",
       "                    --jp-layout-color3: var(--colab-primary-surface-color, white);\n",
       "                }\n",
       "            </style>\n",
       "            "
      ],
      "text/plain": [
       "<IPython.core.display.HTML object>"
      ]
     },
     "metadata": {},
     "output_type": "display_data"
    }
   ],
   "source": [
    "# downscaled_landsat = ee.ImageCollection(\n",
    "#     \"projects/thurgau-irrigation/assets/Zuerich/Landsat_ET_gap_filled_monthly_10m_ZH_2022\"\n",
    "# ).map(lambda img: back_to_float(img, 100))"
   ]
  },
  {
   "cell_type": "code",
   "execution_count": 15,
   "metadata": {},
   "outputs": [
    {
     "data": {
      "text/html": [
       "\n",
       "            <style>\n",
       "                .geemap-dark {\n",
       "                    --jp-widgets-color: white;\n",
       "                    --jp-widgets-label-color: white;\n",
       "                    --jp-ui-font-color1: white;\n",
       "                    --jp-layout-color2: #454545;\n",
       "                    background-color: #383838;\n",
       "                }\n",
       "\n",
       "                .geemap-dark .jupyter-button {\n",
       "                    --jp-layout-color3: #383838;\n",
       "                }\n",
       "\n",
       "                .geemap-colab {\n",
       "                    background-color: var(--colab-primary-surface-color, white);\n",
       "                }\n",
       "\n",
       "                .geemap-colab .jupyter-button {\n",
       "                    --jp-layout-color3: var(--colab-primary-surface-color, white);\n",
       "                }\n",
       "            </style>\n",
       "            "
      ],
      "text/plain": [
       "<IPython.core.display.HTML object>"
      ]
     },
     "metadata": {},
     "output_type": "display_data"
    }
   ],
   "source": [
    "# Map = geemap.Map()\n",
    "\n",
    "# image_downscaled = ee.Image(downscaled_landsat.toList(downscaled_landsat.size()).get(5))\n",
    "# image_corrected = ee.Image(landsat_ET_30m.toList(landsat_ET_30m.size()).get(5))\n",
    "\n",
    "# vis_params = {\n",
    "#     \"bands\": [\"downscaled\"],\n",
    "#     \"min\": 0,\n",
    "#     \"max\": 200,\n",
    "#     \"palette\": [\"#000000\", \"#0000FF\", \"#00FF00\", \"#FFFF00\", \"#FF0000\"],\n",
    "# }\n",
    "\n",
    "# vis_params2 = {\n",
    "#     \"bands\": [\"fitted_ET\"],\n",
    "#     \"min\": 0,\n",
    "#     \"max\": 200,\n",
    "#     \"palette\": [\"#000000\", \"#0000FF\", \"#00FF00\", \"#FFFF00\", \"#FF0000\"],\n",
    "# }\n",
    "\n",
    "# Map.addLayer(image_downscaled, vis_params, \"Downscaled ET\")\n",
    "# Map.addLayer(image_corrected, vis_params2, \"Corrected ET\")\n",
    "\n",
    "# Map.centerObject(aoi_buffered, 10)\n",
    "# Map"
   ]
  },
  {
   "cell_type": "code",
   "execution_count": null,
   "metadata": {},
   "outputs": [],
   "source": []
  }
 ],
 "metadata": {
  "kernelspec": {
   "display_name": "geemap_env",
   "language": "python",
   "name": "python3"
  },
  "language_info": {
   "codemirror_mode": {
    "name": "ipython",
    "version": 3
   },
   "file_extension": ".py",
   "mimetype": "text/x-python",
   "name": "python",
   "nbconvert_exporter": "python",
   "pygments_lexer": "ipython3",
   "version": "3.11.10"
  }
 },
 "nbformat": 4,
 "nbformat_minor": 2
}
