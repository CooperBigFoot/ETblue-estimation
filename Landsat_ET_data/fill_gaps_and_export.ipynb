{
 "cells": [
  {
   "cell_type": "code",
   "execution_count": 1,
   "metadata": {},
   "outputs": [],
   "source": [
    "import sys\n",
    "import os\n",
    "\n",
    "sys.path.append(os.path.abspath(os.path.join(\"..\")))"
   ]
  },
  {
   "cell_type": "code",
   "execution_count": 2,
   "metadata": {},
   "outputs": [],
   "source": [
    "sys.setrecursionlimit(5000)"
   ]
  },
  {
   "cell_type": "code",
   "execution_count": 3,
   "metadata": {},
   "outputs": [],
   "source": [
    "from utils import ee_utils, date_utils\n",
    "from utils.ee_utils import back_to_float, back_to_int, export_image_to_asset\n",
    "from utils.harmonic_regressor import HarmonicRegressor\n",
    "from utils.ee_utils import back_to_int, export_image_to_asset\n",
    "\n",
    "from vegetation_period_NDVI.data_loading import add_time_data\n",
    "\n",
    "from typing import List, Tuple\n",
    "\n",
    "import ee\n",
    "import geemap"
   ]
  },
  {
   "cell_type": "code",
   "execution_count": 4,
   "metadata": {},
   "outputs": [
    {
     "data": {
      "text/html": [
       "\n",
       "            <style>\n",
       "                .geemap-dark {\n",
       "                    --jp-widgets-color: white;\n",
       "                    --jp-widgets-label-color: white;\n",
       "                    --jp-ui-font-color1: white;\n",
       "                    --jp-layout-color2: #454545;\n",
       "                    background-color: #383838;\n",
       "                }\n",
       "\n",
       "                .geemap-dark .jupyter-button {\n",
       "                    --jp-layout-color3: #383838;\n",
       "                }\n",
       "\n",
       "                .geemap-colab {\n",
       "                    background-color: var(--colab-primary-surface-color, white);\n",
       "                }\n",
       "\n",
       "                .geemap-colab .jupyter-button {\n",
       "                    --jp-layout-color3: var(--colab-primary-surface-color, white);\n",
       "                }\n",
       "            </style>\n",
       "            "
      ],
      "text/plain": [
       "<IPython.core.display.HTML object>"
      ]
     },
     "metadata": {},
     "output_type": "display_data"
    }
   ],
   "source": [
    "ee.Initialize(project=\"thurgau-irrigation\")"
   ]
  },
  {
   "cell_type": "markdown",
   "metadata": {},
   "source": [
    "## Fill gaps in Landsat ET product using Harmonic Regression\n",
    "### The units are mm/month NOT scaled. The gap filled collection will be scaled"
   ]
  },
  {
   "cell_type": "code",
   "execution_count": 5,
   "metadata": {},
   "outputs": [
    {
     "data": {
      "text/html": [
       "\n",
       "            <style>\n",
       "                .geemap-dark {\n",
       "                    --jp-widgets-color: white;\n",
       "                    --jp-widgets-label-color: white;\n",
       "                    --jp-ui-font-color1: white;\n",
       "                    --jp-layout-color2: #454545;\n",
       "                    background-color: #383838;\n",
       "                }\n",
       "\n",
       "                .geemap-dark .jupyter-button {\n",
       "                    --jp-layout-color3: #383838;\n",
       "                }\n",
       "\n",
       "                .geemap-colab {\n",
       "                    background-color: var(--colab-primary-surface-color, white);\n",
       "                }\n",
       "\n",
       "                .geemap-colab .jupyter-button {\n",
       "                    --jp-layout-color3: var(--colab-primary-surface-color, white);\n",
       "                }\n",
       "            </style>\n",
       "            "
      ],
      "text/plain": [
       "<IPython.core.display.HTML object>"
      ]
     },
     "metadata": {},
     "output_type": "display_data"
    }
   ],
   "source": [
    "start_date = ee.Date(\"2018-01-01\")\n",
    "end_date = ee.Date(\"2023-01-01\")\n",
    "\n",
    "landsat_data = ee.ImageCollection(\"projects/thurgau-irrigation/assets/ETlandsatmonthly\")\n",
    "\n",
    "landsat_data = landsat_data.filterDate(start_date, end_date)\n",
    "\n",
    "PROJECTION = landsat_data.first().projection()\n",
    "SCALE = PROJECTION.nominalScale()\n",
    "\n",
    "# Prepare the bands for the harmonic regression\n",
    "landsat_data = landsat_data.map(add_time_data)\n",
    "\n",
    "landsat_data_list = landsat_data.toList(landsat_data.size())"
   ]
  },
  {
   "cell_type": "code",
   "execution_count": 6,
   "metadata": {},
   "outputs": [
    {
     "data": {
      "text/html": [
       "\n",
       "            <style>\n",
       "                .geemap-dark {\n",
       "                    --jp-widgets-color: white;\n",
       "                    --jp-widgets-label-color: white;\n",
       "                    --jp-ui-font-color1: white;\n",
       "                    --jp-layout-color2: #454545;\n",
       "                    background-color: #383838;\n",
       "                }\n",
       "\n",
       "                .geemap-dark .jupyter-button {\n",
       "                    --jp-layout-color3: #383838;\n",
       "                }\n",
       "\n",
       "                .geemap-colab {\n",
       "                    background-color: var(--colab-primary-surface-color, white);\n",
       "                }\n",
       "\n",
       "                .geemap-colab .jupyter-button {\n",
       "                    --jp-layout-color3: var(--colab-primary-surface-color, white);\n",
       "                }\n",
       "            </style>\n",
       "            "
      ],
      "text/plain": [
       "<IPython.core.display.HTML object>"
      ]
     },
     "metadata": {},
     "output_type": "display_data"
    }
   ],
   "source": [
    "regressor = HarmonicRegressor(vegetation_index=\"ET\")\n",
    "\n",
    "regressor.fit(landsat_data)\n",
    "landsat_data_gap_filled = regressor.predict(landsat_data)\n",
    "\n",
    "landsat_data_gap_filled = landsat_data_gap_filled.map(\n",
    "    lambda img: back_to_int(\n",
    "        img.select([\"fitted\"])\n",
    "        .rename(f\"fitted_ET\")\n",
    "        .setDefaultProjection(crs=PROJECTION, scale=SCALE),\n",
    "        100,\n",
    "    )\n",
    ")\n",
    "\n",
    "landsat_data_gap_filled_list = landsat_data_gap_filled.toList(\n",
    "    landsat_data_gap_filled.size()\n",
    ")"
   ]
  },
  {
   "cell_type": "code",
   "execution_count": 7,
   "metadata": {},
   "outputs": [
    {
     "data": {
      "text/html": [
       "\n",
       "            <style>\n",
       "                .geemap-dark {\n",
       "                    --jp-widgets-color: white;\n",
       "                    --jp-widgets-label-color: white;\n",
       "                    --jp-ui-font-color1: white;\n",
       "                    --jp-layout-color2: #454545;\n",
       "                    background-color: #383838;\n",
       "                }\n",
       "\n",
       "                .geemap-dark .jupyter-button {\n",
       "                    --jp-layout-color3: #383838;\n",
       "                }\n",
       "\n",
       "                .geemap-colab {\n",
       "                    background-color: var(--colab-primary-surface-color, white);\n",
       "                }\n",
       "\n",
       "                .geemap-colab .jupyter-button {\n",
       "                    --jp-layout-color3: var(--colab-primary-surface-color, white);\n",
       "                }\n",
       "            </style>\n",
       "            "
      ],
      "text/plain": [
       "<IPython.core.display.HTML object>"
      ]
     },
     "metadata": {},
     "output_type": "display_data"
    },
    {
     "data": {
      "application/vnd.jupyter.widget-view+json": {
       "model_id": "b2f002f4361747e8b31eb5089a0cc23d",
       "version_major": 2,
       "version_minor": 0
      },
      "text/plain": [
       "Map(center=[46.81709734969232, 8.224625723540559], controls=(WidgetControl(options=['position', 'transparent_b…"
      ]
     },
     "metadata": {},
     "output_type": "display_data"
    }
   ],
   "source": [
    "Map = geemap.Map()\n",
    "\n",
    "image_first = ee.Image(landsat_data_list.get(7))\n",
    "image_after = ee.Image(landsat_data_gap_filled_list.get(7))\n",
    "\n",
    "vis_params = {\n",
    "    \"bands\": [\"ET\"],\n",
    "    \"min\": 0,\n",
    "    \"max\": 200,\n",
    "    \"palette\": [\"blue\", \"yellow\", \"orange\", \"red\"],\n",
    "}\n",
    "\n",
    "vis_params_fitted = {\n",
    "    \"bands\": [\"fitted_ET\"],\n",
    "    \"min\": 0,\n",
    "    \"max\": 20000,\n",
    "    \"palette\": [\"blue\", \"yellow\", \"orange\", \"red\"],\n",
    "}\n",
    "\n",
    "Map.center_object(image_first, 10)\n",
    "Map.addLayer(image_first, vis_params, \"ET\")\n",
    "Map.addLayer(image_after, vis_params_fitted, \"ET fitted\")\n",
    "\n",
    "Map\n"
   ]
  },
  {
   "cell_type": "markdown",
   "metadata": {},
   "source": [
    "## Export the gap filled Landsat ET collection. \n",
    "### The collection has now been scaled by 100!"
   ]
  },
  {
   "cell_type": "code",
   "execution_count": 8,
   "metadata": {},
   "outputs": [
    {
     "data": {
      "text/html": [
       "\n",
       "            <style>\n",
       "                .geemap-dark {\n",
       "                    --jp-widgets-color: white;\n",
       "                    --jp-widgets-label-color: white;\n",
       "                    --jp-ui-font-color1: white;\n",
       "                    --jp-layout-color2: #454545;\n",
       "                    background-color: #383838;\n",
       "                }\n",
       "\n",
       "                .geemap-dark .jupyter-button {\n",
       "                    --jp-layout-color3: #383838;\n",
       "                }\n",
       "\n",
       "                .geemap-colab {\n",
       "                    background-color: var(--colab-primary-surface-color, white);\n",
       "                }\n",
       "\n",
       "                .geemap-colab .jupyter-button {\n",
       "                    --jp-layout-color3: var(--colab-primary-surface-color, white);\n",
       "                }\n",
       "            </style>\n",
       "            "
      ],
      "text/plain": [
       "<IPython.core.display.HTML object>"
      ]
     },
     "metadata": {},
     "output_type": "display_data"
    },
    {
     "name": "stdout",
     "output_type": "stream",
     "text": [
      "Exporting Landsat_ET_gap_filled_2018-01 for 2018 to projects/thurgau-irrigation/assets/Thurgau/projects/thurgau-irrigation/assets/Thurgau/Landsat_ET_gap_filled_2018-2022/Landsat_ET_gap_filled_2018-01\n",
      "Exporting Landsat_ET_gap_filled_2018-02 for 2018 to projects/thurgau-irrigation/assets/Thurgau/projects/thurgau-irrigation/assets/Thurgau/Landsat_ET_gap_filled_2018-2022/Landsat_ET_gap_filled_2018-02\n",
      "Exporting Landsat_ET_gap_filled_2018-03 for 2018 to projects/thurgau-irrigation/assets/Thurgau/projects/thurgau-irrigation/assets/Thurgau/Landsat_ET_gap_filled_2018-2022/Landsat_ET_gap_filled_2018-03\n",
      "Exporting Landsat_ET_gap_filled_2018-04 for 2018 to projects/thurgau-irrigation/assets/Thurgau/projects/thurgau-irrigation/assets/Thurgau/Landsat_ET_gap_filled_2018-2022/Landsat_ET_gap_filled_2018-04\n",
      "Exporting Landsat_ET_gap_filled_2018-05 for 2018 to projects/thurgau-irrigation/assets/Thurgau/projects/thurgau-irrigation/assets/Thurgau/Landsat_ET_gap_filled_2018-2022/Landsat_ET_gap_filled_2018-05\n",
      "Exporting Landsat_ET_gap_filled_2018-06 for 2018 to projects/thurgau-irrigation/assets/Thurgau/projects/thurgau-irrigation/assets/Thurgau/Landsat_ET_gap_filled_2018-2022/Landsat_ET_gap_filled_2018-06\n",
      "Exporting Landsat_ET_gap_filled_2018-07 for 2018 to projects/thurgau-irrigation/assets/Thurgau/projects/thurgau-irrigation/assets/Thurgau/Landsat_ET_gap_filled_2018-2022/Landsat_ET_gap_filled_2018-07\n",
      "Exporting Landsat_ET_gap_filled_2018-08 for 2018 to projects/thurgau-irrigation/assets/Thurgau/projects/thurgau-irrigation/assets/Thurgau/Landsat_ET_gap_filled_2018-2022/Landsat_ET_gap_filled_2018-08\n",
      "Exporting Landsat_ET_gap_filled_2018-09 for 2018 to projects/thurgau-irrigation/assets/Thurgau/projects/thurgau-irrigation/assets/Thurgau/Landsat_ET_gap_filled_2018-2022/Landsat_ET_gap_filled_2018-09\n",
      "Exporting Landsat_ET_gap_filled_2018-10 for 2018 to projects/thurgau-irrigation/assets/Thurgau/projects/thurgau-irrigation/assets/Thurgau/Landsat_ET_gap_filled_2018-2022/Landsat_ET_gap_filled_2018-10\n",
      "Exporting Landsat_ET_gap_filled_2018-11 for 2018 to projects/thurgau-irrigation/assets/Thurgau/projects/thurgau-irrigation/assets/Thurgau/Landsat_ET_gap_filled_2018-2022/Landsat_ET_gap_filled_2018-11\n",
      "Exporting Landsat_ET_gap_filled_2018-12 for 2018 to projects/thurgau-irrigation/assets/Thurgau/projects/thurgau-irrigation/assets/Thurgau/Landsat_ET_gap_filled_2018-2022/Landsat_ET_gap_filled_2018-12\n",
      "Exporting Landsat_ET_gap_filled_2019-01 for 2019 to projects/thurgau-irrigation/assets/Thurgau/projects/thurgau-irrigation/assets/Thurgau/Landsat_ET_gap_filled_2018-2022/Landsat_ET_gap_filled_2019-01\n",
      "Exporting Landsat_ET_gap_filled_2019-02 for 2019 to projects/thurgau-irrigation/assets/Thurgau/projects/thurgau-irrigation/assets/Thurgau/Landsat_ET_gap_filled_2018-2022/Landsat_ET_gap_filled_2019-02\n",
      "Exporting Landsat_ET_gap_filled_2019-03 for 2019 to projects/thurgau-irrigation/assets/Thurgau/projects/thurgau-irrigation/assets/Thurgau/Landsat_ET_gap_filled_2018-2022/Landsat_ET_gap_filled_2019-03\n",
      "Exporting Landsat_ET_gap_filled_2019-04 for 2019 to projects/thurgau-irrigation/assets/Thurgau/projects/thurgau-irrigation/assets/Thurgau/Landsat_ET_gap_filled_2018-2022/Landsat_ET_gap_filled_2019-04\n",
      "Exporting Landsat_ET_gap_filled_2019-05 for 2019 to projects/thurgau-irrigation/assets/Thurgau/projects/thurgau-irrigation/assets/Thurgau/Landsat_ET_gap_filled_2018-2022/Landsat_ET_gap_filled_2019-05\n",
      "Exporting Landsat_ET_gap_filled_2019-06 for 2019 to projects/thurgau-irrigation/assets/Thurgau/projects/thurgau-irrigation/assets/Thurgau/Landsat_ET_gap_filled_2018-2022/Landsat_ET_gap_filled_2019-06\n",
      "Exporting Landsat_ET_gap_filled_2019-07 for 2019 to projects/thurgau-irrigation/assets/Thurgau/projects/thurgau-irrigation/assets/Thurgau/Landsat_ET_gap_filled_2018-2022/Landsat_ET_gap_filled_2019-07\n",
      "Exporting Landsat_ET_gap_filled_2019-08 for 2019 to projects/thurgau-irrigation/assets/Thurgau/projects/thurgau-irrigation/assets/Thurgau/Landsat_ET_gap_filled_2018-2022/Landsat_ET_gap_filled_2019-08\n",
      "Exporting Landsat_ET_gap_filled_2019-09 for 2019 to projects/thurgau-irrigation/assets/Thurgau/projects/thurgau-irrigation/assets/Thurgau/Landsat_ET_gap_filled_2018-2022/Landsat_ET_gap_filled_2019-09\n",
      "Exporting Landsat_ET_gap_filled_2019-10 for 2019 to projects/thurgau-irrigation/assets/Thurgau/projects/thurgau-irrigation/assets/Thurgau/Landsat_ET_gap_filled_2018-2022/Landsat_ET_gap_filled_2019-10\n",
      "Exporting Landsat_ET_gap_filled_2019-11 for 2019 to projects/thurgau-irrigation/assets/Thurgau/projects/thurgau-irrigation/assets/Thurgau/Landsat_ET_gap_filled_2018-2022/Landsat_ET_gap_filled_2019-11\n",
      "Exporting Landsat_ET_gap_filled_2019-12 for 2019 to projects/thurgau-irrigation/assets/Thurgau/projects/thurgau-irrigation/assets/Thurgau/Landsat_ET_gap_filled_2018-2022/Landsat_ET_gap_filled_2019-12\n",
      "Exporting Landsat_ET_gap_filled_2020-01 for 2020 to projects/thurgau-irrigation/assets/Thurgau/projects/thurgau-irrigation/assets/Thurgau/Landsat_ET_gap_filled_2018-2022/Landsat_ET_gap_filled_2020-01\n",
      "Exporting Landsat_ET_gap_filled_2020-02 for 2020 to projects/thurgau-irrigation/assets/Thurgau/projects/thurgau-irrigation/assets/Thurgau/Landsat_ET_gap_filled_2018-2022/Landsat_ET_gap_filled_2020-02\n",
      "Exporting Landsat_ET_gap_filled_2020-03 for 2020 to projects/thurgau-irrigation/assets/Thurgau/projects/thurgau-irrigation/assets/Thurgau/Landsat_ET_gap_filled_2018-2022/Landsat_ET_gap_filled_2020-03\n",
      "Exporting Landsat_ET_gap_filled_2020-04 for 2020 to projects/thurgau-irrigation/assets/Thurgau/projects/thurgau-irrigation/assets/Thurgau/Landsat_ET_gap_filled_2018-2022/Landsat_ET_gap_filled_2020-04\n",
      "Exporting Landsat_ET_gap_filled_2020-05 for 2020 to projects/thurgau-irrigation/assets/Thurgau/projects/thurgau-irrigation/assets/Thurgau/Landsat_ET_gap_filled_2018-2022/Landsat_ET_gap_filled_2020-05\n",
      "Exporting Landsat_ET_gap_filled_2020-06 for 2020 to projects/thurgau-irrigation/assets/Thurgau/projects/thurgau-irrigation/assets/Thurgau/Landsat_ET_gap_filled_2018-2022/Landsat_ET_gap_filled_2020-06\n",
      "Exporting Landsat_ET_gap_filled_2020-07 for 2020 to projects/thurgau-irrigation/assets/Thurgau/projects/thurgau-irrigation/assets/Thurgau/Landsat_ET_gap_filled_2018-2022/Landsat_ET_gap_filled_2020-07\n",
      "Exporting Landsat_ET_gap_filled_2020-08 for 2020 to projects/thurgau-irrigation/assets/Thurgau/projects/thurgau-irrigation/assets/Thurgau/Landsat_ET_gap_filled_2018-2022/Landsat_ET_gap_filled_2020-08\n",
      "Exporting Landsat_ET_gap_filled_2020-09 for 2020 to projects/thurgau-irrigation/assets/Thurgau/projects/thurgau-irrigation/assets/Thurgau/Landsat_ET_gap_filled_2018-2022/Landsat_ET_gap_filled_2020-09\n",
      "Exporting Landsat_ET_gap_filled_2020-10 for 2020 to projects/thurgau-irrigation/assets/Thurgau/projects/thurgau-irrigation/assets/Thurgau/Landsat_ET_gap_filled_2018-2022/Landsat_ET_gap_filled_2020-10\n",
      "Exporting Landsat_ET_gap_filled_2020-11 for 2020 to projects/thurgau-irrigation/assets/Thurgau/projects/thurgau-irrigation/assets/Thurgau/Landsat_ET_gap_filled_2018-2022/Landsat_ET_gap_filled_2020-11\n",
      "Exporting Landsat_ET_gap_filled_2020-12 for 2020 to projects/thurgau-irrigation/assets/Thurgau/projects/thurgau-irrigation/assets/Thurgau/Landsat_ET_gap_filled_2018-2022/Landsat_ET_gap_filled_2020-12\n",
      "Exporting Landsat_ET_gap_filled_2021-01 for 2021 to projects/thurgau-irrigation/assets/Thurgau/projects/thurgau-irrigation/assets/Thurgau/Landsat_ET_gap_filled_2018-2022/Landsat_ET_gap_filled_2021-01\n",
      "Exporting Landsat_ET_gap_filled_2021-02 for 2021 to projects/thurgau-irrigation/assets/Thurgau/projects/thurgau-irrigation/assets/Thurgau/Landsat_ET_gap_filled_2018-2022/Landsat_ET_gap_filled_2021-02\n",
      "Exporting Landsat_ET_gap_filled_2021-03 for 2021 to projects/thurgau-irrigation/assets/Thurgau/projects/thurgau-irrigation/assets/Thurgau/Landsat_ET_gap_filled_2018-2022/Landsat_ET_gap_filled_2021-03\n",
      "Exporting Landsat_ET_gap_filled_2021-04 for 2021 to projects/thurgau-irrigation/assets/Thurgau/projects/thurgau-irrigation/assets/Thurgau/Landsat_ET_gap_filled_2018-2022/Landsat_ET_gap_filled_2021-04\n",
      "Exporting Landsat_ET_gap_filled_2021-05 for 2021 to projects/thurgau-irrigation/assets/Thurgau/projects/thurgau-irrigation/assets/Thurgau/Landsat_ET_gap_filled_2018-2022/Landsat_ET_gap_filled_2021-05\n",
      "Exporting Landsat_ET_gap_filled_2021-06 for 2021 to projects/thurgau-irrigation/assets/Thurgau/projects/thurgau-irrigation/assets/Thurgau/Landsat_ET_gap_filled_2018-2022/Landsat_ET_gap_filled_2021-06\n",
      "Exporting Landsat_ET_gap_filled_2021-07 for 2021 to projects/thurgau-irrigation/assets/Thurgau/projects/thurgau-irrigation/assets/Thurgau/Landsat_ET_gap_filled_2018-2022/Landsat_ET_gap_filled_2021-07\n",
      "Exporting Landsat_ET_gap_filled_2021-08 for 2021 to projects/thurgau-irrigation/assets/Thurgau/projects/thurgau-irrigation/assets/Thurgau/Landsat_ET_gap_filled_2018-2022/Landsat_ET_gap_filled_2021-08\n",
      "Exporting Landsat_ET_gap_filled_2021-09 for 2021 to projects/thurgau-irrigation/assets/Thurgau/projects/thurgau-irrigation/assets/Thurgau/Landsat_ET_gap_filled_2018-2022/Landsat_ET_gap_filled_2021-09\n",
      "Exporting Landsat_ET_gap_filled_2021-10 for 2021 to projects/thurgau-irrigation/assets/Thurgau/projects/thurgau-irrigation/assets/Thurgau/Landsat_ET_gap_filled_2018-2022/Landsat_ET_gap_filled_2021-10\n",
      "Exporting Landsat_ET_gap_filled_2021-11 for 2021 to projects/thurgau-irrigation/assets/Thurgau/projects/thurgau-irrigation/assets/Thurgau/Landsat_ET_gap_filled_2018-2022/Landsat_ET_gap_filled_2021-11\n",
      "Exporting Landsat_ET_gap_filled_2021-12 for 2021 to projects/thurgau-irrigation/assets/Thurgau/projects/thurgau-irrigation/assets/Thurgau/Landsat_ET_gap_filled_2018-2022/Landsat_ET_gap_filled_2021-12\n",
      "Exporting Landsat_ET_gap_filled_2022-01 for 2022 to projects/thurgau-irrigation/assets/Thurgau/projects/thurgau-irrigation/assets/Thurgau/Landsat_ET_gap_filled_2018-2022/Landsat_ET_gap_filled_2022-01\n",
      "Exporting Landsat_ET_gap_filled_2022-02 for 2022 to projects/thurgau-irrigation/assets/Thurgau/projects/thurgau-irrigation/assets/Thurgau/Landsat_ET_gap_filled_2018-2022/Landsat_ET_gap_filled_2022-02\n",
      "Exporting Landsat_ET_gap_filled_2022-03 for 2022 to projects/thurgau-irrigation/assets/Thurgau/projects/thurgau-irrigation/assets/Thurgau/Landsat_ET_gap_filled_2018-2022/Landsat_ET_gap_filled_2022-03\n",
      "Exporting Landsat_ET_gap_filled_2022-04 for 2022 to projects/thurgau-irrigation/assets/Thurgau/projects/thurgau-irrigation/assets/Thurgau/Landsat_ET_gap_filled_2018-2022/Landsat_ET_gap_filled_2022-04\n",
      "Exporting Landsat_ET_gap_filled_2022-05 for 2022 to projects/thurgau-irrigation/assets/Thurgau/projects/thurgau-irrigation/assets/Thurgau/Landsat_ET_gap_filled_2018-2022/Landsat_ET_gap_filled_2022-05\n",
      "Exporting Landsat_ET_gap_filled_2022-06 for 2022 to projects/thurgau-irrigation/assets/Thurgau/projects/thurgau-irrigation/assets/Thurgau/Landsat_ET_gap_filled_2018-2022/Landsat_ET_gap_filled_2022-06\n",
      "Exporting Landsat_ET_gap_filled_2022-07 for 2022 to projects/thurgau-irrigation/assets/Thurgau/projects/thurgau-irrigation/assets/Thurgau/Landsat_ET_gap_filled_2018-2022/Landsat_ET_gap_filled_2022-07\n",
      "Exporting Landsat_ET_gap_filled_2022-08 for 2022 to projects/thurgau-irrigation/assets/Thurgau/projects/thurgau-irrigation/assets/Thurgau/Landsat_ET_gap_filled_2018-2022/Landsat_ET_gap_filled_2022-08\n",
      "Exporting Landsat_ET_gap_filled_2022-09 for 2022 to projects/thurgau-irrigation/assets/Thurgau/projects/thurgau-irrigation/assets/Thurgau/Landsat_ET_gap_filled_2018-2022/Landsat_ET_gap_filled_2022-09\n",
      "Exporting Landsat_ET_gap_filled_2022-10 for 2022 to projects/thurgau-irrigation/assets/Thurgau/projects/thurgau-irrigation/assets/Thurgau/Landsat_ET_gap_filled_2018-2022/Landsat_ET_gap_filled_2022-10\n",
      "Exporting Landsat_ET_gap_filled_2022-11 for 2022 to projects/thurgau-irrigation/assets/Thurgau/projects/thurgau-irrigation/assets/Thurgau/Landsat_ET_gap_filled_2018-2022/Landsat_ET_gap_filled_2022-11\n",
      "Exporting Landsat_ET_gap_filled_2022-12 for 2022 to projects/thurgau-irrigation/assets/Thurgau/projects/thurgau-irrigation/assets/Thurgau/Landsat_ET_gap_filled_2018-2022/Landsat_ET_gap_filled_2022-12\n"
     ]
    }
   ],
   "source": [
    "def export_landsat_ET(\n",
    "    landsat_et_collection: ee.ImageCollection,\n",
    "    year: str,\n",
    "    scale: float,\n",
    ") -> List[ee.batch.Task]:\n",
    "    \"\"\"\n",
    "    Export the Landsat ET data for a given year.\n",
    "\n",
    "    Args:\n",
    "        landsat_et_collection (ee.ImageCollection): The Landsat ET data collection.\n",
    "        year (str): The year for which the data should be exported.\n",
    "        scale (float): The scale of the exported images.\n",
    "\n",
    "\n",
    "    Returns:\n",
    "        List[ee.batch.Task]: A list of export tasks for the downscaled images.\n",
    "    \"\"\"\n",
    "    landsat_et_collection_list = landsat_et_collection.toList(\n",
    "        landsat_et_collection.size()\n",
    "    )\n",
    "\n",
    "    tasks = []\n",
    "    for i in range(12):\n",
    "        m = i + 1\n",
    "        date = ee.Date.fromYMD(int(year), m, 1)\n",
    "        time_step_name = f\"{m:02d}\"\n",
    "\n",
    "        landsat_image = ee.Image(landsat_et_collection_list.get(i))\n",
    "\n",
    "        # Change the date to the first day of the month\n",
    "        landsat_image = landsat_image.set(\"system:time_start\", date.millis())\n",
    "\n",
    "        # Take the image's geometry as the AOI\n",
    "        aoi = landsat_image.geometry()\n",
    "\n",
    "        task_name = f\"Landsat_ET_gap_filled_{year}-{time_step_name}\"\n",
    "        asset_id = f\"projects/thurgau-irrigation/assets/Thurgau/projects/thurgau-irrigation/assets/Thurgau/Landsat_ET_gap_filled_2018-2022/{task_name}\"\n",
    "\n",
    "        task = export_image_to_asset(landsat_image, asset_id, task_name, year, aoi)\n",
    "        tasks.append(task)\n",
    "\n",
    "    return tasks\n",
    "\n",
    "\n",
    "years = range(2018, 2023)\n",
    "\n",
    "for year in years:\n",
    "\n",
    "    landsat_data_gap_filled_year = landsat_data_gap_filled.filterDate(\n",
    "        ee.Date(f\"{year}-01-01\"), ee.Date(f\"{year}-12-31\")\n",
    "    )\n",
    "\n",
    "    tasks = export_landsat_ET(landsat_data_gap_filled_year, year, 30)"
   ]
  }
 ],
 "metadata": {
  "kernelspec": {
   "display_name": "base",
   "language": "python",
   "name": "python3"
  },
  "language_info": {
   "codemirror_mode": {
    "name": "ipython",
    "version": 3
   },
   "file_extension": ".py",
   "mimetype": "text/x-python",
   "name": "python",
   "nbconvert_exporter": "python",
   "pygments_lexer": "ipython3",
   "version": "3.11.8"
  }
 },
 "nbformat": 4,
 "nbformat_minor": 2
}
