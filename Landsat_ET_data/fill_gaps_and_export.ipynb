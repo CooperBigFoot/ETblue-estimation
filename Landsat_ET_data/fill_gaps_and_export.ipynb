{
 "cells": [
  {
   "cell_type": "code",
   "execution_count": 1,
   "metadata": {},
   "outputs": [],
   "source": [
    "import sys\n",
    "import os\n",
    "\n",
    "sys.path.append(os.path.abspath(os.path.join(\"..\")))"
   ]
  },
  {
   "cell_type": "code",
   "execution_count": 2,
   "metadata": {},
   "outputs": [],
   "source": [
    "sys.setrecursionlimit(5000)"
   ]
  },
  {
   "cell_type": "code",
   "execution_count": 3,
   "metadata": {},
   "outputs": [],
   "source": [
    "from utils import ee_utils, date_utils\n",
    "from utils.ee_utils import back_to_float, back_to_int, export_image_to_asset\n",
    "from utils.harmonic_regressor import HarmonicRegressor\n",
    "\n",
    "from vegetation_period_NDVI.data_loading import add_time_data\n",
    "\n",
    "from typing import List, Tuple\n",
    "\n",
    "import ee\n",
    "import geemap"
   ]
  },
  {
   "cell_type": "code",
   "execution_count": 4,
   "metadata": {},
   "outputs": [
    {
     "data": {
      "text/html": [
       "\n",
       "            <style>\n",
       "                .geemap-dark {\n",
       "                    --jp-widgets-color: white;\n",
       "                    --jp-widgets-label-color: white;\n",
       "                    --jp-ui-font-color1: white;\n",
       "                    --jp-layout-color2: #454545;\n",
       "                    background-color: #383838;\n",
       "                }\n",
       "\n",
       "                .geemap-dark .jupyter-button {\n",
       "                    --jp-layout-color3: #383838;\n",
       "                }\n",
       "\n",
       "                .geemap-colab {\n",
       "                    background-color: var(--colab-primary-surface-color, white);\n",
       "                }\n",
       "\n",
       "                .geemap-colab .jupyter-button {\n",
       "                    --jp-layout-color3: var(--colab-primary-surface-color, white);\n",
       "                }\n",
       "            </style>\n",
       "            "
      ],
      "text/plain": [
       "<IPython.core.display.HTML object>"
      ]
     },
     "metadata": {},
     "output_type": "display_data"
    }
   ],
   "source": [
    "ee.Initialize(project=\"thurgau-irrigation\")"
   ]
  },
  {
   "cell_type": "markdown",
   "metadata": {},
   "source": [
    "## Fill gaps in Landsat ET product using Harmonic Regression\n",
    "### The units are mm/month NOT scaled. The gap filled collection will be scaled"
   ]
  },
  {
   "cell_type": "code",
   "execution_count": 5,
   "metadata": {},
   "outputs": [
    {
     "data": {
      "text/html": [
       "\n",
       "            <style>\n",
       "                .geemap-dark {\n",
       "                    --jp-widgets-color: white;\n",
       "                    --jp-widgets-label-color: white;\n",
       "                    --jp-ui-font-color1: white;\n",
       "                    --jp-layout-color2: #454545;\n",
       "                    background-color: #383838;\n",
       "                }\n",
       "\n",
       "                .geemap-dark .jupyter-button {\n",
       "                    --jp-layout-color3: #383838;\n",
       "                }\n",
       "\n",
       "                .geemap-colab {\n",
       "                    background-color: var(--colab-primary-surface-color, white);\n",
       "                }\n",
       "\n",
       "                .geemap-colab .jupyter-button {\n",
       "                    --jp-layout-color3: var(--colab-primary-surface-color, white);\n",
       "                }\n",
       "            </style>\n",
       "            "
      ],
      "text/plain": [
       "<IPython.core.display.HTML object>"
      ]
     },
     "metadata": {},
     "output_type": "display_data"
    }
   ],
   "source": [
    "# cantonal_borders_asset = (\n",
    "#     \"projects/thurgau-irrigation/assets/Thurgau/thrugau_borders_2024\"\n",
    "# )\n",
    "\n",
    "# aoi_feature_collection = ee.FeatureCollection(cantonal_borders_asset)\n",
    "# aoi_geometry = aoi_feature_collection.geometry()\n",
    "# aoi_geometry = aoi_geometry.simplify(500)\n",
    "# aoi_buffered = aoi_geometry.buffer(100)\n",
    "\n",
    "cantonal_borders_asset = (\n",
    "    \"projects/thurgau-irrigation/assets/Zuerich/Zuerich_bound\"\n",
    ")\n",
    "\n",
    "aoi_feature_collection = ee.FeatureCollection(cantonal_borders_asset)\n",
    "aoi_geometry = aoi_feature_collection.geometry()\n",
    "aoi_geometry = aoi_geometry.simplify(500)\n",
    "aoi_buffered = aoi_geometry.buffer(100)"
   ]
  },
  {
   "cell_type": "code",
   "execution_count": 6,
   "metadata": {},
   "outputs": [
    {
     "data": {
      "text/html": [
       "\n",
       "            <style>\n",
       "                .geemap-dark {\n",
       "                    --jp-widgets-color: white;\n",
       "                    --jp-widgets-label-color: white;\n",
       "                    --jp-ui-font-color1: white;\n",
       "                    --jp-layout-color2: #454545;\n",
       "                    background-color: #383838;\n",
       "                }\n",
       "\n",
       "                .geemap-dark .jupyter-button {\n",
       "                    --jp-layout-color3: #383838;\n",
       "                }\n",
       "\n",
       "                .geemap-colab {\n",
       "                    background-color: var(--colab-primary-surface-color, white);\n",
       "                }\n",
       "\n",
       "                .geemap-colab .jupyter-button {\n",
       "                    --jp-layout-color3: var(--colab-primary-surface-color, white);\n",
       "                }\n",
       "            </style>\n",
       "            "
      ],
      "text/plain": [
       "<IPython.core.display.HTML object>"
      ]
     },
     "metadata": {},
     "output_type": "display_data"
    }
   ],
   "source": [
    "start_date = ee.Date(\"2018-01-01\")\n",
    "end_date = ee.Date(\"2023-01-01\")\n",
    "\n",
    "landsat_data = ee.ImageCollection(\"projects/thurgau-irrigation/assets/ETlandsatmonthly\")\n",
    "\n",
    "landsat_data = landsat_data.filterDate(start_date, end_date).filterBounds(aoi_buffered)\n",
    "\n",
    "PROJECTION = landsat_data.first().projection()\n",
    "SCALE = PROJECTION.nominalScale()\n",
    "\n",
    "# Prepare the bands for the harmonic regression\n",
    "landsat_data = landsat_data.map(add_time_data)\n",
    "\n",
    "landsat_data_list = landsat_data.toList(landsat_data.size())"
   ]
  },
  {
   "cell_type": "code",
   "execution_count": 7,
   "metadata": {},
   "outputs": [
    {
     "data": {
      "text/html": [
       "\n",
       "            <style>\n",
       "                .geemap-dark {\n",
       "                    --jp-widgets-color: white;\n",
       "                    --jp-widgets-label-color: white;\n",
       "                    --jp-ui-font-color1: white;\n",
       "                    --jp-layout-color2: #454545;\n",
       "                    background-color: #383838;\n",
       "                }\n",
       "\n",
       "                .geemap-dark .jupyter-button {\n",
       "                    --jp-layout-color3: #383838;\n",
       "                }\n",
       "\n",
       "                .geemap-colab {\n",
       "                    background-color: var(--colab-primary-surface-color, white);\n",
       "                }\n",
       "\n",
       "                .geemap-colab .jupyter-button {\n",
       "                    --jp-layout-color3: var(--colab-primary-surface-color, white);\n",
       "                }\n",
       "            </style>\n",
       "            "
      ],
      "text/plain": [
       "<IPython.core.display.HTML object>"
      ]
     },
     "metadata": {},
     "output_type": "display_data"
    }
   ],
   "source": [
    "regressor = HarmonicRegressor(vegetation_index=\"ET\", omega=1, max_harmonic_order=1)\n",
    "\n",
    "regressor.fit(landsat_data)\n",
    "landsat_data_gap_filled = regressor.predict(landsat_data)\n",
    "\n",
    "landsat_data_gap_filled = landsat_data_gap_filled.map(\n",
    "    lambda img: back_to_int(\n",
    "        img.select([\"fitted\"])\n",
    "        .rename(f\"fitted_ET\")\n",
    "        .setDefaultProjection(crs=PROJECTION, scale=SCALE),\n",
    "        100,\n",
    "    )\n",
    ")\n",
    "\n",
    "landsat_data_gap_filled_list = landsat_data_gap_filled.toList(\n",
    "    landsat_data_gap_filled.size()\n",
    ")\n",
    "\n",
    "# # Print the projection of the first image before and after the gap filling\n",
    "# print(landsat_data.first().select(\"ET\").projection().getInfo())\n",
    "# print(landsat_data_gap_filled.first().projection().getInfo())"
   ]
  },
  {
   "cell_type": "code",
   "execution_count": 8,
   "metadata": {},
   "outputs": [
    {
     "data": {
      "text/html": [
       "\n",
       "            <style>\n",
       "                .geemap-dark {\n",
       "                    --jp-widgets-color: white;\n",
       "                    --jp-widgets-label-color: white;\n",
       "                    --jp-ui-font-color1: white;\n",
       "                    --jp-layout-color2: #454545;\n",
       "                    background-color: #383838;\n",
       "                }\n",
       "\n",
       "                .geemap-dark .jupyter-button {\n",
       "                    --jp-layout-color3: #383838;\n",
       "                }\n",
       "\n",
       "                .geemap-colab {\n",
       "                    background-color: var(--colab-primary-surface-color, white);\n",
       "                }\n",
       "\n",
       "                .geemap-colab .jupyter-button {\n",
       "                    --jp-layout-color3: var(--colab-primary-surface-color, white);\n",
       "                }\n",
       "            </style>\n",
       "            "
      ],
      "text/plain": [
       "<IPython.core.display.HTML object>"
      ]
     },
     "metadata": {},
     "output_type": "display_data"
    }
   ],
   "source": [
    "# Map = geemap.Map()\n",
    "\n",
    "# image_first = ee.Image(landsat_data_list.get(18))\n",
    "# image_after = ee.Image(landsat_data_gap_filled_list.get(18)).divide(100)\n",
    "\n",
    "# vis_params = {\n",
    "#     \"bands\": [\"ET\"],\n",
    "#     \"min\": 0,\n",
    "#     \"max\": 100,\n",
    "#     \"palette\": [\"blue\", \"yellow\", \"orange\", \"red\"],\n",
    "# }\n",
    "\n",
    "# vis_params_fitted = {\n",
    "#     \"bands\": [\"fitted_ET\"],\n",
    "#     \"min\": 0,\n",
    "#     \"max\": 100,\n",
    "#     \"palette\": [\"blue\", \"yellow\", \"orange\", \"red\"],\n",
    "# }\n",
    "\n",
    "# Map.center_object(image_first, 10)\n",
    "# Map.addLayer(image_first, vis_params, \"ET\")\n",
    "# Map.addLayer(image_after, vis_params_fitted, \"ET fitted\")\n",
    "\n",
    "# Map\n"
   ]
  },
  {
   "cell_type": "markdown",
   "metadata": {},
   "source": [
    "## Export the gap filled Landsat ET collection. \n",
    "### The collection has now been scaled by 100!"
   ]
  },
  {
   "cell_type": "code",
   "execution_count": 9,
   "metadata": {},
   "outputs": [
    {
     "data": {
      "text/html": [
       "\n",
       "            <style>\n",
       "                .geemap-dark {\n",
       "                    --jp-widgets-color: white;\n",
       "                    --jp-widgets-label-color: white;\n",
       "                    --jp-ui-font-color1: white;\n",
       "                    --jp-layout-color2: #454545;\n",
       "                    background-color: #383838;\n",
       "                }\n",
       "\n",
       "                .geemap-dark .jupyter-button {\n",
       "                    --jp-layout-color3: #383838;\n",
       "                }\n",
       "\n",
       "                .geemap-colab {\n",
       "                    background-color: var(--colab-primary-surface-color, white);\n",
       "                }\n",
       "\n",
       "                .geemap-colab .jupyter-button {\n",
       "                    --jp-layout-color3: var(--colab-primary-surface-color, white);\n",
       "                }\n",
       "            </style>\n",
       "            "
      ],
      "text/plain": [
       "<IPython.core.display.HTML object>"
      ]
     },
     "metadata": {},
     "output_type": "display_data"
    },
    {
     "name": "stdout",
     "output_type": "stream",
     "text": [
      "Exporting Landsat_ET_gap_filled_30m_ZH_2018-01 for 2018 to projects/thurgau-irrigation/assets/Zuerich/Landsat_ET_gap_filled_monthly_30m_ZH_2018-2022/Landsat_ET_gap_filled_30m_ZH_2018-01\n",
      "Using projection EPSG:4326 at 10m resolution\n",
      "Exporting Landsat_ET_gap_filled_30m_ZH_2018-02 for 2018 to projects/thurgau-irrigation/assets/Zuerich/Landsat_ET_gap_filled_monthly_30m_ZH_2018-2022/Landsat_ET_gap_filled_30m_ZH_2018-02\n",
      "Using projection EPSG:4326 at 10m resolution\n",
      "Exporting Landsat_ET_gap_filled_30m_ZH_2018-03 for 2018 to projects/thurgau-irrigation/assets/Zuerich/Landsat_ET_gap_filled_monthly_30m_ZH_2018-2022/Landsat_ET_gap_filled_30m_ZH_2018-03\n",
      "Using projection EPSG:4326 at 10m resolution\n",
      "Exporting Landsat_ET_gap_filled_30m_ZH_2018-04 for 2018 to projects/thurgau-irrigation/assets/Zuerich/Landsat_ET_gap_filled_monthly_30m_ZH_2018-2022/Landsat_ET_gap_filled_30m_ZH_2018-04\n",
      "Using projection EPSG:4326 at 10m resolution\n",
      "Exporting Landsat_ET_gap_filled_30m_ZH_2018-05 for 2018 to projects/thurgau-irrigation/assets/Zuerich/Landsat_ET_gap_filled_monthly_30m_ZH_2018-2022/Landsat_ET_gap_filled_30m_ZH_2018-05\n",
      "Using projection EPSG:4326 at 10m resolution\n",
      "Exporting Landsat_ET_gap_filled_30m_ZH_2018-06 for 2018 to projects/thurgau-irrigation/assets/Zuerich/Landsat_ET_gap_filled_monthly_30m_ZH_2018-2022/Landsat_ET_gap_filled_30m_ZH_2018-06\n",
      "Using projection EPSG:4326 at 10m resolution\n",
      "Exporting Landsat_ET_gap_filled_30m_ZH_2018-07 for 2018 to projects/thurgau-irrigation/assets/Zuerich/Landsat_ET_gap_filled_monthly_30m_ZH_2018-2022/Landsat_ET_gap_filled_30m_ZH_2018-07\n",
      "Using projection EPSG:4326 at 10m resolution\n",
      "Exporting Landsat_ET_gap_filled_30m_ZH_2018-08 for 2018 to projects/thurgau-irrigation/assets/Zuerich/Landsat_ET_gap_filled_monthly_30m_ZH_2018-2022/Landsat_ET_gap_filled_30m_ZH_2018-08\n",
      "Using projection EPSG:4326 at 10m resolution\n",
      "Exporting Landsat_ET_gap_filled_30m_ZH_2018-09 for 2018 to projects/thurgau-irrigation/assets/Zuerich/Landsat_ET_gap_filled_monthly_30m_ZH_2018-2022/Landsat_ET_gap_filled_30m_ZH_2018-09\n",
      "Using projection EPSG:4326 at 10m resolution\n",
      "Exporting Landsat_ET_gap_filled_30m_ZH_2018-10 for 2018 to projects/thurgau-irrigation/assets/Zuerich/Landsat_ET_gap_filled_monthly_30m_ZH_2018-2022/Landsat_ET_gap_filled_30m_ZH_2018-10\n",
      "Using projection EPSG:4326 at 10m resolution\n",
      "Exporting Landsat_ET_gap_filled_30m_ZH_2018-11 for 2018 to projects/thurgau-irrigation/assets/Zuerich/Landsat_ET_gap_filled_monthly_30m_ZH_2018-2022/Landsat_ET_gap_filled_30m_ZH_2018-11\n",
      "Using projection EPSG:4326 at 10m resolution\n",
      "Exporting Landsat_ET_gap_filled_30m_ZH_2018-12 for 2018 to projects/thurgau-irrigation/assets/Zuerich/Landsat_ET_gap_filled_monthly_30m_ZH_2018-2022/Landsat_ET_gap_filled_30m_ZH_2018-12\n",
      "Using projection EPSG:4326 at 10m resolution\n",
      "Exporting Landsat_ET_gap_filled_30m_ZH_2019-01 for 2019 to projects/thurgau-irrigation/assets/Zuerich/Landsat_ET_gap_filled_monthly_30m_ZH_2018-2022/Landsat_ET_gap_filled_30m_ZH_2019-01\n",
      "Using projection EPSG:4326 at 10m resolution\n",
      "Exporting Landsat_ET_gap_filled_30m_ZH_2019-02 for 2019 to projects/thurgau-irrigation/assets/Zuerich/Landsat_ET_gap_filled_monthly_30m_ZH_2018-2022/Landsat_ET_gap_filled_30m_ZH_2019-02\n",
      "Using projection EPSG:4326 at 10m resolution\n",
      "Exporting Landsat_ET_gap_filled_30m_ZH_2019-03 for 2019 to projects/thurgau-irrigation/assets/Zuerich/Landsat_ET_gap_filled_monthly_30m_ZH_2018-2022/Landsat_ET_gap_filled_30m_ZH_2019-03\n",
      "Using projection EPSG:4326 at 10m resolution\n",
      "Exporting Landsat_ET_gap_filled_30m_ZH_2019-04 for 2019 to projects/thurgau-irrigation/assets/Zuerich/Landsat_ET_gap_filled_monthly_30m_ZH_2018-2022/Landsat_ET_gap_filled_30m_ZH_2019-04\n",
      "Using projection EPSG:4326 at 10m resolution\n",
      "Exporting Landsat_ET_gap_filled_30m_ZH_2019-05 for 2019 to projects/thurgau-irrigation/assets/Zuerich/Landsat_ET_gap_filled_monthly_30m_ZH_2018-2022/Landsat_ET_gap_filled_30m_ZH_2019-05\n",
      "Using projection EPSG:4326 at 10m resolution\n",
      "Exporting Landsat_ET_gap_filled_30m_ZH_2019-06 for 2019 to projects/thurgau-irrigation/assets/Zuerich/Landsat_ET_gap_filled_monthly_30m_ZH_2018-2022/Landsat_ET_gap_filled_30m_ZH_2019-06\n",
      "Using projection EPSG:4326 at 10m resolution\n",
      "Exporting Landsat_ET_gap_filled_30m_ZH_2019-07 for 2019 to projects/thurgau-irrigation/assets/Zuerich/Landsat_ET_gap_filled_monthly_30m_ZH_2018-2022/Landsat_ET_gap_filled_30m_ZH_2019-07\n",
      "Using projection EPSG:4326 at 10m resolution\n",
      "Exporting Landsat_ET_gap_filled_30m_ZH_2019-08 for 2019 to projects/thurgau-irrigation/assets/Zuerich/Landsat_ET_gap_filled_monthly_30m_ZH_2018-2022/Landsat_ET_gap_filled_30m_ZH_2019-08\n",
      "Using projection EPSG:4326 at 10m resolution\n",
      "Exporting Landsat_ET_gap_filled_30m_ZH_2019-09 for 2019 to projects/thurgau-irrigation/assets/Zuerich/Landsat_ET_gap_filled_monthly_30m_ZH_2018-2022/Landsat_ET_gap_filled_30m_ZH_2019-09\n",
      "Using projection EPSG:4326 at 10m resolution\n",
      "Exporting Landsat_ET_gap_filled_30m_ZH_2019-10 for 2019 to projects/thurgau-irrigation/assets/Zuerich/Landsat_ET_gap_filled_monthly_30m_ZH_2018-2022/Landsat_ET_gap_filled_30m_ZH_2019-10\n",
      "Using projection EPSG:4326 at 10m resolution\n",
      "Exporting Landsat_ET_gap_filled_30m_ZH_2019-11 for 2019 to projects/thurgau-irrigation/assets/Zuerich/Landsat_ET_gap_filled_monthly_30m_ZH_2018-2022/Landsat_ET_gap_filled_30m_ZH_2019-11\n",
      "Using projection EPSG:4326 at 10m resolution\n",
      "Exporting Landsat_ET_gap_filled_30m_ZH_2019-12 for 2019 to projects/thurgau-irrigation/assets/Zuerich/Landsat_ET_gap_filled_monthly_30m_ZH_2018-2022/Landsat_ET_gap_filled_30m_ZH_2019-12\n",
      "Using projection EPSG:4326 at 10m resolution\n",
      "Exporting Landsat_ET_gap_filled_30m_ZH_2020-01 for 2020 to projects/thurgau-irrigation/assets/Zuerich/Landsat_ET_gap_filled_monthly_30m_ZH_2018-2022/Landsat_ET_gap_filled_30m_ZH_2020-01\n",
      "Using projection EPSG:4326 at 10m resolution\n",
      "Exporting Landsat_ET_gap_filled_30m_ZH_2020-02 for 2020 to projects/thurgau-irrigation/assets/Zuerich/Landsat_ET_gap_filled_monthly_30m_ZH_2018-2022/Landsat_ET_gap_filled_30m_ZH_2020-02\n",
      "Using projection EPSG:4326 at 10m resolution\n",
      "Exporting Landsat_ET_gap_filled_30m_ZH_2020-03 for 2020 to projects/thurgau-irrigation/assets/Zuerich/Landsat_ET_gap_filled_monthly_30m_ZH_2018-2022/Landsat_ET_gap_filled_30m_ZH_2020-03\n",
      "Using projection EPSG:4326 at 10m resolution\n",
      "Exporting Landsat_ET_gap_filled_30m_ZH_2020-04 for 2020 to projects/thurgau-irrigation/assets/Zuerich/Landsat_ET_gap_filled_monthly_30m_ZH_2018-2022/Landsat_ET_gap_filled_30m_ZH_2020-04\n",
      "Using projection EPSG:4326 at 10m resolution\n",
      "Exporting Landsat_ET_gap_filled_30m_ZH_2020-05 for 2020 to projects/thurgau-irrigation/assets/Zuerich/Landsat_ET_gap_filled_monthly_30m_ZH_2018-2022/Landsat_ET_gap_filled_30m_ZH_2020-05\n",
      "Using projection EPSG:4326 at 10m resolution\n",
      "Exporting Landsat_ET_gap_filled_30m_ZH_2020-06 for 2020 to projects/thurgau-irrigation/assets/Zuerich/Landsat_ET_gap_filled_monthly_30m_ZH_2018-2022/Landsat_ET_gap_filled_30m_ZH_2020-06\n",
      "Using projection EPSG:4326 at 10m resolution\n",
      "Exporting Landsat_ET_gap_filled_30m_ZH_2020-07 for 2020 to projects/thurgau-irrigation/assets/Zuerich/Landsat_ET_gap_filled_monthly_30m_ZH_2018-2022/Landsat_ET_gap_filled_30m_ZH_2020-07\n",
      "Using projection EPSG:4326 at 10m resolution\n",
      "Exporting Landsat_ET_gap_filled_30m_ZH_2020-08 for 2020 to projects/thurgau-irrigation/assets/Zuerich/Landsat_ET_gap_filled_monthly_30m_ZH_2018-2022/Landsat_ET_gap_filled_30m_ZH_2020-08\n",
      "Using projection EPSG:4326 at 10m resolution\n",
      "Exporting Landsat_ET_gap_filled_30m_ZH_2020-09 for 2020 to projects/thurgau-irrigation/assets/Zuerich/Landsat_ET_gap_filled_monthly_30m_ZH_2018-2022/Landsat_ET_gap_filled_30m_ZH_2020-09\n",
      "Using projection EPSG:4326 at 10m resolution\n",
      "Exporting Landsat_ET_gap_filled_30m_ZH_2020-10 for 2020 to projects/thurgau-irrigation/assets/Zuerich/Landsat_ET_gap_filled_monthly_30m_ZH_2018-2022/Landsat_ET_gap_filled_30m_ZH_2020-10\n",
      "Using projection EPSG:4326 at 10m resolution\n",
      "Exporting Landsat_ET_gap_filled_30m_ZH_2020-11 for 2020 to projects/thurgau-irrigation/assets/Zuerich/Landsat_ET_gap_filled_monthly_30m_ZH_2018-2022/Landsat_ET_gap_filled_30m_ZH_2020-11\n",
      "Using projection EPSG:4326 at 10m resolution\n",
      "Exporting Landsat_ET_gap_filled_30m_ZH_2020-12 for 2020 to projects/thurgau-irrigation/assets/Zuerich/Landsat_ET_gap_filled_monthly_30m_ZH_2018-2022/Landsat_ET_gap_filled_30m_ZH_2020-12\n",
      "Using projection EPSG:4326 at 10m resolution\n",
      "Exporting Landsat_ET_gap_filled_30m_ZH_2021-01 for 2021 to projects/thurgau-irrigation/assets/Zuerich/Landsat_ET_gap_filled_monthly_30m_ZH_2018-2022/Landsat_ET_gap_filled_30m_ZH_2021-01\n",
      "Using projection EPSG:4326 at 10m resolution\n",
      "Exporting Landsat_ET_gap_filled_30m_ZH_2021-02 for 2021 to projects/thurgau-irrigation/assets/Zuerich/Landsat_ET_gap_filled_monthly_30m_ZH_2018-2022/Landsat_ET_gap_filled_30m_ZH_2021-02\n",
      "Using projection EPSG:4326 at 10m resolution\n",
      "Exporting Landsat_ET_gap_filled_30m_ZH_2021-03 for 2021 to projects/thurgau-irrigation/assets/Zuerich/Landsat_ET_gap_filled_monthly_30m_ZH_2018-2022/Landsat_ET_gap_filled_30m_ZH_2021-03\n",
      "Using projection EPSG:4326 at 10m resolution\n",
      "Exporting Landsat_ET_gap_filled_30m_ZH_2021-04 for 2021 to projects/thurgau-irrigation/assets/Zuerich/Landsat_ET_gap_filled_monthly_30m_ZH_2018-2022/Landsat_ET_gap_filled_30m_ZH_2021-04\n",
      "Using projection EPSG:4326 at 10m resolution\n",
      "Exporting Landsat_ET_gap_filled_30m_ZH_2021-05 for 2021 to projects/thurgau-irrigation/assets/Zuerich/Landsat_ET_gap_filled_monthly_30m_ZH_2018-2022/Landsat_ET_gap_filled_30m_ZH_2021-05\n",
      "Using projection EPSG:4326 at 10m resolution\n",
      "Exporting Landsat_ET_gap_filled_30m_ZH_2021-06 for 2021 to projects/thurgau-irrigation/assets/Zuerich/Landsat_ET_gap_filled_monthly_30m_ZH_2018-2022/Landsat_ET_gap_filled_30m_ZH_2021-06\n",
      "Using projection EPSG:4326 at 10m resolution\n",
      "Exporting Landsat_ET_gap_filled_30m_ZH_2021-07 for 2021 to projects/thurgau-irrigation/assets/Zuerich/Landsat_ET_gap_filled_monthly_30m_ZH_2018-2022/Landsat_ET_gap_filled_30m_ZH_2021-07\n",
      "Using projection EPSG:4326 at 10m resolution\n",
      "Exporting Landsat_ET_gap_filled_30m_ZH_2021-08 for 2021 to projects/thurgau-irrigation/assets/Zuerich/Landsat_ET_gap_filled_monthly_30m_ZH_2018-2022/Landsat_ET_gap_filled_30m_ZH_2021-08\n",
      "Using projection EPSG:4326 at 10m resolution\n",
      "Exporting Landsat_ET_gap_filled_30m_ZH_2021-09 for 2021 to projects/thurgau-irrigation/assets/Zuerich/Landsat_ET_gap_filled_monthly_30m_ZH_2018-2022/Landsat_ET_gap_filled_30m_ZH_2021-09\n",
      "Using projection EPSG:4326 at 10m resolution\n",
      "Exporting Landsat_ET_gap_filled_30m_ZH_2021-10 for 2021 to projects/thurgau-irrigation/assets/Zuerich/Landsat_ET_gap_filled_monthly_30m_ZH_2018-2022/Landsat_ET_gap_filled_30m_ZH_2021-10\n",
      "Using projection EPSG:4326 at 10m resolution\n",
      "Exporting Landsat_ET_gap_filled_30m_ZH_2021-11 for 2021 to projects/thurgau-irrigation/assets/Zuerich/Landsat_ET_gap_filled_monthly_30m_ZH_2018-2022/Landsat_ET_gap_filled_30m_ZH_2021-11\n",
      "Using projection EPSG:4326 at 10m resolution\n",
      "Exporting Landsat_ET_gap_filled_30m_ZH_2021-12 for 2021 to projects/thurgau-irrigation/assets/Zuerich/Landsat_ET_gap_filled_monthly_30m_ZH_2018-2022/Landsat_ET_gap_filled_30m_ZH_2021-12\n",
      "Using projection EPSG:4326 at 10m resolution\n",
      "Exporting Landsat_ET_gap_filled_30m_ZH_2022-01 for 2022 to projects/thurgau-irrigation/assets/Zuerich/Landsat_ET_gap_filled_monthly_30m_ZH_2018-2022/Landsat_ET_gap_filled_30m_ZH_2022-01\n",
      "Using projection EPSG:4326 at 10m resolution\n",
      "Exporting Landsat_ET_gap_filled_30m_ZH_2022-02 for 2022 to projects/thurgau-irrigation/assets/Zuerich/Landsat_ET_gap_filled_monthly_30m_ZH_2018-2022/Landsat_ET_gap_filled_30m_ZH_2022-02\n",
      "Using projection EPSG:4326 at 10m resolution\n",
      "Exporting Landsat_ET_gap_filled_30m_ZH_2022-03 for 2022 to projects/thurgau-irrigation/assets/Zuerich/Landsat_ET_gap_filled_monthly_30m_ZH_2018-2022/Landsat_ET_gap_filled_30m_ZH_2022-03\n",
      "Using projection EPSG:4326 at 10m resolution\n",
      "Exporting Landsat_ET_gap_filled_30m_ZH_2022-04 for 2022 to projects/thurgau-irrigation/assets/Zuerich/Landsat_ET_gap_filled_monthly_30m_ZH_2018-2022/Landsat_ET_gap_filled_30m_ZH_2022-04\n",
      "Using projection EPSG:4326 at 10m resolution\n",
      "Exporting Landsat_ET_gap_filled_30m_ZH_2022-05 for 2022 to projects/thurgau-irrigation/assets/Zuerich/Landsat_ET_gap_filled_monthly_30m_ZH_2018-2022/Landsat_ET_gap_filled_30m_ZH_2022-05\n",
      "Using projection EPSG:4326 at 10m resolution\n",
      "Exporting Landsat_ET_gap_filled_30m_ZH_2022-06 for 2022 to projects/thurgau-irrigation/assets/Zuerich/Landsat_ET_gap_filled_monthly_30m_ZH_2018-2022/Landsat_ET_gap_filled_30m_ZH_2022-06\n",
      "Using projection EPSG:4326 at 10m resolution\n",
      "Exporting Landsat_ET_gap_filled_30m_ZH_2022-07 for 2022 to projects/thurgau-irrigation/assets/Zuerich/Landsat_ET_gap_filled_monthly_30m_ZH_2018-2022/Landsat_ET_gap_filled_30m_ZH_2022-07\n",
      "Using projection EPSG:4326 at 10m resolution\n",
      "Exporting Landsat_ET_gap_filled_30m_ZH_2022-08 for 2022 to projects/thurgau-irrigation/assets/Zuerich/Landsat_ET_gap_filled_monthly_30m_ZH_2018-2022/Landsat_ET_gap_filled_30m_ZH_2022-08\n",
      "Using projection EPSG:4326 at 10m resolution\n",
      "Exporting Landsat_ET_gap_filled_30m_ZH_2022-09 for 2022 to projects/thurgau-irrigation/assets/Zuerich/Landsat_ET_gap_filled_monthly_30m_ZH_2018-2022/Landsat_ET_gap_filled_30m_ZH_2022-09\n",
      "Using projection EPSG:4326 at 10m resolution\n",
      "Exporting Landsat_ET_gap_filled_30m_ZH_2022-10 for 2022 to projects/thurgau-irrigation/assets/Zuerich/Landsat_ET_gap_filled_monthly_30m_ZH_2018-2022/Landsat_ET_gap_filled_30m_ZH_2022-10\n",
      "Using projection EPSG:4326 at 10m resolution\n",
      "Exporting Landsat_ET_gap_filled_30m_ZH_2022-11 for 2022 to projects/thurgau-irrigation/assets/Zuerich/Landsat_ET_gap_filled_monthly_30m_ZH_2018-2022/Landsat_ET_gap_filled_30m_ZH_2022-11\n",
      "Using projection EPSG:4326 at 10m resolution\n",
      "Exporting Landsat_ET_gap_filled_30m_ZH_2022-12 for 2022 to projects/thurgau-irrigation/assets/Zuerich/Landsat_ET_gap_filled_monthly_30m_ZH_2018-2022/Landsat_ET_gap_filled_30m_ZH_2022-12\n",
      "Using projection EPSG:4326 at 10m resolution\n"
     ]
    }
   ],
   "source": [
    "def export_landsat_ET(\n",
    "    landsat_et_collection: ee.ImageCollection,\n",
    "    year: str,\n",
    "    scale: float,\n",
    ") -> List[ee.batch.Task]:\n",
    "    \"\"\"\n",
    "    Export the Landsat ET data for a given year.\n",
    "\n",
    "    Args:\n",
    "        landsat_et_collection (ee.ImageCollection): The Landsat ET data collection.\n",
    "        year (str): The year for which the data should be exported.\n",
    "        scale (float): The scale of the exported images.\n",
    "\n",
    "\n",
    "    Returns:\n",
    "        List[ee.batch.Task]: A list of export tasks for the downscaled images.\n",
    "    \"\"\"\n",
    "    landsat_et_collection_list = landsat_et_collection.toList(\n",
    "        landsat_et_collection.size()\n",
    "    )\n",
    "\n",
    "    tasks = []\n",
    "    for i in range(12):\n",
    "        m = i + 1\n",
    "        date = ee.Date.fromYMD(int(year), m, 1)\n",
    "        time_step_name = f\"{m:02d}\"\n",
    "\n",
    "        landsat_image = ee.Image(landsat_et_collection_list.get(i))\n",
    "\n",
    "        # Change the date to the first day of the month\n",
    "        landsat_image = landsat_image.set(\"system:time_start\", date.millis())\n",
    "\n",
    "        task_name = f\"Landsat_ET_gap_filled_30m_ZH_{year}-{time_step_name}\"\n",
    "        asset_id = f\"projects/thurgau-irrigation/assets/Zuerich/Landsat_ET_gap_filled_monthly_30m_ZH_2018-2022/{task_name}\"\n",
    "\n",
    "        task = export_image_to_asset(\n",
    "            landsat_image, asset_id, task_name, year, aoi_buffered\n",
    "        )\n",
    "        tasks.append(task)\n",
    "\n",
    "    return tasks\n",
    "\n",
    "\n",
    "years = range(2018, 2023)\n",
    "\n",
    "for year in years:\n",
    "\n",
    "    landsat_data_gap_filled_year = landsat_data_gap_filled.filterDate(\n",
    "        ee.Date(f\"{year}-01-01\"), ee.Date(f\"{year}-12-31\")\n",
    "    )\n",
    "\n",
    "    tasks = export_landsat_ET(landsat_data_gap_filled_year, year, 30)"
   ]
  },
  {
   "cell_type": "markdown",
   "metadata": {},
   "source": [
    "## Verify that it all worked well. Also comparing the Landsat product to the WaPOR product"
   ]
  },
  {
   "cell_type": "code",
   "execution_count": 10,
   "metadata": {},
   "outputs": [
    {
     "data": {
      "text/html": [
       "\n",
       "            <style>\n",
       "                .geemap-dark {\n",
       "                    --jp-widgets-color: white;\n",
       "                    --jp-widgets-label-color: white;\n",
       "                    --jp-ui-font-color1: white;\n",
       "                    --jp-layout-color2: #454545;\n",
       "                    background-color: #383838;\n",
       "                }\n",
       "\n",
       "                .geemap-dark .jupyter-button {\n",
       "                    --jp-layout-color3: #383838;\n",
       "                }\n",
       "\n",
       "                .geemap-colab {\n",
       "                    background-color: var(--colab-primary-surface-color, white);\n",
       "                }\n",
       "\n",
       "                .geemap-colab .jupyter-button {\n",
       "                    --jp-layout-color3: var(--colab-primary-surface-color, white);\n",
       "                }\n",
       "            </style>\n",
       "            "
      ],
      "text/plain": [
       "<IPython.core.display.HTML object>"
      ]
     },
     "metadata": {},
     "output_type": "display_data"
    }
   ],
   "source": [
    "# landsat_gap_filled_check = ee.ImageCollection(\n",
    "#     \"projects/thurgau-irrigation/assets/Thurgau/Landsat_ET_gap_filled_2018-2022\"\n",
    "# ).map(lambda img: back_to_float(img, 100))\n",
    "\n",
    "# years_to_process = range(2018, 2023)\n",
    "\n",
    "# wapor_monthly_asset = \"projects/thurgau-irrigation/assets/Thurgau/ET_WaPOR_10m_monthly\"\n",
    "\n",
    "# WaPOR_et_collections = ee_utils.merge_collections(\n",
    "#     years=years_to_process, asset_name=wapor_monthly_asset\n",
    "# ).map(lambda img: back_to_float(img, 100))"
   ]
  },
  {
   "cell_type": "code",
   "execution_count": 11,
   "metadata": {},
   "outputs": [
    {
     "data": {
      "text/html": [
       "\n",
       "            <style>\n",
       "                .geemap-dark {\n",
       "                    --jp-widgets-color: white;\n",
       "                    --jp-widgets-label-color: white;\n",
       "                    --jp-ui-font-color1: white;\n",
       "                    --jp-layout-color2: #454545;\n",
       "                    background-color: #383838;\n",
       "                }\n",
       "\n",
       "                .geemap-dark .jupyter-button {\n",
       "                    --jp-layout-color3: #383838;\n",
       "                }\n",
       "\n",
       "                .geemap-colab {\n",
       "                    background-color: var(--colab-primary-surface-color, white);\n",
       "                }\n",
       "\n",
       "                .geemap-colab .jupyter-button {\n",
       "                    --jp-layout-color3: var(--colab-primary-surface-color, white);\n",
       "                }\n",
       "            </style>\n",
       "            "
      ],
      "text/plain": [
       "<IPython.core.display.HTML object>"
      ]
     },
     "metadata": {},
     "output_type": "display_data"
    }
   ],
   "source": [
    "# # Filter both collection for 2019\n",
    "# WaPOR_et_2019 = WaPOR_et_collections.filterDate(\n",
    "#     ee.Date(\"2019-01-01\"), ee.Date(\"2019-12-31\")\n",
    "# )\n",
    "\n",
    "# landsat_et_2019 = landsat_gap_filled_check.filterDate(\n",
    "#     ee.Date(\"2019-01-01\"), ee.Date(\"2019-12-31\")\n",
    "# )\n",
    "\n",
    "# landsat_data_raw = ee.ImageCollection(\"projects/thurgau-irrigation/assets/ETlandsatmonthly\")\n",
    "\n",
    "# landsat_data_raw_2019 = landsat_data_raw.filterDate(ee.Date(\"2019-01-01\"), ee.Date(\"2019-12-31\")).filterBounds(aoi_buffered)"
   ]
  },
  {
   "cell_type": "code",
   "execution_count": 12,
   "metadata": {},
   "outputs": [
    {
     "data": {
      "text/html": [
       "\n",
       "            <style>\n",
       "                .geemap-dark {\n",
       "                    --jp-widgets-color: white;\n",
       "                    --jp-widgets-label-color: white;\n",
       "                    --jp-ui-font-color1: white;\n",
       "                    --jp-layout-color2: #454545;\n",
       "                    background-color: #383838;\n",
       "                }\n",
       "\n",
       "                .geemap-dark .jupyter-button {\n",
       "                    --jp-layout-color3: #383838;\n",
       "                }\n",
       "\n",
       "                .geemap-colab {\n",
       "                    background-color: var(--colab-primary-surface-color, white);\n",
       "                }\n",
       "\n",
       "                .geemap-colab .jupyter-button {\n",
       "                    --jp-layout-color3: var(--colab-primary-surface-color, white);\n",
       "                }\n",
       "            </style>\n",
       "            "
      ],
      "text/plain": [
       "<IPython.core.display.HTML object>"
      ]
     },
     "metadata": {},
     "output_type": "display_data"
    }
   ],
   "source": [
    "# landsat_gap_filled_check_list = landsat_et_2019.toList(\n",
    "#     landsat_et_2019.size()\n",
    "# )\n",
    "\n",
    "# WaPOR_et_collections_list = WaPOR_et_2019.toList(WaPOR_et_2019.size())\n",
    "\n",
    "# landsat_data_raw_2019_list = landsat_data_raw_2019.toList(landsat_data_raw_2019.size())\n",
    "\n",
    "# # Check that the size for both is 12\n",
    "# print(landsat_et_2019.size().getInfo())\n",
    "# print(WaPOR_et_2019.size().getInfo())\n",
    "# print(landsat_data_raw_2019.size().getInfo())"
   ]
  },
  {
   "cell_type": "code",
   "execution_count": 13,
   "metadata": {},
   "outputs": [
    {
     "data": {
      "text/html": [
       "\n",
       "            <style>\n",
       "                .geemap-dark {\n",
       "                    --jp-widgets-color: white;\n",
       "                    --jp-widgets-label-color: white;\n",
       "                    --jp-ui-font-color1: white;\n",
       "                    --jp-layout-color2: #454545;\n",
       "                    background-color: #383838;\n",
       "                }\n",
       "\n",
       "                .geemap-dark .jupyter-button {\n",
       "                    --jp-layout-color3: #383838;\n",
       "                }\n",
       "\n",
       "                .geemap-colab {\n",
       "                    background-color: var(--colab-primary-surface-color, white);\n",
       "                }\n",
       "\n",
       "                .geemap-colab .jupyter-button {\n",
       "                    --jp-layout-color3: var(--colab-primary-surface-color, white);\n",
       "                }\n",
       "            </style>\n",
       "            "
      ],
      "text/plain": [
       "<IPython.core.display.HTML object>"
      ]
     },
     "metadata": {},
     "output_type": "display_data"
    }
   ],
   "source": [
    "# date_utils.print_collection_dates(landsat_gap_filled_check)\n",
    "# date_utils.print_collection_dates(WaPOR_et_collections)"
   ]
  },
  {
   "cell_type": "code",
   "execution_count": 14,
   "metadata": {},
   "outputs": [
    {
     "data": {
      "text/html": [
       "\n",
       "            <style>\n",
       "                .geemap-dark {\n",
       "                    --jp-widgets-color: white;\n",
       "                    --jp-widgets-label-color: white;\n",
       "                    --jp-ui-font-color1: white;\n",
       "                    --jp-layout-color2: #454545;\n",
       "                    background-color: #383838;\n",
       "                }\n",
       "\n",
       "                .geemap-dark .jupyter-button {\n",
       "                    --jp-layout-color3: #383838;\n",
       "                }\n",
       "\n",
       "                .geemap-colab {\n",
       "                    background-color: var(--colab-primary-surface-color, white);\n",
       "                }\n",
       "\n",
       "                .geemap-colab .jupyter-button {\n",
       "                    --jp-layout-color3: var(--colab-primary-surface-color, white);\n",
       "                }\n",
       "            </style>\n",
       "            "
      ],
      "text/plain": [
       "<IPython.core.display.HTML object>"
      ]
     },
     "metadata": {},
     "output_type": "display_data"
    }
   ],
   "source": [
    "# Map = geemap.Map()\n",
    "\n",
    "# landsat = ee.Image(landsat_gap_filled_check_list.get(8))\n",
    "# WaPOR = ee.Image(WaPOR_et_collections_list.get(8))\n",
    "# landsat_raw = ee.Image(landsat_data_raw_2019_list.get(8))\n",
    "\n",
    "# landsat_params = {\n",
    "#     \"bands\": [\"fitted_ET\"],\n",
    "#     \"min\": 0,\n",
    "#     \"max\": 200,\n",
    "#     \"palette\": [\"blue\", \"green\", \"yellow\", \"orange\", \"red\"],\n",
    "# }\n",
    "\n",
    "# WaPOR_params = {\n",
    "#     \"bands\": [\"downscaled\"],\n",
    "#     \"min\": 0,\n",
    "#     \"max\": 200,\n",
    "#     \"palette\": [\"blue\", \"green\", \"yellow\", \"orange\", \"red\"],\n",
    "# }\n",
    "\n",
    "# landsat_raw_params = {\n",
    "#     \"bands\": [\"ET\"],\n",
    "#     \"min\": 0,\n",
    "#     \"max\": 200,\n",
    "#     \"palette\": [\"blue\", \"green\", \"yellow\", \"orange\", \"red\"],\n",
    "# }\n",
    "\n",
    "# Map.center_object(aoi_buffered, 10)\n",
    "# Map.addLayer(landsat, landsat_params, \"Landsat ET\")\n",
    "# Map.addLayer(WaPOR, WaPOR_params, \"WaPOR ET\")\n",
    "# Map.addLayer(landsat_raw, landsat_raw_params, \"Landsat ET raw\")\n",
    "\n",
    "# Map"
   ]
  },
  {
   "cell_type": "markdown",
   "metadata": {},
   "source": [
    "### Thoughts: looks a bit high to me"
   ]
  }
 ],
 "metadata": {
  "kernelspec": {
   "display_name": "geemap_env",
   "language": "python",
   "name": "python3"
  },
  "language_info": {
   "codemirror_mode": {
    "name": "ipython",
    "version": 3
   },
   "file_extension": ".py",
   "mimetype": "text/x-python",
   "name": "python",
   "nbconvert_exporter": "python",
   "pygments_lexer": "ipython3",
   "version": "3.11.10"
  }
 },
 "nbformat": 4,
 "nbformat_minor": 2
}
