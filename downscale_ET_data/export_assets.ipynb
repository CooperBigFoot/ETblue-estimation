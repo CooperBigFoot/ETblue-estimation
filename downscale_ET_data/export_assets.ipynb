{
 "cells": [
  {
   "cell_type": "markdown",
   "metadata": {},
   "source": [
    "## TODOS:\n",
    "\n",
    "- Dowscale WaPor data to 10m resolution\n"
   ]
  },
  {
   "cell_type": "code",
   "execution_count": 1,
   "metadata": {},
   "outputs": [],
   "source": [
    "import sys\n",
    "import os\n",
    "\n",
    "# Add the parent directory of 'vegetation-period-NDVI' to the sys.path\n",
    "sys.path.append(os.path.abspath(os.path.join(\"..\")))"
   ]
  },
  {
   "cell_type": "code",
   "execution_count": 2,
   "metadata": {},
   "outputs": [],
   "source": [
    "import ee\n",
    "import geemap\n",
    "from wapor_et_processing import load_wapor_et_data\n",
    "from vegetation_period_NDVI.data_loading import load_sentinel2_data\n",
    "from vegetation_period_NDVI.time_series import (\n",
    "    extract_time_ranges,\n",
    "    get_harmonic_ts,\n",
    "    compute_harmonic_fit,\n",
    "    calculate_phase_amplitude,\n",
    "    add_time_data,\n",
    "    get_regression_coefficients,\n",
    ")\n",
    "from utils.composites import harmonized_ts\n",
    "from utils.export_image_collection import export_collection_to_assets\n",
    "\n",
    "from typing import List"
   ]
  },
  {
   "cell_type": "code",
   "execution_count": 3,
   "metadata": {},
   "outputs": [
    {
     "data": {
      "text/html": [
       "\n",
       "            <style>\n",
       "                .geemap-dark {\n",
       "                    --jp-widgets-color: white;\n",
       "                    --jp-widgets-label-color: white;\n",
       "                    --jp-ui-font-color1: white;\n",
       "                    --jp-layout-color2: #454545;\n",
       "                    background-color: #383838;\n",
       "                }\n",
       "\n",
       "                .geemap-dark .jupyter-button {\n",
       "                    --jp-layout-color3: #383838;\n",
       "                }\n",
       "\n",
       "                .geemap-colab {\n",
       "                    background-color: var(--colab-primary-surface-color, white);\n",
       "                }\n",
       "\n",
       "                .geemap-colab .jupyter-button {\n",
       "                    --jp-layout-color3: var(--colab-primary-surface-color, white);\n",
       "                }\n",
       "            </style>\n",
       "            "
      ],
      "text/plain": [
       "<IPython.core.display.HTML object>"
      ]
     },
     "metadata": {},
     "output_type": "display_data"
    }
   ],
   "source": [
    "ee.Initialize(project=\"thurgau-irrigation\")"
   ]
  },
  {
   "cell_type": "markdown",
   "metadata": {},
   "source": [
    "## Define the AOI and the year to process"
   ]
  },
  {
   "cell_type": "code",
   "execution_count": 4,
   "metadata": {},
   "outputs": [
    {
     "data": {
      "text/html": [
       "\n",
       "            <style>\n",
       "                .geemap-dark {\n",
       "                    --jp-widgets-color: white;\n",
       "                    --jp-widgets-label-color: white;\n",
       "                    --jp-ui-font-color1: white;\n",
       "                    --jp-layout-color2: #454545;\n",
       "                    background-color: #383838;\n",
       "                }\n",
       "\n",
       "                .geemap-dark .jupyter-button {\n",
       "                    --jp-layout-color3: #383838;\n",
       "                }\n",
       "\n",
       "                .geemap-colab {\n",
       "                    background-color: var(--colab-primary-surface-color, white);\n",
       "                }\n",
       "\n",
       "                .geemap-colab .jupyter-button {\n",
       "                    --jp-layout-color3: var(--colab-primary-surface-color, white);\n",
       "                }\n",
       "            </style>\n",
       "            "
      ],
      "text/plain": [
       "<IPython.core.display.HTML object>"
      ]
     },
     "metadata": {},
     "output_type": "display_data"
    }
   ],
   "source": [
    "cantonal_borders_asset = (\n",
    "    \"projects/thurgau-irrigation/assets/Thurgau/thrugau_borders_2024\"\n",
    ")\n",
    "\n",
    "aoi_feature_collection = ee.FeatureCollection(cantonal_borders_asset)\n",
    "aoi_geometry = aoi_feature_collection.geometry()\n",
    "aoi_geometry = aoi_geometry.simplify(500)\n",
    "aoi_buffered = aoi_geometry.buffer(100)\n",
    "\n",
    "\n",
    "# I need to restat :()\n",
    "YEAR = 2023\n",
    "BUFFER_DAYS = 5\n",
    "\n",
    "# Load WAPOR ET data\n",
    "first_year = YEAR\n",
    "last_year = YEAR\n",
    "wapor_et_data = load_wapor_et_data(\n",
    "    first_year, last_year, frequency=\"dekadal\"\n",
    ").filterBounds(aoi_buffered)"
   ]
  },
  {
   "cell_type": "code",
   "execution_count": 5,
   "metadata": {},
   "outputs": [
    {
     "data": {
      "text/html": [
       "\n",
       "            <style>\n",
       "                .geemap-dark {\n",
       "                    --jp-widgets-color: white;\n",
       "                    --jp-widgets-label-color: white;\n",
       "                    --jp-ui-font-color1: white;\n",
       "                    --jp-layout-color2: #454545;\n",
       "                    background-color: #383838;\n",
       "                }\n",
       "\n",
       "                .geemap-dark .jupyter-button {\n",
       "                    --jp-layout-color3: #383838;\n",
       "                }\n",
       "\n",
       "                .geemap-colab {\n",
       "                    background-color: var(--colab-primary-surface-color, white);\n",
       "                }\n",
       "\n",
       "                .geemap-colab .jupyter-button {\n",
       "                    --jp-layout-color3: var(--colab-primary-surface-color, white);\n",
       "                }\n",
       "            </style>\n",
       "            "
      ],
      "text/plain": [
       "<IPython.core.display.HTML object>"
      ]
     },
     "metadata": {},
     "output_type": "display_data"
    }
   ],
   "source": [
    "def print_collection_dates(collection: ee.ImageCollection) -> None:\n",
    "    \"\"\"\n",
    "    Print the dates of all images in an ImageCollection.\n",
    "\n",
    "    Args:\n",
    "        collection (ee.ImageCollection): The input image collection.\n",
    "\n",
    "    Returns:\n",
    "        None: This function prints the dates to the console.\n",
    "    \"\"\"\n",
    "    # Get a list of all image dates\n",
    "    dates = collection.aggregate_array('system:time_start')\n",
    "    \n",
    "    # Convert to ee.Date objects and format as strings\n",
    "    formatted_dates = dates.map(lambda d: ee.Date(d).format('YYYY-MM-dd'))\n",
    "    \n",
    "    # Get the list of formatted dates\n",
    "    date_list = formatted_dates.getInfo()\n",
    "    \n",
    "    print(\"Dates of images in the collection:\")\n",
    "    for date in date_list:\n",
    "        print(date)\n",
    "\n",
    "# print_collection_dates(wapor_et_data)"
   ]
  },
  {
   "cell_type": "code",
   "execution_count": 6,
   "metadata": {},
   "outputs": [
    {
     "data": {
      "text/html": [
       "\n",
       "            <style>\n",
       "                .geemap-dark {\n",
       "                    --jp-widgets-color: white;\n",
       "                    --jp-widgets-label-color: white;\n",
       "                    --jp-ui-font-color1: white;\n",
       "                    --jp-layout-color2: #454545;\n",
       "                    background-color: #383838;\n",
       "                }\n",
       "\n",
       "                .geemap-dark .jupyter-button {\n",
       "                    --jp-layout-color3: #383838;\n",
       "                }\n",
       "\n",
       "                .geemap-colab {\n",
       "                    background-color: var(--colab-primary-surface-color, white);\n",
       "                }\n",
       "\n",
       "                .geemap-colab .jupyter-button {\n",
       "                    --jp-layout-color3: var(--colab-primary-surface-color, white);\n",
       "                }\n",
       "            </style>\n",
       "            "
      ],
      "text/plain": [
       "<IPython.core.display.HTML object>"
      ]
     },
     "metadata": {},
     "output_type": "display_data"
    }
   ],
   "source": [
    "def create_centered_date_ranges(image_list: ee.List, buffer_days: int = 5) -> ee.List:\n",
    "    \"\"\"\n",
    "    Creates date ranges centered around the timestamps of a list of Earth Engine images.\n",
    "\n",
    "    Args:\n",
    "        image_list (ee.List): A list of Earth Engine images.\n",
    "        buffer_days (int): Number of days to buffer before and after the center date. Defaults to 5.\n",
    "\n",
    "    Returns:\n",
    "        ee.List: A list of lists, where each inner list contains two ee.Date objects\n",
    "                 representing the start and end of a date range, centered around the image timestamp.\n",
    "    \"\"\"\n",
    "\n",
    "    def create_centered_range(image, buffer_days):\n",
    "        center_date = ee.Date(ee.Image(image).get(\"system:time_start\"))\n",
    "        start_date = center_date.advance(-buffer_days, \"day\")\n",
    "        end_date = center_date.advance(buffer_days, \"day\")\n",
    "        return ee.List([start_date, end_date])\n",
    "\n",
    "    return image_list.map(lambda img: create_centered_range(img, buffer_days))"
   ]
  },
  {
   "cell_type": "markdown",
   "metadata": {},
   "source": [
    "### Getting dekadal sentinel 2 data\n"
   ]
  },
  {
   "cell_type": "code",
   "execution_count": 7,
   "metadata": {},
   "outputs": [
    {
     "data": {
      "text/html": [
       "\n",
       "            <style>\n",
       "                .geemap-dark {\n",
       "                    --jp-widgets-color: white;\n",
       "                    --jp-widgets-label-color: white;\n",
       "                    --jp-ui-font-color1: white;\n",
       "                    --jp-layout-color2: #454545;\n",
       "                    background-color: #383838;\n",
       "                }\n",
       "\n",
       "                .geemap-dark .jupyter-button {\n",
       "                    --jp-layout-color3: #383838;\n",
       "                }\n",
       "\n",
       "                .geemap-colab {\n",
       "                    background-color: var(--colab-primary-surface-color, white);\n",
       "                }\n",
       "\n",
       "                .geemap-colab .jupyter-button {\n",
       "                    --jp-layout-color3: var(--colab-primary-surface-color, white);\n",
       "                }\n",
       "            </style>\n",
       "            "
      ],
      "text/plain": [
       "<IPython.core.display.HTML object>"
      ]
     },
     "metadata": {},
     "output_type": "display_data"
    }
   ],
   "source": [
    "s2collection = load_sentinel2_data(year=YEAR, aoi=aoi_buffered)"
   ]
  },
  {
   "cell_type": "code",
   "execution_count": 8,
   "metadata": {},
   "outputs": [
    {
     "data": {
      "text/html": [
       "\n",
       "            <style>\n",
       "                .geemap-dark {\n",
       "                    --jp-widgets-color: white;\n",
       "                    --jp-widgets-label-color: white;\n",
       "                    --jp-ui-font-color1: white;\n",
       "                    --jp-layout-color2: #454545;\n",
       "                    background-color: #383838;\n",
       "                }\n",
       "\n",
       "                .geemap-dark .jupyter-button {\n",
       "                    --jp-layout-color3: #383838;\n",
       "                }\n",
       "\n",
       "                .geemap-colab {\n",
       "                    background-color: var(--colab-primary-surface-color, white);\n",
       "                }\n",
       "\n",
       "                .geemap-colab .jupyter-button {\n",
       "                    --jp-layout-color3: var(--colab-primary-surface-color, white);\n",
       "                }\n",
       "            </style>\n",
       "            "
      ],
      "text/plain": [
       "<IPython.core.display.HTML object>"
      ]
     },
     "metadata": {},
     "output_type": "display_data"
    }
   ],
   "source": [
    "wapor_list = wapor_et_data.toList(36)\n",
    "\n",
    "time_intervals = create_centered_date_ranges(wapor_list, buffer_days=BUFFER_DAYS)\n",
    "\n",
    "bands = [\"B3\", \"B4\", \"B8\", \"B11\", \"B12\"]\n",
    "\n",
    "options = {\"agg_type\": \"mosaic\", \"mosaic_type\": \"least_cloudy\", \"band_name\": \"NDVI\"}\n",
    "\n",
    "s2_harmonized = harmonized_ts(\n",
    "    masked_collection=s2collection,\n",
    "    band_list=bands,\n",
    "    time_intervals=time_intervals,\n",
    "    options=options,\n",
    ")"
   ]
  },
  {
   "cell_type": "code",
   "execution_count": 9,
   "metadata": {},
   "outputs": [
    {
     "data": {
      "text/html": [
       "\n",
       "            <style>\n",
       "                .geemap-dark {\n",
       "                    --jp-widgets-color: white;\n",
       "                    --jp-widgets-label-color: white;\n",
       "                    --jp-ui-font-color1: white;\n",
       "                    --jp-layout-color2: #454545;\n",
       "                    background-color: #383838;\n",
       "                }\n",
       "\n",
       "                .geemap-dark .jupyter-button {\n",
       "                    --jp-layout-color3: #383838;\n",
       "                }\n",
       "\n",
       "                .geemap-colab {\n",
       "                    background-color: var(--colab-primary-surface-color, white);\n",
       "                }\n",
       "\n",
       "                .geemap-colab .jupyter-button {\n",
       "                    --jp-layout-color3: var(--colab-primary-surface-color, white);\n",
       "                }\n",
       "            </style>\n",
       "            "
      ],
      "text/plain": [
       "<IPython.core.display.HTML object>"
      ]
     },
     "metadata": {},
     "output_type": "display_data"
    }
   ],
   "source": [
    "# print_collection_dates(s2_harmonized)"
   ]
  },
  {
   "cell_type": "code",
   "execution_count": 10,
   "metadata": {},
   "outputs": [
    {
     "data": {
      "text/html": [
       "\n",
       "            <style>\n",
       "                .geemap-dark {\n",
       "                    --jp-widgets-color: white;\n",
       "                    --jp-widgets-label-color: white;\n",
       "                    --jp-ui-font-color1: white;\n",
       "                    --jp-layout-color2: #454545;\n",
       "                    background-color: #383838;\n",
       "                }\n",
       "\n",
       "                .geemap-dark .jupyter-button {\n",
       "                    --jp-layout-color3: #383838;\n",
       "                }\n",
       "\n",
       "                .geemap-colab {\n",
       "                    background-color: var(--colab-primary-surface-color, white);\n",
       "                }\n",
       "\n",
       "                .geemap-colab .jupyter-button {\n",
       "                    --jp-layout-color3: var(--colab-primary-surface-color, white);\n",
       "                }\n",
       "            </style>\n",
       "            "
      ],
      "text/plain": [
       "<IPython.core.display.HTML object>"
      ]
     },
     "metadata": {},
     "output_type": "display_data"
    }
   ],
   "source": [
    "def compute_vegetation_indexes(image: ee.Image) -> ee.Image:\n",
    "    \"\"\"\n",
    "    Compute vegetation indexes for a given image\n",
    "\n",
    "    Args:\n",
    "        image (ee.Image): The image to compute the vegetation indexes for\n",
    "\n",
    "    Returns:\n",
    "        ee.Image: The input image with the vegetation indexes\n",
    "\n",
    "    \"\"\"\n",
    "    ndvi = image.normalizedDifference([\"B8\", \"B4\"]).rename(\"NDVI\")\n",
    "    ndwi = image.normalizedDifference([\"B3\", \"B8\"]).rename(\"NDWI\")\n",
    "    ndbi = image.normalizedDifference([\"B11\", \"B8\"]).rename(\"NDBI\")\n",
    "    return image.addBands(ndvi).addBands(ndwi).addBands(ndbi)\n",
    "\n",
    "\n",
    "def fill_gaps(\n",
    "    image_collection: ee.ImageCollection, vegetation_indexes: List[str]\n",
    ") -> ee.ImageCollection:\n",
    "    \"\"\"\n",
    "    Fill gaps in an image collection using harmonic regression for specified vegetation indexes.\n",
    "\n",
    "    Args:\n",
    "        image_collection (ee.ImageCollection): The image collection to fill gaps in.\n",
    "        vegetation_indexes (List[str]): The vegetation indexes to fill gaps for.\n",
    "\n",
    "    Returns:\n",
    "        ee.ImageCollection: The image collection with gaps filled.\n",
    "    \"\"\"\n",
    "    prep_for_harmonic = image_collection.map(add_time_data)\n",
    "\n",
    "    def process_index(index: str) -> ee.ImageCollection:\n",
    "        fitted_collection = compute_harmonic_fit(index, prep_for_harmonic, 2)\n",
    "        return fitted_collection.map(\n",
    "            lambda img: img.select([\"fitted\", \"rmse\"]).rename(\n",
    "                [f\"fitted_{index}\", f\"rmse_{index}\"]\n",
    "            )\n",
    "        )\n",
    "\n",
    "    fitted_collections = {index: process_index(index) for index in vegetation_indexes}\n",
    "\n",
    "    def add_fitted_bands(img: ee.Image) -> ee.Image:\n",
    "        for index, fitted_collection in fitted_collections.items():\n",
    "            corresponding_fitted = fitted_collection.filter(\n",
    "                ee.Filter.equals(\"system:time_start\", img.get(\"system:time_start\"))\n",
    "            ).first()\n",
    "            img = img.addBands(corresponding_fitted)\n",
    "        return img\n",
    "\n",
    "    return image_collection.map(add_fitted_bands)\n",
    "\n",
    "\n",
    "s2_harmonized_w_vegetation_indexes = s2_harmonized.map(compute_vegetation_indexes)\n",
    "\n",
    "s2_harmonized_gaps_filled = fill_gaps(\n",
    "    s2_harmonized_w_vegetation_indexes, [\"NDVI\", \"NDWI\", \"NDBI\"]\n",
    ")"
   ]
  },
  {
   "cell_type": "code",
   "execution_count": 11,
   "metadata": {},
   "outputs": [
    {
     "data": {
      "text/html": [
       "\n",
       "            <style>\n",
       "                .geemap-dark {\n",
       "                    --jp-widgets-color: white;\n",
       "                    --jp-widgets-label-color: white;\n",
       "                    --jp-ui-font-color1: white;\n",
       "                    --jp-layout-color2: #454545;\n",
       "                    background-color: #383838;\n",
       "                }\n",
       "\n",
       "                .geemap-dark .jupyter-button {\n",
       "                    --jp-layout-color3: #383838;\n",
       "                }\n",
       "\n",
       "                .geemap-colab {\n",
       "                    background-color: var(--colab-primary-surface-color, white);\n",
       "                }\n",
       "\n",
       "                .geemap-colab .jupyter-button {\n",
       "                    --jp-layout-color3: var(--colab-primary-surface-color, white);\n",
       "                }\n",
       "            </style>\n",
       "            "
      ],
      "text/plain": [
       "<IPython.core.display.HTML object>"
      ]
     },
     "metadata": {},
     "output_type": "display_data"
    }
   ],
   "source": [
    "from utils.downscale_anything_10m import downscale, perform_regression, apply_regression, apply_gaussian_smoothing, extract_coefficients"
   ]
  },
  {
   "cell_type": "code",
   "execution_count": 12,
   "metadata": {},
   "outputs": [
    {
     "data": {
      "text/html": [
       "\n",
       "            <style>\n",
       "                .geemap-dark {\n",
       "                    --jp-widgets-color: white;\n",
       "                    --jp-widgets-label-color: white;\n",
       "                    --jp-ui-font-color1: white;\n",
       "                    --jp-layout-color2: #454545;\n",
       "                    background-color: #383838;\n",
       "                }\n",
       "\n",
       "                .geemap-dark .jupyter-button {\n",
       "                    --jp-layout-color3: #383838;\n",
       "                }\n",
       "\n",
       "                .geemap-colab {\n",
       "                    background-color: var(--colab-primary-surface-color, white);\n",
       "                }\n",
       "\n",
       "                .geemap-colab .jupyter-button {\n",
       "                    --jp-layout-color3: var(--colab-primary-surface-color, white);\n",
       "                }\n",
       "            </style>\n",
       "            "
      ],
      "text/plain": [
       "<IPython.core.display.HTML object>"
      ]
     },
     "metadata": {},
     "output_type": "display_data"
    }
   ],
   "source": [
    "def resample_collection(\n",
    "    collection: ee.ImageCollection, reference_collection: ee.ImageCollection\n",
    ") -> ee.ImageCollection:\n",
    "    \"\"\"\n",
    "    Resample an image collection to match the resolution and projection of a reference collection.\n",
    "    This function is specifically designed to resample Sentinel-2 imagery to match WAPOR ET data.\n",
    "\n",
    "    Args:\n",
    "        collection (ee.ImageCollection): The input Sentinel-2 image collection to be resampled.\n",
    "        reference_collection (ee.ImageCollection): The reference WAPOR ET image collection.\n",
    "\n",
    "    Returns:\n",
    "        ee.ImageCollection: The resampled Sentinel-2 image collection.\n",
    "    \"\"\"\n",
    "    # Get the projection and scale from the first image of the reference collection\n",
    "    reference_image = reference_collection.first()\n",
    "    target_projection = reference_image.projection()\n",
    "    target_scale = target_projection.nominalScale()\n",
    "\n",
    "    def resample_image(image: ee.Image) -> ee.Image:\n",
    "        # Reproject to match the reference projection and scale\n",
    "        resampled = image.reproject(crs=target_projection, scale=target_scale)\n",
    "\n",
    "        return resampled.set(\n",
    "            {\n",
    "                \"resampled\": True,\n",
    "                \"original_scale\": image.projection().nominalScale(),\n",
    "                \"target_scale\": target_scale,\n",
    "                \"original_projection\": image.projection().wkt(),\n",
    "                \"target_projection\": target_projection.wkt(),\n",
    "            }\n",
    "        )\n",
    "\n",
    "    resampled_collection = collection.map(resample_image)\n",
    "\n",
    "    return resampled_collection"
   ]
  },
  {
   "cell_type": "code",
   "execution_count": 13,
   "metadata": {},
   "outputs": [
    {
     "data": {
      "text/html": [
       "\n",
       "            <style>\n",
       "                .geemap-dark {\n",
       "                    --jp-widgets-color: white;\n",
       "                    --jp-widgets-label-color: white;\n",
       "                    --jp-ui-font-color1: white;\n",
       "                    --jp-layout-color2: #454545;\n",
       "                    background-color: #383838;\n",
       "                }\n",
       "\n",
       "                .geemap-dark .jupyter-button {\n",
       "                    --jp-layout-color3: #383838;\n",
       "                }\n",
       "\n",
       "                .geemap-colab {\n",
       "                    background-color: var(--colab-primary-surface-color, white);\n",
       "                }\n",
       "\n",
       "                .geemap-colab .jupyter-button {\n",
       "                    --jp-layout-color3: var(--colab-primary-surface-color, white);\n",
       "                }\n",
       "            </style>\n",
       "            "
      ],
      "text/plain": [
       "<IPython.core.display.HTML object>"
      ]
     },
     "metadata": {},
     "output_type": "display_data"
    }
   ],
   "source": [
    "independent_band = [\"fitted_NDVI\", \"fitted_NDBI\", \"fitted_NDWI\"]\n",
    "dependent_band = [\"ET\"]\n",
    "\n",
    "s2_indices = s2_harmonized_gaps_filled.select(independent_band)\n",
    "\n",
    "independent_vars = resample_collection(s2_indices, wapor_et_data)\n",
    "\n",
    "dependent_vars = wapor_et_data.select(dependent_band)\n",
    "\n",
    "# print_collection_dates(independent_vars)\n",
    "# print_collection_dates(dependent_vars)\n"
   ]
  },
  {
   "cell_type": "code",
   "execution_count": 14,
   "metadata": {},
   "outputs": [
    {
     "data": {
      "text/html": [
       "\n",
       "            <style>\n",
       "                .geemap-dark {\n",
       "                    --jp-widgets-color: white;\n",
       "                    --jp-widgets-label-color: white;\n",
       "                    --jp-ui-font-color1: white;\n",
       "                    --jp-layout-color2: #454545;\n",
       "                    background-color: #383838;\n",
       "                }\n",
       "\n",
       "                .geemap-dark .jupyter-button {\n",
       "                    --jp-layout-color3: #383838;\n",
       "                }\n",
       "\n",
       "                .geemap-colab {\n",
       "                    background-color: var(--colab-primary-surface-color, white);\n",
       "                }\n",
       "\n",
       "                .geemap-colab .jupyter-button {\n",
       "                    --jp-layout-color3: var(--colab-primary-surface-color, white);\n",
       "                }\n",
       "            </style>\n",
       "            "
      ],
      "text/plain": [
       "<IPython.core.display.HTML object>"
      ]
     },
     "metadata": {},
     "output_type": "display_data"
    },
    {
     "name": "stdout",
     "output_type": "stream",
     "text": [
      "Exporting Thurgau_downscaled_WaPOR_dekadal2023-01_D1 for 2023 to projects/thurgau-irrigation/assets/Thurgau/ET_WaPOR_10m_dekadal_2023/WaPOR_ET_downscaled_2023-01_D1\n",
      "Exporting Thurgau_downscaled_WaPOR_dekadal2023-01_D2 for 2023 to projects/thurgau-irrigation/assets/Thurgau/ET_WaPOR_10m_dekadal_2023/WaPOR_ET_downscaled_2023-01_D2\n",
      "Exporting Thurgau_downscaled_WaPOR_dekadal2023-01_D3 for 2023 to projects/thurgau-irrigation/assets/Thurgau/ET_WaPOR_10m_dekadal_2023/WaPOR_ET_downscaled_2023-01_D3\n",
      "Exporting Thurgau_downscaled_WaPOR_dekadal2023-02_D1 for 2023 to projects/thurgau-irrigation/assets/Thurgau/ET_WaPOR_10m_dekadal_2023/WaPOR_ET_downscaled_2023-02_D1\n",
      "Exporting Thurgau_downscaled_WaPOR_dekadal2023-02_D2 for 2023 to projects/thurgau-irrigation/assets/Thurgau/ET_WaPOR_10m_dekadal_2023/WaPOR_ET_downscaled_2023-02_D2\n",
      "Exporting Thurgau_downscaled_WaPOR_dekadal2023-02_D3 for 2023 to projects/thurgau-irrigation/assets/Thurgau/ET_WaPOR_10m_dekadal_2023/WaPOR_ET_downscaled_2023-02_D3\n",
      "Exporting Thurgau_downscaled_WaPOR_dekadal2023-03_D1 for 2023 to projects/thurgau-irrigation/assets/Thurgau/ET_WaPOR_10m_dekadal_2023/WaPOR_ET_downscaled_2023-03_D1\n",
      "Exporting Thurgau_downscaled_WaPOR_dekadal2023-03_D2 for 2023 to projects/thurgau-irrigation/assets/Thurgau/ET_WaPOR_10m_dekadal_2023/WaPOR_ET_downscaled_2023-03_D2\n",
      "Exporting Thurgau_downscaled_WaPOR_dekadal2023-03_D3 for 2023 to projects/thurgau-irrigation/assets/Thurgau/ET_WaPOR_10m_dekadal_2023/WaPOR_ET_downscaled_2023-03_D3\n",
      "Exporting Thurgau_downscaled_WaPOR_dekadal2023-04_D1 for 2023 to projects/thurgau-irrigation/assets/Thurgau/ET_WaPOR_10m_dekadal_2023/WaPOR_ET_downscaled_2023-04_D1\n",
      "Exporting Thurgau_downscaled_WaPOR_dekadal2023-04_D2 for 2023 to projects/thurgau-irrigation/assets/Thurgau/ET_WaPOR_10m_dekadal_2023/WaPOR_ET_downscaled_2023-04_D2\n",
      "Exporting Thurgau_downscaled_WaPOR_dekadal2023-04_D3 for 2023 to projects/thurgau-irrigation/assets/Thurgau/ET_WaPOR_10m_dekadal_2023/WaPOR_ET_downscaled_2023-04_D3\n",
      "Exporting Thurgau_downscaled_WaPOR_dekadal2023-05_D1 for 2023 to projects/thurgau-irrigation/assets/Thurgau/ET_WaPOR_10m_dekadal_2023/WaPOR_ET_downscaled_2023-05_D1\n",
      "Exporting Thurgau_downscaled_WaPOR_dekadal2023-05_D2 for 2023 to projects/thurgau-irrigation/assets/Thurgau/ET_WaPOR_10m_dekadal_2023/WaPOR_ET_downscaled_2023-05_D2\n",
      "Exporting Thurgau_downscaled_WaPOR_dekadal2023-05_D3 for 2023 to projects/thurgau-irrigation/assets/Thurgau/ET_WaPOR_10m_dekadal_2023/WaPOR_ET_downscaled_2023-05_D3\n",
      "Exporting Thurgau_downscaled_WaPOR_dekadal2023-06_D1 for 2023 to projects/thurgau-irrigation/assets/Thurgau/ET_WaPOR_10m_dekadal_2023/WaPOR_ET_downscaled_2023-06_D1\n",
      "Exporting Thurgau_downscaled_WaPOR_dekadal2023-06_D2 for 2023 to projects/thurgau-irrigation/assets/Thurgau/ET_WaPOR_10m_dekadal_2023/WaPOR_ET_downscaled_2023-06_D2\n",
      "Exporting Thurgau_downscaled_WaPOR_dekadal2023-06_D3 for 2023 to projects/thurgau-irrigation/assets/Thurgau/ET_WaPOR_10m_dekadal_2023/WaPOR_ET_downscaled_2023-06_D3\n",
      "Exporting Thurgau_downscaled_WaPOR_dekadal2023-07_D1 for 2023 to projects/thurgau-irrigation/assets/Thurgau/ET_WaPOR_10m_dekadal_2023/WaPOR_ET_downscaled_2023-07_D1\n",
      "Exporting Thurgau_downscaled_WaPOR_dekadal2023-07_D2 for 2023 to projects/thurgau-irrigation/assets/Thurgau/ET_WaPOR_10m_dekadal_2023/WaPOR_ET_downscaled_2023-07_D2\n",
      "Exporting Thurgau_downscaled_WaPOR_dekadal2023-07_D3 for 2023 to projects/thurgau-irrigation/assets/Thurgau/ET_WaPOR_10m_dekadal_2023/WaPOR_ET_downscaled_2023-07_D3\n",
      "Exporting Thurgau_downscaled_WaPOR_dekadal2023-08_D1 for 2023 to projects/thurgau-irrigation/assets/Thurgau/ET_WaPOR_10m_dekadal_2023/WaPOR_ET_downscaled_2023-08_D1\n",
      "Exporting Thurgau_downscaled_WaPOR_dekadal2023-08_D2 for 2023 to projects/thurgau-irrigation/assets/Thurgau/ET_WaPOR_10m_dekadal_2023/WaPOR_ET_downscaled_2023-08_D2\n",
      "Exporting Thurgau_downscaled_WaPOR_dekadal2023-08_D3 for 2023 to projects/thurgau-irrigation/assets/Thurgau/ET_WaPOR_10m_dekadal_2023/WaPOR_ET_downscaled_2023-08_D3\n",
      "Exporting Thurgau_downscaled_WaPOR_dekadal2023-09_D1 for 2023 to projects/thurgau-irrigation/assets/Thurgau/ET_WaPOR_10m_dekadal_2023/WaPOR_ET_downscaled_2023-09_D1\n",
      "Exporting Thurgau_downscaled_WaPOR_dekadal2023-09_D2 for 2023 to projects/thurgau-irrigation/assets/Thurgau/ET_WaPOR_10m_dekadal_2023/WaPOR_ET_downscaled_2023-09_D2\n",
      "Exporting Thurgau_downscaled_WaPOR_dekadal2023-09_D3 for 2023 to projects/thurgau-irrigation/assets/Thurgau/ET_WaPOR_10m_dekadal_2023/WaPOR_ET_downscaled_2023-09_D3\n",
      "Exporting Thurgau_downscaled_WaPOR_dekadal2023-10_D1 for 2023 to projects/thurgau-irrigation/assets/Thurgau/ET_WaPOR_10m_dekadal_2023/WaPOR_ET_downscaled_2023-10_D1\n",
      "Exporting Thurgau_downscaled_WaPOR_dekadal2023-10_D2 for 2023 to projects/thurgau-irrigation/assets/Thurgau/ET_WaPOR_10m_dekadal_2023/WaPOR_ET_downscaled_2023-10_D2\n",
      "Exporting Thurgau_downscaled_WaPOR_dekadal2023-10_D3 for 2023 to projects/thurgau-irrigation/assets/Thurgau/ET_WaPOR_10m_dekadal_2023/WaPOR_ET_downscaled_2023-10_D3\n",
      "Exporting Thurgau_downscaled_WaPOR_dekadal2023-11_D1 for 2023 to projects/thurgau-irrigation/assets/Thurgau/ET_WaPOR_10m_dekadal_2023/WaPOR_ET_downscaled_2023-11_D1\n",
      "Exporting Thurgau_downscaled_WaPOR_dekadal2023-11_D2 for 2023 to projects/thurgau-irrigation/assets/Thurgau/ET_WaPOR_10m_dekadal_2023/WaPOR_ET_downscaled_2023-11_D2\n",
      "Exporting Thurgau_downscaled_WaPOR_dekadal2023-11_D3 for 2023 to projects/thurgau-irrigation/assets/Thurgau/ET_WaPOR_10m_dekadal_2023/WaPOR_ET_downscaled_2023-11_D3\n",
      "Exporting Thurgau_downscaled_WaPOR_dekadal2023-12_D1 for 2023 to projects/thurgau-irrigation/assets/Thurgau/ET_WaPOR_10m_dekadal_2023/WaPOR_ET_downscaled_2023-12_D1\n",
      "Exporting Thurgau_downscaled_WaPOR_dekadal2023-12_D2 for 2023 to projects/thurgau-irrigation/assets/Thurgau/ET_WaPOR_10m_dekadal_2023/WaPOR_ET_downscaled_2023-12_D2\n",
      "Exporting Thurgau_downscaled_WaPOR_dekadal2023-12_D3 for 2023 to projects/thurgau-irrigation/assets/Thurgau/ET_WaPOR_10m_dekadal_2023/WaPOR_ET_downscaled_2023-12_D3\n"
     ]
    }
   ],
   "source": [
    "def export_image_to_asset(\n",
    "    image: ee.Image,\n",
    "    asset_id: str,\n",
    "    task_name: str,\n",
    "    year: str,\n",
    "    aoi: ee.Geometry,\n",
    "    max_pixels: int = 1e13,\n",
    ") -> ee.batch.Task:\n",
    "    \"\"\"\n",
    "    Export an image to an Earth Engine asset.\n",
    "\n",
    "    Args:\n",
    "        image (ee.Image): The image to export.\n",
    "        asset_id (str): The asset ID to export the image to.\n",
    "        task_name (str): The name of the task.\n",
    "        year (str): The year of the image.\n",
    "        aoi (ee.Geometry): The area of interest to export.\n",
    "        scale (float, optional): The scale in meters of the exported image. Defaults to 10.\n",
    "        max_pixels (int, optional): The maximum number of pixels to export. Defaults to 1e13.\n",
    "\n",
    "    Returns:\n",
    "        ee.batch.Task: The export task object.\n",
    "    \"\"\"\n",
    "    task = ee.batch.Export.image.toAsset(\n",
    "        image=image,\n",
    "        description=task_name,\n",
    "        assetId=asset_id,\n",
    "        region=aoi,\n",
    "        scale=10,\n",
    "        maxPixels=max_pixels,\n",
    "    )\n",
    "\n",
    "    print(f\"Exporting {task_name} for {year} to {asset_id}\")\n",
    "    task.start()\n",
    "\n",
    "    return task\n",
    "\n",
    "\n",
    "# Usage example\n",
    "def export_downscaled_images(\n",
    "    s2_indices: ee.ImageCollection,\n",
    "    independent_vars: ee.ImageCollection,\n",
    "    dependent_vars: ee.ImageCollection,\n",
    "    aoi: ee.Geometry,\n",
    "    year: str,\n",
    "    scale: float,\n",
    ") -> None:\n",
    "    \"\"\"\n",
    "    Export downscaled WaPOR ET images to Earth Engine assets.\n",
    "\n",
    "    Args:\n",
    "        s2_indices (ee.ImageCollection): Collection of Sentinel-2 indices.\n",
    "        independent_vars (ee.ImageCollection): Collection of independent variables.\n",
    "        dependent_vars (ee.ImageCollection): Collection of dependent variables.\n",
    "        aoi (ee.Geometry): Area of interest for export.\n",
    "        year (str): Year of the images.\n",
    "        scale (float): Scale of the exported images.\n",
    "\n",
    "    Returns:\n",
    "        None\n",
    "    \"\"\"\n",
    "    for i in range(36):\n",
    "        j = i % 3 + 1\n",
    "        m = i // 3 + 1\n",
    "        s2_index = ee.Image(s2_indices.toList(36).get(i))\n",
    "        ind_vars = ee.Image(independent_vars.toList(36).get(i))\n",
    "        dep_vars = ee.Image(dependent_vars.toList(36).get(i))\n",
    "\n",
    "        et_image_downscaled = downscale(ind_vars, dep_vars, scale, s2_index, aoi)\n",
    "\n",
    "        def times_100_to_int(image):\n",
    "            return image.select(\"downscaled\").multiply(100).toInt()\n",
    "\n",
    "        et_image_downscaled = times_100_to_int(et_image_downscaled)\n",
    "\n",
    "        date = ee.Date.fromYMD(int(year), m, j * 10 - 9)\n",
    "        et_image_downscaled = et_image_downscaled.set(\n",
    "            \"system:time_start\", date.millis()\n",
    "        )\n",
    "\n",
    "        task_name = f\"Thurgau_downscaled_WaPOR_dekadal{year}-{m:02d}_D{j}\"\n",
    "        asset_id = f\"projects/thurgau-irrigation/assets/Thurgau/ET_WaPOR_10m_dekadal_{year}/WaPOR_ET_downscaled_{year}-{m:02d}_D{j}\"\n",
    "\n",
    "        export_image_to_asset(et_image_downscaled, asset_id, task_name, year, aoi)\n",
    "\n",
    "\n",
    "scale = wapor_et_data.first().projection().nominalScale().getInfo()\n",
    "\n",
    "export_downscaled_images(\n",
    "    s2_indices, independent_vars, dependent_vars, aoi_buffered, YEAR, scale\n",
    ")"
   ]
  },
  {
   "cell_type": "markdown",
   "metadata": {},
   "source": [
    "## Visually validating the harmonic fit\n"
   ]
  },
  {
   "cell_type": "code",
   "execution_count": 15,
   "metadata": {},
   "outputs": [
    {
     "data": {
      "text/html": [
       "\n",
       "            <style>\n",
       "                .geemap-dark {\n",
       "                    --jp-widgets-color: white;\n",
       "                    --jp-widgets-label-color: white;\n",
       "                    --jp-ui-font-color1: white;\n",
       "                    --jp-layout-color2: #454545;\n",
       "                    background-color: #383838;\n",
       "                }\n",
       "\n",
       "                .geemap-dark .jupyter-button {\n",
       "                    --jp-layout-color3: #383838;\n",
       "                }\n",
       "\n",
       "                .geemap-colab {\n",
       "                    background-color: var(--colab-primary-surface-color, white);\n",
       "                }\n",
       "\n",
       "                .geemap-colab .jupyter-button {\n",
       "                    --jp-layout-color3: var(--colab-primary-surface-color, white);\n",
       "                }\n",
       "            </style>\n",
       "            "
      ],
      "text/plain": [
       "<IPython.core.display.HTML object>"
      ]
     },
     "metadata": {},
     "output_type": "display_data"
    }
   ],
   "source": [
    "# import matplotlib.pyplot as plt\n",
    "# import ee\n",
    "# import time\n",
    "\n",
    "# # Bands: ['B3', 'B4', 'B8', 'B11', 'B12', 'NDVI', 'NDWI', 'NDBI', 'fitted_NDVI', 'rmse_NDVI', 'fitted_NDWI', 'rmse_NDWI', 'fitted_NDBI', 'rmse_NDBI']\n",
    "\n",
    "# # Create a plot of the NDVI and fitted NDVI over all images. x axis: image index, y axis: NDVI value and fitted NDVI value\n",
    "# image_list = ee.List(s2_harmonized_gaps_filled.toList(36))\n",
    "\n",
    "\n",
    "# def get_NDVI_values(image):\n",
    "#     NDVI = (\n",
    "#         ee.Image(image)\n",
    "#         .select(\"NDVI\")\n",
    "#         .reduceRegion(\n",
    "#             reducer=ee.Reducer.first(), geometry=aoi_buffered, scale=10, maxPixels=1e8\n",
    "#         )\n",
    "#         .values()\n",
    "#         .get(0)\n",
    "#     )\n",
    "#     fitted_NDVI = (\n",
    "#         ee.Image(image)\n",
    "#         .select(\"fitted_NDVI\")\n",
    "#         .reduceRegion(\n",
    "#             reducer=ee.Reducer.first(), geometry=aoi_buffered, scale=10, maxPixels=1e8\n",
    "#         )\n",
    "#         .values()\n",
    "#         .get(0)\n",
    "#     )\n",
    "#     return ee.Feature(None, {\"NDVI\": NDVI, \"fitted_NDVI\": fitted_NDVI})\n",
    "\n",
    "\n",
    "# features = ee.FeatureCollection(image_list.map(get_NDVI_values))\n",
    "\n",
    "\n",
    "# # Function to get values in batches\n",
    "# def get_values_in_batches(collection, batch_size=10):\n",
    "#     all_values = []\n",
    "#     count = collection.size().getInfo()\n",
    "#     for i in range(0, count, batch_size):\n",
    "#         batch = collection.toList(batch_size, i)\n",
    "#         batch_values = ee.FeatureCollection(batch).getInfo()\n",
    "#         all_values.extend(batch_values[\"features\"])\n",
    "#         time.sleep(1)  # Add a small delay to avoid hitting rate limits\n",
    "#     return all_values\n",
    "\n",
    "\n",
    "# # Get values in batches\n",
    "# all_values = get_values_in_batches(features)"
   ]
  },
  {
   "cell_type": "code",
   "execution_count": 16,
   "metadata": {},
   "outputs": [
    {
     "data": {
      "text/html": [
       "\n",
       "            <style>\n",
       "                .geemap-dark {\n",
       "                    --jp-widgets-color: white;\n",
       "                    --jp-widgets-label-color: white;\n",
       "                    --jp-ui-font-color1: white;\n",
       "                    --jp-layout-color2: #454545;\n",
       "                    background-color: #383838;\n",
       "                }\n",
       "\n",
       "                .geemap-dark .jupyter-button {\n",
       "                    --jp-layout-color3: #383838;\n",
       "                }\n",
       "\n",
       "                .geemap-colab {\n",
       "                    background-color: var(--colab-primary-surface-color, white);\n",
       "                }\n",
       "\n",
       "                .geemap-colab .jupyter-button {\n",
       "                    --jp-layout-color3: var(--colab-primary-surface-color, white);\n",
       "                }\n",
       "            </style>\n",
       "            "
      ],
      "text/plain": [
       "<IPython.core.display.HTML object>"
      ]
     },
     "metadata": {},
     "output_type": "display_data"
    }
   ],
   "source": [
    "# # Extract NDVI and fitted NDVI values\n",
    "# NDVI_values = [feature.get(\"properties\").get(\"NDVI\") for feature in all_values]\n",
    "# fitted_NDVI_values = [feature.get(\"properties\").get(\"fitted_NDVI\") for feature in all_values]\n",
    "\n",
    "# # Create the plot\n",
    "# plt.figure(figsize=(12, 6))\n",
    "# plt.scatter(range(len(NDVI_values)), NDVI_values, label=\"NDVI\", color=\"green\")\n",
    "# plt.plot(\n",
    "#     range(len(fitted_NDVI_values)), fitted_NDVI_values, label=\"Fitted NDVI\", color=\"red\"\n",
    "# )\n",
    "\n",
    "# plt.title(\"NDVI and fitted NDVI over all images\")\n",
    "# plt.xlabel(\"Image index\")\n",
    "# plt.ylabel(\"NDVI\")\n",
    "# plt.legend()\n",
    "# plt.grid(True)\n",
    "\n",
    "# plt.show()"
   ]
  },
  {
   "cell_type": "code",
   "execution_count": 17,
   "metadata": {},
   "outputs": [
    {
     "data": {
      "text/html": [
       "\n",
       "            <style>\n",
       "                .geemap-dark {\n",
       "                    --jp-widgets-color: white;\n",
       "                    --jp-widgets-label-color: white;\n",
       "                    --jp-ui-font-color1: white;\n",
       "                    --jp-layout-color2: #454545;\n",
       "                    background-color: #383838;\n",
       "                }\n",
       "\n",
       "                .geemap-dark .jupyter-button {\n",
       "                    --jp-layout-color3: #383838;\n",
       "                }\n",
       "\n",
       "                .geemap-colab {\n",
       "                    background-color: var(--colab-primary-surface-color, white);\n",
       "                }\n",
       "\n",
       "                .geemap-colab .jupyter-button {\n",
       "                    --jp-layout-color3: var(--colab-primary-surface-color, white);\n",
       "                }\n",
       "            </style>\n",
       "            "
      ],
      "text/plain": [
       "<IPython.core.display.HTML object>"
      ]
     },
     "metadata": {},
     "output_type": "display_data"
    }
   ],
   "source": [
    "# Map = geemap.Map()\n",
    "\n",
    "\n",
    "# # Add the layer to the map.\n",
    "# image = ee.Image(s2_harmonized_gaps_filled.toList(36).get(20))\n",
    "# Map.centerObject(aoi_buffered, 13)\n",
    "# rmse_params = {\n",
    "#     \"bands\": [\"rmse_NDVI\"],\n",
    "#     \"min\": 0,\n",
    "#     \"max\": 0.5,\n",
    "#     \"palette\": [\"blue\", \"white\", \"red\"],\n",
    "# }\n",
    "# Map.addLayer(image, rmse_params, \"rmse\")\n",
    "# # NDVI_params = {'bands': ['NDVI'], 'min': 0, 'max': 1, 'palette': ['blue', 'white', 'green']}\n",
    "# # Map.addLayer(NDVI_image, NDVI_params, 'NDVI')\n",
    "# # fitted_NDVI_params = {'bands': ['fitted_NDVI'], 'min': 0, 'max': 1, 'palette': ['blue', 'white', 'green']}\n",
    "# # Map.addLayer(NDVI_image, fitted_NDVI_params, 'NDVI_fitted')\n",
    "\n",
    "\n",
    "# # Display the map.\n",
    "# Map"
   ]
  },
  {
   "cell_type": "code",
   "execution_count": null,
   "metadata": {},
   "outputs": [],
   "source": []
  },
  {
   "cell_type": "code",
   "execution_count": null,
   "metadata": {},
   "outputs": [],
   "source": []
  }
 ],
 "metadata": {
  "kernelspec": {
   "display_name": "base",
   "language": "python",
   "name": "python3"
  },
  "language_info": {
   "codemirror_mode": {
    "name": "ipython",
    "version": 3
   },
   "file_extension": ".py",
   "mimetype": "text/x-python",
   "name": "python",
   "nbconvert_exporter": "python",
   "pygments_lexer": "ipython3",
   "version": "3.11.8"
  }
 },
 "nbformat": 4,
 "nbformat_minor": 2
}
