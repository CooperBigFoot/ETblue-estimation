{
 "cells": [
  {
   "cell_type": "code",
   "execution_count": 1,
   "metadata": {},
   "outputs": [],
   "source": [
    "import sys\n",
    "import os\n",
    "\n",
    "# Add the parent directory of 'vegetation-period-NDVI' to the sys.path\n",
    "sys.path.append(os.path.abspath(os.path.join('..')))\n"
   ]
  },
  {
   "cell_type": "code",
   "execution_count": 2,
   "metadata": {},
   "outputs": [],
   "source": [
    "import ee\n",
    "import geemap\n",
    "from wapor_et_processing import load_wapor_et_data"
   ]
  },
  {
   "cell_type": "code",
   "execution_count": 3,
   "metadata": {},
   "outputs": [
    {
     "data": {
      "text/html": [
       "\n",
       "            <style>\n",
       "                .geemap-dark {\n",
       "                    --jp-widgets-color: white;\n",
       "                    --jp-widgets-label-color: white;\n",
       "                    --jp-ui-font-color1: white;\n",
       "                    --jp-layout-color2: #454545;\n",
       "                    background-color: #383838;\n",
       "                }\n",
       "\n",
       "                .geemap-dark .jupyter-button {\n",
       "                    --jp-layout-color3: #383838;\n",
       "                }\n",
       "\n",
       "                .geemap-colab {\n",
       "                    background-color: var(--colab-primary-surface-color, white);\n",
       "                }\n",
       "\n",
       "                .geemap-colab .jupyter-button {\n",
       "                    --jp-layout-color3: var(--colab-primary-surface-color, white);\n",
       "                }\n",
       "            </style>\n",
       "            "
      ],
      "text/plain": [
       "<IPython.core.display.HTML object>"
      ]
     },
     "metadata": {},
     "output_type": "display_data"
    }
   ],
   "source": [
    "ee.Initialize(project=\"thurgau-irrigation\")"
   ]
  },
  {
   "cell_type": "code",
   "execution_count": 11,
   "metadata": {},
   "outputs": [
    {
     "data": {
      "text/html": [
       "\n",
       "            <style>\n",
       "                .geemap-dark {\n",
       "                    --jp-widgets-color: white;\n",
       "                    --jp-widgets-label-color: white;\n",
       "                    --jp-ui-font-color1: white;\n",
       "                    --jp-layout-color2: #454545;\n",
       "                    background-color: #383838;\n",
       "                }\n",
       "\n",
       "                .geemap-dark .jupyter-button {\n",
       "                    --jp-layout-color3: #383838;\n",
       "                }\n",
       "\n",
       "                .geemap-colab {\n",
       "                    background-color: var(--colab-primary-surface-color, white);\n",
       "                }\n",
       "\n",
       "                .geemap-colab .jupyter-button {\n",
       "                    --jp-layout-color3: var(--colab-primary-surface-color, white);\n",
       "                }\n",
       "            </style>\n",
       "            "
      ],
      "text/plain": [
       "<IPython.core.display.HTML object>"
      ]
     },
     "metadata": {},
     "output_type": "display_data"
    },
    {
     "name": "stdout",
     "output_type": "stream",
     "text": [
      "{'type': 'ImageCollection', 'bands': [], 'features': [{'type': 'Image', 'bands': [{'id': 'ET', 'data_type': {'type': 'PixelType', 'precision': 'int', 'min': -2147483648, 'max': 2147483647}, 'crs': 'GEOGCS[\"WGS 84\", \\n  DATUM[\"World Geodetic System 1984\", \\n    SPHEROID[\"WGS 84\", 6378137.0, 298.257223563, AUTHORITY[\"EPSG\",\"7030\"]], \\n    AUTHORITY[\"EPSG\",\"6326\"]], \\n  PRIMEM[\"Greenwich\", 0.0, AUTHORITY[\"EPSG\",\"8901\"]], \\n  UNIT[\"degree\", 0.017453292519943295], \\n  AXIS[\"Geodetic longitude\", EAST], \\n  AXIS[\"Geodetic latitude\", NORTH], \\n  AUTHORITY[\"EPSG\",\"4326\"]]', 'crs_transform': [0.0029296875, 0, -180, 0, -0.0029296875, 90]}], 'properties': {'system:time_start': 1577836800000, 'Month': 1, 'Year': 2020, 'system:index': '1_0'}}, {'type': 'Image', 'bands': [{'id': 'ET', 'data_type': {'type': 'PixelType', 'precision': 'int', 'min': -2147483648, 'max': 2147483647}, 'crs': 'GEOGCS[\"WGS 84\", \\n  DATUM[\"World Geodetic System 1984\", \\n    SPHEROID[\"WGS 84\", 6378137.0, 298.257223563, AUTHORITY[\"EPSG\",\"7030\"]], \\n    AUTHORITY[\"EPSG\",\"6326\"]], \\n  PRIMEM[\"Greenwich\", 0.0, AUTHORITY[\"EPSG\",\"8901\"]], \\n  UNIT[\"degree\", 0.017453292519943295], \\n  AXIS[\"Geodetic longitude\", EAST], \\n  AXIS[\"Geodetic latitude\", NORTH], \\n  AUTHORITY[\"EPSG\",\"4326\"]]', 'crs_transform': [0.0029296875, 0, -180, 0, -0.0029296875, 90]}], 'properties': {'system:time_start': 1580515200000, 'Month': 2, 'Year': 2020, 'system:index': '1_1'}}, {'type': 'Image', 'bands': [{'id': 'ET', 'data_type': {'type': 'PixelType', 'precision': 'int', 'min': -2147483648, 'max': 2147483647}, 'crs': 'GEOGCS[\"WGS 84\", \\n  DATUM[\"World Geodetic System 1984\", \\n    SPHEROID[\"WGS 84\", 6378137.0, 298.257223563, AUTHORITY[\"EPSG\",\"7030\"]], \\n    AUTHORITY[\"EPSG\",\"6326\"]], \\n  PRIMEM[\"Greenwich\", 0.0, AUTHORITY[\"EPSG\",\"8901\"]], \\n  UNIT[\"degree\", 0.017453292519943295], \\n  AXIS[\"Geodetic longitude\", EAST], \\n  AXIS[\"Geodetic latitude\", NORTH], \\n  AUTHORITY[\"EPSG\",\"4326\"]]', 'crs_transform': [0.0029296875, 0, -180, 0, -0.0029296875, 90]}], 'properties': {'system:time_start': 1583020800000, 'Month': 3, 'Year': 2020, 'system:index': '1_2'}}, {'type': 'Image', 'bands': [{'id': 'ET', 'data_type': {'type': 'PixelType', 'precision': 'int', 'min': -2147483648, 'max': 2147483647}, 'crs': 'GEOGCS[\"WGS 84\", \\n  DATUM[\"World Geodetic System 1984\", \\n    SPHEROID[\"WGS 84\", 6378137.0, 298.257223563, AUTHORITY[\"EPSG\",\"7030\"]], \\n    AUTHORITY[\"EPSG\",\"6326\"]], \\n  PRIMEM[\"Greenwich\", 0.0, AUTHORITY[\"EPSG\",\"8901\"]], \\n  UNIT[\"degree\", 0.017453292519943295], \\n  AXIS[\"Geodetic longitude\", EAST], \\n  AXIS[\"Geodetic latitude\", NORTH], \\n  AUTHORITY[\"EPSG\",\"4326\"]]', 'crs_transform': [0.0029296875, 0, -180, 0, -0.0029296875, 90]}], 'properties': {'system:time_start': 1585699200000, 'Month': 4, 'Year': 2020, 'system:index': '1_3'}}, {'type': 'Image', 'bands': [{'id': 'ET', 'data_type': {'type': 'PixelType', 'precision': 'int', 'min': -2147483648, 'max': 2147483647}, 'crs': 'GEOGCS[\"WGS 84\", \\n  DATUM[\"World Geodetic System 1984\", \\n    SPHEROID[\"WGS 84\", 6378137.0, 298.257223563, AUTHORITY[\"EPSG\",\"7030\"]], \\n    AUTHORITY[\"EPSG\",\"6326\"]], \\n  PRIMEM[\"Greenwich\", 0.0, AUTHORITY[\"EPSG\",\"8901\"]], \\n  UNIT[\"degree\", 0.017453292519943295], \\n  AXIS[\"Geodetic longitude\", EAST], \\n  AXIS[\"Geodetic latitude\", NORTH], \\n  AUTHORITY[\"EPSG\",\"4326\"]]', 'crs_transform': [0.0029296875, 0, -180, 0, -0.0029296875, 90]}], 'properties': {'system:time_start': 1588291200000, 'Month': 5, 'Year': 2020, 'system:index': '1_4'}}, {'type': 'Image', 'bands': [{'id': 'ET', 'data_type': {'type': 'PixelType', 'precision': 'int', 'min': -2147483648, 'max': 2147483647}, 'crs': 'GEOGCS[\"WGS 84\", \\n  DATUM[\"World Geodetic System 1984\", \\n    SPHEROID[\"WGS 84\", 6378137.0, 298.257223563, AUTHORITY[\"EPSG\",\"7030\"]], \\n    AUTHORITY[\"EPSG\",\"6326\"]], \\n  PRIMEM[\"Greenwich\", 0.0, AUTHORITY[\"EPSG\",\"8901\"]], \\n  UNIT[\"degree\", 0.017453292519943295], \\n  AXIS[\"Geodetic longitude\", EAST], \\n  AXIS[\"Geodetic latitude\", NORTH], \\n  AUTHORITY[\"EPSG\",\"4326\"]]', 'crs_transform': [0.0029296875, 0, -180, 0, -0.0029296875, 90]}], 'properties': {'system:time_start': 1590969600000, 'Month': 6, 'Year': 2020, 'system:index': '1_5'}}, {'type': 'Image', 'bands': [{'id': 'ET', 'data_type': {'type': 'PixelType', 'precision': 'int', 'min': -2147483648, 'max': 2147483647}, 'crs': 'GEOGCS[\"WGS 84\", \\n  DATUM[\"World Geodetic System 1984\", \\n    SPHEROID[\"WGS 84\", 6378137.0, 298.257223563, AUTHORITY[\"EPSG\",\"7030\"]], \\n    AUTHORITY[\"EPSG\",\"6326\"]], \\n  PRIMEM[\"Greenwich\", 0.0, AUTHORITY[\"EPSG\",\"8901\"]], \\n  UNIT[\"degree\", 0.017453292519943295], \\n  AXIS[\"Geodetic longitude\", EAST], \\n  AXIS[\"Geodetic latitude\", NORTH], \\n  AUTHORITY[\"EPSG\",\"4326\"]]', 'crs_transform': [0.0029296875, 0, -180, 0, -0.0029296875, 90]}], 'properties': {'system:time_start': 1593561600000, 'Month': 7, 'Year': 2020, 'system:index': '1_6'}}, {'type': 'Image', 'bands': [{'id': 'ET', 'data_type': {'type': 'PixelType', 'precision': 'int', 'min': -2147483648, 'max': 2147483647}, 'crs': 'GEOGCS[\"WGS 84\", \\n  DATUM[\"World Geodetic System 1984\", \\n    SPHEROID[\"WGS 84\", 6378137.0, 298.257223563, AUTHORITY[\"EPSG\",\"7030\"]], \\n    AUTHORITY[\"EPSG\",\"6326\"]], \\n  PRIMEM[\"Greenwich\", 0.0, AUTHORITY[\"EPSG\",\"8901\"]], \\n  UNIT[\"degree\", 0.017453292519943295], \\n  AXIS[\"Geodetic longitude\", EAST], \\n  AXIS[\"Geodetic latitude\", NORTH], \\n  AUTHORITY[\"EPSG\",\"4326\"]]', 'crs_transform': [0.0029296875, 0, -180, 0, -0.0029296875, 90]}], 'properties': {'system:time_start': 1596240000000, 'Month': 8, 'Year': 2020, 'system:index': '1_7'}}, {'type': 'Image', 'bands': [{'id': 'ET', 'data_type': {'type': 'PixelType', 'precision': 'int', 'min': -2147483648, 'max': 2147483647}, 'crs': 'GEOGCS[\"WGS 84\", \\n  DATUM[\"World Geodetic System 1984\", \\n    SPHEROID[\"WGS 84\", 6378137.0, 298.257223563, AUTHORITY[\"EPSG\",\"7030\"]], \\n    AUTHORITY[\"EPSG\",\"6326\"]], \\n  PRIMEM[\"Greenwich\", 0.0, AUTHORITY[\"EPSG\",\"8901\"]], \\n  UNIT[\"degree\", 0.017453292519943295], \\n  AXIS[\"Geodetic longitude\", EAST], \\n  AXIS[\"Geodetic latitude\", NORTH], \\n  AUTHORITY[\"EPSG\",\"4326\"]]', 'crs_transform': [0.0029296875, 0, -180, 0, -0.0029296875, 90]}], 'properties': {'system:time_start': 1598918400000, 'Month': 9, 'Year': 2020, 'system:index': '1_8'}}, {'type': 'Image', 'bands': [{'id': 'ET', 'data_type': {'type': 'PixelType', 'precision': 'int', 'min': -2147483648, 'max': 2147483647}, 'crs': 'GEOGCS[\"WGS 84\", \\n  DATUM[\"World Geodetic System 1984\", \\n    SPHEROID[\"WGS 84\", 6378137.0, 298.257223563, AUTHORITY[\"EPSG\",\"7030\"]], \\n    AUTHORITY[\"EPSG\",\"6326\"]], \\n  PRIMEM[\"Greenwich\", 0.0, AUTHORITY[\"EPSG\",\"8901\"]], \\n  UNIT[\"degree\", 0.017453292519943295], \\n  AXIS[\"Geodetic longitude\", EAST], \\n  AXIS[\"Geodetic latitude\", NORTH], \\n  AUTHORITY[\"EPSG\",\"4326\"]]', 'crs_transform': [0.0029296875, 0, -180, 0, -0.0029296875, 90]}], 'properties': {'system:time_start': 1601510400000, 'Month': 10, 'Year': 2020, 'system:index': '1_9'}}, {'type': 'Image', 'bands': [{'id': 'ET', 'data_type': {'type': 'PixelType', 'precision': 'int', 'min': -2147483648, 'max': 2147483647}, 'crs': 'GEOGCS[\"WGS 84\", \\n  DATUM[\"World Geodetic System 1984\", \\n    SPHEROID[\"WGS 84\", 6378137.0, 298.257223563, AUTHORITY[\"EPSG\",\"7030\"]], \\n    AUTHORITY[\"EPSG\",\"6326\"]], \\n  PRIMEM[\"Greenwich\", 0.0, AUTHORITY[\"EPSG\",\"8901\"]], \\n  UNIT[\"degree\", 0.017453292519943295], \\n  AXIS[\"Geodetic longitude\", EAST], \\n  AXIS[\"Geodetic latitude\", NORTH], \\n  AUTHORITY[\"EPSG\",\"4326\"]]', 'crs_transform': [0.0029296875, 0, -180, 0, -0.0029296875, 90]}], 'properties': {'system:time_start': 1604188800000, 'Month': 11, 'Year': 2020, 'system:index': '1_10'}}, {'type': 'Image', 'bands': [{'id': 'ET', 'data_type': {'type': 'PixelType', 'precision': 'int', 'min': -2147483648, 'max': 2147483647}, 'crs': 'GEOGCS[\"WGS 84\", \\n  DATUM[\"World Geodetic System 1984\", \\n    SPHEROID[\"WGS 84\", 6378137.0, 298.257223563, AUTHORITY[\"EPSG\",\"7030\"]], \\n    AUTHORITY[\"EPSG\",\"6326\"]], \\n  PRIMEM[\"Greenwich\", 0.0, AUTHORITY[\"EPSG\",\"8901\"]], \\n  UNIT[\"degree\", 0.017453292519943295], \\n  AXIS[\"Geodetic longitude\", EAST], \\n  AXIS[\"Geodetic latitude\", NORTH], \\n  AUTHORITY[\"EPSG\",\"4326\"]]', 'crs_transform': [0.0029296875, 0, -180, 0, -0.0029296875, 90]}], 'properties': {'system:time_start': 1606780800000, 'Month': 12, 'Year': 2020, 'system:index': '1_11'}}, {'type': 'Image', 'bands': [{'id': 'ET', 'data_type': {'type': 'PixelType', 'precision': 'int', 'min': -2147483648, 'max': 2147483647}, 'crs': 'GEOGCS[\"WGS 84\", \\n  DATUM[\"World Geodetic System 1984\", \\n    SPHEROID[\"WGS 84\", 6378137.0, 298.257223563, AUTHORITY[\"EPSG\",\"7030\"]], \\n    AUTHORITY[\"EPSG\",\"6326\"]], \\n  PRIMEM[\"Greenwich\", 0.0, AUTHORITY[\"EPSG\",\"8901\"]], \\n  UNIT[\"degree\", 0.017453292519943295], \\n  AXIS[\"Geodetic longitude\", EAST], \\n  AXIS[\"Geodetic latitude\", NORTH], \\n  AUTHORITY[\"EPSG\",\"4326\"]]', 'crs_transform': [0.0029296875, 0, -180, 0, -0.0029296875, 90]}], 'properties': {'system:time_start': 1609459200000, 'Month': 1, 'Year': 2021, 'system:index': '1_12'}}, {'type': 'Image', 'bands': [{'id': 'ET', 'data_type': {'type': 'PixelType', 'precision': 'int', 'min': -2147483648, 'max': 2147483647}, 'crs': 'GEOGCS[\"WGS 84\", \\n  DATUM[\"World Geodetic System 1984\", \\n    SPHEROID[\"WGS 84\", 6378137.0, 298.257223563, AUTHORITY[\"EPSG\",\"7030\"]], \\n    AUTHORITY[\"EPSG\",\"6326\"]], \\n  PRIMEM[\"Greenwich\", 0.0, AUTHORITY[\"EPSG\",\"8901\"]], \\n  UNIT[\"degree\", 0.017453292519943295], \\n  AXIS[\"Geodetic longitude\", EAST], \\n  AXIS[\"Geodetic latitude\", NORTH], \\n  AUTHORITY[\"EPSG\",\"4326\"]]', 'crs_transform': [0.0029296875, 0, -180, 0, -0.0029296875, 90]}], 'properties': {'system:time_start': 1612137600000, 'Month': 2, 'Year': 2021, 'system:index': '1_13'}}, {'type': 'Image', 'bands': [{'id': 'ET', 'data_type': {'type': 'PixelType', 'precision': 'int', 'min': -2147483648, 'max': 2147483647}, 'crs': 'GEOGCS[\"WGS 84\", \\n  DATUM[\"World Geodetic System 1984\", \\n    SPHEROID[\"WGS 84\", 6378137.0, 298.257223563, AUTHORITY[\"EPSG\",\"7030\"]], \\n    AUTHORITY[\"EPSG\",\"6326\"]], \\n  PRIMEM[\"Greenwich\", 0.0, AUTHORITY[\"EPSG\",\"8901\"]], \\n  UNIT[\"degree\", 0.017453292519943295], \\n  AXIS[\"Geodetic longitude\", EAST], \\n  AXIS[\"Geodetic latitude\", NORTH], \\n  AUTHORITY[\"EPSG\",\"4326\"]]', 'crs_transform': [0.0029296875, 0, -180, 0, -0.0029296875, 90]}], 'properties': {'system:time_start': 1614556800000, 'Month': 3, 'Year': 2021, 'system:index': '1_14'}}, {'type': 'Image', 'bands': [{'id': 'ET', 'data_type': {'type': 'PixelType', 'precision': 'int', 'min': -2147483648, 'max': 2147483647}, 'crs': 'GEOGCS[\"WGS 84\", \\n  DATUM[\"World Geodetic System 1984\", \\n    SPHEROID[\"WGS 84\", 6378137.0, 298.257223563, AUTHORITY[\"EPSG\",\"7030\"]], \\n    AUTHORITY[\"EPSG\",\"6326\"]], \\n  PRIMEM[\"Greenwich\", 0.0, AUTHORITY[\"EPSG\",\"8901\"]], \\n  UNIT[\"degree\", 0.017453292519943295], \\n  AXIS[\"Geodetic longitude\", EAST], \\n  AXIS[\"Geodetic latitude\", NORTH], \\n  AUTHORITY[\"EPSG\",\"4326\"]]', 'crs_transform': [0.0029296875, 0, -180, 0, -0.0029296875, 90]}], 'properties': {'system:time_start': 1617235200000, 'Month': 4, 'Year': 2021, 'system:index': '1_15'}}, {'type': 'Image', 'bands': [{'id': 'ET', 'data_type': {'type': 'PixelType', 'precision': 'int', 'min': -2147483648, 'max': 2147483647}, 'crs': 'GEOGCS[\"WGS 84\", \\n  DATUM[\"World Geodetic System 1984\", \\n    SPHEROID[\"WGS 84\", 6378137.0, 298.257223563, AUTHORITY[\"EPSG\",\"7030\"]], \\n    AUTHORITY[\"EPSG\",\"6326\"]], \\n  PRIMEM[\"Greenwich\", 0.0, AUTHORITY[\"EPSG\",\"8901\"]], \\n  UNIT[\"degree\", 0.017453292519943295], \\n  AXIS[\"Geodetic longitude\", EAST], \\n  AXIS[\"Geodetic latitude\", NORTH], \\n  AUTHORITY[\"EPSG\",\"4326\"]]', 'crs_transform': [0.0029296875, 0, -180, 0, -0.0029296875, 90]}], 'properties': {'system:time_start': 1619827200000, 'Month': 5, 'Year': 2021, 'system:index': '1_16'}}, {'type': 'Image', 'bands': [{'id': 'ET', 'data_type': {'type': 'PixelType', 'precision': 'int', 'min': -2147483648, 'max': 2147483647}, 'crs': 'GEOGCS[\"WGS 84\", \\n  DATUM[\"World Geodetic System 1984\", \\n    SPHEROID[\"WGS 84\", 6378137.0, 298.257223563, AUTHORITY[\"EPSG\",\"7030\"]], \\n    AUTHORITY[\"EPSG\",\"6326\"]], \\n  PRIMEM[\"Greenwich\", 0.0, AUTHORITY[\"EPSG\",\"8901\"]], \\n  UNIT[\"degree\", 0.017453292519943295], \\n  AXIS[\"Geodetic longitude\", EAST], \\n  AXIS[\"Geodetic latitude\", NORTH], \\n  AUTHORITY[\"EPSG\",\"4326\"]]', 'crs_transform': [0.0029296875, 0, -180, 0, -0.0029296875, 90]}], 'properties': {'system:time_start': 1622505600000, 'Month': 6, 'Year': 2021, 'system:index': '1_17'}}, {'type': 'Image', 'bands': [{'id': 'ET', 'data_type': {'type': 'PixelType', 'precision': 'int', 'min': -2147483648, 'max': 2147483647}, 'crs': 'GEOGCS[\"WGS 84\", \\n  DATUM[\"World Geodetic System 1984\", \\n    SPHEROID[\"WGS 84\", 6378137.0, 298.257223563, AUTHORITY[\"EPSG\",\"7030\"]], \\n    AUTHORITY[\"EPSG\",\"6326\"]], \\n  PRIMEM[\"Greenwich\", 0.0, AUTHORITY[\"EPSG\",\"8901\"]], \\n  UNIT[\"degree\", 0.017453292519943295], \\n  AXIS[\"Geodetic longitude\", EAST], \\n  AXIS[\"Geodetic latitude\", NORTH], \\n  AUTHORITY[\"EPSG\",\"4326\"]]', 'crs_transform': [0.0029296875, 0, -180, 0, -0.0029296875, 90]}], 'properties': {'system:time_start': 1625097600000, 'Month': 7, 'Year': 2021, 'system:index': '1_18'}}, {'type': 'Image', 'bands': [{'id': 'ET', 'data_type': {'type': 'PixelType', 'precision': 'int', 'min': -2147483648, 'max': 2147483647}, 'crs': 'GEOGCS[\"WGS 84\", \\n  DATUM[\"World Geodetic System 1984\", \\n    SPHEROID[\"WGS 84\", 6378137.0, 298.257223563, AUTHORITY[\"EPSG\",\"7030\"]], \\n    AUTHORITY[\"EPSG\",\"6326\"]], \\n  PRIMEM[\"Greenwich\", 0.0, AUTHORITY[\"EPSG\",\"8901\"]], \\n  UNIT[\"degree\", 0.017453292519943295], \\n  AXIS[\"Geodetic longitude\", EAST], \\n  AXIS[\"Geodetic latitude\", NORTH], \\n  AUTHORITY[\"EPSG\",\"4326\"]]', 'crs_transform': [0.0029296875, 0, -180, 0, -0.0029296875, 90]}], 'properties': {'system:time_start': 1627776000000, 'Month': 8, 'Year': 2021, 'system:index': '1_19'}}, {'type': 'Image', 'bands': [{'id': 'ET', 'data_type': {'type': 'PixelType', 'precision': 'int', 'min': -2147483648, 'max': 2147483647}, 'crs': 'GEOGCS[\"WGS 84\", \\n  DATUM[\"World Geodetic System 1984\", \\n    SPHEROID[\"WGS 84\", 6378137.0, 298.257223563, AUTHORITY[\"EPSG\",\"7030\"]], \\n    AUTHORITY[\"EPSG\",\"6326\"]], \\n  PRIMEM[\"Greenwich\", 0.0, AUTHORITY[\"EPSG\",\"8901\"]], \\n  UNIT[\"degree\", 0.017453292519943295], \\n  AXIS[\"Geodetic longitude\", EAST], \\n  AXIS[\"Geodetic latitude\", NORTH], \\n  AUTHORITY[\"EPSG\",\"4326\"]]', 'crs_transform': [0.0029296875, 0, -180, 0, -0.0029296875, 90]}], 'properties': {'system:time_start': 1630454400000, 'Month': 9, 'Year': 2021, 'system:index': '1_20'}}, {'type': 'Image', 'bands': [{'id': 'ET', 'data_type': {'type': 'PixelType', 'precision': 'int', 'min': -2147483648, 'max': 2147483647}, 'crs': 'GEOGCS[\"WGS 84\", \\n  DATUM[\"World Geodetic System 1984\", \\n    SPHEROID[\"WGS 84\", 6378137.0, 298.257223563, AUTHORITY[\"EPSG\",\"7030\"]], \\n    AUTHORITY[\"EPSG\",\"6326\"]], \\n  PRIMEM[\"Greenwich\", 0.0, AUTHORITY[\"EPSG\",\"8901\"]], \\n  UNIT[\"degree\", 0.017453292519943295], \\n  AXIS[\"Geodetic longitude\", EAST], \\n  AXIS[\"Geodetic latitude\", NORTH], \\n  AUTHORITY[\"EPSG\",\"4326\"]]', 'crs_transform': [0.0029296875, 0, -180, 0, -0.0029296875, 90]}], 'properties': {'system:time_start': 1633046400000, 'Month': 10, 'Year': 2021, 'system:index': '1_21'}}, {'type': 'Image', 'bands': [{'id': 'ET', 'data_type': {'type': 'PixelType', 'precision': 'int', 'min': -2147483648, 'max': 2147483647}, 'crs': 'GEOGCS[\"WGS 84\", \\n  DATUM[\"World Geodetic System 1984\", \\n    SPHEROID[\"WGS 84\", 6378137.0, 298.257223563, AUTHORITY[\"EPSG\",\"7030\"]], \\n    AUTHORITY[\"EPSG\",\"6326\"]], \\n  PRIMEM[\"Greenwich\", 0.0, AUTHORITY[\"EPSG\",\"8901\"]], \\n  UNIT[\"degree\", 0.017453292519943295], \\n  AXIS[\"Geodetic longitude\", EAST], \\n  AXIS[\"Geodetic latitude\", NORTH], \\n  AUTHORITY[\"EPSG\",\"4326\"]]', 'crs_transform': [0.0029296875, 0, -180, 0, -0.0029296875, 90]}], 'properties': {'system:time_start': 1635724800000, 'Month': 11, 'Year': 2021, 'system:index': '1_22'}}, {'type': 'Image', 'bands': [{'id': 'ET', 'data_type': {'type': 'PixelType', 'precision': 'int', 'min': -2147483648, 'max': 2147483647}, 'crs': 'GEOGCS[\"WGS 84\", \\n  DATUM[\"World Geodetic System 1984\", \\n    SPHEROID[\"WGS 84\", 6378137.0, 298.257223563, AUTHORITY[\"EPSG\",\"7030\"]], \\n    AUTHORITY[\"EPSG\",\"6326\"]], \\n  PRIMEM[\"Greenwich\", 0.0, AUTHORITY[\"EPSG\",\"8901\"]], \\n  UNIT[\"degree\", 0.017453292519943295], \\n  AXIS[\"Geodetic longitude\", EAST], \\n  AXIS[\"Geodetic latitude\", NORTH], \\n  AUTHORITY[\"EPSG\",\"4326\"]]', 'crs_transform': [0.0029296875, 0, -180, 0, -0.0029296875, 90]}], 'properties': {'system:time_start': 1638316800000, 'Month': 12, 'Year': 2021, 'system:index': '1_23'}}, {'type': 'Image', 'bands': [{'id': 'ET', 'data_type': {'type': 'PixelType', 'precision': 'int', 'min': -2147483648, 'max': 2147483647}, 'crs': 'GEOGCS[\"WGS 84\", \\n  DATUM[\"World Geodetic System 1984\", \\n    SPHEROID[\"WGS 84\", 6378137.0, 298.257223563, AUTHORITY[\"EPSG\",\"7030\"]], \\n    AUTHORITY[\"EPSG\",\"6326\"]], \\n  PRIMEM[\"Greenwich\", 0.0, AUTHORITY[\"EPSG\",\"8901\"]], \\n  UNIT[\"degree\", 0.017453292519943295], \\n  AXIS[\"Geodetic longitude\", EAST], \\n  AXIS[\"Geodetic latitude\", NORTH], \\n  AUTHORITY[\"EPSG\",\"4326\"]]', 'crs_transform': [0.0029296875, 0, -180, 0, -0.0029296875, 90]}], 'properties': {'system:time_start': 1640995200000, 'Month': 1, 'Year': 2022, 'system:index': '2_0'}}, {'type': 'Image', 'bands': [{'id': 'ET', 'data_type': {'type': 'PixelType', 'precision': 'int', 'min': -2147483648, 'max': 2147483647}, 'crs': 'GEOGCS[\"WGS 84\", \\n  DATUM[\"World Geodetic System 1984\", \\n    SPHEROID[\"WGS 84\", 6378137.0, 298.257223563, AUTHORITY[\"EPSG\",\"7030\"]], \\n    AUTHORITY[\"EPSG\",\"6326\"]], \\n  PRIMEM[\"Greenwich\", 0.0, AUTHORITY[\"EPSG\",\"8901\"]], \\n  UNIT[\"degree\", 0.017453292519943295], \\n  AXIS[\"Geodetic longitude\", EAST], \\n  AXIS[\"Geodetic latitude\", NORTH], \\n  AUTHORITY[\"EPSG\",\"4326\"]]', 'crs_transform': [0.0029296875, 0, -180, 0, -0.0029296875, 90]}], 'properties': {'system:time_start': 1643673600000, 'Month': 2, 'Year': 2022, 'system:index': '2_1'}}, {'type': 'Image', 'bands': [{'id': 'ET', 'data_type': {'type': 'PixelType', 'precision': 'int', 'min': -2147483648, 'max': 2147483647}, 'crs': 'GEOGCS[\"WGS 84\", \\n  DATUM[\"World Geodetic System 1984\", \\n    SPHEROID[\"WGS 84\", 6378137.0, 298.257223563, AUTHORITY[\"EPSG\",\"7030\"]], \\n    AUTHORITY[\"EPSG\",\"6326\"]], \\n  PRIMEM[\"Greenwich\", 0.0, AUTHORITY[\"EPSG\",\"8901\"]], \\n  UNIT[\"degree\", 0.017453292519943295], \\n  AXIS[\"Geodetic longitude\", EAST], \\n  AXIS[\"Geodetic latitude\", NORTH], \\n  AUTHORITY[\"EPSG\",\"4326\"]]', 'crs_transform': [0.0029296875, 0, -180, 0, -0.0029296875, 90]}], 'properties': {'system:time_start': 1646092800000, 'Month': 3, 'Year': 2022, 'system:index': '2_2'}}, {'type': 'Image', 'bands': [{'id': 'ET', 'data_type': {'type': 'PixelType', 'precision': 'int', 'min': -2147483648, 'max': 2147483647}, 'crs': 'GEOGCS[\"WGS 84\", \\n  DATUM[\"World Geodetic System 1984\", \\n    SPHEROID[\"WGS 84\", 6378137.0, 298.257223563, AUTHORITY[\"EPSG\",\"7030\"]], \\n    AUTHORITY[\"EPSG\",\"6326\"]], \\n  PRIMEM[\"Greenwich\", 0.0, AUTHORITY[\"EPSG\",\"8901\"]], \\n  UNIT[\"degree\", 0.017453292519943295], \\n  AXIS[\"Geodetic longitude\", EAST], \\n  AXIS[\"Geodetic latitude\", NORTH], \\n  AUTHORITY[\"EPSG\",\"4326\"]]', 'crs_transform': [0.0029296875, 0, -180, 0, -0.0029296875, 90]}], 'properties': {'system:time_start': 1648771200000, 'Month': 4, 'Year': 2022, 'system:index': '2_3'}}, {'type': 'Image', 'bands': [{'id': 'ET', 'data_type': {'type': 'PixelType', 'precision': 'int', 'min': -2147483648, 'max': 2147483647}, 'crs': 'GEOGCS[\"WGS 84\", \\n  DATUM[\"World Geodetic System 1984\", \\n    SPHEROID[\"WGS 84\", 6378137.0, 298.257223563, AUTHORITY[\"EPSG\",\"7030\"]], \\n    AUTHORITY[\"EPSG\",\"6326\"]], \\n  PRIMEM[\"Greenwich\", 0.0, AUTHORITY[\"EPSG\",\"8901\"]], \\n  UNIT[\"degree\", 0.017453292519943295], \\n  AXIS[\"Geodetic longitude\", EAST], \\n  AXIS[\"Geodetic latitude\", NORTH], \\n  AUTHORITY[\"EPSG\",\"4326\"]]', 'crs_transform': [0.0029296875, 0, -180, 0, -0.0029296875, 90]}], 'properties': {'system:time_start': 1651363200000, 'Month': 5, 'Year': 2022, 'system:index': '2_4'}}, {'type': 'Image', 'bands': [{'id': 'ET', 'data_type': {'type': 'PixelType', 'precision': 'int', 'min': -2147483648, 'max': 2147483647}, 'crs': 'GEOGCS[\"WGS 84\", \\n  DATUM[\"World Geodetic System 1984\", \\n    SPHEROID[\"WGS 84\", 6378137.0, 298.257223563, AUTHORITY[\"EPSG\",\"7030\"]], \\n    AUTHORITY[\"EPSG\",\"6326\"]], \\n  PRIMEM[\"Greenwich\", 0.0, AUTHORITY[\"EPSG\",\"8901\"]], \\n  UNIT[\"degree\", 0.017453292519943295], \\n  AXIS[\"Geodetic longitude\", EAST], \\n  AXIS[\"Geodetic latitude\", NORTH], \\n  AUTHORITY[\"EPSG\",\"4326\"]]', 'crs_transform': [0.0029296875, 0, -180, 0, -0.0029296875, 90]}], 'properties': {'system:time_start': 1654041600000, 'Month': 6, 'Year': 2022, 'system:index': '2_5'}}]}\n"
     ]
    }
   ],
   "source": [
    "aoi = ee.Geometry.Polygon([[\n",
    "    [-122.275, 37.871],\n",
    "    [-122.275, 37.876],\n",
    "    [-122.270, 37.876],\n",
    "    [-122.270, 37.871]\n",
    "]])\n",
    "\n",
    "aoi_buffered = ee.FeatureCollection(aoi.buffer(1000))\n",
    "\n",
    "# Load WAPOR ET data\n",
    "first_year = 2020\n",
    "last_year = 2021\n",
    "wapor_et_data = load_wapor_et_data(first_year, last_year, aoi_buffered)\n",
    "\n",
    "# Print the result\n",
    "print(wapor_et_data.getInfo())"
   ]
  },
  {
   "cell_type": "code",
   "execution_count": 9,
   "metadata": {},
   "outputs": [
    {
     "data": {
      "text/html": [
       "\n",
       "            <style>\n",
       "                .geemap-dark {\n",
       "                    --jp-widgets-color: white;\n",
       "                    --jp-widgets-label-color: white;\n",
       "                    --jp-ui-font-color1: white;\n",
       "                    --jp-layout-color2: #454545;\n",
       "                    background-color: #383838;\n",
       "                }\n",
       "\n",
       "                .geemap-dark .jupyter-button {\n",
       "                    --jp-layout-color3: #383838;\n",
       "                }\n",
       "\n",
       "                .geemap-colab {\n",
       "                    background-color: var(--colab-primary-surface-color, white);\n",
       "                }\n",
       "\n",
       "                .geemap-colab .jupyter-button {\n",
       "                    --jp-layout-color3: var(--colab-primary-surface-color, white);\n",
       "                }\n",
       "            </style>\n",
       "            "
      ],
      "text/plain": [
       "<IPython.core.display.HTML object>"
      ]
     },
     "metadata": {},
     "output_type": "display_data"
    },
    {
     "ename": "EEException",
     "evalue": "Image.clipToCollection: Expected a feature collection to clip to.",
     "output_type": "error",
     "traceback": [
      "\u001b[0;31m---------------------------------------------------------------------------\u001b[0m",
      "\u001b[0;31mHttpError\u001b[0m                                 Traceback (most recent call last)",
      "File \u001b[0;32m/opt/anaconda3/lib/python3.11/site-packages/ee/data.py:406\u001b[0m, in \u001b[0;36m_execute_cloud_call\u001b[0;34m(call, num_retries)\u001b[0m\n\u001b[1;32m    405\u001b[0m \u001b[38;5;28;01mtry\u001b[39;00m:\n\u001b[0;32m--> 406\u001b[0m   \u001b[38;5;28;01mreturn\u001b[39;00m call\u001b[38;5;241m.\u001b[39mexecute(num_retries\u001b[38;5;241m=\u001b[39mnum_retries)\n\u001b[1;32m    407\u001b[0m \u001b[38;5;28;01mexcept\u001b[39;00m googleapiclient\u001b[38;5;241m.\u001b[39merrors\u001b[38;5;241m.\u001b[39mHttpError \u001b[38;5;28;01mas\u001b[39;00m e:\n",
      "File \u001b[0;32m/opt/anaconda3/lib/python3.11/site-packages/googleapiclient/_helpers.py:130\u001b[0m, in \u001b[0;36mpositional.<locals>.positional_decorator.<locals>.positional_wrapper\u001b[0;34m(*args, **kwargs)\u001b[0m\n\u001b[1;32m    129\u001b[0m         logger\u001b[38;5;241m.\u001b[39mwarning(message)\n\u001b[0;32m--> 130\u001b[0m \u001b[38;5;28;01mreturn\u001b[39;00m wrapped(\u001b[38;5;241m*\u001b[39margs, \u001b[38;5;241m*\u001b[39m\u001b[38;5;241m*\u001b[39mkwargs)\n",
      "File \u001b[0;32m/opt/anaconda3/lib/python3.11/site-packages/googleapiclient/http.py:938\u001b[0m, in \u001b[0;36mHttpRequest.execute\u001b[0;34m(self, http, num_retries)\u001b[0m\n\u001b[1;32m    937\u001b[0m \u001b[38;5;28;01mif\u001b[39;00m resp\u001b[38;5;241m.\u001b[39mstatus \u001b[38;5;241m>\u001b[39m\u001b[38;5;241m=\u001b[39m \u001b[38;5;241m300\u001b[39m:\n\u001b[0;32m--> 938\u001b[0m     \u001b[38;5;28;01mraise\u001b[39;00m HttpError(resp, content, uri\u001b[38;5;241m=\u001b[39m\u001b[38;5;28mself\u001b[39m\u001b[38;5;241m.\u001b[39muri)\n\u001b[1;32m    939\u001b[0m \u001b[38;5;28;01mreturn\u001b[39;00m \u001b[38;5;28mself\u001b[39m\u001b[38;5;241m.\u001b[39mpostproc(resp, content)\n",
      "\u001b[0;31mHttpError\u001b[0m: <HttpError 400 when requesting https://earthengine.googleapis.com/v1/projects/thurgau-irrigation/maps?fields=name&alt=json returned \"Image.clipToCollection: Expected a feature collection to clip to.\". Details: \"Image.clipToCollection: Expected a feature collection to clip to.\">",
      "\nDuring handling of the above exception, another exception occurred:\n",
      "\u001b[0;31mEEException\u001b[0m                               Traceback (most recent call last)",
      "Cell \u001b[0;32mIn[9], line 8\u001b[0m\n\u001b[1;32m      6\u001b[0m Map\u001b[38;5;241m.\u001b[39mcenterObject(aoi_buffered, \u001b[38;5;241m13\u001b[39m)\n\u001b[1;32m      7\u001b[0m ET_params \u001b[38;5;241m=\u001b[39m {\u001b[38;5;124m'\u001b[39m\u001b[38;5;124mbands\u001b[39m\u001b[38;5;124m'\u001b[39m: [\u001b[38;5;124m'\u001b[39m\u001b[38;5;124mET\u001b[39m\u001b[38;5;124m'\u001b[39m], \u001b[38;5;124m'\u001b[39m\u001b[38;5;124mmin\u001b[39m\u001b[38;5;124m'\u001b[39m: \u001b[38;5;241m0\u001b[39m, \u001b[38;5;124m'\u001b[39m\u001b[38;5;124mmax\u001b[39m\u001b[38;5;124m'\u001b[39m: \u001b[38;5;241m10\u001b[39m, \u001b[38;5;124m'\u001b[39m\u001b[38;5;124mpalette\u001b[39m\u001b[38;5;124m'\u001b[39m: [\u001b[38;5;124m'\u001b[39m\u001b[38;5;124mblue\u001b[39m\u001b[38;5;124m'\u001b[39m, \u001b[38;5;124m'\u001b[39m\u001b[38;5;124mwhite\u001b[39m\u001b[38;5;124m'\u001b[39m, \u001b[38;5;124m'\u001b[39m\u001b[38;5;124mgreen\u001b[39m\u001b[38;5;124m'\u001b[39m]}\n\u001b[0;32m----> 8\u001b[0m Map\u001b[38;5;241m.\u001b[39maddLayer(et_image, ET_params, \u001b[38;5;124m'\u001b[39m\u001b[38;5;124mET\u001b[39m\u001b[38;5;124m'\u001b[39m)\n\u001b[1;32m     11\u001b[0m \u001b[38;5;66;03m# Display the map.\u001b[39;00m\n\u001b[1;32m     12\u001b[0m Map\n",
      "File \u001b[0;32m/opt/anaconda3/lib/python3.11/site-packages/geemap/geemap.py:334\u001b[0m, in \u001b[0;36mMap.add_ee_layer\u001b[0;34m(self, ee_object, vis_params, name, shown, opacity)\u001b[0m\n\u001b[1;32m    329\u001b[0m         \u001b[38;5;28;01mif\u001b[39;00m has_plot_dropdown:\n\u001b[1;32m    330\u001b[0m             \u001b[38;5;28mself\u001b[39m\u001b[38;5;241m.\u001b[39m_plot_dropdown_widget\u001b[38;5;241m.\u001b[39moptions \u001b[38;5;241m=\u001b[39m \u001b[38;5;28mlist\u001b[39m(\n\u001b[1;32m    331\u001b[0m                 \u001b[38;5;28mself\u001b[39m\u001b[38;5;241m.\u001b[39mee_raster_layers\u001b[38;5;241m.\u001b[39mkeys()\n\u001b[1;32m    332\u001b[0m             )\n\u001b[0;32m--> 334\u001b[0m \u001b[38;5;28msuper\u001b[39m()\u001b[38;5;241m.\u001b[39madd_layer(ee_object, vis_params, name, shown, opacity)\n\u001b[1;32m    336\u001b[0m \u001b[38;5;28;01mif\u001b[39;00m \u001b[38;5;28misinstance\u001b[39m(ee_object, (ee\u001b[38;5;241m.\u001b[39mImage, ee\u001b[38;5;241m.\u001b[39mImageCollection)):\n\u001b[1;32m    337\u001b[0m     \u001b[38;5;28;01mif\u001b[39;00m has_plot_dropdown:\n",
      "File \u001b[0;32m/opt/anaconda3/lib/python3.11/site-packages/geemap/core.py:796\u001b[0m, in \u001b[0;36mMap.add_layer\u001b[0;34m(self, ee_object, vis_params, name, shown, opacity)\u001b[0m\n\u001b[1;32m    794\u001b[0m \u001b[38;5;28;01mif\u001b[39;00m \u001b[38;5;28misinstance\u001b[39m(ee_object, ee\u001b[38;5;241m.\u001b[39mImageCollection):\n\u001b[1;32m    795\u001b[0m     ee_object \u001b[38;5;241m=\u001b[39m ee_object\u001b[38;5;241m.\u001b[39mmosaic()\n\u001b[0;32m--> 796\u001b[0m tile_layer \u001b[38;5;241m=\u001b[39m ee_tile_layers\u001b[38;5;241m.\u001b[39mEELeafletTileLayer(\n\u001b[1;32m    797\u001b[0m     ee_object, vis_params, name, shown, opacity\n\u001b[1;32m    798\u001b[0m )\n\u001b[1;32m    800\u001b[0m \u001b[38;5;66;03m# Remove the layer if it already exists.\u001b[39;00m\n\u001b[1;32m    801\u001b[0m \u001b[38;5;28mself\u001b[39m\u001b[38;5;241m.\u001b[39mremove(name)\n",
      "File \u001b[0;32m/opt/anaconda3/lib/python3.11/site-packages/geemap/ee_tile_layers.py:144\u001b[0m, in \u001b[0;36mEELeafletTileLayer.__init__\u001b[0;34m(self, ee_object, vis_params, name, shown, opacity, **kwargs)\u001b[0m\n\u001b[1;32m    134\u001b[0m \u001b[38;5;250m\u001b[39m\u001b[38;5;124;03m\"\"\"Initialize the ipyleaflet tile layer.\u001b[39;00m\n\u001b[1;32m    135\u001b[0m \n\u001b[1;32m    136\u001b[0m \u001b[38;5;124;03mArgs:\u001b[39;00m\n\u001b[0;32m   (...)\u001b[0m\n\u001b[1;32m    141\u001b[0m \u001b[38;5;124;03m    opacity (float, optional): The layer's opacity represented as a number between 0 and 1. Defaults to 1.\u001b[39;00m\n\u001b[1;32m    142\u001b[0m \u001b[38;5;124;03m\"\"\"\u001b[39;00m\n\u001b[1;32m    143\u001b[0m \u001b[38;5;28mself\u001b[39m\u001b[38;5;241m.\u001b[39m_ee_object \u001b[38;5;241m=\u001b[39m ee_object\n\u001b[0;32m--> 144\u001b[0m \u001b[38;5;28mself\u001b[39m\u001b[38;5;241m.\u001b[39murl_format \u001b[38;5;241m=\u001b[39m _get_tile_url_format(\n\u001b[1;32m    145\u001b[0m     ee_object, _validate_vis_params(vis_params)\n\u001b[1;32m    146\u001b[0m )\n\u001b[1;32m    147\u001b[0m \u001b[38;5;28msuper\u001b[39m()\u001b[38;5;241m.\u001b[39m\u001b[38;5;21m__init__\u001b[39m(\n\u001b[1;32m    148\u001b[0m     url\u001b[38;5;241m=\u001b[39m\u001b[38;5;28mself\u001b[39m\u001b[38;5;241m.\u001b[39murl_format,\n\u001b[1;32m    149\u001b[0m     attribution\u001b[38;5;241m=\u001b[39m\u001b[38;5;124m\"\u001b[39m\u001b[38;5;124mGoogle Earth Engine\u001b[39m\u001b[38;5;124m\"\u001b[39m,\n\u001b[0;32m   (...)\u001b[0m\n\u001b[1;32m    154\u001b[0m     \u001b[38;5;241m*\u001b[39m\u001b[38;5;241m*\u001b[39mkwargs,\n\u001b[1;32m    155\u001b[0m )\n",
      "File \u001b[0;32m/opt/anaconda3/lib/python3.11/site-packages/geemap/ee_tile_layers.py:19\u001b[0m, in \u001b[0;36m_get_tile_url_format\u001b[0;34m(ee_object, vis_params)\u001b[0m\n\u001b[1;32m     17\u001b[0m \u001b[38;5;28;01mdef\u001b[39;00m \u001b[38;5;21m_get_tile_url_format\u001b[39m(ee_object, vis_params):\n\u001b[1;32m     18\u001b[0m     image \u001b[38;5;241m=\u001b[39m _ee_object_to_image(ee_object, vis_params)\n\u001b[0;32m---> 19\u001b[0m     map_id_dict \u001b[38;5;241m=\u001b[39m ee\u001b[38;5;241m.\u001b[39mImage(image)\u001b[38;5;241m.\u001b[39mgetMapId(vis_params)\n\u001b[1;32m     20\u001b[0m     \u001b[38;5;28;01mreturn\u001b[39;00m map_id_dict[\u001b[38;5;124m\"\u001b[39m\u001b[38;5;124mtile_fetcher\u001b[39m\u001b[38;5;124m\"\u001b[39m]\u001b[38;5;241m.\u001b[39murl_format\n",
      "File \u001b[0;32m/opt/anaconda3/lib/python3.11/site-packages/ee/image.py:156\u001b[0m, in \u001b[0;36mImage.getMapId\u001b[0;34m(self, vis_params)\u001b[0m\n\u001b[1;32m    154\u001b[0m vis_image, request \u001b[38;5;241m=\u001b[39m \u001b[38;5;28mself\u001b[39m\u001b[38;5;241m.\u001b[39m_apply_visualization(vis_params)\n\u001b[1;32m    155\u001b[0m request[\u001b[38;5;124m'\u001b[39m\u001b[38;5;124mimage\u001b[39m\u001b[38;5;124m'\u001b[39m] \u001b[38;5;241m=\u001b[39m vis_image\n\u001b[0;32m--> 156\u001b[0m response \u001b[38;5;241m=\u001b[39m data\u001b[38;5;241m.\u001b[39mgetMapId(request)\n\u001b[1;32m    157\u001b[0m response[\u001b[38;5;124m'\u001b[39m\u001b[38;5;124mimage\u001b[39m\u001b[38;5;124m'\u001b[39m] \u001b[38;5;241m=\u001b[39m \u001b[38;5;28mself\u001b[39m\n\u001b[1;32m    158\u001b[0m \u001b[38;5;28;01mreturn\u001b[39;00m response\n",
      "File \u001b[0;32m/opt/anaconda3/lib/python3.11/site-packages/ee/data.py:748\u001b[0m, in \u001b[0;36mgetMapId\u001b[0;34m(params)\u001b[0m\n\u001b[1;32m    743\u001b[0m queryParams \u001b[38;5;241m=\u001b[39m {\n\u001b[1;32m    744\u001b[0m     \u001b[38;5;124m'\u001b[39m\u001b[38;5;124mfields\u001b[39m\u001b[38;5;124m'\u001b[39m: \u001b[38;5;124m'\u001b[39m\u001b[38;5;124mname\u001b[39m\u001b[38;5;124m'\u001b[39m,\n\u001b[1;32m    745\u001b[0m     \u001b[38;5;124m'\u001b[39m\u001b[38;5;124mbody\u001b[39m\u001b[38;5;124m'\u001b[39m: request,\n\u001b[1;32m    746\u001b[0m }\n\u001b[1;32m    747\u001b[0m _maybe_populate_workload_tag(queryParams)\n\u001b[0;32m--> 748\u001b[0m result \u001b[38;5;241m=\u001b[39m _execute_cloud_call(\n\u001b[1;32m    749\u001b[0m     _get_cloud_projects()\n\u001b[1;32m    750\u001b[0m     \u001b[38;5;241m.\u001b[39mmaps()\n\u001b[1;32m    751\u001b[0m     \u001b[38;5;241m.\u001b[39mcreate(parent\u001b[38;5;241m=\u001b[39m_get_projects_path(), \u001b[38;5;241m*\u001b[39m\u001b[38;5;241m*\u001b[39mqueryParams)\n\u001b[1;32m    752\u001b[0m )\n\u001b[1;32m    753\u001b[0m map_name \u001b[38;5;241m=\u001b[39m result[\u001b[38;5;124m'\u001b[39m\u001b[38;5;124mname\u001b[39m\u001b[38;5;124m'\u001b[39m]\n\u001b[1;32m    754\u001b[0m url_format \u001b[38;5;241m=\u001b[39m \u001b[38;5;124m'\u001b[39m\u001b[38;5;132;01m%s\u001b[39;00m\u001b[38;5;124m/\u001b[39m\u001b[38;5;132;01m%s\u001b[39;00m\u001b[38;5;124m/\u001b[39m\u001b[38;5;132;01m%s\u001b[39;00m\u001b[38;5;124m/tiles/\u001b[39m\u001b[38;5;132;01m{z}\u001b[39;00m\u001b[38;5;124m/\u001b[39m\u001b[38;5;132;01m{x}\u001b[39;00m\u001b[38;5;124m/\u001b[39m\u001b[38;5;132;01m{y}\u001b[39;00m\u001b[38;5;124m'\u001b[39m \u001b[38;5;241m%\u001b[39m (\n\u001b[1;32m    755\u001b[0m     _tile_base_url, _cloud_api_utils\u001b[38;5;241m.\u001b[39mVERSION, map_name)\n",
      "File \u001b[0;32m/opt/anaconda3/lib/python3.11/site-packages/ee/data.py:408\u001b[0m, in \u001b[0;36m_execute_cloud_call\u001b[0;34m(call, num_retries)\u001b[0m\n\u001b[1;32m    406\u001b[0m   \u001b[38;5;28;01mreturn\u001b[39;00m call\u001b[38;5;241m.\u001b[39mexecute(num_retries\u001b[38;5;241m=\u001b[39mnum_retries)\n\u001b[1;32m    407\u001b[0m \u001b[38;5;28;01mexcept\u001b[39;00m googleapiclient\u001b[38;5;241m.\u001b[39merrors\u001b[38;5;241m.\u001b[39mHttpError \u001b[38;5;28;01mas\u001b[39;00m e:\n\u001b[0;32m--> 408\u001b[0m   \u001b[38;5;28;01mraise\u001b[39;00m _translate_cloud_exception(e)\n",
      "\u001b[0;31mEEException\u001b[0m: Image.clipToCollection: Expected a feature collection to clip to."
     ]
    }
   ],
   "source": [
    "Map = geemap.Map()\n",
    "\n",
    "\n",
    "# Add the layer to the map.\n",
    "et_image = ee.Image(wapor_et_data.first())\n",
    "Map.centerObject(aoi_buffered, 13)\n",
    "ET_params = {'bands': ['ET'], 'min': 0, 'max': 10, 'palette': ['blue', 'white', 'green']}\n",
    "Map.addLayer(et_image, ET_params, 'ET')\n",
    "\n",
    "\n",
    "# Display the map.\n",
    "Map"
   ]
  },
  {
   "cell_type": "code",
   "execution_count": null,
   "metadata": {},
   "outputs": [],
   "source": []
  }
 ],
 "metadata": {
  "kernelspec": {
   "display_name": "base",
   "language": "python",
   "name": "python3"
  },
  "language_info": {
   "codemirror_mode": {
    "name": "ipython",
    "version": 3
   },
   "file_extension": ".py",
   "mimetype": "text/x-python",
   "name": "python",
   "nbconvert_exporter": "python",
   "pygments_lexer": "ipython3",
   "version": "3.11.8"
  }
 },
 "nbformat": 4,
 "nbformat_minor": 2
}
