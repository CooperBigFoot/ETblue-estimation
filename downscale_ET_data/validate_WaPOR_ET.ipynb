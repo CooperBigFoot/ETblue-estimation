{
 "cells": [
  {
   "cell_type": "code",
   "execution_count": 1,
   "metadata": {},
   "outputs": [],
   "source": [
    "import sys\n",
    "import os\n",
    "\n",
    "sys.path.append(os.path.abspath(os.path.join(\"..\")))"
   ]
  },
  {
   "cell_type": "code",
   "execution_count": 2,
   "metadata": {},
   "outputs": [],
   "source": [
    "import pandas as pd\n",
    "import numpy as np\n",
    "import matplotlib.pyplot as plt\n",
    "import ee\n",
    "import geemap \n",
    "import seaborn as sns\n",
    "from datetime import datetime\n",
    "from typing import List, Tuple, Dict\n",
    "import matplotlib as mpl\n",
    "import matplotlib.patches as mpatches\n",
    "from scipy import stats\n",
    "\n",
    "\n",
    "from validate_dowscaled_et import prepare_data_for_plotting\n",
    "from utils.plot_config import set_plot_style\n",
    "from time_series_metrics import calculate_metrics\n",
    "\n",
    "from utils import date_utils, ee_utils, data_utils\n",
    "\n",
    "import re\n",
    "\n",
    "import warnings\n",
    "warnings.filterwarnings(\"ignore\")"
   ]
  },
  {
   "cell_type": "code",
   "execution_count": 3,
   "metadata": {},
   "outputs": [
    {
     "data": {
      "text/html": [
       "\n",
       "            <style>\n",
       "                .geemap-dark {\n",
       "                    --jp-widgets-color: white;\n",
       "                    --jp-widgets-label-color: white;\n",
       "                    --jp-ui-font-color1: white;\n",
       "                    --jp-layout-color2: #454545;\n",
       "                    background-color: #383838;\n",
       "                }\n",
       "\n",
       "                .geemap-dark .jupyter-button {\n",
       "                    --jp-layout-color3: #383838;\n",
       "                }\n",
       "\n",
       "                .geemap-colab {\n",
       "                    background-color: var(--colab-primary-surface-color, white);\n",
       "                }\n",
       "\n",
       "                .geemap-colab .jupyter-button {\n",
       "                    --jp-layout-color3: var(--colab-primary-surface-color, white);\n",
       "                }\n",
       "            </style>\n",
       "            "
      ],
      "text/plain": [
       "<IPython.core.display.HTML object>"
      ]
     },
     "metadata": {},
     "output_type": "display_data"
    }
   ],
   "source": [
    "ee.Initialize(project=\"thurgau-irrigation\")"
   ]
  },
  {
   "cell_type": "markdown",
   "metadata": {},
   "source": [
    "### Import validation data and WaPOR ET data"
   ]
  },
  {
   "cell_type": "code",
   "execution_count": 4,
   "metadata": {},
   "outputs": [
    {
     "data": {
      "text/html": [
       "\n",
       "            <style>\n",
       "                .geemap-dark {\n",
       "                    --jp-widgets-color: white;\n",
       "                    --jp-widgets-label-color: white;\n",
       "                    --jp-ui-font-color1: white;\n",
       "                    --jp-layout-color2: #454545;\n",
       "                    background-color: #383838;\n",
       "                }\n",
       "\n",
       "                .geemap-dark .jupyter-button {\n",
       "                    --jp-layout-color3: #383838;\n",
       "                }\n",
       "\n",
       "                .geemap-colab {\n",
       "                    background-color: var(--colab-primary-surface-color, white);\n",
       "                }\n",
       "\n",
       "                .geemap-colab .jupyter-button {\n",
       "                    --jp-layout-color3: var(--colab-primary-surface-color, white);\n",
       "                }\n",
       "            </style>\n",
       "            "
      ],
      "text/plain": [
       "<IPython.core.display.HTML object>"
      ]
     },
     "metadata": {},
     "output_type": "display_data"
    }
   ],
   "source": [
    "years_to_process = [2020]\n",
    "\n",
    "asset_name = \"projects/thurgau-irrigation/assets/Thurgau/ET_WaPOR_10m_dekadal_test_refactor\"\n",
    "et_collection = ee_utils.merge_collections(years_to_process, asset_name)\n",
    "dates_for_validation = date_utils.store_collection_dates(et_collection)"
   ]
  },
  {
   "cell_type": "code",
   "execution_count": 5,
   "metadata": {},
   "outputs": [
    {
     "data": {
      "text/html": [
       "\n",
       "            <style>\n",
       "                .geemap-dark {\n",
       "                    --jp-widgets-color: white;\n",
       "                    --jp-widgets-label-color: white;\n",
       "                    --jp-ui-font-color1: white;\n",
       "                    --jp-layout-color2: #454545;\n",
       "                    background-color: #383838;\n",
       "                }\n",
       "\n",
       "                .geemap-dark .jupyter-button {\n",
       "                    --jp-layout-color3: #383838;\n",
       "                }\n",
       "\n",
       "                .geemap-colab {\n",
       "                    background-color: var(--colab-primary-surface-color, white);\n",
       "                }\n",
       "\n",
       "                .geemap-colab .jupyter-button {\n",
       "                    --jp-layout-color3: var(--colab-primary-surface-color, white);\n",
       "                }\n",
       "            </style>\n",
       "            "
      ],
      "text/plain": [
       "<IPython.core.display.HTML object>"
      ]
     },
     "metadata": {},
     "output_type": "display_data"
    }
   ],
   "source": [
    "# image_id = \"2_WaPOR_ET_downscaled_2021-02_D2\"\n",
    "# date_str = \"2021-02-11\"\n",
    "\n",
    "# updated_et_collection = date_utils.update_image_timestamp(et_collection, image_id, date_str)\n",
    "# et_collection = updated_et_collection"
   ]
  },
  {
   "cell_type": "code",
   "execution_count": 6,
   "metadata": {},
   "outputs": [
    {
     "data": {
      "text/html": [
       "\n",
       "            <style>\n",
       "                .geemap-dark {\n",
       "                    --jp-widgets-color: white;\n",
       "                    --jp-widgets-label-color: white;\n",
       "                    --jp-ui-font-color1: white;\n",
       "                    --jp-layout-color2: #454545;\n",
       "                    background-color: #383838;\n",
       "                }\n",
       "\n",
       "                .geemap-dark .jupyter-button {\n",
       "                    --jp-layout-color3: #383838;\n",
       "                }\n",
       "\n",
       "                .geemap-colab {\n",
       "                    background-color: var(--colab-primary-surface-color, white);\n",
       "                }\n",
       "\n",
       "                .geemap-colab .jupyter-button {\n",
       "                    --jp-layout-color3: var(--colab-primary-surface-color, white);\n",
       "                }\n",
       "            </style>\n",
       "            "
      ],
      "text/plain": [
       "<IPython.core.display.HTML object>"
      ]
     },
     "metadata": {},
     "output_type": "display_data"
    },
    {
     "data": {
      "text/plain": [
       "['system:time_start',\n",
       " 'system:footprint',\n",
       " 'system:version',\n",
       " 'system:id',\n",
       " 'system:asset_size',\n",
       " 'system:index',\n",
       " 'system:bands',\n",
       " 'system:band_names']"
      ]
     },
     "execution_count": 6,
     "metadata": {},
     "output_type": "execute_result"
    }
   ],
   "source": [
    "et_collection.first().propertyNames().getInfo()"
   ]
  },
  {
   "cell_type": "code",
   "execution_count": 7,
   "metadata": {},
   "outputs": [
    {
     "data": {
      "text/html": [
       "\n",
       "            <style>\n",
       "                .geemap-dark {\n",
       "                    --jp-widgets-color: white;\n",
       "                    --jp-widgets-label-color: white;\n",
       "                    --jp-ui-font-color1: white;\n",
       "                    --jp-layout-color2: #454545;\n",
       "                    background-color: #383838;\n",
       "                }\n",
       "\n",
       "                .geemap-dark .jupyter-button {\n",
       "                    --jp-layout-color3: #383838;\n",
       "                }\n",
       "\n",
       "                .geemap-colab {\n",
       "                    background-color: var(--colab-primary-surface-color, white);\n",
       "                }\n",
       "\n",
       "                .geemap-colab .jupyter-button {\n",
       "                    --jp-layout-color3: var(--colab-primary-surface-color, white);\n",
       "                }\n",
       "            </style>\n",
       "            "
      ],
      "text/plain": [
       "<IPython.core.display.HTML object>"
      ]
     },
     "metadata": {},
     "output_type": "display_data"
    }
   ],
   "source": [
    "# # Fix image with missing date\n",
    "# image_id = \"2_WaPOR_ET_downscaled_2021-02_D2\"\n",
    "# image = et_collection.filter(ee.Filter.eq('system:index', image_id)).first()\n",
    "\n",
    "# date_str = \"2021-02-11\"\n",
    "# date = datetime.strptime(date_str, \"%Y-%m-%d\")\n",
    "\n",
    "# image_with_date = image.set(\"system:time_start\", date.timestamp() * 1000)\n",
    "# image_with_date.date().getInfo()"
   ]
  },
  {
   "cell_type": "markdown",
   "metadata": {},
   "source": [
    "## Rietholzbach"
   ]
  },
  {
   "cell_type": "code",
   "execution_count": 8,
   "metadata": {},
   "outputs": [
    {
     "data": {
      "text/html": [
       "\n",
       "            <style>\n",
       "                .geemap-dark {\n",
       "                    --jp-widgets-color: white;\n",
       "                    --jp-widgets-label-color: white;\n",
       "                    --jp-ui-font-color1: white;\n",
       "                    --jp-layout-color2: #454545;\n",
       "                    background-color: #383838;\n",
       "                }\n",
       "\n",
       "                .geemap-dark .jupyter-button {\n",
       "                    --jp-layout-color3: #383838;\n",
       "                }\n",
       "\n",
       "                .geemap-colab {\n",
       "                    background-color: var(--colab-primary-surface-color, white);\n",
       "                }\n",
       "\n",
       "                .geemap-colab .jupyter-button {\n",
       "                    --jp-layout-color3: var(--colab-primary-surface-color, white);\n",
       "                }\n",
       "            </style>\n",
       "            "
      ],
      "text/plain": [
       "<IPython.core.display.HTML object>"
      ]
     },
     "metadata": {},
     "output_type": "display_data"
    }
   ],
   "source": [
    "rietholzbach_validation_et_collection = ee.FeatureCollection(\"projects/thurgau-irrigation/assets/Thurgau/ETFluxNet/ET_timeseries_rietholzbach_2017_2021\").sort(\"system:time_start\")"
   ]
  },
  {
   "cell_type": "code",
   "execution_count": 9,
   "metadata": {},
   "outputs": [
    {
     "data": {
      "text/html": [
       "\n",
       "            <style>\n",
       "                .geemap-dark {\n",
       "                    --jp-widgets-color: white;\n",
       "                    --jp-widgets-label-color: white;\n",
       "                    --jp-ui-font-color1: white;\n",
       "                    --jp-layout-color2: #454545;\n",
       "                    background-color: #383838;\n",
       "                }\n",
       "\n",
       "                .geemap-dark .jupyter-button {\n",
       "                    --jp-layout-color3: #383838;\n",
       "                }\n",
       "\n",
       "                .geemap-colab {\n",
       "                    background-color: var(--colab-primary-surface-color, white);\n",
       "                }\n",
       "\n",
       "                .geemap-colab .jupyter-button {\n",
       "                    --jp-layout-color3: var(--colab-primary-surface-color, white);\n",
       "                }\n",
       "            </style>\n",
       "            "
      ],
      "text/plain": [
       "<IPython.core.display.HTML object>"
      ]
     },
     "metadata": {},
     "output_type": "display_data"
    }
   ],
   "source": [
    "rietholzbach_validation_df = geemap.ee_to_df(rietholzbach_validation_et_collection)"
   ]
  },
  {
   "cell_type": "code",
   "execution_count": 10,
   "metadata": {},
   "outputs": [
    {
     "data": {
      "text/html": [
       "\n",
       "            <style>\n",
       "                .geemap-dark {\n",
       "                    --jp-widgets-color: white;\n",
       "                    --jp-widgets-label-color: white;\n",
       "                    --jp-ui-font-color1: white;\n",
       "                    --jp-layout-color2: #454545;\n",
       "                    background-color: #383838;\n",
       "                }\n",
       "\n",
       "                .geemap-dark .jupyter-button {\n",
       "                    --jp-layout-color3: #383838;\n",
       "                }\n",
       "\n",
       "                .geemap-colab {\n",
       "                    background-color: var(--colab-primary-surface-color, white);\n",
       "                }\n",
       "\n",
       "                .geemap-colab .jupyter-button {\n",
       "                    --jp-layout-color3: var(--colab-primary-surface-color, white);\n",
       "                }\n",
       "            </style>\n",
       "            "
      ],
      "text/plain": [
       "<IPython.core.display.HTML object>"
      ]
     },
     "metadata": {},
     "output_type": "display_data"
    }
   ],
   "source": [
    "def resample_and_interpolate_df(df: pd.DataFrame) -> pd.DataFrame:\n",
    "    \"\"\"\n",
    "    Resample a DataFrame with a date column, setting daily frequency and interpolating missing values.\n",
    "\n",
    "    Args:\n",
    "        df (DataFrame): The input DataFrame containing a date column named 'date_[YYYYmmdd]'.\n",
    "\n",
    "    Returns:\n",
    "        DataFrame: A DataFrame resampled to daily frequency with interpolated values.\n",
    "    \"\"\"\n",
    "    df[\"date\"] = pd.to_datetime(df[\"date_[YYYYmmdd]\"])\n",
    "    df = df.drop(columns=[\"date_[YYYYmmdd]\"])\n",
    "    df = df.set_index(\"date\")\n",
    "    df = df.resample(\"D\").asfreq()\n",
    "    df = df.interpolate(method=\"time\")\n",
    "    return df"
   ]
  },
  {
   "cell_type": "code",
   "execution_count": 11,
   "metadata": {},
   "outputs": [
    {
     "data": {
      "text/html": [
       "\n",
       "            <style>\n",
       "                .geemap-dark {\n",
       "                    --jp-widgets-color: white;\n",
       "                    --jp-widgets-label-color: white;\n",
       "                    --jp-ui-font-color1: white;\n",
       "                    --jp-layout-color2: #454545;\n",
       "                    background-color: #383838;\n",
       "                }\n",
       "\n",
       "                .geemap-dark .jupyter-button {\n",
       "                    --jp-layout-color3: #383838;\n",
       "                }\n",
       "\n",
       "                .geemap-colab {\n",
       "                    background-color: var(--colab-primary-surface-color, white);\n",
       "                }\n",
       "\n",
       "                .geemap-colab .jupyter-button {\n",
       "                    --jp-layout-color3: var(--colab-primary-surface-color, white);\n",
       "                }\n",
       "            </style>\n",
       "            "
      ],
      "text/plain": [
       "<IPython.core.display.HTML object>"
      ]
     },
     "metadata": {},
     "output_type": "display_data"
    }
   ],
   "source": [
    "rietholzbach_validation_df = resample_and_interpolate_df(rietholzbach_validation_df)"
   ]
  },
  {
   "cell_type": "code",
   "execution_count": 12,
   "metadata": {},
   "outputs": [
    {
     "data": {
      "text/html": [
       "\n",
       "            <style>\n",
       "                .geemap-dark {\n",
       "                    --jp-widgets-color: white;\n",
       "                    --jp-widgets-label-color: white;\n",
       "                    --jp-ui-font-color1: white;\n",
       "                    --jp-layout-color2: #454545;\n",
       "                    background-color: #383838;\n",
       "                }\n",
       "\n",
       "                .geemap-dark .jupyter-button {\n",
       "                    --jp-layout-color3: #383838;\n",
       "                }\n",
       "\n",
       "                .geemap-colab {\n",
       "                    background-color: var(--colab-primary-surface-color, white);\n",
       "                }\n",
       "\n",
       "                .geemap-colab .jupyter-button {\n",
       "                    --jp-layout-color3: var(--colab-primary-surface-color, white);\n",
       "                }\n",
       "            </style>\n",
       "            "
      ],
      "text/plain": [
       "<IPython.core.display.HTML object>"
      ]
     },
     "metadata": {},
     "output_type": "display_data"
    }
   ],
   "source": [
    "rietholzbach_validation_ET = data_utils.aggregate_time_series(rietholzbach_validation_df, dates_for_validation)\n",
    "rietholzbach_validation_ET['date'] = pd.to_datetime(rietholzbach_validation_ET['date'])\n",
    "rietholzbach_validation_ET[\"average_evapotranspiration_[mm/d]\"] = rietholzbach_validation_ET[\"average_evapotranspiration_[mm/d]\"].round(0)"
   ]
  },
  {
   "cell_type": "code",
   "execution_count": 13,
   "metadata": {},
   "outputs": [
    {
     "data": {
      "text/html": [
       "\n",
       "            <style>\n",
       "                .geemap-dark {\n",
       "                    --jp-widgets-color: white;\n",
       "                    --jp-widgets-label-color: white;\n",
       "                    --jp-ui-font-color1: white;\n",
       "                    --jp-layout-color2: #454545;\n",
       "                    background-color: #383838;\n",
       "                }\n",
       "\n",
       "                .geemap-dark .jupyter-button {\n",
       "                    --jp-layout-color3: #383838;\n",
       "                }\n",
       "\n",
       "                .geemap-colab {\n",
       "                    background-color: var(--colab-primary-surface-color, white);\n",
       "                }\n",
       "\n",
       "                .geemap-colab .jupyter-button {\n",
       "                    --jp-layout-color3: var(--colab-primary-surface-color, white);\n",
       "                }\n",
       "            </style>\n",
       "            "
      ],
      "text/plain": [
       "<IPython.core.display.HTML object>"
      ]
     },
     "metadata": {},
     "output_type": "display_data"
    }
   ],
   "source": [
    "point = rietholzbach_validation_et_collection.first().geometry()\n",
    "raster_collection = ee_utils.extract_pixel_values(et_collection, point)"
   ]
  },
  {
   "cell_type": "code",
   "execution_count": 14,
   "metadata": {},
   "outputs": [
    {
     "data": {
      "text/html": [
       "\n",
       "            <style>\n",
       "                .geemap-dark {\n",
       "                    --jp-widgets-color: white;\n",
       "                    --jp-widgets-label-color: white;\n",
       "                    --jp-ui-font-color1: white;\n",
       "                    --jp-layout-color2: #454545;\n",
       "                    background-color: #383838;\n",
       "                }\n",
       "\n",
       "                .geemap-dark .jupyter-button {\n",
       "                    --jp-layout-color3: #383838;\n",
       "                }\n",
       "\n",
       "                .geemap-colab {\n",
       "                    background-color: var(--colab-primary-surface-color, white);\n",
       "                }\n",
       "\n",
       "                .geemap-colab .jupyter-button {\n",
       "                    --jp-layout-color3: var(--colab-primary-surface-color, white);\n",
       "                }\n",
       "            </style>\n",
       "            "
      ],
      "text/plain": [
       "<IPython.core.display.HTML object>"
      ]
     },
     "metadata": {},
     "output_type": "display_data"
    }
   ],
   "source": [
    "waport_df = geemap.ee_to_df(ee.FeatureCollection(raster_collection))\n",
    "waport_df[\"evapotranspiration[mm/d]\"] = (waport_df[\"pixel_value\"] / 100).round(0)\n",
    "waport_df[\"date\"] = pd.to_datetime(waport_df[\"date\"])"
   ]
  },
  {
   "cell_type": "markdown",
   "metadata": {},
   "source": [
    "### Visually validate the WAPOR ET data"
   ]
  },
  {
   "cell_type": "code",
   "execution_count": 15,
   "metadata": {},
   "outputs": [
    {
     "data": {
      "text/html": [
       "\n",
       "            <style>\n",
       "                .geemap-dark {\n",
       "                    --jp-widgets-color: white;\n",
       "                    --jp-widgets-label-color: white;\n",
       "                    --jp-ui-font-color1: white;\n",
       "                    --jp-layout-color2: #454545;\n",
       "                    background-color: #383838;\n",
       "                }\n",
       "\n",
       "                .geemap-dark .jupyter-button {\n",
       "                    --jp-layout-color3: #383838;\n",
       "                }\n",
       "\n",
       "                .geemap-colab {\n",
       "                    background-color: var(--colab-primary-surface-color, white);\n",
       "                }\n",
       "\n",
       "                .geemap-colab .jupyter-button {\n",
       "                    --jp-layout-color3: var(--colab-primary-surface-color, white);\n",
       "                }\n",
       "            </style>\n",
       "            "
      ],
      "text/plain": [
       "<IPython.core.display.HTML object>"
      ]
     },
     "metadata": {},
     "output_type": "display_data"
    },
    {
     "data": {
      "image/png": "[encoded data removed]",
      "text/plain": [
       "<Figure size 1200x800 with 1 Axes>"
      ]
     },
     "metadata": {},
     "output_type": "display_data"
    }
   ],
   "source": [
    "set_plot_style()  # Assuming this function is defined elsewhere\n",
    "\n",
    "plt.figure(figsize=(12, 8))  # Increased height to accommodate bottom legend\n",
    "\n",
    "# Plot the data\n",
    "sns.lineplot(data=rietholzbach_validation_ET, x=\"date\", y=\"average_evapotranspiration_[mm/d]\", label=\"Validation ET Rietholzbach\", color=\"#1f77b4\")\n",
    "sns.lineplot(data=waport_df, x=\"date\", y=\"evapotranspiration[mm/d]\", label=\"Downscaled ET WaPOR\", color=\"#ff7f0e\")\n",
    "\n",
    "# Set labels\n",
    "plt.xlabel(\"\")\n",
    "plt.ylabel(\"ET [mm/d]\")\n",
    "\n",
    "plt.ylim(bottom=0)  \n",
    "\n",
    "# Add green background for April to October\n",
    "for year in range(rietholzbach_validation_ET['date'].dt.year.min(), rietholzbach_validation_ET['date'].dt.year.max() + 1):\n",
    "    plt.axvspan(pd.Timestamp(f\"{year}-04-01\"), pd.Timestamp(f\"{year}-10-31\"), \n",
    "                facecolor='green', alpha=0.1, zorder=0)\n",
    "\n",
    "# Create a custom patch for the legend\n",
    "green_patch = mpatches.Patch(color='green', alpha=0.1, label='Cropping Season (Apr-Oct)')\n",
    "\n",
    "# Get current handles and labels\n",
    "handles, labels = plt.gca().get_legend_handles_labels()\n",
    "handles.append(green_patch)\n",
    "\n",
    "# Place the legend at the bottom with 3 columns\n",
    "plt.legend(handles=handles, loc='lower center', bbox_to_anchor=(0.5, -0.15), \n",
    "            ncol=3, borderaxespad=0.)\n",
    "\n",
    "# Adjust layout to prevent cutting off the legend\n",
    "plt.tight_layout()\n",
    "plt.subplots_adjust(bottom=0.2)  # Adjust bottom margin to fit the legend\n",
    "\n",
    "\n",
    "# plt.savefig(\"/Users/cooper/Desktop/Hydrosolutions/ETblue-estimation /images/ET_validation/WaPOR_validation_Rietholzbach_10d_aggregate.png\", dpi=300, bbox_inches=\"tight\")\n",
    "plt.show()"
   ]
  },
  {
   "cell_type": "markdown",
   "metadata": {},
   "source": [
    "### Quantitative validation"
   ]
  },
  {
   "cell_type": "code",
   "execution_count": null,
   "metadata": {},
   "outputs": [],
   "source": [
    "metrics = calculate_metrics(rietholzbach_validation_ET['average_evapotranspiration_[mm/d]'], waport_df['evapotranspiration[mm/d]'])"
   ]
  },
  {
   "cell_type": "code",
   "execution_count": null,
   "metadata": {},
   "outputs": [],
   "source": [
    "metrics"
   ]
  },
  {
   "cell_type": "markdown",
   "metadata": {},
   "source": [
    "## Comparing WaPOR ET with Rietholzbach ET and Landsat ET"
   ]
  },
  {
   "cell_type": "markdown",
   "metadata": {},
   "source": [
    "### Getting the landsat image and preparing it for plotting"
   ]
  },
  {
   "cell_type": "code",
   "execution_count": null,
   "metadata": {},
   "outputs": [],
   "source": [
    "def extract_landsat_evapotranspiration_data(\n",
    "    point: ee.Geometry, time_period: Tuple[str, str]\n",
    ") -> pd.DataFrame:\n",
    "    \"\"\"\n",
    "    Extracts evapotranspiration data from the Landsat monthly collection for a given point and time period.\n",
    "\n",
    "    Args:\n",
    "        point (ee.Geometry): The geographic point for which to extract data.\n",
    "        time_period (Tuple[str, str]): A tuple containing the start and end date (YYYY-MM-DD) for filtering the data.\n",
    "\n",
    "    Returns:\n",
    "        pd.DataFrame: A DataFrame containing the evapotranspiration data for the specified point and time period.\n",
    "    \"\"\"\n",
    "    # Load the evapotranspiration image collection\n",
    "    ET_landsat_cantons = ee.ImageCollection(\n",
    "        \"projects/thurgau-irrigation/assets/ETlandsatmonthly\"\n",
    "    )\n",
    "\n",
    "    # Extract pixel values for the given point\n",
    "    landsat_ET_fc = ee_utils.extract_pixel_values(ET_landsat_cantons, point, band=\"ET\")\n",
    "    landsat_ET_df = geemap.ee_to_df(landsat_ET_fc)\n",
    "\n",
    "    # Convert date column to datetime\n",
    "    landsat_ET_df[\"date\"] = pd.to_datetime(landsat_ET_df[\"date\"])\n",
    "\n",
    "    # Set all dates to the first day of their respective months\n",
    "    landsat_ET_df[\"date\"] = landsat_ET_df[\"date\"].dt.to_period(\"M\").dt.to_timestamp()\n",
    "\n",
    "    # Rename pixel value column to evapotranspiration\n",
    "    landsat_ET_df[\"evapotranspiration[mm/month]\"] = landsat_ET_df[\"pixel_value\"]\n",
    "\n",
    "    # Filter DataFrame for the specified time period\n",
    "    start_date, end_date = time_period\n",
    "    landsat_ET_df = landsat_ET_df[\n",
    "        (landsat_ET_df[\"date\"] >= start_date) & (landsat_ET_df[\"date\"] <= end_date)\n",
    "    ]\n",
    "\n",
    "    # Set NaN values to 0\n",
    "    landsat_ET_df[\"evapotranspiration[mm/month]\"] = landsat_ET_df[\n",
    "        \"evapotranspiration[mm/month]\"\n",
    "    ].fillna(0)\n",
    "\n",
    "    return landsat_ET_df"
   ]
  },
  {
   "cell_type": "code",
   "execution_count": null,
   "metadata": {},
   "outputs": [],
   "source": [
    "landsat_ET_df = extract_landsat_evapotranspiration_data(point, (\"2018-01-01\", \"2021-12-31\"))"
   ]
  },
  {
   "cell_type": "markdown",
   "metadata": {},
   "source": [
    "### Resampling dekadal WaPOR data to monthly data. The resampling is done by multiplying the dekadal data by the number of days in each dekad and then summing the values for each month."
   ]
  },
  {
   "cell_type": "code",
   "execution_count": null,
   "metadata": {},
   "outputs": [],
   "source": [
    "wapor_monthly_et = ee_utils.aggregate_to_monthly(et_collection)\n",
    "wapor_monthly_et_fc = ee_utils.extract_pixel_values(wapor_monthly_et, point)\n",
    "waport_monthly_df = geemap.ee_to_df(ee.FeatureCollection(wapor_monthly_et_fc))\n",
    "waport_monthly_df[\"evapotranspiration[mm/month]\"] = waport_monthly_df[\"pixel_value\"] / 100\n",
    "waport_monthly_df[\"date\"] = pd.to_datetime(waport_monthly_df[\"date\"])"
   ]
  },
  {
   "cell_type": "code",
   "execution_count": null,
   "metadata": {},
   "outputs": [],
   "source": [
    "dates_for_validation = date_utils.store_collection_dates(wapor_monthly_et)"
   ]
  },
  {
   "cell_type": "markdown",
   "metadata": {},
   "source": [
    "### Resample Rietholzbach validation data to monthly"
   ]
  },
  {
   "cell_type": "code",
   "execution_count": null,
   "metadata": {},
   "outputs": [],
   "source": [
    "rietholzbach_monthly_ET_df = data_utils.aggregate_time_series(rietholzbach_validation_df, dates_for_validation, aggregation_type=\"sum\")\n",
    "rietholzbach_monthly_ET_df.rename(columns={\"sum_evapotranspiration_[mm/d]\": \"sum_evapotranspiration_[mm/month]\"}, inplace=True)"
   ]
  },
  {
   "cell_type": "markdown",
   "metadata": {},
   "source": [
    "### Plotting the validation"
   ]
  },
  {
   "cell_type": "code",
   "execution_count": null,
   "metadata": {},
   "outputs": [],
   "source": [
    "plt.figure(figsize=(12, 8))  \n",
    "\n",
    "# Plot the data\n",
    "sns.lineplot(\n",
    "    data=rietholzbach_monthly_ET_df,\n",
    "    x=\"date\",\n",
    "    y=\"sum_evapotranspiration_[mm/month]\",\n",
    "    label=\"Validation ET Rietholzbach\",\n",
    "    color=\"#1f77b4\",\n",
    ")\n",
    "sns.lineplot(\n",
    "    data=waport_monthly_df,\n",
    "    x=\"date\",\n",
    "    y=\"evapotranspiration[mm/month]\",\n",
    "    label=\"Downscaled ET WaPOR\",\n",
    "    color=\"#ff7f0e\",\n",
    ")\n",
    "sns.lineplot(\n",
    "    data=landsat_ET_df,\n",
    "    x=\"date\",\n",
    "    y=\"evapotranspiration[mm/month]\",\n",
    "    label=\"Landsat ET\",\n",
    "    color=\"#9467bd\"\n",
    ")\n",
    "\n",
    "# Set labels\n",
    "plt.xlabel(\"\")\n",
    "plt.ylabel(\"ET [mm/month]\")\n",
    "\n",
    "plt.ylim(bottom=0)\n",
    "\n",
    "# Add green background for April to October\n",
    "for year in range(\n",
    "    rietholzbach_monthly_ET_df[\"date\"].dt.year.min(),\n",
    "    rietholzbach_monthly_ET_df[\"date\"].dt.year.max() + 1,\n",
    "):\n",
    "    plt.axvspan(\n",
    "        pd.Timestamp(f\"{year}-04-01\"),\n",
    "        pd.Timestamp(f\"{year}-10-31\"),\n",
    "        facecolor=\"green\",\n",
    "        alpha=0.1,\n",
    "        zorder=0,\n",
    "    )\n",
    "\n",
    "# Create a custom patch for the legend\n",
    "green_patch = mpatches.Patch(\n",
    "    color=\"green\", alpha=0.1, label=\"Cropping Season (Apr-Oct)\"\n",
    ")\n",
    "\n",
    "# Get current handles and labels\n",
    "handles, labels = plt.gca().get_legend_handles_labels()\n",
    "handles.append(green_patch)\n",
    "\n",
    "# Place the legend at the bottom with 3 columns\n",
    "plt.legend(\n",
    "    handles=handles,\n",
    "    loc=\"lower center\",\n",
    "    bbox_to_anchor=(0.5, -0.15),\n",
    "    ncol=4,\n",
    "    borderaxespad=0.0,\n",
    ")\n",
    "\n",
    "# Adjust layout to prevent cutting off the legend\n",
    "plt.tight_layout()\n",
    "plt.subplots_adjust(bottom=0.2)  # Adjust bottom margin to fit the legend\n",
    "\n",
    "\n",
    "plt.savefig(\"/Users/cooper/Desktop/Hydrosolutions/ETblue-estimation /images/ET_validation/WaPOR_Landsat_validation_Rietholzbach_monthly.png\", dpi=300, bbox_inches=\"tight\")\n",
    "plt.show()"
   ]
  },
  {
   "cell_type": "code",
   "execution_count": null,
   "metadata": {},
   "outputs": [],
   "source": [
    "metrics = calculate_metrics(rietholzbach_monthly_ET_df['sum_evapotranspiration_[mm/month]'], waport_monthly_df['evapotranspiration[mm/month]'])\n",
    "print(metrics)\n",
    "metrics = calculate_metrics(rietholzbach_monthly_ET_df['sum_evapotranspiration_[mm/month]'], landsat_ET_df['evapotranspiration[mm/month]'])\n",
    "print(metrics)"
   ]
  },
  {
   "cell_type": "markdown",
   "metadata": {},
   "source": [
    "## Oensingen\n",
    "### Get validation data"
   ]
  },
  {
   "cell_type": "code",
   "execution_count": null,
   "metadata": {},
   "outputs": [],
   "source": [
    "oesnsingen_validation_et_collection = ee.FeatureCollection(\"projects/thurgau-irrigation/assets/Thurgau/ETFluxNet/ET_timeseries_oensingen_2004_2020\").sort(\"system:time_start\")\n",
    "\n",
    "oesnsingen_validation_df = geemap.ee_to_df(oesnsingen_validation_et_collection)\n",
    "oesnsingen_validation_df[\"date\"] = pd.to_datetime(oesnsingen_validation_df[\"date_[YYYYmmdd]\"])\n",
    "oesnsingen_validation_df = oesnsingen_validation_df.drop(columns=[\"date_[YYYYmmdd]\"])\n",
    "\n",
    "oesnsingen_validation_df = oesnsingen_validation_df[\n",
    "    (oesnsingen_validation_df[\"date\"] >= \"2018-01-01\") & (oesnsingen_validation_df[\"date\"] <= \"2020-12-31\")\n",
    "]\n",
    "\n",
    "oesnsingen_validation_df[\"evapotranspiration_[mm/month]\"] = oesnsingen_validation_df[\"evapotranspiration_[mm/month]\"].round(0).fillna(0)"
   ]
  },
  {
   "cell_type": "code",
   "execution_count": null,
   "metadata": {},
   "outputs": [],
   "source": [
    "oensingen_point = oesnsingen_validation_et_collection.first().geometry()"
   ]
  },
  {
   "cell_type": "markdown",
   "metadata": {},
   "source": [
    "### Get WaPORT ET data for region around Oensingen"
   ]
  },
  {
   "cell_type": "code",
   "execution_count": null,
   "metadata": {},
   "outputs": [],
   "source": [
    "years_to_process = [2018, 2019, 2020]\n",
    "\n",
    "asset_name = \"projects/thurgau-irrigation/assets/Thurgau/ET_WaPOR_10m_dekadal_oensingen\"\n",
    "et_collection_oensingen = ee_utils.merge_collections(years_to_process, asset_name)\n",
    "\n",
    "\n",
    "wapor_monthly_et = ee_utils.aggregate_to_monthly(et_collection_oensingen)\n",
    "wapor_monthly_et_fc = ee_utils.extract_pixel_values(wapor_monthly_et, oensingen_point)\n",
    "waport_monthly_df = geemap.ee_to_df(ee.FeatureCollection(wapor_monthly_et_fc))\n",
    "waport_monthly_df[\"evapotranspiration[mm/month]\"] = waport_monthly_df[\"pixel_value\"] / 100\n",
    "waport_monthly_df[\"date\"] = pd.to_datetime(waport_monthly_df[\"date\"])"
   ]
  },
  {
   "cell_type": "markdown",
   "metadata": {},
   "source": [
    "### Get landsat data"
   ]
  },
  {
   "cell_type": "code",
   "execution_count": null,
   "metadata": {},
   "outputs": [],
   "source": [
    "landsat_ET_df_oesnsingen = extract_landsat_evapotranspiration_data(oensingen_point, (\"2018-01-01\", \"2020-12-31\"))"
   ]
  },
  {
   "cell_type": "markdown",
   "metadata": {},
   "source": [
    "### Plotting"
   ]
  },
  {
   "cell_type": "code",
   "execution_count": null,
   "metadata": {},
   "outputs": [],
   "source": [
    "plt.figure(figsize=(12, 8))  \n",
    "\n",
    "# Plot the data\n",
    "sns.lineplot(\n",
    "    data=oesnsingen_validation_df,\n",
    "    x=\"date\",\n",
    "    y=\"evapotranspiration_[mm/month]\",\n",
    "    label=\"Validation ET Oensingen\",\n",
    "    color=\"#2ca02c\",\n",
    ")\n",
    "sns.lineplot(\n",
    "    data=waport_monthly_df,\n",
    "    x=\"date\",\n",
    "    y=\"evapotranspiration[mm/month]\",\n",
    "    label=\"Downscaled ET WaPOR\",\n",
    "    color=\"#ff7f0e\",\n",
    ")\n",
    "sns.lineplot(\n",
    "    data=landsat_ET_df_oesnsingen,\n",
    "    x=\"date\",\n",
    "    y=\"evapotranspiration[mm/month]\",\n",
    "    label=\"Landsat ET\",\n",
    "    color=\"#9467bd\"\n",
    ")\n",
    "\n",
    "# Set labels\n",
    "plt.xlabel(\"\")\n",
    "plt.ylabel(\"ET [mm/month]\")\n",
    "\n",
    "plt.ylim(bottom=0)\n",
    "\n",
    "# Add green background for April to October\n",
    "for year in range(\n",
    "    oesnsingen_validation_df[\"date\"].dt.year.min(),\n",
    "    oesnsingen_validation_df[\"date\"].dt.year.max() + 1,\n",
    "):\n",
    "    plt.axvspan(\n",
    "        pd.Timestamp(f\"{year}-04-01\"),\n",
    "        pd.Timestamp(f\"{year}-10-31\"),\n",
    "        facecolor=\"green\",\n",
    "        alpha=0.1,\n",
    "        zorder=0,\n",
    "    )\n",
    "\n",
    "# Create a custom patch for the legend\n",
    "green_patch = mpatches.Patch(\n",
    "    color=\"green\", alpha=0.1, label=\"Cropping Season (Apr-Oct)\"\n",
    ")\n",
    "\n",
    "# Get current handles and labels\n",
    "handles, labels = plt.gca().get_legend_handles_labels()\n",
    "handles.append(green_patch)\n",
    "\n",
    "# Place the legend at the bottom with 3 columns\n",
    "plt.legend(\n",
    "    handles=handles,\n",
    "    loc=\"lower center\",\n",
    "    bbox_to_anchor=(0.5, -0.15),\n",
    "    ncol=4,\n",
    "    borderaxespad=0.0,\n",
    ")\n",
    "\n",
    "# Adjust layout to prevent cutting off the legend\n",
    "plt.tight_layout()\n",
    "plt.subplots_adjust(bottom=0.2)  # Adjust bottom margin to fit the legend\n",
    "\n",
    "\n",
    "plt.savefig(\"/Users/cooper/Desktop/Hydrosolutions/ETblue-estimation /images/ET_validation/WaPOR_Landsat_validation_Oensingen_monthly.png\", dpi=300, bbox_inches=\"tight\")\n",
    "plt.show()"
   ]
  },
  {
   "cell_type": "code",
   "execution_count": null,
   "metadata": {},
   "outputs": [],
   "source": [
    "oesnsingen_validation_df = oesnsingen_validation_df.set_index('date')\n",
    "\n",
    "waport_monthly_df = waport_monthly_df.set_index('date')\n",
    "\n",
    "landsat_ET_df_oesnsingen = landsat_ET_df_oesnsingen.set_index('date')\n",
    "\n",
    "# Ensure the index is of datetime type\n",
    "oesnsingen_validation_df.index = pd.to_datetime(oesnsingen_validation_df.index)\n",
    "waport_monthly_df.index = pd.to_datetime(waport_monthly_df.index)\n",
    "landsat_ET_df_oesnsingen.index = pd.to_datetime(landsat_ET_df_oesnsingen.index)\n",
    "\n",
    "# Now you can calculate the metrics\n",
    "metrics = calculate_metrics(oesnsingen_validation_df['evapotranspiration_[mm/month]'], \n",
    "                            waport_monthly_df['evapotranspiration[mm/month]'])\n",
    "\n",
    "metrics_landsat = calculate_metrics(oesnsingen_validation_df['evapotranspiration_[mm/month]'],\n",
    "                                    landsat_ET_df_oesnsingen['evapotranspiration[mm/month]'])"
   ]
  },
  {
   "cell_type": "code",
   "execution_count": null,
   "metadata": {},
   "outputs": [],
   "source": [
    "metrics"
   ]
  },
  {
   "cell_type": "code",
   "execution_count": null,
   "metadata": {},
   "outputs": [],
   "source": [
    "metrics_landsat"
   ]
  },
  {
   "cell_type": "code",
   "execution_count": null,
   "metadata": {},
   "outputs": [],
   "source": []
  }
 ],
 "metadata": {
  "kernelspec": {
   "display_name": "base",
   "language": "python",
   "name": "python3"
  },
  "language_info": {
   "codemirror_mode": {
    "name": "ipython",
    "version": 3
   },
   "file_extension": ".py",
   "mimetype": "text/x-python",
   "name": "python",
   "nbconvert_exporter": "python",
   "pygments_lexer": "ipython3",
   "version": "3.11.8"
  }
 },
 "nbformat": 4,
 "nbformat_minor": 2
}
