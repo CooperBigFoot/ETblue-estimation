{
 "cells": [
  {
   "cell_type": "code",
   "execution_count": 1,
   "metadata": {},
   "outputs": [],
   "source": [
    "import pandas as pd\n",
    "import matplotlib.pyplot as plt\n",
    "import ee\n",
    "import geemap\n",
    "import seaborn as sns\n",
    "from datetime import datetime\n",
    "\n",
    "from validate_dowscaled_et import prepare_data_for_plotting"
   ]
  },
  {
   "cell_type": "code",
   "execution_count": null,
   "metadata": {},
   "outputs": [],
   "source": [
    "ee.Initialize(project=\"thurgau-irrigation\")"
   ]
  },
  {
   "cell_type": "code",
   "execution_count": null,
   "metadata": {},
   "outputs": [],
   "source": [
    "def set_negative_to_zero(image):\n",
    "    return image.where(image.lt(0), 0)"
   ]
  },
  {
   "cell_type": "code",
   "execution_count": null,
   "metadata": {},
   "outputs": [],
   "source": [
    "et_collection_2018 = ee.ImageCollection([])\n",
    "\n",
    "for i in range(1, 13):\n",
    "    et_raster = ee.Image(f\"projects/thurgau-irrigation/assets/Thurgau/ET_WaPOR_downscaled/WaPOR_ET_downscaled_2018-{i}\")\n",
    "    et_raster = set_negative_to_zero(et_raster)\n",
    "    et_collection_2018 = et_collection_2018.merge(et_raster)\n",
    "\n",
    "ee.Date(et_collection_2018.first().date()).format(\"YYYY-MM-dd\").getInfo()"
   ]
  },
  {
   "cell_type": "code",
   "execution_count": null,
   "metadata": {},
   "outputs": [],
   "source": [
    "et_collection_2018.first().bandNames().getInfo()"
   ]
  },
  {
   "cell_type": "code",
   "execution_count": null,
   "metadata": {},
   "outputs": [],
   "source": [
    "validation_et_collection = ee.FeatureCollection(\"projects/thurgau-irrigation/assets/Thurgau/ETFluxNet/ET_timeseries_rietholzbach_2009_2015\")"
   ]
  },
  {
   "cell_type": "code",
   "execution_count": null,
   "metadata": {},
   "outputs": [],
   "source": [
    "point = validation_et_collection.first().geometry()\n",
    "\n",
    "Map = geemap.Map()\n",
    "Map.centerObject(point, 12)\n",
    "Map.addLayer(point, {\"color\": \"red\"}, \"point\")\n",
    "Map"
   ]
  },
  {
   "cell_type": "code",
   "execution_count": null,
   "metadata": {},
   "outputs": [],
   "source": [
    "df = prepare_data_for_plotting(validation_et_collection)"
   ]
  },
  {
   "cell_type": "code",
   "execution_count": null,
   "metadata": {},
   "outputs": [],
   "source": [
    "def extract_pixel_values(\n",
    "    image_collection: ee.ImageCollection, point: ee.Geometry.Point\n",
    ") -> ee.FeatureCollection:\n",
    "    \"\"\"\n",
    "    Extract the pixel value of the 'downscaled' band for each image in the collection\n",
    "    at the specified point.\n",
    "\n",
    "    Args:\n",
    "        image_collection (ee.ImageCollection): The input image collection.\n",
    "        point (ee.Geometry.Point): The point at which to extract values.\n",
    "\n",
    "    Returns:\n",
    "        ee.FeatureCollection: A feature collection where each feature represents an image\n",
    "                              and contains the pixel value of the 'downscaled' band at the point.\n",
    "    \"\"\"\n",
    "\n",
    "    def extract_value(image: ee.Image) -> ee.Feature:\n",
    "        pixel_value = (\n",
    "            image.select(\"downscaled\")\n",
    "            .reduceRegion(\n",
    "                reducer=ee.Reducer.first(),\n",
    "                geometry=point,\n",
    "                scale=image.projection().nominalScale(),\n",
    "                bestEffort=True,\n",
    "            )\n",
    "            .get(\"downscaled\")\n",
    "        )\n",
    "\n",
    "        return ee.Feature(\n",
    "            None,\n",
    "            {\n",
    "                \"pixel_value\": pixel_value,\n",
    "                \"image_id\": image.id(),\n",
    "                \"system:time_start\": image.get(\"system:time_start\"),\n",
    "            },\n",
    "        )\n",
    "\n",
    "    # Map the extraction function over the image collection\n",
    "    return ee.FeatureCollection(image_collection.map(extract_value))\n",
    "\n",
    "\n",
    "raster_collection = extract_pixel_values(\n",
    "    et_collection_2018, validation_et_collection.first().geometry()\n",
    ")"
   ]
  },
  {
   "cell_type": "code",
   "execution_count": null,
   "metadata": {},
   "outputs": [],
   "source": [
    "raster_collection.getInfo()"
   ]
  },
  {
   "cell_type": "code",
   "execution_count": null,
   "metadata": {},
   "outputs": [],
   "source": []
  }
 ],
 "metadata": {
  "kernelspec": {
   "display_name": "base",
   "language": "python",
   "name": "python3"
  },
  "language_info": {
   "codemirror_mode": {
    "name": "ipython",
    "version": 3
   },
   "file_extension": ".py",
   "mimetype": "text/x-python",
   "name": "python",
   "nbconvert_exporter": "python",
   "pygments_lexer": "ipython3",
   "version": "3.11.8"
  }
 },
 "nbformat": 4,
 "nbformat_minor": 2
}
