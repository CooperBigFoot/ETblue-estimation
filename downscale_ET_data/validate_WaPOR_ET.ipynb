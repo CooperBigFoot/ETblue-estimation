{
 "cells": [
  {
   "cell_type": "code",
   "execution_count": 1,
   "metadata": {},
   "outputs": [],
   "source": [
    "import sys\n",
    "import os\n",
    "\n",
    "# Add the parent directory of 'vegetation-period-NDVI' to the sys.path\n",
    "sys.path.append(os.path.abspath(os.path.join(\"..\")))"
   ]
  },
  {
   "cell_type": "code",
   "execution_count": 2,
   "metadata": {},
   "outputs": [],
   "source": [
    "import pandas as pd\n",
    "import matplotlib.pyplot as plt\n",
    "import ee\n",
    "import geemap \n",
    "import seaborn as sns\n",
    "from datetime import datetime\n",
    "from typing import List\n",
    "import matplotlib as mpl\n",
    "\n",
    "from validate_dowscaled_et import prepare_data_for_plotting\n",
    "from utils.plot_config import set_plot_style\n",
    "from time_series_metrics import calculate_metrics\n",
    "\n",
    "import warnings\n",
    "warnings.filterwarnings(\"ignore\")"
   ]
  },
  {
   "cell_type": "code",
   "execution_count": 3,
   "metadata": {},
   "outputs": [
    {
     "data": {
      "text/html": [
       "\n",
       "            <style>\n",
       "                .geemap-dark {\n",
       "                    --jp-widgets-color: white;\n",
       "                    --jp-widgets-label-color: white;\n",
       "                    --jp-ui-font-color1: white;\n",
       "                    --jp-layout-color2: #454545;\n",
       "                    background-color: #383838;\n",
       "                }\n",
       "\n",
       "                .geemap-dark .jupyter-button {\n",
       "                    --jp-layout-color3: #383838;\n",
       "                }\n",
       "\n",
       "                .geemap-colab {\n",
       "                    background-color: var(--colab-primary-surface-color, white);\n",
       "                }\n",
       "\n",
       "                .geemap-colab .jupyter-button {\n",
       "                    --jp-layout-color3: var(--colab-primary-surface-color, white);\n",
       "                }\n",
       "            </style>\n",
       "            "
      ],
      "text/plain": [
       "<IPython.core.display.HTML object>"
      ]
     },
     "metadata": {},
     "output_type": "display_data"
    }
   ],
   "source": [
    "ee.Initialize(project=\"thurgau-irrigation\")"
   ]
  },
  {
   "cell_type": "markdown",
   "metadata": {},
   "source": [
    "## Some helper functions"
   ]
  },
  {
   "cell_type": "code",
   "execution_count": 4,
   "metadata": {},
   "outputs": [
    {
     "data": {
      "text/html": [
       "\n",
       "            <style>\n",
       "                .geemap-dark {\n",
       "                    --jp-widgets-color: white;\n",
       "                    --jp-widgets-label-color: white;\n",
       "                    --jp-ui-font-color1: white;\n",
       "                    --jp-layout-color2: #454545;\n",
       "                    background-color: #383838;\n",
       "                }\n",
       "\n",
       "                .geemap-dark .jupyter-button {\n",
       "                    --jp-layout-color3: #383838;\n",
       "                }\n",
       "\n",
       "                .geemap-colab {\n",
       "                    background-color: var(--colab-primary-surface-color, white);\n",
       "                }\n",
       "\n",
       "                .geemap-colab .jupyter-button {\n",
       "                    --jp-layout-color3: var(--colab-primary-surface-color, white);\n",
       "                }\n",
       "            </style>\n",
       "            "
      ],
      "text/plain": [
       "<IPython.core.display.HTML object>"
      ]
     },
     "metadata": {},
     "output_type": "display_data"
    }
   ],
   "source": [
    "def store_collection_dates(collection: ee.ImageCollection) -> pd.DataFrame:\n",
    "    \"\"\"\n",
    "    Store the dates of all images in an ImageCollection in a pandas DataFrame.\n",
    "\n",
    "    Args:\n",
    "        collection (ee.ImageCollection): The input image collection.\n",
    "\n",
    "    Returns:\n",
    "        pd.DataFrame: A pandas DataFrame containing the dates in datetime format.\n",
    "    \"\"\"\n",
    "    dates = collection.aggregate_array(\"system:time_start\")\n",
    "    formatted_dates = dates.map(lambda d: ee.Date(d).format(\"YYYY-MM-dd\"))\n",
    "    date_list = formatted_dates.getInfo()\n",
    "\n",
    "    date_df = pd.DataFrame({\"date\": pd.to_datetime(date_list)})\n",
    "\n",
    "    return date_df"
   ]
  },
  {
   "cell_type": "code",
   "execution_count": 5,
   "metadata": {},
   "outputs": [
    {
     "data": {
      "text/html": [
       "\n",
       "            <style>\n",
       "                .geemap-dark {\n",
       "                    --jp-widgets-color: white;\n",
       "                    --jp-widgets-label-color: white;\n",
       "                    --jp-ui-font-color1: white;\n",
       "                    --jp-layout-color2: #454545;\n",
       "                    background-color: #383838;\n",
       "                }\n",
       "\n",
       "                .geemap-dark .jupyter-button {\n",
       "                    --jp-layout-color3: #383838;\n",
       "                }\n",
       "\n",
       "                .geemap-colab {\n",
       "                    background-color: var(--colab-primary-surface-color, white);\n",
       "                }\n",
       "\n",
       "                .geemap-colab .jupyter-button {\n",
       "                    --jp-layout-color3: var(--colab-primary-surface-color, white);\n",
       "                }\n",
       "            </style>\n",
       "            "
      ],
      "text/plain": [
       "<IPython.core.display.HTML object>"
      ]
     },
     "metadata": {},
     "output_type": "display_data"
    }
   ],
   "source": [
    "def aggregate_time_series(daily_data: pd.DataFrame, validation_dates: pd.DataFrame) -> pd.DataFrame:\n",
    "    \"\"\"\n",
    "    Aggregate daily time series data based on sample dates.\n",
    "\n",
    "    Args:\n",
    "        daily_data (pd.DataFrame): Daily time series with date index and 'evapotranspiration_[mm/d]' column.\n",
    "        validation_dates (pd.DataFrame): DataFrame with 'date' column containing validation dates.\n",
    "\n",
    "    Returns:\n",
    "        pd.DataFrame: Aggregated data with sample dates and average values.\n",
    "    \"\"\"\n",
    "    daily_data.index = pd.to_datetime(daily_data.index)\n",
    "    \n",
    "    # Convert validation_dates to datetime and sort\n",
    "    validation_dates['date'] = pd.to_datetime(validation_dates['date'])\n",
    "    validation_dates = validation_dates.sort_values('date')\n",
    "    \n",
    "    # Create bins for grouping\n",
    "    bins = validation_dates['date'].tolist() + [daily_data.index.max() + pd.Timedelta(days=1)]\n",
    "    \n",
    "    # Cut the daily data into groups based on the bins\n",
    "    daily_data['group'] = pd.cut(daily_data.index, bins=bins, labels=validation_dates['date'], right=False)\n",
    "    \n",
    "    # Group by the cut and calculate the mean\n",
    "    aggregated_data = daily_data.groupby('group')['evapotranspiration_[mm/d]'].mean().reset_index()\n",
    "    \n",
    "    # Rename columns for clarity\n",
    "    aggregated_data.columns = ['date', 'average_evapotranspiration_[mm/d]']\n",
    "    \n",
    "    return aggregated_data"
   ]
  },
  {
   "cell_type": "code",
   "execution_count": 6,
   "metadata": {},
   "outputs": [
    {
     "data": {
      "text/html": [
       "\n",
       "            <style>\n",
       "                .geemap-dark {\n",
       "                    --jp-widgets-color: white;\n",
       "                    --jp-widgets-label-color: white;\n",
       "                    --jp-ui-font-color1: white;\n",
       "                    --jp-layout-color2: #454545;\n",
       "                    background-color: #383838;\n",
       "                }\n",
       "\n",
       "                .geemap-dark .jupyter-button {\n",
       "                    --jp-layout-color3: #383838;\n",
       "                }\n",
       "\n",
       "                .geemap-colab {\n",
       "                    background-color: var(--colab-primary-surface-color, white);\n",
       "                }\n",
       "\n",
       "                .geemap-colab .jupyter-button {\n",
       "                    --jp-layout-color3: var(--colab-primary-surface-color, white);\n",
       "                }\n",
       "            </style>\n",
       "            "
      ],
      "text/plain": [
       "<IPython.core.display.HTML object>"
      ]
     },
     "metadata": {},
     "output_type": "display_data"
    }
   ],
   "source": [
    "def set_negative_to_zero(image: ee.Image) -> ee.Image:\n",
    "    \"\"\"\n",
    "    Set all negative values in an image to zero.\n",
    "\n",
    "    Args:\n",
    "        image (ee.Image): The input image.\n",
    "\n",
    "    Returns:\n",
    "        ee.Image: The image with all negative values set to zero.\n",
    "    \"\"\"\n",
    "    return image.where(image.lt(0), 0)"
   ]
  },
  {
   "cell_type": "code",
   "execution_count": 7,
   "metadata": {},
   "outputs": [
    {
     "data": {
      "text/html": [
       "\n",
       "            <style>\n",
       "                .geemap-dark {\n",
       "                    --jp-widgets-color: white;\n",
       "                    --jp-widgets-label-color: white;\n",
       "                    --jp-ui-font-color1: white;\n",
       "                    --jp-layout-color2: #454545;\n",
       "                    background-color: #383838;\n",
       "                }\n",
       "\n",
       "                .geemap-dark .jupyter-button {\n",
       "                    --jp-layout-color3: #383838;\n",
       "                }\n",
       "\n",
       "                .geemap-colab {\n",
       "                    background-color: var(--colab-primary-surface-color, white);\n",
       "                }\n",
       "\n",
       "                .geemap-colab .jupyter-button {\n",
       "                    --jp-layout-color3: var(--colab-primary-surface-color, white);\n",
       "                }\n",
       "            </style>\n",
       "            "
      ],
      "text/plain": [
       "<IPython.core.display.HTML object>"
      ]
     },
     "metadata": {},
     "output_type": "display_data"
    }
   ],
   "source": [
    "def merge_et_collections(years: List[int]) -> ee.ImageCollection:\n",
    "    \"\"\"\n",
    "    Merge ET collections for multiple years.\n",
    "    \n",
    "    Args:\n",
    "        years (list): List of years to process.\n",
    "    \n",
    "    Returns:\n",
    "        ee.ImageCollection: Merged ET collection for all years.\n",
    "    \"\"\"\n",
    "    collections = [\n",
    "        ee.ImageCollection(f\"projects/thurgau-irrigation/assets/Thurgau/ET_WaPOR_10m_dekadal_{year}\")\n",
    "        .sort(\"system:time_start\")\n",
    "        .map(set_negative_to_zero)\n",
    "        for year in years\n",
    "    ]\n",
    "    \n",
    "    # Merge all collections into one\n",
    "    merged_collection = collections[0]\n",
    "    for collection in collections[1:]:\n",
    "        merged_collection = merged_collection.merge(collection)\n",
    "    \n",
    "    return merged_collection"
   ]
  },
  {
   "cell_type": "code",
   "execution_count": 8,
   "metadata": {},
   "outputs": [
    {
     "data": {
      "text/html": [
       "\n",
       "            <style>\n",
       "                .geemap-dark {\n",
       "                    --jp-widgets-color: white;\n",
       "                    --jp-widgets-label-color: white;\n",
       "                    --jp-ui-font-color1: white;\n",
       "                    --jp-layout-color2: #454545;\n",
       "                    background-color: #383838;\n",
       "                }\n",
       "\n",
       "                .geemap-dark .jupyter-button {\n",
       "                    --jp-layout-color3: #383838;\n",
       "                }\n",
       "\n",
       "                .geemap-colab {\n",
       "                    background-color: var(--colab-primary-surface-color, white);\n",
       "                }\n",
       "\n",
       "                .geemap-colab .jupyter-button {\n",
       "                    --jp-layout-color3: var(--colab-primary-surface-color, white);\n",
       "                }\n",
       "            </style>\n",
       "            "
      ],
      "text/plain": [
       "<IPython.core.display.HTML object>"
      ]
     },
     "metadata": {},
     "output_type": "display_data"
    }
   ],
   "source": [
    "def extract_pixel_values(\n",
    "    image_collection: ee.ImageCollection, point: ee.Geometry.Point\n",
    ") -> ee.FeatureCollection:\n",
    "    \"\"\"\n",
    "    Extract the pixel value of the 'downscaled' band for each image in the collection\n",
    "    at the specified point, with error handling for missing timestamps.\n",
    "\n",
    "    Args:\n",
    "        image_collection (ee.ImageCollection): The input image collection.\n",
    "        point (ee.Geometry.Point): The point at which to extract values.\n",
    "\n",
    "    Returns:\n",
    "        ee.FeatureCollection: A feature collection where each feature represents an image\n",
    "                              and contains the pixel value of the 'downscaled' band at the point.\n",
    "    \"\"\"\n",
    "\n",
    "    def extract_value(image: ee.Image) -> ee.Feature:\n",
    "        # Select the 'downscaled' band\n",
    "        downscaled = image.select(\"downscaled\")\n",
    "\n",
    "        # Get the scale of the 'downscaled' band\n",
    "        scale = downscaled.projection().nominalScale()\n",
    "\n",
    "        # Extract the pixel value at the point\n",
    "        pixel_value = downscaled.reduceRegion(\n",
    "            reducer=ee.Reducer.first(),\n",
    "            geometry=point,\n",
    "            scale=scale,\n",
    "            bestEffort=True,\n",
    "        ).get(\"downscaled\")\n",
    "\n",
    "        # Retrieve the image acquisition time\n",
    "        time_start = image.get(\"system:time_start\")\n",
    "\n",
    "        # Handle potential null time_start\n",
    "        formatted_date = ee.Algorithms.If(\n",
    "            ee.Algorithms.IsEqual(time_start, None),\n",
    "            None,\n",
    "            ee.Date(time_start).format(\"YYYY-MM-dd\"),\n",
    "        )\n",
    "\n",
    "        return ee.Feature(\n",
    "            None,\n",
    "            {\n",
    "                \"pixel_value\": pixel_value,\n",
    "                \"date\": formatted_date,\n",
    "                \"system:time_start\": time_start,\n",
    "            },\n",
    "        )\n",
    "\n",
    "    # Map the extraction function over the image collection\n",
    "    return ee.FeatureCollection(image_collection.map(extract_value))"
   ]
  },
  {
   "cell_type": "markdown",
   "metadata": {},
   "source": [
    "### Import validation data and WaPOR ET data"
   ]
  },
  {
   "cell_type": "code",
   "execution_count": 9,
   "metadata": {},
   "outputs": [
    {
     "data": {
      "text/html": [
       "\n",
       "            <style>\n",
       "                .geemap-dark {\n",
       "                    --jp-widgets-color: white;\n",
       "                    --jp-widgets-label-color: white;\n",
       "                    --jp-ui-font-color1: white;\n",
       "                    --jp-layout-color2: #454545;\n",
       "                    background-color: #383838;\n",
       "                }\n",
       "\n",
       "                .geemap-dark .jupyter-button {\n",
       "                    --jp-layout-color3: #383838;\n",
       "                }\n",
       "\n",
       "                .geemap-colab {\n",
       "                    background-color: var(--colab-primary-surface-color, white);\n",
       "                }\n",
       "\n",
       "                .geemap-colab .jupyter-button {\n",
       "                    --jp-layout-color3: var(--colab-primary-surface-color, white);\n",
       "                }\n",
       "            </style>\n",
       "            "
      ],
      "text/plain": [
       "<IPython.core.display.HTML object>"
      ]
     },
     "metadata": {},
     "output_type": "display_data"
    }
   ],
   "source": [
    "years_to_process = [2018, 2019, 2020, 2021]\n",
    "\n",
    "et_collection = merge_et_collections(years_to_process)\n",
    "dates_for_validation = store_collection_dates(et_collection)"
   ]
  },
  {
   "cell_type": "code",
   "execution_count": 10,
   "metadata": {},
   "outputs": [
    {
     "data": {
      "text/html": [
       "\n",
       "            <style>\n",
       "                .geemap-dark {\n",
       "                    --jp-widgets-color: white;\n",
       "                    --jp-widgets-label-color: white;\n",
       "                    --jp-ui-font-color1: white;\n",
       "                    --jp-layout-color2: #454545;\n",
       "                    background-color: #383838;\n",
       "                }\n",
       "\n",
       "                .geemap-dark .jupyter-button {\n",
       "                    --jp-layout-color3: #383838;\n",
       "                }\n",
       "\n",
       "                .geemap-colab {\n",
       "                    background-color: var(--colab-primary-surface-color, white);\n",
       "                }\n",
       "\n",
       "                .geemap-colab .jupyter-button {\n",
       "                    --jp-layout-color3: var(--colab-primary-surface-color, white);\n",
       "                }\n",
       "            </style>\n",
       "            "
      ],
      "text/plain": [
       "<IPython.core.display.HTML object>"
      ]
     },
     "metadata": {},
     "output_type": "display_data"
    },
    {
     "name": "stdout",
     "output_type": "stream",
     "text": [
      "          date\n",
      "0   2018-01-01\n",
      "1   2018-01-11\n",
      "2   2018-01-21\n",
      "3   2018-02-01\n",
      "4   2018-02-11\n",
      "..         ...\n",
      "138 2021-11-11\n",
      "139 2021-11-21\n",
      "140 2021-12-01\n",
      "141 2021-12-11\n",
      "142 2021-12-21\n",
      "\n",
      "[143 rows x 1 columns]\n"
     ]
    }
   ],
   "source": [
    "print(dates_for_validation) "
   ]
  },
  {
   "cell_type": "code",
   "execution_count": 11,
   "metadata": {},
   "outputs": [
    {
     "data": {
      "text/html": [
       "\n",
       "            <style>\n",
       "                .geemap-dark {\n",
       "                    --jp-widgets-color: white;\n",
       "                    --jp-widgets-label-color: white;\n",
       "                    --jp-ui-font-color1: white;\n",
       "                    --jp-layout-color2: #454545;\n",
       "                    background-color: #383838;\n",
       "                }\n",
       "\n",
       "                .geemap-dark .jupyter-button {\n",
       "                    --jp-layout-color3: #383838;\n",
       "                }\n",
       "\n",
       "                .geemap-colab {\n",
       "                    background-color: var(--colab-primary-surface-color, white);\n",
       "                }\n",
       "\n",
       "                .geemap-colab .jupyter-button {\n",
       "                    --jp-layout-color3: var(--colab-primary-surface-color, white);\n",
       "                }\n",
       "            </style>\n",
       "            "
      ],
      "text/plain": [
       "<IPython.core.display.HTML object>"
      ]
     },
     "metadata": {},
     "output_type": "display_data"
    }
   ],
   "source": [
    "rietholzbach_validation_et_collection = ee.FeatureCollection(\"projects/thurgau-irrigation/assets/Thurgau/ETFluxNet/ET_timeseries_rietholzbach_2017_2021\").sort(\"system:time_start\")"
   ]
  },
  {
   "cell_type": "code",
   "execution_count": 12,
   "metadata": {},
   "outputs": [
    {
     "data": {
      "text/html": [
       "\n",
       "            <style>\n",
       "                .geemap-dark {\n",
       "                    --jp-widgets-color: white;\n",
       "                    --jp-widgets-label-color: white;\n",
       "                    --jp-ui-font-color1: white;\n",
       "                    --jp-layout-color2: #454545;\n",
       "                    background-color: #383838;\n",
       "                }\n",
       "\n",
       "                .geemap-dark .jupyter-button {\n",
       "                    --jp-layout-color3: #383838;\n",
       "                }\n",
       "\n",
       "                .geemap-colab {\n",
       "                    background-color: var(--colab-primary-surface-color, white);\n",
       "                }\n",
       "\n",
       "                .geemap-colab .jupyter-button {\n",
       "                    --jp-layout-color3: var(--colab-primary-surface-color, white);\n",
       "                }\n",
       "            </style>\n",
       "            "
      ],
      "text/plain": [
       "<IPython.core.display.HTML object>"
      ]
     },
     "metadata": {},
     "output_type": "display_data"
    }
   ],
   "source": [
    "# Map = geemap.Map()\n",
    "# point = validation_et_collection.first().geometry()\n",
    "\n",
    "# image = ee.Image(et_collection.toList(144).get(50))\n",
    "\n",
    "# Map.centerObject(point, 12)\n",
    "# Map.addLayer(point, {\"color\": \"red\"}, \"point\")\n",
    "# options = {\n",
    "#     \"bands\": [\"downscaled\"],\n",
    "#     \"min\": 0,\n",
    "#     \"max\": 300,\n",
    "#     \"palette\": [\"blue\", \"white\", \"orange\", \"red\"],\n",
    "# }\n",
    "# Map.addLayer(image, options, \"ET\")\n",
    "\n",
    "# Map"
   ]
  },
  {
   "cell_type": "code",
   "execution_count": 13,
   "metadata": {},
   "outputs": [
    {
     "data": {
      "text/html": [
       "\n",
       "            <style>\n",
       "                .geemap-dark {\n",
       "                    --jp-widgets-color: white;\n",
       "                    --jp-widgets-label-color: white;\n",
       "                    --jp-ui-font-color1: white;\n",
       "                    --jp-layout-color2: #454545;\n",
       "                    background-color: #383838;\n",
       "                }\n",
       "\n",
       "                .geemap-dark .jupyter-button {\n",
       "                    --jp-layout-color3: #383838;\n",
       "                }\n",
       "\n",
       "                .geemap-colab {\n",
       "                    background-color: var(--colab-primary-surface-color, white);\n",
       "                }\n",
       "\n",
       "                .geemap-colab .jupyter-button {\n",
       "                    --jp-layout-color3: var(--colab-primary-surface-color, white);\n",
       "                }\n",
       "            </style>\n",
       "            "
      ],
      "text/plain": [
       "<IPython.core.display.HTML object>"
      ]
     },
     "metadata": {},
     "output_type": "display_data"
    }
   ],
   "source": [
    "rietholzbach_validation_df = geemap.ee_to_df(rietholzbach_validation_et_collection)"
   ]
  },
  {
   "cell_type": "code",
   "execution_count": 14,
   "metadata": {},
   "outputs": [
    {
     "data": {
      "text/html": [
       "\n",
       "            <style>\n",
       "                .geemap-dark {\n",
       "                    --jp-widgets-color: white;\n",
       "                    --jp-widgets-label-color: white;\n",
       "                    --jp-ui-font-color1: white;\n",
       "                    --jp-layout-color2: #454545;\n",
       "                    background-color: #383838;\n",
       "                }\n",
       "\n",
       "                .geemap-dark .jupyter-button {\n",
       "                    --jp-layout-color3: #383838;\n",
       "                }\n",
       "\n",
       "                .geemap-colab {\n",
       "                    background-color: var(--colab-primary-surface-color, white);\n",
       "                }\n",
       "\n",
       "                .geemap-colab .jupyter-button {\n",
       "                    --jp-layout-color3: var(--colab-primary-surface-color, white);\n",
       "                }\n",
       "            </style>\n",
       "            "
      ],
      "text/plain": [
       "<IPython.core.display.HTML object>"
      ]
     },
     "metadata": {},
     "output_type": "display_data"
    },
    {
     "name": "stdout",
     "output_type": "stream",
     "text": [
      "            evapotranspiration_[mm/d]\n",
      "date                                 \n",
      "2021-12-12                     1.0820\n",
      "2021-12-13                     1.3050\n",
      "2021-12-14                     0.6525\n",
      "2021-12-15                     0.0000\n",
      "2021-12-16                     0.0000\n",
      "2021-12-17                     0.0000\n",
      "2021-12-18                     0.6960\n",
      "2021-12-19                     0.4640\n",
      "2021-12-20                     0.2320\n",
      "2021-12-21                     0.0000\n",
      "2021-12-22                     0.0000\n",
      "2021-12-23                     0.0000\n",
      "2021-12-24                     0.0000\n",
      "2021-12-25                     0.0000\n",
      "2021-12-26                     0.0000\n",
      "2021-12-27                     0.0000\n",
      "2021-12-28                     0.0000\n",
      "2021-12-29                     0.0000\n",
      "2021-12-30                     0.0000\n",
      "2021-12-31                     0.0000\n"
     ]
    }
   ],
   "source": [
    "rietholzbach_validation_df[\"date\"] = pd.to_datetime(rietholzbach_validation_df[\"date_[YYYYmmdd]\"])\n",
    "rietholzbach_validation_df = rietholzbach_validation_df.drop(columns=[\"date_[YYYYmmdd]\"])\n",
    "rietholzbach_validation_df = rietholzbach_validation_df.set_index(\"date\")\n",
    "rietholzbach_validation_df = rietholzbach_validation_df.resample(\"D\").asfreq()\n",
    "rietholzbach_validation_df = rietholzbach_validation_df.interpolate(method='time')\n",
    "\n",
    "print(rietholzbach_validation_df.tail(20))"
   ]
  },
  {
   "cell_type": "code",
   "execution_count": 15,
   "metadata": {},
   "outputs": [
    {
     "data": {
      "text/html": [
       "\n",
       "            <style>\n",
       "                .geemap-dark {\n",
       "                    --jp-widgets-color: white;\n",
       "                    --jp-widgets-label-color: white;\n",
       "                    --jp-ui-font-color1: white;\n",
       "                    --jp-layout-color2: #454545;\n",
       "                    background-color: #383838;\n",
       "                }\n",
       "\n",
       "                .geemap-dark .jupyter-button {\n",
       "                    --jp-layout-color3: #383838;\n",
       "                }\n",
       "\n",
       "                .geemap-colab {\n",
       "                    background-color: var(--colab-primary-surface-color, white);\n",
       "                }\n",
       "\n",
       "                .geemap-colab .jupyter-button {\n",
       "                    --jp-layout-color3: var(--colab-primary-surface-color, white);\n",
       "                }\n",
       "            </style>\n",
       "            "
      ],
      "text/plain": [
       "<IPython.core.display.HTML object>"
      ]
     },
     "metadata": {},
     "output_type": "display_data"
    },
    {
     "name": "stdout",
     "output_type": "stream",
     "text": [
      "          date  average_evapotranspiration_[mm/d]\n",
      "0   2018-01-01                           0.040400\n",
      "1   2018-01-11                           0.044800\n",
      "2   2018-01-21                           0.254091\n",
      "3   2018-02-01                           0.177100\n",
      "4   2018-02-11                           0.311750\n",
      "..         ...                                ...\n",
      "138 2021-11-11                           0.145500\n",
      "139 2021-11-21                           0.204700\n",
      "140 2021-12-01                           0.095800\n",
      "141 2021-12-11                           0.497250\n",
      "142 2021-12-21                           0.000000\n",
      "\n",
      "[143 rows x 2 columns]\n"
     ]
    }
   ],
   "source": [
    "# validation_ET = validation_df.loc[dates_for_validation['date']]\n",
    "# validation_ET\n",
    "\n",
    "rietholzbach_validation_ET = aggregate_time_series(rietholzbach_validation_df, dates_for_validation)\n",
    "print(rietholzbach_validation_ET)"
   ]
  },
  {
   "cell_type": "code",
   "execution_count": 16,
   "metadata": {},
   "outputs": [
    {
     "data": {
      "text/html": [
       "\n",
       "            <style>\n",
       "                .geemap-dark {\n",
       "                    --jp-widgets-color: white;\n",
       "                    --jp-widgets-label-color: white;\n",
       "                    --jp-ui-font-color1: white;\n",
       "                    --jp-layout-color2: #454545;\n",
       "                    background-color: #383838;\n",
       "                }\n",
       "\n",
       "                .geemap-dark .jupyter-button {\n",
       "                    --jp-layout-color3: #383838;\n",
       "                }\n",
       "\n",
       "                .geemap-colab {\n",
       "                    background-color: var(--colab-primary-surface-color, white);\n",
       "                }\n",
       "\n",
       "                .geemap-colab .jupyter-button {\n",
       "                    --jp-layout-color3: var(--colab-primary-surface-color, white);\n",
       "                }\n",
       "            </style>\n",
       "            "
      ],
      "text/plain": [
       "<IPython.core.display.HTML object>"
      ]
     },
     "metadata": {},
     "output_type": "display_data"
    }
   ],
   "source": [
    "point = rietholzbach_validation_et_collection.first().geometry()\n",
    "raster_collection = extract_pixel_values(et_collection, point)"
   ]
  },
  {
   "cell_type": "code",
   "execution_count": 17,
   "metadata": {},
   "outputs": [
    {
     "data": {
      "text/html": [
       "\n",
       "            <style>\n",
       "                .geemap-dark {\n",
       "                    --jp-widgets-color: white;\n",
       "                    --jp-widgets-label-color: white;\n",
       "                    --jp-ui-font-color1: white;\n",
       "                    --jp-layout-color2: #454545;\n",
       "                    background-color: #383838;\n",
       "                }\n",
       "\n",
       "                .geemap-dark .jupyter-button {\n",
       "                    --jp-layout-color3: #383838;\n",
       "                }\n",
       "\n",
       "                .geemap-colab {\n",
       "                    background-color: var(--colab-primary-surface-color, white);\n",
       "                }\n",
       "\n",
       "                .geemap-colab .jupyter-button {\n",
       "                    --jp-layout-color3: var(--colab-primary-surface-color, white);\n",
       "                }\n",
       "            </style>\n",
       "            "
      ],
      "text/plain": [
       "<IPython.core.display.HTML object>"
      ]
     },
     "metadata": {},
     "output_type": "display_data"
    }
   ],
   "source": [
    "waport_df = geemap.ee_to_df(ee.FeatureCollection(raster_collection))\n",
    "waport_df[\"evapotranspiration[mm/d]\"] = waport_df[\"pixel_value\"] / 100\n",
    "waport_df[\"date\"] = pd.to_datetime(waport_df[\"date\"])"
   ]
  },
  {
   "cell_type": "markdown",
   "metadata": {},
   "source": [
    "### Visually validate the WAPOR ET data"
   ]
  },
  {
   "cell_type": "code",
   "execution_count": 18,
   "metadata": {},
   "outputs": [
    {
     "data": {
      "text/html": [
       "\n",
       "            <style>\n",
       "                .geemap-dark {\n",
       "                    --jp-widgets-color: white;\n",
       "                    --jp-widgets-label-color: white;\n",
       "                    --jp-ui-font-color1: white;\n",
       "                    --jp-layout-color2: #454545;\n",
       "                    background-color: #383838;\n",
       "                }\n",
       "\n",
       "                .geemap-dark .jupyter-button {\n",
       "                    --jp-layout-color3: #383838;\n",
       "                }\n",
       "\n",
       "                .geemap-colab {\n",
       "                    background-color: var(--colab-primary-surface-color, white);\n",
       "                }\n",
       "\n",
       "                .geemap-colab .jupyter-button {\n",
       "                    --jp-layout-color3: var(--colab-primary-surface-color, white);\n",
       "                }\n",
       "            </style>\n",
       "            "
      ],
      "text/plain": [
       "<IPython.core.display.HTML object>"
      ]
     },
     "metadata": {},
     "output_type": "display_data"
    },
    {
     "data": {
      "image/png": "[encoded data removed]",
      "text/plain": [
       "<Figure size 1200x700 with 1 Axes>"
      ]
     },
     "metadata": {},
     "output_type": "display_data"
    }
   ],
   "source": [
    "import matplotlib.patches as mpatches\n",
    "\n",
    "set_plot_style()  # Assuming this function is defined elsewhere\n",
    "\n",
    "plt.figure(figsize=(12, 7))  # Increased height to accommodate bottom legend\n",
    "\n",
    "# Plot the data\n",
    "sns.lineplot(data=rietholzbach_validation_ET, x=\"date\", y=\"average_evapotranspiration_[mm/d]\", label=\"Validation ET Rietholzbach\", color=\"#1f77b4\")\n",
    "sns.lineplot(data=waport_df, x=\"date\", y=\"evapotranspiration[mm/d]\", label=\"Downscaled ET WaPOR\", color=\"#ff7f0e\")\n",
    "\n",
    "# Set labels\n",
    "plt.xlabel(\"\")\n",
    "plt.ylabel(\"ET [mm/d]\")\n",
    "\n",
    "plt.ylim(bottom=0)  \n",
    "\n",
    "# Add green background for April to October\n",
    "for year in range(rietholzbach_validation_ET['date'].dt.year.min(), rietholzbach_validation_ET['date'].dt.year.max() + 1):\n",
    "    plt.axvspan(pd.Timestamp(f\"{year}-04-01\"), pd.Timestamp(f\"{year}-10-31\"), \n",
    "                facecolor='green', alpha=0.1, zorder=0)\n",
    "\n",
    "# Create a custom patch for the legend\n",
    "green_patch = mpatches.Patch(color='green', alpha=0.1, label='Cropping Season (Apr-Oct)')\n",
    "\n",
    "# Get current handles and labels\n",
    "handles, labels = plt.gca().get_legend_handles_labels()\n",
    "handles.append(green_patch)\n",
    "\n",
    "# Place the legend at the bottom with 3 columns\n",
    "plt.legend(handles=handles, loc='lower center', bbox_to_anchor=(0.5, -0.15), \n",
    "            ncol=3, borderaxespad=0.)\n",
    "\n",
    "# Adjust layout to prevent cutting off the legend\n",
    "plt.tight_layout()\n",
    "plt.subplots_adjust(bottom=0.2)  # Adjust bottom margin to fit the legend\n",
    "\n",
    "\n",
    "plt.savefig(\"/Users/cooper/Desktop/Hydrosolutions/ETblue-estimation /images/ET_validation/WaPOR_validation_Rietholzbach_10d_aggregate.png\", dpi=300, bbox_inches=\"tight\")\n",
    "plt.show()"
   ]
  },
  {
   "cell_type": "markdown",
   "metadata": {},
   "source": [
    "### Quantitative validation"
   ]
  },
  {
   "cell_type": "code",
   "execution_count": 19,
   "metadata": {},
   "outputs": [
    {
     "data": {
      "text/html": [
       "\n",
       "            <style>\n",
       "                .geemap-dark {\n",
       "                    --jp-widgets-color: white;\n",
       "                    --jp-widgets-label-color: white;\n",
       "                    --jp-ui-font-color1: white;\n",
       "                    --jp-layout-color2: #454545;\n",
       "                    background-color: #383838;\n",
       "                }\n",
       "\n",
       "                .geemap-dark .jupyter-button {\n",
       "                    --jp-layout-color3: #383838;\n",
       "                }\n",
       "\n",
       "                .geemap-colab {\n",
       "                    background-color: var(--colab-primary-surface-color, white);\n",
       "                }\n",
       "\n",
       "                .geemap-colab .jupyter-button {\n",
       "                    --jp-layout-color3: var(--colab-primary-surface-color, white);\n",
       "                }\n",
       "            </style>\n",
       "            "
      ],
      "text/plain": [
       "<IPython.core.display.HTML object>"
      ]
     },
     "metadata": {},
     "output_type": "display_data"
    }
   ],
   "source": [
    "metrics = calculate_metrics(rietholzbach_validation_ET['average_evapotranspiration_[mm/d]'], waport_df['evapotranspiration[mm/d]'])"
   ]
  },
  {
   "cell_type": "code",
   "execution_count": 20,
   "metadata": {},
   "outputs": [
    {
     "data": {
      "text/html": [
       "\n",
       "            <style>\n",
       "                .geemap-dark {\n",
       "                    --jp-widgets-color: white;\n",
       "                    --jp-widgets-label-color: white;\n",
       "                    --jp-ui-font-color1: white;\n",
       "                    --jp-layout-color2: #454545;\n",
       "                    background-color: #383838;\n",
       "                }\n",
       "\n",
       "                .geemap-dark .jupyter-button {\n",
       "                    --jp-layout-color3: #383838;\n",
       "                }\n",
       "\n",
       "                .geemap-colab {\n",
       "                    background-color: var(--colab-primary-surface-color, white);\n",
       "                }\n",
       "\n",
       "                .geemap-colab .jupyter-button {\n",
       "                    --jp-layout-color3: var(--colab-primary-surface-color, white);\n",
       "                }\n",
       "            </style>\n",
       "            "
      ],
      "text/plain": [
       "<IPython.core.display.HTML object>"
      ]
     },
     "metadata": {},
     "output_type": "display_data"
    },
    {
     "data": {
      "text/plain": [
       "{'R-squared': 0.7412654399116794,\n",
       " 'Correlation Coefficient': 0.912562102501347,\n",
       " 'Dynamic Time Warping Distance': 4.9640956312194335,\n",
       " 'Mean Absolute Error': 0.5005204280567915,\n",
       " 'Root Mean Square Error': 0.6799551877536019,\n",
       " 'Normalized Root Mean Square Error': 0.16872337165101783}"
      ]
     },
     "execution_count": 20,
     "metadata": {},
     "output_type": "execute_result"
    }
   ],
   "source": [
    "metrics"
   ]
  }
 ],
 "metadata": {
  "kernelspec": {
   "display_name": "base",
   "language": "python",
   "name": "python3"
  },
  "language_info": {
   "codemirror_mode": {
    "name": "ipython",
    "version": 3
   },
   "file_extension": ".py",
   "mimetype": "text/x-python",
   "name": "python",
   "nbconvert_exporter": "python",
   "pygments_lexer": "ipython3",
   "version": "3.11.8"
  }
 },
 "nbformat": 4,
 "nbformat_minor": 2
}
