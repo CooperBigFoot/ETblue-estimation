{
 "cells": [
  {
   "cell_type": "code",
   "execution_count": 1,
   "metadata": {},
   "outputs": [],
   "source": [
    "import sys\n",
    "import os\n",
    "\n",
    "sys.path.append(os.path.abspath(os.path.join(\"..\")))"
   ]
  },
  {
   "cell_type": "code",
   "execution_count": 2,
   "metadata": {},
   "outputs": [],
   "source": [
    "import pandas as pd\n",
    "import numpy as np\n",
    "import matplotlib.pyplot as plt\n",
    "import ee\n",
    "import geemap\n",
    "import seaborn as sns\n",
    "from datetime import datetime\n",
    "from typing import List, Tuple, Dict\n",
    "import matplotlib as mpl\n",
    "import matplotlib.patches as mpatches\n",
    "from scipy import stats\n",
    "\n",
    "\n",
    "from validate_dowscaled_et import prepare_data_for_plotting\n",
    "from utils.plot_config import set_plot_style\n",
    "from time_series_metrics import calculate_metrics\n",
    "\n",
    "from utils import date_utils, ee_utils, data_utils\n",
    "from utils.ee_utils import back_to_float, back_to_int\n",
    "\n",
    "import re\n",
    "\n",
    "import warnings\n",
    "\n",
    "warnings.filterwarnings(\"ignore\")"
   ]
  },
  {
   "cell_type": "code",
   "execution_count": 3,
   "metadata": {},
   "outputs": [
    {
     "data": {
      "text/html": [
       "\n",
       "            <style>\n",
       "                .geemap-dark {\n",
       "                    --jp-widgets-color: white;\n",
       "                    --jp-widgets-label-color: white;\n",
       "                    --jp-ui-font-color1: white;\n",
       "                    --jp-layout-color2: #454545;\n",
       "                    background-color: #383838;\n",
       "                }\n",
       "\n",
       "                .geemap-dark .jupyter-button {\n",
       "                    --jp-layout-color3: #383838;\n",
       "                }\n",
       "\n",
       "                .geemap-colab {\n",
       "                    background-color: var(--colab-primary-surface-color, white);\n",
       "                }\n",
       "\n",
       "                .geemap-colab .jupyter-button {\n",
       "                    --jp-layout-color3: var(--colab-primary-surface-color, white);\n",
       "                }\n",
       "            </style>\n",
       "            "
      ],
      "text/plain": [
       "<IPython.core.display.HTML object>"
      ]
     },
     "metadata": {},
     "output_type": "display_data"
    }
   ],
   "source": [
    "ee.Initialize(project=\"thurgau-irrigation\")"
   ]
  },
  {
   "cell_type": "markdown",
   "metadata": {},
   "source": [
    "### Import validation data and WaPOR ET data"
   ]
  },
  {
   "cell_type": "code",
   "execution_count": null,
   "metadata": {},
   "outputs": [],
   "source": [
    "years_to_process = range(2018, 2022)\n",
    "\n",
    "asset_name = \"projects/thurgau-irrigation/assets/Thurgau/ET_WaPOR_10m_dekadal_test_refactor\"\n",
    "ET_wapor_10m = ee_utils.merge_collections(years_to_process, asset_name)\n",
    "\n",
    "# et_collection = ee.ImageCollection(\n",
    "#     \"projects/thurgau-irrigation/assets/Thurgau/ET_WaPOR_300m_TG_2018-2022\"\n",
    "# ).filterDate(\"2018-01-01\", \"2022-01-01\")\n",
    "\n",
    "dates_for_validation = date_utils.store_collection_dates(ET_wapor_10m)"
   ]
  },
  {
   "cell_type": "code",
   "execution_count": null,
   "metadata": {},
   "outputs": [],
   "source": [
    "dates_for_validation"
   ]
  },
  {
   "cell_type": "code",
   "execution_count": null,
   "metadata": {},
   "outputs": [],
   "source": [
    "ET_wapor_10m.first().propertyNames().getInfo()"
   ]
  },
  {
   "cell_type": "code",
   "execution_count": null,
   "metadata": {},
   "outputs": [],
   "source": [
    "# # Fix image with missing date\n",
    "# image_id = \"2_WaPOR_ET_downscaled_2021-02_D2\"\n",
    "# image = et_collection.filter(ee.Filter.eq('system:index', image_id)).first()\n",
    "\n",
    "# date_str = \"2021-02-11\"\n",
    "# date = datetime.strptime(date_str, \"%Y-%m-%d\")\n",
    "\n",
    "# image_with_date = image.set(\"system:time_start\", date.timestamp() * 1000)\n",
    "# image_with_date.date().getInfo()"
   ]
  },
  {
   "cell_type": "markdown",
   "metadata": {},
   "source": [
    "## Rietholzbach"
   ]
  },
  {
   "cell_type": "code",
   "execution_count": null,
   "metadata": {},
   "outputs": [],
   "source": [
    "rietholzbach_validation_et_collection = ee.FeatureCollection(\"projects/thurgau-irrigation/assets/Thurgau/ETFluxNet/ET_timeseries_rietholzbach_2017_2021\").sort(\"system:time_start\")"
   ]
  },
  {
   "cell_type": "code",
   "execution_count": null,
   "metadata": {},
   "outputs": [],
   "source": [
    "rietholzbach_validation_df = geemap.ee_to_df(rietholzbach_validation_et_collection)"
   ]
  },
  {
   "cell_type": "code",
   "execution_count": null,
   "metadata": {},
   "outputs": [],
   "source": [
    "def resample_and_interpolate_df(df: pd.DataFrame) -> pd.DataFrame:\n",
    "    \"\"\"\n",
    "    Resample a DataFrame with a date column, setting daily frequency and interpolating missing values.\n",
    "\n",
    "    Args:\n",
    "        df (DataFrame): The input DataFrame containing a date column named 'date_[YYYYmmdd]'.\n",
    "\n",
    "    Returns:\n",
    "        DataFrame: A DataFrame resampled to daily frequency with interpolated values.\n",
    "    \"\"\"\n",
    "    df[\"date\"] = pd.to_datetime(df[\"date_[YYYYmmdd]\"])\n",
    "    df = df.drop(columns=[\"date_[YYYYmmdd]\"])\n",
    "    df = df.set_index(\"date\")\n",
    "    df = df.resample(\"D\").asfreq()\n",
    "    df = df.interpolate(method=\"time\")\n",
    "    return df"
   ]
  },
  {
   "cell_type": "code",
   "execution_count": null,
   "metadata": {},
   "outputs": [],
   "source": [
    "rietholzbach_validation_df = resample_and_interpolate_df(rietholzbach_validation_df)"
   ]
  },
  {
   "cell_type": "code",
   "execution_count": null,
   "metadata": {},
   "outputs": [],
   "source": [
    "rietholzbach_validation_ET = data_utils.aggregate_time_series(rietholzbach_validation_df, dates_for_validation)\n",
    "rietholzbach_validation_ET['date'] = pd.to_datetime(rietholzbach_validation_ET['date'])\n",
    "rietholzbach_validation_ET[\"average_evapotranspiration_[mm/d]\"] = rietholzbach_validation_ET[\"average_evapotranspiration_[mm/d]\"].round(0)"
   ]
  },
  {
   "cell_type": "code",
   "execution_count": null,
   "metadata": {},
   "outputs": [],
   "source": [
    "point = rietholzbach_validation_et_collection.first().geometry()\n",
    "raster_collection = ee_utils.extract_pixel_values(et_collection, point, band=\"ET\")\n",
    "raster_collection_downscaled = ee_utils.extract_pixel_values(et_collection_downscaled, point, band=\"downscaled\")"
   ]
  },
  {
   "cell_type": "code",
   "execution_count": null,
   "metadata": {},
   "outputs": [],
   "source": [
    "Map = geemap.Map()\n",
    "\n",
    "vis_params = {\n",
    "    \"bands\": [\"ET\"],\n",
    "    \"min\": 0,\n",
    "    \"max\": 5,\n",
    "    \"palette\": [\"white\", \"blue\", \"green\", \"yellow\", \"red\"],\n",
    "}\n",
    "\n",
    "image = ee.Image(et_collection.toList(et_collection.size()).get(20))\n",
    "\n",
    "Map.addLayer(image, vis_params, \"ET\")\n",
    "Map.addLayer(point, {\"color\": \"red\"}, \"Point\")\n",
    "Map.setCenter(8.2275, 47.6966, 8)\n",
    "Map"
   ]
  },
  {
   "cell_type": "code",
   "execution_count": null,
   "metadata": {},
   "outputs": [],
   "source": [
    "waport_df = geemap.ee_to_df(ee.FeatureCollection(raster_collection))\n",
    "waport_df[\"evapotranspiration[mm/d]\"] = (waport_df[\"pixel_value\"])\n",
    "waport_df[\"date\"] = pd.to_datetime(waport_df[\"date\"])\n",
    "\n",
    "waport_df_downscaled = geemap.ee_to_df(ee.FeatureCollection(raster_collection_downscaled))\n",
    "waport_df_downscaled[\"evapotranspiration[mm/d]\"] = (waport_df_downscaled[\"pixel_value\"]/100).round(0)\n",
    "waport_df_downscaled[\"date\"] = pd.to_datetime(waport_df_downscaled[\"date\"])"
   ]
  },
  {
   "cell_type": "code",
   "execution_count": null,
   "metadata": {},
   "outputs": [],
   "source": [
    "waport_df"
   ]
  },
  {
   "cell_type": "markdown",
   "metadata": {},
   "source": [
    "### Visually validate the WAPOR ET data"
   ]
  },
  {
   "cell_type": "code",
   "execution_count": null,
   "metadata": {},
   "outputs": [],
   "source": [
    "set_plot_style()  \n",
    "\n",
    "plt.figure(figsize=(12, 8))  # Increased height to accommodate bottom legend\n",
    "\n",
    "# Plot the data\n",
    "sns.lineplot(\n",
    "    data=rietholzbach_validation_ET,\n",
    "    x=\"date\",\n",
    "    y=\"average_evapotranspiration_[mm/d]\",\n",
    "    label=\"Validation ET Rietholzbach\",\n",
    "    color=\"#1f77b4\",\n",
    ")\n",
    "sns.lineplot(\n",
    "    data=waport_df,\n",
    "    x=\"date\",\n",
    "    y=\"evapotranspiration[mm/d]\",\n",
    "    label=\"Original ET WaPOR\",\n",
    "    color=\"#ff7f0e\",\n",
    ")\n",
    "sns.lineplot(\n",
    "    data=waport_df_downscaled,\n",
    "    x=\"date\",\n",
    "    y=\"evapotranspiration[mm/d]\",\n",
    "    label=\"Downscaled ET WaPOR\",\n",
    "    color=\"#2ca02c\",\n",
    ")\n",
    "\n",
    "# Set labels\n",
    "plt.xlabel(\"\")\n",
    "plt.ylabel(\"ET [mm/d]\")\n",
    "\n",
    "plt.ylim(bottom=0)\n",
    "\n",
    "# Add green background for April to October\n",
    "for year in range(\n",
    "    rietholzbach_validation_ET[\"date\"].dt.year.min(),\n",
    "    rietholzbach_validation_ET[\"date\"].dt.year.max() + 1,\n",
    "):\n",
    "    plt.axvspan(\n",
    "        pd.Timestamp(f\"{year}-04-01\"),\n",
    "        pd.Timestamp(f\"{year}-10-31\"),\n",
    "        facecolor=\"green\",\n",
    "        alpha=0.1,\n",
    "        zorder=0,\n",
    "    )\n",
    "\n",
    "# Create a custom patch for the legend\n",
    "green_patch = mpatches.Patch(\n",
    "    color=\"green\", alpha=0.1, label=\"Cropping Season (Apr-Oct)\"\n",
    ")\n",
    "\n",
    "# Get current handles and labels\n",
    "handles, labels = plt.gca().get_legend_handles_labels()\n",
    "handles.append(green_patch)\n",
    "\n",
    "# Place the legend at the bottom with 3 columns\n",
    "plt.legend(\n",
    "    handles=handles,\n",
    "    loc=\"lower center\",\n",
    "    bbox_to_anchor=(0.5, -0.15),\n",
    "    ncol=3,\n",
    "    borderaxespad=0.0,\n",
    ")\n",
    "\n",
    "# Adjust layout to prevent cutting off the legend\n",
    "plt.tight_layout()\n",
    "plt.subplots_adjust(bottom=0.2)  # Adjust bottom margin to fit the legend\n",
    "\n",
    "\n",
    "plt.savefig(\n",
    "    \"/Users/cooper/Desktop/Hydrosolutions/ETblue-estimation /images/ET_validation/WaPOR_validation_Rietholzbach_10d_aggregate_from_coarse.png\",\n",
    "    dpi=300,\n",
    "    bbox_inches=\"tight\",\n",
    ")\n",
    "plt.show()"
   ]
  },
  {
   "cell_type": "markdown",
   "metadata": {},
   "source": [
    "### Quantitative validation"
   ]
  },
  {
   "cell_type": "code",
   "execution_count": null,
   "metadata": {},
   "outputs": [],
   "source": [
    "metrics = calculate_metrics(rietholzbach_validation_ET['average_evapotranspiration_[mm/d]'], waport_df['evapotranspiration[mm/d]'])\n",
    "metrics_downscaled = calculate_metrics(rietholzbach_validation_ET['average_evapotranspiration_[mm/d]'], waport_df_downscaled['evapotranspiration[mm/d]'])\n",
    "\n",
    "metrics, metrics_downscaled"
   ]
  },
  {
   "cell_type": "code",
   "execution_count": null,
   "metadata": {},
   "outputs": [],
   "source": [
    "metrics"
   ]
  },
  {
   "cell_type": "markdown",
   "metadata": {},
   "source": [
    "## Comparing WaPOR ET with Rietholzbach ET and Landsat ET"
   ]
  },
  {
   "cell_type": "markdown",
   "metadata": {},
   "source": [
    "### Getting the landsat image and preparing it for plotting"
   ]
  },
  {
   "cell_type": "code",
   "execution_count": null,
   "metadata": {},
   "outputs": [],
   "source": [
    "def extract_landsat_evapotranspiration_data(\n",
    "    point: ee.Geometry, time_period: Tuple[str, str]\n",
    ") -> pd.DataFrame:\n",
    "    \"\"\"\n",
    "    Extracts evapotranspiration data from the Landsat monthly collection for a given point and time period.\n",
    "\n",
    "    Args:\n",
    "        point (ee.Geometry): The geographic point for which to extract data.\n",
    "        time_period (Tuple[str, str]): A tuple containing the start and end date (YYYY-MM-DD) for filtering the data.\n",
    "\n",
    "    Returns:\n",
    "        pd.DataFrame: A DataFrame containing the evapotranspiration data for the specified point and time period.\n",
    "    \"\"\"\n",
    "    # Load the evapotranspiration image collection\n",
    "    ET_landsat_cantons = ee.ImageCollection(\n",
    "        \"projects/thurgau-irrigation/assets/Thurgau/Landsat_ET_gap_filled_2018-2022\"\n",
    "    ).map(lambda img: back_to_float(img, 100))\n",
    "\n",
    "    # Extract pixel values for the given point\n",
    "    landsat_ET_fc = ee_utils.extract_pixel_values(\n",
    "        ET_landsat_cantons, point, band=\"fitted_ET\"\n",
    "    )\n",
    "    landsat_ET_df = geemap.ee_to_df(landsat_ET_fc)\n",
    "\n",
    "    # Convert date column to datetime\n",
    "    landsat_ET_df[\"date\"] = pd.to_datetime(landsat_ET_df[\"date\"])\n",
    "\n",
    "    # Set all dates to the first day of their respective months\n",
    "    landsat_ET_df[\"date\"] = landsat_ET_df[\"date\"].dt.to_period(\"M\").dt.to_timestamp()\n",
    "\n",
    "    # Rename pixel value column to evapotranspiration\n",
    "    landsat_ET_df[\"evapotranspiration[mm/month]\"] = landsat_ET_df[\"pixel_value\"].apply(\n",
    "        lambda x: 0 if x < 0 else x\n",
    "    )\n",
    "\n",
    "    # Filter DataFrame for the specified time period\n",
    "    start_date, end_date = time_period\n",
    "    landsat_ET_df = landsat_ET_df[\n",
    "        (landsat_ET_df[\"date\"] >= start_date) & (landsat_ET_df[\"date\"] <= end_date)\n",
    "    ]\n",
    "\n",
    "    # Set NaN values to 0\n",
    "    landsat_ET_df[\"evapotranspiration[mm/month]\"] = landsat_ET_df[\n",
    "        \"evapotranspiration[mm/month]\"\n",
    "    ].fillna(0)\n",
    "\n",
    "    return landsat_ET_df"
   ]
  },
  {
   "cell_type": "code",
   "execution_count": null,
   "metadata": {},
   "outputs": [],
   "source": [
    "landsat_ET_df = extract_landsat_evapotranspiration_data(point, (\"2018-01-01\", \"2021-12-31\"))"
   ]
  },
  {
   "cell_type": "code",
   "execution_count": null,
   "metadata": {},
   "outputs": [],
   "source": [
    "landsat_ET_df"
   ]
  },
  {
   "cell_type": "markdown",
   "metadata": {},
   "source": [
    "### Resampling dekadal WaPOR data to monthly data. The resampling is done by multiplying the dekadal data by the number of days in each dekad and then summing the values for each month."
   ]
  },
  {
   "cell_type": "code",
   "execution_count": null,
   "metadata": {},
   "outputs": [],
   "source": [
    "# wapor_monthly_et = ee_utils.aggregate_to_monthly(et_collection)\n",
    "# wapor_monthly_et_fc = ee_utils.extract_pixel_values(wapor_monthly_et, point)\n",
    "# waport_monthly_df = geemap.ee_to_df(ee.FeatureCollection(wapor_monthly_et_fc))\n",
    "# waport_monthly_df[\"evapotranspiration[mm/month]\"] = waport_monthly_df[\"pixel_value\"] / 100\n",
    "# waport_monthly_df[\"date\"] = pd.to_datetime(waport_monthly_df[\"date\"])"
   ]
  },
  {
   "cell_type": "code",
   "execution_count": null,
   "metadata": {},
   "outputs": [],
   "source": [
    "dates_for_validation = date_utils.store_collection_dates(wapor_monthly_et)"
   ]
  },
  {
   "cell_type": "markdown",
   "metadata": {},
   "source": [
    "### Resample Rietholzbach validation data to monthly"
   ]
  },
  {
   "cell_type": "code",
   "execution_count": null,
   "metadata": {},
   "outputs": [],
   "source": [
    "rietholzbach_monthly_ET_df = data_utils.aggregate_time_series(rietholzbach_validation_df, dates_for_validation, aggregation_type=\"sum\")\n",
    "rietholzbach_monthly_ET_df.rename(columns={\"sum_evapotranspiration_[mm/d]\": \"sum_evapotranspiration_[mm/month]\"}, inplace=True)"
   ]
  },
  {
   "cell_type": "markdown",
   "metadata": {},
   "source": [
    "### Plotting the validation"
   ]
  },
  {
   "cell_type": "code",
   "execution_count": null,
   "metadata": {},
   "outputs": [],
   "source": [
    "plt.figure(figsize=(12, 8))  \n",
    "\n",
    "# Plot the data\n",
    "sns.lineplot(\n",
    "    data=rietholzbach_monthly_ET_df,\n",
    "    x=\"date\",\n",
    "    y=\"sum_evapotranspiration_[mm/month]\",\n",
    "    label=\"Validation ET Rietholzbach\",\n",
    "    color=\"#1f77b4\",\n",
    ")\n",
    "sns.lineplot(\n",
    "    data=waport_monthly_df,\n",
    "    x=\"date\",\n",
    "    y=\"evapotranspiration[mm/month]\",\n",
    "    label=\"Downscaled ET WaPOR\",\n",
    "    color=\"#ff7f0e\",\n",
    ")\n",
    "sns.lineplot(\n",
    "    data=landsat_ET_df,\n",
    "    x=\"date\",\n",
    "    y=\"evapotranspiration[mm/month]\",\n",
    "    label=\"Landsat ET\",\n",
    "    color=\"#9467bd\"\n",
    ")\n",
    "\n",
    "# Set labels\n",
    "plt.xlabel(\"\")\n",
    "plt.ylabel(\"ET [mm/month]\")\n",
    "\n",
    "plt.ylim(bottom=0)\n",
    "\n",
    "# Add green background for April to October\n",
    "for year in range(\n",
    "    rietholzbach_monthly_ET_df[\"date\"].dt.year.min(),\n",
    "    rietholzbach_monthly_ET_df[\"date\"].dt.year.max() + 1,\n",
    "):\n",
    "    plt.axvspan(\n",
    "        pd.Timestamp(f\"{year}-04-01\"),\n",
    "        pd.Timestamp(f\"{year}-10-31\"),\n",
    "        facecolor=\"green\",\n",
    "        alpha=0.1,\n",
    "        zorder=0,\n",
    "    )\n",
    "\n",
    "# Create a custom patch for the legend\n",
    "green_patch = mpatches.Patch(\n",
    "    color=\"green\", alpha=0.1, label=\"Cropping Season (Apr-Oct)\"\n",
    ")\n",
    "\n",
    "# Get current handles and labels\n",
    "handles, labels = plt.gca().get_legend_handles_labels()\n",
    "handles.append(green_patch)\n",
    "\n",
    "# Place the legend at the bottom with 3 columns\n",
    "plt.legend(\n",
    "    handles=handles,\n",
    "    loc=\"lower center\",\n",
    "    bbox_to_anchor=(0.5, -0.15),\n",
    "    ncol=4,\n",
    "    borderaxespad=0.0,\n",
    ")\n",
    "\n",
    "# Adjust layout to prevent cutting off the legend\n",
    "plt.tight_layout()\n",
    "plt.subplots_adjust(bottom=0.2)  # Adjust bottom margin to fit the legend\n",
    "\n",
    "\n",
    "plt.savefig(\"/Users/cooper/Desktop/Hydrosolutions/ETblue-estimation /images/ET_validation/WaPOR_Landsat_validation_Rietholzbach_monthly.png\", dpi=300, bbox_inches=\"tight\")\n",
    "plt.show()"
   ]
  },
  {
   "cell_type": "code",
   "execution_count": null,
   "metadata": {},
   "outputs": [],
   "source": [
    "metrics = calculate_metrics(rietholzbach_monthly_ET_df['sum_evapotranspiration_[mm/month]'], waport_monthly_df['evapotranspiration[mm/month]'])\n",
    "print(metrics)\n",
    "metrics = calculate_metrics(rietholzbach_monthly_ET_df['sum_evapotranspiration_[mm/month]'], landsat_ET_df['evapotranspiration[mm/month]'])\n",
    "print(metrics)"
   ]
  },
  {
   "cell_type": "markdown",
   "metadata": {},
   "source": [
    "## Oensingen\n",
    "### Get validation data"
   ]
  },
  {
   "cell_type": "code",
   "execution_count": 4,
   "metadata": {},
   "outputs": [
    {
     "data": {
      "text/html": [
       "\n",
       "            <style>\n",
       "                .geemap-dark {\n",
       "                    --jp-widgets-color: white;\n",
       "                    --jp-widgets-label-color: white;\n",
       "                    --jp-ui-font-color1: white;\n",
       "                    --jp-layout-color2: #454545;\n",
       "                    background-color: #383838;\n",
       "                }\n",
       "\n",
       "                .geemap-dark .jupyter-button {\n",
       "                    --jp-layout-color3: #383838;\n",
       "                }\n",
       "\n",
       "                .geemap-colab {\n",
       "                    background-color: var(--colab-primary-surface-color, white);\n",
       "                }\n",
       "\n",
       "                .geemap-colab .jupyter-button {\n",
       "                    --jp-layout-color3: var(--colab-primary-surface-color, white);\n",
       "                }\n",
       "            </style>\n",
       "            "
      ],
      "text/plain": [
       "<IPython.core.display.HTML object>"
      ]
     },
     "metadata": {},
     "output_type": "display_data"
    }
   ],
   "source": [
    "oesnsingen_validation_et_collection = ee.FeatureCollection(\"projects/thurgau-irrigation/assets/Thurgau/ETFluxNet/ET_timeseries_oensingen_2004_2020\").sort(\"system:time_start\")\n",
    "oesnsingen_validation_df = geemap.ee_to_df(oesnsingen_validation_et_collection)\n",
    "oesnsingen_validation_df[\"date\"] = pd.to_datetime(oesnsingen_validation_df[\"date_[YYYYmmdd]\"])\n",
    "oesnsingen_validation_df = oesnsingen_validation_df.drop(columns=[\"date_[YYYYmmdd]\"])\n",
    "\n",
    "oesnsingen_validation_df = oesnsingen_validation_df[\n",
    "    (oesnsingen_validation_df[\"date\"] >= \"2018-01-01\") & (oesnsingen_validation_df[\"date\"] <= \"2020-12-31\")\n",
    "]\n",
    "\n",
    "oesnsingen_validation_df[\"evapotranspiration_[mm/month]\"] = oesnsingen_validation_df[\"evapotranspiration_[mm/month]\"].round(0).fillna(0)"
   ]
  },
  {
   "cell_type": "code",
   "execution_count": 5,
   "metadata": {},
   "outputs": [
    {
     "data": {
      "text/html": [
       "\n",
       "            <style>\n",
       "                .geemap-dark {\n",
       "                    --jp-widgets-color: white;\n",
       "                    --jp-widgets-label-color: white;\n",
       "                    --jp-ui-font-color1: white;\n",
       "                    --jp-layout-color2: #454545;\n",
       "                    background-color: #383838;\n",
       "                }\n",
       "\n",
       "                .geemap-dark .jupyter-button {\n",
       "                    --jp-layout-color3: #383838;\n",
       "                }\n",
       "\n",
       "                .geemap-colab {\n",
       "                    background-color: var(--colab-primary-surface-color, white);\n",
       "                }\n",
       "\n",
       "                .geemap-colab .jupyter-button {\n",
       "                    --jp-layout-color3: var(--colab-primary-surface-color, white);\n",
       "                }\n",
       "            </style>\n",
       "            "
      ],
      "text/plain": [
       "<IPython.core.display.HTML object>"
      ]
     },
     "metadata": {},
     "output_type": "display_data"
    }
   ],
   "source": [
    "oensingen_point = oesnsingen_validation_et_collection.first().geometry()"
   ]
  },
  {
   "cell_type": "markdown",
   "metadata": {},
   "source": [
    "### Get WaPORT ET data for region around Oensingen"
   ]
  },
  {
   "cell_type": "code",
   "execution_count": 6,
   "metadata": {},
   "outputs": [
    {
     "data": {
      "text/html": [
       "\n",
       "            <style>\n",
       "                .geemap-dark {\n",
       "                    --jp-widgets-color: white;\n",
       "                    --jp-widgets-label-color: white;\n",
       "                    --jp-ui-font-color1: white;\n",
       "                    --jp-layout-color2: #454545;\n",
       "                    background-color: #383838;\n",
       "                }\n",
       "\n",
       "                .geemap-dark .jupyter-button {\n",
       "                    --jp-layout-color3: #383838;\n",
       "                }\n",
       "\n",
       "                .geemap-colab {\n",
       "                    background-color: var(--colab-primary-surface-color, white);\n",
       "                }\n",
       "\n",
       "                .geemap-colab .jupyter-button {\n",
       "                    --jp-layout-color3: var(--colab-primary-surface-color, white);\n",
       "                }\n",
       "            </style>\n",
       "            "
      ],
      "text/plain": [
       "<IPython.core.display.HTML object>"
      ]
     },
     "metadata": {},
     "output_type": "display_data"
    }
   ],
   "source": [
    "years_to_process = [2018, 2019, 2020]\n",
    "\n",
    "asset_name = \"projects/thurgau-irrigation/assets/Thurgau/ET_WaPOR_10m_dekadal_oensingen\"\n",
    "et_collection_oensingen = ee_utils.merge_collections(years_to_process, asset_name)\n",
    "\n",
    "\n",
    "wapor_monthly_et = ee_utils.aggregate_to_monthly(et_collection_oensingen)\n",
    "wapor_monthly_et_fc = ee_utils.extract_pixel_values(wapor_monthly_et, oensingen_point)\n",
    "waport_monthly_df = geemap.ee_to_df(ee.FeatureCollection(wapor_monthly_et_fc))\n",
    "waport_monthly_df[\"evapotranspiration[mm/month]\"] = waport_monthly_df[\"pixel_value\"] / 100\n",
    "waport_monthly_df[\"date\"] = pd.to_datetime(waport_monthly_df[\"date\"])\n",
    "\n",
    "\n",
    "# et_collection_original = ee.ImageCollection(\n",
    "#     \"projects/thurgau-irrigation/assets/ET_WaPOR_300m_Oensingen_2018-2022\"\n",
    "# ).filterDate(\"2018-01-01\", \"2021-01-01\")\n",
    "\n",
    "\n",
    "# wapor_monthly_et_original = ee_utils.aggregate_to_monthly(et_collection_original, bands=[\"ET\"])\n",
    "# wapor_monthly_et_fc_original = ee_utils.extract_pixel_values(wapor_monthly_et_original, oensingen_point, band=\"ET\")\n",
    "# waport_monthly_df_original = geemap.ee_to_df(ee.FeatureCollection(wapor_monthly_et_fc_original))\n",
    "# waport_monthly_df_original[\"evapotranspiration[mm/month]\"] = waport_monthly_df_original[\"pixel_value\"]\n",
    "# waport_monthly_df_original[\"date\"] = pd.to_datetime(waport_monthly_df_original[\"date\"])"
   ]
  },
  {
   "cell_type": "markdown",
   "metadata": {},
   "source": [
    "### Get landsat data"
   ]
  },
  {
   "cell_type": "code",
   "execution_count": 7,
   "metadata": {},
   "outputs": [
    {
     "data": {
      "text/html": [
       "\n",
       "            <style>\n",
       "                .geemap-dark {\n",
       "                    --jp-widgets-color: white;\n",
       "                    --jp-widgets-label-color: white;\n",
       "                    --jp-ui-font-color1: white;\n",
       "                    --jp-layout-color2: #454545;\n",
       "                    background-color: #383838;\n",
       "                }\n",
       "\n",
       "                .geemap-dark .jupyter-button {\n",
       "                    --jp-layout-color3: #383838;\n",
       "                }\n",
       "\n",
       "                .geemap-colab {\n",
       "                    background-color: var(--colab-primary-surface-color, white);\n",
       "                }\n",
       "\n",
       "                .geemap-colab .jupyter-button {\n",
       "                    --jp-layout-color3: var(--colab-primary-surface-color, white);\n",
       "                }\n",
       "            </style>\n",
       "            "
      ],
      "text/plain": [
       "<IPython.core.display.HTML object>"
      ]
     },
     "metadata": {},
     "output_type": "display_data"
    }
   ],
   "source": [
    "# landsat_ET_df_oesnsingen = extract_landsat_evapotranspiration_data(oensingen_point, (\"2018-01-01\", \"2020-12-31\")) "
   ]
  },
  {
   "cell_type": "markdown",
   "metadata": {},
   "source": [
    "### Plotting"
   ]
  },
  {
   "cell_type": "code",
   "execution_count": 8,
   "metadata": {},
   "outputs": [
    {
     "data": {
      "text/html": [
       "\n",
       "            <style>\n",
       "                .geemap-dark {\n",
       "                    --jp-widgets-color: white;\n",
       "                    --jp-widgets-label-color: white;\n",
       "                    --jp-ui-font-color1: white;\n",
       "                    --jp-layout-color2: #454545;\n",
       "                    background-color: #383838;\n",
       "                }\n",
       "\n",
       "                .geemap-dark .jupyter-button {\n",
       "                    --jp-layout-color3: #383838;\n",
       "                }\n",
       "\n",
       "                .geemap-colab {\n",
       "                    background-color: var(--colab-primary-surface-color, white);\n",
       "                }\n",
       "\n",
       "                .geemap-colab .jupyter-button {\n",
       "                    --jp-layout-color3: var(--colab-primary-surface-color, white);\n",
       "                }\n",
       "            </style>\n",
       "            "
      ],
      "text/plain": [
       "<IPython.core.display.HTML object>"
      ]
     },
     "metadata": {},
     "output_type": "display_data"
    },
    {
     "data": {
      "image/png": "[encoded data removed]",
      "text/plain": [
       "<Figure size 1200x800 with 1 Axes>"
      ]
     },
     "metadata": {},
     "output_type": "display_data"
    }
   ],
   "source": [
    "set_plot_style()\n",
    "\n",
    "plt.figure(figsize=(12, 8))  \n",
    "\n",
    "# Plot the data\n",
    "sns.lineplot(\n",
    "    data=oesnsingen_validation_df,\n",
    "    x=\"date\",\n",
    "    y=\"evapotranspiration_[mm/month]\",\n",
    "    label=\"Validation ET Oensingen\",\n",
    "    color=\"#2ca02c\",\n",
    ")\n",
    "sns.lineplot(\n",
    "    data=waport_monthly_df,\n",
    "    x=\"date\",\n",
    "    y=\"evapotranspiration[mm/month]\",\n",
    "    label=\"Downscaled ET WaPOR\",\n",
    "    color=\"#ff7f0e\",\n",
    ")\n",
    "\n",
    "# sns.lineplot(\n",
    "#     data=waport_monthly_df_original,\n",
    "#     x=\"date\",\n",
    "#     y=\"evapotranspiration[mm/month]\",\n",
    "#     label=\"Original ET WaPOR\",\n",
    "#     color=\"blue\",\n",
    "# )\n",
    "\n",
    "# Set labels\n",
    "plt.xlabel(\"\")\n",
    "plt.ylabel(\"ET [mm/month]\")\n",
    "\n",
    "plt.ylim(bottom=0)\n",
    "\n",
    "# Add green background for April to October\n",
    "for year in range(\n",
    "    oesnsingen_validation_df[\"date\"].dt.year.min(),\n",
    "    oesnsingen_validation_df[\"date\"].dt.year.max() + 1,\n",
    "):\n",
    "    plt.axvspan(\n",
    "        pd.Timestamp(f\"{year}-04-01\"),\n",
    "        pd.Timestamp(f\"{year}-10-31\"),\n",
    "        facecolor=\"green\",\n",
    "        alpha=0.1,\n",
    "        zorder=0,\n",
    "    )\n",
    "\n",
    "# Create a custom patch for the legend\n",
    "green_patch = mpatches.Patch(\n",
    "    color=\"green\", alpha=0.1, label=\"Cropping Season (Apr-Oct)\"\n",
    ")\n",
    "\n",
    "# Get current handles and labels\n",
    "handles, labels = plt.gca().get_legend_handles_labels()\n",
    "handles.append(green_patch)\n",
    "\n",
    "# Place the legend at the bottom with 3 columns\n",
    "plt.legend(\n",
    "    handles=handles,\n",
    "    loc=\"lower center\",\n",
    "    bbox_to_anchor=(0.5, -0.15),\n",
    "    ncol=4,\n",
    "    borderaxespad=0.0,\n",
    ")\n",
    "\n",
    "# Adjust layout to prevent cutting off the legend\n",
    "plt.tight_layout()\n",
    "plt.subplots_adjust(bottom=0.2)  # Adjust bottom margin to fit the legend\n",
    "\n",
    "\n",
    "plt.savefig(\"/Users/cooper/Desktop/Hydrosolutions/ETblue-estimation /images/ET_validation/WaPOR_Landsat_validation_Oensingen_monthly.png\", dpi=300, bbox_inches=\"tight\")\n",
    "plt.show()"
   ]
  },
  {
   "cell_type": "code",
   "execution_count": 9,
   "metadata": {},
   "outputs": [
    {
     "data": {
      "text/html": [
       "\n",
       "            <style>\n",
       "                .geemap-dark {\n",
       "                    --jp-widgets-color: white;\n",
       "                    --jp-widgets-label-color: white;\n",
       "                    --jp-ui-font-color1: white;\n",
       "                    --jp-layout-color2: #454545;\n",
       "                    background-color: #383838;\n",
       "                }\n",
       "\n",
       "                .geemap-dark .jupyter-button {\n",
       "                    --jp-layout-color3: #383838;\n",
       "                }\n",
       "\n",
       "                .geemap-colab {\n",
       "                    background-color: var(--colab-primary-surface-color, white);\n",
       "                }\n",
       "\n",
       "                .geemap-colab .jupyter-button {\n",
       "                    --jp-layout-color3: var(--colab-primary-surface-color, white);\n",
       "                }\n",
       "            </style>\n",
       "            "
      ],
      "text/plain": [
       "<IPython.core.display.HTML object>"
      ]
     },
     "metadata": {},
     "output_type": "display_data"
    }
   ],
   "source": [
    "# File: src/validation/et_validation_metrics.py\n",
    "\n",
    "from typing import Tuple, Dict\n",
    "import numpy as np\n",
    "import pandas as pd\n",
    "from scipy import stats\n",
    "from sklearn.metrics import mean_squared_error, mean_absolute_error\n",
    "\n",
    "\n",
    "def prepare_validation_data(\n",
    "    df_observed: pd.DataFrame,\n",
    "    df_predicted: pd.DataFrame,\n",
    "    observed_col: str,\n",
    "    predicted_col: str,\n",
    "    growing_season_only: bool = False,\n",
    ") -> Tuple[np.ndarray, np.ndarray]:\n",
    "    \"\"\"\n",
    "    Prepare and align validation data for comparison.\n",
    "\n",
    "    Args:\n",
    "        df_observed: DataFrame containing observed values\n",
    "        df_predicted: DataFrame containing predicted values\n",
    "        observed_col: Name of column containing observed values\n",
    "        predicted_col: Name of column containing predicted values\n",
    "        growing_season_only: If True, only consider data from April to October\n",
    "\n",
    "    Returns:\n",
    "        Tuple of aligned observed and predicted values as numpy arrays\n",
    "    \"\"\"\n",
    "    # Merge dataframes on date\n",
    "    merged_df = pd.merge(\n",
    "        df_observed[[\"date\", observed_col]],\n",
    "        df_predicted[[\"date\", predicted_col]],\n",
    "        on=\"date\",\n",
    "        how=\"inner\",\n",
    "    )\n",
    "\n",
    "    if growing_season_only:\n",
    "        # Filter for growing season (April to October)\n",
    "        merged_df = merged_df[merged_df[\"date\"].dt.month.between(4, 10)]\n",
    "\n",
    "    return (merged_df[observed_col].values, merged_df[predicted_col].values)\n",
    "\n",
    "\n",
    "def calculate_validation_metrics(\n",
    "    observed: np.ndarray, predicted: np.ndarray\n",
    ") -> Dict[str, float]:\n",
    "    \"\"\"\n",
    "    Calculate various validation metrics for comparing observed and predicted values.\n",
    "\n",
    "    Args:\n",
    "        observed: Array of observed values\n",
    "        predicted: Array of predicted values\n",
    "\n",
    "    Returns:\n",
    "        Dictionary containing various validation metrics\n",
    "    \"\"\"\n",
    "    # Remove any pairs where either value is NaN\n",
    "    mask = ~(np.isnan(observed) | np.isnan(predicted))\n",
    "    observed = observed[mask]\n",
    "    predicted = predicted[mask]\n",
    "\n",
    "    # Calculate basic statistics\n",
    "    mean_obs = np.mean(observed)\n",
    "    mean_pred = np.mean(predicted)\n",
    "\n",
    "    # Calculate metrics\n",
    "    rmse = np.sqrt(mean_squared_error(observed, predicted))\n",
    "    mae = mean_absolute_error(observed, predicted)\n",
    "\n",
    "    # Calculate relative RMSE and MAE\n",
    "    rrmse = (rmse / mean_obs) * 100  # as percentage\n",
    "    rmae = (mae / mean_obs) * 100  # as percentage\n",
    "\n",
    "    # Calculate R-squared\n",
    "    r_squared = stats.pearsonr(observed, predicted)[0] ** 2\n",
    "\n",
    "    # Calculate Nash-Sutcliffe efficiency\n",
    "    nse = 1 - (\n",
    "        np.sum((observed - predicted) ** 2)\n",
    "        / np.sum((observed - np.mean(observed)) ** 2)\n",
    "    )\n",
    "\n",
    "    # Calculate bias metrics\n",
    "    bias = np.mean(predicted - observed)\n",
    "    relative_bias = (bias / mean_obs) * 100  # as percentage\n",
    "\n",
    "    # Calculate Kling-Gupta Efficiency\n",
    "    std_obs = np.std(observed)\n",
    "    std_pred = np.std(predicted)\n",
    "\n",
    "    r = stats.pearsonr(observed, predicted)[0]\n",
    "    alpha = std_pred / std_obs\n",
    "    beta = mean_pred / mean_obs\n",
    "\n",
    "    kge = 1 - np.sqrt((r - 1) ** 2 + (alpha - 1) ** 2 + (beta - 1) ** 2)\n",
    "\n",
    "    return {\n",
    "        \"R2\": r_squared,\n",
    "        \"RMSE\": rmse,\n",
    "        \"MAE\": mae,\n",
    "        \"Relative_RMSE\": rrmse,\n",
    "        \"Relative_MAE\": rmae,\n",
    "        \"NSE\": nse,\n",
    "        \"KGE\": kge,\n",
    "        \"Bias\": bias,\n",
    "        \"Relative_Bias\": relative_bias,\n",
    "        \"Mean_Observed\": mean_obs,\n",
    "        \"Mean_Predicted\": mean_pred,\n",
    "    }\n",
    "\n",
    "\n",
    "def print_validation_summary(metrics: Dict[str, float]) -> None:\n",
    "    \"\"\"\n",
    "    Print a formatted summary of validation metrics.\n",
    "\n",
    "    Args:\n",
    "        metrics: Dictionary of validation metrics\n",
    "    \"\"\"\n",
    "    print(\"\\nValidation Metrics Summary:\")\n",
    "    print(\"===========================\")\n",
    "    print(f\"R² Score: {metrics['R2']:.3f}\")\n",
    "    print(f\"RMSE: {metrics['RMSE']:.2f} mm/month\")\n",
    "    print(f\"Relative RMSE: {metrics['Relative_RMSE']:.1f}%\")\n",
    "    print(f\"MAE: {metrics['MAE']:.2f} mm/month\")\n",
    "    print(f\"Relative MAE: {metrics['Relative_MAE']:.1f}%\")\n",
    "    print(f\"Nash-Sutcliffe Efficiency: {metrics['NSE']:.3f}\")\n",
    "    print(f\"Kling-Gupta Efficiency: {metrics['KGE']:.3f}\")\n",
    "    print(f\"Bias: {metrics['Bias']:.2f} mm/month\")\n",
    "    print(f\"Relative Bias: {metrics['Relative_Bias']:.1f}%\")\n",
    "    print(f\"\\nMean Values:\")\n",
    "    print(f\"Observed: {metrics['Mean_Observed']:.2f} mm/month\")\n",
    "    print(f\"Predicted: {metrics['Mean_Predicted']:.2f} mm/month\")"
   ]
  },
  {
   "cell_type": "code",
   "execution_count": 10,
   "metadata": {},
   "outputs": [
    {
     "data": {
      "text/html": [
       "\n",
       "            <style>\n",
       "                .geemap-dark {\n",
       "                    --jp-widgets-color: white;\n",
       "                    --jp-widgets-label-color: white;\n",
       "                    --jp-ui-font-color1: white;\n",
       "                    --jp-layout-color2: #454545;\n",
       "                    background-color: #383838;\n",
       "                }\n",
       "\n",
       "                .geemap-dark .jupyter-button {\n",
       "                    --jp-layout-color3: #383838;\n",
       "                }\n",
       "\n",
       "                .geemap-colab {\n",
       "                    background-color: var(--colab-primary-surface-color, white);\n",
       "                }\n",
       "\n",
       "                .geemap-colab .jupyter-button {\n",
       "                    --jp-layout-color3: var(--colab-primary-surface-color, white);\n",
       "                }\n",
       "            </style>\n",
       "            "
      ],
      "text/plain": [
       "<IPython.core.display.HTML object>"
      ]
     },
     "metadata": {},
     "output_type": "display_data"
    },
    {
     "name": "stdout",
     "output_type": "stream",
     "text": [
      "\n",
      "Metrics for all months:\n",
      "\n",
      "Validation Metrics Summary:\n",
      "===========================\n",
      "R² Score: 0.877\n",
      "RMSE: 15.49 mm/month\n",
      "Relative RMSE: 36.2%\n",
      "MAE: 13.10 mm/month\n",
      "Relative MAE: 30.6%\n",
      "Nash-Sutcliffe Efficiency: 0.794\n",
      "Kling-Gupta Efficiency: 0.771\n",
      "Bias: -9.30 mm/month\n",
      "Relative Bias: -21.7%\n",
      "\n",
      "Mean Values:\n",
      "Observed: 42.78 mm/month\n",
      "Predicted: 33.48 mm/month\n",
      "\n",
      "Metrics for growing season only (April-October):\n",
      "\n",
      "Validation Metrics Summary:\n",
      "===========================\n",
      "R² Score: 0.751\n",
      "RMSE: 16.99 mm/month\n",
      "Relative RMSE: 26.5%\n",
      "MAE: 14.32 mm/month\n",
      "Relative MAE: 22.3%\n",
      "Nash-Sutcliffe Efficiency: 0.658\n",
      "Kling-Gupta Efficiency: 0.819\n",
      "Bias: -7.80 mm/month\n",
      "Relative Bias: -12.2%\n",
      "\n",
      "Mean Values:\n",
      "Observed: 64.10 mm/month\n",
      "Predicted: 56.30 mm/month\n"
     ]
    }
   ],
   "source": [
    "# Prepare the data\n",
    "observed = oesnsingen_validation_df[\"evapotranspiration_[mm/month]\"]\n",
    "predicted = waport_monthly_df[\"evapotranspiration[mm/month]\"]\n",
    "\n",
    "# Calculate metrics for all months\n",
    "obs_data, pred_data = prepare_validation_data(\n",
    "    oesnsingen_validation_df,\n",
    "    waport_monthly_df,\n",
    "    \"evapotranspiration_[mm/month]\",\n",
    "    \"evapotranspiration[mm/month]\",\n",
    "    growing_season_only=False\n",
    ")\n",
    "\n",
    "metrics_all = calculate_validation_metrics(obs_data, pred_data)\n",
    "print(\"\\nMetrics for all months:\")\n",
    "print_validation_summary(metrics_all)\n",
    "\n",
    "# Calculate metrics for growing season only\n",
    "obs_data_gs, pred_data_gs = prepare_validation_data(\n",
    "    oesnsingen_validation_df,\n",
    "    waport_monthly_df,\n",
    "    \"evapotranspiration_[mm/month]\",\n",
    "    \"evapotranspiration[mm/month]\",\n",
    "    growing_season_only=True\n",
    ")\n",
    "\n",
    "metrics_gs = calculate_validation_metrics(obs_data_gs, pred_data_gs)\n",
    "print(\"\\nMetrics for growing season only (April-October):\")\n",
    "print_validation_summary(metrics_gs)"
   ]
  },
  {
   "cell_type": "code",
   "execution_count": null,
   "metadata": {},
   "outputs": [],
   "source": []
  }
 ],
 "metadata": {
  "kernelspec": {
   "display_name": "geemap_env",
   "language": "python",
   "name": "python3"
  },
  "language_info": {
   "codemirror_mode": {
    "name": "ipython",
    "version": 3
   },
   "file_extension": ".py",
   "mimetype": "text/x-python",
   "name": "python",
   "nbconvert_exporter": "python",
   "pygments_lexer": "ipython3",
   "version": "3.11.10"
  }
 },
 "nbformat": 4,
 "nbformat_minor": 2
}
