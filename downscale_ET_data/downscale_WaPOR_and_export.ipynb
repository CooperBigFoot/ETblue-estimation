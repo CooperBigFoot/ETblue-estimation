{
 "cells": [
  {
   "cell_type": "markdown",
   "metadata": {},
   "source": [
    "## This notebook is for downscaling the WaPOR ET data from 300m to 10m resolution. Subsequently the downscaled ImageCollection is exported to the Project Asset folder in Google Earth Engine."
   ]
  },
  {
   "cell_type": "code",
   "execution_count": null,
   "metadata": {},
   "outputs": [],
   "source": [
    "import sys\n",
    "import os\n",
    "\n",
    "sys.path.append(os.path.abspath(os.path.join(\"..\")))"
   ]
  },
  {
   "cell_type": "code",
   "execution_count": null,
   "metadata": {},
   "outputs": [],
   "source": [
    "import ee\n",
    "import geemap\n",
    "\n",
    "ee.Initialize(project=\"thurgau-irrigation\")"
   ]
  },
  {
   "cell_type": "code",
   "execution_count": null,
   "metadata": {},
   "outputs": [],
   "source": [
    "from wapor_et_processing import load_wapor_et_data\n",
    "from vegetation_period_NDVI.data_loading import load_sentinel2_data, add_time_data\n",
    "from vegetation_period_NDVI.time_series import (\n",
    "    extract_time_ranges,\n",
    "    get_harmonic_ts,\n",
    "    add_time_data,\n",
    ")\n",
    "from utils.composites import harmonized_ts\n",
    "from utils.date_utils import print_collection_dates, create_centered_date_ranges\n",
    "from utils.harmonic_regressor import HarmonicRegressor\n",
    "from utils.ee_utils import back_to_float, back_to_int, export_image_to_asset\n",
    "\n",
    "\n",
    "from typing import List"
   ]
  },
  {
   "cell_type": "markdown",
   "metadata": {},
   "source": [
    "## Define the AOI and the year to process"
   ]
  },
  {
   "cell_type": "code",
   "execution_count": null,
   "metadata": {},
   "outputs": [],
   "source": [
    "# For the canton of Thurgau\n",
    "cantonal_borders_asset = (\n",
    "    \"projects/thurgau-irrigation/assets/Thurgau/thrugau_borders_2024\"\n",
    ")\n",
    "\n",
    "aoi_feature_collection = ee.FeatureCollection(cantonal_borders_asset)\n",
    "aoi_geometry = aoi_feature_collection.geometry()\n",
    "aoi_geometry = aoi_geometry.simplify(500)\n",
    "aoi_buffered = aoi_geometry.buffer(100)\n",
    "\n",
    "# Little square around Oensingen:\n",
    "# oensingen_coordinates = [\n",
    "#   [\n",
    "#     [7.569238717890812, 47.35358169812031],\n",
    "#     [7.569238717890812, 47.21413609771895],\n",
    "#     [7.879806798836398, 47.21413609771895],\n",
    "#     [7.879806798836398, 47.35358169812031],\n",
    "#     [7.569238717890812, 47.35358169812031]\n",
    "#   ]\n",
    "# ];\n",
    "\n",
    "# # Create an ee.Geometry object from the coordinates\n",
    "# oensingen_polygon = ee.Geometry.Polygon(oensingen_coordinates)\n",
    "# aoi_simple = oensingen_polygon.simplify(500)\n",
    "# aoi_buffered = aoi_simple.buffer(1000)"
   ]
  },
  {
   "cell_type": "code",
   "execution_count": null,
   "metadata": {},
   "outputs": [],
   "source": [
    "YEAR = 2022\n",
    "BUFFER_DAYS = 5"
   ]
  },
  {
   "cell_type": "code",
   "execution_count": null,
   "metadata": {},
   "outputs": [],
   "source": [
    "# Load WAPOR ET data\n",
    "first_year = YEAR\n",
    "last_year = YEAR\n",
    "wapor_et_data = load_wapor_et_data(\n",
    "    first_year, last_year, frequency=\"dekadal\"\n",
    ").filterBounds(aoi_buffered)"
   ]
  },
  {
   "cell_type": "markdown",
   "metadata": {},
   "source": [
    "### Getting sentinel 2 data\n"
   ]
  },
  {
   "cell_type": "code",
   "execution_count": null,
   "metadata": {},
   "outputs": [],
   "source": [
    "s2collection = load_sentinel2_data(year=YEAR, aoi=aoi_buffered)\n",
    "\n",
    "# img = s2collection.first()\n",
    "# print(\"Band projections:\")\n",
    "# for band in img.bandNames().getInfo():\n",
    "#     print(f\"{band}: {img.select(band).projection().crs().getInfo()}\")"
   ]
  },
  {
   "cell_type": "code",
   "execution_count": null,
   "metadata": {},
   "outputs": [],
   "source": [
    "wapor_list = wapor_et_data.toList(36)\n",
    "\n",
    "time_intervals = create_centered_date_ranges(wapor_list, buffer_days=BUFFER_DAYS)\n",
    "\n",
    "bands = [\"B3\", \"B4\", \"B8\", \"B11\", \"B12\"]\n",
    "\n",
    "options = {\"agg_type\": \"mosaic\", \"mosaic_type\": \"least_cloudy\", \"band_name\": \"NDVI\"}\n",
    "\n",
    "s2_harmonized = harmonized_ts(\n",
    "    masked_collection=s2collection,\n",
    "    band_list=bands,\n",
    "    time_intervals=time_intervals,\n",
    "    options=options,\n",
    ")"
   ]
  },
  {
   "cell_type": "code",
   "execution_count": null,
   "metadata": {},
   "outputs": [],
   "source": [
    "# s2_harmonized.first().projection().getInfo()"
   ]
  },
  {
   "cell_type": "code",
   "execution_count": null,
   "metadata": {},
   "outputs": [],
   "source": [
    "def compute_vegetation_indexes(image: ee.Image) -> ee.Image:\n",
    "    \"\"\"\n",
    "    Compute vegetation indexes for a given image\n",
    "\n",
    "    Args:\n",
    "        image (ee.Image): The image to compute the vegetation indexes for\n",
    "\n",
    "    Returns:\n",
    "        ee.Image: The input image with the vegetation indexes\n",
    "\n",
    "    \"\"\"\n",
    "    ndvi = image.normalizedDifference([\"B8\", \"B4\"]).rename(\"NDVI\")\n",
    "    ndwi = image.normalizedDifference([\"B3\", \"B8\"]).rename(\"NDWI\")\n",
    "    ndbi = image.normalizedDifference([\"B11\", \"B8\"]).rename(\"NDBI\")\n",
    "    return image.addBands(ndvi).addBands(ndwi).addBands(ndbi)\n",
    "\n",
    "s2_harmonized_w_vegetation_indexes = s2_harmonized.map(compute_vegetation_indexes)"
   ]
  },
  {
   "cell_type": "code",
   "execution_count": null,
   "metadata": {},
   "outputs": [],
   "source": [
    "# s2_harmonized_w_vegetation_indexes.first().projection().getInfo()"
   ]
  },
  {
   "cell_type": "markdown",
   "metadata": {},
   "source": [
    "### Filling data gaps with harmonic regression"
   ]
  },
  {
   "cell_type": "code",
   "execution_count": null,
   "metadata": {},
   "outputs": [],
   "source": [
    "indexes = [\"NDVI\", \"NDWI\", \"NDBI\"]\n",
    "\n",
    "s2_harmonized_w_vegetation_indexes = s2_harmonized_w_vegetation_indexes.map(\n",
    "    add_time_data\n",
    ")\n",
    "\n",
    "s2_harmonized_gaps_filled = s2_harmonized_w_vegetation_indexes\n",
    "\n",
    "for index in indexes:\n",
    "    regressor = HarmonicRegressor(\n",
    "        omega=1.5, max_harmonic_order=2, vegetation_index=index\n",
    "    )\n",
    "\n",
    "    regressor.fit(s2_harmonized_w_vegetation_indexes)\n",
    "    fitted_collection = regressor.predict(s2_harmonized_w_vegetation_indexes)\n",
    "\n",
    "    fitted_collection = fitted_collection.map(\n",
    "        lambda img: img.select([\"fitted\"]).rename(f\"fitted_{index}\")\n",
    "    )\n",
    "\n",
    "    s2_harmonized_gaps_filled = s2_harmonized_gaps_filled.map(\n",
    "        lambda img: img.addBands(\n",
    "            fitted_collection.filterDate(img.date()).first().select([f\"fitted_{index}\"])\n",
    "        )\n",
    "    )"
   ]
  },
  {
   "cell_type": "code",
   "execution_count": null,
   "metadata": {},
   "outputs": [],
   "source": [
    "# s2_harmonized_w_vegetation_indexes.first().projection().nominalScale().getInfo()"
   ]
  },
  {
   "cell_type": "code",
   "execution_count": null,
   "metadata": {},
   "outputs": [],
   "source": [
    "# s2_harmonized_gaps_filled_list = s2_harmonized_gaps_filled.toList(36)\n",
    "\n",
    "# first = ee.Image(s2_harmonized_gaps_filled_list.get(6)).select(\"fitted_NDVI\").clip(aoi_buffered)\n",
    "# second = ee.Image(s2_harmonized_gaps_filled_list.get(6)).select(\"NDVI\").clip(aoi_buffered)\n",
    "\n",
    "# Map = geemap.Map()\n",
    "\n",
    "# vis_params = {\n",
    "#     \"bands\": [\"fitted_NDVI\"],\n",
    "#     \"min\": 0,\n",
    "#     \"max\": 1,\n",
    "#     \"palette\": [\"red\", \"yellow\", \"green\"],\n",
    "# }\n",
    "\n",
    "# vis_params_2 = {    \n",
    "#     \"bands\": [\"NDVI\"],\n",
    "#     \"min\": 0,\n",
    "#     \"max\": 1,\n",
    "#     \"palette\": [\"red\", \"yellow\", \"green\"],\n",
    "# }\n",
    "\n",
    "# Map.center_object(aoi_buffered, 12)\n",
    "# Map.addLayer(second, vis_params_2, \"NDVI\")\n",
    "# Map.addLayer(first, vis_params, \"Fitted NDVI\")\n",
    "\n",
    "# Map"
   ]
  },
  {
   "cell_type": "markdown",
   "metadata": {},
   "source": [
    "## Downscaling WAPOR ET data to Sentinel 2 resolution"
   ]
  },
  {
   "cell_type": "code",
   "execution_count": null,
   "metadata": {},
   "outputs": [],
   "source": [
    "from utils.downscale_anything_10m import Downscaler"
   ]
  },
  {
   "cell_type": "code",
   "execution_count": null,
   "metadata": {},
   "outputs": [],
   "source": [
    "def resample_collection(\n",
    "    collection: ee.ImageCollection, reference_collection: ee.ImageCollection\n",
    ") -> ee.ImageCollection:\n",
    "    \"\"\"\n",
    "    Resample an image collection to match the resolution and projection of a reference collection.\n",
    "    This function is specifically designed to resample Sentinel-2 imagery to match WAPOR ET data.\n",
    "\n",
    "    Args:\n",
    "        collection (ee.ImageCollection): The input Sentinel-2 image collection to be resampled.\n",
    "        reference_collection (ee.ImageCollection): The reference WAPOR ET image collection.\n",
    "\n",
    "    Returns:\n",
    "        ee.ImageCollection: The resampled Sentinel-2 image collection.\n",
    "    \"\"\"\n",
    "    # Get the projection and scale from the first image of the reference collection\n",
    "    reference_image = reference_collection.first()\n",
    "    target_projection = reference_image.projection()\n",
    "    target_scale = target_projection.nominalScale()\n",
    "\n",
    "    def resample_image(image: ee.Image) -> ee.Image:\n",
    "        \"\"\"\n",
    "        Resample a single image to match the target projection and scale.\n",
    "\n",
    "        Args:\n",
    "            image (ee.Image): Input image to resample.\n",
    "\n",
    "        Returns:\n",
    "            ee.Image: Resampled image with consistent projection and scale.\n",
    "        \"\"\"\n",
    "        # Store original metadata\n",
    "        original_projection = image.projection()\n",
    "        original_scale = original_projection.nominalScale()\n",
    "\n",
    "        # Reproject each band separately to maintain band-specific properties\n",
    "        band_names = image.bandNames()\n",
    "\n",
    "        def resample_band(band_name: ee.String) -> ee.Image:\n",
    "            band = image.select([band_name])\n",
    "            return band.reproject(\n",
    "                crs=target_projection, scale=target_scale, crsTransform=None\n",
    "            ).setDefaultProjection(crs=target_projection, scale=target_scale)\n",
    "\n",
    "        # Map over bands and resample each\n",
    "        resampled_bands = band_names.map(lambda name: resample_band(ee.String(name)))\n",
    "\n",
    "        # Combine resampled bands\n",
    "        resampled = ee.ImageCollection(resampled_bands).toBands().rename(band_names)\n",
    "\n",
    "        # Set metadata about the resampling operation\n",
    "        return resampled.copyProperties(image).set(\n",
    "            {\n",
    "                \"system:time_start\": image.get(\"system:time_start\"),\n",
    "                \"resampled\": True,\n",
    "                \"original_scale\": original_scale,\n",
    "                \"target_scale\": target_scale,\n",
    "                \"original_projection\": original_projection.wkt(),\n",
    "                \"target_projection\": target_projection.wkt(),\n",
    "            }\n",
    "        )\n",
    "\n",
    "    return collection.map(resample_image)"
   ]
  },
  {
   "cell_type": "code",
   "execution_count": null,
   "metadata": {},
   "outputs": [],
   "source": [
    "# def export_image_to_asset(\n",
    "#     image: ee.Image,\n",
    "#     asset_id: str,\n",
    "#     task_name: str,\n",
    "#     year: str,\n",
    "#     aoi: ee.Geometry,\n",
    "#     max_pixels: int = 1e13,\n",
    "# ) -> ee.batch.Task:\n",
    "#     \"\"\"\n",
    "#     Export an image to an Earth Engine asset.\n",
    "#     \"\"\"\n",
    "#     task = ee.batch.Export.image.toAsset(\n",
    "#         image=image,\n",
    "#         description=task_name,\n",
    "#         assetId=asset_id,\n",
    "#         region=aoi,\n",
    "#         scale=10,\n",
    "#         maxPixels=max_pixels,\n",
    "#     )\n",
    "#     print(f\"Exporting {task_name} for {year} to {asset_id}\")\n",
    "#     task.start()\n",
    "#     return task\n",
    "\n",
    "\n",
    "def process_and_export_downscaled_ET(\n",
    "    downscaler: Downscaler,\n",
    "    s2_indices: ee.ImageCollection,\n",
    "    independent_vars: ee.ImageCollection,\n",
    "    dependent_vars: ee.ImageCollection,\n",
    "    aoi: ee.Geometry,\n",
    "    year: str,\n",
    "    scale_coarse: float,\n",
    "    scale_fine: float = 10,\n",
    "    time_steps: int = 36,\n",
    "    time_step_type: str = \"dekadal\",\n",
    ") -> List[ee.batch.Task]:\n",
    "    \"\"\"\n",
    "    Process and export downscaled WaPOR ET images to Earth Engine assets.\n",
    "\n",
    "    Args:\n",
    "        downscaler (Downscaler): The Downscaler object used to downscale the images.\n",
    "        s2_indices (ee.ImageCollection): The Sentinel-2 indices image collection.\n",
    "        independent_vars (ee.ImageCollection): The resampled independent variables image collection.\n",
    "        dependent_vars (ee.ImageCollection): The dependent variables image collection.\n",
    "        aoi (ee.Geometry): The area of interest geometry.\n",
    "        year (str): The year for which the images are processed.\n",
    "        scale_coarse (float): The scale of the images before downscaling.\n",
    "        scale_fine (float): The scale of the images after downscaling.\n",
    "        time_steps (int): Number of time steps in the year (36 for dekadal, 12 for monthly).\n",
    "        time_step_type (str): Type of time step (\"dekadal\" or \"monthly\").\n",
    "\n",
    "    Returns:\n",
    "        List[ee.batch.Task]: A list of export tasks for the downscaled images.\n",
    "    \"\"\"\n",
    "    s2_indices_list = s2_indices.toList(s2_indices.size())\n",
    "    independent_vars_list = independent_vars.toList(independent_vars.size())\n",
    "    dependent_vars_list = dependent_vars.toList(dependent_vars.size())\n",
    "\n",
    "    tasks = []\n",
    "    for i in range(time_steps):\n",
    "        if time_step_type == \"dekadal\":\n",
    "            j = i % 3 + 1\n",
    "            m = i // 3 + 1\n",
    "            date = ee.Date.fromYMD(int(year), m, j * 10 - 9)\n",
    "            time_step_name = f\"{m:02d}_D{j}\"\n",
    "        elif time_step_type == \"monthly\":\n",
    "            m = i + 1\n",
    "            date = ee.Date.fromYMD(int(year), m, 1)\n",
    "            time_step_name = f\"{m:02d}\"\n",
    "        else:\n",
    "            raise ValueError(\"time_step_type must be either 'dekadal' or 'monthly'\")\n",
    "\n",
    "        s2_index = ee.Image(s2_indices_list.get(i))\n",
    "        ind_vars = ee.Image(independent_vars_list.get(i))\n",
    "        dep_vars = ee.Image(dependent_vars_list.get(i))\n",
    "\n",
    "        # Perform downscaling\n",
    "        et_image_downscaled = downscaler.downscale(\n",
    "            coarse_independent_vars=ind_vars,\n",
    "            coarse_dependent_var=dep_vars,\n",
    "            fine_independent_vars=s2_index,\n",
    "            geometry=aoi,\n",
    "            resolution=scale_coarse,\n",
    "        )\n",
    "\n",
    "        # Post-process the downscaled image\n",
    "        et_image_downscaled = back_to_int(et_image_downscaled, 100)\n",
    "\n",
    "        task_name = f\"WaPOR_ET_downscaled_{year}_testin_reproject-{time_step_name}\"\n",
    "        asset_id = f\"projects/thurgau-irrigation/assets/Thurgau/ET_WaPOR_10m__testin_reproject_{time_step_type}_{year}/{task_name}\"\n",
    "\n",
    "        task = export_image_to_asset(\n",
    "            et_image_downscaled,\n",
    "            asset_id,\n",
    "            task_name,\n",
    "            year,\n",
    "            aoi,\n",
    "            crs=\"EPSG:32632\",\n",
    "            scale=scale_fine,\n",
    "        )\n",
    "        tasks.append(task)\n",
    "\n",
    "    return tasks"
   ]
  },
  {
   "cell_type": "code",
   "execution_count": null,
   "metadata": {},
   "outputs": [],
   "source": [
    "# independent_bands = [\"fitted_NDVI\", \"fitted_NDBI\", \"fitted_NDWI\"]\n",
    "# dependent_band = [\"ET\"]\n",
    "\n",
    "# s2_indices = s2_harmonized_gaps_filled.select(independent_bands)\n",
    "# independent_vars = resample_collection(s2_indices, wapor_et_data)\n",
    "# dependent_vars = wapor_et_data.select(dependent_band)\n",
    "\n",
    "# scale = wapor_et_data.first().projection().nominalScale().getInfo()\n",
    "\n",
    "\n",
    "# # Initialize the Downscaler\n",
    "# downscaler = Downscaler(\n",
    "#     independent_vars=independent_bands, dependent_var=dependent_band[0]\n",
    "# )\n",
    "\n",
    "# tasks = process_and_export_downscaled_ET(\n",
    "#     downscaler,\n",
    "#     s2_indices,\n",
    "#     independent_vars,\n",
    "#     dependent_vars,\n",
    "#     aoi_buffered,\n",
    "#     YEAR,\n",
    "#     scale_coarse=scale,\n",
    "#     scale_fine=10,\n",
    "#     time_steps=36,\n",
    "#     time_step_type=\"dekadal\",\n",
    "# )\n",
    "\n",
    "# # You can add additional code here to monitor the tasks if needed\n",
    "# print(f\"Started {len(tasks)} export tasks.\")"
   ]
  },
  {
   "cell_type": "markdown",
   "metadata": {},
   "source": [
    "### Sanity check. Verify that the downscaling and exporting has worked correctly"
   ]
  },
  {
   "cell_type": "code",
   "execution_count": 58,
   "metadata": {},
   "outputs": [
    {
     "data": {
      "text/html": [
       "\n",
       "            <style>\n",
       "                .geemap-dark {\n",
       "                    --jp-widgets-color: white;\n",
       "                    --jp-widgets-label-color: white;\n",
       "                    --jp-ui-font-color1: white;\n",
       "                    --jp-layout-color2: #454545;\n",
       "                    background-color: #383838;\n",
       "                }\n",
       "\n",
       "                .geemap-dark .jupyter-button {\n",
       "                    --jp-layout-color3: #383838;\n",
       "                }\n",
       "\n",
       "                .geemap-colab {\n",
       "                    background-color: var(--colab-primary-surface-color, white);\n",
       "                }\n",
       "\n",
       "                .geemap-colab .jupyter-button {\n",
       "                    --jp-layout-color3: var(--colab-primary-surface-color, white);\n",
       "                }\n",
       "            </style>\n",
       "            "
      ],
      "text/plain": [
       "<IPython.core.display.HTML object>"
      ]
     },
     "metadata": {},
     "output_type": "display_data"
    },
    {
     "name": "stdout",
     "output_type": "stream",
     "text": [
      "Dates of images in the collection:\n",
      "2022-01-01\n",
      "2022-01-11\n",
      "2022-01-21\n",
      "2022-02-01\n",
      "2022-02-11\n",
      "2022-02-21\n",
      "2022-03-01\n",
      "2022-03-11\n",
      "2022-03-21\n",
      "2022-04-01\n",
      "2022-04-11\n",
      "2022-04-21\n",
      "2022-05-01\n",
      "2022-05-11\n",
      "2022-05-21\n",
      "2022-06-01\n",
      "2022-06-11\n",
      "2022-06-21\n",
      "2022-07-01\n",
      "2022-07-11\n",
      "2022-07-21\n",
      "2022-08-01\n",
      "2022-08-11\n",
      "2022-08-21\n",
      "2022-09-01\n",
      "2022-09-11\n",
      "2022-09-21\n",
      "2022-10-01\n",
      "2022-10-11\n",
      "2022-10-21\n",
      "2022-11-01\n",
      "2022-11-11\n",
      "2022-11-21\n",
      "2022-12-01\n",
      "2022-12-11\n",
      "2022-12-21\n"
     ]
    }
   ],
   "source": [
    "wapot_collection_zh = ee.ImageCollection(\"projects/thurgau-irrigation/assets/Zuerich/ET_WaPOR_10m_dekadal_2022\").map(lambda img: back_to_float(img, 100))\n",
    "\n",
    "print_collection_dates(wapot_collection_zh)"
   ]
  },
  {
   "cell_type": "code",
   "execution_count": 53,
   "metadata": {},
   "outputs": [
    {
     "data": {
      "text/html": [
       "\n",
       "            <style>\n",
       "                .geemap-dark {\n",
       "                    --jp-widgets-color: white;\n",
       "                    --jp-widgets-label-color: white;\n",
       "                    --jp-ui-font-color1: white;\n",
       "                    --jp-layout-color2: #454545;\n",
       "                    background-color: #383838;\n",
       "                }\n",
       "\n",
       "                .geemap-dark .jupyter-button {\n",
       "                    --jp-layout-color3: #383838;\n",
       "                }\n",
       "\n",
       "                .geemap-colab {\n",
       "                    background-color: var(--colab-primary-surface-color, white);\n",
       "                }\n",
       "\n",
       "                .geemap-colab .jupyter-button {\n",
       "                    --jp-layout-color3: var(--colab-primary-surface-color, white);\n",
       "                }\n",
       "            </style>\n",
       "            "
      ],
      "text/plain": [
       "<IPython.core.display.HTML object>"
      ]
     },
     "metadata": {},
     "output_type": "display_data"
    }
   ],
   "source": [
    "wapor_collection_zh_list = wapot_collection_zh.toList(36)"
   ]
  },
  {
   "cell_type": "code",
   "execution_count": 57,
   "metadata": {},
   "outputs": [
    {
     "data": {
      "text/html": [
       "\n",
       "            <style>\n",
       "                .geemap-dark {\n",
       "                    --jp-widgets-color: white;\n",
       "                    --jp-widgets-label-color: white;\n",
       "                    --jp-ui-font-color1: white;\n",
       "                    --jp-layout-color2: #454545;\n",
       "                    background-color: #383838;\n",
       "                }\n",
       "\n",
       "                .geemap-dark .jupyter-button {\n",
       "                    --jp-layout-color3: #383838;\n",
       "                }\n",
       "\n",
       "                .geemap-colab {\n",
       "                    background-color: var(--colab-primary-surface-color, white);\n",
       "                }\n",
       "\n",
       "                .geemap-colab .jupyter-button {\n",
       "                    --jp-layout-color3: var(--colab-primary-surface-color, white);\n",
       "                }\n",
       "            </style>\n",
       "            "
      ],
      "text/plain": [
       "<IPython.core.display.HTML object>"
      ]
     },
     "metadata": {},
     "output_type": "display_data"
    },
    {
     "data": {
      "application/vnd.jupyter.widget-view+json": {
       "model_id": "b1b1dc287ea648d08dd99ec06e901cfe",
       "version_major": 2,
       "version_minor": 0
      },
      "text/plain": [
       "Map(center=[47.56858787382066, 9.092720596553875], controls=(WidgetControl(options=['position', 'transparent_b…"
      ]
     },
     "execution_count": 57,
     "metadata": {},
     "output_type": "execute_result"
    }
   ],
   "source": [
    "Map = geemap.Map()\n",
    "\n",
    "image = wapor_collection_zh_list.get(20)\n",
    "# image_2 = wapor_downscaled_tg_list.get(10)\n",
    "\n",
    "vis_params = {\n",
    "    \"bands\": [\"downscaled\"],\n",
    "    \"min\": 0,\n",
    "    \"max\": 5,\n",
    "    \"palette\": [\"blue\", \"lightblue\", \"green\", \"yellow\", \"red\"],\n",
    "}\n",
    "\n",
    "Map.center_object(aoi_buffered, 10)\n",
    "Map.addLayer(ee.Image(image), vis_params, \"ET downscaled\")\n",
    "# Map.addLayer(ee.Image(image_2), vis_params, \"ET downscaled old\")\n",
    "\n",
    "\n",
    "Map"
   ]
  },
  {
   "cell_type": "code",
   "execution_count": null,
   "metadata": {},
   "outputs": [],
   "source": []
  }
 ],
 "metadata": {
  "kernelspec": {
   "display_name": "geemap_env",
   "language": "python",
   "name": "python3"
  },
  "language_info": {
   "codemirror_mode": {
    "name": "ipython",
    "version": 3
   },
   "file_extension": ".py",
   "mimetype": "text/x-python",
   "name": "python",
   "nbconvert_exporter": "python",
   "pygments_lexer": "ipython3",
   "version": "3.11.10"
  }
 },
 "nbformat": 4,
 "nbformat_minor": 2
}
