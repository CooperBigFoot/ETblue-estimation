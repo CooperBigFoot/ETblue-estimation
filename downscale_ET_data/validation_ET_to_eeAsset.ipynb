{
 "cells": [
  {
   "cell_type": "code",
   "execution_count": 1,
   "metadata": {},
   "outputs": [],
   "source": [
    "import pandas as pd\n",
    "import geopandas as gpd\n",
    "import numpy as np\n",
    "import os\n",
    "import sys\n",
    "import matplotlib.pyplot as plt\n",
    "import seaborn as sns\n",
    "from typing import List, Optional, Literal, Union\n",
    "import ee\n",
    "import geemap\n",
    "from shapely.geometry import Point\n",
    "from validate_dowscaled_et import create_ee_feature_collection\n",
    "import calendar\n",
    "from datetime import datetime"
   ]
  },
  {
   "cell_type": "code",
   "execution_count": 2,
   "metadata": {},
   "outputs": [
    {
     "data": {
      "text/html": [
       "\n",
       "            <style>\n",
       "                .geemap-dark {\n",
       "                    --jp-widgets-color: white;\n",
       "                    --jp-widgets-label-color: white;\n",
       "                    --jp-ui-font-color1: white;\n",
       "                    --jp-layout-color2: #454545;\n",
       "                    background-color: #383838;\n",
       "                }\n",
       "\n",
       "                .geemap-dark .jupyter-button {\n",
       "                    --jp-layout-color3: #383838;\n",
       "                }\n",
       "\n",
       "                .geemap-colab {\n",
       "                    background-color: var(--colab-primary-surface-color, white);\n",
       "                }\n",
       "\n",
       "                .geemap-colab .jupyter-button {\n",
       "                    --jp-layout-color3: var(--colab-primary-surface-color, white);\n",
       "                }\n",
       "            </style>\n",
       "            "
      ],
      "text/plain": [
       "<IPython.core.display.HTML object>"
      ]
     },
     "metadata": {},
     "output_type": "display_data"
    }
   ],
   "source": [
    "ee.Initialize(project=\"thurgau-irrigation\")"
   ]
  },
  {
   "cell_type": "markdown",
   "metadata": {},
   "source": [
    "# 1: Rietholzbach"
   ]
  },
  {
   "cell_type": "markdown",
   "metadata": {},
   "source": [
    "## Cleaning and aggregating the hourly ET data to daily data for Rietholzbach.\n",
    "\n",
    "The aggregation is based on the following:\n",
    "\n",
    "1. Sum Available Hourly Data:\n",
    "   - For each day, sum all the available hourly evapotranspiration (ET) measurements to obtain a partial daily total.\n",
    "\n",
    "2. Count Available Hours:\n",
    "   - Count the number of hours with available data for each day (denoted as *n*).\n",
    "\n",
    "3. Calculate Average Hourly ET:\n",
    "   - Compute the average hourly ET for the day:\n",
    "     $$\n",
    "     \\text{Average Hourly ET} = \\frac{\\text{Partial Daily Total}}{n}\n",
    "     $$\n",
    "\n",
    "4. Estimate Total Daily ET:\n",
    "   - Estimate the total daily ET by scaling the average hourly ET to 24 hours:\n",
    "     $$\n",
    "     \\text{Estimated Daily Total ET} = \\text{Average Hourly ET} \\times 24 = \\text{Partial Daily Total} \\times \\left( \\frac{24}{n} \\right)\n",
    "     $$\n",
    "\n",
    "5. Handle Missing Data:\n",
    "   - If any hours are missing within a day, this method adjusts the daily total by assuming that the missing hours have similar ET rates to the average of the available hours.\n",
    "   - If all data is missing for a day, the daily total is set to `NaN`.\n",
    "\n",
    "\n"
   ]
  },
  {
   "cell_type": "code",
   "execution_count": 3,
   "metadata": {},
   "outputs": [
    {
     "data": {
      "text/html": [
       "\n",
       "            <style>\n",
       "                .geemap-dark {\n",
       "                    --jp-widgets-color: white;\n",
       "                    --jp-widgets-label-color: white;\n",
       "                    --jp-ui-font-color1: white;\n",
       "                    --jp-layout-color2: #454545;\n",
       "                    background-color: #383838;\n",
       "                }\n",
       "\n",
       "                .geemap-dark .jupyter-button {\n",
       "                    --jp-layout-color3: #383838;\n",
       "                }\n",
       "\n",
       "                .geemap-colab {\n",
       "                    background-color: var(--colab-primary-surface-color, white);\n",
       "                }\n",
       "\n",
       "                .geemap-colab .jupyter-button {\n",
       "                    --jp-layout-color3: var(--colab-primary-surface-color, white);\n",
       "                }\n",
       "            </style>\n",
       "            "
      ],
      "text/plain": [
       "<IPython.core.display.HTML object>"
      ]
     },
     "metadata": {},
     "output_type": "display_data"
    }
   ],
   "source": [
    "# WARNING: These two functions could be merged into one but I am a little to lazy to do it now\n",
    "\n",
    "def read_and_process_etl_hourly_data(\n",
    "    data_folder: str, file_start: str, year_range: List[int]\n",
    ") -> pd.Series:\n",
    "    \"\"\"\n",
    "    Read, clean, and aggregate ETL data from multiple files.\n",
    "\n",
    "    Args:\n",
    "        data_folder (str): Path to the folder containing ETL data files.\n",
    "        file_start (str): Common prefix of the ETL data files.\n",
    "        year_range (List[int]): List of years to process.\n",
    "\n",
    "    Returns:\n",
    "        pd.Series: Daily aggregated evapotranspiration data.\n",
    "    \"\"\"\n",
    "    all_data = []\n",
    "\n",
    "    for year in year_range:\n",
    "        filename = os.path.join(data_folder, f\"{file_start}{year}.txt\")\n",
    "        df = pd.read_csv(\n",
    "            filename,\n",
    "            sep=\";\",\n",
    "            skiprows=26,\n",
    "            header=None,\n",
    "            names=[\"datetime\", \"evapotranspiration\", \"flag\"],\n",
    "            dtype={\"datetime\": str, \"evapotranspiration\": float, \"flag\": int},\n",
    "        )\n",
    "\n",
    "        # Process datetime column\n",
    "        df[\"datetime\"] = df[\"datetime\"].str.replace(\"24:00\", \"00:00\")\n",
    "        df[\"datetime\"] = pd.to_datetime(df[\"datetime\"], format=\"%d-%m-%Y %H:%M\")\n",
    "        df[\"datetime\"] += pd.to_timedelta(\n",
    "            (df[\"datetime\"].dt.hour == 0).astype(int), unit=\"D\"\n",
    "        )\n",
    "\n",
    "        df.set_index(\"datetime\", inplace=True)\n",
    "        all_data.append(df)\n",
    "\n",
    "    combined_df = pd.concat(all_data)\n",
    "\n",
    "    # Clean data\n",
    "    cleaned_df = combined_df[\n",
    "        (combined_df[\"flag\"] != 1) & (combined_df[\"evapotranspiration\"] != -9999)\n",
    "    ][\"evapotranspiration\"]\n",
    "\n",
    "    # Aggregate to daily\n",
    "    daily_et = cleaned_df.resample(\"D\").apply(\n",
    "        lambda x: x.sum() * (24 / x.count()) if x.count() > 0 else np.nan\n",
    "    )\n",
    "\n",
    "    daily_et = daily_et.dropna()\n",
    "\n",
    "    return daily_et\n",
    "\n",
    "\n",
    "def read_and_process_etl_daily_data(\n",
    "    data_folder: str,\n",
    "    file_start: str,\n",
    "    year_range: List[int],\n",
    ") -> pd.Series:\n",
    "    \"\"\"\n",
    "    Read, clean, and optionally aggregate ETL data from multiple files.\n",
    "\n",
    "    Args:\n",
    "        data_folder (str): Path to the folder containing ETL data files.\n",
    "        file_start (str): Common prefix of the ETL data files.\n",
    "        year_range (List[int]): List of years to process.\n",
    "\n",
    "    Returns:\n",
    "        pd.Series: Daily evapotranspiration data.\n",
    "    \"\"\"\n",
    "    all_data = []\n",
    "\n",
    "    for year in year_range:\n",
    "        filename = os.path.join(data_folder, f\"{file_start}{year}.txt\")\n",
    "        df = pd.read_csv(\n",
    "            filename,\n",
    "            sep=\";\",\n",
    "            skiprows=34,\n",
    "            header=None,\n",
    "            names=[\"datetime\", \"evapotranspiration\", \"flag\"],\n",
    "            dtype={\"datetime\": str, \"evapotranspiration\": float, \"flag\": int},\n",
    "        )\n",
    "\n",
    "        # Process datetime column\n",
    "        df[\"datetime\"] = pd.to_datetime(df[\"datetime\"], format=\"%d-%m-%Y\")\n",
    "\n",
    "        df.set_index(\"datetime\", inplace=True)\n",
    "        all_data.append(df)\n",
    "\n",
    "    combined_df = pd.concat(all_data)\n",
    "\n",
    "    # Clean data\n",
    "    cleaned_df = combined_df[\n",
    "        (combined_df[\"flag\"] != 1) & (combined_df[\"evapotranspiration\"] != -9999)\n",
    "    ][\"evapotranspiration\"]\n",
    "\n",
    "    daily_et = cleaned_df\n",
    "\n",
    "    return daily_et"
   ]
  },
  {
   "cell_type": "code",
   "execution_count": 4,
   "metadata": {},
   "outputs": [
    {
     "data": {
      "text/html": [
       "\n",
       "            <style>\n",
       "                .geemap-dark {\n",
       "                    --jp-widgets-color: white;\n",
       "                    --jp-widgets-label-color: white;\n",
       "                    --jp-ui-font-color1: white;\n",
       "                    --jp-layout-color2: #454545;\n",
       "                    background-color: #383838;\n",
       "                }\n",
       "\n",
       "                .geemap-dark .jupyter-button {\n",
       "                    --jp-layout-color3: #383838;\n",
       "                }\n",
       "\n",
       "                .geemap-colab {\n",
       "                    background-color: var(--colab-primary-surface-color, white);\n",
       "                }\n",
       "\n",
       "                .geemap-colab .jupyter-button {\n",
       "                    --jp-layout-color3: var(--colab-primary-surface-color, white);\n",
       "                }\n",
       "            </style>\n",
       "            "
      ],
      "text/plain": [
       "<IPython.core.display.HTML object>"
      ]
     },
     "metadata": {},
     "output_type": "display_data"
    }
   ],
   "source": [
    "# data_folder = \"/Users/cooper/Desktop/Hydrosolutions/ETblue-estimation /RietholzbachData_Hirschi_etal_HESS/hourly/Evapotranspiration\"\n",
    "# file_start = \"ETL_\"\n",
    "# year_range = range(2009, 2016)\n",
    "\n",
    "# hourly_ET_aggregated = read_and_process_etl_hourly_data(data_folder, file_start, year_range, frequency=\"H\")\n",
    "\n",
    "data_folder = \"/Users/cooper/Desktop/Hydrosolutions/ETblue-estimation /ETL1\"\n",
    "file_start = \"ETL1_\"\n",
    "year_range = range(2017, 2022)\n",
    "\n",
    "daily_ET = read_and_process_etl_daily_data(data_folder, file_start, year_range)"
   ]
  },
  {
   "cell_type": "code",
   "execution_count": 5,
   "metadata": {},
   "outputs": [
    {
     "data": {
      "text/html": [
       "\n",
       "            <style>\n",
       "                .geemap-dark {\n",
       "                    --jp-widgets-color: white;\n",
       "                    --jp-widgets-label-color: white;\n",
       "                    --jp-ui-font-color1: white;\n",
       "                    --jp-layout-color2: #454545;\n",
       "                    background-color: #383838;\n",
       "                }\n",
       "\n",
       "                .geemap-dark .jupyter-button {\n",
       "                    --jp-layout-color3: #383838;\n",
       "                }\n",
       "\n",
       "                .geemap-colab {\n",
       "                    background-color: var(--colab-primary-surface-color, white);\n",
       "                }\n",
       "\n",
       "                .geemap-colab .jupyter-button {\n",
       "                    --jp-layout-color3: var(--colab-primary-surface-color, white);\n",
       "                }\n",
       "            </style>\n",
       "            "
      ],
      "text/plain": [
       "<IPython.core.display.HTML object>"
      ]
     },
     "metadata": {},
     "output_type": "display_data"
    },
    {
     "data": {
      "text/plain": [
       "datetime\n",
       "2017-01-01    0.482\n",
       "2017-01-02    0.000\n",
       "2017-01-03    0.450\n",
       "2017-01-04    0.000\n",
       "2017-01-05    0.000\n",
       "              ...  \n",
       "2021-12-27    0.000\n",
       "2021-12-28    0.000\n",
       "2021-12-29    0.000\n",
       "2021-12-30    0.000\n",
       "2021-12-31    0.000\n",
       "Name: evapotranspiration, Length: 1714, dtype: float64"
      ]
     },
     "execution_count": 5,
     "metadata": {},
     "output_type": "execute_result"
    }
   ],
   "source": [
    "daily_ET"
   ]
  },
  {
   "cell_type": "markdown",
   "metadata": {},
   "source": [
    "## Exporting the time series to an ee.FeatureCollection"
   ]
  },
  {
   "cell_type": "code",
   "execution_count": 6,
   "metadata": {},
   "outputs": [
    {
     "data": {
      "text/html": [
       "\n",
       "            <style>\n",
       "                .geemap-dark {\n",
       "                    --jp-widgets-color: white;\n",
       "                    --jp-widgets-label-color: white;\n",
       "                    --jp-ui-font-color1: white;\n",
       "                    --jp-layout-color2: #454545;\n",
       "                    background-color: #383838;\n",
       "                }\n",
       "\n",
       "                .geemap-dark .jupyter-button {\n",
       "                    --jp-layout-color3: #383838;\n",
       "                }\n",
       "\n",
       "                .geemap-colab {\n",
       "                    background-color: var(--colab-primary-surface-color, white);\n",
       "                }\n",
       "\n",
       "                .geemap-colab .jupyter-button {\n",
       "                    --jp-layout-color3: var(--colab-primary-surface-color, white);\n",
       "                }\n",
       "            </style>\n",
       "            "
      ],
      "text/plain": [
       "<IPython.core.display.HTML object>"
      ]
     },
     "metadata": {},
     "output_type": "display_data"
    }
   ],
   "source": [
    "station_x = 8.998613\n",
    "station_y = 47.3800787405\n",
    "\n",
    "# fc_hourly_agg = create_ee_feature_collection(hourly_ET_aggregated, station_x, station_y)\n",
    "daily_ET = create_ee_feature_collection(daily_ET, station_x, station_y)"
   ]
  },
  {
   "cell_type": "code",
   "execution_count": 7,
   "metadata": {},
   "outputs": [
    {
     "data": {
      "text/html": [
       "\n",
       "            <style>\n",
       "                .geemap-dark {\n",
       "                    --jp-widgets-color: white;\n",
       "                    --jp-widgets-label-color: white;\n",
       "                    --jp-ui-font-color1: white;\n",
       "                    --jp-layout-color2: #454545;\n",
       "                    background-color: #383838;\n",
       "                }\n",
       "\n",
       "                .geemap-dark .jupyter-button {\n",
       "                    --jp-layout-color3: #383838;\n",
       "                }\n",
       "\n",
       "                .geemap-colab {\n",
       "                    background-color: var(--colab-primary-surface-color, white);\n",
       "                }\n",
       "\n",
       "                .geemap-colab .jupyter-button {\n",
       "                    --jp-layout-color3: var(--colab-primary-surface-color, white);\n",
       "                }\n",
       "            </style>\n",
       "            "
      ],
      "text/plain": [
       "<IPython.core.display.HTML object>"
      ]
     },
     "metadata": {},
     "output_type": "display_data"
    },
    {
     "data": {
      "text/plain": [
       "{'type': 'Feature',\n",
       " 'geometry': {'type': 'Point', 'coordinates': [8.998613, 47.3800787405]},\n",
       " 'id': '0',\n",
       " 'properties': {'date_[YYYYmmdd]': '2017-01-01',\n",
       "  'evapotranspiration_[mm/d]': 0.482,\n",
       "  'system:time_start': 1483228800000}}"
      ]
     },
     "execution_count": 7,
     "metadata": {},
     "output_type": "execute_result"
    }
   ],
   "source": [
    "daily_ET.first().getInfo()"
   ]
  },
  {
   "cell_type": "code",
   "execution_count": 8,
   "metadata": {},
   "outputs": [
    {
     "data": {
      "text/html": [
       "\n",
       "            <style>\n",
       "                .geemap-dark {\n",
       "                    --jp-widgets-color: white;\n",
       "                    --jp-widgets-label-color: white;\n",
       "                    --jp-ui-font-color1: white;\n",
       "                    --jp-layout-color2: #454545;\n",
       "                    background-color: #383838;\n",
       "                }\n",
       "\n",
       "                .geemap-dark .jupyter-button {\n",
       "                    --jp-layout-color3: #383838;\n",
       "                }\n",
       "\n",
       "                .geemap-colab {\n",
       "                    background-color: var(--colab-primary-surface-color, white);\n",
       "                }\n",
       "\n",
       "                .geemap-colab .jupyter-button {\n",
       "                    --jp-layout-color3: var(--colab-primary-surface-color, white);\n",
       "                }\n",
       "            </style>\n",
       "            "
      ],
      "text/plain": [
       "<IPython.core.display.HTML object>"
      ]
     },
     "metadata": {},
     "output_type": "display_data"
    }
   ],
   "source": [
    "# # Export the FeatureCollection to an Earth Engine asset\n",
    "# task = ee.batch.Export.table.toAsset(\n",
    "#     collection=fc_hourly_agg,\n",
    "#     description=\"evapotranspiration_timeseries_rietholzbach\",\n",
    "#     assetId=\"projects/thurgau-irrigation/assets/Thurgau/ETFluxNet/ET_timeseries_rietholzbach_2009_2015\",\n",
    "# )\n",
    "# task.start()\n",
    "\n",
    "# Export the FeatureCollection to an Earth Engine asset\n",
    "task = ee.batch.Export.table.toAsset(\n",
    "    collection=daily_ET,\n",
    "    description=\"evapotranspiration_timeseries_rietholzbach_extended\",\n",
    "    assetId=\"projects/thurgau-irrigation/assets/Thurgau/ETFluxNet/ET_timeseries_rietholzbach_2017_2021\",\n",
    ")\n",
    "task.start()"
   ]
  },
  {
   "cell_type": "markdown",
   "metadata": {},
   "source": [
    "## Checking that the export ran successfully"
   ]
  },
  {
   "cell_type": "code",
   "execution_count": 9,
   "metadata": {},
   "outputs": [
    {
     "data": {
      "text/html": [
       "\n",
       "            <style>\n",
       "                .geemap-dark {\n",
       "                    --jp-widgets-color: white;\n",
       "                    --jp-widgets-label-color: white;\n",
       "                    --jp-ui-font-color1: white;\n",
       "                    --jp-layout-color2: #454545;\n",
       "                    background-color: #383838;\n",
       "                }\n",
       "\n",
       "                .geemap-dark .jupyter-button {\n",
       "                    --jp-layout-color3: #383838;\n",
       "                }\n",
       "\n",
       "                .geemap-colab {\n",
       "                    background-color: var(--colab-primary-surface-color, white);\n",
       "                }\n",
       "\n",
       "                .geemap-colab .jupyter-button {\n",
       "                    --jp-layout-color3: var(--colab-primary-surface-color, white);\n",
       "                }\n",
       "            </style>\n",
       "            "
      ],
      "text/plain": [
       "<IPython.core.display.HTML object>"
      ]
     },
     "metadata": {},
     "output_type": "display_data"
    },
    {
     "data": {
      "text/plain": [
       "'2017-01-01'"
      ]
     },
     "execution_count": 9,
     "metadata": {},
     "output_type": "execute_result"
    }
   ],
   "source": [
    "point_fc = ee.FeatureCollection(\n",
    "    \"projects/thurgau-irrigation/assets/Thurgau/ETFluxNet/ET_timeseries_rietholzbach_2017_2021\"\n",
    ").sort(\"system:time_start\")\n",
    "\n",
    "# Print the first feature to verify\n",
    "ee.Date(point_fc.first().get(\"system:time_start\")).format(\"YYYY-MM-dd\").getInfo()"
   ]
  },
  {
   "cell_type": "markdown",
   "metadata": {},
   "source": [
    "# 2: Oensingen\n",
    "\n",
    "### **Warning**: this code is not very clean. There is a lot of code duplication. The only use for this code is to export the ET validation data to an ee.FeatureCollection. It will not be used for further analysis."
   ]
  },
  {
   "cell_type": "markdown",
   "metadata": {},
   "source": [
    "## Evapotranspiration Calculation\n",
    "\n",
    "The monthly evapotranspiration (ET) is calculated using the following equation:\n",
    "\n",
    "$ET_{mm/month} = \\frac{LE}{\\lambda \\cdot \\rho} \\cdot 86400 \\cdot 1000 \\cdot days_{month}$\n",
    "\n",
    "Where:\n",
    "- $ET_{mm/month}$ is the evapotranspiration in mm/month\n",
    "- $LE$ is the latent energy flux in W/m²\n",
    "- $\\lambda$ is the latent heat of vaporization in J/kg, calculated as:\n",
    "  $\\lambda = 2.501 \\times 10^6 - 2361 \\cdot T_{air}$\n",
    "- $\\rho$ is the density of water (1000 kg/m³)\n",
    "- $T_{air}$ is the air temperature in °C\n",
    "- $86400$ is the number of seconds in a day\n",
    "- $1000$ is the conversion factor from m to mm\n",
    "- $days_{month}$ is the number of days in the month\n",
    "\n",
    "The calculation steps are as follows:\n",
    "\n",
    "1. Calculate $\\lambda$ using air temperature\n",
    "2. Convert LE to ET in kg/m²/s: $ET_{kg/m²/s} = \\frac{LE}{\\lambda \\cdot \\rho}$\n",
    "3. Convert to mm/day: $ET_{mm/day} = ET_{kg/m²/s} \\cdot 86400 \\cdot 1000$\n",
    "4. Convert to mm/month: $ET_{mm/month} = ET_{mm/day} \\cdot days_{month}$\n",
    "\n",
    "This equation accounts for the temperature-dependent latent heat of vaporization and converts the energy flux to a monthly water depth equivalent."
   ]
  },
  {
   "cell_type": "code",
   "execution_count": 32,
   "metadata": {},
   "outputs": [
    {
     "data": {
      "text/html": [
       "\n",
       "            <style>\n",
       "                .geemap-dark {\n",
       "                    --jp-widgets-color: white;\n",
       "                    --jp-widgets-label-color: white;\n",
       "                    --jp-ui-font-color1: white;\n",
       "                    --jp-layout-color2: #454545;\n",
       "                    background-color: #383838;\n",
       "                }\n",
       "\n",
       "                .geemap-dark .jupyter-button {\n",
       "                    --jp-layout-color3: #383838;\n",
       "                }\n",
       "\n",
       "                .geemap-colab {\n",
       "                    background-color: var(--colab-primary-surface-color, white);\n",
       "                }\n",
       "\n",
       "                .geemap-colab .jupyter-button {\n",
       "                    --jp-layout-color3: var(--colab-primary-surface-color, white);\n",
       "                }\n",
       "            </style>\n",
       "            "
      ],
      "text/plain": [
       "<IPython.core.display.HTML object>"
      ]
     },
     "metadata": {},
     "output_type": "display_data"
    },
    {
     "name": "stderr",
     "output_type": "stream",
     "text": [
      "/var/folders/y6/kqwqph4s3sj7hkxryrly5y6r0000gn/T/ipykernel_537/366911320.py:2: UserWarning: Could not infer format, so each element will be parsed individually, falling back to `dateutil`. To ensure parsing is consistent and as-expected, please specify a format.\n",
      "  oensingen = pd.read_csv(file_path, sep=\",\", decimal=\".\", parse_dates=[\"TIMESTAMP\"])\n"
     ]
    }
   ],
   "source": [
    "file_path = \"/Users/cooper/Desktop/Hydrosolutions/ETblue-estimation /Oensingen_Flux_Net.csv\"\n",
    "oensingen = pd.read_csv(file_path, sep=\",\", decimal=\".\", parse_dates=[\"TIMESTAMP\"])"
   ]
  },
  {
   "cell_type": "code",
   "execution_count": 34,
   "metadata": {},
   "outputs": [
    {
     "data": {
      "text/html": [
       "\n",
       "            <style>\n",
       "                .geemap-dark {\n",
       "                    --jp-widgets-color: white;\n",
       "                    --jp-widgets-label-color: white;\n",
       "                    --jp-ui-font-color1: white;\n",
       "                    --jp-layout-color2: #454545;\n",
       "                    background-color: #383838;\n",
       "                }\n",
       "\n",
       "                .geemap-dark .jupyter-button {\n",
       "                    --jp-layout-color3: #383838;\n",
       "                }\n",
       "\n",
       "                .geemap-colab {\n",
       "                    background-color: var(--colab-primary-surface-color, white);\n",
       "                }\n",
       "\n",
       "                .geemap-colab .jupyter-button {\n",
       "                    --jp-layout-color3: var(--colab-primary-surface-color, white);\n",
       "                }\n",
       "            </style>\n",
       "            "
      ],
      "text/plain": [
       "<IPython.core.display.HTML object>"
      ]
     },
     "metadata": {},
     "output_type": "display_data"
    },
    {
     "name": "stderr",
     "output_type": "stream",
     "text": [
      "/var/folders/y6/kqwqph4s3sj7hkxryrly5y6r0000gn/T/ipykernel_537/2458033447.py:5: UserWarning: Could not infer format, so each element will be parsed individually, falling back to `dateutil`. To ensure parsing is consistent and as-expected, please specify a format.\n",
      "  oensingen_2021 = pd.read_csv(oensingen_2021_path, sep=\",\", decimal=\".\", parse_dates=[\"TIMESTAMP\"])\n",
      "/var/folders/y6/kqwqph4s3sj7hkxryrly5y6r0000gn/T/ipykernel_537/2458033447.py:6: UserWarning: Could not infer format, so each element will be parsed individually, falling back to `dateutil`. To ensure parsing is consistent and as-expected, please specify a format.\n",
      "  oensingen_2022 = pd.read_csv(oensingen_2022_path, sep=\",\", decimal=\".\", parse_dates=[\"TIMESTAMP\"])\n",
      "/var/folders/y6/kqwqph4s3sj7hkxryrly5y6r0000gn/T/ipykernel_537/2458033447.py:7: UserWarning: Could not infer format, so each element will be parsed individually, falling back to `dateutil`. To ensure parsing is consistent and as-expected, please specify a format.\n",
      "  oensingen_2023 = pd.read_csv(oensingen_2023_path, sep=\",\", decimal=\".\", parse_dates=[\"TIMESTAMP\"])\n"
     ]
    }
   ],
   "source": [
    "oensingen_2021_path = \"/Users/cooper/Desktop/Hydrosolutions/ETblue-estimation /oensingen_2021-23/CH-OE2_2021_fluxes_meteo_20231228_daily.csv\"\n",
    "oensingen_2022_path = \"/Users/cooper/Desktop/Hydrosolutions/ETblue-estimation /oensingen_2021-23/CH-OE2_2022_fluxes_meteo_20231228_daily.csv\"\n",
    "oensingen_2023_path = \"/Users/cooper/Desktop/Hydrosolutions/ETblue-estimation /oensingen_2021-23/CH-OE2_2023_fluxes_meteo_20240401_daily.csv\"\n",
    "\n",
    "oensingen_2021 = pd.read_csv(oensingen_2021_path, sep=\",\", decimal=\".\", parse_dates=[\"TIMESTAMP\"])\n",
    "oensingen_2022 = pd.read_csv(oensingen_2022_path, sep=\",\", decimal=\".\", parse_dates=[\"TIMESTAMP\"])\n",
    "oensingen_2023 = pd.read_csv(oensingen_2023_path, sep=\",\", decimal=\".\", parse_dates=[\"TIMESTAMP\"])\n",
    "\n",
    "oensingen = pd.concat([oensingen, oensingen_2021, oensingen_2022, oensingen_2023])"
   ]
  },
  {
   "cell_type": "code",
   "execution_count": 36,
   "metadata": {},
   "outputs": [
    {
     "data": {
      "text/html": [
       "\n",
       "            <style>\n",
       "                .geemap-dark {\n",
       "                    --jp-widgets-color: white;\n",
       "                    --jp-widgets-label-color: white;\n",
       "                    --jp-ui-font-color1: white;\n",
       "                    --jp-layout-color2: #454545;\n",
       "                    background-color: #383838;\n",
       "                }\n",
       "\n",
       "                .geemap-dark .jupyter-button {\n",
       "                    --jp-layout-color3: #383838;\n",
       "                }\n",
       "\n",
       "                .geemap-colab {\n",
       "                    background-color: var(--colab-primary-surface-color, white);\n",
       "                }\n",
       "\n",
       "                .geemap-colab .jupyter-button {\n",
       "                    --jp-layout-color3: var(--colab-primary-surface-color, white);\n",
       "                }\n",
       "            </style>\n",
       "            "
      ],
      "text/plain": [
       "<IPython.core.display.HTML object>"
      ]
     },
     "metadata": {},
     "output_type": "display_data"
    }
   ],
   "source": [
    "def calc_et_from_le_mm_month(LE, Tair, days_in_month):\n",
    "    \"\"\"\n",
    "    Calculate evapotranspiration (ET) from latent energy (LE) and air temperature (Tair),\n",
    "    and convert it to mm/month.\n",
    "    \n",
    "    Args:\n",
    "        LE (float or array-like): Latent energy flux (W/m^2)\n",
    "        Tair (float or array-like): Air temperature (°C)\n",
    "        days_in_month (int): Number of days in the current month\n",
    "    \n",
    "    Returns:\n",
    "        ET_mm_month (float or array-like): Evapotranspiration in mm/month\n",
    "    \"\"\"\n",
    "    # Constants\n",
    "    rho = 1000  # Density of water in kg/m^3\n",
    "    lambda_T = 2.501e6 - 2361 * Tair  # Latent heat of vaporization (J/kg), temperature dependent\n",
    "    seconds_per_day = 86400  # Number of seconds in a day\n",
    "    \n",
    "    # Calculate ET in kg/m^2/s\n",
    "    ET_kg_m2_s = LE / (lambda_T * rho)\n",
    "    \n",
    "    # Convert ET to mm/day\n",
    "    ET_mm_day = ET_kg_m2_s * seconds_per_day * 1000  # Convert to mm/day (1 kg/m^2 = 1 mm)\n",
    "    \n",
    "    # Convert to mm/month\n",
    "    ET_mm_month = ET_mm_day * days_in_month\n",
    "    \n",
    "    return ET_mm_month\n",
    "\n",
    "def get_days_in_month(timestamp):\n",
    "    \"\"\"\n",
    "    Get the number of days in a month based on the timestamp.\n",
    "    \n",
    "    Args:\n",
    "        timestamp (str): Timestamp in the format 'YYYYMM'\n",
    "    \n",
    "    Returns:\n",
    "        int: Number of days in the month\n",
    "    \"\"\"\n",
    "    year = int(timestamp[:4])\n",
    "    month = int(timestamp[4:])\n",
    "    return calendar.monthrange(year, month)[1]"
   ]
  },
  {
   "cell_type": "code",
   "execution_count": 37,
   "metadata": {},
   "outputs": [
    {
     "data": {
      "text/html": [
       "\n",
       "            <style>\n",
       "                .geemap-dark {\n",
       "                    --jp-widgets-color: white;\n",
       "                    --jp-widgets-label-color: white;\n",
       "                    --jp-ui-font-color1: white;\n",
       "                    --jp-layout-color2: #454545;\n",
       "                    background-color: #383838;\n",
       "                }\n",
       "\n",
       "                .geemap-dark .jupyter-button {\n",
       "                    --jp-layout-color3: #383838;\n",
       "                }\n",
       "\n",
       "                .geemap-colab {\n",
       "                    background-color: var(--colab-primary-surface-color, white);\n",
       "                }\n",
       "\n",
       "                .geemap-colab .jupyter-button {\n",
       "                    --jp-layout-color3: var(--colab-primary-surface-color, white);\n",
       "                }\n",
       "            </style>\n",
       "            "
      ],
      "text/plain": [
       "<IPython.core.display.HTML object>"
      ]
     },
     "metadata": {},
     "output_type": "display_data"
    },
    {
     "data": {
      "text/html": [
       "<div>\n",
       "<style scoped>\n",
       "    .dataframe tbody tr th:only-of-type {\n",
       "        vertical-align: middle;\n",
       "    }\n",
       "\n",
       "    .dataframe tbody tr th {\n",
       "        vertical-align: top;\n",
       "    }\n",
       "\n",
       "    .dataframe thead th {\n",
       "        text-align: right;\n",
       "    }\n",
       "</style>\n",
       "<table border=\"1\" class=\"dataframe\">\n",
       "  <thead>\n",
       "    <tr style=\"text-align: right;\">\n",
       "      <th></th>\n",
       "      <th>TIMESTAMP</th>\n",
       "      <th>LE_F_MDS</th>\n",
       "      <th>TA_F_MDS</th>\n",
       "      <th>days_in_month</th>\n",
       "      <th>ET_[mm/month]</th>\n",
       "    </tr>\n",
       "  </thead>\n",
       "  <tbody>\n",
       "    <tr>\n",
       "      <th>0</th>\n",
       "      <td>200401</td>\n",
       "      <td>11.3573</td>\n",
       "      <td>0.922</td>\n",
       "      <td>31</td>\n",
       "      <td>12.173487</td>\n",
       "    </tr>\n",
       "    <tr>\n",
       "      <th>1</th>\n",
       "      <td>200402</td>\n",
       "      <td>17.0634</td>\n",
       "      <td>1.409</td>\n",
       "      <td>29</td>\n",
       "      <td>17.117553</td>\n",
       "    </tr>\n",
       "    <tr>\n",
       "      <th>2</th>\n",
       "      <td>200403</td>\n",
       "      <td>39.4424</td>\n",
       "      <td>4.735</td>\n",
       "      <td>31</td>\n",
       "      <td>42.429772</td>\n",
       "    </tr>\n",
       "    <tr>\n",
       "      <th>3</th>\n",
       "      <td>200404</td>\n",
       "      <td>70.4732</td>\n",
       "      <td>9.932</td>\n",
       "      <td>30</td>\n",
       "      <td>73.728681</td>\n",
       "    </tr>\n",
       "    <tr>\n",
       "      <th>4</th>\n",
       "      <td>200405</td>\n",
       "      <td>96.8464</td>\n",
       "      <td>12.657</td>\n",
       "      <td>31</td>\n",
       "      <td>104.970107</td>\n",
       "    </tr>\n",
       "    <tr>\n",
       "      <th>...</th>\n",
       "      <td>...</td>\n",
       "      <td>...</td>\n",
       "      <td>...</td>\n",
       "      <td>...</td>\n",
       "      <td>...</td>\n",
       "    </tr>\n",
       "    <tr>\n",
       "      <th>360</th>\n",
       "      <td>202312</td>\n",
       "      <td>NaN</td>\n",
       "      <td>NaN</td>\n",
       "      <td>31</td>\n",
       "      <td>NaN</td>\n",
       "    </tr>\n",
       "    <tr>\n",
       "      <th>361</th>\n",
       "      <td>202312</td>\n",
       "      <td>NaN</td>\n",
       "      <td>NaN</td>\n",
       "      <td>31</td>\n",
       "      <td>NaN</td>\n",
       "    </tr>\n",
       "    <tr>\n",
       "      <th>362</th>\n",
       "      <td>202312</td>\n",
       "      <td>NaN</td>\n",
       "      <td>NaN</td>\n",
       "      <td>31</td>\n",
       "      <td>NaN</td>\n",
       "    </tr>\n",
       "    <tr>\n",
       "      <th>363</th>\n",
       "      <td>202312</td>\n",
       "      <td>NaN</td>\n",
       "      <td>NaN</td>\n",
       "      <td>31</td>\n",
       "      <td>NaN</td>\n",
       "    </tr>\n",
       "    <tr>\n",
       "      <th>364</th>\n",
       "      <td>202312</td>\n",
       "      <td>NaN</td>\n",
       "      <td>NaN</td>\n",
       "      <td>31</td>\n",
       "      <td>NaN</td>\n",
       "    </tr>\n",
       "  </tbody>\n",
       "</table>\n",
       "<p>1299 rows × 5 columns</p>\n",
       "</div>"
      ],
      "text/plain": [
       "    TIMESTAMP  LE_F_MDS  TA_F_MDS  days_in_month  ET_[mm/month]\n",
       "0      200401   11.3573     0.922             31      12.173487\n",
       "1      200402   17.0634     1.409             29      17.117553\n",
       "2      200403   39.4424     4.735             31      42.429772\n",
       "3      200404   70.4732     9.932             30      73.728681\n",
       "4      200405   96.8464    12.657             31     104.970107\n",
       "..        ...       ...       ...            ...            ...\n",
       "360    202312       NaN       NaN             31            NaN\n",
       "361    202312       NaN       NaN             31            NaN\n",
       "362    202312       NaN       NaN             31            NaN\n",
       "363    202312       NaN       NaN             31            NaN\n",
       "364    202312       NaN       NaN             31            NaN\n",
       "\n",
       "[1299 rows x 5 columns]"
      ]
     },
     "execution_count": 37,
     "metadata": {},
     "output_type": "execute_result"
    }
   ],
   "source": [
    "# Assuming your dataframe is named 'oensingen'\n",
    "# Create a new column for the number of days in each month\n",
    "oensingen['days_in_month'] = oensingen['TIMESTAMP'].astype(str).apply(get_days_in_month)\n",
    "\n",
    "# Calculate ET_[mm/month] using the calc_et_from_le_mm_month function\n",
    "oensingen['ET_[mm/month]'] = calc_et_from_le_mm_month(\n",
    "    oensingen['LE_F_MDS'],\n",
    "    oensingen['TA_F_MDS'],\n",
    "    oensingen['days_in_month']\n",
    ")\n",
    "\n",
    "oensingen[['TIMESTAMP', 'LE_F_MDS', 'TA_F_MDS', 'days_in_month', 'ET_[mm/month]']]"
   ]
  },
  {
   "cell_type": "code",
   "execution_count": 14,
   "metadata": {},
   "outputs": [],
   "source": [
    "# Define the coordinate (already in EPSG:4326)\n",
    "STATION_LAT = 47.286417\n",
    "STATION_LON = 7.733750\n",
    "\n",
    "def pandas_dataframe_to_ee_features(df: pd.DataFrame) -> List[ee.Feature]:\n",
    "    \"\"\"\n",
    "    Convert a pandas DataFrame to a list of Earth Engine Features.\n",
    "\n",
    "    Args:\n",
    "        df (pd.DataFrame): Input pandas DataFrame with TIMESTAMP and ET_[mm/month] columns.\n",
    "\n",
    "    Returns:\n",
    "        List[ee.Feature]: List of Earth Engine Features.\n",
    "    \"\"\"\n",
    "    features = []\n",
    "    for _, row in df.iterrows():\n",
    "        timestamp = str(row['TIMESTAMP'])\n",
    "        year = int(timestamp[:4])\n",
    "        month = int(timestamp[4:6])\n",
    "        date = f\"{year}-{month:02d}-01\"  # Convert YYYYMM to YYYY-MM-01\n",
    "        feature = ee.Feature(\n",
    "            ee.Geometry.Point([STATION_LON, STATION_LAT]),\n",
    "            {\n",
    "                \"date_[YYYYmmdd]\": date,\n",
    "                \"evapotranspiration_[mm/month]\": float(row['ET_[mm/month]']),\n",
    "                \"system:time_start\": ee.Date(date).millis(),\n",
    "            },\n",
    "        )\n",
    "        features.append(feature)\n",
    "    return features\n",
    "\n",
    "def create_ee_feature_collection(df: pd.DataFrame) -> ee.FeatureCollection:\n",
    "    \"\"\"\n",
    "    Create an Earth Engine FeatureCollection from a pandas DataFrame.\n",
    "\n",
    "    Args:\n",
    "        df (pd.DataFrame): Input pandas DataFrame with TIMESTAMP and ET_[mm/month] columns.\n",
    "\n",
    "    Returns:\n",
    "        ee.FeatureCollection: Earth Engine FeatureCollection containing the time series data.\n",
    "    \"\"\"\n",
    "    features = pandas_dataframe_to_ee_features(df)\n",
    "    return ee.FeatureCollection(features).sort(\"system:time_start\")"
   ]
  },
  {
   "cell_type": "code",
   "execution_count": 16,
   "metadata": {},
   "outputs": [
    {
     "data": {
      "text/plain": [
       "{'type': 'Feature',\n",
       " 'geometry': {'type': 'Point', 'coordinates': [7.73375, 47.286417]},\n",
       " 'id': '0',\n",
       " 'properties': {'date_[YYYYmmdd]': '2004-01-01',\n",
       "  'evapotranspiration_[mm/month]': 12.173487436520707,\n",
       "  'system:time_start': 1072915200000}}"
      ]
     },
     "execution_count": 16,
     "metadata": {},
     "output_type": "execute_result"
    }
   ],
   "source": [
    "fc = create_ee_feature_collection(oensingen)\n",
    "fc.first().getInfo()"
   ]
  },
  {
   "cell_type": "code",
   "execution_count": 18,
   "metadata": {},
   "outputs": [],
   "source": [
    "# Export the FeatureCollection to an Earth Engine asset\n",
    "task = ee.batch.Export.table.toAsset(\n",
    "    collection=fc,\n",
    "    description=\"evapotranspiration_timeseries_oesingen\",\n",
    "    assetId=\"projects/thurgau-irrigation/assets/Thurgau/ETFluxNet/ET_timeseries_oensingen_2004_2020\",\n",
    ")\n",
    "task.start()"
   ]
  },
  {
   "cell_type": "code",
   "execution_count": 20,
   "metadata": {},
   "outputs": [
    {
     "data": {
      "text/plain": [
       "204"
      ]
     },
     "execution_count": 20,
     "metadata": {},
     "output_type": "execute_result"
    }
   ],
   "source": [
    "point_fc = ee.FeatureCollection(\n",
    "    \"projects/thurgau-irrigation/assets/Thurgau/ETFluxNet/ET_timeseries_oensingen_2004_2020\"\n",
    ").sort(\"system:time_start\")\n",
    "\n",
    "# Print the first feature to verify\n",
    "point_fc.size().getInfo()"
   ]
  },
  {
   "cell_type": "code",
   "execution_count": null,
   "metadata": {},
   "outputs": [],
   "source": []
  }
 ],
 "metadata": {
  "kernelspec": {
   "display_name": "base",
   "language": "python",
   "name": "python3"
  },
  "language_info": {
   "codemirror_mode": {
    "name": "ipython",
    "version": 3
   },
   "file_extension": ".py",
   "mimetype": "text/x-python",
   "name": "python",
   "nbconvert_exporter": "python",
   "pygments_lexer": "ipython3",
   "version": "3.11.8"
  }
 },
 "nbformat": 4,
 "nbformat_minor": 2
}
