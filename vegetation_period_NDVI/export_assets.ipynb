{
 "cells": [
  {
   "cell_type": "code",
   "execution_count": 1,
   "metadata": {},
   "outputs": [],
   "source": [
    "import sys\n",
    "import os\n",
    "\n",
    "# Add the parent directory of 'vegetation-period-NDVI' to the sys.path\n",
    "sys.path.append(os.path.abspath(os.path.join('..')))\n"
   ]
  },
  {
   "cell_type": "code",
   "execution_count": 2,
   "metadata": {},
   "outputs": [],
   "source": [
    "import ee\n",
    "import geemap\n",
    "from vegetation_period_NDVI.time_series import extract_time_ranges, get_harmonic_ts\n",
    "from vegetation_period_extraction import (\n",
    "    get_crop_veg_period,\n",
    "    create_binary_ndvi_indicator,\n",
    "    create_binary_mask,\n",
    ")\n",
    "from typing import List"
   ]
  },
  {
   "cell_type": "code",
   "execution_count": 3,
   "metadata": {},
   "outputs": [
    {
     "data": {
      "text/html": [
       "\n",
       "            <style>\n",
       "                .geemap-dark {\n",
       "                    --jp-widgets-color: white;\n",
       "                    --jp-widgets-label-color: white;\n",
       "                    --jp-ui-font-color1: white;\n",
       "                    --jp-layout-color2: #454545;\n",
       "                    background-color: #383838;\n",
       "                }\n",
       "\n",
       "                .geemap-dark .jupyter-button {\n",
       "                    --jp-layout-color3: #383838;\n",
       "                }\n",
       "\n",
       "                .geemap-colab {\n",
       "                    background-color: var(--colab-primary-surface-color, white);\n",
       "                }\n",
       "\n",
       "                .geemap-colab .jupyter-button {\n",
       "                    --jp-layout-color3: var(--colab-primary-surface-color, white);\n",
       "                }\n",
       "            </style>\n",
       "            "
      ],
      "text/plain": [
       "<IPython.core.display.HTML object>"
      ]
     },
     "metadata": {},
     "output_type": "display_data"
    }
   ],
   "source": [
    "ee.Initialize(project=\"thurgau-irrigation\")"
   ]
  },
  {
   "cell_type": "markdown",
   "metadata": {},
   "source": [
    "## Exporting the vegetation period images as an asset to the project"
   ]
  },
  {
   "cell_type": "markdown",
   "metadata": {},
   "source": [
    "### Define the Area of Interest"
   ]
  },
  {
   "cell_type": "code",
   "execution_count": 4,
   "metadata": {},
   "outputs": [
    {
     "data": {
      "text/html": [
       "\n",
       "            <style>\n",
       "                .geemap-dark {\n",
       "                    --jp-widgets-color: white;\n",
       "                    --jp-widgets-label-color: white;\n",
       "                    --jp-ui-font-color1: white;\n",
       "                    --jp-layout-color2: #454545;\n",
       "                    background-color: #383838;\n",
       "                }\n",
       "\n",
       "                .geemap-dark .jupyter-button {\n",
       "                    --jp-layout-color3: #383838;\n",
       "                }\n",
       "\n",
       "                .geemap-colab {\n",
       "                    background-color: var(--colab-primary-surface-color, white);\n",
       "                }\n",
       "\n",
       "                .geemap-colab .jupyter-button {\n",
       "                    --jp-layout-color3: var(--colab-primary-surface-color, white);\n",
       "                }\n",
       "            </style>\n",
       "            "
      ],
      "text/plain": [
       "<IPython.core.display.HTML object>"
      ]
     },
     "metadata": {},
     "output_type": "display_data"
    }
   ],
   "source": [
    "cantonal_borders_asset = \"projects/thurgau-irrigation/assets/Thurgau/thrugau_borders_2024\"\n",
    "\n",
    "aoi_feature_collection = ee.FeatureCollection(cantonal_borders_asset)\n",
    "aoi_geometry = aoi_feature_collection.geometry()\n",
    "aoi_geometry = aoi_geometry.simplify(500)\n",
    "aoi_buffered = aoi_geometry.buffer(100)\n",
    "\n",
    "aoi_name = \"Thurgau\""
   ]
  },
  {
   "cell_type": "markdown",
   "metadata": {},
   "source": [
    "### Define the years of interest"
   ]
  },
  {
   "cell_type": "code",
   "execution_count": 5,
   "metadata": {},
   "outputs": [
    {
     "data": {
      "text/html": [
       "\n",
       "            <style>\n",
       "                .geemap-dark {\n",
       "                    --jp-widgets-color: white;\n",
       "                    --jp-widgets-label-color: white;\n",
       "                    --jp-ui-font-color1: white;\n",
       "                    --jp-layout-color2: #454545;\n",
       "                    background-color: #383838;\n",
       "                }\n",
       "\n",
       "                .geemap-dark .jupyter-button {\n",
       "                    --jp-layout-color3: #383838;\n",
       "                }\n",
       "\n",
       "                .geemap-colab {\n",
       "                    background-color: var(--colab-primary-surface-color, white);\n",
       "                }\n",
       "\n",
       "                .geemap-colab .jupyter-button {\n",
       "                    --jp-layout-color3: var(--colab-primary-surface-color, white);\n",
       "                }\n",
       "            </style>\n",
       "            "
      ],
      "text/plain": [
       "<IPython.core.display.HTML object>"
      ]
     },
     "metadata": {},
     "output_type": "display_data"
    }
   ],
   "source": [
    "years = [2018, 2019, 2020, 2021, 2022, 2023]"
   ]
  },
  {
   "cell_type": "markdown",
   "metadata": {},
   "source": [
    "### Export the Vegetation Periods images to the project assets"
   ]
  },
  {
   "cell_type": "code",
   "execution_count": 6,
   "metadata": {},
   "outputs": [
    {
     "data": {
      "text/html": [
       "\n",
       "            <style>\n",
       "                .geemap-dark {\n",
       "                    --jp-widgets-color: white;\n",
       "                    --jp-widgets-label-color: white;\n",
       "                    --jp-ui-font-color1: white;\n",
       "                    --jp-layout-color2: #454545;\n",
       "                    background-color: #383838;\n",
       "                }\n",
       "\n",
       "                .geemap-dark .jupyter-button {\n",
       "                    --jp-layout-color3: #383838;\n",
       "                }\n",
       "\n",
       "                .geemap-colab {\n",
       "                    background-color: var(--colab-primary-surface-color, white);\n",
       "                }\n",
       "\n",
       "                .geemap-colab .jupyter-button {\n",
       "                    --jp-layout-color3: var(--colab-primary-surface-color, white);\n",
       "                }\n",
       "            </style>\n",
       "            "
      ],
      "text/plain": [
       "<IPython.core.display.HTML object>"
      ]
     },
     "metadata": {},
     "output_type": "display_data"
    },
    {
     "name": "stdout",
     "output_type": "stream",
     "text": [
      "Processing year 2018\n",
      "Exporting Thurgau_crop_veg_period_2018 to projects/thurgau-irrigation/assets/Thurgau/vegetation_periods_2018-2023/crop_veg_period_2018\n",
      "Processing year 2019\n",
      "Exporting Thurgau_crop_veg_period_2019 to projects/thurgau-irrigation/assets/Thurgau/vegetation_periods_2018-2023/crop_veg_period_2019\n",
      "Processing year 2020\n",
      "Exporting Thurgau_crop_veg_period_2020 to projects/thurgau-irrigation/assets/Thurgau/vegetation_periods_2018-2023/crop_veg_period_2020\n",
      "Processing year 2021\n",
      "Exporting Thurgau_crop_veg_period_2021 to projects/thurgau-irrigation/assets/Thurgau/vegetation_periods_2018-2023/crop_veg_period_2021\n",
      "Processing year 2022\n",
      "Exporting Thurgau_crop_veg_period_2022 to projects/thurgau-irrigation/assets/Thurgau/vegetation_periods_2018-2023/crop_veg_period_2022\n",
      "Processing year 2023\n",
      "Exporting Thurgau_crop_veg_period_2023 to projects/thurgau-irrigation/assets/Thurgau/vegetation_periods_2018-2023/crop_veg_period_2023\n"
     ]
    }
   ],
   "source": [
    "for year in years:\n",
    "\n",
    "    print(f\"Processing year {year}\")\n",
    "\n",
    "    time_intervals = extract_time_ranges([f\"{year}-03-01\", f\"{year}-10-31\"], 15)\n",
    "\n",
    "    image_to_export = get_crop_veg_period(year, aoi_buffered, time_intervals)\n",
    "\n",
    "    task_name = f\"Thurgau_crop_veg_period_{year}\"\n",
    "    asset_id = f\"projects/thurgau-irrigation/assets/Thurgau/vegetation_periods_2018-2023/crop_veg_period_{year}\"\n",
    "\n",
    "    bands_to_export = [\n",
    "        \"firstStart\",\n",
    "        \"firstEnd\",\n",
    "        \"secondStart\",\n",
    "        \"secondEnd\",\n",
    "        \"isDoubleCropping\",\n",
    "    ]\n",
    "\n",
    "    image_to_export = image_to_export.select(bands_to_export)\n",
    "\n",
    "    task = ee.batch.Export.image.toAsset(\n",
    "        image=image_to_export,\n",
    "        description=task_name,\n",
    "        assetId=asset_id,\n",
    "        region=aoi_buffered,\n",
    "        scale=10,\n",
    "        maxPixels=1e13,\n",
    "    )\n",
    "\n",
    "    task.start()\n",
    "\n",
    "    print(f\"Exporting {task_name} to {asset_id}\")"
   ]
  },
  {
   "cell_type": "code",
   "execution_count": 9,
   "metadata": {},
   "outputs": [
    {
     "data": {
      "text/html": [
       "\n",
       "            <style>\n",
       "                .geemap-dark {\n",
       "                    --jp-widgets-color: white;\n",
       "                    --jp-widgets-label-color: white;\n",
       "                    --jp-ui-font-color1: white;\n",
       "                    --jp-layout-color2: #454545;\n",
       "                    background-color: #383838;\n",
       "                }\n",
       "\n",
       "                .geemap-dark .jupyter-button {\n",
       "                    --jp-layout-color3: #383838;\n",
       "                }\n",
       "\n",
       "                .geemap-colab {\n",
       "                    background-color: var(--colab-primary-surface-color, white);\n",
       "                }\n",
       "\n",
       "                .geemap-colab .jupyter-button {\n",
       "                    --jp-layout-color3: var(--colab-primary-surface-color, white);\n",
       "                }\n",
       "            </style>\n",
       "            "
      ],
      "text/plain": [
       "<IPython.core.display.HTML object>"
      ]
     },
     "metadata": {},
     "output_type": "display_data"
    },
    {
     "name": "stdout",
     "output_type": "stream",
     "text": [
      "111319.49079327357\n"
     ]
    }
   ],
   "source": [
    "print(image_to_export.projection().nominalScale().getInfo())"
   ]
  },
  {
   "cell_type": "code",
   "execution_count": 22,
   "metadata": {},
   "outputs": [
    {
     "data": {
      "text/html": [
       "\n",
       "            <style>\n",
       "                .geemap-dark {\n",
       "                    --jp-widgets-color: white;\n",
       "                    --jp-widgets-label-color: white;\n",
       "                    --jp-ui-font-color1: white;\n",
       "                    --jp-layout-color2: #454545;\n",
       "                    background-color: #383838;\n",
       "                }\n",
       "\n",
       "                .geemap-dark .jupyter-button {\n",
       "                    --jp-layout-color3: #383838;\n",
       "                }\n",
       "\n",
       "                .geemap-colab {\n",
       "                    background-color: var(--colab-primary-surface-color, white);\n",
       "                }\n",
       "\n",
       "                .geemap-colab .jupyter-button {\n",
       "                    --jp-layout-color3: var(--colab-primary-surface-color, white);\n",
       "                }\n",
       "            </style>\n",
       "            "
      ],
      "text/plain": [
       "<IPython.core.display.HTML object>"
      ]
     },
     "metadata": {},
     "output_type": "display_data"
    },
    {
     "data": {
      "application/vnd.jupyter.widget-view+json": {
       "model_id": "9145863515b548e3a5643c68002f0f90",
       "version_major": 2,
       "version_minor": 0
      },
      "text/plain": [
       "Map(center=[47.56889015656256, 9.093289767659495], controls=(WidgetControl(options=['position', 'transparent_b…"
      ]
     },
     "metadata": {},
     "output_type": "display_data"
    }
   ],
   "source": [
    "veg_2019 = ee.Image(\"projects/thurgau-irrigation/assets/Thurgau/VegetationPeriod/crop_veg_period_2018\")\n",
    "\n",
    "Map = geemap.Map()\n",
    "Map.centerObject(aoi_geometry, 10)\n",
    "options = {\n",
    "    \"bands\": [\"isDoubleCropping\"],\n",
    "    \"min\": 0,\n",
    "    \"max\": 1,\n",
    "    \"palette\": [\"blue\", \"red\"],\n",
    "}\n",
    "Map.addLayer(veg_2019, options, \"Crop Veg Period 2019\")\n",
    "\n",
    "Map"
   ]
  },
  {
   "cell_type": "markdown",
   "metadata": {},
   "source": [
    "## General Code Testing. Ignore this part"
   ]
  },
  {
   "cell_type": "code",
   "execution_count": 6,
   "metadata": {},
   "outputs": [
    {
     "data": {
      "text/html": [
       "\n",
       "            <style>\n",
       "                .geemap-dark {\n",
       "                    --jp-widgets-color: white;\n",
       "                    --jp-widgets-label-color: white;\n",
       "                    --jp-ui-font-color1: white;\n",
       "                    --jp-layout-color2: #454545;\n",
       "                    background-color: #383838;\n",
       "                }\n",
       "\n",
       "                .geemap-dark .jupyter-button {\n",
       "                    --jp-layout-color3: #383838;\n",
       "                }\n",
       "\n",
       "                .geemap-colab {\n",
       "                    background-color: var(--colab-primary-surface-color, white);\n",
       "                }\n",
       "\n",
       "                .geemap-colab .jupyter-button {\n",
       "                    --jp-layout-color3: var(--colab-primary-surface-color, white);\n",
       "                }\n",
       "            </style>\n",
       "            "
      ],
      "text/plain": [
       "<IPython.core.display.HTML object>"
      ]
     },
     "metadata": {},
     "output_type": "display_data"
    }
   ],
   "source": [
    "year = 2019\n",
    "\n",
    "# Define the time range for analysis\n",
    "start_date = f\"{year}-03-01\"\n",
    "end_date = f\"{year}-10-31\"\n",
    "\n",
    "# Create time intervals\n",
    "time_intervals = extract_time_ranges([start_date, end_date], 15)\n",
    "\n",
    "# Get the vegetation period estimation\n",
    "veg_period_image = get_crop_veg_period(year, aoi_buffered, time_intervals)"
   ]
  },
  {
   "cell_type": "code",
   "execution_count": null,
   "metadata": {},
   "outputs": [],
   "source": [
    "# type(veg_period_image)"
   ]
  },
  {
   "cell_type": "code",
   "execution_count": 7,
   "metadata": {},
   "outputs": [
    {
     "data": {
      "text/html": [
       "\n",
       "            <style>\n",
       "                .geemap-dark {\n",
       "                    --jp-widgets-color: white;\n",
       "                    --jp-widgets-label-color: white;\n",
       "                    --jp-ui-font-color1: white;\n",
       "                    --jp-layout-color2: #454545;\n",
       "                    background-color: #383838;\n",
       "                }\n",
       "\n",
       "                .geemap-dark .jupyter-button {\n",
       "                    --jp-layout-color3: #383838;\n",
       "                }\n",
       "\n",
       "                .geemap-colab {\n",
       "                    background-color: var(--colab-primary-surface-color, white);\n",
       "                }\n",
       "\n",
       "                .geemap-colab .jupyter-button {\n",
       "                    --jp-layout-color3: var(--colab-primary-surface-color, white);\n",
       "                }\n",
       "            </style>\n",
       "            "
      ],
      "text/plain": [
       "<IPython.core.display.HTML object>"
      ]
     },
     "metadata": {},
     "output_type": "display_data"
    },
    {
     "data": {
      "application/vnd.jupyter.widget-view+json": {
       "model_id": "bd7b8080f91a4751b217c0ec7cda491d",
       "version_major": 2,
       "version_minor": 0
      },
      "text/plain": [
       "Map(center=[0, 0], controls=(WidgetControl(options=['position', 'transparent_bg'], widget=SearchDataGUI(childr…"
      ]
     },
     "metadata": {},
     "output_type": "display_data"
    }
   ],
   "source": [
    "double_band = veg_period_image.select('isDoubleCropping')\n",
    "\n",
    "# Create a map\n",
    "Map = geemap.Map(zoom=10)\n",
    "Map.centerObject(aoi_buffered)\n",
    "# Add the 'double' band to the map\n",
    "Map.addLayer(double_band, {'min': 0, 'max': 2, 'palette': ['blue', 'green', 'red']}, 'Double Band')\n",
    "\n",
    "# Display the map\n",
    "Map"
   ]
  },
  {
   "cell_type": "code",
   "execution_count": null,
   "metadata": {},
   "outputs": [],
   "source": [
    "filtered_sentinel_data = get_harmonic_ts(year=year, aoi=aoi_buffered, time_intervals=time_intervals)"
   ]
  },
  {
   "cell_type": "code",
   "execution_count": null,
   "metadata": {},
   "outputs": [],
   "source": [
    "filtered_sentinel_data"
   ]
  },
  {
   "cell_type": "code",
   "execution_count": null,
   "metadata": {},
   "outputs": [],
   "source": [
    "Map = geemap.Map()\n",
    "\n",
    "\n",
    "# Add the layer to the map.\n",
    "ndvi_image = ee.Image(filtered_sentinel_data.get(\"fitted_data\").toList(99).get(7))\n",
    "Map.centerObject(aoi_buffered, 13)\n",
    "ndvi_params = {'bands': ['fitted'], 'min': 0, 'max': 1, 'palette': ['white', 'green']}\n",
    "Map.addLayer(ndvi_image, ndvi_params, 'NDVI FIRST', True)\n",
    "\n",
    "# Display the map.\n",
    "Map"
   ]
  },
  {
   "cell_type": "markdown",
   "metadata": {},
   "source": [
    "# Testing Downscaling script"
   ]
  },
  {
   "cell_type": "code",
   "execution_count": 10,
   "metadata": {},
   "outputs": [
    {
     "data": {
      "text/html": [
       "\n",
       "            <style>\n",
       "                .geemap-dark {\n",
       "                    --jp-widgets-color: white;\n",
       "                    --jp-widgets-label-color: white;\n",
       "                    --jp-ui-font-color1: white;\n",
       "                    --jp-layout-color2: #454545;\n",
       "                    background-color: #383838;\n",
       "                }\n",
       "\n",
       "                .geemap-dark .jupyter-button {\n",
       "                    --jp-layout-color3: #383838;\n",
       "                }\n",
       "\n",
       "                .geemap-colab {\n",
       "                    background-color: var(--colab-primary-surface-color, white);\n",
       "                }\n",
       "\n",
       "                .geemap-colab .jupyter-button {\n",
       "                    --jp-layout-color3: var(--colab-primary-surface-color, white);\n",
       "                }\n",
       "            </style>\n",
       "            "
      ],
      "text/plain": [
       "<IPython.core.display.HTML object>"
      ]
     },
     "metadata": {},
     "output_type": "display_data"
    },
    {
     "data": {
      "application/vnd.jupyter.widget-view+json": {
       "model_id": "170d77b9baed46faae4c23565f99d56c",
       "version_major": 2,
       "version_minor": 0
      },
      "text/plain": [
       "Map(center=[47.56858787382066, 9.092720596553875], controls=(WidgetControl(options=['position', 'transparent_b…"
      ]
     },
     "metadata": {},
     "output_type": "display_data"
    }
   ],
   "source": [
    "Map = geemap.Map()\n",
    "\n",
    "\n",
    "# Add the layer to the map.\n",
    "ndvi_image = ee.Image(harmonic_result.first())\n",
    "Map.centerObject(aoi_buffered, 13)\n",
    "ndvi_params = {'bands': ['B4']}\n",
    "Map.addLayer(ndvi_image, ndvi_params, 'B4 band', True)\n",
    "\n",
    "# Display the map.\n",
    "Map"
   ]
  }
 ],
 "metadata": {
  "kernelspec": {
   "display_name": "base",
   "language": "python",
   "name": "python3"
  },
  "language_info": {
   "codemirror_mode": {
    "name": "ipython",
    "version": 3
   },
   "file_extension": ".py",
   "mimetype": "text/x-python",
   "name": "python",
   "nbconvert_exporter": "python",
   "pygments_lexer": "ipython3",
   "version": "3.11.8"
  }
 },
 "nbformat": 4,
 "nbformat_minor": 2
}
