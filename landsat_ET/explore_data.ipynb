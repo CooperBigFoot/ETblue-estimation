{
 "cells": [
  {
   "cell_type": "code",
   "execution_count": 1,
   "metadata": {},
   "outputs": [],
   "source": [
    "import ee \n",
    "import geemap"
   ]
  },
  {
   "cell_type": "code",
   "execution_count": 2,
   "metadata": {},
   "outputs": [
    {
     "data": {
      "text/html": [
       "\n",
       "            <style>\n",
       "                .geemap-dark {\n",
       "                    --jp-widgets-color: white;\n",
       "                    --jp-widgets-label-color: white;\n",
       "                    --jp-ui-font-color1: white;\n",
       "                    --jp-layout-color2: #454545;\n",
       "                    background-color: #383838;\n",
       "                }\n",
       "\n",
       "                .geemap-dark .jupyter-button {\n",
       "                    --jp-layout-color3: #383838;\n",
       "                }\n",
       "\n",
       "                .geemap-colab {\n",
       "                    background-color: var(--colab-primary-surface-color, white);\n",
       "                }\n",
       "\n",
       "                .geemap-colab .jupyter-button {\n",
       "                    --jp-layout-color3: var(--colab-primary-surface-color, white);\n",
       "                }\n",
       "            </style>\n",
       "            "
      ],
      "text/plain": [
       "<IPython.core.display.HTML object>"
      ]
     },
     "metadata": {},
     "output_type": "display_data"
    }
   ],
   "source": [
    "ee.Initialize(project=\"thurgau-irrigation\")"
   ]
  },
  {
   "cell_type": "code",
   "execution_count": 28,
   "metadata": {},
   "outputs": [
    {
     "data": {
      "text/html": [
       "\n",
       "            <style>\n",
       "                .geemap-dark {\n",
       "                    --jp-widgets-color: white;\n",
       "                    --jp-widgets-label-color: white;\n",
       "                    --jp-ui-font-color1: white;\n",
       "                    --jp-layout-color2: #454545;\n",
       "                    background-color: #383838;\n",
       "                }\n",
       "\n",
       "                .geemap-dark .jupyter-button {\n",
       "                    --jp-layout-color3: #383838;\n",
       "                }\n",
       "\n",
       "                .geemap-colab {\n",
       "                    background-color: var(--colab-primary-surface-color, white);\n",
       "                }\n",
       "\n",
       "                .geemap-colab .jupyter-button {\n",
       "                    --jp-layout-color3: var(--colab-primary-surface-color, white);\n",
       "                }\n",
       "            </style>\n",
       "            "
      ],
      "text/plain": [
       "<IPython.core.display.HTML object>"
      ]
     },
     "metadata": {},
     "output_type": "display_data"
    }
   ],
   "source": [
    "ET_landsat_cantons = ee.ImageCollection(\"projects/thurgau-irrigation/assets/ETlandsatmonthly\")"
   ]
  },
  {
   "cell_type": "code",
   "execution_count": 44,
   "metadata": {},
   "outputs": [
    {
     "data": {
      "text/html": [
       "\n",
       "            <style>\n",
       "                .geemap-dark {\n",
       "                    --jp-widgets-color: white;\n",
       "                    --jp-widgets-label-color: white;\n",
       "                    --jp-ui-font-color1: white;\n",
       "                    --jp-layout-color2: #454545;\n",
       "                    background-color: #383838;\n",
       "                }\n",
       "\n",
       "                .geemap-dark .jupyter-button {\n",
       "                    --jp-layout-color3: #383838;\n",
       "                }\n",
       "\n",
       "                .geemap-colab {\n",
       "                    background-color: var(--colab-primary-surface-color, white);\n",
       "                }\n",
       "\n",
       "                .geemap-colab .jupyter-button {\n",
       "                    --jp-layout-color3: var(--colab-primary-surface-color, white);\n",
       "                }\n",
       "            </style>\n",
       "            "
      ],
      "text/plain": [
       "<IPython.core.display.HTML object>"
      ]
     },
     "metadata": {},
     "output_type": "display_data"
    },
    {
     "data": {
      "text/plain": [
       "['system:time_start',\n",
       " 'SENSING_TIME',\n",
       " 'system:footprint',\n",
       " 'system:version',\n",
       " 'system:id',\n",
       " 'system:asset_size',\n",
       " 'NAME_1',\n",
       " 'system:index',\n",
       " 'system:bands',\n",
       " 'system:band_names']"
      ]
     },
     "execution_count": 44,
     "metadata": {},
     "output_type": "execute_result"
    }
   ],
   "source": [
    "# ee.Image(ET_landsat_cantons.toList(81).get(78)).date()\n",
    "\n",
    "ET_landsat_cantons.first().propertyNames().getInfo()"
   ]
  },
  {
   "cell_type": "code",
   "execution_count": 42,
   "metadata": {},
   "outputs": [
    {
     "data": {
      "text/html": [
       "\n",
       "            <style>\n",
       "                .geemap-dark {\n",
       "                    --jp-widgets-color: white;\n",
       "                    --jp-widgets-label-color: white;\n",
       "                    --jp-ui-font-color1: white;\n",
       "                    --jp-layout-color2: #454545;\n",
       "                    background-color: #383838;\n",
       "                }\n",
       "\n",
       "                .geemap-dark .jupyter-button {\n",
       "                    --jp-layout-color3: #383838;\n",
       "                }\n",
       "\n",
       "                .geemap-colab {\n",
       "                    background-color: var(--colab-primary-surface-color, white);\n",
       "                }\n",
       "\n",
       "                .geemap-colab .jupyter-button {\n",
       "                    --jp-layout-color3: var(--colab-primary-surface-color, white);\n",
       "                }\n",
       "            </style>\n",
       "            "
      ],
      "text/plain": [
       "<IPython.core.display.HTML object>"
      ]
     },
     "metadata": {},
     "output_type": "display_data"
    },
    {
     "data": {
      "application/vnd.jupyter.widget-view+json": {
       "model_id": "fafe2094137f420d922ef0d180296ae7",
       "version_major": 2,
       "version_minor": 0
      },
      "text/plain": [
       "Map(center=[47.286417, 7.733750000000001], controls=(WidgetControl(options=['position', 'transparent_bg'], wid…"
      ]
     },
     "metadata": {},
     "output_type": "display_data"
    }
   ],
   "source": [
    "# point espg 4326:\n",
    "STATION_LAT = 47.286417\n",
    "STATION_LON = 7.733750\n",
    "\n",
    "point = ee.Geometry.Point(STATION_LON, STATION_LAT)\n",
    "\n",
    "Map = geemap.Map()\n",
    "Map.centerObject(point, 12)\n",
    "Map.addLayer(\n",
    "    ee.Image(ET_landsat_cantons.toList(81).get(80)),\n",
    "    {\"bands\": [\"ET\"], \"min\": 0, \"max\": 10, \"palette\": [\"blue\", \"green\", \"yellow\", \"red\"]},\n",
    "    \"ET Landsat Merged\",\n",
    ")\n",
    "Map.addLayer(point, {\"color\": \"pink\"}, \"Station\")\n",
    "Map"
   ]
  },
  {
   "cell_type": "code",
   "execution_count": null,
   "metadata": {},
   "outputs": [],
   "source": []
  },
  {
   "cell_type": "code",
   "execution_count": 45,
   "metadata": {},
   "outputs": [
    {
     "data": {
      "text/html": [
       "\n",
       "            <style>\n",
       "                .geemap-dark {\n",
       "                    --jp-widgets-color: white;\n",
       "                    --jp-widgets-label-color: white;\n",
       "                    --jp-ui-font-color1: white;\n",
       "                    --jp-layout-color2: #454545;\n",
       "                    background-color: #383838;\n",
       "                }\n",
       "\n",
       "                .geemap-dark .jupyter-button {\n",
       "                    --jp-layout-color3: #383838;\n",
       "                }\n",
       "\n",
       "                .geemap-colab {\n",
       "                    background-color: var(--colab-primary-surface-color, white);\n",
       "                }\n",
       "\n",
       "                .geemap-colab .jupyter-button {\n",
       "                    --jp-layout-color3: var(--colab-primary-surface-color, white);\n",
       "                }\n",
       "            </style>\n",
       "            "
      ],
      "text/plain": [
       "<IPython.core.display.HTML object>"
      ]
     },
     "metadata": {},
     "output_type": "display_data"
    }
   ],
   "source": [
    "def print_collection_dates(collection: ee.ImageCollection) -> None:\n",
    "    \"\"\"\n",
    "    Print the dates of all images in an ImageCollection.\n",
    "\n",
    "    Args:\n",
    "        collection (ee.ImageCollection): The input image collection.\n",
    "\n",
    "    Returns:\n",
    "        None: This function prints the dates to the console.\n",
    "    \"\"\"\n",
    "    # Get a list of all image dates\n",
    "    dates = collection.aggregate_array('system:time_start')\n",
    "    \n",
    "    # Convert to ee.Date objects and format as strings\n",
    "    formatted_dates = dates.map(lambda d: ee.Date(d).format('YYYY-MM-dd'))\n",
    "    \n",
    "    # Get the list of formatted dates\n",
    "    date_list = formatted_dates.getInfo()\n",
    "    \n",
    "    print(\"Dates of images in the collection:\")\n",
    "    for date in date_list:\n",
    "        print(date)"
   ]
  },
  {
   "cell_type": "code",
   "execution_count": 46,
   "metadata": {},
   "outputs": [
    {
     "data": {
      "text/html": [
       "\n",
       "            <style>\n",
       "                .geemap-dark {\n",
       "                    --jp-widgets-color: white;\n",
       "                    --jp-widgets-label-color: white;\n",
       "                    --jp-ui-font-color1: white;\n",
       "                    --jp-layout-color2: #454545;\n",
       "                    background-color: #383838;\n",
       "                }\n",
       "\n",
       "                .geemap-dark .jupyter-button {\n",
       "                    --jp-layout-color3: #383838;\n",
       "                }\n",
       "\n",
       "                .geemap-colab {\n",
       "                    background-color: var(--colab-primary-surface-color, white);\n",
       "                }\n",
       "\n",
       "                .geemap-colab .jupyter-button {\n",
       "                    --jp-layout-color3: var(--colab-primary-surface-color, white);\n",
       "                }\n",
       "            </style>\n",
       "            "
      ],
      "text/plain": [
       "<IPython.core.display.HTML object>"
      ]
     },
     "metadata": {},
     "output_type": "display_data"
    },
    {
     "name": "stdout",
     "output_type": "stream",
     "text": [
      "Dates of images in the collection:\n",
      "2017-01-17\n",
      "2017-02-15\n",
      "2017-03-17\n",
      "2017-04-16\n",
      "2017-05-17\n",
      "2017-06-16\n",
      "2017-07-17\n",
      "2017-08-17\n",
      "2017-09-16\n",
      "2017-10-17\n",
      "2017-11-16\n",
      "2017-12-17\n",
      "2018-01-17\n",
      "2018-02-15\n",
      "2018-03-17\n",
      "2018-04-16\n",
      "2018-05-17\n",
      "2018-06-16\n",
      "2018-07-17\n",
      "2018-08-17\n",
      "2018-09-16\n",
      "2018-10-17\n",
      "2018-11-16\n",
      "2018-12-17\n",
      "2019-01-17\n",
      "2019-02-15\n",
      "2019-03-17\n",
      "2019-04-16\n",
      "2019-05-17\n",
      "2019-06-16\n",
      "2019-07-17\n",
      "2019-08-17\n",
      "2019-09-16\n",
      "2019-10-17\n",
      "2019-11-16\n",
      "2019-12-17\n",
      "2020-01-17\n",
      "2020-02-16\n",
      "2020-03-17\n",
      "2020-04-16\n",
      "2020-05-17\n",
      "2020-06-16\n",
      "2020-07-17\n",
      "2020-08-17\n",
      "2020-09-16\n",
      "2020-10-17\n",
      "2020-11-16\n",
      "2020-12-17\n",
      "2021-01-17\n",
      "2021-02-15\n",
      "2021-03-17\n",
      "2021-04-16\n",
      "2021-05-17\n",
      "2021-06-16\n",
      "2021-07-17\n",
      "2021-08-17\n",
      "2021-09-16\n",
      "2021-10-17\n",
      "2021-11-16\n",
      "2021-12-17\n",
      "2022-01-17\n",
      "2022-02-15\n",
      "2022-03-17\n",
      "2022-04-16\n",
      "2022-05-17\n",
      "2022-06-16\n",
      "2022-07-17\n",
      "2022-08-17\n",
      "2022-09-16\n",
      "2022-10-17\n",
      "2022-11-16\n",
      "2022-12-17\n",
      "2023-01-17\n",
      "2023-02-15\n",
      "2023-03-17\n",
      "2023-04-16\n",
      "2023-05-17\n",
      "2023-06-16\n",
      "2023-07-17\n",
      "2023-08-17\n",
      "2023-09-16\n"
     ]
    }
   ],
   "source": [
    "print_collection_dates(ET_landsat_cantons)"
   ]
  },
  {
   "cell_type": "code",
   "execution_count": null,
   "metadata": {},
   "outputs": [],
   "source": []
  },
  {
   "cell_type": "code",
   "execution_count": null,
   "metadata": {},
   "outputs": [],
   "source": []
  },
  {
   "cell_type": "code",
   "execution_count": null,
   "metadata": {},
   "outputs": [],
   "source": []
  }
 ],
 "metadata": {
  "kernelspec": {
   "display_name": "base",
   "language": "python",
   "name": "python3"
  },
  "language_info": {
   "codemirror_mode": {
    "name": "ipython",
    "version": 3
   },
   "file_extension": ".py",
   "mimetype": "text/x-python",
   "name": "python",
   "nbconvert_exporter": "python",
   "pygments_lexer": "ipython3",
   "version": "3.11.8"
  }
 },
 "nbformat": 4,
 "nbformat_minor": 2
}
